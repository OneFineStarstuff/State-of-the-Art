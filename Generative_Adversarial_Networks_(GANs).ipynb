{
  "nbformat": 4,
  "nbformat_minor": 0,
  "metadata": {
    "colab": {
      "private_outputs": true,
      "provenance": [],
      "authorship_tag": "ABX9TyP0lbtR5cTzsqLGanAIP2+n",
      "include_colab_link": true
    },
    "kernelspec": {
      "name": "python3",
      "display_name": "Python 3"
    },
    "language_info": {
      "name": "python"
    }
  },
  "cells": [
    {
      "cell_type": "markdown",
      "metadata": {
        "id": "view-in-github",
        "colab_type": "text"
      },
      "source": [
        "<a href=\"https://colab.research.google.com/github/OneFineStarstuff/State-of-the-Art/blob/main/Generative_Adversarial_Networks_(GANs).ipynb\" target=\"_parent\"><img src=\"https://colab.research.google.com/assets/colab-badge.svg\" alt=\"Open In Colab\"/></a>"
      ]
    },
    {
      "cell_type": "code",
      "execution_count": null,
      "metadata": {
        "id": "Ywqz90hOH18k"
      },
      "outputs": [],
      "source": [
        "import torch\n",
        "import torch.nn as nn\n",
        "import torch.optim as optim\n",
        "from torchvision import datasets, transforms\n",
        "from torch.utils.data import DataLoader\n",
        "\n",
        "# Define the Generator class\n",
        "class Generator(nn.Module):\n",
        "    def __init__(self, latent_dim, output_dim):\n",
        "        super(Generator, self).__init__()\n",
        "        self.fc = nn.Sequential(\n",
        "            nn.Linear(latent_dim, 128),  # First fully connected layer\n",
        "            nn.ReLU(),  # ReLU activation\n",
        "            nn.Linear(128, output_dim),  # Second fully connected layer\n",
        "            nn.Tanh()  # Tanh activation\n",
        "        )\n",
        "\n",
        "    def forward(self, z):\n",
        "        return self.fc(z)  # Forward pass\n",
        "\n",
        "# Define the Discriminator class\n",
        "class Discriminator(nn.Module):\n",
        "    def __init__(self, input_dim):\n",
        "        super(Discriminator, self).__init__()\n",
        "        self.fc = nn.Sequential(\n",
        "            nn.Linear(input_dim, 128),  # First fully connected layer\n",
        "            nn.ReLU(),  # ReLU activation\n",
        "            nn.Linear(128, 1),  # Second fully connected layer\n",
        "            nn.Sigmoid()  # Sigmoid activation\n",
        "        )\n",
        "\n",
        "    def forward(self, x):\n",
        "        return self.fc(x)  # Forward pass\n",
        "\n",
        "# Define the train_gan function\n",
        "def train_gan(generator, discriminator, dataloader, epochs, latent_dim):\n",
        "    criterion = nn.BCELoss()  # Binary Cross-Entropy loss\n",
        "    g_optimizer = optim.Adam(generator.parameters(), lr=0.0002)  # Optimizer for the generator\n",
        "    d_optimizer = optim.Adam(discriminator.parameters(), lr=0.0002)  # Optimizer for the discriminator\n",
        "\n",
        "    for epoch in range(epochs):\n",
        "        for real_data, _ in dataloader:\n",
        "            real_data = real_data.view(real_data.size(0), -1)  # Flatten the images\n",
        "            # Train Discriminator\n",
        "            d_optimizer.zero_grad()\n",
        "            real_labels = torch.ones(real_data.size(0), 1)  # Labels for real data\n",
        "            fake_labels = torch.zeros(real_data.size(0), 1)  # Labels for fake data\n",
        "            real_output = discriminator(real_data)  # Discriminator output for real data\n",
        "            d_loss_real = criterion(real_output, real_labels)  # Loss for real data\n",
        "\n",
        "            z = torch.randn(real_data.size(0), latent_dim)  # Random noise for generating fake data\n",
        "            fake_data = generator(z)  # Generate fake data\n",
        "            fake_output = discriminator(fake_data.detach())  # Discriminator output for fake data\n",
        "            d_loss_fake = criterion(fake_output, fake_labels)  # Loss for fake data\n",
        "\n",
        "            d_loss = d_loss_real + d_loss_fake  # Total loss for the discriminator\n",
        "            d_loss.backward()  # Backpropagate the loss\n",
        "            d_optimizer.step()  # Update the discriminator\n",
        "\n",
        "            # Train Generator\n",
        "            g_optimizer.zero_grad()\n",
        "            z = torch.randn(real_data.size(0), latent_dim)  # Random noise for generating fake data\n",
        "            fake_data = generator(z)  # Generate fake data\n",
        "            fake_output = discriminator(fake_data)  # Discriminator output for fake data\n",
        "            g_loss = criterion(fake_output, real_labels)  # Generator loss (goal is to fool the discriminator)\n",
        "\n",
        "            g_loss.backward()  # Backpropagate the loss\n",
        "            g_optimizer.step()  # Update the generator\n",
        "\n",
        "        print(f'Epoch [{epoch + 1}/{epochs}] | D Loss: {d_loss.item():.4f} | G Loss: {g_loss.item():.4f}')\n",
        "\n",
        "# Example usage\n",
        "latent_dim = 100\n",
        "generator = Generator(latent_dim=latent_dim, output_dim=784)\n",
        "discriminator = Discriminator(input_dim=784)\n",
        "\n",
        "# Define the transformation for the dataset\n",
        "transform = transforms.Compose([\n",
        "    transforms.ToTensor(),\n",
        "    transforms.Normalize((0.5,), (0.5,))\n",
        "])\n",
        "\n",
        "# Load the MNIST dataset\n",
        "dataset = datasets.MNIST(root='mnist_data', train=True, transform=transform, download=True)\n",
        "dataloader = DataLoader(dataset, batch_size=64, shuffle=True)\n",
        "\n",
        "# Train the GAN\n",
        "train_gan(generator, discriminator, dataloader, epochs=20, latent_dim=latent_dim)"
      ]
    }
  ]
}