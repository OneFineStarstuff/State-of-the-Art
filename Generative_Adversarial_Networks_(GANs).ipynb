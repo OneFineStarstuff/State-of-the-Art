{
  "nbformat": 4,
  "nbformat_minor": 0,
  "metadata": {
    "colab": {
      "private_outputs": true,
      "provenance": [],
      "authorship_tag": "ABX9TyOKIQoZbkoUekV1ro4WieVP",
      "include_colab_link": true
    },
    "kernelspec": {
      "name": "python3",
      "display_name": "Python 3"
    },
    "language_info": {
      "name": "python"
    }
  },
  "cells": [
    {
      "cell_type": "markdown",
      "metadata": {
        "id": "view-in-github",
        "colab_type": "text"
      },
      "source": [
        "<a href=\"https://colab.research.google.com/github/OneFineStarstuff/State-of-the-Art/blob/main/Generative_Adversarial_Networks_(GANs).ipynb\" target=\"_parent\"><img src=\"https://colab.research.google.com/assets/colab-badge.svg\" alt=\"Open In Colab\"/></a>"
      ]
    },
    {
      "cell_type": "code",
      "execution_count": null,
      "metadata": {
        "id": "QRHbuclA9Dux"
      },
      "outputs": [],
      "source": [
        "import torch\n",
        "import torch.nn as nn\n",
        "import torch.optim as optim\n",
        "import torch.nn.functional as F\n",
        "\n",
        "class Generator(nn.Module):\n",
        "    def __init__(self):\n",
        "        super(Generator, self).__init__()\n",
        "        self.fc = nn.Sequential(\n",
        "            nn.Linear(100, 256),\n",
        "            nn.ReLU(),\n",
        "            nn.Linear(256, 512),\n",
        "            nn.ReLU(),\n",
        "            nn.Linear(512, 784),\n",
        "            nn.Tanh()\n",
        "        )\n",
        "\n",
        "    def forward(self, x):\n",
        "        return self.fc(x)\n",
        "\n",
        "class Discriminator(nn.Module):\n",
        "    def __init__(self):\n",
        "        super(Discriminator, self).__init__()\n",
        "        self.fc = nn.Sequential(\n",
        "            nn.Linear(784, 512),\n",
        "            nn.LeakyReLU(0.2),\n",
        "            nn.Linear(512, 256),\n",
        "            nn.LeakyReLU(0.2),\n",
        "            nn.Linear(256, 1),\n",
        "            nn.Sigmoid()\n",
        "        )\n",
        "\n",
        "    def forward(self, x):\n",
        "        return self.fc(x)\n",
        "\n",
        "def train_gan(generator, discriminator, data_loader, num_epochs=50):\n",
        "    criterion = nn.BCELoss()\n",
        "    optim_g = optim.Adam(generator.parameters(), lr=0.0002, betas=(0.5, 0.999))\n",
        "    optim_d = optim.Adam(discriminator.parameters(), lr=0.0002, betas=(0.5, 0.999))\n",
        "\n",
        "    for epoch in range(num_epochs):\n",
        "        for real_images, _ in data_loader:\n",
        "            # Train discriminator with real images\n",
        "            real_labels = torch.ones(real_images.size(0), 1)\n",
        "            fake_labels = torch.zeros(real_images.size(0), 1)\n",
        "\n",
        "            optim_d.zero_grad()\n",
        "            outputs = discriminator(real_images.view(-1, 784))\n",
        "            loss_real = criterion(outputs, real_labels)\n",
        "\n",
        "            # Train discriminator with fake images\n",
        "            noise = torch.randn(real_images.size(0), 100)\n",
        "            fake_images = generator(noise)\n",
        "            outputs = discriminator(fake_images.detach())\n",
        "            loss_fake = criterion(outputs, fake_labels)\n",
        "\n",
        "            loss_d = loss_real + loss_fake\n",
        "            loss_d.backward()\n",
        "            optim_d.step()\n",
        "\n",
        "            # Train generator\n",
        "            optim_g.zero_grad()\n",
        "            outputs = discriminator(fake_images)\n",
        "            loss_g = criterion(outputs, real_labels)\n",
        "            loss_g.backward()\n",
        "            optim_g.step()\n",
        "\n",
        "        print(f'Epoch [{epoch+1}/{num_epochs}], Loss D: {loss_d.item()}, Loss G: {loss_g.item()}')\n",
        "\n",
        "# Example with random data (replace with MNIST for real-world usage)\n",
        "from torch.utils.data import DataLoader, TensorDataset\n",
        "\n",
        "data = torch.randn(1000, 784)  # Random dataset for demonstration\n",
        "dataset = TensorDataset(data, data)\n",
        "data_loader = DataLoader(dataset, batch_size=64, shuffle=True)\n",
        "\n",
        "generator = Generator()\n",
        "discriminator = Discriminator()\n",
        "\n",
        "train_gan(generator, discriminator, data_loader)"
      ]
    }
  ]
}