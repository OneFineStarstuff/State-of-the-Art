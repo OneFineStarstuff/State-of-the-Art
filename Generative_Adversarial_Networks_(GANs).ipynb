{
  "nbformat": 4,
  "nbformat_minor": 0,
  "metadata": {
    "colab": {
      "private_outputs": true,
      "provenance": [],
      "authorship_tag": "ABX9TyMmsGVWzRDqIwVnep4onvZF",
      "include_colab_link": true
    },
    "kernelspec": {
      "name": "python3",
      "display_name": "Python 3"
    },
    "language_info": {
      "name": "python"
    }
  },
  "cells": [
    {
      "cell_type": "markdown",
      "metadata": {
        "id": "view-in-github",
        "colab_type": "text"
      },
      "source": [
        "<a href=\"https://colab.research.google.com/github/OneFineStarstuff/State-of-the-Art/blob/main/Generative_Adversarial_Networks_(GANs).ipynb\" target=\"_parent\"><img src=\"https://colab.research.google.com/assets/colab-badge.svg\" alt=\"Open In Colab\"/></a>"
      ]
    },
    {
      "cell_type": "code",
      "execution_count": null,
      "metadata": {
        "id": "saRXHp5kNzp-"
      },
      "outputs": [],
      "source": [
        "import torch\n",
        "import torch.nn as nn\n",
        "import torch.optim as optim\n",
        "\n",
        "# Define the generator\n",
        "class Generator(nn.Module):\n",
        "    def __init__(self, noise_dim, output_dim):\n",
        "        super(Generator, self).__init__()\n",
        "        self.model = nn.Sequential(\n",
        "            nn.Linear(noise_dim, 256),\n",
        "            nn.ReLU(),\n",
        "            nn.Linear(256, output_dim),\n",
        "            nn.Tanh()\n",
        "        )\n",
        "\n",
        "    def forward(self, x):\n",
        "        return self.model(x)\n",
        "\n",
        "# Define the discriminator\n",
        "class Discriminator(nn.Module):\n",
        "    def __init__(self, input_dim):\n",
        "        super(Discriminator, self).__init__()\n",
        "        self.model = nn.Sequential(\n",
        "            nn.Linear(input_dim, 256),\n",
        "            nn.LeakyReLU(0.2),\n",
        "            nn.Linear(256, 1),\n",
        "            nn.Sigmoid()\n",
        "        )\n",
        "\n",
        "    def forward(self, x):\n",
        "        return self.model(x)\n",
        "\n",
        "# Instantiate models, optimizers, and loss function\n",
        "noise_dim = 100\n",
        "data_dim = 28 * 28\n",
        "generator = Generator(noise_dim, data_dim)\n",
        "discriminator = Discriminator(data_dim)\n",
        "optimizer_G = optim.Adam(generator.parameters(), lr=0.0002)\n",
        "optimizer_D = optim.Adam(discriminator.parameters(), lr=0.0002)\n",
        "criterion = nn.BCELoss()\n",
        "\n",
        "# Training loop\n",
        "for epoch in range(10000):\n",
        "    real_data = torch.rand(64, data_dim)\n",
        "    noise = torch.rand(64, noise_dim)\n",
        "    fake_data = generator(noise)\n",
        "\n",
        "    # Train discriminator\n",
        "    real_labels = torch.ones(64, 1)\n",
        "    fake_labels = torch.zeros(64, 1)\n",
        "    optimizer_D.zero_grad()\n",
        "    output_real = discriminator(real_data)\n",
        "    loss_real = criterion(output_real, real_labels)\n",
        "    output_fake = discriminator(fake_data.detach())\n",
        "    loss_fake = criterion(output_fake, fake_labels)\n",
        "    loss_D = loss_real + loss_fake\n",
        "    loss_D.backward()\n",
        "    optimizer_D.step()\n",
        "\n",
        "    # Train generator\n",
        "    optimizer_G.zero_grad()\n",
        "    output_fake = discriminator(fake_data)\n",
        "    loss_G = criterion(output_fake, real_labels)\n",
        "    loss_G.backward()\n",
        "    optimizer_G.step()\n",
        "\n",
        "    if epoch % 1000 == 0:\n",
        "        print(f\"Epoch {epoch}, Loss D: {loss_D.item()}, Loss G: {loss_G.item()}\")"
      ]
    }
  ]
}