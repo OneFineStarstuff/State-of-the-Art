{
  "nbformat": 4,
  "nbformat_minor": 0,
  "metadata": {
    "colab": {
      "private_outputs": true,
      "provenance": [],
      "authorship_tag": "ABX9TyO4GUM53l7F/q+hlHOMOvu3",
      "include_colab_link": true
    },
    "kernelspec": {
      "name": "python3",
      "display_name": "Python 3"
    },
    "language_info": {
      "name": "python"
    }
  },
  "cells": [
    {
      "cell_type": "markdown",
      "metadata": {
        "id": "view-in-github",
        "colab_type": "text"
      },
      "source": [
        "<a href=\"https://colab.research.google.com/github/OneFineStarstuff/State-of-the-Art/blob/main/Generative_Adversarial_Networks_(GANs).ipynb\" target=\"_parent\"><img src=\"https://colab.research.google.com/assets/colab-badge.svg\" alt=\"Open In Colab\"/></a>"
      ]
    },
    {
      "cell_type": "code",
      "execution_count": null,
      "metadata": {
        "id": "ZTs-4AQRIuIt"
      },
      "outputs": [],
      "source": [
        "import torch\n",
        "import torch.nn as nn\n",
        "import torch.optim as optim\n",
        "\n",
        "class Generator(nn.Module):\n",
        "    def __init__(self, input_dim, output_dim):\n",
        "        super(Generator, self).__init__()\n",
        "        self.net = nn.Sequential(\n",
        "            nn.Linear(input_dim, 256),\n",
        "            nn.ReLU(),\n",
        "            nn.Linear(256, output_dim),\n",
        "            nn.Tanh()\n",
        "        )\n",
        "\n",
        "    def forward(self, x):\n",
        "        return self.net(x)\n",
        "\n",
        "class Discriminator(nn.Module):\n",
        "    def __init__(self, input_dim):\n",
        "        super(Discriminator, self).__init__()\n",
        "        self.net = nn.Sequential(\n",
        "            nn.Linear(input_dim, 256),\n",
        "            nn.ReLU(),\n",
        "            nn.Linear(256, 1),\n",
        "            nn.Sigmoid()\n",
        "        )\n",
        "\n",
        "    def forward(self, x):\n",
        "        return self.net(x)\n",
        "\n",
        "z_dim = 100\n",
        "img_dim = 28 * 28  # MNIST images flattened\n",
        "\n",
        "generator = Generator(z_dim, img_dim)  # Removed .to('cuda')\n",
        "discriminator = Discriminator(img_dim)  # Removed .to('cuda')\n",
        "optimizer_G = optim.Adam(generator.parameters(), lr=1e-3)\n",
        "optimizer_D = optim.Adam(discriminator.parameters(), lr=1e-3)\n",
        "criterion = nn.BCELoss()\n",
        "\n",
        "for epoch in range(50):\n",
        "    # Training Discriminator\n",
        "    real_imgs = torch.rand(32, img_dim)  # Removed .to('cuda')\n",
        "    fake_imgs = generator(torch.rand(32, z_dim)).detach()  # Removed .to('cuda')\n",
        "    real_labels = torch.ones(32, 1)  # Removed .to('cuda')\n",
        "    fake_labels = torch.zeros(32, 1)  # Removed .to('cuda')\n",
        "\n",
        "    optimizer_D.zero_grad()\n",
        "    loss_D_real = criterion(discriminator(real_imgs), real_labels)\n",
        "    loss_D_fake = criterion(discriminator(fake_imgs), fake_labels)\n",
        "    loss_D = loss_D_real + loss_D_fake\n",
        "    loss_D.backward()\n",
        "    optimizer_D.step()\n",
        "\n",
        "    # Training Generator\n",
        "    optimizer_G.zero_grad()\n",
        "    fake_imgs = generator(torch.rand(32, z_dim))  # Removed .to('cuda')\n",
        "    loss_G = criterion(discriminator(fake_imgs), real_labels)\n",
        "    loss_G.backward()\n",
        "    optimizer_G.step()\n",
        "\n",
        "    print(f\"Epoch {epoch+1}, Loss D: {loss_D.item()}, Loss G: {loss_G.item()}\")"
      ]
    }
  ]
}