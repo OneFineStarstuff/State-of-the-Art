{
  "nbformat": 4,
  "nbformat_minor": 0,
  "metadata": {
    "colab": {
      "private_outputs": true,
      "provenance": [],
      "authorship_tag": "ABX9TyMnpNCgtSPSs+Vdj1jb6vc4",
      "include_colab_link": true
    },
    "kernelspec": {
      "name": "python3",
      "display_name": "Python 3"
    },
    "language_info": {
      "name": "python"
    }
  },
  "cells": [
    {
      "cell_type": "markdown",
      "metadata": {
        "id": "view-in-github",
        "colab_type": "text"
      },
      "source": [
        "<a href=\"https://colab.research.google.com/github/OneFineStarstuff/State-of-the-Art/blob/main/Generative_Adversarial_Networks_(GANs).ipynb\" target=\"_parent\"><img src=\"https://colab.research.google.com/assets/colab-badge.svg\" alt=\"Open In Colab\"/></a>"
      ]
    },
    {
      "cell_type": "code",
      "execution_count": null,
      "metadata": {
        "id": "nFMsvZ-NlBO-"
      },
      "outputs": [],
      "source": [
        "import torch\n",
        "import torch.nn as nn\n",
        "import torch.optim as optim\n",
        "\n",
        "class Generator(nn.Module):\n",
        "    def __init__(self, input_dim, output_dim):\n",
        "        super(Generator, self).__init__()\n",
        "        self.fc = nn.Sequential(\n",
        "            nn.Linear(input_dim, 128),\n",
        "            nn.ReLU(),\n",
        "            nn.Linear(128, output_dim),\n",
        "            nn.Tanh()\n",
        "        )\n",
        "\n",
        "    def forward(self, x):\n",
        "        return self.fc(x)\n",
        "\n",
        "class Discriminator(nn.Module):\n",
        "    def __init__(self, input_dim):\n",
        "        super(Discriminator, self).__init__()\n",
        "        self.fc = nn.Sequential(\n",
        "            nn.Linear(input_dim, 128),\n",
        "            nn.ReLU(),\n",
        "            nn.Linear(128, 1),\n",
        "            nn.Sigmoid()\n",
        "        )\n",
        "\n",
        "    def forward(self, x):\n",
        "        return self.fc(x)\n",
        "\n",
        "# Example usage\n",
        "latent_dim = 100\n",
        "data_dim = 784  # For example, MNIST images flattened\n",
        "\n",
        "generator = Generator(latent_dim, data_dim)\n",
        "discriminator = Discriminator(data_dim)\n",
        "optimizer_g = optim.Adam(generator.parameters(), lr=0.0002)\n",
        "optimizer_d = optim.Adam(discriminator.parameters(), lr=0.0002)\n",
        "\n",
        "for epoch in range(100):\n",
        "    # Generate fake data\n",
        "    z = torch.randn(32, latent_dim)\n",
        "    fake_data = generator(z)\n",
        "\n",
        "    # Train discriminator\n",
        "    real_data = torch.randn(32, data_dim)\n",
        "    optimizer_d.zero_grad()\n",
        "    real_loss = nn.BCELoss()(discriminator(real_data), torch.ones(32, 1))\n",
        "    fake_loss = nn.BCELoss()(discriminator(fake_data.detach()), torch.zeros(32, 1))\n",
        "    d_loss = real_loss + fake_loss\n",
        "    d_loss.backward()\n",
        "    optimizer_d.step()\n",
        "\n",
        "    # Train generator\n",
        "    optimizer_g.zero_grad()\n",
        "    g_loss = nn.BCELoss()(discriminator(fake_data), torch.ones(32, 1))\n",
        "    g_loss.backward()\n",
        "    optimizer_g.step()\n",
        "\n",
        "    print(f'Epoch {epoch + 1}, D Loss: {d_loss.item():.4f}, G Loss: {g_loss.item():.4f}')"
      ]
    }
  ]
}