{
  "nbformat": 4,
  "nbformat_minor": 0,
  "metadata": {
    "colab": {
      "private_outputs": true,
      "provenance": [],
      "authorship_tag": "ABX9TyOYhazoaQ/FStodwU5GCgBh",
      "include_colab_link": true
    },
    "kernelspec": {
      "name": "python3",
      "display_name": "Python 3"
    },
    "language_info": {
      "name": "python"
    }
  },
  "cells": [
    {
      "cell_type": "markdown",
      "metadata": {
        "id": "view-in-github",
        "colab_type": "text"
      },
      "source": [
        "<a href=\"https://colab.research.google.com/github/OneFineStarstuff/State-of-the-Art/blob/main/ARIMA_(AutoRegressive_Integrated_Moving_Average).ipynb\" target=\"_parent\"><img src=\"https://colab.research.google.com/assets/colab-badge.svg\" alt=\"Open In Colab\"/></a>"
      ]
    },
    {
      "cell_type": "code",
      "execution_count": null,
      "metadata": {
        "id": "i-jtaX4Bkquv"
      },
      "outputs": [],
      "source": [
        "from statsmodels.tsa.arima.model import ARIMA\n",
        "import pandas as pd\n",
        "import numpy as np\n",
        "import matplotlib.pyplot as plt\n",
        "\n",
        "# Sample data\n",
        "data = pd.Series(np.sin(np.linspace(0, 4 * np.pi, 100)) + np.random.normal(scale=0.1, size=100))\n",
        "\n",
        "# Fit ARIMA model\n",
        "model = ARIMA(data, order=(5, 1, 0))\n",
        "model_fit = model.fit()\n",
        "\n",
        "# Forecast next 10 steps\n",
        "forecast = model_fit.forecast(steps=10)\n",
        "\n",
        "# Plotting\n",
        "plt.plot(data, label='Original')\n",
        "plt.plot(range(100, 110), forecast, label='Forecast', color='red')\n",
        "plt.legend()\n",
        "plt.show()"
      ]
    }
  ]
}