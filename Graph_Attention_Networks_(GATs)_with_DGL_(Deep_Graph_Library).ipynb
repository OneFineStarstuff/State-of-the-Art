{
  "nbformat": 4,
  "nbformat_minor": 0,
  "metadata": {
    "colab": {
      "private_outputs": true,
      "provenance": [],
      "authorship_tag": "ABX9TyPqV/c7T/1hJbRiIkWTBktD",
      "include_colab_link": true
    },
    "kernelspec": {
      "name": "python3",
      "display_name": "Python 3"
    },
    "language_info": {
      "name": "python"
    }
  },
  "cells": [
    {
      "cell_type": "markdown",
      "metadata": {
        "id": "view-in-github",
        "colab_type": "text"
      },
      "source": [
        "<a href=\"https://colab.research.google.com/github/OneFineStarstuff/State-of-the-Art/blob/main/Graph_Attention_Networks_(GATs)_with_DGL_(Deep_Graph_Library).ipynb\" target=\"_parent\"><img src=\"https://colab.research.google.com/assets/colab-badge.svg\" alt=\"Open In Colab\"/></a>"
      ]
    },
    {
      "cell_type": "code",
      "source": [
        "pip install dgl"
      ],
      "metadata": {
        "id": "PeaMhmWLt_Ye"
      },
      "execution_count": null,
      "outputs": []
    },
    {
      "cell_type": "code",
      "source": [
        "pip install torchdata"
      ],
      "metadata": {
        "id": "q6rLJiyTuQyz"
      },
      "execution_count": null,
      "outputs": []
    },
    {
      "cell_type": "code",
      "execution_count": null,
      "metadata": {
        "id": "Zbei9d41tpzm"
      },
      "outputs": [],
      "source": [
        "import torch\n",
        "import torch.nn as nn\n",
        "import torch.nn.functional as F\n",
        "import dgl\n",
        "from dgl.nn import GATConv\n",
        "from dgl.data import CoraGraphDataset\n",
        "\n",
        "# Define the GAT model\n",
        "class GAT(nn.Module):\n",
        "    def __init__(self, in_feats, hidden_feats, out_feats, num_heads):\n",
        "        super(GAT, self).__init__()\n",
        "        self.layer1 = GATConv(in_feats, hidden_feats, num_heads)\n",
        "        self.layer2 = GATConv(hidden_feats * num_heads, out_feats, num_heads)\n",
        "\n",
        "    def forward(self, g, inputs):\n",
        "        h = self.layer1(g, inputs)\n",
        "        h = F.elu(h.flatten(1))\n",
        "        h = self.layer2(g, h)\n",
        "        return F.log_softmax(h.mean(1), dim=1)\n",
        "\n",
        "# Load the dataset\n",
        "dataset = CoraGraphDataset()\n",
        "g = dataset[0]\n",
        "features = g.ndata['feat']\n",
        "labels = g.ndata['label']\n",
        "train_mask = g.ndata['train_mask']\n",
        "test_mask = g.ndata['test_mask']\n",
        "\n",
        "# Initialize the model, optimizer, and criterion\n",
        "model = GAT(g.ndata['feat'].shape[1], 8, dataset.num_classes, 8)\n",
        "optimizer = torch.optim.Adam(model.parameters(), lr=0.005, weight_decay=5e-4)\n",
        "\n",
        "# Training loop\n",
        "model.train()\n",
        "for epoch in range(200):\n",
        "    logits = model(g, features)\n",
        "    loss = F.nll_loss(logits[train_mask], labels[train_mask])\n",
        "    optimizer.zero_grad()\n",
        "    loss.backward()\n",
        "    optimizer.step()\n",
        "\n",
        "    print(f'Epoch {epoch+1}, Loss: {loss.item()}')"
      ]
    }
  ]
}