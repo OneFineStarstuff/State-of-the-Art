{
  "nbformat": 4,
  "nbformat_minor": 0,
  "metadata": {
    "colab": {
      "private_outputs": true,
      "provenance": [],
      "authorship_tag": "ABX9TyPMOBvkbrU/00aJCBLge3zL",
      "include_colab_link": true
    },
    "kernelspec": {
      "name": "python3",
      "display_name": "Python 3"
    },
    "language_info": {
      "name": "python"
    }
  },
  "cells": [
    {
      "cell_type": "markdown",
      "metadata": {
        "id": "view-in-github",
        "colab_type": "text"
      },
      "source": [
        "<a href=\"https://colab.research.google.com/github/OneFineStarstuff/State-of-the-Art/blob/main/Federated_Learning.ipynb\" target=\"_parent\"><img src=\"https://colab.research.google.com/assets/colab-badge.svg\" alt=\"Open In Colab\"/></a>"
      ]
    },
    {
      "cell_type": "code",
      "execution_count": null,
      "metadata": {
        "id": "kcjrzdQMPAol"
      },
      "outputs": [],
      "source": [
        "pip install syft"
      ]
    },
    {
      "cell_type": "code",
      "source": [
        "import syft as sy\n",
        "import torch\n",
        "from torch import nn, optim\n",
        "\n",
        "# Hook PyTorch\n",
        "hook = sy.TorchHook(torch)\n",
        "\n",
        "# Define workers (clients)\n",
        "alice = sy.VirtualWorker(hook, id=\"alice\")\n",
        "bob = sy.VirtualWorker(hook, id=\"bob\")\n",
        "\n",
        "# Define a simple model\n",
        "class SimpleModel(nn.Module):\n",
        "    def __init__(self):\n",
        "        super(SimpleModel, self).__init__()\n",
        "        self.fc = nn.Linear(2, 1)\n",
        "\n",
        "    def forward(self, x):\n",
        "        return self.fc(x)\n",
        "\n",
        "# Initialize model\n",
        "model = SimpleModel()\n",
        "\n",
        "# Dummy data\n",
        "data_alice = torch.tensor([[0.1, 0.2], [0.3, 0.4]], requires_grad=True).send(alice)\n",
        "data_bob = torch.tensor([[0.5, 0.6], [0.7, 0.8]], requires_grad=True).send(bob)\n",
        "target_alice = torch.tensor([[1.0], [0.0]]).send(alice)\n",
        "target_bob = torch.tensor([[0.0], [1.0]]).send(bob)\n",
        "\n",
        "# Define optimizer and loss function\n",
        "opt = optim.SGD(model.parameters(), lr=0.01)\n",
        "criterion = nn.MSELoss()\n",
        "\n",
        "# Federated training loop\n",
        "for epoch in range(10):\n",
        "    # Training on Alice's data\n",
        "    model.zero_grad()\n",
        "    pred_alice = model(data_alice)\n",
        "    loss_alice = criterion(pred_alice, target_alice)\n",
        "    loss_alice.backward()\n",
        "    opt.step()\n",
        "\n",
        "    # Training on Bob's data\n",
        "    model.zero_grad()\n",
        "    pred_bob = model(data_bob)\n",
        "    loss_bob = criterion(pred_bob, target_bob)\n",
        "    loss_bob.backward()\n",
        "    opt.step()\n",
        "\n",
        "    # Corrected print statement\n",
        "    print(f'Epoch {epoch}, Loss Alice: {loss_alice.get().item()}, Loss Bob: {loss_bob.get().item()}')"
      ],
      "metadata": {
        "id": "7Qg0Hin5PN5k"
      },
      "execution_count": null,
      "outputs": []
    }
  ]
}