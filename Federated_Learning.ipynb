{
  "nbformat": 4,
  "nbformat_minor": 0,
  "metadata": {
    "colab": {
      "private_outputs": true,
      "provenance": [],
      "authorship_tag": "ABX9TyP1mHmWLInI1IV01o5vqr1l",
      "include_colab_link": true
    },
    "kernelspec": {
      "name": "python3",
      "display_name": "Python 3"
    },
    "language_info": {
      "name": "python"
    }
  },
  "cells": [
    {
      "cell_type": "markdown",
      "metadata": {
        "id": "view-in-github",
        "colab_type": "text"
      },
      "source": [
        "<a href=\"https://colab.research.google.com/github/OneFineStarstuff/State-of-the-Art/blob/main/Federated_Learning.ipynb\" target=\"_parent\"><img src=\"https://colab.research.google.com/assets/colab-badge.svg\" alt=\"Open In Colab\"/></a>"
      ]
    },
    {
      "cell_type": "code",
      "execution_count": null,
      "metadata": {
        "id": "4PplVp_kOea0"
      },
      "outputs": [],
      "source": [
        "import torch\n",
        "import torch.nn as nn\n",
        "import torch.optim as optim\n",
        "from torchvision import datasets, transforms\n",
        "from torch.utils.data import DataLoader\n",
        "import numpy as np\n",
        "\n",
        "# Simple neural network\n",
        "class Net(nn.Module):\n",
        "    def __init__(self):\n",
        "        super(Net, self).__init__()\n",
        "        self.fc1 = nn.Linear(28*28, 128)\n",
        "        self.fc2 = nn.Linear(128, 10)\n",
        "\n",
        "    def forward(self, x):\n",
        "        x = x.view(-1, 28*28)\n",
        "        x = torch.relu(self.fc1(x))\n",
        "        return self.fc2(x)\n",
        "\n",
        "# Federated averaging function\n",
        "def federated_averaging(global_model, client_models):\n",
        "    global_dict = global_model.state_dict()\n",
        "    for k in global_dict.keys():\n",
        "        global_dict[k] = torch.stack([client_models[i].state_dict()[k] for i in range(len(client_models))], 0).mean(0)\n",
        "    global_model.load_state_dict(global_dict)\n",
        "\n",
        "# Simulate federated learning\n",
        "def federated_learning(num_clients=5, num_rounds=10):\n",
        "    transform = transforms.Compose([transforms.ToTensor(), transforms.Normalize((0.5,), (0.5,))])\n",
        "    train_dataset = datasets.MNIST(root='./data', train=True, download=True, transform=transform)\n",
        "    train_loader = DataLoader(train_dataset, batch_size=64, shuffle=True)\n",
        "\n",
        "    global_model = Net()\n",
        "    client_models = [Net() for _ in range(num_clients)]\n",
        "    for model in client_models:\n",
        "        model.load_state_dict(global_model.state_dict())\n",
        "\n",
        "    for round in range(num_rounds):\n",
        "        for client_model in client_models:\n",
        "            optimizer = optim.SGD(client_model.parameters(), lr=0.01)\n",
        "            for images, labels in train_loader:\n",
        "                images, labels = images.to('cpu'), labels.to('cpu')  # Ensure data is on CPU\n",
        "                client_model.train()\n",
        "                optimizer.zero_grad()\n",
        "                output = client_model(images)\n",
        "                loss = nn.CrossEntropyLoss()(output, labels)\n",
        "                loss.backward()\n",
        "                optimizer.step()\n",
        "\n",
        "        federated_averaging(global_model, client_models)\n",
        "        print(f'Round {round + 1} complete')\n",
        "\n",
        "    return global_model\n",
        "\n",
        "global_model = federated_learning()"
      ]
    }
  ]
}