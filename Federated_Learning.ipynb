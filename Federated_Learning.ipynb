{
  "nbformat": 4,
  "nbformat_minor": 0,
  "metadata": {
    "colab": {
      "private_outputs": true,
      "provenance": [],
      "authorship_tag": "ABX9TyNMF9bGFlCc49+kBRqRwk5F",
      "include_colab_link": true
    },
    "kernelspec": {
      "name": "python3",
      "display_name": "Python 3"
    },
    "language_info": {
      "name": "python"
    }
  },
  "cells": [
    {
      "cell_type": "markdown",
      "metadata": {
        "id": "view-in-github",
        "colab_type": "text"
      },
      "source": [
        "<a href=\"https://colab.research.google.com/github/OneFineStarstuff/State-of-the-Art/blob/main/Federated_Learning.ipynb\" target=\"_parent\"><img src=\"https://colab.research.google.com/assets/colab-badge.svg\" alt=\"Open In Colab\"/></a>"
      ]
    },
    {
      "cell_type": "code",
      "execution_count": null,
      "metadata": {
        "id": "pO-PFFofoE7h"
      },
      "outputs": [],
      "source": [
        "import torch\n",
        "import torch.nn as nn\n",
        "import torch.optim as optim\n",
        "from copy import deepcopy\n",
        "\n",
        "class SimpleModel(nn.Module):\n",
        "    def __init__(self, input_dim, output_dim):\n",
        "        super(SimpleModel, self).__init__()\n",
        "        self.fc = nn.Linear(input_dim, output_dim)\n",
        "\n",
        "    def forward(self, x):\n",
        "        return self.fc(x)\n",
        "\n",
        "def train_local_model(model, data, labels, epochs=5):\n",
        "    criterion = nn.CrossEntropyLoss()\n",
        "    optimizer = optim.SGD(model.parameters(), lr=0.01)\n",
        "    for _ in range(epochs):\n",
        "        optimizer.zero_grad()\n",
        "        output = model(data)\n",
        "        loss = criterion(output, labels)\n",
        "        loss.backward()\n",
        "        optimizer.step()\n",
        "\n",
        "def average_weights(models):\n",
        "    avg_model = deepcopy(models[0])\n",
        "    for key in avg_model.state_dict().keys():\n",
        "        avg_model.state_dict()[key].data.copy_(\n",
        "            torch.mean(torch.stack([m.state_dict()[key] for m in models]), dim=0)\n",
        "        )\n",
        "    return avg_model\n",
        "\n",
        "# Example usage\n",
        "global_model = SimpleModel(input_dim=10, output_dim=2)\n",
        "local_models = [deepcopy(global_model) for _ in range(3)]\n",
        "data = [torch.randn(64, 10) for _ in range(3)]\n",
        "labels = [torch.randint(0, 2, (64,)) for _ in range(3)]\n",
        "\n",
        "for model, d, l in zip(local_models, data, labels):\n",
        "    train_local_model(model, d, l)\n",
        "\n",
        "global_model = average_weights(local_models)\n",
        "print(\"Federated learning model updated.\")"
      ]
    }
  ]
}