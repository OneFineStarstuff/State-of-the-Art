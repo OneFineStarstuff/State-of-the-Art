{
  "nbformat": 4,
  "nbformat_minor": 0,
  "metadata": {
    "colab": {
      "private_outputs": true,
      "provenance": [],
      "authorship_tag": "ABX9TyNqssupHUWUHvVpQpFlFCKk",
      "include_colab_link": true
    },
    "kernelspec": {
      "name": "python3",
      "display_name": "Python 3"
    },
    "language_info": {
      "name": "python"
    }
  },
  "cells": [
    {
      "cell_type": "markdown",
      "metadata": {
        "id": "view-in-github",
        "colab_type": "text"
      },
      "source": [
        "<a href=\"https://colab.research.google.com/github/OneFineStarstuff/State-of-the-Art/blob/main/Federated_Learning.ipynb\" target=\"_parent\"><img src=\"https://colab.research.google.com/assets/colab-badge.svg\" alt=\"Open In Colab\"/></a>"
      ]
    },
    {
      "cell_type": "code",
      "execution_count": null,
      "metadata": {
        "id": "KJqP-q91hEAA"
      },
      "outputs": [],
      "source": [
        "import torch\n",
        "import torch.nn as nn\n",
        "import torch.optim as optim\n",
        "from torch.utils.data import DataLoader, TensorDataset\n",
        "\n",
        "class SimpleModel(nn.Module):\n",
        "    def __init__(self, input_dim, output_dim):\n",
        "        super(SimpleModel, self).__init__()\n",
        "        self.fc = nn.Linear(input_dim, output_dim)\n",
        "\n",
        "    def forward(self, x):\n",
        "        return self.fc(x)\n",
        "\n",
        "def federated_training(models, data_loaders, global_model, num_clients, epochs=5):\n",
        "    for epoch in range(epochs):\n",
        "        client_weights = []\n",
        "        for client_id in range(num_clients):\n",
        "            model = models[client_id]\n",
        "            data_loader = data_loaders[client_id]\n",
        "            optimizer = optim.SGD(model.parameters(), lr=0.01)\n",
        "\n",
        "            model.train()\n",
        "            for data, target in data_loader:\n",
        "                optimizer.zero_grad()\n",
        "                output = model(data)\n",
        "                loss = nn.CrossEntropyLoss()(output, target)\n",
        "                loss.backward()\n",
        "                optimizer.step()\n",
        "\n",
        "            client_weights.append(model.state_dict())\n",
        "\n",
        "        avg_weights = {key: torch.mean(torch.stack([w[key] for w in client_weights]), dim=0) for key in global_model.state_dict().keys()}\n",
        "        global_model.load_state_dict(avg_weights)\n",
        "\n",
        "# Example usage\n",
        "input_dim = 10\n",
        "output_dim = 3\n",
        "num_clients = 5\n",
        "models = [SimpleModel(input_dim, output_dim) for _ in range(num_clients)]\n",
        "data_loaders = [DataLoader(TensorDataset(torch.randn(100, input_dim), torch.randint(0, output_dim, (100,))), batch_size=10) for _ in range(num_clients)]\n",
        "global_model = SimpleModel(input_dim, output_dim)\n",
        "\n",
        "federated_training(models, data_loaders, global_model, num_clients)\n",
        "print(\"Federated Learning completed\")"
      ]
    }
  ]
}