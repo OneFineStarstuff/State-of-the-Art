{
  "nbformat": 4,
  "nbformat_minor": 0,
  "metadata": {
    "colab": {
      "private_outputs": true,
      "provenance": [],
      "authorship_tag": "ABX9TyNmEuZ/PWAna4T9HQScQKvv",
      "include_colab_link": true
    },
    "kernelspec": {
      "name": "python3",
      "display_name": "Python 3"
    },
    "language_info": {
      "name": "python"
    }
  },
  "cells": [
    {
      "cell_type": "markdown",
      "metadata": {
        "id": "view-in-github",
        "colab_type": "text"
      },
      "source": [
        "<a href=\"https://colab.research.google.com/github/OneFineStarstuff/State-of-the-Art/blob/main/Federated_Learning.ipynb\" target=\"_parent\"><img src=\"https://colab.research.google.com/assets/colab-badge.svg\" alt=\"Open In Colab\"/></a>"
      ]
    },
    {
      "cell_type": "code",
      "execution_count": null,
      "metadata": {
        "id": "LlNC-2L90s6R"
      },
      "outputs": [],
      "source": [
        "pip install torch syft"
      ]
    },
    {
      "cell_type": "code",
      "source": [
        "import torch\n",
        "import torch.nn as nn\n",
        "import torch.optim as optim\n",
        "import syft as sy\n",
        "\n",
        "# Define a simple model\n",
        "class Net(nn.Module):\n",
        "    def __init__(self):\n",
        "        super(Net, self).__init__()\n",
        "        self.fc1 = nn.Linear(784, 128)\n",
        "        self.fc2 = nn.Linear(128, 10)\n",
        "\n",
        "    def forward(self, x):\n",
        "        x = torch.relu(self.fc1(x))\n",
        "        x = self.fc2(x)\n",
        "        return x\n",
        "\n",
        "# Create a federated learning setup\n",
        "hook = sy.TorchHook(torch)\n",
        "alice = sy.VirtualWorker(hook, id=\"alice\")\n",
        "bob = sy.VirtualWorker(hook, id=\"bob\")\n",
        "\n",
        "# Distribute data among virtual workers\n",
        "data = torch.rand(32, 784)\n",
        "target = torch.randint(0, 10, (32,))\n",
        "federated_data = [(data[:16].send(alice), target[:16].send(alice)),\n",
        "                  (data[16:].send(bob), target[16:].send(bob))]\n",
        "\n",
        "# Model and optimizer\n",
        "model = Net()\n",
        "optimizer = optim.SGD(model.parameters(), lr=0.01)\n",
        "\n",
        "# Training loop\n",
        "for epoch in range(2):\n",
        "    model.train()\n",
        "    for (data, target) in federated_data:\n",
        "        optimizer.zero_grad()\n",
        "        output = model(data)\n",
        "        loss = nn.functional.cross_entropy(output, target)\n",
        "        loss.backward()\n",
        "        optimizer.step()\n",
        "        print(f\"Epoch {epoch+1}, Loss: {loss.get().item()}\")\n",
        "\n",
        "# Test the model (locally)\n",
        "model.eval()\n",
        "test_data = torch.rand(32, 784)\n",
        "test_target = torch.randint(0, 10, (32,))\n",
        "output = model(test_data)\n",
        "test_loss = nn.functional.cross_entropy(output, test_target)\n",
        "print(f\"Test Loss: {test_loss.item()}\")"
      ],
      "metadata": {
        "id": "13VDuXHt01tB"
      },
      "execution_count": null,
      "outputs": []
    },
    {
      "cell_type": "code",
      "source": [
        "import torch\n",
        "import torch.nn as nn\n",
        "import torch.optim as optim\n",
        "import syft as sy\n",
        "\n",
        "# Define a simple model\n",
        "class Net(nn.Module):\n",
        "    def __init__(self):\n",
        "        super(Net, self).__init__()\n",
        "        self.fc1 = nn.Linear(784, 128)\n",
        "        self.fc2 = nn.Linear(128, 10)\n",
        "\n",
        "    def forward(self, x):\n",
        "        x = torch.relu(self.fc1(x))\n",
        "        x = self.fc2(x)\n",
        "        return x\n",
        "\n",
        "# Initialize a hook\n",
        "hook = sy.TorchHook(torch)\n",
        "\n",
        "# Create virtual workers\n",
        "alice = sy.VirtualWorker(id=\"alice\", hook=hook)\n",
        "bob = sy.VirtualWorker(id=\"bob\", hook=hook)\n",
        "\n",
        "# Distribute data among virtual workers\n",
        "data = torch.rand(32, 784)\n",
        "target = torch.randint(0, 10, (32,))\n",
        "federated_data = [(data[:16].send(alice), target[:16].send(alice)),\n",
        "                  (data[16:].send(bob), target[16:].send(bob))]\n",
        "\n",
        "# Model and optimizer\n",
        "model = Net()\n",
        "optimizer = optim.SGD(model.parameters(), lr=0.01)\n",
        "\n",
        "# Training loop\n",
        "for epoch in range(2):\n",
        "    model.train()\n",
        "    for (data, target) in federated_data:\n",
        "        optimizer.zero_grad()\n",
        "        output = model(data)\n",
        "        loss = nn.functional.cross_entropy(output, target)\n",
        "        loss.backward()\n",
        "        optimizer.step()\n",
        "        print(f\"Epoch {epoch+1}, Loss: {loss.get().item()}\")\n",
        "\n",
        "# Test the model (locally)\n",
        "model.eval()\n",
        "test_data = torch.rand(32, 784)\n",
        "test_target = torch.randint(0, 10, (32,))\n",
        "output = model(test_data)\n",
        "test_loss = nn.functional.cross_entropy(output, test_target)\n",
        "print(f\"Test Loss: {test_loss.item()}\")"
      ],
      "metadata": {
        "id": "MiDdswch19Z0"
      },
      "execution_count": null,
      "outputs": []
    }
  ]
}