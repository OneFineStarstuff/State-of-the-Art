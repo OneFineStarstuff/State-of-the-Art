{
  "nbformat": 4,
  "nbformat_minor": 0,
  "metadata": {
    "colab": {
      "private_outputs": true,
      "provenance": [],
      "authorship_tag": "ABX9TyPZkW+ncTTOvKpzNqtXE+ta",
      "include_colab_link": true
    },
    "kernelspec": {
      "name": "python3",
      "display_name": "Python 3"
    },
    "language_info": {
      "name": "python"
    }
  },
  "cells": [
    {
      "cell_type": "markdown",
      "metadata": {
        "id": "view-in-github",
        "colab_type": "text"
      },
      "source": [
        "<a href=\"https://colab.research.google.com/github/OneFineStarstuff/State-of-the-Art/blob/main/Federated_Learning.ipynb\" target=\"_parent\"><img src=\"https://colab.research.google.com/assets/colab-badge.svg\" alt=\"Open In Colab\"/></a>"
      ]
    },
    {
      "cell_type": "code",
      "execution_count": null,
      "metadata": {
        "id": "WXAIwySQ5iaV"
      },
      "outputs": [],
      "source": [
        "import torch\n",
        "import torch.nn as nn\n",
        "import torch.optim as optim\n",
        "from torch.utils.data import DataLoader, TensorDataset\n",
        "\n",
        "class SimpleNN(nn.Module):\n",
        "    def __init__(self, input_dim, output_dim):\n",
        "        super(SimpleNN, self).__init__()\n",
        "        self.fc1 = nn.Linear(input_dim, 128)\n",
        "        self.fc2 = nn.Linear(128, output_dim)\n",
        "\n",
        "    def forward(self, x):\n",
        "        x = torch.relu(self.fc1(x))\n",
        "        return self.fc2(x)\n",
        "\n",
        "def local_training(model, train_loader, epochs, lr):\n",
        "    optimizer = optim.SGD(model.parameters(), lr=lr)\n",
        "    criterion = nn.CrossEntropyLoss()\n",
        "    for epoch in range(epochs):\n",
        "        for data, target in train_loader:\n",
        "            optimizer.zero_grad()\n",
        "            output = model(data)\n",
        "            loss = criterion(output, target)\n",
        "            loss.backward()\n",
        "            optimizer.step()\n",
        "\n",
        "def federated_averaging(models):\n",
        "    global_model = models[0]\n",
        "    for key in global_model.state_dict().keys():\n",
        "        global_state = global_model.state_dict()[key]\n",
        "        for model in models[1:]:\n",
        "            global_state += model.state_dict()[key]\n",
        "        global_state /= len(models)\n",
        "    for model in models:\n",
        "        model.load_state_dict(global_model.state_dict())\n",
        "\n",
        "# Example usage\n",
        "model1 = SimpleNN(10, 2)\n",
        "model2 = SimpleNN(10, 2)\n",
        "train_data1 = DataLoader(TensorDataset(torch.randn(100, 10), torch.randint(0, 2, (100,))), batch_size=32)\n",
        "train_data2 = DataLoader(TensorDataset(torch.randn(100, 10), torch.randint(0, 2, (100,))), batch_size=32)\n",
        "\n",
        "local_training(model1, train_data1, epochs=5, lr=0.01)\n",
        "local_training(model2, train_data2, epochs=5, lr=0.01)\n",
        "federated_averaging([model1, model2])"
      ]
    }
  ]
}