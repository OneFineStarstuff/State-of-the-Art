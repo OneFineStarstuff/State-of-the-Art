{
  "nbformat": 4,
  "nbformat_minor": 0,
  "metadata": {
    "colab": {
      "private_outputs": true,
      "provenance": [],
      "authorship_tag": "ABX9TyNJtAxAf7XVImQ/AHg5/wsi",
      "include_colab_link": true
    },
    "kernelspec": {
      "name": "python3",
      "display_name": "Python 3"
    },
    "language_info": {
      "name": "python"
    }
  },
  "cells": [
    {
      "cell_type": "markdown",
      "metadata": {
        "id": "view-in-github",
        "colab_type": "text"
      },
      "source": [
        "<a href=\"https://colab.research.google.com/github/OneFineStarstuff/State-of-the-Art/blob/main/Federated_Learning.ipynb\" target=\"_parent\"><img src=\"https://colab.research.google.com/assets/colab-badge.svg\" alt=\"Open In Colab\"/></a>"
      ]
    },
    {
      "cell_type": "code",
      "source": [
        "!pip install syft==0.2.9 torch torchvision"
      ],
      "metadata": {
        "id": "Y0BxEXJ6XxjD"
      },
      "execution_count": null,
      "outputs": []
    },
    {
      "cell_type": "code",
      "execution_count": null,
      "metadata": {
        "id": "qTXsN8VqXiiL"
      },
      "outputs": [],
      "source": [
        "import syft as sy\n",
        "import torch\n",
        "import torch.nn as nn\n",
        "import torch.optim as optim\n",
        "from torch.utils.data import DataLoader, TensorDataset\n",
        "\n",
        "# Create a VirtualMachine and Client\n",
        "alice_vm = sy.VirtualMachine(name=\"alice\")\n",
        "alice = alice_vm.get_root_client()\n",
        "bob_vm = sy.VirtualMachine(name=\"bob\")\n",
        "bob = bob_vm.get_root_client()\n",
        "\n",
        "# Create a simple dataset and split between two workers\n",
        "data = torch.tensor([[1, 2], [3, 4], [5, 6], [7, 8]], dtype=torch.float32)\n",
        "target = torch.tensor([[1], [0], [1], [0]], dtype=torch.float32)\n",
        "dataset = TensorDataset(data, target)\n",
        "alice_data, bob_data = torch.utils.data.random_split(dataset, [2, 2])\n",
        "\n",
        "# Send data to VirtualWorkers\n",
        "alice_data_ptr = [(d.send(alice), t.send(alice)) for d, t in alice_data]\n",
        "bob_data_ptr = [(d.send(bob), t.send(bob)) for d, t in bob_data]\n",
        "\n",
        "class Net(nn.Module):\n",
        "    def __init__(self):\n",
        "        super(Net, self).__init__()\n",
        "        self.fc = nn.Linear(2, 1)\n",
        "\n",
        "    def forward(self, x):\n",
        "        return torch.sigmoid(self.fc(x))\n",
        "\n",
        "model = Net()\n",
        "optimizer = optim.SGD(model.parameters(), lr=0.01)\n",
        "\n",
        "def train(data_ptrs, model, optimizer, client):\n",
        "    model.send(client)\n",
        "    for data, target in data_ptrs:\n",
        "        optimizer.zero_grad()\n",
        "        output = model(data)\n",
        "        loss = ((output - target) ** 2).mean()\n",
        "        loss.backward()\n",
        "        optimizer.step()\n",
        "    model.get()  # Get model back from the client\n",
        "    print(f'Loss: {loss.get().item()}')\n",
        "\n",
        "for epoch in range(5):\n",
        "    train(alice_data_ptr, model, optimizer, alice)\n",
        "    train(bob_data_ptr, model, optimizer, bob)"
      ]
    }
  ]
}