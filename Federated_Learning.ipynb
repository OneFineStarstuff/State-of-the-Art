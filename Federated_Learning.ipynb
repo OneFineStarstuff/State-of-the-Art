{
  "nbformat": 4,
  "nbformat_minor": 0,
  "metadata": {
    "colab": {
      "private_outputs": true,
      "provenance": [],
      "authorship_tag": "ABX9TyOprtpeTSBdGJkGiYw4xKds",
      "include_colab_link": true
    },
    "kernelspec": {
      "name": "python3",
      "display_name": "Python 3"
    },
    "language_info": {
      "name": "python"
    }
  },
  "cells": [
    {
      "cell_type": "markdown",
      "metadata": {
        "id": "view-in-github",
        "colab_type": "text"
      },
      "source": [
        "<a href=\"https://colab.research.google.com/github/OneFineStarstuff/State-of-the-Art/blob/main/Federated_Learning.ipynb\" target=\"_parent\"><img src=\"https://colab.research.google.com/assets/colab-badge.svg\" alt=\"Open In Colab\"/></a>"
      ]
    },
    {
      "cell_type": "code",
      "source": [
        "!pip install syft"
      ],
      "metadata": {
        "id": "pokKn2Jp0Cj3"
      },
      "execution_count": null,
      "outputs": []
    },
    {
      "cell_type": "code",
      "execution_count": null,
      "metadata": {
        "id": "R2RKJhodzxZo"
      },
      "outputs": [],
      "source": [
        "import torch\n",
        "import torch.nn as nn\n",
        "import torch.optim as optim\n",
        "from torchvision import datasets, transforms\n",
        "import syft as sy\n",
        "\n",
        "# Define a simple model\n",
        "class Net(nn.Module):\n",
        "    def __init__(self):\n",
        "        super(Net, self).__init__()\n",
        "        self.fc1 = nn.Linear(28 * 28, 128)\n",
        "        self.fc2 = nn.Linear(128, 10)\n",
        "\n",
        "    def forward(self, x):\n",
        "        x = x.view(-1, 28 * 28)\n",
        "        x = torch.relu(self.fc1(x))\n",
        "        x = self.fc2(x)\n",
        "        return torch.log_softmax(x, dim=1)\n",
        "\n",
        "# Create a virtual federated learning environment\n",
        "alice = sy.VirtualMachine(name=\"alice\")\n",
        "bob = sy.VirtualMachine(name=\"bob\")\n",
        "vm_workspace = sy.VirtualMachineWorkspace(\n",
        "    name=\"workspace\", vms=[alice, bob]\n",
        ")\n",
        "\n",
        "# Prepare the dataset\n",
        "transform = transforms.Compose([transforms.ToTensor()])\n",
        "train_dataset = datasets.MNIST('./data', train=True, download=True, transform=transform)\n",
        "\n",
        "# Split dataset into federated chunks\n",
        "federated_train_loader = sy.FederatedDataLoader(\n",
        "    train_dataset,\n",
        "    batch_size=64,\n",
        "    shuffle=True,\n",
        "    virtual_machines=[alice, bob],\n",
        "    unique_dataset=False,\n",
        ")\n",
        "\n",
        "# Initialize the model and optimizer\n",
        "model = Net()\n",
        "optimizer = optim.SGD(model.parameters(), lr=0.01)\n",
        "\n",
        "# Training loop\n",
        "for epoch in range(5):\n",
        "    for data, target in federated_train_loader:\n",
        "        data, target = data.to(\"cpu\"), target.to(\"cpu\")  # Ensure tensors are on the correct device\n",
        "        model.send(data.location)\n",
        "        optimizer.zero_grad()\n",
        "        output = model(data)\n",
        "        loss = nn.NLLLoss()(output, target)\n",
        "        loss.backward()\n",
        "        optimizer.step()\n",
        "        model.get()\n",
        "        print(f\"Epoch {epoch+1}, Loss: {loss.item()}\")"
      ]
    }
  ]
}