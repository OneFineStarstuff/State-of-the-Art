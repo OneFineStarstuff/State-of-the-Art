{
  "nbformat": 4,
  "nbformat_minor": 0,
  "metadata": {
    "colab": {
      "private_outputs": true,
      "provenance": [],
      "authorship_tag": "ABX9TyNqGnJOdLR5tSIIY2Qz+8X/",
      "include_colab_link": true
    },
    "kernelspec": {
      "name": "python3",
      "display_name": "Python 3"
    },
    "language_info": {
      "name": "python"
    }
  },
  "cells": [
    {
      "cell_type": "markdown",
      "metadata": {
        "id": "view-in-github",
        "colab_type": "text"
      },
      "source": [
        "<a href=\"https://colab.research.google.com/github/OneFineStarstuff/State-of-the-Art/blob/main/Federated_Learning.ipynb\" target=\"_parent\"><img src=\"https://colab.research.google.com/assets/colab-badge.svg\" alt=\"Open In Colab\"/></a>"
      ]
    },
    {
      "cell_type": "code",
      "execution_count": null,
      "metadata": {
        "id": "UPHNIM-AWTS4"
      },
      "outputs": [],
      "source": [
        "import torch\n",
        "import torch.nn as nn\n",
        "import torch.optim as optim\n",
        "\n",
        "# Define the SimpleMLP class\n",
        "class SimpleMLP(nn.Module):\n",
        "    def __init__(self, input_dim, output_dim):\n",
        "        super(SimpleMLP, self).__init__()\n",
        "        self.fc1 = nn.Linear(input_dim, 128)  # First fully connected layer\n",
        "        self.fc2 = nn.Linear(128, output_dim)  # Second fully connected layer\n",
        "\n",
        "    def forward(self, x):\n",
        "        x = torch.relu(self.fc1(x))  # Apply ReLU activation after first layer\n",
        "        x = self.fc2(x)  # Apply second fully connected layer\n",
        "        return x\n",
        "\n",
        "# Function to train the model on a given device\n",
        "def train_on_device(model, data_loader, criterion, optimizer, epochs=5):\n",
        "    for epoch in range(epochs):\n",
        "        for data, target in data_loader:\n",
        "            optimizer.zero_grad()  # Zero the gradients\n",
        "            output = model(data)  # Forward pass\n",
        "            loss = criterion(output, target)  # Compute the loss\n",
        "            loss.backward()  # Backpropagation\n",
        "            optimizer.step()  # Update model parameters\n",
        "    return model.state_dict()\n",
        "\n",
        "# Example usage with dummy data loader\n",
        "model = SimpleMLP(input_dim=784, output_dim=10)  # Instantiate the model\n",
        "optimizer = optim.SGD(model.parameters(), lr=0.01)  # Define the optimizer\n",
        "criterion = nn.CrossEntropyLoss()  # Define the loss function\n",
        "\n",
        "# Note: You'll need an actual data loader to train the model"
      ]
    }
  ]
}