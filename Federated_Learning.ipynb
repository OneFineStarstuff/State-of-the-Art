{
  "nbformat": 4,
  "nbformat_minor": 0,
  "metadata": {
    "colab": {
      "private_outputs": true,
      "provenance": [],
      "authorship_tag": "ABX9TyNNzJD9BT65+Q+cqcoTjwGW",
      "include_colab_link": true
    },
    "kernelspec": {
      "name": "python3",
      "display_name": "Python 3"
    },
    "language_info": {
      "name": "python"
    }
  },
  "cells": [
    {
      "cell_type": "markdown",
      "metadata": {
        "id": "view-in-github",
        "colab_type": "text"
      },
      "source": [
        "<a href=\"https://colab.research.google.com/github/OneFineStarstuff/State-of-the-Art/blob/main/Federated_Learning.ipynb\" target=\"_parent\"><img src=\"https://colab.research.google.com/assets/colab-badge.svg\" alt=\"Open In Colab\"/></a>"
      ]
    },
    {
      "cell_type": "code",
      "source": [
        "pip install --upgrade jax jaxlib"
      ],
      "metadata": {
        "id": "ed_g9zttJYPe"
      },
      "execution_count": null,
      "outputs": []
    },
    {
      "cell_type": "code",
      "source": [
        "pip install tensorflow tensorflow-federated"
      ],
      "metadata": {
        "id": "nnsopL5SIX-o"
      },
      "execution_count": null,
      "outputs": []
    },
    {
      "cell_type": "code",
      "source": [
        "pip install --upgrade tensorflow tensorflow-federated"
      ],
      "metadata": {
        "id": "2Rggn80bJ8hT"
      },
      "execution_count": null,
      "outputs": []
    },
    {
      "cell_type": "code",
      "execution_count": null,
      "metadata": {
        "id": "gcSc7nJ8H9yg"
      },
      "outputs": [],
      "source": [
        "import tensorflow_federated as tff\n",
        "import tensorflow as tf\n",
        "\n",
        "# Load the federated EMNIST dataset\n",
        "try:\n",
        "    federated_data = tff.simulation.datasets.emnist.load_data()\n",
        "except Exception as e:\n",
        "    print(\"Error loading federated data:\", e)\n",
        "\n",
        "# Print available client IDs\n",
        "client_ids = federated_data[0].client_ids\n",
        "print(\"Available client IDs:\", client_ids)\n",
        "\n",
        "# Choose a valid client ID\n",
        "client_id = client_ids[0]  # For example, choose the first client ID\n",
        "sample_batch = federated_data[0].create_tf_dataset_for_client(client_id).batch(20)\n",
        "\n",
        "# Display the first batch of data\n",
        "for example in sample_batch.take(1):\n",
        "    print(example)\n",
        "\n",
        "# Build a simple model for federated learning\n",
        "def create_model():\n",
        "    model = tf.keras.Sequential([\n",
        "        tf.keras.layers.Reshape(target_shape=[28, 28, 1], input_shape=(784,)),\n",
        "        tf.keras.layers.Conv2D(32, kernel_size=(3, 3), activation='relu'),\n",
        "        tf.keras.layers.MaxPooling2D(pool_size=(2, 2)),\n",
        "        tf.keras.layers.Flatten(),\n",
        "        tf.keras.layers.Dense(10, activation='softmax')\n",
        "    ])\n",
        "    return model\n",
        "\n",
        "# Create a federated learning process\n",
        "def model_fn():\n",
        "    keras_model = create_model()\n",
        "    return tff.learning.from_keras_model(\n",
        "        keras_model,\n",
        "        input_spec=sample_batch.element_spec,\n",
        "        loss=tf.keras.losses.SparseCategoricalCrossentropy(),\n",
        "        metrics=[tf.keras.metrics.SparseCategoricalAccuracy()]\n",
        "    )\n",
        "\n",
        "iterative_process = tff.learning.build_federated_averaging_process(model_fn)\n",
        "\n",
        "# Initialize the process\n",
        "state = iterative_process.initialize()\n",
        "\n",
        "# Perform one round of federated learning\n",
        "state, metrics = iterative_process.next(state, [sample_batch])\n",
        "\n",
        "print(f'Metrics: {metrics}')"
      ]
    }
  ]
}