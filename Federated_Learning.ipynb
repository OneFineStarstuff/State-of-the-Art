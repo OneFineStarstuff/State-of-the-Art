{
  "nbformat": 4,
  "nbformat_minor": 0,
  "metadata": {
    "colab": {
      "private_outputs": true,
      "provenance": [],
      "authorship_tag": "ABX9TyMme95mgFf+x9Xz0xLsFuct",
      "include_colab_link": true
    },
    "kernelspec": {
      "name": "python3",
      "display_name": "Python 3"
    },
    "language_info": {
      "name": "python"
    }
  },
  "cells": [
    {
      "cell_type": "markdown",
      "metadata": {
        "id": "view-in-github",
        "colab_type": "text"
      },
      "source": [
        "<a href=\"https://colab.research.google.com/github/OneFineStarstuff/State-of-the-Art/blob/main/Federated_Learning.ipynb\" target=\"_parent\"><img src=\"https://colab.research.google.com/assets/colab-badge.svg\" alt=\"Open In Colab\"/></a>"
      ]
    },
    {
      "cell_type": "code",
      "execution_count": null,
      "metadata": {
        "id": "8ya0WZaCCMT0"
      },
      "outputs": [],
      "source": [
        "import torch\n",
        "import torch.nn as nn\n",
        "\n",
        "# Define the FederatedAveraging class\n",
        "class FederatedAveraging:\n",
        "    def __init__(self, models):\n",
        "        self.models = models  # List of local models\n",
        "\n",
        "    def average_models(self):\n",
        "        global_model = self.models[0]\n",
        "        with torch.no_grad():\n",
        "            for param_name, param in global_model.named_parameters():\n",
        "                # Stack parameters from all models along a new dimension and compute the mean\n",
        "                stacked_params = torch.stack([model.state_dict()[param_name] for model in self.models], dim=0)\n",
        "                param.data.copy_(torch.mean(stacked_params, dim=0))\n",
        "        return global_model\n",
        "\n",
        "# Define a simple model class\n",
        "class SimpleModel(nn.Module):\n",
        "    def __init__(self):\n",
        "        super(SimpleModel, self).__init__()\n",
        "        self.fc = nn.Linear(10, 1)  # Fully connected layer\n",
        "\n",
        "    def forward(self, x):\n",
        "        return self.fc(x)\n",
        "\n",
        "# Example usage\n",
        "models = [SimpleModel() for _ in range(3)]  # Example local models\n",
        "federated_learning = FederatedAveraging(models)\n",
        "global_model = federated_learning.average_models()\n",
        "\n",
        "# Print the global model\n",
        "print(global_model)"
      ]
    }
  ]
}