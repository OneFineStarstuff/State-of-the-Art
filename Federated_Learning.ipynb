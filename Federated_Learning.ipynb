{
  "nbformat": 4,
  "nbformat_minor": 0,
  "metadata": {
    "colab": {
      "private_outputs": true,
      "provenance": [],
      "authorship_tag": "ABX9TyN3oZh1vemmann/1hONel81",
      "include_colab_link": true
    },
    "kernelspec": {
      "name": "python3",
      "display_name": "Python 3"
    },
    "language_info": {
      "name": "python"
    }
  },
  "cells": [
    {
      "cell_type": "markdown",
      "metadata": {
        "id": "view-in-github",
        "colab_type": "text"
      },
      "source": [
        "<a href=\"https://colab.research.google.com/github/OneFineStarstuff/State-of-the-Art/blob/main/Federated_Learning.ipynb\" target=\"_parent\"><img src=\"https://colab.research.google.com/assets/colab-badge.svg\" alt=\"Open In Colab\"/></a>"
      ]
    },
    {
      "cell_type": "code",
      "execution_count": null,
      "metadata": {
        "id": "Q05U90-nISXL"
      },
      "outputs": [],
      "source": [
        "import torch\n",
        "import torch.nn as nn\n",
        "import torch.optim as optim\n",
        "from torchvision import datasets, transforms\n",
        "from torch.utils.data import DataLoader, random_split\n",
        "\n",
        "# Example model: simple neural network for classification\n",
        "class FederatedNN(nn.Module):\n",
        "    def __init__(self):\n",
        "        super(FederatedNN, self).__init__()\n",
        "        self.fc1 = nn.Linear(784, 128)\n",
        "        self.fc2 = nn.Linear(128, 10)\n",
        "\n",
        "    def forward(self, x):\n",
        "        x = torch.relu(self.fc1(x))\n",
        "        x = self.fc2(x)\n",
        "        return x\n",
        "\n",
        "# Federated learning function (simplified version)\n",
        "def federated_training(global_model, local_models, data_loaders, num_rounds=5, device='cpu'):\n",
        "    global_model.to(device)\n",
        "    for local_model in local_models:\n",
        "        local_model.to(device)\n",
        "\n",
        "    for round in range(num_rounds):\n",
        "        print(f\"Starting Round {round+1}...\")\n",
        "\n",
        "        # Each device trains locally\n",
        "        for i, local_model in enumerate(local_models):\n",
        "            local_model.load_state_dict(global_model.state_dict())  # Synchronize with global model\n",
        "            local_optimizer = optim.SGD(local_model.parameters(), lr=0.01)\n",
        "            criterion = nn.CrossEntropyLoss()\n",
        "\n",
        "            # Simulate local training\n",
        "            local_model.train()\n",
        "            for images, labels in data_loaders[i]:\n",
        "                images = images.view(-1, 784).to(device)\n",
        "                labels = labels.to(device)\n",
        "\n",
        "                local_optimizer.zero_grad()\n",
        "                outputs = local_model(images)\n",
        "                loss = criterion(outputs, labels)\n",
        "                loss.backward()\n",
        "                local_optimizer.step()\n",
        "\n",
        "        # Aggregation of model weights (simplified FedAvg)\n",
        "        with torch.no_grad():\n",
        "            global_weights = global_model.state_dict()\n",
        "            for key in global_weights:\n",
        "                # Average the weights across all local models\n",
        "                global_weights[key] = torch.mean(\n",
        "                    torch.stack([local_model.state_dict()[key] for local_model in local_models]), dim=0\n",
        "                )\n",
        "            global_model.load_state_dict(global_weights)\n",
        "\n",
        "        print(f\"Round {round+1} completed.\")\n",
        "    return global_model\n",
        "\n",
        "# Dataset and DataLoaders for each simulated client\n",
        "transform = transforms.Compose([transforms.ToTensor(), transforms.Normalize((0.5,), (0.5,))])\n",
        "full_dataset = datasets.MNIST(root='./data', train=True, download=True, transform=transform)\n",
        "\n",
        "# Partition dataset for 3 clients\n",
        "client_datasets = random_split(full_dataset, [20000, 20000, len(full_dataset) - 40000])\n",
        "data_loaders = [DataLoader(dataset, batch_size=64, shuffle=True) for dataset in client_datasets]\n",
        "\n",
        "# Example setup: global and local models\n",
        "global_model = FederatedNN()\n",
        "local_models = [FederatedNN() for _ in range(3)]  # Three local models\n",
        "\n",
        "# Federated training loop\n",
        "device = torch.device(\"cuda\" if torch.cuda.is_available() else \"cpu\")\n",
        "federated_model = federated_training(global_model, local_models, data_loaders, num_rounds=5, device=device)"
      ]
    }
  ]
}