{
  "nbformat": 4,
  "nbformat_minor": 0,
  "metadata": {
    "colab": {
      "private_outputs": true,
      "provenance": [],
      "authorship_tag": "ABX9TyMV5msDOtdxRpZ3j+wJ2Xut",
      "include_colab_link": true
    },
    "kernelspec": {
      "name": "python3",
      "display_name": "Python 3"
    },
    "language_info": {
      "name": "python"
    }
  },
  "cells": [
    {
      "cell_type": "markdown",
      "metadata": {
        "id": "view-in-github",
        "colab_type": "text"
      },
      "source": [
        "<a href=\"https://colab.research.google.com/github/OneFineStarstuff/State-of-the-Art/blob/main/Federated_Learning.ipynb\" target=\"_parent\"><img src=\"https://colab.research.google.com/assets/colab-badge.svg\" alt=\"Open In Colab\"/></a>"
      ]
    },
    {
      "cell_type": "code",
      "source": [
        "pip install syft"
      ],
      "metadata": {
        "id": "CdID-Tr3xh3A"
      },
      "execution_count": null,
      "outputs": []
    },
    {
      "cell_type": "code",
      "execution_count": null,
      "metadata": {
        "id": "AH77XFz4xJXx"
      },
      "outputs": [],
      "source": [
        "import syft as sy\n",
        "import torch\n",
        "from torch import nn, optim\n",
        "\n",
        "# Hook PyTorch\n",
        "hook = sy.TorchHook(torch)\n",
        "\n",
        "# Define virtual workers\n",
        "client1 = sy.VirtualWorker(hook, id=\"client1\")\n",
        "client2 = sy.VirtualWorker(hook, id=\"client2\")\n",
        "\n",
        "# Define the neural network model\n",
        "class SimpleNN(nn.Module):\n",
        "    def __init__(self):\n",
        "        super(SimpleNN, self).__init__()\n",
        "        self.fc = nn.Linear(2, 1)\n",
        "\n",
        "    def forward(self, x):\n",
        "        return self.fc(x)\n",
        "\n",
        "# Define the federated training function\n",
        "def train_on_client(client, model, optimizer, loss_fn, data, target):\n",
        "    # Send the model and data to the client\n",
        "    model.send(client)\n",
        "    data, target = data.send(client), target.send(client)\n",
        "\n",
        "    # Perform a forward pass and compute loss\n",
        "    optimizer.zero_grad()\n",
        "    predictions = model(data)\n",
        "    loss = loss_fn(predictions, target)\n",
        "\n",
        "    # Backpropagation and optimizer step\n",
        "    loss.backward()\n",
        "    optimizer.step()\n",
        "\n",
        "    # Get the updated model back to the central server\n",
        "    model.get()\n",
        "    return loss.get().item()\n",
        "\n",
        "# Instantiate the model, optimizer, and loss function\n",
        "model = SimpleNN()\n",
        "optimizer = optim.SGD(model.parameters(), lr=0.01)\n",
        "loss_fn = nn.MSELoss()\n",
        "\n",
        "# Example datasets for clients\n",
        "data1 = torch.tensor([[1.0, 2.0], [2.0, 3.0]])\n",
        "target1 = torch.tensor([[3.0], [5.0]])\n",
        "data2 = torch.tensor([[3.0, 4.0], [4.0, 5.0]])\n",
        "target2 = torch.tensor([[7.0], [9.0]])\n",
        "\n",
        "# Federated training loop\n",
        "for epoch in range(5):  # Train for 5 epochs\n",
        "    loss1 = train_on_client(client1, model, optimizer, loss_fn, data1, target1)\n",
        "    loss2 = train_on_client(client2, model, optimizer, loss_fn, data2, target2)\n",
        "    print(f\"Epoch {epoch + 1}, Client 1 Loss: {loss1:.4f}, Client 2 Loss: {loss2:.4f}\")"
      ]
    }
  ]
}