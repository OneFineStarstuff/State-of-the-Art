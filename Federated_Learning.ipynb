{
  "nbformat": 4,
  "nbformat_minor": 0,
  "metadata": {
    "colab": {
      "private_outputs": true,
      "provenance": [],
      "authorship_tag": "ABX9TyMJjL2yWxJw/dXtHYAlerr1",
      "include_colab_link": true
    },
    "kernelspec": {
      "name": "python3",
      "display_name": "Python 3"
    },
    "language_info": {
      "name": "python"
    }
  },
  "cells": [
    {
      "cell_type": "markdown",
      "metadata": {
        "id": "view-in-github",
        "colab_type": "text"
      },
      "source": [
        "<a href=\"https://colab.research.google.com/github/OneFineStarstuff/State-of-the-Art/blob/main/Federated_Learning.ipynb\" target=\"_parent\"><img src=\"https://colab.research.google.com/assets/colab-badge.svg\" alt=\"Open In Colab\"/></a>"
      ]
    },
    {
      "cell_type": "code",
      "execution_count": null,
      "metadata": {
        "id": "oj9Zm6rAwAk5"
      },
      "outputs": [],
      "source": [
        "import torch\n",
        "import torch.nn as nn\n",
        "import torch.optim as optim\n",
        "\n",
        "class SimpleModel(nn.Module):\n",
        "    def __init__(self):\n",
        "        super(SimpleModel, self).__init__()\n",
        "        self.fc = nn.Linear(10, 1)\n",
        "\n",
        "    def forward(self, x):\n",
        "        return self.fc(x)\n",
        "\n",
        "def local_training(model, data, target, optimizer, epochs=1):\n",
        "    model.train()\n",
        "    for _ in range(epochs):\n",
        "        optimizer.zero_grad()\n",
        "        output = model(data)\n",
        "        loss = ((output - target) ** 2).mean()\n",
        "        loss.backward()\n",
        "        optimizer.step()\n",
        "    return model.state_dict()\n",
        "\n",
        "# Simulate multiple clients\n",
        "num_clients = 5\n",
        "models = [SimpleModel() for _ in range(num_clients)]\n",
        "optimizers = [optim.SGD(model.parameters(), lr=0.01) for model in models]\n",
        "data = torch.randn(10, 10)  # Simulated data\n",
        "target = torch.randn(10, 1)  # Simulated target\n",
        "\n",
        "for round in range(3):  # 3 rounds of federated learning\n",
        "    local_weights = []\n",
        "    for i in range(num_clients):\n",
        "        local_weights.append(local_training(models[i], data, target, optimizers[i]))\n",
        "    # Aggregating weights (simple average)\n",
        "    global_weights = {k: sum([w[k] for w in local_weights]) / num_clients for k in local_weights[0]}\n",
        "    for model in models:\n",
        "        model.load_state_dict(global_weights)\n",
        "    print(f'Round {round + 1} completed')"
      ]
    }
  ]
}