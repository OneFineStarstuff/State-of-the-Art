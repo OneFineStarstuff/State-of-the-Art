{
  "nbformat": 4,
  "nbformat_minor": 0,
  "metadata": {
    "colab": {
      "private_outputs": true,
      "provenance": [],
      "authorship_tag": "ABX9TyPK+Da+SlMm0jQL0o2M+dZb",
      "include_colab_link": true
    },
    "kernelspec": {
      "name": "python3",
      "display_name": "Python 3"
    },
    "language_info": {
      "name": "python"
    }
  },
  "cells": [
    {
      "cell_type": "markdown",
      "metadata": {
        "id": "view-in-github",
        "colab_type": "text"
      },
      "source": [
        "<a href=\"https://colab.research.google.com/github/OneFineStarstuff/State-of-the-Art/blob/main/Federated_Learning.ipynb\" target=\"_parent\"><img src=\"https://colab.research.google.com/assets/colab-badge.svg\" alt=\"Open In Colab\"/></a>"
      ]
    },
    {
      "cell_type": "code",
      "source": [
        "!pip install syft"
      ],
      "metadata": {
        "id": "NrBJU7thy85F"
      },
      "execution_count": null,
      "outputs": []
    },
    {
      "cell_type": "code",
      "execution_count": null,
      "metadata": {
        "id": "XrXltBcsyoaB"
      },
      "outputs": [],
      "source": [
        "import torch\n",
        "import torch.nn as nn\n",
        "import torch.optim as optim\n",
        "import syft as sy\n",
        "\n",
        "# Create a virtual PyGrid network\n",
        "hook = sy.TorchHook(torch)\n",
        "\n",
        "# Define virtual workers\n",
        "alice = sy.VirtualWorker(hook, id=\"alice\")\n",
        "bob = sy.VirtualWorker(hook, id=\"bob\")\n",
        "\n",
        "# Simple neural network\n",
        "class Net(nn.Module):\n",
        "    def __init__(self):\n",
        "        super(Net, self).__init__()\n",
        "        self.fc = nn.Linear(2, 1)\n",
        "\n",
        "    def forward(self, x):\n",
        "        return torch.sigmoid(self.fc(x))\n",
        "\n",
        "model = Net()\n",
        "\n",
        "# Distribute data to workers\n",
        "data_alice = torch.tensor([[0, 0], [1, 1]], dtype=torch.float).send(alice)\n",
        "target_alice = torch.tensor([[0], [1]], dtype=torch.float).send(alice)\n",
        "\n",
        "data_bob = torch.tensor([[1, 0], [0, 1]], dtype=torch.float).send(bob)\n",
        "target_bob = torch.tensor([[1], [1]], dtype=torch.float).send(bob)\n",
        "\n",
        "optimizer = optim.SGD(model.parameters(), lr=0.1)\n",
        "\n",
        "for epoch in range(10):\n",
        "    # Training on Alice's data\n",
        "    model.send(alice)\n",
        "    optimizer.zero_grad()\n",
        "    pred_alice = model(data_alice)\n",
        "    loss_alice = ((pred_alice - target_alice) ** 2).sum()\n",
        "    loss_alice.backward()\n",
        "    optimizer.step()\n",
        "    model.get()\n",
        "\n",
        "    # Training on Bob's data\n",
        "    model.send(bob)\n",
        "    optimizer.zero_grad()\n",
        "    pred_bob = model(data_bob)\n",
        "    loss_bob = ((pred_bob - target_bob) ** 2).sum()\n",
        "    loss_bob.backward()\n",
        "    optimizer.step()\n",
        "    model.get()\n",
        "\n",
        "    print(f\"Epoch {epoch + 1}, Loss: {loss_alice.item() + loss_bob.item()}\")"
      ]
    }
  ]
}