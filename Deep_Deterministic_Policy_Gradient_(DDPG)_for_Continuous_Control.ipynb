{
  "nbformat": 4,
  "nbformat_minor": 0,
  "metadata": {
    "colab": {
      "private_outputs": true,
      "provenance": [],
      "authorship_tag": "ABX9TyPLeeHze3h45dWxnj21g99s",
      "include_colab_link": true
    },
    "kernelspec": {
      "name": "python3",
      "display_name": "Python 3"
    },
    "language_info": {
      "name": "python"
    }
  },
  "cells": [
    {
      "cell_type": "markdown",
      "metadata": {
        "id": "view-in-github",
        "colab_type": "text"
      },
      "source": [
        "<a href=\"https://colab.research.google.com/github/OneFineStarstuff/State-of-the-Art/blob/main/Deep_Deterministic_Policy_Gradient_(DDPG)_for_Continuous_Control.ipynb\" target=\"_parent\"><img src=\"https://colab.research.google.com/assets/colab-badge.svg\" alt=\"Open In Colab\"/></a>"
      ]
    },
    {
      "cell_type": "code",
      "source": [
        "pip install stable_baselines3"
      ],
      "metadata": {
        "id": "LExRyokBy1eh"
      },
      "execution_count": null,
      "outputs": []
    },
    {
      "cell_type": "code",
      "source": [
        "pip install 'shimmy>=2.0'"
      ],
      "metadata": {
        "id": "7OvV38-TzT6U"
      },
      "execution_count": null,
      "outputs": []
    },
    {
      "cell_type": "code",
      "execution_count": null,
      "metadata": {
        "id": "U2W8EEx3ydpj"
      },
      "outputs": [],
      "source": [
        "from stable_baselines3 import DDPG\n",
        "from stable_baselines3.common.noise import NormalActionNoise\n",
        "import gymnasium as gym\n",
        "import numpy as np\n",
        "from stable_baselines3.common.vec_env import DummyVecEnv\n",
        "\n",
        "# Create the environment using Gymnasium\n",
        "def make_env():\n",
        "    return gym.make('Pendulum-v1')\n",
        "\n",
        "env = DummyVecEnv([make_env])\n",
        "\n",
        "# Define the action noise for exploration\n",
        "n_actions = env.action_space.shape[-1]\n",
        "action_noise = NormalActionNoise(mean=np.zeros(n_actions), sigma=0.1 * np.ones(n_actions))\n",
        "\n",
        "# Initialize the DDPG model\n",
        "model = DDPG('MlpPolicy', env, action_noise=action_noise, verbose=1)\n",
        "\n",
        "# Train the model\n",
        "model.learn(total_timesteps=100000)\n",
        "\n",
        "# Evaluate the model\n",
        "obs = env.reset()\n",
        "for _ in range(1000):\n",
        "    action, _states = model.predict(obs)\n",
        "    obs, rewards, dones, info = env.step(action)\n",
        "    if dones:\n",
        "        obs = env.reset()\n",
        "    env.render()"
      ]
    }
  ]
}