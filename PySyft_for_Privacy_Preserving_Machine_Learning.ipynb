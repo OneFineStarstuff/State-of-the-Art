{
  "nbformat": 4,
  "nbformat_minor": 0,
  "metadata": {
    "colab": {
      "private_outputs": true,
      "provenance": [],
      "authorship_tag": "ABX9TyMgZn9f4Zp5eTwuuPnQRreB",
      "include_colab_link": true
    },
    "kernelspec": {
      "name": "python3",
      "display_name": "Python 3"
    },
    "language_info": {
      "name": "python"
    }
  },
  "cells": [
    {
      "cell_type": "markdown",
      "metadata": {
        "id": "view-in-github",
        "colab_type": "text"
      },
      "source": [
        "<a href=\"https://colab.research.google.com/github/OneFineStarstuff/State-of-the-Art/blob/main/PySyft_for_Privacy_Preserving_Machine_Learning.ipynb\" target=\"_parent\"><img src=\"https://colab.research.google.com/assets/colab-badge.svg\" alt=\"Open In Colab\"/></a>"
      ]
    },
    {
      "cell_type": "code",
      "source": [
        "pip install syft"
      ],
      "metadata": {
        "id": "95wzWyTTskeG"
      },
      "execution_count": null,
      "outputs": []
    },
    {
      "cell_type": "code",
      "execution_count": null,
      "metadata": {
        "id": "rKcQ_wULsMTD"
      },
      "outputs": [],
      "source": [
        "import torch\n",
        "import syft as sy\n",
        "\n",
        "# Create a hook and virtual workers\n",
        "hook = sy.TorchHook(torch)\n",
        "alice = sy.VirtualWorker(hook, id=\"alice\")\n",
        "bob = sy.VirtualWorker(hook, id=\"bob\")\n",
        "\n",
        "# Send data to virtual workers\n",
        "data = torch.tensor([[1, 0], [0, 1]], requires_grad=True).send(alice)\n",
        "target = torch.tensor([[1], [0]], requires_grad=True).send(bob)\n",
        "\n",
        "# Define a simple linear model\n",
        "model = torch.nn.Linear(2, 1)\n",
        "optimizer = torch.optim.SGD(model.parameters(), lr=0.1)\n",
        "\n",
        "# Train the model\n",
        "for epoch in range(10):\n",
        "    # Zero gradients\n",
        "    optimizer.zero_grad()\n",
        "\n",
        "    # Compute predictions\n",
        "    pred = model(data)\n",
        "\n",
        "    # Compute the loss\n",
        "    loss = ((pred - target) ** 2).sum()\n",
        "\n",
        "    # Backpropagate the loss\n",
        "    loss.backward()\n",
        "\n",
        "    # Update the model\n",
        "    optimizer.step()\n",
        "\n",
        "    # Print the loss\n",
        "    print(f\"Epoch {epoch}, Loss: {loss.get()}\")"
      ]
    }
  ]
}