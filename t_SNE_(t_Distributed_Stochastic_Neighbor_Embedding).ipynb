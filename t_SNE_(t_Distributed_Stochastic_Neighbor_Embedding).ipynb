{
  "nbformat": 4,
  "nbformat_minor": 0,
  "metadata": {
    "colab": {
      "private_outputs": true,
      "provenance": [],
      "authorship_tag": "ABX9TyOoqzFOfl3M2n30T4H3G0Vk",
      "include_colab_link": true
    },
    "kernelspec": {
      "name": "python3",
      "display_name": "Python 3"
    },
    "language_info": {
      "name": "python"
    }
  },
  "cells": [
    {
      "cell_type": "markdown",
      "metadata": {
        "id": "view-in-github",
        "colab_type": "text"
      },
      "source": [
        "<a href=\"https://colab.research.google.com/github/OneFineStarstuff/State-of-the-Art/blob/main/t_SNE_(t_Distributed_Stochastic_Neighbor_Embedding).ipynb\" target=\"_parent\"><img src=\"https://colab.research.google.com/assets/colab-badge.svg\" alt=\"Open In Colab\"/></a>"
      ]
    },
    {
      "cell_type": "code",
      "execution_count": null,
      "metadata": {
        "id": "n7Ge830kR0Rx"
      },
      "outputs": [],
      "source": [
        "from sklearn.manifold import TSNE\n",
        "from sklearn.datasets import load_digits\n",
        "import matplotlib.pyplot as plt\n",
        "\n",
        "# Load the digits dataset\n",
        "digits = load_digits()\n",
        "\n",
        "# Initialize t-SNE\n",
        "tsne = TSNE(n_components=2, random_state=0)\n",
        "\n",
        "# Fit and transform the data\n",
        "X_tsne = tsne.fit_transform(digits.data)\n",
        "\n",
        "# Create a scatter plot of the t-SNE results\n",
        "plt.scatter(X_tsne[:, 0], X_tsne[:, 1], c=digits.target, cmap='tab10')\n",
        "plt.colorbar()\n",
        "plt.show()"
      ]
    }
  ]
}