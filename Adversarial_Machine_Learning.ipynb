{
  "nbformat": 4,
  "nbformat_minor": 0,
  "metadata": {
    "colab": {
      "private_outputs": true,
      "provenance": [],
      "authorship_tag": "ABX9TyPlycrHjEYtb7+BzTY85Wun",
      "include_colab_link": true
    },
    "kernelspec": {
      "name": "python3",
      "display_name": "Python 3"
    },
    "language_info": {
      "name": "python"
    }
  },
  "cells": [
    {
      "cell_type": "markdown",
      "metadata": {
        "id": "view-in-github",
        "colab_type": "text"
      },
      "source": [
        "<a href=\"https://colab.research.google.com/github/OneFineStarstuff/State-of-the-Art/blob/main/Adversarial_Machine_Learning.ipynb\" target=\"_parent\"><img src=\"https://colab.research.google.com/assets/colab-badge.svg\" alt=\"Open In Colab\"/></a>"
      ]
    },
    {
      "cell_type": "code",
      "source": [
        "pip install foolbox"
      ],
      "metadata": {
        "id": "TAuwmd-T_zRu"
      },
      "execution_count": null,
      "outputs": []
    },
    {
      "cell_type": "code",
      "execution_count": null,
      "metadata": {
        "id": "P4vDVhd__jeP"
      },
      "outputs": [],
      "source": [
        "import torch\n",
        "import torchvision.transforms as T\n",
        "import torchvision.models as models\n",
        "import torchvision.datasets as datasets\n",
        "import foolbox as fb\n",
        "\n",
        "# Load a pre-trained ResNet-18 model\n",
        "model = models.resnet18(weights=models.ResNet18_Weights.IMAGENET1K_V1).eval()\n",
        "fmodel = fb.PyTorchModel(model, bounds=(0, 1))\n",
        "\n",
        "# Load an example image from CIFAR-10 dataset\n",
        "transform = T.Compose([\n",
        "    T.Resize(256),\n",
        "    T.CenterCrop(224),\n",
        "    T.ToTensor(),\n",
        "    # Note: Normalization here scales the pixel values correctly\n",
        "])\n",
        "\n",
        "dataset = datasets.CIFAR10(root='/tmp/CIFAR10', train=False, download=True, transform=transform)\n",
        "image, label = dataset[0]\n",
        "image = image.unsqueeze(0)  # Add batch dimension\n",
        "image = (image - image.min()) / (image.max() - image.min())  # Ensure image is in [0, 1]\n",
        "label = torch.tensor([label])\n",
        "\n",
        "# Perform the FGSM attack\n",
        "attack = fb.attacks.FGSM()\n",
        "raw_advs, advs, success = attack(fmodel, image, label, epsilons=0.03)\n",
        "\n",
        "print(f'Attack successful: {success.numpy()}')"
      ]
    }
  ]
}