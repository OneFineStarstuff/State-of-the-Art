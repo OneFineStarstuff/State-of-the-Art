{
  "nbformat": 4,
  "nbformat_minor": 0,
  "metadata": {
    "colab": {
      "private_outputs": true,
      "provenance": [],
      "authorship_tag": "ABX9TyPKC4r0zUYHeP51TTmOlZoc",
      "include_colab_link": true
    },
    "kernelspec": {
      "name": "python3",
      "display_name": "Python 3"
    },
    "language_info": {
      "name": "python"
    }
  },
  "cells": [
    {
      "cell_type": "markdown",
      "metadata": {
        "id": "view-in-github",
        "colab_type": "text"
      },
      "source": [
        "<a href=\"https://colab.research.google.com/github/OneFineStarstuff/State-of-the-Art/blob/main/Prototypical_Networks.ipynb\" target=\"_parent\"><img src=\"https://colab.research.google.com/assets/colab-badge.svg\" alt=\"Open In Colab\"/></a>"
      ]
    },
    {
      "cell_type": "code",
      "source": [
        "pip install torchmeta"
      ],
      "metadata": {
        "id": "YnKlqktTTp2v"
      },
      "execution_count": null,
      "outputs": []
    },
    {
      "cell_type": "code",
      "execution_count": null,
      "metadata": {
        "id": "_I0KetoCTWBY"
      },
      "outputs": [],
      "source": [
        "import torch\n",
        "import torch.nn as nn\n",
        "import torch.nn.functional as F\n",
        "from torchmeta.utils.prototype import get_prototypes\n",
        "\n",
        "# Define the Prototypical Network class\n",
        "class PrototypicalNetwork(nn.Module):\n",
        "    def __init__(self, encoder):\n",
        "        super(PrototypicalNetwork, self).__init__()\n",
        "        self.encoder = encoder\n",
        "\n",
        "    def forward(self, inputs):\n",
        "        embeddings = self.encoder(inputs)\n",
        "        return embeddings\n",
        "\n",
        "# Example usage with dummy encoder and inputs\n",
        "dummy_encoder = nn.Sequential(\n",
        "    nn.Flatten(),  # Flatten the input\n",
        "    nn.Linear(784, 64)  # Linear layer for embedding\n",
        ")\n",
        "proto_net = PrototypicalNetwork(dummy_encoder)\n",
        "inputs = torch.randn(32, 1, 28, 28)  # Example inputs (batch_size=32, channels=1, height=28, width=28)\n",
        "embeddings = proto_net(inputs)\n",
        "\n",
        "# Print the shape of the embeddings\n",
        "print(embeddings.shape)  # Expected shape: [32, 64]"
      ]
    }
  ]
}