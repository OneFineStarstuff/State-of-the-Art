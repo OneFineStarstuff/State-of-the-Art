{
  "nbformat": 4,
  "nbformat_minor": 0,
  "metadata": {
    "colab": {
      "private_outputs": true,
      "provenance": [],
      "authorship_tag": "ABX9TyMcyuQeI9EsyaM2hwzicMDY",
      "include_colab_link": true
    },
    "kernelspec": {
      "name": "python3",
      "display_name": "Python 3"
    },
    "language_info": {
      "name": "python"
    }
  },
  "cells": [
    {
      "cell_type": "markdown",
      "metadata": {
        "id": "view-in-github",
        "colab_type": "text"
      },
      "source": [
        "<a href=\"https://colab.research.google.com/github/OneFineStarstuff/State-of-the-Art/blob/main/Prototypical_Networks.ipynb\" target=\"_parent\"><img src=\"https://colab.research.google.com/assets/colab-badge.svg\" alt=\"Open In Colab\"/></a>"
      ]
    },
    {
      "cell_type": "code",
      "execution_count": null,
      "metadata": {
        "id": "9J93lfH0wQ_3"
      },
      "outputs": [],
      "source": [
        "import torch\n",
        "import torch.nn as nn\n",
        "import torch.nn.functional as F  # Add this import\n",
        "import torch.optim as optim\n",
        "from torch.utils.data import DataLoader, TensorDataset\n",
        "import numpy as np\n",
        "\n",
        "# Define the Prototypical Network model\n",
        "class ProtoNet(nn.Module):\n",
        "    def __init__(self, input_dim, hidden_dim):\n",
        "        super(ProtoNet, self).__init__()\n",
        "        self.fc1 = nn.Linear(input_dim, hidden_dim)\n",
        "        self.fc2 = nn.Linear(hidden_dim, hidden_dim)\n",
        "\n",
        "    def forward(self, x):\n",
        "        x = F.relu(self.fc1(x))\n",
        "        x = self.fc2(x)\n",
        "        return x\n",
        "\n",
        "# Sample few-shot task data (e.g., 5 classes, 5 support examples per class, 15 query examples per class)\n",
        "def generate_data(num_classes, num_support, num_query, input_dim):\n",
        "    data = np.random.rand(num_classes * (num_support + num_query), input_dim)\n",
        "    labels = np.array([[i] * (num_support + num_query) for i in range(num_classes)]).flatten()\n",
        "    return data, labels\n",
        "\n",
        "# Prepare the data\n",
        "input_dim = 64\n",
        "num_classes = 5\n",
        "num_support = 5\n",
        "num_query = 15\n",
        "hidden_dim = 128\n",
        "\n",
        "data, labels = generate_data(num_classes, num_support, num_query, input_dim)\n",
        "dataset = TensorDataset(torch.FloatTensor(data), torch.LongTensor(labels))\n",
        "loader = DataLoader(dataset, batch_size=num_classes * (num_support + num_query), shuffle=True)\n",
        "\n",
        "# Instantiate the model\n",
        "model = ProtoNet(input_dim, hidden_dim)\n",
        "\n",
        "# Define the training loop\n",
        "def train_protonet(model, loader, num_classes, num_support, num_query, num_epochs, learning_rate):\n",
        "    optimizer = torch.optim.Adam(model.parameters(), lr=learning_rate)\n",
        "    for epoch in range(num_epochs):\n",
        "        for data, labels in loader:\n",
        "            data, labels = data, labels  # Keep data on CPU\n",
        "            optimizer.zero_grad()\n",
        "\n",
        "            # Split data into support and query sets\n",
        "            support_indices = torch.arange(num_classes * num_support)\n",
        "            query_indices = torch.arange(num_classes * num_support, num_classes * (num_support + num_query))\n",
        "\n",
        "            support_set = data[support_indices]\n",
        "            query_set = data[query_indices]\n",
        "\n",
        "            # Compute class prototypes\n",
        "            prototypes = model(support_set).view(num_classes, num_support, -1).mean(1)\n",
        "\n",
        "            # Compute distances from query set to prototypes\n",
        "            query_embeddings = model(query_set)\n",
        "            distances = torch.cdist(query_embeddings, prototypes)\n",
        "\n",
        "            # Compute loss\n",
        "            query_labels = labels[query_indices]\n",
        "            loss = F.cross_entropy(-distances, query_labels)\n",
        "            loss.backward()\n",
        "            optimizer.step()\n",
        "\n",
        "            print(f\"Epoch {epoch+1}, Loss: {loss.item()}\")\n",
        "\n",
        "train_protonet(model, loader, num_classes, num_support, num_query, num_epochs=10, learning_rate=0.001)"
      ]
    }
  ]
}