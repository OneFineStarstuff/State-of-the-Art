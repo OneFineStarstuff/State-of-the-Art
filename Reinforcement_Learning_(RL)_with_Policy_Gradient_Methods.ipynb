{
  "nbformat": 4,
  "nbformat_minor": 0,
  "metadata": {
    "colab": {
      "private_outputs": true,
      "provenance": [],
      "authorship_tag": "ABX9TyPUIiac8nDx4OUGkRwouInt",
      "include_colab_link": true
    },
    "kernelspec": {
      "name": "python3",
      "display_name": "Python 3"
    },
    "language_info": {
      "name": "python"
    }
  },
  "cells": [
    {
      "cell_type": "markdown",
      "metadata": {
        "id": "view-in-github",
        "colab_type": "text"
      },
      "source": [
        "<a href=\"https://colab.research.google.com/github/OneFineStarstuff/State-of-the-Art/blob/main/Reinforcement_Learning_(RL)_with_Policy_Gradient_Methods.ipynb\" target=\"_parent\"><img src=\"https://colab.research.google.com/assets/colab-badge.svg\" alt=\"Open In Colab\"/></a>"
      ]
    },
    {
      "cell_type": "code",
      "execution_count": null,
      "metadata": {
        "id": "URa9f-ArJmDM"
      },
      "outputs": [],
      "source": [
        "import torch\n",
        "import torch.nn as nn\n",
        "import torch.optim as optim\n",
        "import gym\n",
        "\n",
        "class PolicyNetwork(nn.Module):\n",
        "    def __init__(self, state_dim, action_dim):\n",
        "        super(PolicyNetwork, self).__init__()\n",
        "        self.fc = nn.Sequential(\n",
        "            nn.Linear(state_dim, 128),\n",
        "            nn.ReLU(),\n",
        "            nn.Linear(128, action_dim),\n",
        "            nn.Softmax(dim=-1)\n",
        "        )\n",
        "\n",
        "    def forward(self, x):\n",
        "        return self.fc(x)\n",
        "\n",
        "def train_policy_gradient(env, policy_net, optimizer, num_episodes=1000):\n",
        "    for episode in range(num_episodes):\n",
        "        state, _ = env.reset()  # Adjusted for new Gym API\n",
        "        rewards = []\n",
        "        log_probs = []\n",
        "        done = False\n",
        "\n",
        "        while not done:\n",
        "            state = torch.FloatTensor(state)\n",
        "            action_probs = policy_net(state)\n",
        "            action = torch.multinomial(action_probs, 1).item()\n",
        "            log_prob = torch.log(action_probs[action])\n",
        "            log_probs.append(log_prob)\n",
        "\n",
        "            step_result = env.step(action)\n",
        "            if len(step_result) == 5:  # New API\n",
        "                next_state, reward, terminated, truncated, _ = step_result\n",
        "                done = terminated or truncated\n",
        "            else:  # Old API\n",
        "                next_state, reward, done, _ = step_result\n",
        "\n",
        "            rewards.append(reward)\n",
        "            state = next_state\n",
        "\n",
        "        # Compute the discounted rewards\n",
        "        discounted_rewards = []\n",
        "        R = 0\n",
        "        for r in reversed(rewards):\n",
        "            R = r + 0.99 * R\n",
        "            discounted_rewards.insert(0, R)\n",
        "\n",
        "        discounted_rewards = torch.FloatTensor(discounted_rewards)\n",
        "        discounted_rewards = (discounted_rewards - discounted_rewards.mean()) / (discounted_rewards.std() + 1e-8)\n",
        "\n",
        "        loss = 0\n",
        "        for log_prob, reward in zip(log_probs, discounted_rewards):\n",
        "            loss -= log_prob * reward\n",
        "\n",
        "        optimizer.zero_grad()\n",
        "        loss.backward()\n",
        "        optimizer.step()\n",
        "\n",
        "env = gym.make('CartPole-v1', new_step_api=True)  # Explicitly use new Gym API\n",
        "policy_net = PolicyNetwork(state_dim=env.observation_space.shape[0], action_dim=env.action_space.n)\n",
        "optimizer = optim.Adam(policy_net.parameters(), lr=1e-2)\n",
        "train_policy_gradient(env, policy_net, optimizer)"
      ]
    }
  ]
}