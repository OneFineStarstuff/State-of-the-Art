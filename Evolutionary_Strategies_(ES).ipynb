{
  "nbformat": 4,
  "nbformat_minor": 0,
  "metadata": {
    "colab": {
      "private_outputs": true,
      "provenance": [],
      "authorship_tag": "ABX9TyNRql+mGiSOX/yJWR8kz0ak",
      "include_colab_link": true
    },
    "kernelspec": {
      "name": "python3",
      "display_name": "Python 3"
    },
    "language_info": {
      "name": "python"
    }
  },
  "cells": [
    {
      "cell_type": "markdown",
      "metadata": {
        "id": "view-in-github",
        "colab_type": "text"
      },
      "source": [
        "<a href=\"https://colab.research.google.com/github/OneFineStarstuff/State-of-the-Art/blob/main/Evolutionary_Strategies_(ES).ipynb\" target=\"_parent\"><img src=\"https://colab.research.google.com/assets/colab-badge.svg\" alt=\"Open In Colab\"/></a>"
      ]
    },
    {
      "cell_type": "code",
      "execution_count": null,
      "metadata": {
        "id": "4NwubtVFGJ8V"
      },
      "outputs": [],
      "source": [
        "import numpy as np\n",
        "import matplotlib.pyplot as plt\n",
        "\n",
        "def fitness_function(x):\n",
        "    return np.sum(x**2)\n",
        "\n",
        "def evolutionary_strategy(fitness_function, population_size, num_generations, dimension):\n",
        "    population = np.random.randn(population_size, dimension)\n",
        "    fitness_history = []\n",
        "\n",
        "    for generation in range(num_generations):\n",
        "        fitness = np.array([fitness_function(ind) for ind in population])\n",
        "        fittest_indices = np.argsort(fitness)[:population_size // 2]\n",
        "        survivors = population[fittest_indices]\n",
        "        elite = population[np.argmin(fitness)]  # Elitism\n",
        "\n",
        "        # Adaptive mutation scaling\n",
        "        mutation_scale = max(0.1, 0.5 / (generation + 1))\n",
        "        mutation = np.random.randn(*survivors.shape) * mutation_scale\n",
        "        population = np.vstack([survivors, survivors + mutation, elite])  # Preserve elite\n",
        "\n",
        "        # Track fitness progress\n",
        "        fitness_history.append(np.min(fitness))\n",
        "\n",
        "    # Visualization of convergence\n",
        "    plt.plot(fitness_history)\n",
        "    plt.xlabel('Generation')\n",
        "    plt.ylabel('Best Fitness')\n",
        "    plt.title('Evolutionary Strategy Convergence')\n",
        "    plt.show()\n",
        "\n",
        "    return population[np.argmin([fitness_function(ind) for ind in population])]\n",
        "\n",
        "best_solution = evolutionary_strategy(fitness_function, population_size=50, num_generations=100, dimension=10)\n",
        "print(\"Best Solution:\", best_solution)"
      ]
    }
  ]
}