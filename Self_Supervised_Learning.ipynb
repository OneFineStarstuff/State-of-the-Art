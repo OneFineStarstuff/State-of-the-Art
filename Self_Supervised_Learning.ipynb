{
  "nbformat": 4,
  "nbformat_minor": 0,
  "metadata": {
    "colab": {
      "private_outputs": true,
      "provenance": [],
      "authorship_tag": "ABX9TyNgQ5sFoq4OeuFGTja9l9Vv",
      "include_colab_link": true
    },
    "kernelspec": {
      "name": "python3",
      "display_name": "Python 3"
    },
    "language_info": {
      "name": "python"
    }
  },
  "cells": [
    {
      "cell_type": "markdown",
      "metadata": {
        "id": "view-in-github",
        "colab_type": "text"
      },
      "source": [
        "<a href=\"https://colab.research.google.com/github/OneFineStarstuff/State-of-the-Art/blob/main/Self_Supervised_Learning.ipynb\" target=\"_parent\"><img src=\"https://colab.research.google.com/assets/colab-badge.svg\" alt=\"Open In Colab\"/></a>"
      ]
    },
    {
      "cell_type": "code",
      "execution_count": null,
      "metadata": {
        "id": "o9J_U_6I7nlh"
      },
      "outputs": [],
      "source": [
        "import torch\n",
        "import torch.nn as nn\n",
        "import torch.nn.functional as F\n",
        "import torch.optim as optim\n",
        "import torchvision\n",
        "import torchvision.transforms as transforms\n",
        "from torch.utils.data import DataLoader\n",
        "\n",
        "class ContrastiveModel(nn.Module):\n",
        "    def __init__(self, feature_dim):\n",
        "        super(ContrastiveModel, self).__init__()\n",
        "        self.encoder = torchvision.models.resnet18(weights=None, num_classes=feature_dim)\n",
        "\n",
        "    def forward(self, x):\n",
        "        return self.encoder(x)\n",
        "\n",
        "def contrastive_loss(out_1, out_2, temperature):\n",
        "    out = torch.cat([out_1, out_2], dim=0)\n",
        "    sim_matrix = F.cosine_similarity(out.unsqueeze(1), out.unsqueeze(0), dim=2)\n",
        "    labels = torch.arange(out.size(0) // 2).repeat(2).to(out.device)\n",
        "    mask = torch.eye(out.size(0)).to(out.device).bool()\n",
        "    sim_matrix = sim_matrix[~mask].view(sim_matrix.size(0), -1)\n",
        "    sim_matrix = sim_matrix / temperature\n",
        "    loss = F.cross_entropy(sim_matrix, labels)\n",
        "    return loss\n",
        "\n",
        "# Example usage\n",
        "transform = transforms.Compose([transforms.ToTensor(), transforms.Normalize((0.5,), (0.5,))])\n",
        "train_dataset = torchvision.datasets.CIFAR10(root='./data', train=True, download=True, transform=transform)\n",
        "train_loader = DataLoader(train_dataset, batch_size=32, shuffle=True)\n",
        "\n",
        "model = ContrastiveModel(feature_dim=128)\n",
        "optimizer = optim.Adam(model.parameters(), lr=0.001)\n",
        "temperature = 0.07\n",
        "\n",
        "for epoch in range(10):\n",
        "    for images, _ in train_loader:\n",
        "        out_1 = model(images)\n",
        "        out_2 = model(images)\n",
        "        loss = contrastive_loss(out_1, out_2, temperature)\n",
        "        optimizer.zero_grad()\n",
        "        loss.backward()\n",
        "        optimizer.step()\n",
        "    print(f'Epoch {epoch + 1}, Loss: {loss.item():.4f}')"
      ]
    }
  ]
}