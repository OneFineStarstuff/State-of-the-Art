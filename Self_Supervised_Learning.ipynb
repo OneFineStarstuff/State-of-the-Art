{
  "nbformat": 4,
  "nbformat_minor": 0,
  "metadata": {
    "colab": {
      "private_outputs": true,
      "provenance": [],
      "authorship_tag": "ABX9TyOo5gg3SW/mVj+OtTlffr/O",
      "include_colab_link": true
    },
    "kernelspec": {
      "name": "python3",
      "display_name": "Python 3"
    },
    "language_info": {
      "name": "python"
    }
  },
  "cells": [
    {
      "cell_type": "markdown",
      "metadata": {
        "id": "view-in-github",
        "colab_type": "text"
      },
      "source": [
        "<a href=\"https://colab.research.google.com/github/OneFineStarstuff/State-of-the-Art/blob/main/Self_Supervised_Learning.ipynb\" target=\"_parent\"><img src=\"https://colab.research.google.com/assets/colab-badge.svg\" alt=\"Open In Colab\"/></a>"
      ]
    },
    {
      "cell_type": "code",
      "execution_count": null,
      "metadata": {
        "id": "yMs8JU6JMx-V"
      },
      "outputs": [],
      "source": [
        "import torch\n",
        "import torch.nn as nn\n",
        "import torchvision.transforms as T\n",
        "import torchvision.models as models\n",
        "import torch.optim as optim\n",
        "\n",
        "class SimCLR(nn.Module):\n",
        "    def __init__(self, base_model, projection_dim):\n",
        "        super(SimCLR, self).__init__()\n",
        "        self.base_model = base_model\n",
        "        in_features = base_model.fc.in_features  # Determine in_features before replacing fc\n",
        "        self.base_model.fc = nn.Identity()  # Remove the classification head\n",
        "        self.projector = nn.Sequential(\n",
        "            nn.Linear(in_features, 256),\n",
        "            nn.ReLU(),\n",
        "            nn.Linear(256, projection_dim)\n",
        "        )\n",
        "\n",
        "    def forward(self, x):\n",
        "        h = self.base_model(x)\n",
        "        z = self.projector(h)\n",
        "        return z\n",
        "\n",
        "# Define the SimCLR transform\n",
        "transform = T.Compose([\n",
        "    T.RandomResizedCrop(size=224),\n",
        "    T.RandomHorizontalFlip(),\n",
        "    T.ToTensor(),\n",
        "    T.Normalize((0.5,), (0.5,))\n",
        "])\n",
        "\n",
        "# Example using ResNet as the base model\n",
        "base_model = models.resnet18(weights=None)  # Update: Use 'weights=None' instead of 'pretrained=False'\n",
        "\n",
        "model = SimCLR(base_model, projection_dim=128)\n",
        "criterion = nn.CrossEntropyLoss()\n",
        "optimizer = optim.Adam(model.parameters(), lr=0.001)\n",
        "\n",
        "# Function to compute contrastive loss\n",
        "def contrastive_loss(z_i, z_j, temperature=0.5):\n",
        "    batch_size = z_i.shape[0]\n",
        "    z_i = nn.functional.normalize(z_i, dim=1)\n",
        "    z_j = nn.functional.normalize(z_j, dim=1)\n",
        "    representations = torch.cat([z_i, z_j], dim=0)\n",
        "    similarity_matrix = torch.matmul(representations, representations.T) / temperature\n",
        "    labels = torch.cat([torch.arange(batch_size) for _ in range(2)], dim=0)\n",
        "    labels = (labels.unsqueeze(0) == labels.unsqueeze(1)).float()\n",
        "\n",
        "    mask = torch.eye(labels.shape[0], dtype=torch.bool).to(labels.device)\n",
        "    labels = labels[~mask].view(labels.shape[0], -1)\n",
        "    similarity_matrix = similarity_matrix[~mask].view(similarity_matrix.shape[0], -1)\n",
        "\n",
        "    positives = similarity_matrix[labels.bool()].view(labels.shape[0], -1)\n",
        "    negatives = similarity_matrix[~labels.bool()].view(similarity_matrix.shape[0], -1)\n",
        "\n",
        "    logits = torch.cat([positives, negatives], dim=1)\n",
        "    labels = torch.zeros(logits.shape[0], dtype=torch.long).to(logits.device)\n",
        "\n",
        "    return nn.functional.cross_entropy(logits, labels)\n",
        "\n",
        "# Training loop\n",
        "def train(model, dataloader, optimizer, epochs):\n",
        "    model.train()\n",
        "    for epoch in range(epochs):\n",
        "        total_loss = 0\n",
        "        for images, _ in dataloader:\n",
        "            batch_size = images.size(0)\n",
        "            images = torch.cat([images, images.flip(dims=[3])], dim=0)  # Generate positive pairs\n",
        "            features = model(images)\n",
        "            z_i, z_j = torch.chunk(features, 2, dim=0)\n",
        "            loss = contrastive_loss(z_i, z_j)\n",
        "\n",
        "            optimizer.zero_grad()\n",
        "            loss.backward()\n",
        "            optimizer.step()\n",
        "\n",
        "            total_loss += loss.item()\n",
        "\n",
        "        avg_loss = total_loss / len(dataloader)\n",
        "        print(f\"Epoch {epoch + 1}, Loss: {avg_loss:.4f}\")\n",
        "\n",
        "# Assuming you have a DataLoader `dataloader` for your dataset\n",
        "# train(model, dataloader, optimizer, epochs=100)"
      ]
    }
  ]
}