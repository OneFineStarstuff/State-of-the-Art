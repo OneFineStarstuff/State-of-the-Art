{
  "nbformat": 4,
  "nbformat_minor": 0,
  "metadata": {
    "colab": {
      "private_outputs": true,
      "provenance": [],
      "authorship_tag": "ABX9TyNM9vSrlETiFNerGfl4gcdy",
      "include_colab_link": true
    },
    "kernelspec": {
      "name": "python3",
      "display_name": "Python 3"
    },
    "language_info": {
      "name": "python"
    }
  },
  "cells": [
    {
      "cell_type": "markdown",
      "metadata": {
        "id": "view-in-github",
        "colab_type": "text"
      },
      "source": [
        "<a href=\"https://colab.research.google.com/github/OneFineStarstuff/State-of-the-Art/blob/main/Self_Supervised_Learning.ipynb\" target=\"_parent\"><img src=\"https://colab.research.google.com/assets/colab-badge.svg\" alt=\"Open In Colab\"/></a>"
      ]
    },
    {
      "cell_type": "code",
      "execution_count": null,
      "metadata": {
        "id": "6BNad5BYB_hg"
      },
      "outputs": [],
      "source": [
        "import torch\n",
        "import torch.nn as nn\n",
        "import torch.optim as optim\n",
        "import torch.nn.functional as F\n",
        "from torchvision.models import resnet18, ResNet18_Weights\n",
        "\n",
        "# Define a model with ResNet18 as the base and a projection head\n",
        "class SimCLR(nn.Module):\n",
        "    def __init__(self, base_model, projection_dim=128):\n",
        "        super(SimCLR, self).__init__()\n",
        "        # Replace the ResNet's final fully connected layer with an identity\n",
        "        self.base_model = base_model\n",
        "        in_features = base_model.fc.in_features\n",
        "        self.base_model.fc = nn.Identity()\n",
        "\n",
        "        # Add a projection head\n",
        "        self.fc = nn.Sequential(\n",
        "            nn.Linear(in_features, projection_dim),\n",
        "            nn.ReLU(),\n",
        "            nn.Linear(projection_dim, projection_dim)\n",
        "        )\n",
        "\n",
        "    def forward(self, x):\n",
        "        # Extract features from the ResNet base model\n",
        "        features = self.base_model(x)  # Output shape: (batch_size, in_features)\n",
        "        embeddings = self.fc(features)  # Output shape: (batch_size, projection_dim)\n",
        "        return embeddings\n",
        "\n",
        "# Example training loop\n",
        "device = torch.device(\"cuda\" if torch.cuda.is_available() else \"cpu\")\n",
        "base_model = resnet18(weights=ResNet18_Weights.IMAGENET1K_V1)\n",
        "model = SimCLR(base_model=base_model).to(device)\n",
        "optimizer = optim.Adam(model.parameters(), lr=0.0003)\n",
        "criterion = nn.MSELoss()  # Replace this with contrastive loss for actual SimCLR training\n",
        "\n",
        "# Dummy data loader with random tensors simulating image inputs\n",
        "from torch.utils.data import DataLoader, TensorDataset\n",
        "batch_size = 32\n",
        "dummy_images = torch.randn(100, 3, 224, 224)  # Simulate 100 images of size 3x224x224\n",
        "dummy_dataset = TensorDataset(dummy_images)\n",
        "dataloader = DataLoader(dummy_dataset, batch_size=batch_size, shuffle=True)\n",
        "\n",
        "# Training loop\n",
        "epochs = 5\n",
        "for epoch in range(epochs):\n",
        "    model.train()\n",
        "    epoch_loss = 0\n",
        "    for data in dataloader:\n",
        "        images = data[0].to(device)  # Simulate image inputs\n",
        "        optimizer.zero_grad()\n",
        "\n",
        "        # Forward pass\n",
        "        embeddings = model(images)\n",
        "\n",
        "        # Example dummy loss (contrastive loss to be used in practice)\n",
        "        loss = criterion(embeddings, embeddings)\n",
        "        loss.backward()\n",
        "        optimizer.step()\n",
        "\n",
        "        epoch_loss += loss.item()\n",
        "\n",
        "    print(f\"Epoch [{epoch+1}/{epochs}], Loss: {epoch_loss/len(dataloader):.4f}\")"
      ]
    }
  ]
}