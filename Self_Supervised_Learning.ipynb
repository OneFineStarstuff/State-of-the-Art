{
  "nbformat": 4,
  "nbformat_minor": 0,
  "metadata": {
    "colab": {
      "private_outputs": true,
      "provenance": [],
      "authorship_tag": "ABX9TyOJJkP5GkMjTfojy+bivd3Y",
      "include_colab_link": true
    },
    "kernelspec": {
      "name": "python3",
      "display_name": "Python 3"
    },
    "language_info": {
      "name": "python"
    }
  },
  "cells": [
    {
      "cell_type": "markdown",
      "metadata": {
        "id": "view-in-github",
        "colab_type": "text"
      },
      "source": [
        "<a href=\"https://colab.research.google.com/github/OneFineStarstuff/State-of-the-Art/blob/main/Self_Supervised_Learning.ipynb\" target=\"_parent\"><img src=\"https://colab.research.google.com/assets/colab-badge.svg\" alt=\"Open In Colab\"/></a>"
      ]
    },
    {
      "cell_type": "code",
      "execution_count": null,
      "metadata": {
        "id": "OH89GGH7m80B"
      },
      "outputs": [],
      "source": [
        "pip install torch torchvision"
      ]
    },
    {
      "cell_type": "code",
      "source": [
        "import torch\n",
        "import torch.nn as nn\n",
        "import torch.optim as optim\n",
        "from torchvision import datasets, transforms\n",
        "from torch.utils.data import DataLoader\n",
        "from torchvision.models import resnet18\n",
        "\n",
        "# Device setup\n",
        "device = torch.device(\"cuda\" if torch.cuda.is_available() else \"cpu\")\n",
        "\n",
        "# Define the contrastive loss function (SimCLR)\n",
        "class ContrastiveLoss(nn.Module):\n",
        "    def __init__(self, temperature=0.07):\n",
        "        super(ContrastiveLoss, self).__init__()\n",
        "        self.temperature = temperature\n",
        "\n",
        "    def forward(self, z_i, z_j):\n",
        "        # Normalize the representations\n",
        "        z_i = torch.nn.functional.normalize(z_i, dim=-1)\n",
        "        z_j = torch.nn.functional.normalize(z_j, dim=-1)\n",
        "\n",
        "        # Compute the similarity matrix\n",
        "        similarity_matrix = torch.matmul(z_i, z_j.T) / self.temperature\n",
        "\n",
        "        # Compute labels (identity mapping for positives)\n",
        "        labels = torch.arange(z_i.size(0)).long().to(z_i.device)\n",
        "        loss = nn.CrossEntropyLoss()(similarity_matrix, labels)\n",
        "        return loss\n",
        "\n",
        "# Data transformations and dataloaders\n",
        "transform = transforms.Compose([\n",
        "    transforms.RandomResizedCrop(224),\n",
        "    transforms.RandomHorizontalFlip(),\n",
        "    transforms.ColorJitter(brightness=0.5, contrast=0.5, saturation=0.5, hue=0.1),\n",
        "    transforms.ToTensor(),\n",
        "    transforms.Normalize(mean=[0.5], std=[0.5]),\n",
        "])\n",
        "dataset = datasets.CIFAR10(root='./data', train=True, download=True, transform=transform)\n",
        "dataloader = DataLoader(dataset, batch_size=64, shuffle=True)\n",
        "\n",
        "# Model (ResNet18 as a backbone)\n",
        "model = resnet18(pretrained=False)\n",
        "model.fc = nn.Linear(model.fc.in_features, 128)  # Project to 128 dimensions\n",
        "model.to(device)\n",
        "\n",
        "optimizer = optim.Adam(model.parameters(), lr=1e-3)\n",
        "contrastive_loss = ContrastiveLoss()\n",
        "\n",
        "# Training loop\n",
        "num_epochs = 10\n",
        "model.train()\n",
        "\n",
        "for epoch in range(num_epochs):\n",
        "    total_loss = 0\n",
        "    for images, _ in dataloader:\n",
        "        images = images.to(device)\n",
        "\n",
        "        # Create two augmentations of the same batch (SimCLR style)\n",
        "        augmented_images_1 = images\n",
        "        augmented_images_2 = torch.flip(images, [3])  # Simple example; replace with stronger augmentations\n",
        "\n",
        "        # Combine for joint forward pass\n",
        "        augmented_images = torch.cat([augmented_images_1, augmented_images_2], dim=0)\n",
        "\n",
        "        # Forward pass\n",
        "        features = model(augmented_images)\n",
        "        z_i, z_j = features[:len(features)//2], features[len(features)//2:]\n",
        "\n",
        "        # Compute the contrastive loss\n",
        "        loss = contrastive_loss(z_i, z_j)\n",
        "        total_loss += loss.item()\n",
        "\n",
        "        # Backpropagation\n",
        "        optimizer.zero_grad()\n",
        "        loss.backward()\n",
        "        optimizer.step()\n",
        "\n",
        "    # Print epoch progress\n",
        "    avg_loss = total_loss / len(dataloader)\n",
        "    print(f\"Epoch [{epoch+1}/{num_epochs}], Loss: {avg_loss:.4f}\")"
      ],
      "metadata": {
        "id": "OZOyYJFInQNK"
      },
      "execution_count": null,
      "outputs": []
    }
  ]
}