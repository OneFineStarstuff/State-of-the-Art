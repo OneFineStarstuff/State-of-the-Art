{
  "nbformat": 4,
  "nbformat_minor": 0,
  "metadata": {
    "colab": {
      "private_outputs": true,
      "provenance": [],
      "authorship_tag": "ABX9TyMnWiTEeYo4FKuaBOhy5irZ",
      "include_colab_link": true
    },
    "kernelspec": {
      "name": "python3",
      "display_name": "Python 3"
    },
    "language_info": {
      "name": "python"
    }
  },
  "cells": [
    {
      "cell_type": "markdown",
      "metadata": {
        "id": "view-in-github",
        "colab_type": "text"
      },
      "source": [
        "<a href=\"https://colab.research.google.com/github/OneFineStarstuff/State-of-the-Art/blob/main/Self_Supervised_Learning.ipynb\" target=\"_parent\"><img src=\"https://colab.research.google.com/assets/colab-badge.svg\" alt=\"Open In Colab\"/></a>"
      ]
    },
    {
      "cell_type": "code",
      "execution_count": null,
      "metadata": {
        "id": "nseE_jjEmETD"
      },
      "outputs": [],
      "source": [
        "import torch\n",
        "import torch.nn as nn\n",
        "import torch.optim as optim\n",
        "\n",
        "class ContrastiveNetwork(nn.Module):\n",
        "    def __init__(self, feature_dim):\n",
        "        super(ContrastiveNetwork, self).__init__()\n",
        "        self.encoder = nn.Sequential(\n",
        "            nn.Linear(784, 256),\n",
        "            nn.ReLU(),\n",
        "            nn.Linear(256, feature_dim)\n",
        "        )\n",
        "\n",
        "    def forward(self, x):\n",
        "        return self.encoder(x)\n",
        "\n",
        "def contrastive_loss(z1, z2, temperature=0.5):\n",
        "    batch_size = z1.size(0)\n",
        "    z = torch.cat([z1, z2], dim=0)\n",
        "    sim_matrix = torch.exp(torch.mm(z, z.t()) / temperature)\n",
        "    mask = torch.eye(sim_matrix.size(0), device=z.device).bool()\n",
        "    sim_matrix = sim_matrix.masked_fill(mask, 0)\n",
        "    sim_sum = sim_matrix.sum(dim=-1, keepdim=True)\n",
        "    loss = -torch.log(sim_matrix / sim_sum).mean()\n",
        "    return loss\n",
        "\n",
        "# Example usage\n",
        "feature_dim = 128\n",
        "model = ContrastiveNetwork(feature_dim)\n",
        "optimizer = optim.Adam(model.parameters(), lr=0.001)\n",
        "\n",
        "for epoch in range(100):\n",
        "    x1 = torch.randn(32, 784)  # Two augmentations of the same batch\n",
        "    x2 = torch.randn(32, 784)\n",
        "    optimizer.zero_grad()\n",
        "    z1, z2 = model(x1), model(x2)\n",
        "    loss = contrastive_loss(z1, z2)\n",
        "    loss.backward()\n",
        "    optimizer.step()\n",
        "    print(f'Epoch {epoch + 1}, Loss: {loss.item():.4f}')"
      ]
    }
  ]
}