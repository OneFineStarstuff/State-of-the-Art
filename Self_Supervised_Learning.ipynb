{
  "nbformat": 4,
  "nbformat_minor": 0,
  "metadata": {
    "colab": {
      "private_outputs": true,
      "provenance": [],
      "authorship_tag": "ABX9TyPvruntjurIgolNrp2SzsTl",
      "include_colab_link": true
    },
    "kernelspec": {
      "name": "python3",
      "display_name": "Python 3"
    },
    "language_info": {
      "name": "python"
    }
  },
  "cells": [
    {
      "cell_type": "markdown",
      "metadata": {
        "id": "view-in-github",
        "colab_type": "text"
      },
      "source": [
        "<a href=\"https://colab.research.google.com/github/OneFineStarstuff/State-of-the-Art/blob/main/Self_Supervised_Learning.ipynb\" target=\"_parent\"><img src=\"https://colab.research.google.com/assets/colab-badge.svg\" alt=\"Open In Colab\"/></a>"
      ]
    },
    {
      "cell_type": "code",
      "execution_count": null,
      "metadata": {
        "id": "VYZdyvEv5-_z"
      },
      "outputs": [],
      "source": [
        "import torch\n",
        "import torch.nn as nn\n",
        "import torch.optim as optim\n",
        "import torch.nn.functional as F\n",
        "\n",
        "class SimpleCNN(nn.Module):\n",
        "    def __init__(self):\n",
        "        super(SimpleCNN, self).__init__()\n",
        "        self.conv1 = nn.Conv2d(3, 64, kernel_size=3, stride=1, padding=1)\n",
        "        self.conv2 = nn.Conv2d(64, 128, kernel_size=3, stride=1, padding=1)\n",
        "        self.fc1 = nn.Linear(128 * 32 * 32, 512)\n",
        "        self.fc2 = nn.Linear(512, 128)\n",
        "\n",
        "    def forward(self, x):\n",
        "        x = F.relu(self.conv1(x))\n",
        "        x = F.relu(self.conv2(x))\n",
        "        x = x.view(x.size(0), -1)\n",
        "        x = F.relu(self.fc1(x))\n",
        "        return self.fc2(x)\n",
        "\n",
        "# Contrastive loss to maximize similarity between positive pairs\n",
        "def contrastive_loss(x1, x2, temperature=0.07):\n",
        "    # Compute cosine similarity matrix\n",
        "    similarity_matrix = F.cosine_similarity(x1.unsqueeze(1), x2.unsqueeze(0), dim=-1) / temperature\n",
        "    # Create labels for positive pairs\n",
        "    labels = torch.arange(x1.size(0)).to(x1.device)\n",
        "    # Compute contrastive loss\n",
        "    loss = F.cross_entropy(similarity_matrix, labels)\n",
        "    return loss\n",
        "\n",
        "model = SimpleCNN()\n",
        "optimizer = optim.Adam(model.parameters(), lr=0.001)\n",
        "\n",
        "# Example self-supervised training loop\n",
        "for epoch in range(100):\n",
        "    optimizer.zero_grad()\n",
        "    x1, x2 = torch.randn(32, 3, 32, 32), torch.randn(32, 3, 32, 32)  # Positive pairs\n",
        "    z1, z2 = model(x1), model(x2)\n",
        "    loss = contrastive_loss(z1, z2)\n",
        "    loss.backward()\n",
        "    optimizer.step()\n",
        "    if epoch % 10 == 0:\n",
        "        print(f'Epoch {epoch}, Loss: {loss.item()}')"
      ]
    }
  ]
}