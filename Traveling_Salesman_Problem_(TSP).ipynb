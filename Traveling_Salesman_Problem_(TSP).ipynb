{
  "nbformat": 4,
  "nbformat_minor": 0,
  "metadata": {
    "colab": {
      "private_outputs": true,
      "provenance": [],
      "authorship_tag": "ABX9TyPZnqBqIc+8RheZ+8vwSGPp",
      "include_colab_link": true
    },
    "kernelspec": {
      "name": "python3",
      "display_name": "Python 3"
    },
    "language_info": {
      "name": "python"
    }
  },
  "cells": [
    {
      "cell_type": "markdown",
      "metadata": {
        "id": "view-in-github",
        "colab_type": "text"
      },
      "source": [
        "<a href=\"https://colab.research.google.com/github/OneFineStarstuff/State-of-the-Art/blob/main/Traveling_Salesman_Problem_(TSP).ipynb\" target=\"_parent\"><img src=\"https://colab.research.google.com/assets/colab-badge.svg\" alt=\"Open In Colab\"/></a>"
      ]
    },
    {
      "cell_type": "code",
      "source": [
        "pip install pulp"
      ],
      "metadata": {
        "id": "59dmc-chJADA"
      },
      "execution_count": null,
      "outputs": []
    },
    {
      "cell_type": "code",
      "source": [
        "import pulp\n",
        "import numpy as np\n",
        "\n",
        "# Define the distance matrix\n",
        "distances = np.array([\n",
        "    [0, 2, 2, 5, 7],\n",
        "    [2, 0, 4, 8, 2],\n",
        "    [2, 4, 0, 1, 3],\n",
        "    [5, 8, 1, 0, 2],\n",
        "    [7, 2, 3, 2, 0]\n",
        "])\n",
        "\n",
        "# Number of nodes\n",
        "n = distances.shape[0]\n",
        "\n",
        "# Create the problem variable\n",
        "prob = pulp.LpProblem(\"TSP\", pulp.LpMinimize)\n",
        "\n",
        "# Create decision variables\n",
        "x = pulp.LpVariable.dicts('x', [(i, j) for i in range(n) for j in range(n)], cat=pulp.LpBinary)\n",
        "u = pulp.LpVariable.dicts('u', [i for i in range(n)], lowBound=0, cat=pulp.LpInteger)\n",
        "\n",
        "# Objective function\n",
        "prob += pulp.lpSum(distances[i][j] * x[i, j] for i in range(n) for j in range(n))\n",
        "\n",
        "# Constraints\n",
        "for i in range(n):\n",
        "    prob += pulp.lpSum(x[i, j] for j in range(n) if i != j) == 1\n",
        "    prob += pulp.lpSum(x[j, i] for j in range(n) if i != j) == 1\n",
        "\n",
        "for i in range(1, n):\n",
        "    for j in range(1, n):\n",
        "        if i != j:\n",
        "            prob += u[i] - u[j] + (n * x[i, j]) <= n-1\n",
        "\n",
        "# Solve the problem\n",
        "prob.solve()\n",
        "\n",
        "# Extract the solution\n",
        "tour = [0]\n",
        "while len(tour) < n:\n",
        "    for i in range(n):\n",
        "        if pulp.value(x[tour[-1], i]) == 1:\n",
        "            tour.append(i)\n",
        "            break\n",
        "\n",
        "print(f\"Optimal Tour: {tour}, Total Distance: {pulp.value(prob.objective)}\")"
      ],
      "metadata": {
        "id": "IlMUYWGgHpxD"
      },
      "execution_count": null,
      "outputs": []
    }
  ]
}