{
  "nbformat": 4,
  "nbformat_minor": 0,
  "metadata": {
    "colab": {
      "private_outputs": true,
      "provenance": [],
      "authorship_tag": "ABX9TyO2PV6N7yhknK55RLdOBU06",
      "include_colab_link": true
    },
    "kernelspec": {
      "name": "python3",
      "display_name": "Python 3"
    },
    "language_info": {
      "name": "python"
    }
  },
  "cells": [
    {
      "cell_type": "markdown",
      "metadata": {
        "id": "view-in-github",
        "colab_type": "text"
      },
      "source": [
        "<a href=\"https://colab.research.google.com/github/OneFineStarstuff/State-of-the-Art/blob/main/MMDetection_for_Object_Detection.ipynb\" target=\"_parent\"><img src=\"https://colab.research.google.com/assets/colab-badge.svg\" alt=\"Open In Colab\"/></a>"
      ]
    },
    {
      "cell_type": "code",
      "execution_count": null,
      "metadata": {
        "id": "K5Qze7ikutKi"
      },
      "outputs": [],
      "source": [
        "from mmdet.apis import init_detector, inference_detector, show_result_pyplot\n",
        "import mmcv\n",
        "\n",
        "# Define paths to config and checkpoint files\n",
        "config_file = 'configs/faster_rcnn/faster_rcnn_r50_fpn_1x_coco.py'\n",
        "checkpoint_file = 'checkpoints/faster_rcnn_r50_fpn_1x_coco_20200130-047c8118.pth'\n",
        "\n",
        "# Initialize the model\n",
        "model = init_detector(config_file, checkpoint_file, device='cuda:0')\n",
        "\n",
        "# Specify the path to the image file\n",
        "img = 'test.jpg'\n",
        "\n",
        "# Perform inference\n",
        "result = inference_detector(model, img)\n",
        "\n",
        "# Visualize the results\n",
        "show_result_pyplot(model, img, result)"
      ]
    },
    {
      "cell_type": "code",
      "source": [
        "pip install mmdet mmcv"
      ],
      "metadata": {
        "id": "LGCBtWumvTzs"
      },
      "execution_count": null,
      "outputs": []
    }
  ]
}