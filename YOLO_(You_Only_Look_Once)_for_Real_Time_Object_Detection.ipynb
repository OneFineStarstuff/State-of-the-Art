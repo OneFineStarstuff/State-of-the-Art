{
  "nbformat": 4,
  "nbformat_minor": 0,
  "metadata": {
    "colab": {
      "private_outputs": true,
      "provenance": [],
      "authorship_tag": "ABX9TyMa6oIgx6itugO5235ajHEO",
      "include_colab_link": true
    },
    "kernelspec": {
      "name": "python3",
      "display_name": "Python 3"
    },
    "language_info": {
      "name": "python"
    }
  },
  "cells": [
    {
      "cell_type": "markdown",
      "metadata": {
        "id": "view-in-github",
        "colab_type": "text"
      },
      "source": [
        "<a href=\"https://colab.research.google.com/github/OneFineStarstuff/State-of-the-Art/blob/main/YOLO_(You_Only_Look_Once)_for_Real_Time_Object_Detection.ipynb\" target=\"_parent\"><img src=\"https://colab.research.google.com/assets/colab-badge.svg\" alt=\"Open In Colab\"/></a>"
      ]
    },
    {
      "cell_type": "code",
      "execution_count": null,
      "metadata": {
        "id": "TsjLJ5Wywu_S"
      },
      "outputs": [],
      "source": [
        "import torch\n",
        "from PIL import Image\n",
        "import requests\n",
        "from io import BytesIO\n",
        "\n",
        "# Load the pre-trained YOLOv5 model from PyTorch Hub\n",
        "model = torch.hub.load('ultralytics/yolov5', 'yolov5s', trust_repo=True)\n",
        "\n",
        "# Load and preprocess the image\n",
        "url = 'https://ultralytics.com/images/zidane.jpg'  # Example image URL\n",
        "response = requests.get(url)\n",
        "image = Image.open(BytesIO(response.content))\n",
        "\n",
        "# Perform inference\n",
        "results = model(image)\n",
        "\n",
        "# Display the results\n",
        "results.show()  # This will display the image with bounding boxes\n",
        "\n",
        "# Get the results as pandas DataFrame and print\n",
        "df = results.pandas().xyxy[0]  # Pandas DataFrame\n",
        "print(df)"
      ]
    }
  ]
}