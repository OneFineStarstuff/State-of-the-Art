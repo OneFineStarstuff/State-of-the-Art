{
  "nbformat": 4,
  "nbformat_minor": 0,
  "metadata": {
    "colab": {
      "private_outputs": true,
      "provenance": [],
      "authorship_tag": "ABX9TyPZIblKKXAn94hQ+XV79mbv",
      "include_colab_link": true
    },
    "kernelspec": {
      "name": "python3",
      "display_name": "Python 3"
    },
    "language_info": {
      "name": "python"
    }
  },
  "cells": [
    {
      "cell_type": "markdown",
      "metadata": {
        "id": "view-in-github",
        "colab_type": "text"
      },
      "source": [
        "<a href=\"https://colab.research.google.com/github/OneFineStarstuff/State-of-the-Art/blob/main/Autoencoders_and_Variational_Autoencoders_(VAEs).ipynb\" target=\"_parent\"><img src=\"https://colab.research.google.com/assets/colab-badge.svg\" alt=\"Open In Colab\"/></a>"
      ]
    },
    {
      "cell_type": "code",
      "execution_count": null,
      "metadata": {
        "id": "bEjsmsPMJg4R"
      },
      "outputs": [],
      "source": [
        "import torch\n",
        "import torch.nn as nn\n",
        "import torch.optim as optim\n",
        "\n",
        "class VAE(nn.Module):\n",
        "    def __init__(self, input_dim, latent_dim):\n",
        "        super(VAE, self).__init__()\n",
        "        self.encoder = nn.Sequential(\n",
        "            nn.Linear(input_dim, 256),\n",
        "            nn.ReLU(),\n",
        "            nn.Linear(256, latent_dim * 2)  # Mean and log-variance\n",
        "        )\n",
        "        self.decoder = nn.Sequential(\n",
        "            nn.Linear(latent_dim, 256),\n",
        "            nn.ReLU(),\n",
        "            nn.Linear(256, input_dim),\n",
        "            nn.Sigmoid()\n",
        "        )\n",
        "\n",
        "    def forward(self, x):\n",
        "        mean_logvar = self.encoder(x)\n",
        "        mean, logvar = mean_logvar[:, :latent_dim], mean_logvar[:, latent_dim:]\n",
        "        std = torch.exp(0.5 * logvar)\n",
        "        z = mean + std * torch.randn_like(std)\n",
        "        x_reconstructed = self.decoder(z)\n",
        "        return x_reconstructed, mean, logvar\n",
        "\n",
        "def vae_loss(x_reconstructed, x, mean, logvar):\n",
        "    reconstruction_loss = nn.BCELoss(reduction='sum')(x_reconstructed, x)\n",
        "    kl_divergence = -0.5 * torch.sum(1 + logvar - mean.pow(2) - logvar.exp())\n",
        "    return reconstruction_loss + kl_divergence\n",
        "\n",
        "input_dim = 28 * 28  # MNIST images flattened\n",
        "latent_dim = 10\n",
        "\n",
        "model = VAE(input_dim, latent_dim)  # Removed .to('cuda')\n",
        "optimizer = optim.Adam(model.parameters(), lr=1e-3)\n",
        "\n",
        "# Dummy data for training\n",
        "x = torch.rand(32, input_dim)  # Removed .to('cuda')\n",
        "\n",
        "for epoch in range(50):\n",
        "    optimizer.zero_grad()\n",
        "    x_reconstructed, mean, logvar = model(x)\n",
        "    loss = vae_loss(x_reconstructed, x, mean, logvar)\n",
        "    loss.backward()\n",
        "    optimizer.step()\n",
        "    print(f\"Epoch {epoch+1}, Loss: {loss.item()}\")"
      ]
    }
  ]
}