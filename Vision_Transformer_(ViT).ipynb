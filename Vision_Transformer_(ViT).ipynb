{
  "nbformat": 4,
  "nbformat_minor": 0,
  "metadata": {
    "colab": {
      "private_outputs": true,
      "provenance": [],
      "authorship_tag": "ABX9TyPUs8hTO3XCG7K9y5r32K+t",
      "include_colab_link": true
    },
    "kernelspec": {
      "name": "python3",
      "display_name": "Python 3"
    },
    "language_info": {
      "name": "python"
    }
  },
  "cells": [
    {
      "cell_type": "markdown",
      "metadata": {
        "id": "view-in-github",
        "colab_type": "text"
      },
      "source": [
        "<a href=\"https://colab.research.google.com/github/OneFineStarstuff/State-of-the-Art/blob/main/Vision_Transformer_(ViT).ipynb\" target=\"_parent\"><img src=\"https://colab.research.google.com/assets/colab-badge.svg\" alt=\"Open In Colab\"/></a>"
      ]
    },
    {
      "cell_type": "code",
      "execution_count": null,
      "metadata": {
        "id": "IPY4ubQWXwTA"
      },
      "outputs": [],
      "source": [
        "import torch\n",
        "import torch.nn as nn\n",
        "import torchvision.models as models\n",
        "\n",
        "class VisionTransformer(nn.Module):\n",
        "    def __init__(self, image_size, patch_size, num_classes, dim, depth=6, heads=8, mlp_dim=2048):\n",
        "        super(VisionTransformer, self).__init__()\n",
        "        self.image_size = image_size\n",
        "        self.patch_size = patch_size\n",
        "        num_patches = (image_size // patch_size) ** 2\n",
        "        patch_dim = patch_size * patch_size * 3\n",
        "\n",
        "        self.linear_proj = nn.Linear(patch_dim, dim)\n",
        "\n",
        "        encoder_layer = nn.TransformerEncoderLayer(d_model=dim, nhead=heads, dim_feedforward=mlp_dim)\n",
        "        self.transformer = nn.TransformerEncoder(encoder_layer, num_layers=depth)\n",
        "\n",
        "        self.mlp_head = nn.Linear(dim, num_classes)\n",
        "\n",
        "    def forward(self, x):\n",
        "        batch_size = x.size(0)\n",
        "        x = x.view(batch_size, -1, self.patch_size * self.patch_size * 3)\n",
        "        x = self.linear_proj(x)\n",
        "        x = x.permute(1, 0, 2)  # Required for transformer: (seq_len, batch_size, dim)\n",
        "        x = self.transformer(x)\n",
        "        x = x.mean(dim=0)  # Global average pooling\n",
        "        x = self.mlp_head(x)\n",
        "        return x\n",
        "\n",
        "# Example usage with Vision Transformer\n",
        "vit = VisionTransformer(image_size=224, patch_size=16, num_classes=1000, dim=768)\n",
        "input_data = torch.randn(32, 3, 224, 224)  # Example input\n",
        "output = vit(input_data)\n",
        "\n",
        "# Print the shape of the output\n",
        "print(output.shape)  # Expected shape: [batch_size, num_classes]"
      ]
    }
  ]
}