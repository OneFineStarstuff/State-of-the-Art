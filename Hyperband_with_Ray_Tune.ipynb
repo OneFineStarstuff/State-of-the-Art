{
  "nbformat": 4,
  "nbformat_minor": 0,
  "metadata": {
    "colab": {
      "private_outputs": true,
      "provenance": [],
      "authorship_tag": "ABX9TyPwclwl0DA4EcjHJ1US/ATd",
      "include_colab_link": true
    },
    "kernelspec": {
      "name": "python3",
      "display_name": "Python 3"
    },
    "language_info": {
      "name": "python"
    }
  },
  "cells": [
    {
      "cell_type": "markdown",
      "metadata": {
        "id": "view-in-github",
        "colab_type": "text"
      },
      "source": [
        "<a href=\"https://colab.research.google.com/github/OneFineStarstuff/State-of-the-Art/blob/main/Hyperband_with_Ray_Tune.ipynb\" target=\"_parent\"><img src=\"https://colab.research.google.com/assets/colab-badge.svg\" alt=\"Open In Colab\"/></a>"
      ]
    },
    {
      "cell_type": "code",
      "source": [
        "pip install ray"
      ],
      "metadata": {
        "id": "kZlWYAqVcTbB"
      },
      "execution_count": null,
      "outputs": []
    },
    {
      "cell_type": "code",
      "source": [
        "pip install -U tensorboardx"
      ],
      "metadata": {
        "id": "-P8plCJXdd5N"
      },
      "execution_count": null,
      "outputs": []
    },
    {
      "cell_type": "code",
      "execution_count": null,
      "metadata": {
        "id": "GVbAB74Qbk-v"
      },
      "outputs": [],
      "source": [
        "from ray import tune\n",
        "from ray.tune.schedulers import HyperBandScheduler\n",
        "import torch\n",
        "import torch.nn as nn\n",
        "import torch.optim as optim\n",
        "from torchvision import datasets, transforms\n",
        "\n",
        "# Define the training function\n",
        "def train_mnist(config):\n",
        "    model = nn.Sequential(\n",
        "        nn.Linear(28*28, config[\"hidden_size\"]),\n",
        "        nn.ReLU(),\n",
        "        nn.Linear(config[\"hidden_size\"], 10)\n",
        "    )\n",
        "    optimizer = optim.Adam(model.parameters(), lr=config[\"lr\"])\n",
        "    criterion = nn.CrossEntropyLoss()\n",
        "\n",
        "    train_loader = torch.utils.data.DataLoader(\n",
        "        datasets.MNIST('.', train=True, download=True, transform=transforms.ToTensor()),\n",
        "        batch_size=32, shuffle=True)\n",
        "\n",
        "    model.train()\n",
        "    for epoch in range(2):\n",
        "        for batch_idx, (data, target) in enumerate(train_loader):\n",
        "            data = data.view(-1, 28*28)\n",
        "            optimizer.zero_grad()\n",
        "            output = model(data)\n",
        "            loss = criterion(output, target)\n",
        "            loss.backward()\n",
        "            optimizer.step()\n",
        "\n",
        "        # Report the loss to Ray Tune\n",
        "        tune.report(loss=loss.item())\n",
        "\n",
        "# Define HyperBand scheduler and run Ray Tune\n",
        "hyperband = HyperBandScheduler(\n",
        "    max_t=10,\n",
        "    reduction_factor=3,\n",
        "    metric=\"loss\",\n",
        "    mode=\"min\"\n",
        ")\n",
        "analysis = tune.run(\n",
        "    train_mnist,\n",
        "    config={\n",
        "        \"hidden_size\": tune.choice([32, 64, 128]),\n",
        "        \"lr\": tune.loguniform(1e-4, 1e-2)\n",
        "    },\n",
        "    scheduler=hyperband,\n",
        "    num_samples=10\n",
        ")\n",
        "\n",
        "# Print the best hyperparameter configuration\n",
        "print(\"Best config: \", analysis.get_best_config(metric=\"loss\", mode=\"min\"))"
      ]
    }
  ]
}