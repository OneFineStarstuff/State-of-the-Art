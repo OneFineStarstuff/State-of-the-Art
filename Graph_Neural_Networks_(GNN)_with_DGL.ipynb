{
  "nbformat": 4,
  "nbformat_minor": 0,
  "metadata": {
    "colab": {
      "private_outputs": true,
      "provenance": [],
      "authorship_tag": "ABX9TyMD50+ujDzZU1psvRqYIsAx",
      "include_colab_link": true
    },
    "kernelspec": {
      "name": "python3",
      "display_name": "Python 3"
    },
    "language_info": {
      "name": "python"
    }
  },
  "cells": [
    {
      "cell_type": "markdown",
      "metadata": {
        "id": "view-in-github",
        "colab_type": "text"
      },
      "source": [
        "<a href=\"https://colab.research.google.com/github/OneFineStarstuff/State-of-the-Art/blob/main/Graph_Neural_Networks_(GNN)_with_DGL.ipynb\" target=\"_parent\"><img src=\"https://colab.research.google.com/assets/colab-badge.svg\" alt=\"Open In Colab\"/></a>"
      ]
    },
    {
      "cell_type": "code",
      "source": [
        "pip install dgl"
      ],
      "metadata": {
        "id": "e533ajF64vuA"
      },
      "execution_count": null,
      "outputs": []
    },
    {
      "cell_type": "code",
      "source": [
        "pip install torchdata"
      ],
      "metadata": {
        "id": "HWmlQ3gB5dJR"
      },
      "execution_count": null,
      "outputs": []
    },
    {
      "cell_type": "code",
      "execution_count": null,
      "metadata": {
        "id": "pmpatSPB37mO"
      },
      "outputs": [],
      "source": [
        "import dgl\n",
        "import torch\n",
        "import torch.nn as nn\n",
        "import torch.nn.functional as F\n",
        "from dgl.data import CoraGraphDataset\n",
        "\n",
        "# Load the Cora dataset\n",
        "dataset = CoraGraphDataset()\n",
        "g = dataset[0]\n",
        "\n",
        "# Define the GCN model\n",
        "class GCN(nn.Module):\n",
        "    def __init__(self, in_feats, hidden_feats, out_feats):\n",
        "        super(GCN, self).__init__()\n",
        "        self.layer1 = dgl.nn.GraphConv(in_feats, hidden_feats)\n",
        "        self.layer2 = dgl.nn.GraphConv(hidden_feats, out_feats)\n",
        "\n",
        "    def forward(self, g, inputs):\n",
        "        h = self.layer1(g, inputs)\n",
        "        h = F.relu(h)\n",
        "        h = self.layer2(g, h)\n",
        "        return h\n",
        "\n",
        "# Instantiate the model\n",
        "model = GCN(g.ndata['feat'].shape[1], 16, dataset.num_classes)"
      ]
    }
  ]
}