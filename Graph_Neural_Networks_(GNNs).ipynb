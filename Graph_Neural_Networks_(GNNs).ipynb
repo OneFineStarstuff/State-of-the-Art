{
  "nbformat": 4,
  "nbformat_minor": 0,
  "metadata": {
    "colab": {
      "private_outputs": true,
      "provenance": [],
      "authorship_tag": "ABX9TyOuK/A2uL6VW+x9GDrUXk09",
      "include_colab_link": true
    },
    "kernelspec": {
      "name": "python3",
      "display_name": "Python 3"
    },
    "language_info": {
      "name": "python"
    }
  },
  "cells": [
    {
      "cell_type": "markdown",
      "metadata": {
        "id": "view-in-github",
        "colab_type": "text"
      },
      "source": [
        "<a href=\"https://colab.research.google.com/github/OneFineStarstuff/State-of-the-Art/blob/main/Graph_Neural_Networks_(GNNs).ipynb\" target=\"_parent\"><img src=\"https://colab.research.google.com/assets/colab-badge.svg\" alt=\"Open In Colab\"/></a>"
      ]
    },
    {
      "cell_type": "code",
      "source": [
        "pip install torch_geometric"
      ],
      "metadata": {
        "id": "quYiWp8a-qKK"
      },
      "execution_count": null,
      "outputs": []
    },
    {
      "cell_type": "code",
      "execution_count": null,
      "metadata": {
        "id": "7WIudzaZ6wbq"
      },
      "outputs": [],
      "source": [
        "import torch\n",
        "import torch.nn as nn\n",
        "import torch.optim as optim\n",
        "from torch_geometric.nn import GCNConv\n",
        "\n",
        "# Define the SimpleGNN class\n",
        "class SimpleGNN(nn.Module):\n",
        "    def __init__(self, input_dim, hidden_dim, output_dim):\n",
        "        super(SimpleGNN, self).__init__()\n",
        "        self.conv1 = GCNConv(input_dim, hidden_dim)  # First GCN layer\n",
        "        self.conv2 = GCNConv(hidden_dim, output_dim)  # Second GCN layer\n",
        "\n",
        "    def forward(self, x, edge_index):\n",
        "        x = torch.relu(self.conv1(x, edge_index))  # Apply ReLU activation after the first layer\n",
        "        return self.conv2(x, edge_index)  # Second GCN layer\n",
        "\n",
        "# Example usage\n",
        "model = SimpleGNN(input_dim=3, hidden_dim=16, output_dim=2)  # Instantiate the GNN model\n",
        "x = torch.randn((4, 3))  # Node features for 4 nodes (num_nodes=4, feature_dim=3)\n",
        "edge_index = torch.tensor([[0, 1, 2, 3], [1, 0, 3, 2]], dtype=torch.long)  # Edge connections\n",
        "output = model(x, edge_index)\n",
        "\n",
        "# Print the shape of the output\n",
        "print(output.shape)  # Expected shape: [4, 2] (num_nodes, output_dim)"
      ]
    }
  ]
}