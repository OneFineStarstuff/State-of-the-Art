{
  "nbformat": 4,
  "nbformat_minor": 0,
  "metadata": {
    "colab": {
      "private_outputs": true,
      "provenance": [],
      "authorship_tag": "ABX9TyMnRZ4mu7acID1hQrR8sBNP",
      "include_colab_link": true
    },
    "kernelspec": {
      "name": "python3",
      "display_name": "Python 3"
    },
    "language_info": {
      "name": "python"
    }
  },
  "cells": [
    {
      "cell_type": "markdown",
      "metadata": {
        "id": "view-in-github",
        "colab_type": "text"
      },
      "source": [
        "<a href=\"https://colab.research.google.com/github/OneFineStarstuff/State-of-the-Art/blob/main/Graph_Neural_Networks_(GNNs).ipynb\" target=\"_parent\"><img src=\"https://colab.research.google.com/assets/colab-badge.svg\" alt=\"Open In Colab\"/></a>"
      ]
    },
    {
      "cell_type": "code",
      "execution_count": null,
      "metadata": {
        "id": "nMeLvKSzACCZ"
      },
      "outputs": [],
      "source": [
        "import torch\n",
        "import torch.nn as nn\n",
        "import torch.nn.functional as F\n",
        "\n",
        "def normalize_adjacency_matrix(adj):\n",
        "    D = torch.diag(torch.pow(adj.sum(dim=1), -0.5))\n",
        "    return torch.mm(torch.mm(D, adj), D)\n",
        "\n",
        "class GCNLayer(nn.Module):\n",
        "    def __init__(self, in_features, out_features):\n",
        "        super(GCNLayer, self).__init__()\n",
        "        self.linear = nn.Linear(in_features, out_features)\n",
        "\n",
        "    def forward(self, x, adjacency_matrix):\n",
        "        support = torch.mm(adjacency_matrix, x)  # Aggregate features using adjacency matrix\n",
        "        output = self.linear(support)  # Apply linear transformation\n",
        "        return output\n",
        "\n",
        "class GCN(nn.Module):\n",
        "    def __init__(self, in_features, hidden_features, out_features):\n",
        "        super(GCN, self).__init__()\n",
        "        self.gcn1 = GCNLayer(in_features, hidden_features)\n",
        "        self.gcn2 = GCNLayer(hidden_features, out_features)\n",
        "        self.dropout = nn.Dropout(p=0.5)\n",
        "\n",
        "    def forward(self, x, adjacency_matrix):\n",
        "        x = self.dropout(F.relu(self.gcn1(x, adjacency_matrix)))  # First GCN layer with dropout\n",
        "        x = F.log_softmax(self.gcn2(x, adjacency_matrix), dim=1)  # Second GCN layer with softmax\n",
        "        return x\n",
        "\n",
        "# Example usage\n",
        "nodes = torch.randn(4, 16)  # 4 nodes, 16 features per node\n",
        "adjacency_matrix = torch.tensor(\n",
        "    [[1, 1, 0, 0],\n",
        "     [1, 1, 1, 0],\n",
        "     [0, 1, 1, 1],\n",
        "     [0, 0, 1, 1]], dtype=torch.float32\n",
        ")  # Example adjacency matrix with edges\n",
        "\n",
        "normalized_adjacency_matrix = normalize_adjacency_matrix(adjacency_matrix)  # Normalize adjacency matrix\n",
        "\n",
        "model = GCN(in_features=16, hidden_features=32, out_features=2)\n",
        "output = model(nodes, normalized_adjacency_matrix)\n",
        "print(output.shape)  # Output should have shape (4, 2)"
      ]
    }
  ]
}