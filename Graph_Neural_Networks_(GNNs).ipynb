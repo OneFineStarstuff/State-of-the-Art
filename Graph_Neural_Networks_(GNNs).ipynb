{
  "nbformat": 4,
  "nbformat_minor": 0,
  "metadata": {
    "colab": {
      "private_outputs": true,
      "provenance": [],
      "authorship_tag": "ABX9TyMKPUb7WGIYBQo7g39tMbvB",
      "include_colab_link": true
    },
    "kernelspec": {
      "name": "python3",
      "display_name": "Python 3"
    },
    "language_info": {
      "name": "python"
    }
  },
  "cells": [
    {
      "cell_type": "markdown",
      "metadata": {
        "id": "view-in-github",
        "colab_type": "text"
      },
      "source": [
        "<a href=\"https://colab.research.google.com/github/OneFineStarstuff/State-of-the-Art/blob/main/Graph_Neural_Networks_(GNNs).ipynb\" target=\"_parent\"><img src=\"https://colab.research.google.com/assets/colab-badge.svg\" alt=\"Open In Colab\"/></a>"
      ]
    },
    {
      "cell_type": "code",
      "source": [
        "pip install torch_geometric"
      ],
      "metadata": {
        "id": "Oonlbpn-MGuL"
      },
      "execution_count": null,
      "outputs": []
    },
    {
      "cell_type": "code",
      "execution_count": null,
      "metadata": {
        "id": "X-BC0_qDLzAn"
      },
      "outputs": [],
      "source": [
        "import torch\n",
        "import torch.nn.functional as F\n",
        "from torch_geometric.nn import GCNConv\n",
        "from torch_geometric.data import Data\n",
        "\n",
        "# Define the GCN class\n",
        "class GCN(torch.nn.Module):\n",
        "    def __init__(self, input_dim, hidden_dim, output_dim):\n",
        "        super(GCN, self).__init__()\n",
        "        self.conv1 = GCNConv(input_dim, hidden_dim)  # First GCN layer\n",
        "        self.conv2 = GCNConv(hidden_dim, output_dim)  # Second GCN layer\n",
        "\n",
        "    def forward(self, x, edge_index):\n",
        "        x = self.conv1(x, edge_index)  # Apply the first GCN layer\n",
        "        x = F.relu(x)  # Apply ReLU activation\n",
        "        x = self.conv2(x, edge_index)  # Apply the second GCN layer\n",
        "        return F.log_softmax(x, dim=1)  # Apply log-softmax activation\n",
        "\n",
        "# Example usage\n",
        "# Assume `x` is a node feature matrix and `edge_index` is a graph connectivity matrix\n",
        "x = torch.tensor([[1, 2], [2, 3], [3, 4], [4, 5]], dtype=torch.float)\n",
        "edge_index = torch.tensor([[0, 1, 2, 3], [1, 2, 3, 0]], dtype=torch.long)\n",
        "data = Data(x=x, edge_index=edge_index)\n",
        "\n",
        "model = GCN(input_dim=2, hidden_dim=4, output_dim=2)  # Instantiate the GCN model\n",
        "out = model(data.x, data.edge_index)  # Pass the data through the model\n",
        "\n",
        "# Print the graph output\n",
        "print(\"Graph output:\", out)"
      ]
    }
  ]
}