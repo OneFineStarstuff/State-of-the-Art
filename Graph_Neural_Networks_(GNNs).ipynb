{
  "nbformat": 4,
  "nbformat_minor": 0,
  "metadata": {
    "colab": {
      "private_outputs": true,
      "provenance": [],
      "authorship_tag": "ABX9TyMigOhx+txF+OlfdsCn3k/m",
      "include_colab_link": true
    },
    "kernelspec": {
      "name": "python3",
      "display_name": "Python 3"
    },
    "language_info": {
      "name": "python"
    }
  },
  "cells": [
    {
      "cell_type": "markdown",
      "metadata": {
        "id": "view-in-github",
        "colab_type": "text"
      },
      "source": [
        "<a href=\"https://colab.research.google.com/github/OneFineStarstuff/State-of-the-Art/blob/main/Graph_Neural_Networks_(GNNs).ipynb\" target=\"_parent\"><img src=\"https://colab.research.google.com/assets/colab-badge.svg\" alt=\"Open In Colab\"/></a>"
      ]
    },
    {
      "cell_type": "code",
      "source": [
        "pip install torch_geometric"
      ],
      "metadata": {
        "id": "77VJ6o-lROtB"
      },
      "execution_count": null,
      "outputs": []
    },
    {
      "cell_type": "code",
      "execution_count": null,
      "metadata": {
        "id": "YqZ8gErmQ8FL"
      },
      "outputs": [],
      "source": [
        "import torch\n",
        "import torch.nn as nn\n",
        "import torch.nn.functional as F\n",
        "from torch_geometric.nn import GCNConv\n",
        "\n",
        "# Define the GCN class\n",
        "class GCN(nn.Module):\n",
        "    def __init__(self, input_dim, hidden_dim, output_dim):\n",
        "        super(GCN, self).__init__()\n",
        "        self.conv1 = GCNConv(input_dim, hidden_dim)  # First GCN layer\n",
        "        self.conv2 = GCNConv(hidden_dim, output_dim)  # Second GCN layer\n",
        "\n",
        "    def forward(self, x, edge_index):\n",
        "        x = self.conv1(x, edge_index)  # Apply first GCN layer\n",
        "        x = F.relu(x)  # Apply ReLU activation\n",
        "        x = self.conv2(x, edge_index)  # Apply second GCN layer\n",
        "        return x\n",
        "\n",
        "# Example usage\n",
        "gcn = GCN(input_dim=3, hidden_dim=16, output_dim=2)  # Instantiate the GCN model\n",
        "node_features = torch.randn(10, 3)  # Example node features (num_nodes=10, feature_dim=3)\n",
        "edge_index = torch.tensor([[0, 1, 2], [1, 2, 0]])  # Example edge index (defines the graph structure)\n",
        "output = gcn(node_features, edge_index)\n",
        "\n",
        "# Print the shape of the output\n",
        "print(output.shape)  # Expected shape: [10, 2] (num_nodes, output_dim)"
      ]
    }
  ]
}