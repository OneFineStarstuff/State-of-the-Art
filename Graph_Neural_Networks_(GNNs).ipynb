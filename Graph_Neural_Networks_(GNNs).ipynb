{
  "nbformat": 4,
  "nbformat_minor": 0,
  "metadata": {
    "colab": {
      "private_outputs": true,
      "provenance": [],
      "authorship_tag": "ABX9TyP4/L6KhznkKlAONy2T1gOj",
      "include_colab_link": true
    },
    "kernelspec": {
      "name": "python3",
      "display_name": "Python 3"
    },
    "language_info": {
      "name": "python"
    }
  },
  "cells": [
    {
      "cell_type": "markdown",
      "metadata": {
        "id": "view-in-github",
        "colab_type": "text"
      },
      "source": [
        "<a href=\"https://colab.research.google.com/github/OneFineStarstuff/State-of-the-Art/blob/main/Graph_Neural_Networks_(GNNs).ipynb\" target=\"_parent\"><img src=\"https://colab.research.google.com/assets/colab-badge.svg\" alt=\"Open In Colab\"/></a>"
      ]
    },
    {
      "cell_type": "code",
      "source": [
        "pip install torch_geometric"
      ],
      "metadata": {
        "id": "yMkDv02dyDri"
      },
      "execution_count": null,
      "outputs": []
    },
    {
      "cell_type": "code",
      "execution_count": null,
      "metadata": {
        "id": "z-D_sU3kxiOO"
      },
      "outputs": [],
      "source": [
        "import torch\n",
        "import torch.nn.functional as F\n",
        "from torch_geometric.nn import GCNConv\n",
        "\n",
        "# Define the GNNModel class\n",
        "class GNNModel(torch.nn.Module):\n",
        "    def __init__(self, input_dim, output_dim):\n",
        "        super(GNNModel, self).__init__()\n",
        "        self.conv1 = GCNConv(input_dim, 16)  # First GCN layer\n",
        "        self.conv2 = GCNConv(16, output_dim)  # Second GCN layer\n",
        "\n",
        "    def forward(self, x, edge_index):\n",
        "        x = F.relu(self.conv1(x, edge_index))  # Apply ReLU activation after the first layer\n",
        "        x = self.conv2(x, edge_index)  # Apply the second GCN layer\n",
        "        return F.log_softmax(x, dim=1)  # Apply log softmax for classification\n",
        "\n",
        "# Example usage with the Cora dataset\n",
        "from torch_geometric.datasets import Planetoid\n",
        "\n",
        "# Load the Cora dataset\n",
        "dataset = Planetoid(root='/tmp/Cora', name='Cora')\n",
        "\n",
        "# Instantiate the model with input and output dimensions\n",
        "model = GNNModel(input_dim=dataset.num_node_features, output_dim=dataset.num_classes)\n",
        "\n",
        "# Get the first graph data object from the dataset\n",
        "data = dataset[0]\n",
        "\n",
        "# Pass the node features and edge indices through the model\n",
        "output = model(data.x, data.edge_index)\n",
        "\n",
        "# Print the shape of the output\n",
        "print(output.shape)  # Expected shape: [num_nodes, num_classes]"
      ]
    }
  ]
}