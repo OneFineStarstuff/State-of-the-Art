{
  "nbformat": 4,
  "nbformat_minor": 0,
  "metadata": {
    "colab": {
      "private_outputs": true,
      "provenance": [],
      "authorship_tag": "ABX9TyNoK8ld8H8/YLAL8NeR8e6Q",
      "include_colab_link": true
    },
    "kernelspec": {
      "name": "python3",
      "display_name": "Python 3"
    },
    "language_info": {
      "name": "python"
    }
  },
  "cells": [
    {
      "cell_type": "markdown",
      "metadata": {
        "id": "view-in-github",
        "colab_type": "text"
      },
      "source": [
        "<a href=\"https://colab.research.google.com/github/OneFineStarstuff/State-of-the-Art/blob/main/Graph_Neural_Networks_(GNNs).ipynb\" target=\"_parent\"><img src=\"https://colab.research.google.com/assets/colab-badge.svg\" alt=\"Open In Colab\"/></a>"
      ]
    },
    {
      "cell_type": "code",
      "source": [
        "pip install torch_geometric"
      ],
      "metadata": {
        "id": "Bn57WV1gzCmu"
      },
      "execution_count": null,
      "outputs": []
    },
    {
      "cell_type": "code",
      "execution_count": null,
      "metadata": {
        "id": "NQ1Nx15oyodD"
      },
      "outputs": [],
      "source": [
        "import torch\n",
        "from torch_geometric.data import Data\n",
        "from torch_geometric.nn import GCNConv\n",
        "from torch_geometric.utils import to_networkx\n",
        "import matplotlib.pyplot as plt\n",
        "import networkx as nx\n",
        "\n",
        "# Set random seed for reproducibility\n",
        "torch.manual_seed(42)\n",
        "\n",
        "# Define a simple graph with 3 nodes and 4 edges\n",
        "edge_index = torch.tensor([[0, 1, 2, 0], [1, 0, 1, 2]], dtype=torch.long)  # Edge list\n",
        "# Define node features with two-dimensional feature space\n",
        "x = torch.tensor([[-1, 1], [0, 0], [1, -1]], dtype=torch.float)\n",
        "\n",
        "# Create a graph data object\n",
        "data = Data(x=x, edge_index=edge_index)\n",
        "\n",
        "# Visualize the graph structure\n",
        "def visualize_graph(data):\n",
        "    G = to_networkx(data, to_undirected=True)  # Convert to NetworkX graph\n",
        "    nx.draw(G, with_labels=True, node_color='lightblue', node_size=500, font_size=10)\n",
        "    plt.title(\"Graph Visualization\")\n",
        "    plt.show()\n",
        "\n",
        "visualize_graph(data)\n",
        "\n",
        "# Define the Graph Convolutional Network (GCN)\n",
        "class GCN(torch.nn.Module):\n",
        "    def __init__(self):\n",
        "        super(GCN, self).__init__()\n",
        "        self.conv1 = GCNConv(2, 4)  # Input features: 2, Output features: 4\n",
        "        self.conv2 = GCNConv(4, 1)  # Input features: 4, Output features: 1\n",
        "\n",
        "    def forward(self, data):\n",
        "        x, edge_index = data.x, data.edge_index\n",
        "        x = self.conv1(x, edge_index)  # First GCN layer\n",
        "        x = torch.relu(x)  # Apply ReLU activation\n",
        "        x = self.conv2(x, edge_index)  # Second GCN layer\n",
        "        return x\n",
        "\n",
        "# Initialize the model\n",
        "model = GCN()\n",
        "\n",
        "# Forward pass through the model\n",
        "out = model(data)\n",
        "\n",
        "# Print node embeddings after GCN layers\n",
        "print(\"Node embeddings after GCN layers:\")\n",
        "print(out)"
      ]
    }
  ]
}