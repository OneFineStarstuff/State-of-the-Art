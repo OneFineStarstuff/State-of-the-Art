{
  "nbformat": 4,
  "nbformat_minor": 0,
  "metadata": {
    "colab": {
      "private_outputs": true,
      "provenance": [],
      "authorship_tag": "ABX9TyNeXndI7W3HuLhJPjCvPsjP",
      "include_colab_link": true
    },
    "kernelspec": {
      "name": "python3",
      "display_name": "Python 3"
    },
    "language_info": {
      "name": "python"
    }
  },
  "cells": [
    {
      "cell_type": "markdown",
      "metadata": {
        "id": "view-in-github",
        "colab_type": "text"
      },
      "source": [
        "<a href=\"https://colab.research.google.com/github/OneFineStarstuff/State-of-the-Art/blob/main/Graph_Neural_Networks_(GNNs).ipynb\" target=\"_parent\"><img src=\"https://colab.research.google.com/assets/colab-badge.svg\" alt=\"Open In Colab\"/></a>"
      ]
    },
    {
      "cell_type": "code",
      "source": [
        "pip install torch_geometric"
      ],
      "metadata": {
        "id": "u15B2vz0iEs-"
      },
      "execution_count": null,
      "outputs": []
    },
    {
      "cell_type": "code",
      "execution_count": null,
      "metadata": {
        "id": "ixPjuXJfhrAX"
      },
      "outputs": [],
      "source": [
        "import torch\n",
        "import torch.nn.functional as F\n",
        "from torch_geometric.nn import GCNConv\n",
        "from torch_geometric.data import Data\n",
        "from torch_geometric.utils import to_networkx\n",
        "import networkx as nx\n",
        "import matplotlib.pyplot as plt\n",
        "\n",
        "# Ensure reproducibility\n",
        "torch.manual_seed(42)\n",
        "\n",
        "# Example graph data (nodes and edges)\n",
        "edge_index = torch.tensor([[0, 1, 1, 2], [1, 0, 2, 1]], dtype=torch.long)  # Edges in source/target format\n",
        "x = torch.tensor([[-1], [0], [1]], dtype=torch.float)  # Node features\n",
        "\n",
        "# Create graph data object\n",
        "data = Data(x=x, edge_index=edge_index)\n",
        "\n",
        "# Visualize the graph structure\n",
        "def visualize_graph(data):\n",
        "    G = to_networkx(data, to_undirected=True)  # Convert to NetworkX graph\n",
        "    nx.draw(G, with_labels=True, node_color=\"lightblue\", node_size=500, font_size=10)\n",
        "    plt.title(\"Graph Visualization\")\n",
        "    plt.show()\n",
        "\n",
        "visualize_graph(data)\n",
        "\n",
        "# Define a GCN model\n",
        "class GCN(torch.nn.Module):\n",
        "    def __init__(self):\n",
        "        super(GCN, self).__init__()\n",
        "        self.conv1 = GCNConv(1, 16)  # From 1 input feature to 16 hidden features\n",
        "        self.conv2 = GCNConv(16, 1)  # From 16 hidden features back to 1 output feature\n",
        "\n",
        "    def forward(self, data):\n",
        "        x, edge_index = data.x, data.edge_index  # Get node features and edges\n",
        "        x = self.conv1(x, edge_index)  # First GCN layer\n",
        "        x = F.relu(x)  # Apply ReLU activation\n",
        "        x = self.conv2(x, edge_index)  # Second GCN layer\n",
        "        return x\n",
        "\n",
        "# Initialize the GCN model\n",
        "model = GCN()\n",
        "\n",
        "# Forward pass\n",
        "output = model(data)\n",
        "print(\"GCN output:\")\n",
        "print(output)"
      ]
    }
  ]
}