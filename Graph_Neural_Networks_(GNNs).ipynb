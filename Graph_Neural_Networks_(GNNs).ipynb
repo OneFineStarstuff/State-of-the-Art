{
  "nbformat": 4,
  "nbformat_minor": 0,
  "metadata": {
    "colab": {
      "private_outputs": true,
      "provenance": [],
      "authorship_tag": "ABX9TyM3dk8LQYLENNUDAzzb8hPF",
      "include_colab_link": true
    },
    "kernelspec": {
      "name": "python3",
      "display_name": "Python 3"
    },
    "language_info": {
      "name": "python"
    }
  },
  "cells": [
    {
      "cell_type": "markdown",
      "metadata": {
        "id": "view-in-github",
        "colab_type": "text"
      },
      "source": [
        "<a href=\"https://colab.research.google.com/github/OneFineStarstuff/State-of-the-Art/blob/main/Graph_Neural_Networks_(GNNs).ipynb\" target=\"_parent\"><img src=\"https://colab.research.google.com/assets/colab-badge.svg\" alt=\"Open In Colab\"/></a>"
      ]
    },
    {
      "cell_type": "code",
      "source": [
        "pip install torch_geometric"
      ],
      "metadata": {
        "id": "zh5XW3sLUunG"
      },
      "execution_count": null,
      "outputs": []
    },
    {
      "cell_type": "code",
      "execution_count": null,
      "metadata": {
        "id": "MnbBNhSoUTRD"
      },
      "outputs": [],
      "source": [
        "import torch\n",
        "import torch.nn as nn\n",
        "from torch_geometric.nn import GCNConv\n",
        "from torch_geometric.datasets import Planetoid\n",
        "\n",
        "# Define the GCN class\n",
        "class GCN(nn.Module):\n",
        "    def __init__(self, num_node_features, hidden_channels, num_classes):\n",
        "        super(GCN, self).__init__()\n",
        "        self.conv1 = GCNConv(num_node_features, hidden_channels)  # First GCN layer\n",
        "        self.conv2 = GCNConv(hidden_channels, num_classes)  # Second GCN layer\n",
        "\n",
        "    def forward(self, x, edge_index):\n",
        "        x = self.conv1(x, edge_index).relu()  # Apply first GCN layer and ReLU\n",
        "        x = self.conv2(x, edge_index)  # Apply second GCN layer\n",
        "        return x\n",
        "\n",
        "# Load the Cora dataset\n",
        "dataset = Planetoid(root='data/Planetoid', name='Cora')\n",
        "data = dataset[0]\n",
        "\n",
        "# Instantiate and use the GCN\n",
        "model = GCN(num_node_features=dataset.num_node_features, hidden_channels=16, num_classes=dataset.num_classes)\n",
        "out = model(data.x, data.edge_index)\n",
        "\n",
        "# Print the shape of the output\n",
        "print(out.shape)  # Output shape: [number of nodes, number of classes]"
      ]
    }
  ]
}