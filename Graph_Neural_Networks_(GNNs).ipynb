{
  "nbformat": 4,
  "nbformat_minor": 0,
  "metadata": {
    "colab": {
      "private_outputs": true,
      "provenance": [],
      "authorship_tag": "ABX9TyOdzSSMaUQk7PgeeeCv3KL5",
      "include_colab_link": true
    },
    "kernelspec": {
      "name": "python3",
      "display_name": "Python 3"
    },
    "language_info": {
      "name": "python"
    }
  },
  "cells": [
    {
      "cell_type": "markdown",
      "metadata": {
        "id": "view-in-github",
        "colab_type": "text"
      },
      "source": [
        "<a href=\"https://colab.research.google.com/github/OneFineStarstuff/State-of-the-Art/blob/main/Graph_Neural_Networks_(GNNs).ipynb\" target=\"_parent\"><img src=\"https://colab.research.google.com/assets/colab-badge.svg\" alt=\"Open In Colab\"/></a>"
      ]
    },
    {
      "cell_type": "code",
      "execution_count": null,
      "metadata": {
        "id": "RXMSwPaPGTfD"
      },
      "outputs": [],
      "source": [
        "pip install torch_geometric"
      ]
    },
    {
      "cell_type": "code",
      "source": [
        "import torch\n",
        "import torch.nn as nn\n",
        "import torch.nn.functional as F\n",
        "from torch_geometric.datasets import Planetoid\n",
        "from torch_geometric.nn import GCNConv\n",
        "\n",
        "# Define the GCN Model\n",
        "class GCN(nn.Module):\n",
        "    def __init__(self, input_dim, hidden_dim, output_dim):\n",
        "        super(GCN, self).__init__()\n",
        "        self.conv1 = GCNConv(input_dim, hidden_dim)\n",
        "        self.conv2 = GCNConv(hidden_dim, output_dim)\n",
        "\n",
        "    def forward(self, x, edge_index):\n",
        "        x = self.conv1(x, edge_index)\n",
        "        x = F.relu(x)\n",
        "        x = self.conv2(x, edge_index)\n",
        "        return F.log_softmax(x, dim=1)\n",
        "\n",
        "# Load the Cora Dataset\n",
        "dataset = Planetoid(root='data/Cora', name='Cora')\n",
        "data = dataset[0]  # Access the graph data object (x, edge_index, y, train_mask, val_mask, test_mask)\n",
        "\n",
        "# Initialize the model, optimizer, and device\n",
        "device = torch.device('cuda' if torch.cuda.is_available() else 'cpu')\n",
        "model = GCN(input_dim=dataset.num_node_features, hidden_dim=16, output_dim=dataset.num_classes).to(device)\n",
        "data = data.to(device)\n",
        "optimizer = torch.optim.Adam(model.parameters(), lr=0.01, weight_decay=5e-4)\n",
        "\n",
        "# Early Stopping Parameters\n",
        "best_val_loss = float('inf')\n",
        "patience = 10\n",
        "trigger = 0\n",
        "\n",
        "# Training and Validation Loop\n",
        "for epoch in range(200):\n",
        "    model.train()\n",
        "    optimizer.zero_grad()\n",
        "    out = model(data.x, data.edge_index)\n",
        "    loss = F.nll_loss(out[data.train_mask], data.y[data.train_mask])\n",
        "    loss.backward()\n",
        "    optimizer.step()\n",
        "\n",
        "    # Validation step\n",
        "    model.eval()\n",
        "    with torch.no_grad():\n",
        "        val_out = model(data.x, data.edge_index)\n",
        "        val_loss = F.nll_loss(val_out[data.val_mask], data.y[data.val_mask])\n",
        "        if val_loss < best_val_loss:\n",
        "            best_val_loss = val_loss\n",
        "            trigger = 0\n",
        "        else:\n",
        "            trigger += 1\n",
        "            if trigger >= patience:\n",
        "                print(f\"Early stopping triggered at epoch {epoch + 1}\")\n",
        "                break\n",
        "\n",
        "    print(f\"Epoch {epoch + 1}, Loss: {loss.item():.4f}, Val Loss: {val_loss.item():.4f}\")\n",
        "\n",
        "# Test Accuracy\n",
        "model.eval()\n",
        "with torch.no_grad():\n",
        "    pred = model(data.x, data.edge_index).argmax(dim=1)  # Get predictions\n",
        "    correct = (pred[data.test_mask] == data.y[data.test_mask]).sum()\n",
        "    acc = int(correct) / int(data.test_mask.sum())\n",
        "    print(f\"Test Accuracy: {acc:.4f}\")"
      ],
      "metadata": {
        "id": "tTPxco4aG2VN"
      },
      "execution_count": null,
      "outputs": []
    }
  ]
}