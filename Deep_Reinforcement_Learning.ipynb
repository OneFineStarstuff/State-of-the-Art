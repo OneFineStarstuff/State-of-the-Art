{
  "nbformat": 4,
  "nbformat_minor": 0,
  "metadata": {
    "colab": {
      "private_outputs": true,
      "provenance": [],
      "authorship_tag": "ABX9TyNzdjQtQMPsuY5dIKaS4swn",
      "include_colab_link": true
    },
    "kernelspec": {
      "name": "python3",
      "display_name": "Python 3"
    },
    "language_info": {
      "name": "python"
    }
  },
  "cells": [
    {
      "cell_type": "markdown",
      "metadata": {
        "id": "view-in-github",
        "colab_type": "text"
      },
      "source": [
        "<a href=\"https://colab.research.google.com/github/OneFineStarstuff/State-of-the-Art/blob/main/Deep_Reinforcement_Learning.ipynb\" target=\"_parent\"><img src=\"https://colab.research.google.com/assets/colab-badge.svg\" alt=\"Open In Colab\"/></a>"
      ]
    },
    {
      "cell_type": "code",
      "execution_count": null,
      "metadata": {
        "id": "teh6OXNaViYH"
      },
      "outputs": [],
      "source": [
        "import torch\n",
        "import torch.nn as nn\n",
        "import torch.optim as optim\n",
        "import gym\n",
        "\n",
        "# Define the DQN class\n",
        "class DQN(nn.Module):\n",
        "    def __init__(self, state_dim, action_dim):\n",
        "        super(DQN, self).__init__()\n",
        "        self.fc = nn.Sequential(\n",
        "            nn.Linear(state_dim, 128),  # First fully connected layer\n",
        "            nn.ReLU(),  # ReLU activation\n",
        "            nn.Linear(128, 128),  # Second fully connected layer\n",
        "            nn.ReLU(),  # ReLU activation\n",
        "            nn.Linear(128, action_dim)  # Output layer\n",
        "        )\n",
        "\n",
        "    def forward(self, x):\n",
        "        return self.fc(x)\n",
        "\n",
        "# Create the CartPole-v1 environment\n",
        "env = gym.make('CartPole-v1')\n",
        "\n",
        "# Instantiate the DQN model\n",
        "dqn = DQN(state_dim=env.observation_space.shape[0], action_dim=env.action_space.n)\n",
        "\n",
        "# Define the optimizer\n",
        "optimizer = optim.Adam(dqn.parameters())\n",
        "\n",
        "# Example of selecting an action\n",
        "state = torch.FloatTensor(env.reset()).unsqueeze(0)  # Reset environment and get initial state\n",
        "q_values = dqn(state)  # Get Q-values from the DQN\n",
        "action = torch.argmax(q_values).item()  # Select action with highest Q-value\n",
        "print(\"Selected action:\", action)"
      ]
    }
  ]
}