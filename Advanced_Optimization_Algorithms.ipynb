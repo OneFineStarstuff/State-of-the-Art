{
  "nbformat": 4,
  "nbformat_minor": 0,
  "metadata": {
    "colab": {
      "private_outputs": true,
      "provenance": [],
      "authorship_tag": "ABX9TyOjSoHRNPUaQPZ4IS7e9XuM",
      "include_colab_link": true
    },
    "kernelspec": {
      "name": "python3",
      "display_name": "Python 3"
    },
    "language_info": {
      "name": "python"
    }
  },
  "cells": [
    {
      "cell_type": "markdown",
      "metadata": {
        "id": "view-in-github",
        "colab_type": "text"
      },
      "source": [
        "<a href=\"https://colab.research.google.com/github/OneFineStarstuff/State-of-the-Art/blob/main/Advanced_Optimization_Algorithms.ipynb\" target=\"_parent\"><img src=\"https://colab.research.google.com/assets/colab-badge.svg\" alt=\"Open In Colab\"/></a>"
      ]
    },
    {
      "cell_type": "code",
      "execution_count": null,
      "metadata": {
        "id": "sQL4edGhDVwU"
      },
      "outputs": [],
      "source": [
        "import numpy as np\n",
        "from scipy.optimize import differential_evolution\n",
        "\n",
        "# Define the Ackley function\n",
        "def ackley(x):\n",
        "    return -20.0 * np.exp(-0.2 * np.sqrt(0.5 * (x[0]**2 + x[1]**2))) - np.exp(0.5 * (np.cos(2.0 * np.pi * x[0]) + np.cos(2.0 * np.pi * x[1]))) + np.e + 20\n",
        "\n",
        "# Run the differential evolution optimization\n",
        "result = differential_evolution(ackley, bounds=[(-5, 5), (-5, 5)])\n",
        "\n",
        "# Print the best parameters found\n",
        "print(result.x)"
      ]
    }
  ]
}