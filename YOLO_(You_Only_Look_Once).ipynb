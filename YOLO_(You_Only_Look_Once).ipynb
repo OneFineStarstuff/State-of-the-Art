{
  "nbformat": 4,
  "nbformat_minor": 0,
  "metadata": {
    "colab": {
      "private_outputs": true,
      "provenance": [],
      "authorship_tag": "ABX9TyMrGjl/EL9w8COvKzIY/ye8",
      "include_colab_link": true
    },
    "kernelspec": {
      "name": "python3",
      "display_name": "Python 3"
    },
    "language_info": {
      "name": "python"
    }
  },
  "cells": [
    {
      "cell_type": "markdown",
      "metadata": {
        "id": "view-in-github",
        "colab_type": "text"
      },
      "source": [
        "<a href=\"https://colab.research.google.com/github/OneFineStarstuff/State-of-the-Art/blob/main/YOLO_(You_Only_Look_Once).ipynb\" target=\"_parent\"><img src=\"https://colab.research.google.com/assets/colab-badge.svg\" alt=\"Open In Colab\"/></a>"
      ]
    },
    {
      "cell_type": "code",
      "execution_count": null,
      "metadata": {
        "id": "bGMQyYOj2o7Z"
      },
      "outputs": [],
      "source": [
        "pip install yolov5"
      ]
    },
    {
      "cell_type": "code",
      "source": [
        "import torch\n",
        "from torchvision import transforms\n",
        "from PIL import Image\n",
        "import matplotlib.pyplot as plt\n",
        "from yolov5 import YOLOv5\n",
        "\n",
        "# Load pre-trained YOLOv5 model\n",
        "model = YOLOv5(\"yolov5s.pt\", device=\"cpu\")  # Change to 'cuda' if you have a GPU\n",
        "\n",
        "# Image preprocessing\n",
        "transform = transforms.Compose([\n",
        "    transforms.Resize((640, 640)),\n",
        "    transforms.ToTensor(),\n",
        "])\n",
        "\n",
        "# Load and preprocess the image\n",
        "img = Image.open(\"path_to_image.jpg\").convert(\"RGB\")\n",
        "img_tensor = transform(img).unsqueeze(0)\n",
        "\n",
        "# Perform inference\n",
        "results = model(img_tensor)\n",
        "\n",
        "# Visualize results\n",
        "def plot_image_with_boxes(img, results):\n",
        "    fig, ax = plt.subplots(1, 1, figsize=(12, 9))\n",
        "    ax.imshow(img)\n",
        "    for pred in results.xyxy[0]:\n",
        "        x, y, x2, y2, conf, cls = pred\n",
        "        label = model.names[int(cls)]\n",
        "        score = conf\n",
        "        if score > 0.5:\n",
        "            ax.add_patch(plt.Rectangle((x, y), x2 - x, y2 - y, fill=False, color='red', linewidth=2))\n",
        "            ax.text(x, y, f'{label}: {score:.2f}', color='red', fontsize=12)\n",
        "    plt.show()\n",
        "\n",
        "plot_image_with_boxes(img, results)"
      ],
      "metadata": {
        "id": "B6qV8yG6205M"
      },
      "execution_count": null,
      "outputs": []
    }
  ]
}