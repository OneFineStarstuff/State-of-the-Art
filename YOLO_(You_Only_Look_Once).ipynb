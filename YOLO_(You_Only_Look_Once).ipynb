{
  "nbformat": 4,
  "nbformat_minor": 0,
  "metadata": {
    "colab": {
      "private_outputs": true,
      "provenance": [],
      "authorship_tag": "ABX9TyMrnPq95X6/jRZ9Bw/23JT8",
      "include_colab_link": true
    },
    "kernelspec": {
      "name": "python3",
      "display_name": "Python 3"
    },
    "language_info": {
      "name": "python"
    }
  },
  "cells": [
    {
      "cell_type": "markdown",
      "metadata": {
        "id": "view-in-github",
        "colab_type": "text"
      },
      "source": [
        "<a href=\"https://colab.research.google.com/github/OneFineStarstuff/State-of-the-Art/blob/main/YOLO_(You_Only_Look_Once).ipynb\" target=\"_parent\"><img src=\"https://colab.research.google.com/assets/colab-badge.svg\" alt=\"Open In Colab\"/></a>"
      ]
    },
    {
      "cell_type": "code",
      "execution_count": null,
      "metadata": {
        "id": "gM3qkjYAm-P4"
      },
      "outputs": [],
      "source": [
        "import torch\n",
        "from torchvision.models.detection import fasterrcnn_resnet50_fpn\n",
        "from torchvision.transforms import functional as F\n",
        "from PIL import Image\n",
        "\n",
        "# Load the image and convert to a tensor\n",
        "image_path = \"path_to_your_image.jpg\"\n",
        "image = Image.open(image_path).convert(\"RGB\")\n",
        "image_tensor = F.to_tensor(image)\n",
        "\n",
        "# Load the pre-trained Faster R-CNN model\n",
        "model = fasterrcnn_resnet50_fpn(pretrained=True)\n",
        "model.eval()\n",
        "\n",
        "# Run inference\n",
        "with torch.no_grad():\n",
        "    outputs = model([image_tensor])\n",
        "\n",
        "# Print the outputs\n",
        "print(outputs)"
      ]
    }
  ]
}