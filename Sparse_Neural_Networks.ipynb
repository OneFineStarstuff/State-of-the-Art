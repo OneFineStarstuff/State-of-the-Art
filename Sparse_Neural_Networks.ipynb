{
  "nbformat": 4,
  "nbformat_minor": 0,
  "metadata": {
    "colab": {
      "private_outputs": true,
      "provenance": [],
      "authorship_tag": "ABX9TyOAtcdHcuAz++pdaq7z7/Q/",
      "include_colab_link": true
    },
    "kernelspec": {
      "name": "python3",
      "display_name": "Python 3"
    },
    "language_info": {
      "name": "python"
    }
  },
  "cells": [
    {
      "cell_type": "markdown",
      "metadata": {
        "id": "view-in-github",
        "colab_type": "text"
      },
      "source": [
        "<a href=\"https://colab.research.google.com/github/OneFineStarstuff/State-of-the-Art/blob/main/Sparse_Neural_Networks.ipynb\" target=\"_parent\"><img src=\"https://colab.research.google.com/assets/colab-badge.svg\" alt=\"Open In Colab\"/></a>"
      ]
    },
    {
      "cell_type": "code",
      "execution_count": null,
      "metadata": {
        "id": "gYrwhZA6-iuA"
      },
      "outputs": [],
      "source": [
        "import torch\n",
        "import torch.nn as nn\n",
        "import torch.nn.functional as F\n",
        "\n",
        "# Define the SparseLinear class\n",
        "class SparseLinear(nn.Module):\n",
        "    def __init__(self, input_dim, output_dim, sparsity):\n",
        "        super(SparseLinear, self).__init__()\n",
        "        self.weight = nn.Parameter(torch.randn(output_dim, input_dim))  # Initialize weights\n",
        "        self.bias = nn.Parameter(torch.randn(output_dim))  # Initialize biases\n",
        "        self.sparsity = sparsity  # Sparsity level\n",
        "\n",
        "    def forward(self, x):\n",
        "        mask = torch.rand_like(self.weight) < self.sparsity  # Create a random mask based on sparsity level\n",
        "        sparse_weight = self.weight * mask  # Apply mask to weights\n",
        "        return F.linear(x, sparse_weight, self.bias)  # Perform linear transformation with sparse weights\n",
        "\n",
        "# Example usage\n",
        "model = SparseLinear(input_dim=784, output_dim=10, sparsity=0.1)\n",
        "input_data = torch.randn(64, 784)  # Example input (batch_size=64, input_dim=784)\n",
        "output = model(input_data)\n",
        "\n",
        "# Print the shape of the output\n",
        "print(output.shape)  # Expected shape: [64, 10]"
      ]
    }
  ]
}