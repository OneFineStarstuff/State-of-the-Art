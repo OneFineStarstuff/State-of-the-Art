{
  "nbformat": 4,
  "nbformat_minor": 0,
  "metadata": {
    "colab": {
      "private_outputs": true,
      "provenance": [],
      "authorship_tag": "ABX9TyOfvklcXYLMlYnzCFR/PBgG",
      "include_colab_link": true
    },
    "kernelspec": {
      "name": "python3",
      "display_name": "Python 3"
    },
    "language_info": {
      "name": "python"
    }
  },
  "cells": [
    {
      "cell_type": "markdown",
      "metadata": {
        "id": "view-in-github",
        "colab_type": "text"
      },
      "source": [
        "<a href=\"https://colab.research.google.com/github/OneFineStarstuff/State-of-the-Art/blob/main/Sparse_Neural_Networks.ipynb\" target=\"_parent\"><img src=\"https://colab.research.google.com/assets/colab-badge.svg\" alt=\"Open In Colab\"/></a>"
      ]
    },
    {
      "cell_type": "code",
      "execution_count": null,
      "metadata": {
        "id": "dZF2W3dndXy7"
      },
      "outputs": [],
      "source": [
        "import torch\n",
        "import torch.nn as nn\n",
        "\n",
        "# Define the SparseNN class\n",
        "class SparseNN(nn.Module):\n",
        "    def __init__(self, input_dim, output_dim, sparsity_ratio=0.9):\n",
        "        super(SparseNN, self).__init__()\n",
        "        self.fc1 = nn.Linear(input_dim, 128)  # First fully connected layer\n",
        "        self.fc2 = nn.Linear(128, output_dim)  # Second fully connected layer\n",
        "        self.sparsity_ratio = sparsity_ratio  # Sparsity ratio\n",
        "\n",
        "    def forward(self, x):\n",
        "        x = self.fc1(x)  # Apply first fully connected layer\n",
        "        x = torch.nn.functional.relu(x)  # Apply ReLU activation\n",
        "        x = self._apply_sparsity(x)  # Apply sparsity\n",
        "        x = self.fc2(x)  # Apply second fully connected layer\n",
        "        return x\n",
        "\n",
        "    def _apply_sparsity(self, x):\n",
        "        mask = torch.rand_like(x) > self.sparsity_ratio  # Generate random mask\n",
        "        return x * mask  # Apply mask to activations\n",
        "\n",
        "# Example usage\n",
        "model = SparseNN(input_dim=784, output_dim=10)  # Instantiate the model\n",
        "input_data = torch.randn(64, 784)  # Example input (batch_size=64, input_dim=784)\n",
        "output = model(input_data)\n",
        "\n",
        "# Print the shape of the output\n",
        "print(output.shape)  # Expected shape: [64, 10]"
      ]
    }
  ]
}