{
  "nbformat": 4,
  "nbformat_minor": 0,
  "metadata": {
    "colab": {
      "private_outputs": true,
      "provenance": [],
      "authorship_tag": "ABX9TyNmkda4ND9VQ4bwMPwSM3h7",
      "include_colab_link": true
    },
    "kernelspec": {
      "name": "python3",
      "display_name": "Python 3"
    },
    "language_info": {
      "name": "python"
    }
  },
  "cells": [
    {
      "cell_type": "markdown",
      "metadata": {
        "id": "view-in-github",
        "colab_type": "text"
      },
      "source": [
        "<a href=\"https://colab.research.google.com/github/OneFineStarstuff/State-of-the-Art/blob/main/Sparse_Neural_Networks.ipynb\" target=\"_parent\"><img src=\"https://colab.research.google.com/assets/colab-badge.svg\" alt=\"Open In Colab\"/></a>"
      ]
    },
    {
      "cell_type": "code",
      "execution_count": null,
      "metadata": {
        "id": "dcH_Q6QhZgTh"
      },
      "outputs": [],
      "source": [
        "import torch\n",
        "import torch.nn as nn\n",
        "import torch.optim as optim\n",
        "from torch.nn.utils import prune\n",
        "\n",
        "# Define the SparseNetwork class\n",
        "class SparseNetwork(nn.Module):\n",
        "    def __init__(self, input_dim, output_dim):\n",
        "        super(SparseNetwork, self).__init__()\n",
        "        self.fc1 = nn.Linear(input_dim, 128)  # First fully connected layer\n",
        "        self.fc2 = nn.Linear(128, 64)  # Second fully connected layer\n",
        "        self.fc3 = nn.Linear(64, output_dim)  # Output layer\n",
        "\n",
        "    def forward(self, x):\n",
        "        x = torch.relu(self.fc1(x))  # Apply ReLU activation after the first layer\n",
        "        x = torch.relu(self.fc2(x))  # Apply ReLU activation after the second layer\n",
        "        return self.fc3(x)  # Output layer\n",
        "\n",
        "# Example usage\n",
        "model = SparseNetwork(input_dim=784, output_dim=10)\n",
        "prune.l1_unstructured(model.fc1, name='weight', amount=0.5)  # Prune 50% of weights in fc1\n",
        "prune.l1_unstructured(model.fc2, name='weight', amount=0.5)  # Prune 50% of weights in fc2\n",
        "\n",
        "# Verify sparsity\n",
        "print(\"Sparsity in fc1:\", 100. * float(torch.sum(model.fc1.weight == 0)) / float(model.fc1.weight.nelement()), \"%\")\n",
        "print(\"Sparsity in fc2:\", 100. * float(torch.sum(model.fc2.weight == 0)) / float(model.fc2.weight.nelement()), \"%\")\n",
        "\n",
        "# Train the model as usual\n",
        "optimizer = optim.Adam(model.parameters(), lr=0.001)  # Define the optimizer\n",
        "\n",
        "# You can add a training loop here if needed\n",
        "# for epoch in range(num_epochs):\n",
        "#     optimizer.zero_grad()\n",
        "#     output = model(data)\n",
        "#     loss = criterion(output, target)\n",
        "#     loss.backward()\n",
        "#     optimizer.step()"
      ]
    }
  ]
}