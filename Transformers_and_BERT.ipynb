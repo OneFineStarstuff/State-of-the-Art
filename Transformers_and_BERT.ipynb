{
  "nbformat": 4,
  "nbformat_minor": 0,
  "metadata": {
    "colab": {
      "private_outputs": true,
      "provenance": [],
      "authorship_tag": "ABX9TyOXVX53Be5WgQMG26YWPqno",
      "include_colab_link": true
    },
    "kernelspec": {
      "name": "python3",
      "display_name": "Python 3"
    },
    "language_info": {
      "name": "python"
    }
  },
  "cells": [
    {
      "cell_type": "markdown",
      "metadata": {
        "id": "view-in-github",
        "colab_type": "text"
      },
      "source": [
        "<a href=\"https://colab.research.google.com/github/OneFineStarstuff/State-of-the-Art/blob/main/Transformers_and_BERT.ipynb\" target=\"_parent\"><img src=\"https://colab.research.google.com/assets/colab-badge.svg\" alt=\"Open In Colab\"/></a>"
      ]
    },
    {
      "cell_type": "code",
      "execution_count": null,
      "metadata": {
        "id": "xHDmDggIO7DX"
      },
      "outputs": [],
      "source": [
        "from transformers import BertTokenizer, BertForSequenceClassification\n",
        "import torch\n",
        "\n",
        "# Load pre-trained BERT tokenizer and model\n",
        "tokenizer = BertTokenizer.from_pretrained('bert-base-uncased')\n",
        "model = BertForSequenceClassification.from_pretrained('bert-base-uncased', num_labels=2)  # Adjust 'num_labels' for your task\n",
        "\n",
        "# Ensure the model is in evaluation mode\n",
        "model.eval()\n",
        "\n",
        "# Input text for classification\n",
        "text = \"This is a sample sentence for BERT.\"\n",
        "inputs = tokenizer(text, return_tensors=\"pt\", truncation=True, padding=True)\n",
        "\n",
        "# Forward pass through the model\n",
        "with torch.no_grad():  # Disable gradient computation for inference\n",
        "    outputs = model(**inputs)\n",
        "\n",
        "# Extract logits and calculate probabilities\n",
        "logits = outputs.logits\n",
        "probabilities = torch.softmax(logits, dim=1)\n",
        "\n",
        "# Get the predicted class\n",
        "predicted_class = torch.argmax(probabilities, dim=1).item()\n",
        "\n",
        "# Display results\n",
        "print(f\"Logits: {logits}\")\n",
        "print(f\"Probabilities: {probabilities}\")\n",
        "print(f\"Predicted Class: {predicted_class}\")"
      ]
    }
  ]
}