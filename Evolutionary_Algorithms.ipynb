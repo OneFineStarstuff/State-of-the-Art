{
  "nbformat": 4,
  "nbformat_minor": 0,
  "metadata": {
    "colab": {
      "private_outputs": true,
      "provenance": [],
      "authorship_tag": "ABX9TyPpXnVeignSksG6obEmNvNi",
      "include_colab_link": true
    },
    "kernelspec": {
      "name": "python3",
      "display_name": "Python 3"
    },
    "language_info": {
      "name": "python"
    }
  },
  "cells": [
    {
      "cell_type": "markdown",
      "metadata": {
        "id": "view-in-github",
        "colab_type": "text"
      },
      "source": [
        "<a href=\"https://colab.research.google.com/github/OneFineStarstuff/State-of-the-Art/blob/main/Evolutionary_Algorithms.ipynb\" target=\"_parent\"><img src=\"https://colab.research.google.com/assets/colab-badge.svg\" alt=\"Open In Colab\"/></a>"
      ]
    },
    {
      "cell_type": "code",
      "execution_count": null,
      "metadata": {
        "id": "Y2y8sTtJrWYv"
      },
      "outputs": [],
      "source": [
        "import numpy as np\n",
        "\n",
        "def fitness_function(x):\n",
        "    return np.sum(x ** 2)\n",
        "\n",
        "def mutate(x):\n",
        "    mutation_strength = 0.1\n",
        "    return x + mutation_strength * np.random.randn(*x.shape)\n",
        "\n",
        "population_size = 10\n",
        "num_generations = 20\n",
        "num_features = 5\n",
        "\n",
        "population = np.random.randn(population_size, num_features)\n",
        "for generation in range(num_generations):\n",
        "    fitness_scores = np.apply_along_axis(fitness_function, 1, population)\n",
        "    best_individual = population[np.argmin(fitness_scores)]\n",
        "    print(f'Generation {generation + 1}, Best Fitness: {fitness_scores.min()}')\n",
        "    new_population = np.array([mutate(best_individual) for _ in range(population_size)])\n",
        "    population = new_population"
      ]
    }
  ]
}