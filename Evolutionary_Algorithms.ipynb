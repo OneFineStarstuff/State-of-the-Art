{
  "nbformat": 4,
  "nbformat_minor": 0,
  "metadata": {
    "colab": {
      "private_outputs": true,
      "provenance": [],
      "authorship_tag": "ABX9TyMwI/3Qtho9dE4UYXQu8WMh",
      "include_colab_link": true
    },
    "kernelspec": {
      "name": "python3",
      "display_name": "Python 3"
    },
    "language_info": {
      "name": "python"
    }
  },
  "cells": [
    {
      "cell_type": "markdown",
      "metadata": {
        "id": "view-in-github",
        "colab_type": "text"
      },
      "source": [
        "<a href=\"https://colab.research.google.com/github/OneFineStarstuff/State-of-the-Art/blob/main/Evolutionary_Algorithms.ipynb\" target=\"_parent\"><img src=\"https://colab.research.google.com/assets/colab-badge.svg\" alt=\"Open In Colab\"/></a>"
      ]
    },
    {
      "cell_type": "code",
      "source": [
        "pip install deap"
      ],
      "metadata": {
        "id": "5vRbhTLsryE_"
      },
      "execution_count": null,
      "outputs": []
    },
    {
      "cell_type": "code",
      "execution_count": null,
      "metadata": {
        "id": "0B0qshdyrcYC"
      },
      "outputs": [],
      "source": [
        "from deap import base, creator, tools, algorithms\n",
        "import random\n",
        "\n",
        "# Define the fitness function (maximize sum of individual values)\n",
        "def eval_function(individual):\n",
        "    return sum(individual),\n",
        "\n",
        "# Create the necessary DEAP classes\n",
        "creator.create(\"FitnessMax\", base.Fitness, weights=(1.0,))  # Maximizing fitness\n",
        "creator.create(\"Individual\", list, fitness=creator.FitnessMax)\n",
        "\n",
        "# Set up the toolbox for the genetic algorithm\n",
        "toolbox = base.Toolbox()\n",
        "toolbox.register(\"attr_float\", random.random)  # Generate random float (0.0 - 1.0)\n",
        "toolbox.register(\"individual\", tools.initRepeat, creator.Individual, toolbox.attr_float, 10)  # Individual = 10 random floats\n",
        "toolbox.register(\"population\", tools.initRepeat, list, toolbox.individual)  # Population = list of individuals\n",
        "toolbox.register(\"mate\", tools.cxTwoPoint)  # Two-point crossover\n",
        "toolbox.register(\"mutate\", tools.mutFlipBit, indpb=0.05)  # Bit-flip mutation (probability = 0.05)\n",
        "toolbox.register(\"select\", tools.selTournament, tournsize=3)  # Tournament selection\n",
        "toolbox.register(\"evaluate\", eval_function)  # Evaluation function\n",
        "\n",
        "# Initialize the population and Hall of Fame\n",
        "pop = toolbox.population(n=100)  # Population size = 100\n",
        "hof = tools.HallOfFame(1)  # Keep the best individual\n",
        "\n",
        "# Run the genetic algorithm\n",
        "algorithms.eaSimple(\n",
        "    population=pop,\n",
        "    toolbox=toolbox,\n",
        "    cxpb=0.7,  # Crossover probability\n",
        "    mutpb=0.2,  # Mutation probability\n",
        "    ngen=50,  # Number of generations\n",
        "    stats=None,\n",
        "    halloffame=hof,\n",
        "    verbose=True\n",
        ")\n",
        "\n",
        "# Output the best individual after the algorithm is complete\n",
        "print(\"Best individual:\", hof[0])\n",
        "print(\"Best fitness:\", hof[0].fitness.values[0])"
      ]
    }
  ]
}