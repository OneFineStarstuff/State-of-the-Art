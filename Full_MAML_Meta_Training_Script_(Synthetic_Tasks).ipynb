{
  "nbformat": 4,
  "nbformat_minor": 0,
  "metadata": {
    "colab": {
      "private_outputs": true,
      "provenance": [],
      "authorship_tag": "ABX9TyMwjBroB/P01X2sA8+padjS",
      "include_colab_link": true
    },
    "kernelspec": {
      "name": "python3",
      "display_name": "Python 3"
    },
    "language_info": {
      "name": "python"
    }
  },
  "cells": [
    {
      "cell_type": "markdown",
      "metadata": {
        "id": "view-in-github",
        "colab_type": "text"
      },
      "source": [
        "<a href=\"https://colab.research.google.com/github/OneFineStarstuff/State-of-the-Art/blob/main/Full_MAML_Meta_Training_Script_(Synthetic_Tasks).ipynb\" target=\"_parent\"><img src=\"https://colab.research.google.com/assets/colab-badge.svg\" alt=\"Open In Colab\"/></a>"
      ]
    },
    {
      "cell_type": "code",
      "execution_count": null,
      "metadata": {
        "id": "FC7EvMFet0Ma"
      },
      "outputs": [],
      "source": [
        "import torch\n",
        "import torch.nn as nn\n",
        "import torch.optim as optim\n",
        "import copy\n",
        "\n",
        "# --- Simple MLP Model ---\n",
        "class SimpleNN(nn.Module):\n",
        "    def __init__(self, input_size=10, hidden_size=32, output_size=2):\n",
        "        super().__init__()\n",
        "        self.fc1 = nn.Linear(input_size, hidden_size)\n",
        "        self.fc2 = nn.Linear(hidden_size, output_size)\n",
        "\n",
        "    def forward(self, x):\n",
        "        x = torch.relu(self.fc1(x))\n",
        "        return self.fc2(x)\n",
        "\n",
        "# --- MAML Inner-Loop Update ---\n",
        "def maml_inner_update(model, loss_fn, x_support, y_support, inner_lr):\n",
        "    model_clone = copy.deepcopy(model)\n",
        "    optimizer = optim.SGD(model_clone.parameters(), lr=inner_lr)\n",
        "\n",
        "    output = model_clone(x_support)\n",
        "    loss = loss_fn(output, y_support)\n",
        "\n",
        "    optimizer.zero_grad()\n",
        "    loss.backward()\n",
        "    optimizer.step()\n",
        "\n",
        "    return model_clone\n",
        "\n",
        "# --- Meta-Training Step ---\n",
        "def meta_train_step(meta_model, tasks, loss_fn, meta_optimizer, inner_lr):\n",
        "    meta_loss = 0.0\n",
        "\n",
        "    for x_support, y_support, x_query, y_query in tasks:\n",
        "        # Inner loop adaptation\n",
        "        adapted_model = maml_inner_update(meta_model, loss_fn, x_support, y_support, inner_lr)\n",
        "\n",
        "        # Evaluate on query set using adapted model\n",
        "        output = adapted_model(x_query)\n",
        "        loss = loss_fn(output, y_query)\n",
        "        meta_loss += loss\n",
        "\n",
        "    meta_loss = meta_loss / len(tasks)\n",
        "\n",
        "    # Meta update\n",
        "    meta_optimizer.zero_grad()\n",
        "    meta_loss.backward()\n",
        "    meta_optimizer.step()\n",
        "\n",
        "    return meta_loss.item()\n",
        "\n",
        "# --- Dummy Task Sampler ---\n",
        "def generate_dummy_task(n_support=5, n_query=15, input_dim=10, num_classes=2):\n",
        "    x_support = torch.randn(n_support, input_dim)\n",
        "    y_support = torch.randint(0, num_classes, (n_support,))\n",
        "    x_query = torch.randn(n_query, input_dim)\n",
        "    y_query = torch.randint(0, num_classes, (n_query,))\n",
        "    return x_support, y_support, x_query, y_query\n",
        "\n",
        "# --- Main Training Loop ---\n",
        "input_dim = 10\n",
        "meta_model = SimpleNN(input_size=input_dim)\n",
        "meta_optimizer = optim.Adam(meta_model.parameters(), lr=1e-3)\n",
        "loss_fn = nn.CrossEntropyLoss()\n",
        "inner_lr = 0.01\n",
        "\n",
        "# Meta-training\n",
        "for epoch in range(1, 101):\n",
        "    tasks = [generate_dummy_task() for _ in range(4)]  # 4 tasks per meta-batch\n",
        "    loss = meta_train_step(meta_model, tasks, loss_fn, meta_optimizer, inner_lr)\n",
        "\n",
        "    if epoch % 10 == 0 or epoch == 1:\n",
        "        print(f\"Epoch {epoch:03d} | Meta Loss: {loss:.4f}\")"
      ]
    }
  ]
}