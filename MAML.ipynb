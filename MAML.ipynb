{
  "nbformat": 4,
  "nbformat_minor": 0,
  "metadata": {
    "colab": {
      "private_outputs": true,
      "provenance": [],
      "authorship_tag": "ABX9TyOLkiOpd6bVx1HpjVBOfwPk",
      "include_colab_link": true
    },
    "kernelspec": {
      "name": "python3",
      "display_name": "Python 3"
    },
    "language_info": {
      "name": "python"
    }
  },
  "cells": [
    {
      "cell_type": "markdown",
      "metadata": {
        "id": "view-in-github",
        "colab_type": "text"
      },
      "source": [
        "<a href=\"https://colab.research.google.com/github/OneFineStarstuff/State-of-the-Art/blob/main/MAML.ipynb\" target=\"_parent\"><img src=\"https://colab.research.google.com/assets/colab-badge.svg\" alt=\"Open In Colab\"/></a>"
      ]
    },
    {
      "cell_type": "code",
      "execution_count": null,
      "metadata": {
        "id": "5nyshMG7Dptk"
      },
      "outputs": [],
      "source": [
        "import torch\n",
        "import torch.nn as nn\n",
        "import torch.optim as optim\n",
        "from torch.utils.data import DataLoader, TensorDataset\n",
        "\n",
        "# Device configuration\n",
        "device = torch.device(\"cuda\" if torch.cuda.is_available() else \"cpu\")\n",
        "\n",
        "# Simple neural network model\n",
        "class SimpleNet(nn.Module):\n",
        "    def __init__(self, input_size, output_size):\n",
        "        super(SimpleNet, self).__init__()\n",
        "        self.fc = nn.Linear(input_size, output_size)\n",
        "\n",
        "    def forward(self, x):\n",
        "        return self.fc(x)\n",
        "\n",
        "# Generate synthetic data for MAML\n",
        "def generate_data(num_samples, input_size):\n",
        "    x = torch.randn(num_samples, input_size)\n",
        "    y = (x.sum(dim=1) > 0).float().unsqueeze(1)  # Ensure y has the correct shape\n",
        "    return x, y\n",
        "\n",
        "# Define MAML algorithm\n",
        "class MAML:\n",
        "    def __init__(self, model, lr_inner, lr_meta):\n",
        "        self.model = model.to(device)\n",
        "        self.lr_inner = lr_inner\n",
        "        self.optimizer = optim.Adam(self.model.parameters(), lr=lr_meta)\n",
        "\n",
        "    def inner_update(self, x, y):\n",
        "        loss_fn = nn.BCEWithLogitsLoss()\n",
        "        logits = self.model(x)\n",
        "        loss = loss_fn(logits, y)\n",
        "        grads = torch.autograd.grad(loss, self.model.parameters(), create_graph=True)\n",
        "        updated_params = [p - self.lr_inner * g for p, g in zip(self.model.parameters(), grads)]\n",
        "        return updated_params\n",
        "\n",
        "    def forward(self, x, params):\n",
        "        logits = x\n",
        "        i = 0\n",
        "        for layer in self.model.modules():\n",
        "            if isinstance(layer, nn.Linear):\n",
        "                logits = torch.nn.functional.linear(logits, params[i], params[i+1])\n",
        "                i += 2\n",
        "        return logits\n",
        "\n",
        "    def train_step(self, x_train, y_train, x_val, y_val):\n",
        "        params = self.inner_update(x_train, y_train)\n",
        "        logits = self.forward(x_val, params)\n",
        "        loss_fn = nn.BCEWithLogitsLoss()\n",
        "        loss = loss_fn(logits, y_val)\n",
        "        self.optimizer.zero_grad()\n",
        "        loss.backward()\n",
        "        self.optimizer.step()\n",
        "        return loss.item()\n",
        "\n",
        "# Create data and model\n",
        "x_train, y_train = generate_data(100, 5)\n",
        "x_val, y_val = generate_data(100, 5)\n",
        "x_train, y_train = x_train.to(device), y_train.to(device)\n",
        "x_val, y_val = x_val.to(device), y_val.to(device)\n",
        "model = SimpleNet(input_size=5, output_size=1)\n",
        "\n",
        "# DataLoader for batch processing\n",
        "train_dataset = TensorDataset(x_train, y_train)\n",
        "val_dataset = TensorDataset(x_val, y_val)\n",
        "train_loader = DataLoader(train_dataset, batch_size=32, shuffle=True)\n",
        "val_loader = DataLoader(val_dataset, batch_size=32, shuffle=False)\n",
        "\n",
        "# Train MAML\n",
        "maml = MAML(model, lr_inner=0.01, lr_meta=0.001)\n",
        "for epoch in range(100):\n",
        "    for x_batch, y_batch in train_loader:\n",
        "        for x_val_batch, y_val_batch in val_loader:\n",
        "            loss = maml.train_step(x_batch, y_batch, x_val_batch, y_val_batch)\n",
        "    print(f\"Epoch {epoch+1}, Loss: {loss}\")"
      ]
    }
  ]
}