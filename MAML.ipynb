{
  "nbformat": 4,
  "nbformat_minor": 0,
  "metadata": {
    "colab": {
      "private_outputs": true,
      "provenance": [],
      "authorship_tag": "ABX9TyMhQapWgo9+LptWXQaO6lt1",
      "include_colab_link": true
    },
    "kernelspec": {
      "name": "python3",
      "display_name": "Python 3"
    },
    "language_info": {
      "name": "python"
    }
  },
  "cells": [
    {
      "cell_type": "markdown",
      "metadata": {
        "id": "view-in-github",
        "colab_type": "text"
      },
      "source": [
        "<a href=\"https://colab.research.google.com/github/OneFineStarstuff/State-of-the-Art/blob/main/MAML.ipynb\" target=\"_parent\"><img src=\"https://colab.research.google.com/assets/colab-badge.svg\" alt=\"Open In Colab\"/></a>"
      ]
    },
    {
      "cell_type": "code",
      "execution_count": null,
      "metadata": {
        "id": "tgyD_tSkqwAA"
      },
      "outputs": [],
      "source": [
        "import torch\n",
        "import torch.nn as nn\n",
        "import torch.optim as optim\n",
        "from torch.utils.data import DataLoader, TensorDataset\n",
        "\n",
        "# Define the base model for MAML\n",
        "class MAMLModel(nn.Module):\n",
        "    def __init__(self):\n",
        "        super(MAMLModel, self).__init__()\n",
        "        self.network = nn.Sequential(\n",
        "            nn.Linear(1, 64),\n",
        "            nn.ReLU(),\n",
        "            nn.Linear(64, 1)\n",
        "        )\n",
        "\n",
        "    def forward(self, x):\n",
        "        return self.network(x)\n",
        "\n",
        "# MAML training step\n",
        "def maml_train_step(model, data, alpha=0.01):\n",
        "    train_inputs, train_labels = data\n",
        "    task_loss = nn.MSELoss()\n",
        "\n",
        "    # Perform one step of gradient descent on the task-specific loss\n",
        "    predictions = model(train_inputs)\n",
        "    loss = task_loss(predictions, train_labels)\n",
        "    grads = torch.autograd.grad(loss, model.parameters(), create_graph=True)\n",
        "    fast_weights = [param - alpha * grad for param, grad in zip(model.parameters(), grads)]\n",
        "\n",
        "    return fast_weights\n",
        "\n",
        "# Meta-training loop for MAML\n",
        "def meta_train(model, meta_optimizer, train_loader, num_tasks=4, beta=0.001):\n",
        "    meta_loss = 0\n",
        "    for batch in train_loader:\n",
        "        inputs, labels = batch\n",
        "        task_losses = 0\n",
        "        task_data = (inputs.chunk(num_tasks), labels.chunk(num_tasks))\n",
        "        for task_inputs, task_labels in zip(*task_data):\n",
        "            fast_weights = maml_train_step(model, (task_inputs, task_labels))\n",
        "            task_loss = nn.MSELoss()\n",
        "            task_predictions = model(task_inputs)\n",
        "            loss = task_loss(task_predictions, task_labels)\n",
        "            task_losses += loss\n",
        "\n",
        "        meta_loss += task_losses / num_tasks\n",
        "\n",
        "    meta_optimizer.zero_grad()\n",
        "    meta_loss.backward()\n",
        "    meta_optimizer.step()\n",
        "\n",
        "# Simulate tasks\n",
        "def generate_task():\n",
        "    x = torch.linspace(-5, 5, 100).view(-1, 1)\n",
        "    y = 0.5 * x + torch.randn_like(x) * 0.5\n",
        "    return x, y\n",
        "\n",
        "# Prepare data loader for multiple tasks\n",
        "task_datasets = [generate_task() for _ in range(4)]\n",
        "input_batches = [task[0] for task in task_datasets]\n",
        "label_batches = [task[1] for task in task_datasets]\n",
        "task_dataset = TensorDataset(torch.cat(input_batches), torch.cat(label_batches))\n",
        "task_loader = DataLoader(task_dataset, batch_size=4, shuffle=True)\n",
        "\n",
        "# Initialize model and optimizer\n",
        "beta = 0.001  # Meta-learning rate\n",
        "maml_model = MAMLModel()\n",
        "meta_optimizer = optim.Adam(maml_model.parameters(), lr=beta)\n",
        "\n",
        "# Training loop\n",
        "for epoch in range(100):\n",
        "    meta_train(maml_model, meta_optimizer, task_loader)\n",
        "    print(f\"Epoch {epoch + 1} complete\")\n",
        "\n",
        "print(\"Meta-training complete.\")"
      ]
    }
  ]
}