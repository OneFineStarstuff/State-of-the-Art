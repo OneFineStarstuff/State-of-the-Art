{
  "nbformat": 4,
  "nbformat_minor": 0,
  "metadata": {
    "colab": {
      "private_outputs": true,
      "provenance": [],
      "authorship_tag": "ABX9TyNnkB17hhjyIyn2uhk1s5C2",
      "include_colab_link": true
    },
    "kernelspec": {
      "name": "python3",
      "display_name": "Python 3"
    },
    "language_info": {
      "name": "python"
    }
  },
  "cells": [
    {
      "cell_type": "markdown",
      "metadata": {
        "id": "view-in-github",
        "colab_type": "text"
      },
      "source": [
        "<a href=\"https://colab.research.google.com/github/OneFineStarstuff/State-of-the-Art/blob/main/Neural_ODEs.ipynb\" target=\"_parent\"><img src=\"https://colab.research.google.com/assets/colab-badge.svg\" alt=\"Open In Colab\"/></a>"
      ]
    },
    {
      "cell_type": "code",
      "source": [
        "pip install torchdiffeq"
      ],
      "metadata": {
        "id": "v2LfpXjBPpCU"
      },
      "execution_count": null,
      "outputs": []
    },
    {
      "cell_type": "code",
      "execution_count": null,
      "metadata": {
        "id": "6Rd88fGCPRJT"
      },
      "outputs": [],
      "source": [
        "import torch\n",
        "import torch.nn as nn\n",
        "from torchdiffeq import odeint\n",
        "\n",
        "# Define the ODE function as a neural network\n",
        "class ODEFunc(nn.Module):\n",
        "    def __init__(self):\n",
        "        super(ODEFunc, self).__init__()\n",
        "        self.linear = nn.Linear(2, 50)  # Linear layer with 50 units\n",
        "        self.relu = nn.ReLU()  # ReLU activation function\n",
        "        self.out = nn.Linear(50, 2)  # Output layer\n",
        "\n",
        "    def forward(self, t, y):\n",
        "        out = self.relu(self.linear(y))  # Apply linear layer and ReLU activation\n",
        "        return self.out(out)  # Output layer\n",
        "\n",
        "# Define the ODEBlock class\n",
        "class ODEBlock(nn.Module):\n",
        "    def __init__(self, odefunc):\n",
        "        super(ODEBlock, self).__init__()\n",
        "        self.odefunc = odefunc  # ODE function\n",
        "\n",
        "    def forward(self, x, t):\n",
        "        return odeint(self.odefunc, x, t)  # Solve the ODE\n",
        "\n",
        "# Example usage\n",
        "func = ODEFunc()\n",
        "odenet = ODEBlock(func)\n",
        "input_data = torch.randn(64, 2)  # Example input (batch_size=64, input_dim=2)\n",
        "time_points = torch.linspace(0, 1, 100)  # Time points (from 0 to 1 with 100 steps)\n",
        "output = odenet(input_data, time_points)\n",
        "\n",
        "# Print the shape of the output\n",
        "print(output.shape)  # Expected shape: [100, 64, 2] (time_points, batch_size, output_dim)"
      ]
    }
  ]
}