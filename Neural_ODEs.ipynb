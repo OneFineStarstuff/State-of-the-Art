{
  "nbformat": 4,
  "nbformat_minor": 0,
  "metadata": {
    "colab": {
      "private_outputs": true,
      "provenance": [],
      "authorship_tag": "ABX9TyMKM8w+Xc9mDYpguyCmeIqQ",
      "include_colab_link": true
    },
    "kernelspec": {
      "name": "python3",
      "display_name": "Python 3"
    },
    "language_info": {
      "name": "python"
    }
  },
  "cells": [
    {
      "cell_type": "markdown",
      "metadata": {
        "id": "view-in-github",
        "colab_type": "text"
      },
      "source": [
        "<a href=\"https://colab.research.google.com/github/OneFineStarstuff/State-of-the-Art/blob/main/Neural_ODEs.ipynb\" target=\"_parent\"><img src=\"https://colab.research.google.com/assets/colab-badge.svg\" alt=\"Open In Colab\"/></a>"
      ]
    },
    {
      "cell_type": "code",
      "source": [
        "pip install torchdiffeq"
      ],
      "metadata": {
        "id": "48tIq0axvdE9"
      },
      "execution_count": null,
      "outputs": []
    },
    {
      "cell_type": "code",
      "execution_count": null,
      "metadata": {
        "id": "qIk9o9yGvCkm"
      },
      "outputs": [],
      "source": [
        "import torch\n",
        "import torch.nn as nn\n",
        "from torchdiffeq import odeint\n",
        "\n",
        "class ODEFunc(nn.Module):\n",
        "    def __init__(self):\n",
        "        super(ODEFunc, self).__init__()\n",
        "        self.linear = nn.Linear(2, 50)\n",
        "        self.relu = nn.ReLU()\n",
        "        self.output = nn.Linear(50, 2)\n",
        "\n",
        "    def forward(self, t, x):\n",
        "        return self.output(self.relu(self.linear(x)))\n",
        "\n",
        "class ODEBlock(nn.Module):\n",
        "    def __init__(self, ode_func):\n",
        "        super(ODEBlock, self).__init__()\n",
        "        self.ode_func = ode_func\n",
        "\n",
        "    def forward(self, x, t=torch.linspace(0, 1, 100)):\n",
        "        return odeint(self.ode_func, x, t)\n",
        "\n",
        "# Example usage\n",
        "func = ODEFunc()\n",
        "model = ODEBlock(func)\n",
        "x = torch.randn(32, 2)\n",
        "output = model(x)\n",
        "print(\"Neural ODE output shape:\", output.shape)"
      ]
    }
  ]
}