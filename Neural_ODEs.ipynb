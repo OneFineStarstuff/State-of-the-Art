{
  "nbformat": 4,
  "nbformat_minor": 0,
  "metadata": {
    "colab": {
      "private_outputs": true,
      "provenance": [],
      "authorship_tag": "ABX9TyPXNvvv7nRvYLqUWYchPwTr",
      "include_colab_link": true
    },
    "kernelspec": {
      "name": "python3",
      "display_name": "Python 3"
    },
    "language_info": {
      "name": "python"
    }
  },
  "cells": [
    {
      "cell_type": "markdown",
      "metadata": {
        "id": "view-in-github",
        "colab_type": "text"
      },
      "source": [
        "<a href=\"https://colab.research.google.com/github/OneFineStarstuff/State-of-the-Art/blob/main/Neural_ODEs.ipynb\" target=\"_parent\"><img src=\"https://colab.research.google.com/assets/colab-badge.svg\" alt=\"Open In Colab\"/></a>"
      ]
    },
    {
      "cell_type": "code",
      "source": [
        "pip install torchdiffeq"
      ],
      "metadata": {
        "id": "oJagpvxJkgK-"
      },
      "execution_count": null,
      "outputs": []
    },
    {
      "cell_type": "code",
      "execution_count": null,
      "metadata": {
        "id": "ehOrn05KkMZ3"
      },
      "outputs": [],
      "source": [
        "import torch\n",
        "import torch.nn as nn\n",
        "from torchdiffeq import odeint\n",
        "\n",
        "# Define the ODE function as a neural network\n",
        "class ODEFunc(nn.Module):\n",
        "    def __init__(self):\n",
        "        super(ODEFunc, self).__init__()\n",
        "        self.fc = nn.Linear(2, 50)  # First fully connected layer\n",
        "        self.relu = nn.ReLU()  # ReLU activation function\n",
        "        self.fc2 = nn.Linear(50, 2)  # Second fully connected layer\n",
        "\n",
        "    def forward(self, t, y):\n",
        "        return self.fc2(self.relu(self.fc(y)))  # Define the dynamics of the ODE\n",
        "\n",
        "# Example usage\n",
        "func = ODEFunc()\n",
        "y0 = torch.tensor([[2.0, 0.0]])  # Initial state (batch_size=1, state_dim=2)\n",
        "t = torch.linspace(0, 25, 100)  # Time steps (100 time points from 0 to 25)\n",
        "y = odeint(func, y0, t)  # Solve the ODE\n",
        "\n",
        "# Print the shape of the solution\n",
        "print(y.shape)  # Expected shape: [100, 1, 2] (time_steps, batch_size, state_dim)"
      ]
    }
  ]
}