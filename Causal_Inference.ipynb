{
  "nbformat": 4,
  "nbformat_minor": 0,
  "metadata": {
    "colab": {
      "private_outputs": true,
      "provenance": [],
      "authorship_tag": "ABX9TyM/keFJdvh3rdM2tkFgfRDk",
      "include_colab_link": true
    },
    "kernelspec": {
      "name": "python3",
      "display_name": "Python 3"
    },
    "language_info": {
      "name": "python"
    }
  },
  "cells": [
    {
      "cell_type": "markdown",
      "metadata": {
        "id": "view-in-github",
        "colab_type": "text"
      },
      "source": [
        "<a href=\"https://colab.research.google.com/github/OneFineStarstuff/State-of-the-Art/blob/main/Causal_Inference.ipynb\" target=\"_parent\"><img src=\"https://colab.research.google.com/assets/colab-badge.svg\" alt=\"Open In Colab\"/></a>"
      ]
    },
    {
      "cell_type": "code",
      "source": [
        "pip install dowhy"
      ],
      "metadata": {
        "id": "oX4HAo4Aprpl"
      },
      "execution_count": null,
      "outputs": []
    },
    {
      "cell_type": "code",
      "execution_count": null,
      "metadata": {
        "id": "TFycrmyBpeJn"
      },
      "outputs": [],
      "source": [
        "import dowhy\n",
        "from dowhy import CausalModel\n",
        "import pandas as pd\n",
        "import numpy as np\n",
        "\n",
        "data = pd.DataFrame({\n",
        "    'treatment': np.random.randint(0, 2, 1000),\n",
        "    'outcome': np.random.randn(1000),\n",
        "    'confounder': np.random.randn(1000)\n",
        "})\n",
        "\n",
        "model = CausalModel(\n",
        "    data=data,\n",
        "    treatment='treatment',\n",
        "    outcome='outcome',\n",
        "    common_causes=['confounder']\n",
        ")\n",
        "\n",
        "identified_estimand = model.identify_effect()\n",
        "causal_estimate = model.estimate_effect(identified_estimand,\n",
        "                                        method_name=\"backdoor.propensity_score_matching\")\n",
        "print(causal_estimate)"
      ]
    }
  ]
}