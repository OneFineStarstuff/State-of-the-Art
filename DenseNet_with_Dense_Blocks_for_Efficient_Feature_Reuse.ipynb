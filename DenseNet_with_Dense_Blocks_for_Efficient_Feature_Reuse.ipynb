{
  "nbformat": 4,
  "nbformat_minor": 0,
  "metadata": {
    "colab": {
      "private_outputs": true,
      "provenance": [],
      "authorship_tag": "ABX9TyMELg2g+ZIXe3CZyoo9Y8m8",
      "include_colab_link": true
    },
    "kernelspec": {
      "name": "python3",
      "display_name": "Python 3"
    },
    "language_info": {
      "name": "python"
    }
  },
  "cells": [
    {
      "cell_type": "markdown",
      "metadata": {
        "id": "view-in-github",
        "colab_type": "text"
      },
      "source": [
        "<a href=\"https://colab.research.google.com/github/OneFineStarstuff/State-of-the-Art/blob/main/DenseNet_with_Dense_Blocks_for_Efficient_Feature_Reuse.ipynb\" target=\"_parent\"><img src=\"https://colab.research.google.com/assets/colab-badge.svg\" alt=\"Open In Colab\"/></a>"
      ]
    },
    {
      "cell_type": "code",
      "execution_count": null,
      "metadata": {
        "id": "oOyWFZZEKBEo"
      },
      "outputs": [],
      "source": [
        "import torch\n",
        "import torch.nn as nn\n",
        "import torch.optim as optim\n",
        "from torchvision import datasets, transforms\n",
        "\n",
        "class DenseBlock(nn.Module):\n",
        "    def __init__(self, num_layers, in_channels, growth_rate):\n",
        "        super(DenseBlock, self).__init__()\n",
        "        self.layers = nn.ModuleList([self._make_layer(in_channels + i * growth_rate, growth_rate) for i in range(num_layers)])\n",
        "\n",
        "    def _make_layer(self, in_channels, growth_rate):\n",
        "        layer = nn.Sequential(\n",
        "            nn.BatchNorm2d(in_channels),\n",
        "            nn.ReLU(inplace=True),\n",
        "            nn.Conv2d(in_channels, growth_rate, kernel_size=3, padding=1, bias=False)\n",
        "        )\n",
        "        return layer\n",
        "\n",
        "    def forward(self, x):\n",
        "        features = [x]\n",
        "        for layer in self.layers:\n",
        "            out = layer(torch.cat(features, dim=1))\n",
        "            features.append(out)\n",
        "        return torch.cat(features, dim=1)\n",
        "\n",
        "class TransitionLayer(nn.Module):\n",
        "    def __init__(self, in_channels, out_channels):\n",
        "        super(TransitionLayer, self).__init__()\n",
        "        self.transition = nn.Sequential(\n",
        "            nn.BatchNorm2d(in_channels),\n",
        "            nn.ReLU(inplace=True),\n",
        "            nn.Conv2d(in_channels, out_channels, kernel_size=1, bias=False),\n",
        "            nn.AvgPool2d(kernel_size=2, stride=2)\n",
        "        )\n",
        "\n",
        "    def forward(self, x):\n",
        "        return self.transition(x)\n",
        "\n",
        "class DenseNet(nn.Module):\n",
        "    def __init__(self, num_blocks, growth_rate, reduction, num_classes):\n",
        "        super(DenseNet, self).__init__()\n",
        "        self.growth_rate = growth_rate\n",
        "        num_channels = 2 * growth_rate\n",
        "        self.conv1 = nn.Conv2d(3, num_channels, kernel_size=3, padding=1, bias=False)\n",
        "\n",
        "        self.blocks = nn.ModuleList()\n",
        "        for i in range(len(num_blocks)):\n",
        "            block = DenseBlock(num_blocks[i], num_channels, growth_rate)\n",
        "            self.blocks.append(block)\n",
        "            num_channels += num_blocks[i] * growth_rate\n",
        "            if i != len(num_blocks) - 1:\n",
        "                transition = TransitionLayer(num_channels, int(num_channels * reduction))\n",
        "                self.blocks.append(transition)\n",
        "                num_channels = int(num_channels * reduction)\n",
        "\n",
        "        self.bn = nn.BatchNorm2d(num_channels)\n",
        "        self.fc = nn.Linear(num_channels, num_classes)\n",
        "\n",
        "    def forward(self, x):\n",
        "        out = self.conv1(x)\n",
        "        for block in self.blocks:\n",
        "            out = block(out)\n",
        "        out = torch.relu(self.bn(out))\n",
        "        out = torch.flatten(out, 1)\n",
        "        out = self.fc(out)\n",
        "        return out\n",
        "\n",
        "# Initialize the DenseNet model\n",
        "model = DenseNet(num_blocks=[6, 12, 24, 16], growth_rate=12, reduction=0.5, num_classes=10)"
      ]
    }
  ]
}