{
  "nbformat": 4,
  "nbformat_minor": 0,
  "metadata": {
    "colab": {
      "private_outputs": true,
      "provenance": [],
      "authorship_tag": "ABX9TyPj3ywhIw5wGHOa/ozzxVXG",
      "include_colab_link": true
    },
    "kernelspec": {
      "name": "python3",
      "display_name": "Python 3"
    },
    "language_info": {
      "name": "python"
    }
  },
  "cells": [
    {
      "cell_type": "markdown",
      "metadata": {
        "id": "view-in-github",
        "colab_type": "text"
      },
      "source": [
        "<a href=\"https://colab.research.google.com/github/OneFineStarstuff/State-of-the-Art/blob/main/Complete_Multi_Head_Attention_Code.ipynb\" target=\"_parent\"><img src=\"https://colab.research.google.com/assets/colab-badge.svg\" alt=\"Open In Colab\"/></a>"
      ]
    },
    {
      "cell_type": "code",
      "execution_count": null,
      "metadata": {
        "id": "YWcvPdmSI9k4"
      },
      "outputs": [],
      "source": [
        "import torch\n",
        "import torch.nn as nn\n",
        "import torch.nn.functional as F\n",
        "\n",
        "class MultiHeadAttention(nn.Module):\n",
        "    def __init__(self, embed_dim, num_heads):\n",
        "        super(MultiHeadAttention, self).__init__()\n",
        "        assert embed_dim % num_heads == 0, \"Embedding dimension must be divisible by the number of heads.\"\n",
        "\n",
        "        self.embed_dim = embed_dim\n",
        "        self.num_heads = num_heads\n",
        "        self.head_dim = embed_dim // num_heads\n",
        "\n",
        "        # Query, Key, Value projections\n",
        "        self.query = nn.Linear(embed_dim, embed_dim)\n",
        "        self.key = nn.Linear(embed_dim, embed_dim)\n",
        "        self.value = nn.Linear(embed_dim, embed_dim)\n",
        "\n",
        "        # Output projection\n",
        "        self.out = nn.Linear(embed_dim, embed_dim)\n",
        "\n",
        "    def forward(self, x, mask=None):\n",
        "        batch_size, seq_len, embed_dim = x.size()\n",
        "\n",
        "        # Transform inputs to queries, keys, values\n",
        "        q = self.query(x).view(batch_size, seq_len, self.num_heads, self.head_dim).transpose(1, 2)  # (B, heads, seq_len, head_dim)\n",
        "        k = self.key(x).view(batch_size, seq_len, self.num_heads, self.head_dim).transpose(1, 2)  # (B, heads, seq_len, head_dim)\n",
        "        v = self.value(x).view(batch_size, seq_len, self.num_heads, self.head_dim).transpose(1, 2)  # (B, heads, seq_len, head_dim)\n",
        "\n",
        "        # Scaled dot-product attention\n",
        "        scores = torch.matmul(q, k.transpose(-2, -1)) / torch.sqrt(torch.tensor(self.head_dim, dtype=torch.float32, device=x.device))  # (B, heads, seq_len, seq_len)\n",
        "        if mask is not None:\n",
        "            scores = scores.masked_fill(mask == 0, float('-inf'))\n",
        "        weights = F.softmax(scores, dim=-1)  # (B, heads, seq_len, seq_len)\n",
        "\n",
        "        # Attention output\n",
        "        attention_output = torch.matmul(weights, v)  # (B, heads, seq_len, head_dim)\n",
        "\n",
        "        # Concatenate heads and project\n",
        "        attention_output = attention_output.transpose(1, 2).contiguous().view(batch_size, seq_len, self.embed_dim)  # (B, seq_len, embed_dim)\n",
        "        output = self.out(attention_output)  # Final linear projection\n",
        "        return output, weights  # Returning weights for visualization if needed\n",
        "\n",
        "# Example usage\n",
        "if __name__ == \"__main__\":\n",
        "    batch_size = 32\n",
        "    seq_len = 10\n",
        "    embed_dim = 64\n",
        "    num_heads = 8\n",
        "\n",
        "    input_tensor = torch.rand(batch_size, seq_len, embed_dim)  # Example input tensor\n",
        "    mha = MultiHeadAttention(embed_dim=embed_dim, num_heads=num_heads)\n",
        "    output, attention_weights = mha(input_tensor)\n",
        "\n",
        "    print(\"Output shape:\", output.shape)  # Expected: (32, 10, 64)\n",
        "    print(\"Attention weights shape:\", attention_weights.shape)  # Expected: (32, 8, 10, 10)"
      ]
    }
  ]
}