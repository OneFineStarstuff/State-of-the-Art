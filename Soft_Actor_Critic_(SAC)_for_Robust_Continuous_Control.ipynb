{
  "nbformat": 4,
  "nbformat_minor": 0,
  "metadata": {
    "colab": {
      "private_outputs": true,
      "provenance": [],
      "authorship_tag": "ABX9TyPEW6XjrxO5lTVyeF5U/sKb",
      "include_colab_link": true
    },
    "kernelspec": {
      "name": "python3",
      "display_name": "Python 3"
    },
    "language_info": {
      "name": "python"
    }
  },
  "cells": [
    {
      "cell_type": "markdown",
      "metadata": {
        "id": "view-in-github",
        "colab_type": "text"
      },
      "source": [
        "<a href=\"https://colab.research.google.com/github/OneFineStarstuff/State-of-the-Art/blob/main/Soft_Actor_Critic_(SAC)_for_Robust_Continuous_Control.ipynb\" target=\"_parent\"><img src=\"https://colab.research.google.com/assets/colab-badge.svg\" alt=\"Open In Colab\"/></a>"
      ]
    },
    {
      "cell_type": "code",
      "source": [
        "pip install stable_baselines3"
      ],
      "metadata": {
        "id": "eGN8Ghu_UDru"
      },
      "execution_count": null,
      "outputs": []
    },
    {
      "cell_type": "code",
      "source": [
        "pip install \"gymnasium[mujoco]\""
      ],
      "metadata": {
        "id": "xWqS7uzvUUNg"
      },
      "execution_count": null,
      "outputs": []
    },
    {
      "cell_type": "code",
      "execution_count": null,
      "metadata": {
        "id": "ZzI2vt-4T39O"
      },
      "outputs": [],
      "source": [
        "pip install mujoco-py"
      ]
    },
    {
      "cell_type": "code",
      "source": [
        "from stable_baselines3 import SAC\n",
        "from stable_baselines3.common.vec_env import DummyVecEnv\n",
        "import gymnasium as gym\n",
        "\n",
        "# Create and wrap the environment using Gymnasium\n",
        "env = DummyVecEnv([lambda: gym.make('HalfCheetah-v4')])\n",
        "\n",
        "# Define the SAC model\n",
        "model = SAC('MlpPolicy', env, verbose=1)\n",
        "\n",
        "# Train the model\n",
        "model.learn(total_timesteps=100000)\n",
        "\n",
        "# Save the model\n",
        "model.save(\"sac_halfcheetah\")\n",
        "\n",
        "# Load the model and evaluate\n",
        "model = SAC.load(\"sac_halfcheetah\")\n",
        "obs = env.reset()\n",
        "for _ in range(1000):\n",
        "    action, _states = model.predict(obs, deterministic=True)\n",
        "    obs, reward, done, info = env.step(action)\n",
        "    if done:\n",
        "        obs = env.reset()\n",
        "    env.render()"
      ],
      "metadata": {
        "id": "xNC8sY2fUk4y"
      },
      "execution_count": null,
      "outputs": []
    }
  ]
}