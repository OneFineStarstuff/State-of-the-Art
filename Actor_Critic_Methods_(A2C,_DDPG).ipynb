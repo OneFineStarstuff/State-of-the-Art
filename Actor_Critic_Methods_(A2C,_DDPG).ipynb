{
  "nbformat": 4,
  "nbformat_minor": 0,
  "metadata": {
    "colab": {
      "private_outputs": true,
      "provenance": [],
      "authorship_tag": "ABX9TyPQu6gFxc21+a/ByguluvHe",
      "include_colab_link": true
    },
    "kernelspec": {
      "name": "python3",
      "display_name": "Python 3"
    },
    "language_info": {
      "name": "python"
    }
  },
  "cells": [
    {
      "cell_type": "markdown",
      "metadata": {
        "id": "view-in-github",
        "colab_type": "text"
      },
      "source": [
        "<a href=\"https://colab.research.google.com/github/OneFineStarstuff/State-of-the-Art/blob/main/Actor_Critic_Methods_(A2C%2C_DDPG).ipynb\" target=\"_parent\"><img src=\"https://colab.research.google.com/assets/colab-badge.svg\" alt=\"Open In Colab\"/></a>"
      ]
    },
    {
      "cell_type": "code",
      "source": [
        "pip install gym stable_baselines3"
      ],
      "metadata": {
        "id": "b9SooMeZWSSF"
      },
      "execution_count": null,
      "outputs": []
    },
    {
      "cell_type": "code",
      "source": [
        "pip install 'shimmy>=2.0'"
      ],
      "metadata": {
        "id": "8oG0AkE4WfpC"
      },
      "execution_count": null,
      "outputs": []
    },
    {
      "cell_type": "code",
      "execution_count": null,
      "metadata": {
        "id": "lZQqHBRcVwP4"
      },
      "outputs": [],
      "source": [
        "pip install gymnasium"
      ]
    },
    {
      "cell_type": "code",
      "source": [
        "import gymnasium as gym\n",
        "from stable_baselines3 import A2C\n",
        "from stable_baselines3.common.vec_env import DummyVecEnv\n",
        "\n",
        "# Create the environment using Gymnasium\n",
        "env = gym.make('CartPole-v1')\n",
        "\n",
        "# Wrap the environment with DummyVecEnv for compatibility\n",
        "env = DummyVecEnv([lambda: env])\n",
        "\n",
        "# Initialize the A2C model\n",
        "model = A2C('MlpPolicy', env, verbose=1)\n",
        "\n",
        "# Train the model\n",
        "model.learn(total_timesteps=10000)\n",
        "\n",
        "# Evaluate the trained model\n",
        "obs = env.reset()\n",
        "for _ in range(1000):\n",
        "    action, _states = model.predict(obs)\n",
        "    step_output = env.step(action)\n",
        "    # Adjust the step method to handle different API versions\n",
        "    if len(step_output) == 4:\n",
        "        obs, rewards, dones, infos = step_output\n",
        "    else:\n",
        "        obs, rewards, dones, truncated, infos = step_output\n",
        "        dones = [done or trunc for done, trunc in zip(dones, truncated)]\n",
        "    env.render()\n",
        "    # Handle the done flag appropriately\n",
        "    if dones[0]:\n",
        "        obs = env.reset()\n",
        "env.close()"
      ],
      "metadata": {
        "id": "lWLJ83-dWxj5"
      },
      "execution_count": null,
      "outputs": []
    }
  ]
}