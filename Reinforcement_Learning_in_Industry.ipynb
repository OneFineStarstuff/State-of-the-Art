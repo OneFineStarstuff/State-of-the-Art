{
  "nbformat": 4,
  "nbformat_minor": 0,
  "metadata": {
    "colab": {
      "private_outputs": true,
      "provenance": [],
      "authorship_tag": "ABX9TyPyg1QUTtuXZY1GUW1DKMxm",
      "include_colab_link": true
    },
    "kernelspec": {
      "name": "python3",
      "display_name": "Python 3"
    },
    "language_info": {
      "name": "python"
    }
  },
  "cells": [
    {
      "cell_type": "markdown",
      "metadata": {
        "id": "view-in-github",
        "colab_type": "text"
      },
      "source": [
        "<a href=\"https://colab.research.google.com/github/OneFineStarstuff/State-of-the-Art/blob/main/Reinforcement_Learning_in_Industry.ipynb\" target=\"_parent\"><img src=\"https://colab.research.google.com/assets/colab-badge.svg\" alt=\"Open In Colab\"/></a>"
      ]
    },
    {
      "cell_type": "code",
      "source": [
        "pip install ray gymnasium"
      ],
      "metadata": {
        "id": "TSB-fMC_c8F-"
      },
      "execution_count": null,
      "outputs": []
    },
    {
      "cell_type": "code",
      "execution_count": null,
      "metadata": {
        "id": "_B-0aI3Acx-v"
      },
      "outputs": [],
      "source": [
        "pip install lz4 ray[rllib]"
      ]
    },
    {
      "cell_type": "code",
      "source": [
        "pip install ray[rllib] gymnasium[all]"
      ],
      "metadata": {
        "id": "5xVvzNbod-03"
      },
      "execution_count": null,
      "outputs": []
    },
    {
      "cell_type": "code",
      "source": [
        "!pip show ray\n",
        "!pip show ray[rllib]"
      ],
      "metadata": {
        "id": "Gc8Qk6dgeG2V"
      },
      "execution_count": null,
      "outputs": []
    },
    {
      "cell_type": "code",
      "source": [
        "pip install --upgrade pip"
      ],
      "metadata": {
        "id": "olsP-9SIej13"
      },
      "execution_count": null,
      "outputs": []
    },
    {
      "cell_type": "code",
      "source": [
        "pip list"
      ],
      "metadata": {
        "id": "VNivGSAkey4g"
      },
      "execution_count": null,
      "outputs": []
    },
    {
      "cell_type": "code",
      "source": [
        "import ray\n",
        "from ray.rllib.agents import ppo\n",
        "\n",
        "# Initialize Ray\n",
        "ray.init()\n",
        "\n",
        "# Create a PPO trainer\n",
        "trainer = ppo.PPOTrainer(env=\"CartPole-v1\")\n",
        "\n",
        "# Train the agent for 10 iterations\n",
        "for i in range(10):\n",
        "    result = trainer.train()\n",
        "    print(f\"Iteration {i+1}: reward = {result['episode_reward_mean']}\")\n",
        "\n",
        "# Save the trained model\n",
        "trainer.save(\"ppo_cartpole\")\n",
        "\n",
        "# Load the trained model (optional)\n",
        "trainer = ppo.PPOTrainer(env=\"CartPole-v1\")\n",
        "trainer.restore(\"ppo_cartpole\")\n",
        "\n",
        "# Evaluate the trained agent\n",
        "env = trainer.env_creator({\"env\": \"CartPole-v1\"})\n",
        "state = env.reset()\n",
        "done = False\n",
        "while not done:\n",
        "    action = trainer.compute_action(state)\n",
        "    state, reward, done, _ = env.step(action)\n",
        "    env.render()\n",
        "\n",
        "# Shut down Ray\n",
        "ray.shutdown()"
      ],
      "metadata": {
        "id": "lUj5HWPrdOWn"
      },
      "execution_count": null,
      "outputs": []
    }
  ]
}