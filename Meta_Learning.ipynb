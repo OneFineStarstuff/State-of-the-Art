{
  "nbformat": 4,
  "nbformat_minor": 0,
  "metadata": {
    "colab": {
      "private_outputs": true,
      "provenance": [],
      "authorship_tag": "ABX9TyMR9LOE8/kX8LGngd0L5JQJ",
      "include_colab_link": true
    },
    "kernelspec": {
      "name": "python3",
      "display_name": "Python 3"
    },
    "language_info": {
      "name": "python"
    }
  },
  "cells": [
    {
      "cell_type": "markdown",
      "metadata": {
        "id": "view-in-github",
        "colab_type": "text"
      },
      "source": [
        "<a href=\"https://colab.research.google.com/github/OneFineStarstuff/State-of-the-Art/blob/main/Meta_Learning.ipynb\" target=\"_parent\"><img src=\"https://colab.research.google.com/assets/colab-badge.svg\" alt=\"Open In Colab\"/></a>"
      ]
    },
    {
      "cell_type": "code",
      "execution_count": null,
      "metadata": {
        "id": "Df_Wn3zNdTfo"
      },
      "outputs": [],
      "source": [
        "import torch\n",
        "import torch.nn as nn\n",
        "import torch.optim as optim\n",
        "\n",
        "class SimpleNet(nn.Module):\n",
        "    def __init__(self, input_size, output_size):\n",
        "        super(SimpleNet, self).__init__()\n",
        "        self.fc = nn.Linear(input_size, output_size)\n",
        "\n",
        "    def forward(self, x):\n",
        "        return self.fc(x)\n",
        "\n",
        "def inner_loop(model, optimizer, data, target, inner_lr=0.01):\n",
        "    model.train()\n",
        "    optimizer.zero_grad()\n",
        "    output = model(data)\n",
        "    loss = ((output - target) ** 2).mean()\n",
        "    loss.backward()\n",
        "    optimizer.step()\n",
        "    return loss.item()\n",
        "\n",
        "def maml_train(model, optimizer, data, target, meta_lr=0.001, inner_steps=5):\n",
        "    meta_optimizer = optim.Adam(model.parameters(), lr=meta_lr)\n",
        "    model.train()\n",
        "    for _ in range(inner_steps):\n",
        "        loss = inner_loop(model, optimizer, data, target)\n",
        "        meta_optimizer.zero_grad()\n",
        "        meta_optimizer.step()\n",
        "    return loss\n",
        "\n",
        "model = SimpleNet(input_size=2, output_size=1)\n",
        "optimizer = optim.SGD(model.parameters(), lr=0.01)\n",
        "data = torch.tensor([[1, 2], [3, 4]], dtype=torch.float32)\n",
        "target = torch.tensor([[1], [0]], dtype=torch.float32)\n",
        "\n",
        "for epoch in range(10):\n",
        "    loss = maml_train(model, optimizer, data, target)\n",
        "    print(f'Epoch {epoch + 1}, Loss: {loss}')"
      ]
    }
  ]
}