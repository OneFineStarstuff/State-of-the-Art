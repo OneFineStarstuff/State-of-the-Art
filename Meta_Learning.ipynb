{
  "nbformat": 4,
  "nbformat_minor": 0,
  "metadata": {
    "colab": {
      "private_outputs": true,
      "provenance": [],
      "authorship_tag": "ABX9TyOyiLktIQ3MCzMqU2/XaI80",
      "include_colab_link": true
    },
    "kernelspec": {
      "name": "python3",
      "display_name": "Python 3"
    },
    "language_info": {
      "name": "python"
    }
  },
  "cells": [
    {
      "cell_type": "markdown",
      "metadata": {
        "id": "view-in-github",
        "colab_type": "text"
      },
      "source": [
        "<a href=\"https://colab.research.google.com/github/OneFineStarstuff/State-of-the-Art/blob/main/Meta_Learning.ipynb\" target=\"_parent\"><img src=\"https://colab.research.google.com/assets/colab-badge.svg\" alt=\"Open In Colab\"/></a>"
      ]
    },
    {
      "cell_type": "code",
      "execution_count": null,
      "metadata": {
        "id": "X3-FMQxBx-g0"
      },
      "outputs": [],
      "source": [
        "import torch\n",
        "import torch.nn as nn\n",
        "import torch.nn.functional as F\n",
        "import torch.optim as optim\n",
        "\n",
        "class MAMLModel(nn.Module):\n",
        "    def __init__(self, input_dim, hidden_dim):\n",
        "        super(MAMLModel, self).__init__()\n",
        "        self.fc1 = nn.Linear(input_dim, hidden_dim)\n",
        "        self.fc2 = nn.Linear(hidden_dim, 1)\n",
        "\n",
        "    def forward(self, x):\n",
        "        x = F.relu(self.fc1(x))\n",
        "        return self.fc2(x)\n",
        "\n",
        "def maml_step(model, data, labels, inner_lr, meta_optimizer):\n",
        "    # Inner loop\n",
        "    temp_model = MAMLModel(model.fc1.in_features, model.fc1.out_features)\n",
        "    temp_model.load_state_dict(model.state_dict())\n",
        "    optimizer = torch.optim.SGD(temp_model.parameters(), lr=inner_lr)\n",
        "    optimizer.zero_grad()\n",
        "    loss = F.mse_loss(temp_model(data), labels)\n",
        "    loss.backward()\n",
        "    optimizer.step()\n",
        "\n",
        "    # Outer loop\n",
        "    meta_optimizer.zero_grad()\n",
        "    for param, temp_param in zip(model.parameters(), temp_model.parameters()):\n",
        "        if param.grad is None:\n",
        "            param.grad = temp_param.grad.clone()\n",
        "        else:\n",
        "            param.grad += temp_param.grad\n",
        "    meta_optimizer.step()\n",
        "\n",
        "# Example usage\n",
        "model = MAMLModel(10, 40)\n",
        "meta_optimizer = torch.optim.Adam(model.parameters(), lr=0.001)\n",
        "data = torch.randn(32, 10)\n",
        "labels = torch.randn(32, 1)\n",
        "\n",
        "for _ in range(5):\n",
        "    maml_step(model, data, labels, inner_lr=0.01, meta_optimizer=meta_optimizer)"
      ]
    }
  ]
}