{
  "nbformat": 4,
  "nbformat_minor": 0,
  "metadata": {
    "colab": {
      "private_outputs": true,
      "provenance": [],
      "authorship_tag": "ABX9TyPy90jyQRB5+SChY8/hTKS3",
      "include_colab_link": true
    },
    "kernelspec": {
      "name": "python3",
      "display_name": "Python 3"
    },
    "language_info": {
      "name": "python"
    }
  },
  "cells": [
    {
      "cell_type": "markdown",
      "metadata": {
        "id": "view-in-github",
        "colab_type": "text"
      },
      "source": [
        "<a href=\"https://colab.research.google.com/github/OneFineStarstuff/State-of-the-Art/blob/main/Meta_Learning.ipynb\" target=\"_parent\"><img src=\"https://colab.research.google.com/assets/colab-badge.svg\" alt=\"Open In Colab\"/></a>"
      ]
    },
    {
      "cell_type": "code",
      "execution_count": null,
      "metadata": {
        "id": "DX3PIPFmR_eC"
      },
      "outputs": [],
      "source": [
        "import torch\n",
        "from torch import nn, optim\n",
        "import numpy as np  # Import numpy for task generation\n",
        "\n",
        "# Define a simple model\n",
        "class SimpleModel(nn.Module):\n",
        "    def __init__(self):\n",
        "        super(SimpleModel, self).__init__()\n",
        "        self.fc = nn.Linear(1, 1)\n",
        "\n",
        "    def forward(self, x):\n",
        "        return self.fc(x)\n",
        "\n",
        "# Define a task (e.g., learning a sine wave)\n",
        "def task():\n",
        "    a = np.random.uniform(0.1, 5.0)  # Amplitude\n",
        "    phase = np.random.uniform(0, np.pi)  # Phase shift\n",
        "    inputs = np.random.uniform(-5, 5, (10, 1))  # Input samples\n",
        "    outputs = a * np.sin(inputs + phase)  # Sine wave outputs\n",
        "    return torch.tensor(inputs, dtype=torch.float32), torch.tensor(outputs, dtype=torch.float32)\n",
        "\n",
        "# MAML training loop\n",
        "meta_model = SimpleModel()  # Meta-model\n",
        "meta_optimizer = optim.Adam(meta_model.parameters(), lr=0.001)  # Meta-optimizer\n",
        "\n",
        "for epoch in range(1000):\n",
        "    meta_optimizer.zero_grad()\n",
        "    meta_loss = 0.0\n",
        "\n",
        "    for _ in range(10):  # 10 tasks per meta-update\n",
        "        # Create task-specific model and optimizer\n",
        "        task_model = SimpleModel()\n",
        "        task_model.load_state_dict(meta_model.state_dict())  # Copy meta-model parameters\n",
        "        task_optimizer = optim.SGD(task_model.parameters(), lr=0.01)\n",
        "\n",
        "        # Generate task data\n",
        "        inputs, outputs = task()\n",
        "\n",
        "        # Inner loop: task-specific adaptation\n",
        "        for _ in range(5):  # 5 gradient steps per task\n",
        "            predictions = task_model(inputs)\n",
        "            loss = nn.MSELoss()(predictions, outputs)\n",
        "            task_optimizer.zero_grad()\n",
        "            loss.backward()\n",
        "            task_optimizer.step()\n",
        "\n",
        "        # Compute meta-loss with the task-adapted model\n",
        "        predictions = task_model(inputs)\n",
        "        task_loss = nn.MSELoss()(predictions, outputs)\n",
        "        meta_loss += task_loss\n",
        "\n",
        "    # Average the meta-loss and update the meta-model\n",
        "    meta_loss /= 10  # Average loss across tasks\n",
        "    meta_loss.backward()\n",
        "    meta_optimizer.step()\n",
        "\n",
        "    # Print progress\n",
        "    print(f\"Epoch {epoch + 1}, Meta-Loss: {meta_loss.item():.4f}\")"
      ]
    }
  ]
}