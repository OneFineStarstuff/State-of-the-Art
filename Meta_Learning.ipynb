{
  "nbformat": 4,
  "nbformat_minor": 0,
  "metadata": {
    "colab": {
      "private_outputs": true,
      "provenance": [],
      "authorship_tag": "ABX9TyNlJuH2YoxtIDZQra7+bV4W",
      "include_colab_link": true
    },
    "kernelspec": {
      "name": "python3",
      "display_name": "Python 3"
    },
    "language_info": {
      "name": "python"
    }
  },
  "cells": [
    {
      "cell_type": "markdown",
      "metadata": {
        "id": "view-in-github",
        "colab_type": "text"
      },
      "source": [
        "<a href=\"https://colab.research.google.com/github/OneFineStarstuff/State-of-the-Art/blob/main/Meta_Learning.ipynb\" target=\"_parent\"><img src=\"https://colab.research.google.com/assets/colab-badge.svg\" alt=\"Open In Colab\"/></a>"
      ]
    },
    {
      "cell_type": "code",
      "execution_count": null,
      "metadata": {
        "id": "H7ONtAHUFIRo"
      },
      "outputs": [],
      "source": [
        "import torch\n",
        "import torch.nn as nn\n",
        "import torch.optim as optim\n",
        "\n",
        "# Define the model for MAML\n",
        "class MAMLModel(nn.Module):\n",
        "    def __init__(self):\n",
        "        super(MAMLModel, self).__init__()\n",
        "        self.fc = nn.Sequential(\n",
        "            nn.Linear(10, 40),\n",
        "            nn.ReLU(),\n",
        "            nn.Linear(40, 1)\n",
        "        )\n",
        "\n",
        "    def forward(self, x):\n",
        "        return self.fc(x)\n",
        "\n",
        "# Function to simulate task-specific data\n",
        "def generate_tasks(num_tasks, num_samples):\n",
        "    tasks = []\n",
        "    for _ in range(num_tasks):\n",
        "        x_train = torch.randn(num_samples, 10)\n",
        "        y_train = x_train.sum(dim=1, keepdim=True) + torch.randn(num_samples, 1) * 0.1  # Add noise\n",
        "        x_val = torch.randn(num_samples, 10)\n",
        "        y_val = x_val.sum(dim=1, keepdim=True) + torch.randn(num_samples, 1) * 0.1\n",
        "        tasks.append((x_train, y_train, x_val, y_val))\n",
        "    return tasks\n",
        "\n",
        "# Meta-training step\n",
        "def meta_train_step(model, optimizer, tasks, alpha=0.01, beta=0.001):\n",
        "    meta_loss = 0.0\n",
        "    for task_data in tasks:\n",
        "        x_train, y_train, x_val, y_val = task_data\n",
        "\n",
        "        # Create a copy of the model for task-specific adaptation\n",
        "        model_copy = MAMLModel()\n",
        "        model_copy.load_state_dict(model.state_dict())  # Clone global model\n",
        "\n",
        "        # Inner loop: Task-specific learning\n",
        "        inner_optimizer = optim.SGD(model_copy.parameters(), lr=alpha)\n",
        "        for _ in range(5):  # Perform 5 inner-loop steps\n",
        "            inner_optimizer.zero_grad()\n",
        "            outputs = model_copy(x_train)\n",
        "            loss = nn.MSELoss()(outputs, y_train)\n",
        "            loss.backward()\n",
        "            inner_optimizer.step()\n",
        "\n",
        "        # Outer loop: Update global model\n",
        "        optimizer.zero_grad()\n",
        "        val_outputs = model_copy(x_val)\n",
        "        val_loss = nn.MSELoss()(val_outputs, y_val)\n",
        "        val_loss.backward()\n",
        "        optimizer.step()\n",
        "\n",
        "        meta_loss += val_loss.item()\n",
        "\n",
        "    return meta_loss / len(tasks)\n",
        "\n",
        "# Hyperparameters and setup\n",
        "num_tasks = 10\n",
        "num_samples_per_task = 20\n",
        "tasks = generate_tasks(num_tasks, num_samples_per_task)\n",
        "model = MAMLModel()\n",
        "optimizer = optim.Adam(model.parameters(), lr=0.001)\n",
        "\n",
        "# Meta-training loop\n",
        "num_meta_epochs = 50\n",
        "for epoch in range(num_meta_epochs):\n",
        "    meta_loss = meta_train_step(model, optimizer, tasks)\n",
        "    print(f\"Epoch {epoch + 1}/{num_meta_epochs}, Meta Loss: {meta_loss:.4f}\")"
      ]
    }
  ]
}