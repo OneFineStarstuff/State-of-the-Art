{
  "nbformat": 4,
  "nbformat_minor": 0,
  "metadata": {
    "colab": {
      "private_outputs": true,
      "provenance": [],
      "authorship_tag": "ABX9TyMU0BErB/sVwVJOnGLzRNc2",
      "include_colab_link": true
    },
    "kernelspec": {
      "name": "python3",
      "display_name": "Python 3"
    },
    "language_info": {
      "name": "python"
    }
  },
  "cells": [
    {
      "cell_type": "markdown",
      "metadata": {
        "id": "view-in-github",
        "colab_type": "text"
      },
      "source": [
        "<a href=\"https://colab.research.google.com/github/OneFineStarstuff/State-of-the-Art/blob/main/GluonTS.ipynb\" target=\"_parent\"><img src=\"https://colab.research.google.com/assets/colab-badge.svg\" alt=\"Open In Colab\"/></a>"
      ]
    },
    {
      "cell_type": "code",
      "source": [
        "pip install mxnet gluonts"
      ],
      "metadata": {
        "id": "IKjZw3Fu45BU"
      },
      "execution_count": null,
      "outputs": []
    },
    {
      "cell_type": "code",
      "source": [
        "from gluonts.model.deepar import DeepAREstimator\n",
        "from gluonts.mx import Trainer\n",
        "from gluonts.dataset.common import ListDataset\n",
        "import pandas as pd\n",
        "import matplotlib.pyplot as plt\n",
        "from gluonts.evaluation import Evaluator\n",
        "from gluonts.evaluation.backtest import make_evaluation_predictions\n",
        "\n",
        "# Load the dataset\n",
        "df = pd.read_csv('https://raw.githubusercontent.com/jbrownlee/Datasets/master/airline-passengers.csv')\n",
        "df.columns = ['Month', 'Passengers']\n",
        "\n",
        "# Prepare the training data\n",
        "training_data = ListDataset([{\"start\": df['Month'][0], \"target\": df['Passengers'].values}], freq=\"M\")\n",
        "\n",
        "# Initialize the estimator\n",
        "estimator = DeepAREstimator(freq=\"M\", prediction_length=12, trainer=Trainer(epochs=5))\n",
        "\n",
        "# Train the model\n",
        "predictor = estimator.train(training_data)\n",
        "\n",
        "# Create a dataset for prediction\n",
        "test_data = ListDataset([{\"start\": df['Month'][0], \"target\": df['Passengers'].values}], freq=\"M\")\n",
        "\n",
        "# Make predictions\n",
        "forecast_it, ts_it = make_evaluation_predictions(test_data, predictor=predictor, num_samples=100)\n",
        "\n",
        "# Convert the forecast iterator to a list of forecasts\n",
        "forecasts = list(forecast_it)\n",
        "tss = list(ts_it)\n",
        "\n",
        "# Plot the predictions\n",
        "def plot_forecast(tss, forecasts):\n",
        "    for target, forecast in zip(tss, forecasts):\n",
        "        target.plot(color=\"b\")\n",
        "        forecast.plot(color=\"g\", prediction_intervals=(50.0, 90.0))\n",
        "    plt.show()\n",
        "\n",
        "plot_forecast(tss, forecasts)"
      ],
      "metadata": {
        "id": "eRrE59tP37Jd"
      },
      "execution_count": null,
      "outputs": []
    }
  ]
}