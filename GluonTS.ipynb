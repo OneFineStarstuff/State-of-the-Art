{
  "nbformat": 4,
  "nbformat_minor": 0,
  "metadata": {
    "colab": {
      "private_outputs": true,
      "provenance": [],
      "authorship_tag": "ABX9TyM1yjAkUXWq4a1dh1psB4Ev",
      "include_colab_link": true
    },
    "kernelspec": {
      "name": "python3",
      "display_name": "Python 3"
    },
    "language_info": {
      "name": "python"
    }
  },
  "cells": [
    {
      "cell_type": "markdown",
      "metadata": {
        "id": "view-in-github",
        "colab_type": "text"
      },
      "source": [
        "<a href=\"https://colab.research.google.com/github/OneFineStarstuff/State-of-the-Art/blob/main/GluonTS.ipynb\" target=\"_parent\"><img src=\"https://colab.research.google.com/assets/colab-badge.svg\" alt=\"Open In Colab\"/></a>"
      ]
    },
    {
      "cell_type": "code",
      "source": [
        "pip install gluonts"
      ],
      "metadata": {
        "id": "yBt9JoTalGmM"
      },
      "execution_count": null,
      "outputs": []
    },
    {
      "cell_type": "code",
      "execution_count": null,
      "metadata": {
        "id": "FckKhZsUkwqL"
      },
      "outputs": [],
      "source": [
        "import pandas as pd\n",
        "import numpy as np\n",
        "from gluonts.dataset.common import ListDataset\n",
        "from gluonts.model.deepar import DeepAREstimator\n",
        "from gluonts.trainer import Trainer\n",
        "\n",
        "# Create a synthetic dataset\n",
        "dates = pd.date_range(start='2020-01-01', periods=200, freq='D')\n",
        "data = np.sin(np.linspace(0, 50, 200)) + np.random.normal(scale=0.1, size=200)\n",
        "df = pd.DataFrame({'date': dates, 'value': data})\n",
        "\n",
        "# Prepare the dataset for GluonTS\n",
        "training_data = ListDataset(\n",
        "    [{\"start\": df['date'][0], \"target\": df['value']}],\n",
        "    freq=\"D\"\n",
        ")\n",
        "\n",
        "# Initialize the estimator\n",
        "estimator = DeepAREstimator(freq=\"D\", prediction_length=30, trainer=Trainer(epochs=10))\n",
        "\n",
        "# Train the model\n",
        "predictor = estimator.train(training_data)\n",
        "\n",
        "# Prepare future dates for prediction\n",
        "future_dates = pd.date_range(start=dates[-1] + pd.Timedelta(days=1), periods=30, freq='D')\n",
        "future_data = ListDataset(\n",
        "    [{\"start\": df['date'][0], \"target\": np.append(data, np.zeros(30))}],\n",
        "    freq=\"D\"\n",
        ")\n",
        "\n",
        "# Generate forecasts\n",
        "forecast_it, ts_it = predictor.predict(future_data)\n",
        "forecasts = list(forecast_it)\n",
        "ts = list(ts_it)\n",
        "\n",
        "# Plot the forecasts\n",
        "import matplotlib.pyplot as plt\n",
        "\n",
        "plt.figure(figsize=(10, 6))\n",
        "plt.plot(dates, data, label=\"Observed\")\n",
        "plt.plot(future_dates, forecasts[0].mean, label=\"Forecast\")\n",
        "plt.fill_between(future_dates, forecasts[0].mean - forecasts[0].stddev, forecasts[0].mean + forecasts[0].stddev, alpha=0.5)\n",
        "plt.legend()\n",
        "plt.show()"
      ]
    }
  ]
}