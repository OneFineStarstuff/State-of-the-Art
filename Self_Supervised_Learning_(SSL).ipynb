{
  "nbformat": 4,
  "nbformat_minor": 0,
  "metadata": {
    "colab": {
      "private_outputs": true,
      "provenance": [],
      "authorship_tag": "ABX9TyOtZAImwksL7PonJSfcLlCs",
      "include_colab_link": true
    },
    "kernelspec": {
      "name": "python3",
      "display_name": "Python 3"
    },
    "language_info": {
      "name": "python"
    }
  },
  "cells": [
    {
      "cell_type": "markdown",
      "metadata": {
        "id": "view-in-github",
        "colab_type": "text"
      },
      "source": [
        "<a href=\"https://colab.research.google.com/github/OneFineStarstuff/State-of-the-Art/blob/main/Self_Supervised_Learning_(SSL).ipynb\" target=\"_parent\"><img src=\"https://colab.research.google.com/assets/colab-badge.svg\" alt=\"Open In Colab\"/></a>"
      ]
    },
    {
      "cell_type": "code",
      "execution_count": null,
      "metadata": {
        "id": "TTajBl0WvKEb"
      },
      "outputs": [],
      "source": [
        "import torch\n",
        "import torch.nn as nn\n",
        "import torch.optim as optim\n",
        "import torch.nn.functional as F\n",
        "\n",
        "class ContrastiveModel(nn.Module):\n",
        "    def __init__(self, input_dim, hidden_dim):\n",
        "        super(ContrastiveModel, self).__init__()\n",
        "        self.encoder = nn.Sequential(\n",
        "            nn.Linear(input_dim, hidden_dim),\n",
        "            nn.ReLU(),\n",
        "            nn.Linear(hidden_dim, hidden_dim)\n",
        "        )\n",
        "        self.projection_head = nn.Sequential(\n",
        "            nn.Linear(hidden_dim, hidden_dim),\n",
        "            nn.ReLU(),\n",
        "            nn.Linear(hidden_dim, hidden_dim)\n",
        "        )\n",
        "\n",
        "    def forward(self, x1, x2):\n",
        "        z1 = self.encoder(x1)\n",
        "        z2 = self.encoder(x2)\n",
        "        p1 = self.projection_head(z1)\n",
        "        p2 = self.projection_head(z2)\n",
        "        return z1, z2, p1, p2\n",
        "\n",
        "def contrastive_loss(p1, p2, z1, z2):\n",
        "    z1 = z1.detach()\n",
        "    z2 = z2.detach()\n",
        "    p1 = F.normalize(p1, dim=1)\n",
        "    p2 = F.normalize(p2, dim=1)\n",
        "    z1 = F.normalize(z1, dim=1)\n",
        "    z2 = F.normalize(z2, dim=1)\n",
        "    loss = (2 - F.cosine_similarity(p1, z2, dim=1).sum() - F.cosine_similarity(p2, z1, dim=1).sum()).mean()\n",
        "    return loss\n",
        "\n",
        "input_dim = 128\n",
        "hidden_dim = 256\n",
        "model = ContrastiveModel(input_dim, hidden_dim)  # Remove .to('cuda')\n",
        "optimizer = optim.Adam(model.parameters(), lr=1e-3)\n",
        "\n",
        "# Dummy data for training\n",
        "x1 = torch.rand(64, input_dim)  # Remove .to('cuda')\n",
        "x2 = torch.rand(64, input_dim)  # Remove .to('cuda')\n",
        "\n",
        "for epoch in range(100):\n",
        "    optimizer.zero_grad()\n",
        "    z1, z2, p1, p2 = model(x1, x2)\n",
        "    loss = contrastive_loss(p1, p2, z1, z2)\n",
        "    loss.backward()\n",
        "    optimizer.step()\n",
        "    print(f\"Epoch {epoch+1}, Loss: {loss.item()}\")"
      ]
    }
  ]
}