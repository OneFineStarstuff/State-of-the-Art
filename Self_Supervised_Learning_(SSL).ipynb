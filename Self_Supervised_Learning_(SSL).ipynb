{
  "nbformat": 4,
  "nbformat_minor": 0,
  "metadata": {
    "colab": {
      "private_outputs": true,
      "provenance": [],
      "authorship_tag": "ABX9TyM74u798chFdpUNfrfs4dbj",
      "include_colab_link": true
    },
    "kernelspec": {
      "name": "python3",
      "display_name": "Python 3"
    },
    "language_info": {
      "name": "python"
    }
  },
  "cells": [
    {
      "cell_type": "markdown",
      "metadata": {
        "id": "view-in-github",
        "colab_type": "text"
      },
      "source": [
        "<a href=\"https://colab.research.google.com/github/OneFineStarstuff/State-of-the-Art/blob/main/Self_Supervised_Learning_(SSL).ipynb\" target=\"_parent\"><img src=\"https://colab.research.google.com/assets/colab-badge.svg\" alt=\"Open In Colab\"/></a>"
      ]
    },
    {
      "cell_type": "code",
      "execution_count": null,
      "metadata": {
        "id": "HWvUkAtEbmz6"
      },
      "outputs": [],
      "source": [
        "import torch\n",
        "import torch.nn as nn\n",
        "import torch.nn.functional as F\n",
        "import torchvision.models as models\n",
        "import torchvision.transforms as transforms\n",
        "import torchvision.datasets as datasets\n",
        "import torch.optim as optim\n",
        "\n",
        "class SimCLR(nn.Module):\n",
        "    def __init__(self, base_model, projection_dim):\n",
        "        super(SimCLR, self).__init__()\n",
        "        self.encoder = base_model(pretrained=False)\n",
        "        # Remove the final fully connected layer (fc)\n",
        "        self.encoder = nn.Sequential(*list(self.encoder.children())[:-1])\n",
        "        self.projector = nn.Sequential(\n",
        "            nn.Linear(512, projection_dim),  # Use 512 as the in_features for ResNet-18\n",
        "            nn.ReLU(),\n",
        "            nn.Linear(projection_dim, projection_dim)\n",
        "        )\n",
        "\n",
        "    def forward(self, x):\n",
        "        x = self.encoder(x)\n",
        "        x = torch.flatten(x, start_dim=1)  # Flatten the output\n",
        "        x = self.projector(x)\n",
        "        return x\n",
        "\n",
        "def nt_xent_loss(z_i, z_j, temperature=0.5):\n",
        "    batch_size = z_i.shape[0]\n",
        "    z_i = F.normalize(z_i, dim=1)\n",
        "    z_j = F.normalize(z_j, dim=1)\n",
        "    representations = torch.cat([z_i, z_j], dim=0)\n",
        "    similarity_matrix = torch.matmul(representations, representations.T) / temperature\n",
        "    labels = torch.cat([torch.arange(batch_size) for _ in range(2)], dim=0)\n",
        "    labels = (labels.unsqueeze(0) == labels.unsqueeze(1)).float()\n",
        "\n",
        "    mask = torch.eye(labels.shape[0], dtype=torch.bool).to(labels.device)\n",
        "    labels = labels[~mask].view(labels.shape[0], -1)\n",
        "    similarity_matrix = similarity_matrix[~mask].view(similarity_matrix.shape[0], -1)\n",
        "\n",
        "    positives = similarity_matrix[labels.bool()].view(labels.shape[0], -1)\n",
        "    negatives = similarity_matrix[~labels.bool()].view(similarity_matrix.shape[0], -1)\n",
        "\n",
        "    logits = torch.cat([positives, negatives], dim=1)\n",
        "    labels = torch.zeros(logits.shape[0], dtype=torch.long).to(logits.device)\n",
        "\n",
        "    return F.cross_entropy(logits, labels)\n",
        "\n",
        "# Example usage\n",
        "base_model = models.resnet18\n",
        "projection_dim = 128\n",
        "model = SimCLR(base_model, projection_dim)\n",
        "\n",
        "transform = transforms.Compose([\n",
        "    transforms.RandomResizedCrop(size=224),\n",
        "    transforms.RandomHorizontalFlip(),\n",
        "    transforms.ToTensor()\n",
        "])\n",
        "dataset = datasets.CIFAR10(root='./data', train=True, transform=transform, download=True)\n",
        "data_loader = torch.utils.data.DataLoader(dataset, batch_size=64, shuffle=True)\n",
        "\n",
        "optimizer = optim.Adam(model.parameters(), lr=0.001)\n",
        "\n",
        "for epoch in range(10):\n",
        "    for images, _ in data_loader:\n",
        "        optimizer.zero_grad()\n",
        "        images = torch.cat([images, images.flip(dims=[3])], dim=0)  # Create positive pairs\n",
        "        features = model(images)\n",
        "        z_i, z_j = torch.chunk(features, 2, dim=0)\n",
        "        loss = nt_xent_loss(z_i, z_j)\n",
        "        loss.backward()\n",
        "        optimizer.step()\n",
        "    print(f'Epoch {epoch + 1}, Loss: {loss.item():.4f}')"
      ]
    }
  ]
}