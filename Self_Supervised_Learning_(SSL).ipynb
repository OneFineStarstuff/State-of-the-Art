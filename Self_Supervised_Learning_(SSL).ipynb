{
  "nbformat": 4,
  "nbformat_minor": 0,
  "metadata": {
    "colab": {
      "private_outputs": true,
      "provenance": [],
      "authorship_tag": "ABX9TyPbfOYzLmfc3Ivq9qsszZw9",
      "include_colab_link": true
    },
    "kernelspec": {
      "name": "python3",
      "display_name": "Python 3"
    },
    "language_info": {
      "name": "python"
    }
  },
  "cells": [
    {
      "cell_type": "markdown",
      "metadata": {
        "id": "view-in-github",
        "colab_type": "text"
      },
      "source": [
        "<a href=\"https://colab.research.google.com/github/OneFineStarstuff/State-of-the-Art/blob/main/Self_Supervised_Learning_(SSL).ipynb\" target=\"_parent\"><img src=\"https://colab.research.google.com/assets/colab-badge.svg\" alt=\"Open In Colab\"/></a>"
      ]
    },
    {
      "cell_type": "code",
      "execution_count": null,
      "metadata": {
        "id": "ZLFJK7F07gnU"
      },
      "outputs": [],
      "source": [
        "import torch\n",
        "import torch.nn as nn\n",
        "import torch.nn.functional as F\n",
        "\n",
        "# Define the SiameseNetwork class\n",
        "class SiameseNetwork(nn.Module):\n",
        "    def __init__(self):\n",
        "        super(SiameseNetwork, self).__init__()\n",
        "        self.cnn = nn.Sequential(\n",
        "            nn.Conv2d(1, 64, kernel_size=5),  # First convolutional layer\n",
        "            nn.ReLU(),  # ReLU activation\n",
        "            nn.MaxPool2d(2),  # Max pooling\n",
        "            nn.Conv2d(64, 128, kernel_size=5),  # Second convolutional layer\n",
        "            nn.ReLU(),  # ReLU activation\n",
        "            nn.MaxPool2d(2),  # Max pooling\n",
        "        )\n",
        "        self.fc = nn.Sequential(\n",
        "            nn.Linear(128 * 4 * 4, 256),  # First fully connected layer\n",
        "            nn.ReLU(),  # ReLU activation\n",
        "            nn.Linear(256, 256),  # Second fully connected layer\n",
        "        )\n",
        "\n",
        "    def forward(self, x1, x2):\n",
        "        output1 = self.cnn(x1)  # Process first image through CNN\n",
        "        output1 = output1.view(output1.size(0), -1)  # Flatten the tensor\n",
        "        output1 = self.fc(output1)  # Process through fully connected layers\n",
        "\n",
        "        output2 = self.cnn(x2)  # Process second image through CNN\n",
        "        output2 = output2.view(output2.size(0), -1)  # Flatten the tensor\n",
        "        output2 = self.fc(output2)  # Process through fully connected layers\n",
        "\n",
        "        return output1, output2  # Return the embeddings for both images\n",
        "\n",
        "# Example usage\n",
        "model = SiameseNetwork()\n",
        "img1, img2 = torch.randn(32, 1, 28, 28), torch.randn(32, 1, 28, 28)  # Example input pairs (batch_size=32, channels=1, height=28, width=28)\n",
        "output1, output2 = model(img1, img2)\n",
        "\n",
        "# Print the shape of the outputs\n",
        "print(output1.shape, output2.shape)  # Expected shapes: [32, 256], [32, 256]"
      ]
    }
  ]
}