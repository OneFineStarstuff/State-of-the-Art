{
  "nbformat": 4,
  "nbformat_minor": 0,
  "metadata": {
    "colab": {
      "private_outputs": true,
      "provenance": [],
      "authorship_tag": "ABX9TyOBY6BRCzE23A7JJ4mNqQbw",
      "include_colab_link": true
    },
    "kernelspec": {
      "name": "python3",
      "display_name": "Python 3"
    },
    "language_info": {
      "name": "python"
    }
  },
  "cells": [
    {
      "cell_type": "markdown",
      "metadata": {
        "id": "view-in-github",
        "colab_type": "text"
      },
      "source": [
        "<a href=\"https://colab.research.google.com/github/OneFineStarstuff/State-of-the-Art/blob/main/Self_Supervised_Learning_(SSL).ipynb\" target=\"_parent\"><img src=\"https://colab.research.google.com/assets/colab-badge.svg\" alt=\"Open In Colab\"/></a>"
      ]
    },
    {
      "cell_type": "code",
      "execution_count": null,
      "metadata": {
        "id": "uSgIA1Q15e78"
      },
      "outputs": [],
      "source": [
        "import torch\n",
        "import torch.nn as nn\n",
        "import torch.optim as optim\n",
        "from torchvision import datasets, transforms\n",
        "from torch.utils.data import DataLoader\n",
        "\n",
        "# Define the SimCLR model\n",
        "class SimCLR(nn.Module):\n",
        "    def __init__(self, base_encoder, projection_dim):\n",
        "        super(SimCLR, self).__init__()\n",
        "        self.encoder = base_encoder\n",
        "        self.projection_head = nn.Sequential(\n",
        "            nn.Linear(512, 512),\n",
        "            nn.ReLU(),\n",
        "            nn.Linear(512, projection_dim)\n",
        "        )\n",
        "\n",
        "    def forward(self, x):\n",
        "        features = self.encoder(x)\n",
        "        features = nn.functional.normalize(features, dim=-1)  # Normalize features\n",
        "        projections = self.projection_head(features)\n",
        "        projections = nn.functional.normalize(projections, dim=-1)  # Normalize projections\n",
        "        return projections\n",
        "\n",
        "def NTXentLoss(projections, temperature):\n",
        "    \"\"\"\n",
        "    Compute the normalized temperature-scaled cross-entropy loss.\n",
        "    \"\"\"\n",
        "    batch_size = projections.size(0)\n",
        "    # Cosine similarity between all pairs in the batch\n",
        "    similarity_matrix = torch.matmul(projections, projections.T) / temperature\n",
        "\n",
        "    # Mask out similarities of the same samples (diagonal entries)\n",
        "    mask = torch.eye(batch_size, device=projections.device).bool()\n",
        "    similarity_matrix.masked_fill_(mask, float('-inf'))\n",
        "\n",
        "    # Targets: positive pairs are diagonal block indices in augmented batch\n",
        "    labels = torch.arange(batch_size, device=projections.device)\n",
        "    loss = nn.CrossEntropyLoss()(similarity_matrix, labels)\n",
        "    return loss\n",
        "\n",
        "# Data preparation with augmentations\n",
        "transform = transforms.Compose([\n",
        "    transforms.RandomResizedCrop(size=32),\n",
        "    transforms.RandomHorizontalFlip(),\n",
        "    transforms.RandomApply([transforms.ColorJitter()], p=0.8),\n",
        "    transforms.RandomGrayscale(p=0.2),\n",
        "    transforms.ToTensor(),\n",
        "    transforms.Normalize((0.5,), (0.5,))\n",
        "])\n",
        "\n",
        "# CIFAR-10 dataset\n",
        "dataset = datasets.CIFAR10(root='./data', train=True, transform=transform, download=True)\n",
        "dataloader = DataLoader(dataset, batch_size=128, shuffle=True)\n",
        "\n",
        "# Base encoder (adjusted architecture for CIFAR-10)\n",
        "base_encoder = nn.Sequential(\n",
        "    nn.Conv2d(3, 16, kernel_size=3, stride=2, padding=1),\n",
        "    nn.ReLU(),\n",
        "    nn.Conv2d(16, 32, kernel_size=3, stride=2, padding=1),\n",
        "    nn.ReLU(),\n",
        "    nn.Flatten(),\n",
        "    nn.Linear(32 * 8 * 8, 512)  # Output size after convolution and flattening\n",
        ")\n",
        "model = SimCLR(base_encoder, projection_dim=128).to(torch.device(\"cuda\" if torch.cuda.is_available() else \"cpu\"))\n",
        "\n",
        "# Optimizer and parameters\n",
        "optimizer = optim.Adam(model.parameters(), lr=3e-4)\n",
        "temperature = 0.5\n",
        "device = torch.device(\"cuda\" if torch.cuda.is_available() else \"cpu\")\n",
        "\n",
        "# Training loop\n",
        "for epoch in range(20):  # Training for 20 epochs\n",
        "    for images, _ in dataloader:\n",
        "        images = images.to(device)\n",
        "\n",
        "        # Forward pass\n",
        "        projections = model(images)\n",
        "\n",
        "        # Combine projections and compute contrastive loss\n",
        "        loss = NTXentLoss(projections, temperature)\n",
        "\n",
        "        # Backpropagation\n",
        "        optimizer.zero_grad()\n",
        "        loss.backward()\n",
        "        optimizer.step()\n",
        "\n",
        "    print(f\"Epoch [{epoch + 1}/20], Loss: {loss.item():.4f}\")"
      ]
    }
  ]
}