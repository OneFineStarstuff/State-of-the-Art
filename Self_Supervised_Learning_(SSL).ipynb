{
  "nbformat": 4,
  "nbformat_minor": 0,
  "metadata": {
    "colab": {
      "private_outputs": true,
      "provenance": [],
      "authorship_tag": "ABX9TyOQrg/k0iwX1z2ycnH7tJCd",
      "include_colab_link": true
    },
    "kernelspec": {
      "name": "python3",
      "display_name": "Python 3"
    },
    "language_info": {
      "name": "python"
    }
  },
  "cells": [
    {
      "cell_type": "markdown",
      "metadata": {
        "id": "view-in-github",
        "colab_type": "text"
      },
      "source": [
        "<a href=\"https://colab.research.google.com/github/OneFineStarstuff/State-of-the-Art/blob/main/Self_Supervised_Learning_(SSL).ipynb\" target=\"_parent\"><img src=\"https://colab.research.google.com/assets/colab-badge.svg\" alt=\"Open In Colab\"/></a>"
      ]
    },
    {
      "cell_type": "code",
      "execution_count": null,
      "metadata": {
        "id": "b_sOzriEqDxu"
      },
      "outputs": [],
      "source": [
        "import torch\n",
        "import torch.nn as nn\n",
        "import torch.optim as optim\n",
        "from torchvision import datasets, transforms\n",
        "from torch.utils.data import DataLoader\n",
        "import torch.nn.functional as F\n",
        "\n",
        "# Define the contrastive model\n",
        "class ContrastiveModel(nn.Module):\n",
        "    def __init__(self, feature_dim):\n",
        "        super(ContrastiveModel, self).__init__()\n",
        "        self.encoder = nn.Sequential(\n",
        "            nn.Conv2d(3, 64, kernel_size=3, stride=1, padding=1),\n",
        "            nn.ReLU(),\n",
        "            nn.Flatten(),\n",
        "            nn.Linear(64 * 32 * 32, feature_dim)\n",
        "        )\n",
        "\n",
        "    def forward(self, x):\n",
        "        return self.encoder(x)\n",
        "\n",
        "# Define contrastive loss\n",
        "def contrastive_loss(features, temperature=0.5):\n",
        "    \"\"\"\n",
        "    Contrastive loss based on feature similarity\n",
        "    \"\"\"\n",
        "    # Normalize features along rows\n",
        "    features = nn.functional.normalize(features, dim=1)\n",
        "    # Compute logits (similarity scores)\n",
        "    logits = torch.matmul(features, features.T) / temperature\n",
        "    # Create labels for positive pairs\n",
        "    labels = torch.arange(features.size(0)).to(features.device)\n",
        "    return nn.CrossEntropyLoss()(logits, labels)\n",
        "\n",
        "# Augmentation pipeline\n",
        "transform = transforms.Compose([\n",
        "    transforms.RandomResizedCrop(32),\n",
        "    transforms.RandomHorizontalFlip(),\n",
        "    transforms.ColorJitter(0.4, 0.4, 0.4, 0.4),\n",
        "    transforms.ToTensor(),\n",
        "    transforms.Normalize((0.5,), (0.5,))\n",
        "])\n",
        "\n",
        "# Dataset and DataLoader\n",
        "train_dataset = datasets.CIFAR10(root='./data', train=True, download=True, transform=transform)\n",
        "train_loader = DataLoader(train_dataset, batch_size=64, shuffle=True)\n",
        "\n",
        "# Initialize model, optimizer, and device\n",
        "device = torch.device(\"cuda\" if torch.cuda.is_available() else \"cpu\")\n",
        "model = ContrastiveModel(feature_dim=128).to(device)\n",
        "optimizer = optim.Adam(model.parameters(), lr=0.001)\n",
        "\n",
        "# Training loop\n",
        "for epoch in range(10):\n",
        "    total_loss = 0\n",
        "    model.train()\n",
        "    for images, _ in train_loader:\n",
        "        images = images.to(device)  # Move data to device\n",
        "        features = model(images)   # Extract features\n",
        "        loss = contrastive_loss(features)  # Compute contrastive loss\n",
        "\n",
        "        optimizer.zero_grad()\n",
        "        loss.backward()\n",
        "        optimizer.step()\n",
        "        total_loss += loss.item()\n",
        "\n",
        "    print(f\"Epoch [{epoch + 1}/10], Loss: {total_loss:.4f}\")"
      ]
    }
  ]
}