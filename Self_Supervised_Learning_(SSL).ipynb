{
  "nbformat": 4,
  "nbformat_minor": 0,
  "metadata": {
    "colab": {
      "private_outputs": true,
      "provenance": [],
      "authorship_tag": "ABX9TyOmu9kDunLb/17ybtJGsXyF",
      "include_colab_link": true
    },
    "kernelspec": {
      "name": "python3",
      "display_name": "Python 3"
    },
    "language_info": {
      "name": "python"
    }
  },
  "cells": [
    {
      "cell_type": "markdown",
      "metadata": {
        "id": "view-in-github",
        "colab_type": "text"
      },
      "source": [
        "<a href=\"https://colab.research.google.com/github/OneFineStarstuff/State-of-the-Art/blob/main/Self_Supervised_Learning_(SSL).ipynb\" target=\"_parent\"><img src=\"https://colab.research.google.com/assets/colab-badge.svg\" alt=\"Open In Colab\"/></a>"
      ]
    },
    {
      "cell_type": "code",
      "execution_count": null,
      "metadata": {
        "id": "KB3Q38VwPHUU"
      },
      "outputs": [],
      "source": [
        "import torch\n",
        "import torchvision\n",
        "import torchvision.transforms as transforms\n",
        "import torch.nn as nn\n",
        "import torch.optim as optim\n",
        "\n",
        "# Data augmentation for contrastive learning\n",
        "transform = transforms.Compose([\n",
        "    transforms.RandomResizedCrop(size=32),\n",
        "    transforms.RandomHorizontalFlip(),\n",
        "    transforms.ToTensor(),\n",
        "])\n",
        "\n",
        "# Load CIFAR-10 dataset\n",
        "train_dataset = torchvision.datasets.CIFAR10(root='./data', train=True, transform=transform, download=True)\n",
        "train_loader = torch.utils.data.DataLoader(train_dataset, batch_size=64, shuffle=True)\n",
        "\n",
        "# Define a simple encoder\n",
        "class Encoder(nn.Module):\n",
        "    def __init__(self):\n",
        "        super(Encoder, self).__init__()\n",
        "        self.model = torchvision.models.resnet18(weights=None)\n",
        "        self.model.fc = nn.Identity()\n",
        "\n",
        "    def forward(self, x):\n",
        "        return self.model(x)\n",
        "\n",
        "# Define the projection head\n",
        "class ProjectionHead(nn.Module):\n",
        "    def __init__(self, input_dim, output_dim):\n",
        "        super(ProjectionHead, self).__init__()\n",
        "        self.model = nn.Sequential(\n",
        "            nn.Linear(input_dim, 256),\n",
        "            nn.ReLU(),\n",
        "            nn.Linear(256, output_dim)\n",
        "        )\n",
        "\n",
        "    def forward(self, x):\n",
        "        return self.model(x)\n",
        "\n",
        "# Contrastive loss\n",
        "def contrastive_loss(out_1, out_2, temperature):\n",
        "    out_1 = nn.functional.normalize(out_1, dim=1)\n",
        "    out_2 = nn.functional.normalize(out_2, dim=1)\n",
        "    return -torch.mean(torch.log(torch.exp(torch.sum(out_1 * out_2, dim=1) / temperature)))\n",
        "\n",
        "# Training loop\n",
        "device = torch.device(\"cpu\")  # Use CPU\n",
        "encoder = Encoder().to(device)\n",
        "projector = ProjectionHead(input_dim=512, output_dim=128).to(device)\n",
        "optimizer = optim.Adam(list(encoder.parameters()) + list(projector.parameters()), lr=0.001)\n",
        "\n",
        "for epoch in range(10):\n",
        "    for (x_i, _), (x_j, _) in zip(train_loader, train_loader):\n",
        "        x_i, x_j = x_i.to(device), x_j.to(device)\n",
        "        out_1 = projector(encoder(x_i))\n",
        "        out_2 = projector(encoder(x_j))\n",
        "        loss = contrastive_loss(out_1, out_2, temperature=0.5)\n",
        "        optimizer.zero_grad()\n",
        "        loss.backward()\n",
        "        optimizer.step()\n",
        "    print(f\"Epoch {epoch}, Loss: {loss.item()}\")"
      ]
    }
  ]
}