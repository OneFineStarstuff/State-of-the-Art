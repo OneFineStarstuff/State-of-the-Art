{
  "nbformat": 4,
  "nbformat_minor": 0,
  "metadata": {
    "colab": {
      "private_outputs": true,
      "provenance": [],
      "authorship_tag": "ABX9TyOpp0MmIfSvqKABGxK4Fw/C",
      "include_colab_link": true
    },
    "kernelspec": {
      "name": "python3",
      "display_name": "Python 3"
    },
    "language_info": {
      "name": "python"
    }
  },
  "cells": [
    {
      "cell_type": "markdown",
      "metadata": {
        "id": "view-in-github",
        "colab_type": "text"
      },
      "source": [
        "<a href=\"https://colab.research.google.com/github/OneFineStarstuff/State-of-the-Art/blob/main/Self_Supervised_Learning_(SSL).ipynb\" target=\"_parent\"><img src=\"https://colab.research.google.com/assets/colab-badge.svg\" alt=\"Open In Colab\"/></a>"
      ]
    },
    {
      "cell_type": "code",
      "execution_count": null,
      "metadata": {
        "id": "5M4SEo_h3H97"
      },
      "outputs": [],
      "source": [
        "import torch\n",
        "import torch.nn as nn\n",
        "import torch.nn.functional as F\n",
        "import torchvision.models as models\n",
        "\n",
        "class ContrastiveModel(nn.Module):\n",
        "    def __init__(self, base_model):\n",
        "        super(ContrastiveModel, self).__init__()\n",
        "        in_features = base_model.fc.in_features\n",
        "        self.encoder = base_model\n",
        "        self.encoder.fc = nn.Identity()  # Remove the classifier layer\n",
        "        self.projection = nn.Linear(in_features, 128)\n",
        "\n",
        "    def forward(self, x):\n",
        "        x = self.encoder(x)\n",
        "        x = self.projection(x)\n",
        "        return F.normalize(x, dim=-1)\n",
        "\n",
        "def contrastive_loss(features1, features2, temperature=0.5):\n",
        "    batch_size = features1.size(0)\n",
        "    labels = torch.cat([torch.arange(batch_size), torch.arange(batch_size)])\n",
        "    features = torch.cat([features1, features2], dim=0)\n",
        "    similarity_matrix = F.cosine_similarity(features.unsqueeze(1), features.unsqueeze(0), dim=-1)\n",
        "    logits = similarity_matrix / temperature\n",
        "    loss = F.cross_entropy(logits, labels)\n",
        "    return loss\n",
        "\n",
        "# Example usage\n",
        "base_model = models.resnet18(weights=None)\n",
        "model = ContrastiveModel(base_model)\n",
        "\n",
        "optimizer = torch.optim.Adam(model.parameters(), lr=0.001)\n",
        "for epoch in range(10):\n",
        "    img1, img2 = torch.randn(32, 3, 224, 224), torch.randn(32, 3, 224, 224)  # Simulated image pairs\n",
        "    features1 = model(img1)\n",
        "    features2 = model(img2)\n",
        "    loss = contrastive_loss(features1, features2)\n",
        "    optimizer.zero_grad()\n",
        "    loss.backward()\n",
        "    optimizer.step()\n",
        "    print(f'Epoch {epoch + 1}, Loss: {loss.item():.4f}')"
      ]
    }
  ]
}