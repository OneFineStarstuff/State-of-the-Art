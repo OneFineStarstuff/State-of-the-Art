{
  "nbformat": 4,
  "nbformat_minor": 0,
  "metadata": {
    "colab": {
      "private_outputs": true,
      "provenance": [],
      "authorship_tag": "ABX9TyNKT/PgvR3/sNGwBCgnvJMT",
      "include_colab_link": true
    },
    "kernelspec": {
      "name": "python3",
      "display_name": "Python 3"
    },
    "language_info": {
      "name": "python"
    }
  },
  "cells": [
    {
      "cell_type": "markdown",
      "metadata": {
        "id": "view-in-github",
        "colab_type": "text"
      },
      "source": [
        "<a href=\"https://colab.research.google.com/github/OneFineStarstuff/State-of-the-Art/blob/main/Self_Supervised_Learning_(SSL).ipynb\" target=\"_parent\"><img src=\"https://colab.research.google.com/assets/colab-badge.svg\" alt=\"Open In Colab\"/></a>"
      ]
    },
    {
      "cell_type": "code",
      "source": [
        "pip install --upgrade torch torchvision"
      ],
      "metadata": {
        "id": "pMDOEfW_4b4C"
      },
      "execution_count": null,
      "outputs": []
    },
    {
      "cell_type": "code",
      "execution_count": null,
      "metadata": {
        "id": "BXrmf37-3BGg"
      },
      "outputs": [],
      "source": [
        "import torch\n",
        "import torchvision.transforms as transforms\n",
        "from torchvision.datasets import CIFAR10\n",
        "from torch.utils.data import DataLoader, Dataset\n",
        "import torch.nn as nn\n",
        "import torch.optim as optim\n",
        "import torchvision.models as models\n",
        "\n",
        "# Custom dataset for rotation pretext task\n",
        "class RotationDataset(Dataset):\n",
        "    def __init__(self, dataset):\n",
        "        self.dataset = dataset\n",
        "        self.rotation_angles = [0, 90, 180, 270]  # Define rotation angles\n",
        "\n",
        "    def __len__(self):\n",
        "        return len(self.dataset) * len(self.rotation_angles)\n",
        "\n",
        "    def __getitem__(self, idx):\n",
        "        # Determine the original image index and the rotation to apply\n",
        "        image_idx = idx // len(self.rotation_angles)\n",
        "        rotation_idx = idx % len(self.rotation_angles)\n",
        "        angle = self.rotation_angles[rotation_idx]\n",
        "\n",
        "        # Get the original image and apply the rotation\n",
        "        image, _ = self.dataset[image_idx]\n",
        "        rotated_image = transforms.functional.rotate(image, angle)\n",
        "\n",
        "        # Return the rotated image and the label (rotation index)\n",
        "        return rotated_image, rotation_idx\n",
        "\n",
        "# Load CIFAR-10 dataset\n",
        "original_dataset = CIFAR10(root='./data', train=True, download=True, transform=transforms.ToTensor())\n",
        "rotation_dataset = RotationDataset(original_dataset)\n",
        "dataloader = DataLoader(rotation_dataset, batch_size=32, shuffle=True)\n",
        "\n",
        "# Define a pretext task model for rotation prediction\n",
        "class PretextTask(nn.Module):\n",
        "    def __init__(self, base_model):\n",
        "        super(PretextTask, self).__init__()\n",
        "        self.base_model = base_model\n",
        "        self.fc = nn.Linear(base_model.fc.in_features, 4)  # Predict 4 rotation classes\n",
        "        self.base_model.fc = nn.Identity()  # Remove original classification head\n",
        "\n",
        "    def forward(self, x):\n",
        "        x = self.base_model(x)\n",
        "        x = self.fc(x)\n",
        "        return x\n",
        "\n",
        "# Initialize ResNet backbone using the new `weights` parameter\n",
        "base_model = models.resnet18(weights=None)  # Replace `pretrained=False` with `weights=None`\n",
        "model = PretextTask(base_model)\n",
        "\n",
        "# Define loss and optimizer\n",
        "criterion = nn.CrossEntropyLoss()\n",
        "optimizer = optim.Adam(model.parameters(), lr=0.001)\n",
        "\n",
        "# Training loop\n",
        "for epoch in range(10):\n",
        "    model.train()\n",
        "    epoch_loss = 0\n",
        "    for images, labels in dataloader:\n",
        "        optimizer.zero_grad()\n",
        "        outputs = model(images)\n",
        "        loss = criterion(outputs, labels)\n",
        "        loss.backward()\n",
        "        optimizer.step()\n",
        "        epoch_loss += loss.item()\n",
        "    print(f'Epoch {epoch + 1}, Loss: {epoch_loss / len(dataloader):.4f}')"
      ]
    }
  ]
}