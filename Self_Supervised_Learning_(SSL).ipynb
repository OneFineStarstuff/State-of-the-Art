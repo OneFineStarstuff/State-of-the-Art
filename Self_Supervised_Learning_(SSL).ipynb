{
  "nbformat": 4,
  "nbformat_minor": 0,
  "metadata": {
    "colab": {
      "private_outputs": true,
      "provenance": [],
      "authorship_tag": "ABX9TyP6CR6WytyrK86fy7nNvMnm",
      "include_colab_link": true
    },
    "kernelspec": {
      "name": "python3",
      "display_name": "Python 3"
    },
    "language_info": {
      "name": "python"
    }
  },
  "cells": [
    {
      "cell_type": "markdown",
      "metadata": {
        "id": "view-in-github",
        "colab_type": "text"
      },
      "source": [
        "<a href=\"https://colab.research.google.com/github/OneFineStarstuff/State-of-the-Art/blob/main/Self_Supervised_Learning_(SSL).ipynb\" target=\"_parent\"><img src=\"https://colab.research.google.com/assets/colab-badge.svg\" alt=\"Open In Colab\"/></a>"
      ]
    },
    {
      "cell_type": "code",
      "execution_count": null,
      "metadata": {
        "id": "msywcBdKXg2W"
      },
      "outputs": [],
      "source": [
        "import torch\n",
        "import torch.nn as nn\n",
        "import torchvision\n",
        "import torchvision.transforms as transforms\n",
        "import torchvision.datasets as datasets\n",
        "from torch.utils.data import DataLoader\n",
        "import torch.optim as optim\n",
        "\n",
        "class SimCLR(nn.Module):\n",
        "    def __init__(self, base_model, projection_dim):\n",
        "        super(SimCLR, self).__init__()\n",
        "        self.encoder = base_model\n",
        "        num_ftrs = self.encoder.fc.in_features  # Get the number of input features\n",
        "        self.encoder.fc = nn.Identity()  # Remove the classification head\n",
        "        self.projector = nn.Sequential(\n",
        "            nn.Linear(num_ftrs, projection_dim),\n",
        "            nn.ReLU(),\n",
        "            nn.Linear(projection_dim, projection_dim)\n",
        "        )\n",
        "\n",
        "    def forward(self, x):\n",
        "        h = self.encoder(x)\n",
        "        h = torch.flatten(h, start_dim=1)  # Flatten the tensor\n",
        "        z = self.projector(h)\n",
        "        return z\n",
        "\n",
        "transform = transforms.Compose([\n",
        "    transforms.RandomResizedCrop(size=224),\n",
        "    transforms.RandomHorizontalFlip(),\n",
        "    transforms.ColorJitter(brightness=0.5, contrast=0.5, saturation=0.5, hue=0.5),\n",
        "    transforms.ToTensor()\n",
        "])\n",
        "\n",
        "dataset = datasets.CIFAR10(root='data', transform=transform, download=True)\n",
        "dataloader = DataLoader(dataset, batch_size=64, shuffle=True)\n",
        "\n",
        "base_model = torchvision.models.resnet18(weights=None)\n",
        "simclr_model = SimCLR(base_model, projection_dim=128)\n",
        "\n",
        "optimizer = optim.Adam(simclr_model.parameters(), lr=3e-4)\n",
        "\n",
        "def contrastive_loss(out_1, out_2, temperature):\n",
        "    batch_size = out_1.shape[0]\n",
        "    out_1 = nn.functional.normalize(out_1, dim=1)\n",
        "    out_2 = nn.functional.normalize(out_2, dim=1)\n",
        "    out = torch.cat([out_1, out_2], dim=0)\n",
        "    sim_matrix = torch.exp(torch.mm(out, out.t().contiguous()) / temperature)\n",
        "    mask = (torch.ones_like(sim_matrix) - torch.eye(2 * batch_size)).bool()\n",
        "    sim_matrix = sim_matrix.masked_select(mask).view(2 * batch_size, -1)\n",
        "    pos_sim = torch.exp(torch.sum(out_1 * out_2, dim=-1) / temperature)\n",
        "    pos_sim = torch.cat([pos_sim, pos_sim], dim=0)  # Duplicate for both batches\n",
        "    loss = -torch.log(pos_sim / sim_matrix.sum(dim=-1)).mean()\n",
        "    return loss\n",
        "\n",
        "for epoch in range(100):\n",
        "    for batch in dataloader:\n",
        "        images, _ = batch\n",
        "        # Duplicate the images to create pairs\n",
        "        images_1 = images.clone()\n",
        "        images_2 = images.clone()\n",
        "        out_1 = simclr_model(images_1)\n",
        "        out_2 = simclr_model(images_2)\n",
        "        loss = contrastive_loss(out_1, out_2, temperature=0.5)\n",
        "        optimizer.zero_grad()\n",
        "        loss.backward()\n",
        "        optimizer.step()\n",
        "    print(f\"Epoch {epoch+1}, Loss: {loss.item()}\")"
      ]
    }
  ]
}