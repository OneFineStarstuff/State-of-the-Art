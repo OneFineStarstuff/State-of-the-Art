{
  "nbformat": 4,
  "nbformat_minor": 0,
  "metadata": {
    "colab": {
      "private_outputs": true,
      "provenance": [],
      "authorship_tag": "ABX9TyPfwVf6BXaSxm8b7WLCf2lw",
      "include_colab_link": true
    },
    "kernelspec": {
      "name": "python3",
      "display_name": "Python 3"
    },
    "language_info": {
      "name": "python"
    }
  },
  "cells": [
    {
      "cell_type": "markdown",
      "metadata": {
        "id": "view-in-github",
        "colab_type": "text"
      },
      "source": [
        "<a href=\"https://colab.research.google.com/github/OneFineStarstuff/State-of-the-Art/blob/main/AugMix.ipynb\" target=\"_parent\"><img src=\"https://colab.research.google.com/assets/colab-badge.svg\" alt=\"Open In Colab\"/></a>"
      ]
    },
    {
      "cell_type": "code",
      "execution_count": null,
      "metadata": {
        "id": "vINs3kI6ABLe"
      },
      "outputs": [],
      "source": [
        "import torch\n",
        "import torchvision.transforms as transforms\n",
        "import numpy as np\n",
        "from PIL import Image, ImageOps\n",
        "\n",
        "# Define AugMix function\n",
        "def augmix(image, severity=3, width=3, depth=-1, alpha=1.0):\n",
        "    ws = np.float32(np.random.dirichlet([alpha] * width))\n",
        "    m = np.float32(np.random.beta(alpha, alpha))\n",
        "\n",
        "    mixed = torch.zeros_like(image)\n",
        "    for i in range(width):\n",
        "        image_aug = image.clone()\n",
        "        depth_i = depth if depth > 0 else np.random.randint(1, 4)\n",
        "        for _ in range(depth_i):\n",
        "            op = np.random.choice(augmentations)\n",
        "            image_aug = op(image_aug, severity)\n",
        "        mixed += ws[i] * image_aug\n",
        "\n",
        "    mixed = m * image + (1 - m) * mixed\n",
        "    return mixed\n",
        "\n",
        "# Example augmentations\n",
        "def identity(x, severity):\n",
        "    return x\n",
        "\n",
        "def autocontrast(x, severity):\n",
        "    img = transforms.ToPILImage()(x)\n",
        "    img = ImageOps.autocontrast(img)\n",
        "    return transforms.ToTensor()(img)\n",
        "\n",
        "augmentations = [identity, autocontrast]\n",
        "\n",
        "# Load and transform the image\n",
        "image = Image.open('example.jpg')\n",
        "transform = transforms.ToTensor()\n",
        "image_tensor = transform(image)\n",
        "\n",
        "# Apply AugMix to the image\n",
        "aug_image_tensor = augmix(image_tensor)\n",
        "\n",
        "# Convert the augmented tensor back to a PIL image and show it\n",
        "aug_image = transforms.ToPILImage()(aug_image_tensor)\n",
        "aug_image.show()"
      ]
    }
  ]
}