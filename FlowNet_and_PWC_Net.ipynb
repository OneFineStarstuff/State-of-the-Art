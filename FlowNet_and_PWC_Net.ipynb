{
  "nbformat": 4,
  "nbformat_minor": 0,
  "metadata": {
    "colab": {
      "private_outputs": true,
      "provenance": [],
      "authorship_tag": "ABX9TyOtRDmkPcd2GvyYCNYg/f45",
      "include_colab_link": true
    },
    "kernelspec": {
      "name": "python3",
      "display_name": "Python 3"
    },
    "language_info": {
      "name": "python"
    }
  },
  "cells": [
    {
      "cell_type": "markdown",
      "metadata": {
        "id": "view-in-github",
        "colab_type": "text"
      },
      "source": [
        "<a href=\"https://colab.research.google.com/github/OneFineStarstuff/State-of-the-Art/blob/main/FlowNet_and_PWC_Net.ipynb\" target=\"_parent\"><img src=\"https://colab.research.google.com/assets/colab-badge.svg\" alt=\"Open In Colab\"/></a>"
      ]
    },
    {
      "cell_type": "code",
      "execution_count": null,
      "metadata": {
        "id": "llvYcY-F7gCd"
      },
      "outputs": [],
      "source": [
        "import torch\n",
        "import torch.nn as nn\n",
        "import torch.nn.functional as F\n",
        "\n",
        "# Define the Simple Optical Flow Network\n",
        "class SimpleOpticalFlowNet(nn.Module):\n",
        "    def __init__(self):\n",
        "        super(SimpleOpticalFlowNet, self).__init__()\n",
        "        self.conv1 = nn.Conv2d(6, 64, kernel_size=7, stride=2, padding=3)  # Convolutional layer\n",
        "        self.conv2 = nn.Conv2d(64, 128, kernel_size=5, stride=2, padding=2)  # Convolutional layer\n",
        "        self.fc = nn.Linear(128 * 16 * 16, 2)  # Fully connected layer assuming input of size (6, 64, 64)\n",
        "\n",
        "    def forward(self, x):\n",
        "        x = F.relu(self.conv1(x))  # Apply ReLU activation\n",
        "        x = F.relu(self.conv2(x))  # Apply ReLU activation\n",
        "        x = x.view(-1, 128 * 16 * 16)  # Flatten the tensor\n",
        "        x = self.fc(x)  # Fully connected layer\n",
        "        return x\n",
        "\n",
        "# Instantiate and print model architecture\n",
        "model = SimpleOpticalFlowNet()\n",
        "print(model)"
      ]
    }
  ]
}