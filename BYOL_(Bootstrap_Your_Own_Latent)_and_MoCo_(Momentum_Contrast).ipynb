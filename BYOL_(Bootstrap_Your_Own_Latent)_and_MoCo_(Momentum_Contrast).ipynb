{
  "nbformat": 4,
  "nbformat_minor": 0,
  "metadata": {
    "colab": {
      "private_outputs": true,
      "provenance": [],
      "authorship_tag": "ABX9TyOUuA6XmVd4pGKg5Q5+5Jbz",
      "include_colab_link": true
    },
    "kernelspec": {
      "name": "python3",
      "display_name": "Python 3"
    },
    "language_info": {
      "name": "python"
    }
  },
  "cells": [
    {
      "cell_type": "markdown",
      "metadata": {
        "id": "view-in-github",
        "colab_type": "text"
      },
      "source": [
        "<a href=\"https://colab.research.google.com/github/OneFineStarstuff/State-of-the-Art/blob/main/BYOL_(Bootstrap_Your_Own_Latent)_and_MoCo_(Momentum_Contrast).ipynb\" target=\"_parent\"><img src=\"https://colab.research.google.com/assets/colab-badge.svg\" alt=\"Open In Colab\"/></a>"
      ]
    },
    {
      "cell_type": "code",
      "execution_count": null,
      "metadata": {
        "id": "_hJgWdbaZY34"
      },
      "outputs": [],
      "source": [
        "import torch\n",
        "import torch.nn as nn\n",
        "\n",
        "# Define the BYOL class\n",
        "class BYOL(nn.Module):\n",
        "    def __init__(self, encoder, projector_dim):\n",
        "        super(BYOL, self).__init__()\n",
        "        # Store the in_features before replacing the fc layer\n",
        "        self.encoder_in_features = encoder.fc.in_features\n",
        "        self.encoder = encoder\n",
        "        self.encoder.fc = nn.Identity()  # Replace the fully connected layer with Identity\n",
        "        self.projector = nn.Sequential(\n",
        "            nn.Linear(self.encoder_in_features, projector_dim),  # First projection layer\n",
        "            nn.ReLU(),  # ReLU activation\n",
        "            nn.Linear(projector_dim, projector_dim)  # Second projection layer\n",
        "        )\n",
        "\n",
        "    def forward(self, x):\n",
        "        representations = self.encoder(x)  # Extract features using the encoder\n",
        "        projections = self.projector(representations)  # Project the features to a lower-dimensional space\n",
        "        return projections\n",
        "\n",
        "# Example usage with ResNet encoder\n",
        "encoder = torch.hub.load('pytorch/vision:v0.10.0', 'resnet18', pretrained=True)\n",
        "\n",
        "# Instantiate the BYOL model\n",
        "byol_model = BYOL(encoder=encoder, projector_dim=128)\n",
        "input_data = torch.randn(32, 3, 224, 224)  # Example input (batch_size=32, channels=3, height=224, width=224)\n",
        "projections = byol_model(input_data)\n",
        "\n",
        "# Print the shape of the projections\n",
        "print(projections.shape)  # Expected shape: [32, 128]"
      ]
    }
  ]
}