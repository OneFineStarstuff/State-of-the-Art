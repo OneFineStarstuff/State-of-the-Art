{
  "nbformat": 4,
  "nbformat_minor": 0,
  "metadata": {
    "colab": {
      "private_outputs": true,
      "provenance": [],
      "authorship_tag": "ABX9TyNZYEIN4ui/4BOgpMUM6J+L",
      "include_colab_link": true
    },
    "kernelspec": {
      "name": "python3",
      "display_name": "Python 3"
    },
    "language_info": {
      "name": "python"
    }
  },
  "cells": [
    {
      "cell_type": "markdown",
      "metadata": {
        "id": "view-in-github",
        "colab_type": "text"
      },
      "source": [
        "<a href=\"https://colab.research.google.com/github/OneFineStarstuff/State-of-the-Art/blob/main/Transformer_Models.ipynb\" target=\"_parent\"><img src=\"https://colab.research.google.com/assets/colab-badge.svg\" alt=\"Open In Colab\"/></a>"
      ]
    },
    {
      "cell_type": "code",
      "source": [
        "import torch\n",
        "import torch.nn as nn\n",
        "from torch.nn import Transformer\n",
        "\n",
        "class SimpleTransformer(nn.Module):\n",
        "    def __init__(self, input_dim, nhead, num_encoder_layers, num_decoder_layers, dim_feedforward):\n",
        "        super(SimpleTransformer, self).__init__()\n",
        "        self.transformer = Transformer(d_model=input_dim, nhead=nhead, num_encoder_layers=num_encoder_layers,\n",
        "                                       num_decoder_layers=num_decoder_layers, dim_feedforward=dim_feedforward,\n",
        "                                       batch_first=True)  # Enable batch_first\n",
        "        self.fc_out = nn.Linear(input_dim, 1)\n",
        "\n",
        "    def forward(self, src, tgt):\n",
        "        output = self.transformer(src, tgt)\n",
        "        return self.fc_out(output)\n",
        "\n",
        "# Example usage\n",
        "model = SimpleTransformer(input_dim=10, nhead=2, num_encoder_layers=2, num_decoder_layers=2, dim_feedforward=64)\n",
        "src = torch.randn(32, 10, 10)  # batch size, sequence length, input dimension\n",
        "tgt = torch.randn(32, 10, 10)\n",
        "\n",
        "output = model(src, tgt)\n",
        "print(\"Transformer output shape:\", output.shape)"
      ],
      "metadata": {
        "id": "p4AYVtBlxA5F"
      },
      "execution_count": null,
      "outputs": []
    }
  ]
}