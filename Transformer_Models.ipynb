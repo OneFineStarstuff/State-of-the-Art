{
  "nbformat": 4,
  "nbformat_minor": 0,
  "metadata": {
    "colab": {
      "private_outputs": true,
      "provenance": [],
      "authorship_tag": "ABX9TyMjMXOvbrKaUacYrSbyPDcz",
      "include_colab_link": true
    },
    "kernelspec": {
      "name": "python3",
      "display_name": "Python 3"
    },
    "language_info": {
      "name": "python"
    }
  },
  "cells": [
    {
      "cell_type": "markdown",
      "metadata": {
        "id": "view-in-github",
        "colab_type": "text"
      },
      "source": [
        "<a href=\"https://colab.research.google.com/github/OneFineStarstuff/State-of-the-Art/blob/main/Transformer_Models.ipynb\" target=\"_parent\"><img src=\"https://colab.research.google.com/assets/colab-badge.svg\" alt=\"Open In Colab\"/></a>"
      ]
    },
    {
      "cell_type": "code",
      "execution_count": null,
      "metadata": {
        "id": "7Pl760Z83OqM"
      },
      "outputs": [],
      "source": [
        "import torch\n",
        "import torch.nn as nn\n",
        "import torch.nn.functional as F\n",
        "from torch.nn import Transformer\n",
        "\n",
        "# Define the TransformerModel class\n",
        "class TransformerModel(nn.Module):\n",
        "    def __init__(self, input_dim, output_dim, nhead, num_layers):\n",
        "        super(TransformerModel, self).__init__()\n",
        "        self.transformer = Transformer(d_model=input_dim, nhead=nhead, num_encoder_layers=num_layers, num_decoder_layers=num_layers)\n",
        "        self.fc = nn.Linear(input_dim, output_dim)\n",
        "\n",
        "    def forward(self, src, tgt):\n",
        "        output = self.transformer(src, tgt)\n",
        "        output = self.fc(output)\n",
        "        return output\n",
        "\n",
        "# Example usage\n",
        "model = TransformerModel(input_dim=512, output_dim=10, nhead=8, num_layers=2)\n",
        "src = torch.rand(10, 32, 512)  # Source sequence (sequence length=10, batch size=32, feature dimension=512)\n",
        "tgt = torch.rand(20, 32, 512)  # Target sequence (sequence length=20, batch size=32, feature dimension=512)\n",
        "output = model(src, tgt)\n",
        "\n",
        "# Print the shape of the output\n",
        "print(output.shape)  # Expected shape: [20, 32, 10]"
      ]
    }
  ]
}