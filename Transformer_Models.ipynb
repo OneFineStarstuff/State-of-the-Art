{
  "nbformat": 4,
  "nbformat_minor": 0,
  "metadata": {
    "colab": {
      "private_outputs": true,
      "provenance": [],
      "authorship_tag": "ABX9TyNK6/0S1SnDVxYQ0QAeyMu6",
      "include_colab_link": true
    },
    "kernelspec": {
      "name": "python3",
      "display_name": "Python 3"
    },
    "language_info": {
      "name": "python"
    }
  },
  "cells": [
    {
      "cell_type": "markdown",
      "metadata": {
        "id": "view-in-github",
        "colab_type": "text"
      },
      "source": [
        "<a href=\"https://colab.research.google.com/github/OneFineStarstuff/State-of-the-Art/blob/main/Transformer_Models.ipynb\" target=\"_parent\"><img src=\"https://colab.research.google.com/assets/colab-badge.svg\" alt=\"Open In Colab\"/></a>"
      ]
    },
    {
      "cell_type": "code",
      "execution_count": null,
      "metadata": {
        "id": "igzmZa7HBBnI"
      },
      "outputs": [],
      "source": [
        "import torch\n",
        "import torch.nn as nn\n",
        "\n",
        "class TransformerModel(nn.Module):\n",
        "    def __init__(self, input_dim, num_heads, num_layers, hidden_dim, output_dim):\n",
        "        super(TransformerModel, self).__init__()\n",
        "        self.encoder_layer = nn.TransformerEncoderLayer(d_model=input_dim, nhead=num_heads, dim_feedforward=hidden_dim)\n",
        "        self.transformer_encoder = nn.TransformerEncoder(self.encoder_layer, num_layers=num_layers)\n",
        "        self.fc = nn.Linear(input_dim, output_dim)\n",
        "\n",
        "    def forward(self, src):\n",
        "        output = self.transformer_encoder(src)\n",
        "        output = self.fc(output.mean(dim=0))\n",
        "        return output\n",
        "\n",
        "input_dim = 64\n",
        "num_heads = 8\n",
        "num_layers = 4\n",
        "hidden_dim = 256\n",
        "output_dim = 10\n",
        "model = TransformerModel(input_dim, num_heads, num_layers, hidden_dim, output_dim)\n",
        "\n",
        "# Example input (batch_size=32, sequence_length=10, input_dim=64)\n",
        "input_data = torch.randn(10, 32, input_dim)\n",
        "output = model(input_data)\n",
        "print(output.shape)  # Should output: torch.Size([32, 10])"
      ]
    }
  ]
}