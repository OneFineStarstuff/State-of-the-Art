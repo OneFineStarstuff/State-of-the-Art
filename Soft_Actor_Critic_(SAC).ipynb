{
  "nbformat": 4,
  "nbformat_minor": 0,
  "metadata": {
    "colab": {
      "private_outputs": true,
      "provenance": [],
      "authorship_tag": "ABX9TyMApFR31o8F/WLOHBDXtwSl",
      "include_colab_link": true
    },
    "kernelspec": {
      "name": "python3",
      "display_name": "Python 3"
    },
    "language_info": {
      "name": "python"
    }
  },
  "cells": [
    {
      "cell_type": "markdown",
      "metadata": {
        "id": "view-in-github",
        "colab_type": "text"
      },
      "source": [
        "<a href=\"https://colab.research.google.com/github/OneFineStarstuff/State-of-the-Art/blob/main/Soft_Actor_Critic_(SAC).ipynb\" target=\"_parent\"><img src=\"https://colab.research.google.com/assets/colab-badge.svg\" alt=\"Open In Colab\"/></a>"
      ]
    },
    {
      "cell_type": "code",
      "execution_count": null,
      "metadata": {
        "id": "dZd6QU6LDy3p"
      },
      "outputs": [],
      "source": [
        "pip install stable-baselines3 gym"
      ]
    },
    {
      "cell_type": "code",
      "source": [
        "pip install 'shimmy>=2.0'"
      ],
      "metadata": {
        "id": "WU_j88vTEoDp"
      },
      "execution_count": null,
      "outputs": []
    },
    {
      "cell_type": "code",
      "source": [
        "pip install gymnasium"
      ],
      "metadata": {
        "id": "Bb-n1F-VD7we"
      },
      "execution_count": null,
      "outputs": []
    },
    {
      "cell_type": "code",
      "source": [
        "import gymnasium as gym\n",
        "from stable_baselines3 import SAC\n",
        "from stable_baselines3.common.vec_env import DummyVecEnv\n",
        "\n",
        "# Create the environment\n",
        "def make_env():\n",
        "    env = gym.make(\"Pendulum-v1\")\n",
        "    return env\n",
        "\n",
        "env = DummyVecEnv([make_env])\n",
        "\n",
        "# Create the SAC agent\n",
        "model = SAC(\"MlpPolicy\", env, verbose=1)\n",
        "\n",
        "# Train the agent\n",
        "model.learn(total_timesteps=100000)\n",
        "\n",
        "# Save the model\n",
        "model.save(\"sac_pendulum\")\n",
        "\n",
        "# Load the trained model and evaluate it\n",
        "model = SAC.load(\"sac_pendulum\")\n",
        "obs, info = env.reset()\n",
        "for _ in range(1000):\n",
        "    action, _states = model.predict(obs, deterministic=True)\n",
        "    obs, rewards, dones, info = env.step(action)\n",
        "    env.render()\n",
        "env.close()"
      ],
      "metadata": {
        "id": "hIPsfQ02E24g"
      },
      "execution_count": null,
      "outputs": []
    },
    {
      "cell_type": "code",
      "source": [
        "import gymnasium as gym\n",
        "from stable_baselines3 import SAC\n",
        "from stable_baselines3.common.vec_env import DummyVecEnv\n",
        "\n",
        "# Create the environment\n",
        "def make_env():\n",
        "    env = gym.make(\"Pendulum-v1\")\n",
        "    return env\n",
        "\n",
        "env = DummyVecEnv([make_env])\n",
        "\n",
        "# Create the SAC agent\n",
        "model = SAC(\"MlpPolicy\", env, verbose=1)\n",
        "\n",
        "# Train the agent\n",
        "model.learn(total_timesteps=100000)\n",
        "\n",
        "# Save the model\n",
        "model.save(\"sac_pendulum\")\n",
        "\n",
        "# Load the trained model and evaluate it\n",
        "model = SAC.load(\"sac_pendulum\")\n",
        "obs = env.reset()  # Single value returned\n",
        "for _ in range(1000):\n",
        "    action, _states = model.predict(obs, deterministic=True)\n",
        "    obs, rewards, dones, info = env.step(action)\n",
        "    env.render()\n",
        "env.close()"
      ],
      "metadata": {
        "id": "CMx__lHURX1X"
      },
      "execution_count": null,
      "outputs": []
    }
  ]
}