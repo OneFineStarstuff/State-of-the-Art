{
  "nbformat": 4,
  "nbformat_minor": 0,
  "metadata": {
    "colab": {
      "private_outputs": true,
      "provenance": [],
      "authorship_tag": "ABX9TyN9lggw6MjU/YBz8OwgBLcN",
      "include_colab_link": true
    },
    "kernelspec": {
      "name": "python3",
      "display_name": "Python 3"
    },
    "language_info": {
      "name": "python"
    }
  },
  "cells": [
    {
      "cell_type": "markdown",
      "metadata": {
        "id": "view-in-github",
        "colab_type": "text"
      },
      "source": [
        "<a href=\"https://colab.research.google.com/github/OneFineStarstuff/State-of-the-Art/blob/main/Soft_Actor_Critic_(SAC).ipynb\" target=\"_parent\"><img src=\"https://colab.research.google.com/assets/colab-badge.svg\" alt=\"Open In Colab\"/></a>"
      ]
    },
    {
      "cell_type": "code",
      "source": [
        "pip install gymnasium stable_baselines3"
      ],
      "metadata": {
        "id": "OPkal19DlFVK"
      },
      "execution_count": null,
      "outputs": []
    },
    {
      "cell_type": "code",
      "execution_count": null,
      "metadata": {
        "id": "ULh_zaBxkob0"
      },
      "outputs": [],
      "source": [
        "import gymnasium as gym\n",
        "from stable_baselines3 import SAC\n",
        "from stable_baselines3.common.vec_env import DummyVecEnv\n",
        "\n",
        "# Create the environment using Gymnasium\n",
        "env = gym.make('Pendulum-v1')\n",
        "\n",
        "# Wrap the environment with DummyVecEnv for compatibility\n",
        "env = DummyVecEnv([lambda: env])\n",
        "\n",
        "# Initialize the SAC model\n",
        "model = SAC('MlpPolicy', env, verbose=1)\n",
        "\n",
        "# Train the model\n",
        "model.learn(total_timesteps=10000)\n",
        "\n",
        "# Evaluate the trained model\n",
        "obs = env.reset()\n",
        "for _ in range(1000):\n",
        "    action, _states = model.predict(obs)\n",
        "    result = env.step(action)  # Adjusted to handle latest Gymnasium API\n",
        "    if len(result) == 5:\n",
        "        obs, reward, done, trunc, info = result\n",
        "        done = done or trunc\n",
        "    else:\n",
        "        obs, reward, done, info = result\n",
        "    env.render()\n",
        "    # Handle the done flag appropriately\n",
        "    if done:\n",
        "        obs = env.reset()\n",
        "env.close()"
      ]
    }
  ]
}