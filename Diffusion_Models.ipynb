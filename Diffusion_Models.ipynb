{
  "nbformat": 4,
  "nbformat_minor": 0,
  "metadata": {
    "colab": {
      "private_outputs": true,
      "provenance": [],
      "authorship_tag": "ABX9TyPrjPmvTFB7sZN2QR0DyuM6",
      "include_colab_link": true
    },
    "kernelspec": {
      "name": "python3",
      "display_name": "Python 3"
    },
    "language_info": {
      "name": "python"
    }
  },
  "cells": [
    {
      "cell_type": "markdown",
      "metadata": {
        "id": "view-in-github",
        "colab_type": "text"
      },
      "source": [
        "<a href=\"https://colab.research.google.com/github/OneFineStarstuff/State-of-the-Art/blob/main/Diffusion_Models.ipynb\" target=\"_parent\"><img src=\"https://colab.research.google.com/assets/colab-badge.svg\" alt=\"Open In Colab\"/></a>"
      ]
    },
    {
      "cell_type": "code",
      "execution_count": null,
      "metadata": {
        "id": "0N_Ctil52d8_"
      },
      "outputs": [],
      "source": [
        "import torch\n",
        "import torch.nn as nn\n",
        "import torch.optim as optim\n",
        "import numpy as np\n",
        "import matplotlib.pyplot as plt\n",
        "\n",
        "# Simple MLP for the denoising function\n",
        "class DenoiseMLP(nn.Module):\n",
        "    def __init__(self):\n",
        "        super(DenoiseMLP, self).__init__()\n",
        "        self.fc = nn.Sequential(\n",
        "            nn.Linear(2, 128),\n",
        "            nn.ReLU(),\n",
        "            nn.Linear(128, 128),\n",
        "            nn.ReLU(),\n",
        "            nn.Linear(128, 2)\n",
        "        )\n",
        "\n",
        "    def forward(self, x):\n",
        "        return self.fc(x)\n",
        "\n",
        "# Define the noise schedule\n",
        "def noise_schedule(t, beta_start=0.0001, beta_end=0.02):\n",
        "    return beta_start + t * (beta_end - beta_start)\n",
        "\n",
        "# Forward and reverse diffusion processes\n",
        "def forward_diffusion(x, t, noise_schedule):\n",
        "    beta_t = noise_schedule(t)\n",
        "    noise = torch.randn_like(x)\n",
        "    return np.sqrt(1 - beta_t) * x + np.sqrt(beta_t) * noise\n",
        "\n",
        "def reverse_diffusion(x, t, model, noise_schedule):\n",
        "    beta_t = noise_schedule(t)\n",
        "    denoised = model(x)\n",
        "    return (x - np.sqrt(beta_t) * denoised) / np.sqrt(1 - beta_t)\n",
        "\n",
        "# Training the model\n",
        "model = DenoiseMLP()\n",
        "optimizer = optim.Adam(model.parameters(), lr=0.001)\n",
        "criterion = nn.MSELoss()\n",
        "\n",
        "for epoch in range(1000):\n",
        "    t = np.random.rand()\n",
        "    x = torch.randn(1000, 2)\n",
        "    x_noisy = forward_diffusion(x, t, noise_schedule)\n",
        "\n",
        "    optimizer.zero_grad()\n",
        "    denoised = model(x_noisy)\n",
        "    loss = criterion(denoised, x)\n",
        "    loss.backward()\n",
        "    optimizer.step()\n",
        "\n",
        "# Generate samples\n",
        "t = 0.1\n",
        "x = torch.randn(1000, 2)\n",
        "for _ in range(100):\n",
        "    x = reverse_diffusion(x, t, model, noise_schedule)\n",
        "\n",
        "plt.scatter(x[:, 0].detach().numpy(), x[:, 1].detach().numpy())\n",
        "plt.show()"
      ]
    }
  ]
}