{
  "nbformat": 4,
  "nbformat_minor": 0,
  "metadata": {
    "colab": {
      "private_outputs": true,
      "provenance": [],
      "authorship_tag": "ABX9TyNOsXAv2E93UyGSqR1WXSqU",
      "include_colab_link": true
    },
    "kernelspec": {
      "name": "python3",
      "display_name": "Python 3"
    },
    "language_info": {
      "name": "python"
    }
  },
  "cells": [
    {
      "cell_type": "markdown",
      "metadata": {
        "id": "view-in-github",
        "colab_type": "text"
      },
      "source": [
        "<a href=\"https://colab.research.google.com/github/OneFineStarstuff/State-of-the-Art/blob/main/Transformer_Models_for_Time_Series_Forecasting.ipynb\" target=\"_parent\"><img src=\"https://colab.research.google.com/assets/colab-badge.svg\" alt=\"Open In Colab\"/></a>"
      ]
    },
    {
      "cell_type": "code",
      "source": [
        "import torch\n",
        "import torch.nn as nn\n",
        "import torch.optim as optim\n",
        "import numpy as np\n",
        "\n",
        "# Transformer model for time series forecasting\n",
        "class TimeSeriesTransformer(nn.Module):\n",
        "    def __init__(self, input_size, num_heads, num_layers, d_model, dropout=0.1):\n",
        "        super(TimeSeriesTransformer, self).__init__()\n",
        "        self.input_embedding = nn.Linear(input_size, d_model)\n",
        "        self.encoder_layer = nn.TransformerEncoderLayer(\n",
        "            d_model=d_model, nhead=num_heads, dropout=dropout)\n",
        "        self.transformer_encoder = nn.TransformerEncoder(\n",
        "            self.encoder_layer, num_layers=num_layers)\n",
        "        self.fc = nn.Linear(d_model, 1)\n",
        "\n",
        "    def forward(self, src):\n",
        "        src = self.input_embedding(src)\n",
        "        output = self.transformer_encoder(src)\n",
        "        return self.fc(output[-1])\n",
        "\n",
        "# Generate synthetic time series data\n",
        "def generate_synthetic_data(n_samples, seq_len):\n",
        "    x = np.linspace(0, 4 * np.pi, seq_len)\n",
        "    y = np.sin(x) + 0.1 * np.random.randn(n_samples, seq_len)\n",
        "    return y\n",
        "\n",
        "# Prepare the data\n",
        "n_samples = 1000\n",
        "seq_len = 30\n",
        "data = generate_synthetic_data(n_samples, seq_len)\n",
        "X = torch.tensor(data[:, :-1], dtype=torch.float32).unsqueeze(2)\n",
        "y = torch.tensor(data[:, -1], dtype=torch.float32).unsqueeze(1)  # Ensure y has shape (1000, 1)\n",
        "\n",
        "# Model instantiation and training\n",
        "model = TimeSeriesTransformer(input_size=1, num_heads=4, num_layers=2, d_model=64)\n",
        "criterion = nn.MSELoss()\n",
        "optimizer = optim.Adam(model.parameters(), lr=0.001)\n",
        "\n",
        "for epoch in range(200):\n",
        "    model.train()\n",
        "    optimizer.zero_grad()\n",
        "    output = model(X.permute(1, 0, 2))\n",
        "    loss = criterion(output, y)\n",
        "    loss.backward()\n",
        "    optimizer.step()\n",
        "\n",
        "print(f\"Training loss: {loss.item()}\")"
      ],
      "metadata": {
        "id": "82peTOZZ61ey"
      },
      "execution_count": null,
      "outputs": []
    }
  ]
}