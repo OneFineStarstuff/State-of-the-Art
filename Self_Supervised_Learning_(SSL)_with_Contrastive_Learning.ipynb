{
  "nbformat": 4,
  "nbformat_minor": 0,
  "metadata": {
    "colab": {
      "private_outputs": true,
      "provenance": [],
      "authorship_tag": "ABX9TyMwkuSTicvJI5z5upxLloq8",
      "include_colab_link": true
    },
    "kernelspec": {
      "name": "python3",
      "display_name": "Python 3"
    },
    "language_info": {
      "name": "python"
    }
  },
  "cells": [
    {
      "cell_type": "markdown",
      "metadata": {
        "id": "view-in-github",
        "colab_type": "text"
      },
      "source": [
        "<a href=\"https://colab.research.google.com/github/OneFineStarstuff/State-of-the-Art/blob/main/Self_Supervised_Learning_(SSL)_with_Contrastive_Learning.ipynb\" target=\"_parent\"><img src=\"https://colab.research.google.com/assets/colab-badge.svg\" alt=\"Open In Colab\"/></a>"
      ]
    },
    {
      "cell_type": "code",
      "execution_count": null,
      "metadata": {
        "id": "tRtZ39ZBDcu7"
      },
      "outputs": [],
      "source": [
        "import torch\n",
        "import torch.nn as nn\n",
        "import torch.nn.functional as F\n",
        "from torchvision import transforms, datasets\n",
        "\n",
        "# Encoder model\n",
        "class SimpleEncoder(nn.Module):\n",
        "    def __init__(self, feature_dim=128):\n",
        "        super(SimpleEncoder, self).__init__()\n",
        "        self.conv = nn.Sequential(\n",
        "            nn.Conv2d(3, 64, kernel_size=3, stride=2, padding=1),\n",
        "            nn.ReLU(),\n",
        "            nn.Conv2d(64, 128, kernel_size=3, stride=2, padding=1),\n",
        "            nn.ReLU(),\n",
        "            nn.Conv2d(128, 256, kernel_size=3, stride=2, padding=1),\n",
        "            nn.ReLU(),\n",
        "        )\n",
        "        self.fc = nn.Linear(256 * 4 * 4, feature_dim)\n",
        "\n",
        "    def forward(self, x):\n",
        "        x = self.conv(x)\n",
        "        x = torch.flatten(x, start_dim=1)\n",
        "        return self.fc(x)\n",
        "\n",
        "# Contrastive loss function\n",
        "def contrastive_loss(features, temperature=0.5):\n",
        "    features = F.normalize(features, dim=1)\n",
        "    batch_size = features.size(0) // 2\n",
        "\n",
        "    # Compute similarity matrix\n",
        "    similarity_matrix = torch.matmul(features, features.T) / temperature\n",
        "\n",
        "    # Create ground truth labels for positive pairs\n",
        "    labels = torch.cat([torch.arange(batch_size) for _ in range(2)], dim=0).to(features.device)\n",
        "    labels = (labels.unsqueeze(0) == labels.unsqueeze(1)).float()\n",
        "\n",
        "    # Mask out self-similarity\n",
        "    mask = torch.eye(labels.size(0), device=features.device).bool()\n",
        "    labels = labels[~mask].view(labels.size(0), -1)\n",
        "    similarity_matrix = similarity_matrix[~mask].view(similarity_matrix.size(0), -1)\n",
        "\n",
        "    # Compute loss\n",
        "    loss = F.cross_entropy(similarity_matrix, labels.argmax(dim=1))\n",
        "    return loss\n",
        "\n",
        "# Dataset and transformations\n",
        "transform = transforms.Compose([\n",
        "    transforms.RandomResizedCrop(size=32),\n",
        "    transforms.RandomHorizontalFlip(),\n",
        "    transforms.ToTensor(),\n",
        "    transforms.Normalize((0.5,), (0.5,))\n",
        "])\n",
        "dataset = datasets.CIFAR10(root='/tmp/CIFAR10', train=True, transform=transform, download=True)\n",
        "dataloader = torch.utils.data.DataLoader(dataset, batch_size=128, shuffle=True)\n",
        "\n",
        "# Initialize encoder and optimizer\n",
        "device = torch.device(\"cuda\" if torch.cuda.is_available() else \"cpu\")\n",
        "encoder = SimpleEncoder().to(device)\n",
        "optimizer = torch.optim.Adam(encoder.parameters(), lr=0.001)\n",
        "\n",
        "# Training loop\n",
        "for epoch in range(100):\n",
        "    epoch_loss = 0\n",
        "    for data, _ in dataloader:\n",
        "        data = data.to(device)\n",
        "        optimizer.zero_grad()\n",
        "\n",
        "        # Forward pass\n",
        "        features = encoder(data)\n",
        "        features = torch.cat([features, features], dim=0)  # Simulate positive pairs\n",
        "\n",
        "        # Compute loss and update weights\n",
        "        loss = contrastive_loss(features)\n",
        "        loss.backward()\n",
        "        optimizer.step()\n",
        "        epoch_loss += loss.item()\n",
        "\n",
        "    print(f'Epoch {epoch + 1}, Loss: {epoch_loss / len(dataloader):.4f}')"
      ]
    }
  ]
}