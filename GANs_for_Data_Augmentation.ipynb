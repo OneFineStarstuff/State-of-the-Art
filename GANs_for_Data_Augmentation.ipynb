{
  "nbformat": 4,
  "nbformat_minor": 0,
  "metadata": {
    "colab": {
      "private_outputs": true,
      "provenance": [],
      "authorship_tag": "ABX9TyNdhPWaHEiCGYBLKhWw7rb+",
      "include_colab_link": true
    },
    "kernelspec": {
      "name": "python3",
      "display_name": "Python 3"
    },
    "language_info": {
      "name": "python"
    }
  },
  "cells": [
    {
      "cell_type": "markdown",
      "metadata": {
        "id": "view-in-github",
        "colab_type": "text"
      },
      "source": [
        "<a href=\"https://colab.research.google.com/github/OneFineStarstuff/State-of-the-Art/blob/main/GANs_for_Data_Augmentation.ipynb\" target=\"_parent\"><img src=\"https://colab.research.google.com/assets/colab-badge.svg\" alt=\"Open In Colab\"/></a>"
      ]
    },
    {
      "cell_type": "code",
      "execution_count": null,
      "metadata": {
        "id": "mifgrR-ftCTC"
      },
      "outputs": [],
      "source": [
        "import torch\n",
        "import torch.nn as nn\n",
        "import torch.optim as optim\n",
        "from torchvision import datasets, transforms\n",
        "from torch.utils.data import DataLoader\n",
        "\n",
        "# Define the Generator class\n",
        "class Generator(nn.Module):\n",
        "    def __init__(self, input_dim, output_dim):\n",
        "        super(Generator, self).__init__()\n",
        "        self.net = nn.Sequential(\n",
        "            nn.Linear(input_dim, 128),\n",
        "            nn.ReLU(),\n",
        "            nn.Linear(128, output_dim),\n",
        "            nn.Tanh()\n",
        "        )\n",
        "\n",
        "    def forward(self, x):\n",
        "        return self.net(x)\n",
        "\n",
        "# Define the Discriminator class\n",
        "class Discriminator(nn.Module):\n",
        "    def __init__(self, input_dim):\n",
        "        super(Discriminator, self).__init__()\n",
        "        self.net = nn.Sequential(\n",
        "            nn.Linear(input_dim, 128),\n",
        "            nn.ReLU(),\n",
        "            nn.Linear(128, 1),\n",
        "            nn.Sigmoid()\n",
        "        )\n",
        "\n",
        "    def forward(self, x):\n",
        "        return self.net(x)\n",
        "\n",
        "# Example usage\n",
        "input_dim = 100\n",
        "output_dim = 28 * 28  # For MNIST images\n",
        "\n",
        "generator = Generator(input_dim, output_dim)\n",
        "discriminator = Discriminator(output_dim)\n",
        "\n",
        "optimizer_g = optim.Adam(generator.parameters(), lr=0.0002)\n",
        "optimizer_d = optim.Adam(discriminator.parameters(), lr=0.0002)\n",
        "criterion = nn.BCELoss()\n",
        "\n",
        "# MNIST dataset loading\n",
        "transform = transforms.Compose([transforms.ToTensor(), transforms.Normalize((0.5,), (0.5,))])\n",
        "mnist = datasets.MNIST(root='./data', train=True, transform=transform, download=True)\n",
        "data_loader = DataLoader(mnist, batch_size=64, shuffle=True)\n",
        "\n",
        "# Training loop\n",
        "num_epochs = 50\n",
        "for epoch in range(num_epochs):\n",
        "    for real_images, _ in data_loader:\n",
        "        batch_size = real_images.size(0)\n",
        "        real_images = real_images.view(batch_size, -1)\n",
        "\n",
        "        # Train the discriminator\n",
        "        labels_real = torch.ones(batch_size, 1)\n",
        "        labels_fake = torch.zeros(batch_size, 1)\n",
        "\n",
        "        outputs_real = discriminator(real_images)\n",
        "        d_loss_real = criterion(outputs_real, labels_real)\n",
        "\n",
        "        noise = torch.randn(batch_size, input_dim)\n",
        "        fake_images = generator(noise)\n",
        "        outputs_fake = discriminator(fake_images.detach())\n",
        "        d_loss_fake = criterion(outputs_fake, labels_fake)\n",
        "\n",
        "        d_loss = d_loss_real + d_loss_fake\n",
        "        optimizer_d.zero_grad()\n",
        "        d_loss.backward()\n",
        "        optimizer_d.step()\n",
        "\n",
        "        # Train the generator\n",
        "        outputs_fake = discriminator(fake_images)\n",
        "        g_loss = criterion(outputs_fake, labels_real)  # We want the fake images to be classified as real\n",
        "\n",
        "        optimizer_g.zero_grad()\n",
        "        g_loss.backward()\n",
        "        optimizer_g.step()\n",
        "\n",
        "    print(f'Epoch [{epoch+1}/{num_epochs}], d_loss: {d_loss.item():.4f}, g_loss: {g_loss.item():.4f}')"
      ]
    }
  ]
}