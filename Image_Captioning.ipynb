{
  "nbformat": 4,
  "nbformat_minor": 0,
  "metadata": {
    "colab": {
      "private_outputs": true,
      "provenance": [],
      "authorship_tag": "ABX9TyPfsZP1juz80BUrY1pQwjpy",
      "include_colab_link": true
    },
    "kernelspec": {
      "name": "python3",
      "display_name": "Python 3"
    },
    "language_info": {
      "name": "python"
    }
  },
  "cells": [
    {
      "cell_type": "markdown",
      "metadata": {
        "id": "view-in-github",
        "colab_type": "text"
      },
      "source": [
        "<a href=\"https://colab.research.google.com/github/OneFineStarstuff/State-of-the-Art/blob/main/Image_Captioning.ipynb\" target=\"_parent\"><img src=\"https://colab.research.google.com/assets/colab-badge.svg\" alt=\"Open In Colab\"/></a>"
      ]
    },
    {
      "cell_type": "code",
      "execution_count": null,
      "metadata": {
        "id": "Yf57rgvKSPzz"
      },
      "outputs": [],
      "source": [
        "import torch\n",
        "import torch.nn as nn\n",
        "\n",
        "# Define the Attention mechanism class\n",
        "class Attention(nn.Module):\n",
        "    def __init__(self, encoder_dim, decoder_dim, attention_dim):\n",
        "        super(Attention, self).__init__()\n",
        "        self.encoder_att = nn.Linear(encoder_dim, attention_dim)  # Linear layer for encoder output\n",
        "        self.decoder_att = nn.Linear(decoder_dim, attention_dim)  # Linear layer for decoder hidden state\n",
        "        self.full_att = nn.Linear(attention_dim, 1)  # Linear layer for attention score\n",
        "\n",
        "    def forward(self, encoder_out, decoder_hidden):\n",
        "        att1 = self.encoder_att(encoder_out)  # Apply linear layer to encoder output\n",
        "        att2 = self.decoder_att(decoder_hidden)  # Apply linear layer to decoder hidden state\n",
        "        att = self.full_att(torch.tanh(att1 + att2.unsqueeze(1)))  # Compute attention score\n",
        "        alpha = torch.softmax(att, dim=1)  # Compute attention weights\n",
        "        context = (encoder_out * alpha).sum(dim=1)  # Compute context vector\n",
        "        return context, alpha  # Return context vector and attention weights\n",
        "\n",
        "# Example instantiation and forward pass\n",
        "attention = Attention(encoder_dim=512, decoder_dim=256, attention_dim=128)\n",
        "encoder_out = torch.randn(32, 196, 512)  # Example encoder output (batch_size=32, seq_len=196, encoder_dim=512)\n",
        "decoder_hidden = torch.randn(32, 256)  # Example decoder hidden state (batch_size=32, decoder_dim=256)\n",
        "context, alpha = attention(encoder_out, decoder_hidden)\n",
        "\n",
        "# Print shapes of context vector and attention weights\n",
        "print(context.shape)  # Should be [32, 512]\n",
        "print(alpha.shape)  # Should be [32, 196, 1]"
      ]
    }
  ]
}