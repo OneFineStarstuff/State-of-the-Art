{
  "nbformat": 4,
  "nbformat_minor": 0,
  "metadata": {
    "colab": {
      "private_outputs": true,
      "provenance": [],
      "authorship_tag": "ABX9TyM1j8GXOifVURvs7ovNN6PI",
      "include_colab_link": true
    },
    "kernelspec": {
      "name": "python3",
      "display_name": "Python 3"
    },
    "language_info": {
      "name": "python"
    }
  },
  "cells": [
    {
      "cell_type": "markdown",
      "metadata": {
        "id": "view-in-github",
        "colab_type": "text"
      },
      "source": [
        "<a href=\"https://colab.research.google.com/github/OneFineStarstuff/State-of-the-Art/blob/main/Hypernetwork.ipynb\" target=\"_parent\"><img src=\"https://colab.research.google.com/assets/colab-badge.svg\" alt=\"Open In Colab\"/></a>"
      ]
    },
    {
      "cell_type": "code",
      "execution_count": null,
      "metadata": {
        "id": "Z92pifIBm72U"
      },
      "outputs": [],
      "source": [
        "import torch\n",
        "import torch.nn as nn\n",
        "import torch.optim as optim\n",
        "\n",
        "# Define the HyperNetwork class\n",
        "class HyperNetwork(nn.Module):\n",
        "    def __init__(self, input_dim, output_dim, hyper_dim):\n",
        "        super(HyperNetwork, self).__init__()\n",
        "        self.fc1 = nn.Linear(hyper_dim, input_dim * output_dim)  # Fully connected layer to generate weights\n",
        "\n",
        "    def forward(self, hyper_input):\n",
        "        weights = self.fc1(hyper_input).reshape(input_dim, output_dim)  # Generate and reshape weights\n",
        "        return weights\n",
        "\n",
        "# Define the TargetNetwork class\n",
        "class TargetNetwork(nn.Module):\n",
        "    def __init__(self, input_dim, output_dim):\n",
        "        super(TargetNetwork, self).__init__()\n",
        "        self.input_dim = input_dim\n",
        "        self.output_dim = output_dim\n",
        "\n",
        "    def forward(self, x, weights):\n",
        "        return torch.matmul(x, weights)  # Apply weights to input using matrix multiplication\n",
        "\n",
        "# Example usage\n",
        "input_dim = 10\n",
        "output_dim = 5\n",
        "hyper_dim = 8\n",
        "hyper_net = HyperNetwork(input_dim, output_dim, hyper_dim)  # Instantiate the HyperNetwork\n",
        "target_net = TargetNetwork(input_dim, output_dim)  # Instantiate the TargetNetwork\n",
        "\n",
        "hyper_input = torch.randn(hyper_dim)  # Generate random hyper-dimensional input\n",
        "weights = hyper_net(hyper_input)  # Generate weights using the HyperNetwork\n",
        "x = torch.randn(1, input_dim)  # Generate random input for the TargetNetwork\n",
        "output = target_net(x, weights)  # Apply the generated weights to the input\n",
        "print(output.shape)  # Expected shape: [1, output_dim]"
      ]
    }
  ]
}