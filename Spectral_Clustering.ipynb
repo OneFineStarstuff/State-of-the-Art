{
  "nbformat": 4,
  "nbformat_minor": 0,
  "metadata": {
    "colab": {
      "private_outputs": true,
      "provenance": [],
      "authorship_tag": "ABX9TyPQZ15la6X3BkXBCTACG/sp",
      "include_colab_link": true
    },
    "kernelspec": {
      "name": "python3",
      "display_name": "Python 3"
    },
    "language_info": {
      "name": "python"
    }
  },
  "cells": [
    {
      "cell_type": "markdown",
      "metadata": {
        "id": "view-in-github",
        "colab_type": "text"
      },
      "source": [
        "<a href=\"https://colab.research.google.com/github/OneFineStarstuff/State-of-the-Art/blob/main/Spectral_Clustering.ipynb\" target=\"_parent\"><img src=\"https://colab.research.google.com/assets/colab-badge.svg\" alt=\"Open In Colab\"/></a>"
      ]
    },
    {
      "cell_type": "code",
      "execution_count": null,
      "metadata": {
        "id": "Ic5SewHHM6K0"
      },
      "outputs": [],
      "source": [
        "from sklearn.cluster import SpectralClustering\n",
        "from sklearn.datasets import make_blobs\n",
        "\n",
        "# Generate sample data\n",
        "X, _ = make_blobs(n_samples=300, centers=4, cluster_std=0.5)\n",
        "\n",
        "# Initialize Spectral Clustering\n",
        "clustering = SpectralClustering(n_clusters=4, assign_labels='discretize', random_state=0).fit(X)\n",
        "\n",
        "# Print cluster labels\n",
        "print(clustering.labels_)"
      ]
    }
  ]
}