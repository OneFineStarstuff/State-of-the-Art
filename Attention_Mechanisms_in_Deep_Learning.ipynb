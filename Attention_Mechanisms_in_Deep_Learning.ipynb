{
  "nbformat": 4,
  "nbformat_minor": 0,
  "metadata": {
    "colab": {
      "private_outputs": true,
      "provenance": [],
      "authorship_tag": "ABX9TyMYzuw8UrLAO9glFYpUuoUB",
      "include_colab_link": true
    },
    "kernelspec": {
      "name": "python3",
      "display_name": "Python 3"
    },
    "language_info": {
      "name": "python"
    }
  },
  "cells": [
    {
      "cell_type": "markdown",
      "metadata": {
        "id": "view-in-github",
        "colab_type": "text"
      },
      "source": [
        "<a href=\"https://colab.research.google.com/github/OneFineStarstuff/State-of-the-Art/blob/main/Attention_Mechanisms_in_Deep_Learning.ipynb\" target=\"_parent\"><img src=\"https://colab.research.google.com/assets/colab-badge.svg\" alt=\"Open In Colab\"/></a>"
      ]
    },
    {
      "cell_type": "code",
      "execution_count": null,
      "metadata": {
        "id": "XJIhF6pkDiOA"
      },
      "outputs": [],
      "source": [
        "import torch\n",
        "import torch.nn as nn\n",
        "\n",
        "class Attention(nn.Module):\n",
        "    \"\"\"\n",
        "    Scaled Dot-Product Attention Mechanism.\n",
        "    Inputs:\n",
        "        query: (batch_size, seq_len, input_dim)\n",
        "        key: (batch_size, seq_len, input_dim)\n",
        "        value: (batch_size, seq_len, input_dim)\n",
        "    Outputs:\n",
        "        context: (batch_size, seq_len, input_dim)\n",
        "        attention_weights: (batch_size, seq_len, seq_len)\n",
        "    \"\"\"\n",
        "    def __init__(self, input_dim):\n",
        "        super(Attention, self).__init__()\n",
        "        self.query = nn.Linear(input_dim, input_dim)\n",
        "        self.key = nn.Linear(input_dim, input_dim)\n",
        "        self.value = nn.Linear(input_dim, input_dim)\n",
        "        self.softmax = nn.Softmax(dim=-1)\n",
        "\n",
        "        # Optional: Initialize weights\n",
        "        nn.init.xavier_uniform_(self.query.weight)\n",
        "        nn.init.xavier_uniform_(self.key.weight)\n",
        "        nn.init.xavier_uniform_(self.value.weight)\n",
        "\n",
        "    def forward(self, query, key, value, mask=None):\n",
        "        Q = self.query(query)\n",
        "        K = self.key(key)\n",
        "        V = self.value(value)\n",
        "\n",
        "        # Scaled dot-product attention\n",
        "        scores = torch.matmul(Q, K.transpose(-2, -1)) / torch.sqrt(torch.tensor(Q.size(-1), dtype=Q.dtype, device=Q.device))\n",
        "\n",
        "        # Apply masking (if provided)\n",
        "        if mask is not None:\n",
        "            scores = scores.masked_fill(mask == 0, float('-inf'))\n",
        "\n",
        "        attention_weights = self.softmax(scores)  # Normalize scores\n",
        "        context = torch.matmul(attention_weights, V)  # Compute context vectors\n",
        "        return context, attention_weights\n",
        "\n",
        "# Example usage\n",
        "attention_layer = Attention(input_dim=256)\n",
        "query = torch.randn(32, 10, 256)  # Batch size 32, sequence length 10, feature size 256\n",
        "key = torch.randn(32, 10, 256)\n",
        "value = torch.randn(32, 10, 256)\n",
        "context, attention_weights = attention_layer(query, key, value)\n",
        "print(\"Context shape:\", context.shape)  # Should be (32, 10, 256)\n",
        "print(\"Attention weights shape:\", attention_weights.shape)  # Should be (32, 10, 10)"
      ]
    }
  ]
}