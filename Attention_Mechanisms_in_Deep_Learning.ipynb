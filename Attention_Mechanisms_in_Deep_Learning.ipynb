{
  "nbformat": 4,
  "nbformat_minor": 0,
  "metadata": {
    "colab": {
      "private_outputs": true,
      "provenance": [],
      "authorship_tag": "ABX9TyPrmUr1Vuwh2rRken4hDfw9",
      "include_colab_link": true
    },
    "kernelspec": {
      "name": "python3",
      "display_name": "Python 3"
    },
    "language_info": {
      "name": "python"
    }
  },
  "cells": [
    {
      "cell_type": "markdown",
      "metadata": {
        "id": "view-in-github",
        "colab_type": "text"
      },
      "source": [
        "<a href=\"https://colab.research.google.com/github/OneFineStarstuff/State-of-the-Art/blob/main/Attention_Mechanisms_in_Deep_Learning.ipynb\" target=\"_parent\"><img src=\"https://colab.research.google.com/assets/colab-badge.svg\" alt=\"Open In Colab\"/></a>"
      ]
    },
    {
      "cell_type": "code",
      "execution_count": null,
      "metadata": {
        "id": "uaMzjOguUldB"
      },
      "outputs": [],
      "source": [
        "import torch\n",
        "import torch.nn as nn\n",
        "\n",
        "class Attention(nn.Module):\n",
        "    def __init__(self, hidden_dim):\n",
        "        super(Attention, self).__init__()\n",
        "        self.attn = nn.Linear(hidden_dim * 2, hidden_dim)  # Combine hidden and encoder outputs\n",
        "        self.score = nn.Linear(hidden_dim, 1, bias=False)  # Compute attention scores\n",
        "\n",
        "    def forward(self, hidden, encoder_outputs):\n",
        "        # Expand hidden to match encoder outputs\n",
        "        hidden = hidden.unsqueeze(1).repeat(1, encoder_outputs.size(1), 1)  # (batch, seq_len, hidden_dim)\n",
        "        combined = torch.cat((hidden, encoder_outputs), dim=2)  # (batch, seq_len, hidden_dim*2)\n",
        "\n",
        "        # Compute attention scores\n",
        "        energy = torch.tanh(self.attn(combined))  # (batch, seq_len, hidden_dim)\n",
        "        scores = self.score(energy).squeeze(-1)  # (batch, seq_len)\n",
        "\n",
        "        # Convert scores to probabilities\n",
        "        attention_weights = torch.softmax(scores, dim=1)  # (batch, seq_len)\n",
        "\n",
        "        # Weighted sum of encoder outputs\n",
        "        context = torch.bmm(attention_weights.unsqueeze(1), encoder_outputs)  # (batch, 1, hidden_dim)\n",
        "        return context.squeeze(1), attention_weights  # (batch, hidden_dim), (batch, seq_len)\n",
        "\n",
        "class Seq2SeqWithAttention(nn.Module):\n",
        "    def __init__(self, input_dim, output_dim, hidden_dim):\n",
        "        super(Seq2SeqWithAttention, self).__init__()\n",
        "        self.hidden_dim = hidden_dim\n",
        "        self.encoder = nn.LSTM(input_dim, hidden_dim, batch_first=True)\n",
        "        self.decoder = nn.LSTMCell(hidden_dim + output_dim, hidden_dim)\n",
        "        self.attn = Attention(hidden_dim)\n",
        "        self.fc_out = nn.Linear(hidden_dim, output_dim)\n",
        "\n",
        "    def forward(self, input_seq, target_seq):\n",
        "        # Encode the input sequence\n",
        "        encoder_outputs, (hidden, cell) = self.encoder(input_seq)  # (batch, seq_len, hidden_dim)\n",
        "\n",
        "        # Initialize decoder inputs\n",
        "        batch_size = input_seq.size(0)\n",
        "        target_len = target_seq.size(1)\n",
        "        outputs = torch.zeros(batch_size, target_len, self.fc_out.out_features).to(input_seq.device)\n",
        "        decoder_input = target_seq[:, 0, :]  # Assume the first token as <SOS>\n",
        "\n",
        "        # Decode one step at a time\n",
        "        for t in range(1, target_len):\n",
        "            context, _ = self.attn(hidden[-1], encoder_outputs)  # (batch, hidden_dim)\n",
        "            decoder_input_combined = torch.cat((decoder_input, context), dim=1)  # (batch, hidden_dim + output_dim)\n",
        "            hidden, cell = self.decoder(decoder_input_combined, (hidden[-1], cell[-1]))\n",
        "            outputs[:, t, :] = self.fc_out(hidden)  # Store output for this timestep\n",
        "            decoder_input = target_seq[:, t, :]  # Teacher forcing: Use the next target token as input\n",
        "\n",
        "        return outputs"
      ]
    }
  ]
}