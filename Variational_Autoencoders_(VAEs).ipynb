{
  "nbformat": 4,
  "nbformat_minor": 0,
  "metadata": {
    "colab": {
      "private_outputs": true,
      "provenance": [],
      "authorship_tag": "ABX9TyNCiVa+feKlJfY4VyJSMmqM",
      "include_colab_link": true
    },
    "kernelspec": {
      "name": "python3",
      "display_name": "Python 3"
    },
    "language_info": {
      "name": "python"
    }
  },
  "cells": [
    {
      "cell_type": "markdown",
      "metadata": {
        "id": "view-in-github",
        "colab_type": "text"
      },
      "source": [
        "<a href=\"https://colab.research.google.com/github/OneFineStarstuff/State-of-the-Art/blob/main/Variational_Autoencoders_(VAEs).ipynb\" target=\"_parent\"><img src=\"https://colab.research.google.com/assets/colab-badge.svg\" alt=\"Open In Colab\"/></a>"
      ]
    },
    {
      "cell_type": "code",
      "execution_count": null,
      "metadata": {
        "id": "nSwXjmuBQnnf"
      },
      "outputs": [],
      "source": [
        "import torch\n",
        "import torch.nn as nn\n",
        "import torch.optim as optim\n",
        "from torchvision import datasets, transforms\n",
        "from torch.utils.data import DataLoader\n",
        "\n",
        "# Define the VAE class\n",
        "class VAE(nn.Module):\n",
        "    def __init__(self, input_dim, hidden_dim, latent_dim):\n",
        "        super(VAE, self).__init__()\n",
        "        self.encoder = nn.Sequential(\n",
        "            nn.Linear(input_dim, hidden_dim),  # Encoder layer\n",
        "            nn.ReLU()  # ReLU activation\n",
        "        )\n",
        "        self.fc_mu = nn.Linear(hidden_dim, latent_dim)  # Linear layer for mean\n",
        "        self.fc_logvar = nn.Linear(hidden_dim, latent_dim)  # Linear layer for log-variance\n",
        "        self.decoder = nn.Sequential(\n",
        "            nn.Linear(latent_dim, hidden_dim),  # Decoder layer\n",
        "            nn.ReLU(),  # ReLU activation\n",
        "            nn.Linear(hidden_dim, input_dim),  # Output layer\n",
        "            nn.Sigmoid()  # Sigmoid activation\n",
        "        )\n",
        "\n",
        "    def reparameterize(self, mu, logvar):\n",
        "        std = torch.exp(0.5 * logvar)\n",
        "        eps = torch.randn_like(std)\n",
        "        return mu + eps * std\n",
        "\n",
        "    def forward(self, x):\n",
        "        h = self.encoder(x)\n",
        "        mu = self.fc_mu(h)\n",
        "        logvar = self.fc_logvar(h)\n",
        "        z = self.reparameterize(mu, logvar)\n",
        "        return self.decoder(z), mu, logvar\n",
        "\n",
        "# Define the loss function for VAE\n",
        "def loss_function(recon_x, x, mu, logvar):\n",
        "    BCE = nn.functional.binary_cross_entropy(recon_x, x, reduction='sum')\n",
        "    KLD = -0.5 * torch.sum(1 + logvar - mu.pow(2) - logvar.exp())\n",
        "    return BCE + KLD\n",
        "\n",
        "# Define the train_vae function\n",
        "def train_vae(vae, dataloader, epochs):\n",
        "    optimizer = optim.Adam(vae.parameters(), lr=0.001)  # Adam optimizer\n",
        "\n",
        "    for epoch in range(epochs):\n",
        "        for data, _ in dataloader:\n",
        "            data = data.view(data.size(0), -1)  # Flatten the images\n",
        "            data = (data + 1) / 2  # Rescale to [0, 1]\n",
        "            optimizer.zero_grad()\n",
        "            recon_data, mu, logvar = vae(data)  # Forward pass\n",
        "            loss = loss_function(recon_data, data, mu, logvar)  # Compute the loss\n",
        "            loss.backward()  # Backpropagate the loss\n",
        "            optimizer.step()  # Update the model parameters\n",
        "\n",
        "        print(f'Epoch [{epoch + 1}/{epochs}], Loss: {loss.item():.4f}')\n",
        "\n",
        "# Example usage\n",
        "vae = VAE(input_dim=784, hidden_dim=128, latent_dim=20)\n",
        "\n",
        "# Define the transformation for the dataset\n",
        "transform = transforms.Compose([\n",
        "    transforms.ToTensor(),\n",
        "    transforms.Normalize((0.5,), (0.5,))\n",
        "])\n",
        "\n",
        "# Load the MNIST dataset\n",
        "dataset = datasets.MNIST(root='mnist_data', train=True, transform=transform, download=True)\n",
        "dataloader = DataLoader(dataset, batch_size=64, shuffle=True)\n",
        "\n",
        "# Train the VAE\n",
        "train_vae(vae, dataloader, epochs=20)"
      ]
    }
  ]
}