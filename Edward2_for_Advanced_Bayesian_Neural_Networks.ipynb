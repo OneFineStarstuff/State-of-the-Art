{
  "nbformat": 4,
  "nbformat_minor": 0,
  "metadata": {
    "colab": {
      "private_outputs": true,
      "provenance": [],
      "authorship_tag": "ABX9TyOSDvGMLN4yZ2XMjIhwnmYz",
      "include_colab_link": true
    },
    "kernelspec": {
      "name": "python3",
      "display_name": "Python 3"
    },
    "language_info": {
      "name": "python"
    }
  },
  "cells": [
    {
      "cell_type": "markdown",
      "metadata": {
        "id": "view-in-github",
        "colab_type": "text"
      },
      "source": [
        "<a href=\"https://colab.research.google.com/github/OneFineStarstuff/State-of-the-Art/blob/main/Edward2_for_Advanced_Bayesian_Neural_Networks.ipynb\" target=\"_parent\"><img src=\"https://colab.research.google.com/assets/colab-badge.svg\" alt=\"Open In Colab\"/></a>"
      ]
    },
    {
      "cell_type": "code",
      "source": [
        "pip install edward2"
      ],
      "metadata": {
        "id": "UcJ7zVgk-D0i"
      },
      "execution_count": null,
      "outputs": []
    },
    {
      "cell_type": "code",
      "source": [
        "import edward2 as ed\n",
        "import tensorflow as tf\n",
        "\n",
        "def bayesian_neural_network(x):\n",
        "    x = tf.keras.layers.Flatten()(x)\n",
        "    x = ed.layers.DenseFlipout(128, activation=\"relu\")(x)\n",
        "    x = ed.layers.DenseFlipout(10)(x)\n",
        "    return x\n",
        "\n",
        "model = tf.keras.Sequential([\n",
        "    tf.keras.layers.InputLayer(input_shape=(28, 28, 1)),\n",
        "    bayesian_neural_network\n",
        "])\n",
        "\n",
        "model.compile(optimizer='adam', loss=tf.keras.losses.SparseCategoricalCrossentropy(from_logits=True))"
      ],
      "metadata": {
        "id": "qG7k3R4eALwv"
      },
      "execution_count": null,
      "outputs": []
    },
    {
      "cell_type": "code",
      "source": [
        "pip install tensorflow-probability"
      ],
      "metadata": {
        "id": "pylS_pKw-UBk"
      },
      "execution_count": null,
      "outputs": []
    },
    {
      "cell_type": "code",
      "execution_count": null,
      "metadata": {
        "id": "BWmvgQuR9tr6"
      },
      "outputs": [],
      "source": [
        "import tensorflow as tf\n",
        "import tensorflow_probability as tfp\n",
        "\n",
        "tfd = tfp.distributions\n",
        "tfpl = tfp.layers\n",
        "\n",
        "# Define the Bayesian neural network using the Functional API\n",
        "inputs = tf.keras.Input(shape=(28, 28, 1))\n",
        "x = tf.keras.layers.Flatten()(inputs)\n",
        "x = tfpl.DenseFlipout(128, activation=\"relu\")(x)\n",
        "outputs = tfpl.DenseFlipout(10)(x)\n",
        "\n",
        "model = tf.keras.Model(inputs=inputs, outputs=outputs)\n",
        "\n",
        "model.compile(optimizer='adam', loss=tf.keras.losses.SparseCategoricalCrossentropy(from_logits=True))\n",
        "\n",
        "# Summary of the model\n",
        "model.summary()"
      ]
    },
    {
      "cell_type": "code",
      "source": [
        "pip install tensorflow==2.13.0 tensorflow-probability==0.20.0"
      ],
      "metadata": {
        "id": "SqYsy3xL_fqJ"
      },
      "execution_count": null,
      "outputs": []
    }
  ]
}