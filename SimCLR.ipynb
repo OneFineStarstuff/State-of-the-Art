{
  "nbformat": 4,
  "nbformat_minor": 0,
  "metadata": {
    "colab": {
      "private_outputs": true,
      "provenance": [],
      "authorship_tag": "ABX9TyOKREgxso13xWZLyMoLR8wg",
      "include_colab_link": true
    },
    "kernelspec": {
      "name": "python3",
      "display_name": "Python 3"
    },
    "language_info": {
      "name": "python"
    }
  },
  "cells": [
    {
      "cell_type": "markdown",
      "metadata": {
        "id": "view-in-github",
        "colab_type": "text"
      },
      "source": [
        "<a href=\"https://colab.research.google.com/github/OneFineStarstuff/State-of-the-Art/blob/main/SimCLR.ipynb\" target=\"_parent\"><img src=\"https://colab.research.google.com/assets/colab-badge.svg\" alt=\"Open In Colab\"/></a>"
      ]
    },
    {
      "cell_type": "code",
      "execution_count": null,
      "metadata": {
        "id": "naaHU3QLB1hO"
      },
      "outputs": [],
      "source": [
        "import torch\n",
        "import torch.nn as nn\n",
        "import torchvision.transforms as transforms\n",
        "from torchvision.models import resnet50\n",
        "from torch.utils.data import DataLoader, Dataset\n",
        "import torchvision.datasets as datasets\n",
        "import numpy as np\n",
        "\n",
        "# Device configuration\n",
        "device = torch.device(\"cuda\" if torch.cuda.is_available() else \"cpu\")\n",
        "\n",
        "# Define a stronger transformation pipeline\n",
        "transform = transforms.Compose([\n",
        "    transforms.RandomResizedCrop(size=224),\n",
        "    transforms.RandomHorizontalFlip(),\n",
        "    transforms.ColorJitter(brightness=0.4, contrast=0.4, saturation=0.4, hue=0.1),\n",
        "    transforms.RandomGrayscale(p=0.2),\n",
        "    transforms.GaussianBlur(kernel_size=3),\n",
        "    transforms.ToTensor(),\n",
        "    transforms.Normalize(mean=[0.485, 0.456, 0.406], std=[0.229, 0.224, 0.225])\n",
        "])\n",
        "\n",
        "# Load dataset\n",
        "dataset = datasets.CIFAR10(root='./data', transform=transform, download=True)\n",
        "dataloader = DataLoader(dataset, batch_size=256, shuffle=True, num_workers=4)\n",
        "\n",
        "# Define the SimCLR model\n",
        "class SimCLR(nn.Module):\n",
        "    def __init__(self, base_model, projection_dim=128):\n",
        "        super(SimCLR, self).__init__()\n",
        "        self.backbone = base_model(weights=None)\n",
        "        self.backbone_fc_in_features = self.backbone.fc.in_features\n",
        "        self.backbone.fc = nn.Identity()\n",
        "        self.projection = nn.Sequential(\n",
        "            nn.Linear(self.backbone_fc_in_features, 512),\n",
        "            nn.ReLU(),\n",
        "            nn.Linear(512, projection_dim)\n",
        "        )\n",
        "\n",
        "    def forward(self, x):\n",
        "        h = self.backbone(x)\n",
        "        z = self.projection(h)\n",
        "        return h, z\n",
        "\n",
        "# Initialize the model\n",
        "model = SimCLR(base_model=resnet50).to(device)\n",
        "optimizer = torch.optim.Adam(model.parameters(), lr=0.001)\n",
        "criterion = nn.CrossEntropyLoss()\n",
        "\n",
        "# Contrastive learning loss (NT-Xent)\n",
        "def nt_xent_loss(out_1, out_2, temperature=0.5):\n",
        "    batch_size = out_1.shape[0]\n",
        "    out = torch.cat([out_1, out_2], dim=0)\n",
        "    sim_matrix = torch.exp(torch.mm(out, out.t().contiguous()) / temperature)\n",
        "    mask = (torch.ones_like(sim_matrix) - torch.eye(2 * batch_size, device=sim_matrix.device)).bool()\n",
        "    sim_matrix = sim_matrix.masked_select(mask).view(2 * batch_size, -1)\n",
        "\n",
        "    positive_samples = torch.exp(torch.sum(out_1 * out_2, dim=-1) / temperature)\n",
        "    positive_samples = torch.cat([positive_samples, positive_samples], dim=0)\n",
        "    loss = -torch.log(positive_samples / sim_matrix.sum(dim=-1))\n",
        "    return loss.mean()\n",
        "\n",
        "# Training loop\n",
        "for epoch in range(100):\n",
        "    for img1, img2 in dataloader:\n",
        "        img1, img2 = img1.to(device), img2.to(device)\n",
        "        _, out1 = model(img1)\n",
        "        _, out2 = model(img2)\n",
        "        loss = nt_xent_loss(out1, out2)\n",
        "        optimizer.zero_grad()\n",
        "        loss.backward()\n",
        "        optimizer.step()\n",
        "    print(f\"Epoch {epoch+1}, Loss: {loss.item()}\")\n",
        "\n",
        "# Save the model checkpoint\n",
        "torch.save(model.state_dict(), 'simclr_model.pth')\n",
        "\n",
        "# Load the model checkpoint\n",
        "model.load_state_dict(torch.load('simclr_model.pth'))"
      ]
    }
  ]
}