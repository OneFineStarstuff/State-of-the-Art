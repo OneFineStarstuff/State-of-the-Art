{
  "nbformat": 4,
  "nbformat_minor": 0,
  "metadata": {
    "colab": {
      "private_outputs": true,
      "provenance": [],
      "authorship_tag": "ABX9TyOVvvhFbMAtHfeVxBiY7KrK",
      "include_colab_link": true
    },
    "kernelspec": {
      "name": "python3",
      "display_name": "Python 3"
    },
    "language_info": {
      "name": "python"
    }
  },
  "cells": [
    {
      "cell_type": "markdown",
      "metadata": {
        "id": "view-in-github",
        "colab_type": "text"
      },
      "source": [
        "<a href=\"https://colab.research.google.com/github/OneFineStarstuff/State-of-the-Art/blob/main/Meta_Learning_(MAML).ipynb\" target=\"_parent\"><img src=\"https://colab.research.google.com/assets/colab-badge.svg\" alt=\"Open In Colab\"/></a>"
      ]
    },
    {
      "cell_type": "code",
      "execution_count": null,
      "metadata": {
        "id": "pzL0kZtWp0kz"
      },
      "outputs": [],
      "source": [
        "import torch\n",
        "import torch.nn as nn\n",
        "import torch.optim as optim\n",
        "\n",
        "# Define the SimpleModel class\n",
        "class SimpleModel(nn.Module):\n",
        "    def __init__(self, input_dim, output_dim):\n",
        "        super(SimpleModel, self).__init__()\n",
        "        self.fc = nn.Linear(input_dim, output_dim)  # Fully connected layer\n",
        "\n",
        "    def forward(self, x):\n",
        "        return self.fc(x)  # Apply the linear transformation\n",
        "\n",
        "# Define the train_maml function\n",
        "def train_maml(model, data, labels, inner_steps=5, outer_lr=0.01):\n",
        "    criterion = nn.CrossEntropyLoss()  # Loss function\n",
        "    optimizer = optim.SGD(model.parameters(), lr=outer_lr)  # Outer optimizer\n",
        "\n",
        "    for _ in range(inner_steps):\n",
        "        inner_optimizer = optim.SGD(model.parameters(), lr=0.01)  # Inner optimizer\n",
        "        inner_optimizer.zero_grad()  # Zero the gradients for the inner optimizer\n",
        "        output = model(data)  # Forward pass\n",
        "        loss = criterion(output, labels)  # Compute the loss\n",
        "        loss.backward()  # Backpropagate the loss\n",
        "        inner_optimizer.step()  # Update the model parameters with the inner optimizer\n",
        "\n",
        "    optimizer.step()  # Update the model parameters with the outer optimizer\n",
        "\n",
        "# Example usage\n",
        "model = SimpleModel(input_dim=10, output_dim=2)  # Instantiate the model\n",
        "data = torch.randn(32, 10)  # Generate random data\n",
        "labels = torch.randint(0, 2, (32,))  # Generate random labels\n",
        "train_maml(model, data, labels)  # Perform meta-learning updates\n",
        "print(\"Meta-learning model updated.\")"
      ]
    }
  ]
}