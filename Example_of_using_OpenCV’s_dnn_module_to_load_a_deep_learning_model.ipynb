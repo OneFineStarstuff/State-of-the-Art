{
  "nbformat": 4,
  "nbformat_minor": 0,
  "metadata": {
    "colab": {
      "private_outputs": true,
      "provenance": [],
      "authorship_tag": "ABX9TyMur/vyqkwYNU7qcSjex0QV",
      "include_colab_link": true
    },
    "kernelspec": {
      "name": "python3",
      "display_name": "Python 3"
    },
    "language_info": {
      "name": "python"
    }
  },
  "cells": [
    {
      "cell_type": "markdown",
      "metadata": {
        "id": "view-in-github",
        "colab_type": "text"
      },
      "source": [
        "<a href=\"https://colab.research.google.com/github/OneFineStarstuff/State-of-the-Art/blob/main/Example_of_using_OpenCV%E2%80%99s_dnn_module_to_load_a_deep_learning_model.ipynb\" target=\"_parent\"><img src=\"https://colab.research.google.com/assets/colab-badge.svg\" alt=\"Open In Colab\"/></a>"
      ]
    },
    {
      "cell_type": "code",
      "execution_count": null,
      "metadata": {
        "id": "oXy_P1qbSFm7"
      },
      "outputs": [],
      "source": [
        "import cv2\n",
        "import numpy as np\n",
        "\n",
        "# Load the model\n",
        "net = cv2.dnn.readNetFromCaffe('deploy.prototxt', 'res10_300x300_ssd_iter_140000.caffemodel')\n",
        "\n",
        "# Load image and convert it to a blob\n",
        "image = cv2.imread('path/to/your/image.jpg')\n",
        "blob = cv2.dnn.blobFromImage(image, 1.0, (300, 300), (104.0, 177.0, 123.0))\n",
        "\n",
        "# Perform forward pass\n",
        "net.setInput(blob)\n",
        "detections = net.forward()\n",
        "\n",
        "# Draw detections on the image\n",
        "for i in range(detections.shape[2]):\n",
        "    confidence = detections[0, 0, i, 2]\n",
        "    if confidence > 0.5:\n",
        "        box = detections[0, 0, i, 3:7] * np.array([image.shape[1], image.shape[0], image.shape[1], image.shape[0]])\n",
        "        (startX, startY, endX, endY) = box.astype(\"int\")\n",
        "        cv2.rectangle(image, (startX, startY), (endX, endY), (0, 255, 0), 2)\n",
        "\n",
        "cv2.imshow(\"Output\", image)\n",
        "cv2.waitKey(0)\n",
        "cv2.destroyAllWindows()"
      ]
    }
  ]
}