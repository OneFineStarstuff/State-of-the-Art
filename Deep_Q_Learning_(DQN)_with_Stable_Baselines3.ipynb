{
  "nbformat": 4,
  "nbformat_minor": 0,
  "metadata": {
    "colab": {
      "private_outputs": true,
      "provenance": [],
      "authorship_tag": "ABX9TyOfUY5qfEp75Ckfbas04Eac",
      "include_colab_link": true
    },
    "kernelspec": {
      "name": "python3",
      "display_name": "Python 3"
    },
    "language_info": {
      "name": "python"
    }
  },
  "cells": [
    {
      "cell_type": "markdown",
      "metadata": {
        "id": "view-in-github",
        "colab_type": "text"
      },
      "source": [
        "<a href=\"https://colab.research.google.com/github/OneFineStarstuff/State-of-the-Art/blob/main/Deep_Q_Learning_(DQN)_with_Stable_Baselines3.ipynb\" target=\"_parent\"><img src=\"https://colab.research.google.com/assets/colab-badge.svg\" alt=\"Open In Colab\"/></a>"
      ]
    },
    {
      "cell_type": "code",
      "execution_count": null,
      "metadata": {
        "id": "4ruJIaqlz5CG"
      },
      "outputs": [],
      "source": [
        "pip install stable_baselines3"
      ]
    },
    {
      "cell_type": "code",
      "source": [
        "pip install 'shimmy>=2.0'"
      ],
      "metadata": {
        "id": "cMVj7UvY0VWi"
      },
      "execution_count": null,
      "outputs": []
    },
    {
      "cell_type": "code",
      "source": [
        "import gymnasium as gym\n",
        "from stable_baselines3 import DQN\n",
        "\n",
        "# Create the environment using Gymnasium\n",
        "env = gym.make('CartPole-v1')\n",
        "\n",
        "# Initialize the DQN model\n",
        "model = DQN('MlpPolicy', env, verbose=1)\n",
        "\n",
        "# Train the model\n",
        "model.learn(total_timesteps=10000)\n",
        "\n",
        "# Run the trained model\n",
        "obs, info = env.reset()  # Gymnasium returns two values when resetting the environment\n",
        "for _ in range(1000):\n",
        "    action, _states = model.predict(obs, deterministic=True)\n",
        "    obs, reward, terminated, truncated, info = env.step(action)\n",
        "    done = terminated or truncated  # Combine terminated and truncated to handle episode end\n",
        "    if done:\n",
        "        obs, info = env.reset()\n",
        "\n",
        "# Close the environment\n",
        "env.close()"
      ],
      "metadata": {
        "id": "GiUy-mWr0ABS"
      },
      "execution_count": null,
      "outputs": []
    }
  ]
}