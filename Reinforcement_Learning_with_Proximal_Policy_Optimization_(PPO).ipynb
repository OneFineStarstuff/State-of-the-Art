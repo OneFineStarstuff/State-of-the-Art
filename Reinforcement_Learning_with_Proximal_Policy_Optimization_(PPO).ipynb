{
  "nbformat": 4,
  "nbformat_minor": 0,
  "metadata": {
    "colab": {
      "private_outputs": true,
      "provenance": [],
      "authorship_tag": "ABX9TyOkPotxaSyNPnPGSh6wR3Hw",
      "include_colab_link": true
    },
    "kernelspec": {
      "name": "python3",
      "display_name": "Python 3"
    },
    "language_info": {
      "name": "python"
    }
  },
  "cells": [
    {
      "cell_type": "markdown",
      "metadata": {
        "id": "view-in-github",
        "colab_type": "text"
      },
      "source": [
        "<a href=\"https://colab.research.google.com/github/OneFineStarstuff/State-of-the-Art/blob/main/Reinforcement_Learning_with_Proximal_Policy_Optimization_(PPO).ipynb\" target=\"_parent\"><img src=\"https://colab.research.google.com/assets/colab-badge.svg\" alt=\"Open In Colab\"/></a>"
      ]
    },
    {
      "cell_type": "code",
      "source": [
        "pip install gymnasium stable-baselines3"
      ],
      "metadata": {
        "id": "rfe-fu7EstCZ"
      },
      "execution_count": null,
      "outputs": []
    },
    {
      "cell_type": "code",
      "source": [
        "pip install 'shimmy>=2.0'"
      ],
      "metadata": {
        "id": "LadVQ1FatUBr"
      },
      "execution_count": null,
      "outputs": []
    },
    {
      "cell_type": "code",
      "source": [
        "import gymnasium as gym  # Import gymnasium instead of gym\n",
        "from stable_baselines3 import PPO\n",
        "\n",
        "# Create the environment using gymnasium\n",
        "env = gym.make(\"CartPole-v1\")\n",
        "\n",
        "# Instantiate the PPO agent\n",
        "model = PPO(\"MlpPolicy\", env, verbose=1)\n",
        "\n",
        "# Train the agent\n",
        "model.learn(total_timesteps=10000)\n",
        "\n",
        "# Save the trained model\n",
        "model.save(\"ppo_cartpole\")\n",
        "print(\"Model saved as ppo_cartpole\")\n",
        "\n",
        "# Load the trained model for evaluation\n",
        "model = PPO.load(\"ppo_cartpole\", env)\n",
        "\n",
        "# Evaluate the trained agent with rendering and reward logging\n",
        "obs, info = env.reset()  # Gymnasium's reset method returns (obs, info)\n",
        "total_reward = 0\n",
        "\n",
        "print(\"\\nEvaluating the trained agent...\")\n",
        "for step in range(1000):\n",
        "    env.render()  # Render the environment to visualize agent behavior\n",
        "    action, _ = model.predict(obs)  # Predict the next action based on observation\n",
        "    obs, reward, done, truncated, info = env.step(action)  # Gymnasium's step includes \"truncated\"\n",
        "    total_reward += reward\n",
        "    if done or truncated:  # Reset environment on episode end\n",
        "        print(f\"Episode Reward: {total_reward}\")\n",
        "        total_reward = 0\n",
        "        obs, info = env.reset()  # Reset also returns (obs, info)\n",
        "\n",
        "env.close()  # Close the rendering window\n",
        "print(\"Evaluation complete!\")"
      ],
      "metadata": {
        "id": "LJthKGlPuO5a"
      },
      "execution_count": null,
      "outputs": []
    }
  ]
}