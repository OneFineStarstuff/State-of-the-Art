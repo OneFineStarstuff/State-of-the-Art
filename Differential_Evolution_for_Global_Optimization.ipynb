{
  "nbformat": 4,
  "nbformat_minor": 0,
  "metadata": {
    "colab": {
      "private_outputs": true,
      "provenance": [],
      "authorship_tag": "ABX9TyNTqhdQkwDBX7tkxMYkmzW9",
      "include_colab_link": true
    },
    "kernelspec": {
      "name": "python3",
      "display_name": "Python 3"
    },
    "language_info": {
      "name": "python"
    }
  },
  "cells": [
    {
      "cell_type": "markdown",
      "metadata": {
        "id": "view-in-github",
        "colab_type": "text"
      },
      "source": [
        "<a href=\"https://colab.research.google.com/github/OneFineStarstuff/State-of-the-Art/blob/main/Differential_Evolution_for_Global_Optimization.ipynb\" target=\"_parent\"><img src=\"https://colab.research.google.com/assets/colab-badge.svg\" alt=\"Open In Colab\"/></a>"
      ]
    },
    {
      "cell_type": "code",
      "execution_count": null,
      "metadata": {
        "id": "EBo4qrbGKZyx"
      },
      "outputs": [],
      "source": [
        "from scipy.optimize import differential_evolution\n",
        "\n",
        "# Define the objective function\n",
        "def objective_function(x):\n",
        "    return x[0]**2 + x[1]**2 + x[2]**2\n",
        "\n",
        "# Define bounds for the variables\n",
        "bounds = [(-10, 10), (-10, 10), (-10, 10)]\n",
        "\n",
        "# Perform the optimization\n",
        "result = differential_evolution(objective_function, bounds)\n",
        "\n",
        "# Print the results\n",
        "print(\"Optimal value:\", result.fun)\n",
        "print(\"Optimal solution:\", result.x)"
      ]
    }
  ]
}