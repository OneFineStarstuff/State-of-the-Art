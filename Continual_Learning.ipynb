{
  "nbformat": 4,
  "nbformat_minor": 0,
  "metadata": {
    "colab": {
      "private_outputs": true,
      "provenance": [],
      "authorship_tag": "ABX9TyOk3axE/DAvhRtFioQypN59",
      "include_colab_link": true
    },
    "kernelspec": {
      "name": "python3",
      "display_name": "Python 3"
    },
    "language_info": {
      "name": "python"
    }
  },
  "cells": [
    {
      "cell_type": "markdown",
      "metadata": {
        "id": "view-in-github",
        "colab_type": "text"
      },
      "source": [
        "<a href=\"https://colab.research.google.com/github/OneFineStarstuff/State-of-the-Art/blob/main/Continual_Learning.ipynb\" target=\"_parent\"><img src=\"https://colab.research.google.com/assets/colab-badge.svg\" alt=\"Open In Colab\"/></a>"
      ]
    },
    {
      "cell_type": "code",
      "execution_count": null,
      "metadata": {
        "id": "6T-YBWtJcbyx"
      },
      "outputs": [],
      "source": [
        "import torch\n",
        "import torch.nn as nn\n",
        "import torch.optim as optim\n",
        "from torch.utils.data import DataLoader, TensorDataset\n",
        "\n",
        "class SimpleNet(nn.Module):\n",
        "    def __init__(self, input_size, hidden_size, output_size):\n",
        "        super(SimpleNet, self).__init__()\n",
        "        self.fc1 = nn.Linear(input_size, hidden_size)\n",
        "        self.fc2 = nn.Linear(hidden_size, output_size)\n",
        "\n",
        "    def forward(self, x):\n",
        "        x = torch.relu(self.fc1(x))\n",
        "        return self.fc2(x)\n",
        "\n",
        "def compute_fisher(model, data_loader, optimizer):\n",
        "    fisher = {}\n",
        "    for name, param in model.named_parameters():\n",
        "        fisher[name] = torch.zeros_like(param)\n",
        "\n",
        "    model.train()\n",
        "    for data, target in data_loader:\n",
        "        optimizer.zero_grad()\n",
        "        output = model(data)\n",
        "        loss = ((output - target) ** 2).mean()\n",
        "        loss.backward()\n",
        "        for name, param in model.named_parameters():\n",
        "            fisher[name] += param.grad.data ** 2 / len(data_loader)\n",
        "\n",
        "    return fisher\n",
        "\n",
        "def ewc_loss(model, fisher, old_params, lambda_ewc=0.4):\n",
        "    loss = 0\n",
        "    for name, param in model.named_parameters():\n",
        "        loss += (fisher[name] * (param - old_params[name]) ** 2).sum()\n",
        "    return loss * lambda_ewc\n",
        "\n",
        "model = SimpleNet(input_size=2, hidden_size=10, output_size=1)\n",
        "optimizer = optim.SGD(model.parameters(), lr=0.01)\n",
        "\n",
        "# First task training\n",
        "data = torch.tensor([[1, 2], [3, 4]], dtype=torch.float32)\n",
        "target = torch.tensor([[1], [0]], dtype=torch.float32)\n",
        "dataset = TensorDataset(data, target)\n",
        "loader = DataLoader(dataset, batch_size=2)\n",
        "\n",
        "model.train()\n",
        "for epoch in range(10):\n",
        "    for batch_idx, (data, target) in enumerate(loader):\n",
        "        optimizer.zero_grad()\n",
        "        output = model(data)\n",
        "        loss = ((output - target) ** 2).mean()\n",
        "        loss.backward()\n",
        "        optimizer.step()\n",
        "    print(f'Epoch {epoch + 1}, Loss: {loss.item()}')\n",
        "\n",
        "# Save model parameters and compute Fisher information\n",
        "old_params = {name: param.clone() for name, param in model.named_parameters()}\n",
        "fisher = compute_fisher(model, loader, optimizer)\n",
        "\n",
        "# Second task training with EWC\n",
        "data = torch.tensor([[5, 6], [7, 8]], dtype=torch.float32)\n",
        "target = torch.tensor([[0], [1]], dtype=torch.float32)\n",
        "dataset = TensorDataset(data, target)\n",
        "loader = DataLoader(dataset, batch_size=2)\n",
        "\n",
        "model.train()\n",
        "for epoch in range(10):\n",
        "    for batch_idx, (data, target) in enumerate(loader):\n",
        "        optimizer.zero_grad()\n",
        "        output = model(data)\n",
        "        loss = ((output - target) ** 2).mean()\n",
        "        loss_ewc = ewc_loss(model, fisher, old_params)\n",
        "        total_loss = loss + loss_ewc\n",
        "        total_loss.backward()\n",
        "        optimizer.step()\n",
        "    print(f'Epoch {epoch + 1}, Loss: {total_loss.item()}')"
      ]
    }
  ]
}