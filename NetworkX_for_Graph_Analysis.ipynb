{
  "nbformat": 4,
  "nbformat_minor": 0,
  "metadata": {
    "colab": {
      "private_outputs": true,
      "provenance": [],
      "authorship_tag": "ABX9TyP8bWlYd9NIOs+Xqtnb5ug8",
      "include_colab_link": true
    },
    "kernelspec": {
      "name": "python3",
      "display_name": "Python 3"
    },
    "language_info": {
      "name": "python"
    }
  },
  "cells": [
    {
      "cell_type": "markdown",
      "metadata": {
        "id": "view-in-github",
        "colab_type": "text"
      },
      "source": [
        "<a href=\"https://colab.research.google.com/github/OneFineStarstuff/State-of-the-Art/blob/main/NetworkX_for_Graph_Analysis.ipynb\" target=\"_parent\"><img src=\"https://colab.research.google.com/assets/colab-badge.svg\" alt=\"Open In Colab\"/></a>"
      ]
    },
    {
      "cell_type": "code",
      "execution_count": null,
      "metadata": {
        "id": "L2zH1tkarXAT"
      },
      "outputs": [],
      "source": [
        "import networkx as nx\n",
        "import matplotlib.pyplot as plt\n",
        "\n",
        "# Create an Erdős-Rényi graph\n",
        "G = nx.erdos_renyi_graph(n=100, p=0.1)\n",
        "\n",
        "# Print basic information about the graph\n",
        "print(f\"Number of nodes: {G.number_of_nodes()}\")\n",
        "print(f\"Number of edges: {G.number_of_edges()}\")\n",
        "print(f\"Is connected: {nx.is_connected(G)}\")\n",
        "print(f\"Number of connected components: {nx.number_connected_components(G)}\")\n",
        "\n",
        "# Identify the largest connected component\n",
        "largest_cc = max(nx.connected_components(G), key=len)\n",
        "\n",
        "# Create a subgraph of the largest connected component\n",
        "subgraph = G.subgraph(largest_cc)\n",
        "\n",
        "# Visualize the subgraph\n",
        "plt.figure(figsize=(10, 10))\n",
        "nx.draw(subgraph, with_labels=True, node_color='skyblue', edge_color='gray', node_size=500, font_size=10)\n",
        "plt.show()"
      ]
    }
  ]
}