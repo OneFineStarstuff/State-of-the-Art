{
  "nbformat": 4,
  "nbformat_minor": 0,
  "metadata": {
    "colab": {
      "private_outputs": true,
      "provenance": [],
      "authorship_tag": "ABX9TyOdJ6rVkxDlHGwrNBGAgjlC",
      "include_colab_link": true
    },
    "kernelspec": {
      "name": "python3",
      "display_name": "Python 3"
    },
    "language_info": {
      "name": "python"
    }
  },
  "cells": [
    {
      "cell_type": "markdown",
      "metadata": {
        "id": "view-in-github",
        "colab_type": "text"
      },
      "source": [
        "<a href=\"https://colab.research.google.com/github/OneFineStarstuff/State-of-the-Art/blob/main/Zero_Shot_Learning_(ZSL).ipynb\" target=\"_parent\"><img src=\"https://colab.research.google.com/assets/colab-badge.svg\" alt=\"Open In Colab\"/></a>"
      ]
    },
    {
      "cell_type": "code",
      "execution_count": null,
      "metadata": {
        "id": "xUBtOuYdvK8w"
      },
      "outputs": [],
      "source": [
        "from sklearn.linear_model import LogisticRegression\n",
        "from gensim.models import Word2Vec\n",
        "import numpy as np\n",
        "\n",
        "# Example data (train classes and descriptions)\n",
        "train_classes = ['dog', 'cat']\n",
        "train_descriptions = ['A domesticated carnivorous mammal', 'A small domesticated carnivorous mammal']\n",
        "\n",
        "# Example data (test classes and descriptions)\n",
        "test_classes = ['lion', 'tiger']\n",
        "test_descriptions = ['A large carnivorous feline mammal', 'A large carnivorous feline mammal with stripes']\n",
        "\n",
        "# Generate word embeddings using Word2Vec\n",
        "word2vec_model = Word2Vec(sentences=[desc.split() for desc in train_descriptions + test_descriptions], vector_size=50, min_count=1)\n",
        "train_features = np.array([np.mean([word2vec_model.wv[word] for word in desc.split() if word in word2vec_model.wv], axis=0) for desc in train_descriptions])\n",
        "test_features = np.array([np.mean([word2vec_model.wv[word] for word in desc.split() if word in word2vec_model.wv], axis=0) for desc in test_descriptions])\n",
        "\n",
        "# Train a simple classifier on the train features\n",
        "classifier = LogisticRegression()\n",
        "classifier.fit(train_features, train_classes)\n",
        "\n",
        "# Predict test classes using the trained classifier\n",
        "predictions = classifier.predict(test_features)\n",
        "print(f\"Predicted test classes: {predictions}\")"
      ]
    }
  ]
}