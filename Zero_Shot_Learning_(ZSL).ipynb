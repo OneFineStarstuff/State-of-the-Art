{
  "nbformat": 4,
  "nbformat_minor": 0,
  "metadata": {
    "colab": {
      "private_outputs": true,
      "provenance": [],
      "authorship_tag": "ABX9TyPheeJjkiYUtCNe3WG5yviu",
      "include_colab_link": true
    },
    "kernelspec": {
      "name": "python3",
      "display_name": "Python 3"
    },
    "language_info": {
      "name": "python"
    }
  },
  "cells": [
    {
      "cell_type": "markdown",
      "metadata": {
        "id": "view-in-github",
        "colab_type": "text"
      },
      "source": [
        "<a href=\"https://colab.research.google.com/github/OneFineStarstuff/State-of-the-Art/blob/main/Zero_Shot_Learning_(ZSL).ipynb\" target=\"_parent\"><img src=\"https://colab.research.google.com/assets/colab-badge.svg\" alt=\"Open In Colab\"/></a>"
      ]
    },
    {
      "cell_type": "code",
      "execution_count": null,
      "metadata": {
        "id": "R5xjzvBSDXUS"
      },
      "outputs": [],
      "source": [
        "import torch\n",
        "import torch.nn as nn\n",
        "import torch.nn.functional as F\n",
        "import torch.optim as optim\n",
        "\n",
        "class ZSLModel(nn.Module):\n",
        "    def __init__(self, input_dim, attribute_dim, output_dim):\n",
        "        super(ZSLModel, self).__init__()\n",
        "        self.fc1 = nn.Linear(input_dim, attribute_dim)\n",
        "        self.fc2 = nn.Linear(attribute_dim, output_dim)\n",
        "\n",
        "    def forward(self, x):\n",
        "        x = F.relu(self.fc1(x))\n",
        "        return self.fc2(x)\n",
        "\n",
        "# Training the model on seen classes\n",
        "model = ZSLModel(input_dim=2048, attribute_dim=300, output_dim=300)\n",
        "optimizer = torch.optim.Adam(model.parameters(), lr=0.001)\n",
        "\n",
        "for epoch in range(100):\n",
        "    data = torch.randn(32, 2048)  # Feature vectors\n",
        "    attributes = torch.randn(32, 300)  # Attribute vectors for seen classes\n",
        "    output = model(data)\n",
        "    loss = nn.MSELoss()(output, attributes)\n",
        "    optimizer.zero_grad()\n",
        "    loss.backward()\n",
        "    optimizer.step()\n",
        "    print(f'Epoch {epoch + 1}, Loss: {loss.item():.4f}')\n",
        "\n",
        "# Inference on unseen classes\n",
        "unseen_data = torch.randn(10, 2048)  # Feature vectors for unseen classes\n",
        "unseen_attributes = model(unseen_data)\n",
        "print(\"Attributes predicted for unseen classes:\", unseen_attributes)"
      ]
    }
  ]
}