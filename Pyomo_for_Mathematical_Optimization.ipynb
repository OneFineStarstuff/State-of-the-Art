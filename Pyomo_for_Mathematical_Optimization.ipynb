{
  "nbformat": 4,
  "nbformat_minor": 0,
  "metadata": {
    "colab": {
      "private_outputs": true,
      "provenance": [],
      "authorship_tag": "ABX9TyNkT3JwCkcuF/VE5cfGELY+",
      "include_colab_link": true
    },
    "kernelspec": {
      "name": "python3",
      "display_name": "Python 3"
    },
    "language_info": {
      "name": "python"
    }
  },
  "cells": [
    {
      "cell_type": "markdown",
      "metadata": {
        "id": "view-in-github",
        "colab_type": "text"
      },
      "source": [
        "<a href=\"https://colab.research.google.com/github/OneFineStarstuff/State-of-the-Art/blob/main/Pyomo_for_Mathematical_Optimization.ipynb\" target=\"_parent\"><img src=\"https://colab.research.google.com/assets/colab-badge.svg\" alt=\"Open In Colab\"/></a>"
      ]
    },
    {
      "cell_type": "code",
      "source": [
        "!sudo apt-get install glpk-utils"
      ],
      "metadata": {
        "id": "oXEvRbNayI2G"
      },
      "execution_count": null,
      "outputs": []
    },
    {
      "cell_type": "code",
      "source": [
        "!brew install glpk"
      ],
      "metadata": {
        "id": "mumQF2BnyKpy"
      },
      "execution_count": null,
      "outputs": []
    },
    {
      "cell_type": "code",
      "source": [
        "!glpsol --version"
      ],
      "metadata": {
        "id": "cb-B21TmyLOy"
      },
      "execution_count": null,
      "outputs": []
    },
    {
      "cell_type": "code",
      "execution_count": null,
      "metadata": {
        "id": "EIDfsfwkxkB_"
      },
      "outputs": [],
      "source": [
        "from pyomo.environ import *\n",
        "\n",
        "# Define the model\n",
        "model = ConcreteModel()\n",
        "\n",
        "# Define decision variables with bounds\n",
        "model.x = Var(bounds=(0, None))\n",
        "model.y = Var(bounds=(0, None))\n",
        "\n",
        "# Define the objective function to minimize\n",
        "model.obj = Objective(expr=model.x + model.y, sense=minimize)\n",
        "\n",
        "# Add constraints\n",
        "model.con1 = Constraint(expr=model.x + 2 * model.y >= 8)\n",
        "model.con2 = Constraint(expr=3 * model.x + model.y >= 6)\n",
        "\n",
        "# Solve the model using GLPK solver\n",
        "solver = SolverFactory('glpk')\n",
        "solver.solve(model)\n",
        "\n",
        "# Print the optimal values\n",
        "print(f\"Optimal value of x: {model.x()}\")\n",
        "print(f\"Optimal value of y: {model.y()}\")"
      ]
    }
  ]
}