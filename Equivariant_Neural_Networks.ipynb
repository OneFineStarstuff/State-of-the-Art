{
  "nbformat": 4,
  "nbformat_minor": 0,
  "metadata": {
    "colab": {
      "private_outputs": true,
      "provenance": [],
      "authorship_tag": "ABX9TyOhcekm/vgqVm/Hx5c3iwd9",
      "include_colab_link": true
    },
    "kernelspec": {
      "name": "python3",
      "display_name": "Python 3"
    },
    "language_info": {
      "name": "python"
    }
  },
  "cells": [
    {
      "cell_type": "markdown",
      "metadata": {
        "id": "view-in-github",
        "colab_type": "text"
      },
      "source": [
        "<a href=\"https://colab.research.google.com/github/OneFineStarstuff/State-of-the-Art/blob/main/Equivariant_Neural_Networks.ipynb\" target=\"_parent\"><img src=\"https://colab.research.google.com/assets/colab-badge.svg\" alt=\"Open In Colab\"/></a>"
      ]
    },
    {
      "cell_type": "code",
      "execution_count": null,
      "metadata": {
        "id": "WcztWqEWltBP"
      },
      "outputs": [],
      "source": [
        "import torch\n",
        "import torch.nn as nn\n",
        "import torch.nn.functional as F\n",
        "\n",
        "# Define the EquivariantCNN class\n",
        "class EquivariantCNN(nn.Module):\n",
        "    def __init__(self, in_channels, num_classes):\n",
        "        super(EquivariantCNN, self).__init__()\n",
        "        self.conv1 = nn.Conv2d(in_channels, 16, kernel_size=3, padding=1)  # First convolutional layer\n",
        "        self.conv2 = nn.Conv2d(16, 32, kernel_size=3, padding=1)  # Second convolutional layer\n",
        "        self.fc1 = nn.Linear(32 * 7 * 7, 128)  # First fully connected layer\n",
        "        self.fc2 = nn.Linear(128, num_classes)  # Second fully connected layer\n",
        "\n",
        "    def forward(self, x):\n",
        "        x = F.relu(self.conv1(x))  # Apply ReLU activation after conv1\n",
        "        x = F.max_pool2d(x, 2)  # Apply max pooling\n",
        "        x = F.relu(self.conv2(x))  # Apply ReLU activation after conv2\n",
        "        x = F.max_pool2d(x, 2)  # Apply max pooling\n",
        "        x = x.view(x.size(0), -1)  # Flatten the tensor\n",
        "        x = F.relu(self.fc1(x))  # Apply ReLU activation after fc1\n",
        "        x = self.fc2(x)  # Apply the final fully connected layer\n",
        "        return x\n",
        "\n",
        "# Example usage\n",
        "model = EquivariantCNN(in_channels=3, num_classes=10)  # Instantiate the model\n",
        "input_data = torch.randn(32, 3, 28, 28)  # Example input (batch_size=32, channels=3, height=28, width=28)\n",
        "output = model(input_data)\n",
        "\n",
        "# Print the shape of the output\n",
        "print(output.shape)  # Expected shape: [32, 10]"
      ]
    }
  ]
}