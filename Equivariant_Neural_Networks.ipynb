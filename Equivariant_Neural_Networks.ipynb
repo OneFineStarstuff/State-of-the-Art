{
  "nbformat": 4,
  "nbformat_minor": 0,
  "metadata": {
    "colab": {
      "private_outputs": true,
      "provenance": [],
      "authorship_tag": "ABX9TyN0VMj5IU8H9PcsK3xDjQPW",
      "include_colab_link": true
    },
    "kernelspec": {
      "name": "python3",
      "display_name": "Python 3"
    },
    "language_info": {
      "name": "python"
    }
  },
  "cells": [
    {
      "cell_type": "markdown",
      "metadata": {
        "id": "view-in-github",
        "colab_type": "text"
      },
      "source": [
        "<a href=\"https://colab.research.google.com/github/OneFineStarstuff/State-of-the-Art/blob/main/Equivariant_Neural_Networks.ipynb\" target=\"_parent\"><img src=\"https://colab.research.google.com/assets/colab-badge.svg\" alt=\"Open In Colab\"/></a>"
      ]
    },
    {
      "cell_type": "code",
      "execution_count": null,
      "metadata": {
        "id": "DN82HhtoBnWN"
      },
      "outputs": [],
      "source": [
        "import torch\n",
        "import torch.nn as nn\n",
        "import torch.nn.functional as F\n",
        "\n",
        "class EquivariantLayer(nn.Module):\n",
        "    def __init__(self, input_dim, output_dim):\n",
        "        super(EquivariantLayer, self).__init__()\n",
        "        self.linear = nn.Linear(input_dim, output_dim)\n",
        "\n",
        "    def forward(self, x):\n",
        "        return self.linear(x - x.mean(dim=0))\n",
        "\n",
        "class EquivariantNetwork(nn.Module):\n",
        "    def __init__(self, input_dim, hidden_dim, output_dim):\n",
        "        super(EquivariantNetwork, self).__init__()\n",
        "        self.layer1 = EquivariantLayer(input_dim, hidden_dim)\n",
        "        self.layer2 = EquivariantLayer(hidden_dim, output_dim)\n",
        "\n",
        "    def forward(self, x):\n",
        "        x = F.relu(self.layer1(x))\n",
        "        return self.layer2(x)\n",
        "\n",
        "# Example usage\n",
        "model = EquivariantNetwork(input_dim=10, hidden_dim=20, output_dim=1)\n",
        "data = torch.randn(32, 10)\n",
        "output = model(data)\n",
        "print(\"Equivariant Network output shape:\", output.shape)"
      ]
    }
  ]
}