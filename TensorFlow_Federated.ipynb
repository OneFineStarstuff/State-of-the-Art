{
  "nbformat": 4,
  "nbformat_minor": 0,
  "metadata": {
    "colab": {
      "private_outputs": true,
      "provenance": [],
      "authorship_tag": "ABX9TyMVUYaaE0NinPcfqTZmeqDb",
      "include_colab_link": true
    },
    "kernelspec": {
      "name": "python3",
      "display_name": "Python 3"
    },
    "language_info": {
      "name": "python"
    }
  },
  "cells": [
    {
      "cell_type": "markdown",
      "metadata": {
        "id": "view-in-github",
        "colab_type": "text"
      },
      "source": [
        "<a href=\"https://colab.research.google.com/github/OneFineStarstuff/State-of-the-Art/blob/main/TensorFlow_Federated.ipynb\" target=\"_parent\"><img src=\"https://colab.research.google.com/assets/colab-badge.svg\" alt=\"Open In Colab\"/></a>"
      ]
    },
    {
      "cell_type": "code",
      "source": [
        "pip install tensorflow_federated"
      ],
      "metadata": {
        "id": "NeBX8nAE-a7k"
      },
      "execution_count": null,
      "outputs": []
    },
    {
      "cell_type": "code",
      "source": [
        "pip install --upgrade jax jaxlib==0.3.25+cuda112 -f https://storage.googleapis.com/jax-releases/jax_cuda_releases.html"
      ],
      "metadata": {
        "id": "aq8_aQRq_v9a"
      },
      "execution_count": null,
      "outputs": []
    },
    {
      "cell_type": "code",
      "execution_count": null,
      "metadata": {
        "id": "YH9reTv--Fzi"
      },
      "outputs": [],
      "source": [
        "import tensorflow as tf\n",
        "import tensorflow_federated as tff\n",
        "\n",
        "# Load the EMNIST dataset for federated learning\n",
        "emnist_train, emnist_test = tff.simulation.datasets.emnist.load_data()\n",
        "\n",
        "# Define a simple model\n",
        "def create_compiled_keras_model():\n",
        "    model = tf.keras.Sequential([\n",
        "        tf.keras.layers.Dense(10, activation='softmax', input_shape=(784,))\n",
        "    ])\n",
        "    model.compile(optimizer='sgd', loss='sparse_categorical_crossentropy', metrics=['accuracy'])\n",
        "    return model\n",
        "\n",
        "# Convert the Keras model to a TFF model\n",
        "def model_fn():\n",
        "    return tff.learning.from_keras_model(\n",
        "        create_compiled_keras_model(),\n",
        "        input_spec=emnist_train.element_type_structure,\n",
        "        loss=tf.keras.losses.SparseCategoricalCrossentropy()\n",
        "    )\n",
        "\n",
        "# Federated learning process\n",
        "iterative_process = tff.learning.algorithms.build_fed_avg_process(model_fn)\n",
        "state = iterative_process.initialize()\n",
        "\n",
        "# Run federated training\n",
        "for round_num in range(1, 11):\n",
        "    state, metrics = iterative_process.next(state, emnist_train)\n",
        "    print(f'Round {round_num}, Metrics={metrics}')"
      ]
    }
  ]
}