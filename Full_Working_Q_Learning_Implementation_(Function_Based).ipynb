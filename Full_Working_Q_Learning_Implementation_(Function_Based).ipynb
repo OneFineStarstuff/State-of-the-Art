{
  "nbformat": 4,
  "nbformat_minor": 0,
  "metadata": {
    "colab": {
      "private_outputs": true,
      "provenance": [],
      "authorship_tag": "ABX9TyOOG5b1TL8NwXJnhSFW7e9p",
      "include_colab_link": true
    },
    "kernelspec": {
      "name": "python3",
      "display_name": "Python 3"
    },
    "language_info": {
      "name": "python"
    }
  },
  "cells": [
    {
      "cell_type": "markdown",
      "metadata": {
        "id": "view-in-github",
        "colab_type": "text"
      },
      "source": [
        "<a href=\"https://colab.research.google.com/github/OneFineStarstuff/State-of-the-Art/blob/main/Full_Working_Q_Learning_Implementation_(Function_Based).ipynb\" target=\"_parent\"><img src=\"https://colab.research.google.com/assets/colab-badge.svg\" alt=\"Open In Colab\"/></a>"
      ]
    },
    {
      "cell_type": "code",
      "execution_count": null,
      "metadata": {
        "id": "sjVSc2oiKkNT"
      },
      "outputs": [],
      "source": [
        "import gym\n",
        "import torch\n",
        "import torch.nn as nn\n",
        "import numpy as np\n",
        "from torch.optim import Adam\n",
        "\n",
        "# Q-network definition\n",
        "class QNetwork(nn.Module):\n",
        "    def __init__(self, input_dim, output_dim):\n",
        "        super(QNetwork, self).__init__()\n",
        "        self.fc = nn.Sequential(\n",
        "            nn.Linear(input_dim, 128),\n",
        "            nn.ReLU(),\n",
        "            nn.Linear(128, output_dim)\n",
        "        )\n",
        "\n",
        "    def forward(self, x):\n",
        "        return self.fc(x)\n",
        "\n",
        "# Select action via ε-greedy policy\n",
        "def select_action(state, epsilon, q_net, action_dim):\n",
        "    if np.random.rand() < epsilon:\n",
        "        return np.random.randint(action_dim)\n",
        "    with torch.no_grad():\n",
        "        state_tensor = torch.from_numpy(state).float().unsqueeze(0)\n",
        "        q_values = q_net(state_tensor)\n",
        "        return q_values.argmax().item()\n",
        "\n",
        "# Training loop\n",
        "def train_q_learning(env_name=\"CartPole-v1\", episodes=500, gamma=0.99, lr=1e-3):\n",
        "    env = gym.make(env_name)\n",
        "    state_dim = env.observation_space.shape[0]\n",
        "    action_dim = env.action_space.n\n",
        "\n",
        "    q_net = QNetwork(state_dim, action_dim)\n",
        "    optimizer = Adam(q_net.parameters(), lr=lr)\n",
        "    loss_fn = nn.MSELoss()\n",
        "\n",
        "    epsilon = 1.0\n",
        "    epsilon_min = 0.01\n",
        "    epsilon_decay = 0.995\n",
        "\n",
        "    for episode in range(episodes):\n",
        "        state = env.reset()\n",
        "        state = state[0] if isinstance(state, tuple) else state  # compatibility\n",
        "        done = False\n",
        "        total_reward = 0\n",
        "\n",
        "        while not done:\n",
        "            action = select_action(state, epsilon, q_net, action_dim)\n",
        "            result = env.step(action)\n",
        "            next_state, reward, terminated, truncated, *_ = result if len(result) == 5 else (*result, False)\n",
        "            done = terminated or truncated\n",
        "\n",
        "            # Compute target\n",
        "            state_tensor = torch.FloatTensor(state).unsqueeze(0)\n",
        "            next_state_tensor = torch.FloatTensor(next_state).unsqueeze(0)\n",
        "\n",
        "            with torch.no_grad():\n",
        "                next_q = torch.max(q_net(next_state_tensor)).item()\n",
        "\n",
        "            target_q = q_net(state_tensor).clone()\n",
        "            target = reward + gamma * next_q * (1 - int(done))\n",
        "            target_q[0][action] = target\n",
        "\n",
        "            # Optimize\n",
        "            pred_q = q_net(state_tensor)\n",
        "            loss = loss_fn(pred_q, target_q)\n",
        "            optimizer.zero_grad()\n",
        "            loss.backward()\n",
        "            optimizer.step()\n",
        "\n",
        "            state = next_state\n",
        "            total_reward += reward\n",
        "\n",
        "        epsilon = max(epsilon * epsilon_decay, epsilon_min)\n",
        "        print(f\"Episode {episode+1}, Reward: {total_reward}, Epsilon: {epsilon:.3f}\")\n",
        "\n",
        "    env.close()\n",
        "\n",
        "# Uncomment to train\n",
        "# train_q_learning()"
      ]
    }
  ]
}