{
  "nbformat": 4,
  "nbformat_minor": 0,
  "metadata": {
    "colab": {
      "private_outputs": true,
      "provenance": [],
      "authorship_tag": "ABX9TyM0X42nfLNfk26kLfLBjySH",
      "include_colab_link": true
    },
    "kernelspec": {
      "name": "python3",
      "display_name": "Python 3"
    },
    "language_info": {
      "name": "python"
    }
  },
  "cells": [
    {
      "cell_type": "markdown",
      "metadata": {
        "id": "view-in-github",
        "colab_type": "text"
      },
      "source": [
        "<a href=\"https://colab.research.google.com/github/OneFineStarstuff/State-of-the-Art/blob/main/Quantum_Machine_Learning_(QML).ipynb\" target=\"_parent\"><img src=\"https://colab.research.google.com/assets/colab-badge.svg\" alt=\"Open In Colab\"/></a>"
      ]
    },
    {
      "cell_type": "code",
      "source": [
        "pip install pennylane"
      ],
      "metadata": {
        "id": "itllw5PMckDN"
      },
      "execution_count": null,
      "outputs": []
    },
    {
      "cell_type": "code",
      "execution_count": null,
      "metadata": {
        "id": "uqR9PlsIcTVP"
      },
      "outputs": [],
      "source": [
        "import pennylane as qml\n",
        "import torch\n",
        "import torch.nn as nn\n",
        "\n",
        "n_qubits = 2\n",
        "dev = qml.device('default.qubit', wires=n_qubits)\n",
        "\n",
        "def layer(weights):\n",
        "    qml.Rot(weights[0, 0], weights[0, 1], weights[0, 2], wires=0)\n",
        "    qml.Rot(weights[1, 0], weights[1, 1], weights[1, 2], wires=1)\n",
        "    qml.CNOT(wires=[0, 1])\n",
        "\n",
        "@qml.qnode(dev, interface='torch')\n",
        "def quantum_circuit(inputs, weights):\n",
        "    qml.templates.AngleEmbedding(inputs, wires=range(n_qubits))\n",
        "    layer(weights)\n",
        "    return qml.expval(qml.PauliZ(0))\n",
        "\n",
        "weight_shape = (2, 3)\n",
        "weights = torch.rand(weight_shape, requires_grad=True)\n",
        "optimizer = torch.optim.Adam([weights], lr=0.1)\n",
        "\n",
        "# Example training loop\n",
        "for step in range(100):\n",
        "    optimizer.zero_grad()\n",
        "    inputs = torch.tensor([0.1, 0.2], requires_grad=False)\n",
        "    loss = (quantum_circuit(inputs, weights) - 0.5) ** 2\n",
        "    loss.backward()\n",
        "    optimizer.step()\n",
        "    if step % 10 == 0:\n",
        "        print(f\"Step {step}, Loss: {loss.item()}\")"
      ]
    }
  ]
}