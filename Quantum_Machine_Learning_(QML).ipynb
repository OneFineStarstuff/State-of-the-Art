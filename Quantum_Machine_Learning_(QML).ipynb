{
  "nbformat": 4,
  "nbformat_minor": 0,
  "metadata": {
    "colab": {
      "private_outputs": true,
      "provenance": [],
      "authorship_tag": "ABX9TyPMYWhag1WBf5yqZBSTP76k",
      "include_colab_link": true
    },
    "kernelspec": {
      "name": "python3",
      "display_name": "Python 3"
    },
    "language_info": {
      "name": "python"
    }
  },
  "cells": [
    {
      "cell_type": "markdown",
      "metadata": {
        "id": "view-in-github",
        "colab_type": "text"
      },
      "source": [
        "<a href=\"https://colab.research.google.com/github/OneFineStarstuff/State-of-the-Art/blob/main/Quantum_Machine_Learning_(QML).ipynb\" target=\"_parent\"><img src=\"https://colab.research.google.com/assets/colab-badge.svg\" alt=\"Open In Colab\"/></a>"
      ]
    },
    {
      "cell_type": "code",
      "source": [
        "pip install pennylane"
      ],
      "metadata": {
        "id": "Lb1DXjhfFexh"
      },
      "execution_count": null,
      "outputs": []
    },
    {
      "cell_type": "code",
      "execution_count": null,
      "metadata": {
        "id": "M86seP46FBUa"
      },
      "outputs": [],
      "source": [
        "import torch\n",
        "import torch.nn as nn\n",
        "import pennylane as qml\n",
        "\n",
        "# Define the quantum device\n",
        "dev = qml.device(\"default.qubit\", wires=1)\n",
        "\n",
        "# Define the quantum circuit\n",
        "@qml.qnode(dev)\n",
        "def quantum_circuit(inputs, weights):\n",
        "    qml.RX(inputs[0], wires=0)  # Apply RX gate\n",
        "    qml.RY(weights[0], wires=0)  # Apply RY gate\n",
        "    return qml.expval(qml.PauliZ(0))  # Return expectation value of Pauli-Z operator\n",
        "\n",
        "# Define the HybridQNN class\n",
        "class HybridQNN(nn.Module):\n",
        "    def __init__(self):\n",
        "        super(HybridQNN, self).__init__()\n",
        "        self.fc1 = nn.Linear(1, 1)  # Classical linear layer\n",
        "        weight_shapes = {\"weights\": (1,)}\n",
        "        self.quantum_layer = qml.qnn.TorchLayer(quantum_circuit, weight_shapes)  # Quantum layer\n",
        "\n",
        "    def forward(self, x):\n",
        "        x = self.fc1(x)  # Forward pass through the classical layer\n",
        "        x = x.view(-1)  # Flatten the tensor to match the input shape expected by the quantum layer\n",
        "        x = self.quantum_layer(x)  # Forward pass through the quantum layer\n",
        "        return x.view(-1, 1)  # Reshape the tensor to match the expected output shape\n",
        "\n",
        "# Example usage\n",
        "model = HybridQNN()\n",
        "input_data = torch.randn(10, 1)  # Example input (batch_size=10, input_dim=1)\n",
        "output = model(input_data)\n",
        "\n",
        "# Print the shape of the output\n",
        "print(output.shape)  # Expected shape: [10, 1]"
      ]
    }
  ]
}