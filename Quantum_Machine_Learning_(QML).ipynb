{
  "nbformat": 4,
  "nbformat_minor": 0,
  "metadata": {
    "colab": {
      "private_outputs": true,
      "provenance": [],
      "authorship_tag": "ABX9TyM/T5rqmQxKDjMH5DEWMm0y",
      "include_colab_link": true
    },
    "kernelspec": {
      "name": "python3",
      "display_name": "Python 3"
    },
    "language_info": {
      "name": "python"
    }
  },
  "cells": [
    {
      "cell_type": "markdown",
      "metadata": {
        "id": "view-in-github",
        "colab_type": "text"
      },
      "source": [
        "<a href=\"https://colab.research.google.com/github/OneFineStarstuff/State-of-the-Art/blob/main/Quantum_Machine_Learning_(QML).ipynb\" target=\"_parent\"><img src=\"https://colab.research.google.com/assets/colab-badge.svg\" alt=\"Open In Colab\"/></a>"
      ]
    },
    {
      "cell_type": "code",
      "source": [
        "pip install pennylane"
      ],
      "metadata": {
        "id": "0vURYD-FycpW"
      },
      "execution_count": null,
      "outputs": []
    },
    {
      "cell_type": "code",
      "execution_count": null,
      "metadata": {
        "id": "LJNoIq_7yLQm"
      },
      "outputs": [],
      "source": [
        "import pennylane as qml\n",
        "from pennylane import numpy as np\n",
        "from pennylane.optimize import AdamOptimizer\n",
        "\n",
        "# Initialize a PennyLane device with 2 qubits\n",
        "dev = qml.device(\"default.qubit\", wires=2)\n",
        "\n",
        "# Define the quantum circuit\n",
        "@qml.qnode(dev)\n",
        "def circuit(params):\n",
        "    qml.RX(params[0], wires=0)\n",
        "    qml.RY(params[1], wires=1)\n",
        "    qml.CNOT(wires=[0, 1])\n",
        "    return qml.expval(qml.PauliZ(0))\n",
        "\n",
        "# Define the cost function\n",
        "def cost_fn(params):\n",
        "    return circuit(params)\n",
        "\n",
        "# Initialize the parameters randomly\n",
        "params = np.random.rand(2, requires_grad=True)\n",
        "\n",
        "# Set up the optimizer\n",
        "opt = AdamOptimizer(stepsize=0.1)\n",
        "\n",
        "# Perform optimization\n",
        "for _ in range(100):\n",
        "    params = opt.step(cost_fn, params)\n",
        "\n",
        "# Print the optimized parameters\n",
        "print(f\"Optimized parameters: {params}\")"
      ]
    }
  ]
}