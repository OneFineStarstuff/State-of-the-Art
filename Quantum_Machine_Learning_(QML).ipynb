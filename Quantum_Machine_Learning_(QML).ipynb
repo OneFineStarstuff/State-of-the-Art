{
  "nbformat": 4,
  "nbformat_minor": 0,
  "metadata": {
    "colab": {
      "private_outputs": true,
      "provenance": [],
      "authorship_tag": "ABX9TyPb/YBPdXb0tWwUWNTfJqy9",
      "include_colab_link": true
    },
    "kernelspec": {
      "name": "python3",
      "display_name": "Python 3"
    },
    "language_info": {
      "name": "python"
    }
  },
  "cells": [
    {
      "cell_type": "markdown",
      "metadata": {
        "id": "view-in-github",
        "colab_type": "text"
      },
      "source": [
        "<a href=\"https://colab.research.google.com/github/OneFineStarstuff/State-of-the-Art/blob/main/Quantum_Machine_Learning_(QML).ipynb\" target=\"_parent\"><img src=\"https://colab.research.google.com/assets/colab-badge.svg\" alt=\"Open In Colab\"/></a>"
      ]
    },
    {
      "cell_type": "code",
      "source": [
        "pip install pennylane"
      ],
      "metadata": {
        "id": "c1yc7R6i8hQX"
      },
      "execution_count": null,
      "outputs": []
    },
    {
      "cell_type": "code",
      "execution_count": null,
      "metadata": {
        "id": "_oCPjB708L7H"
      },
      "outputs": [],
      "source": [
        "import pennylane as qml\n",
        "import torch\n",
        "import torch.nn as nn\n",
        "\n",
        "# Initialize a quantum device with 2 qubits\n",
        "dev = qml.device(\"default.qubit\", wires=2)\n",
        "\n",
        "# Define the quantum circuit using a QNode\n",
        "@qml.qnode(dev, interface=\"torch\")\n",
        "def quantum_circuit(inputs, weights):\n",
        "    qml.templates.AngleEmbedding(inputs, wires=range(2))\n",
        "    qml.templates.BasicEntanglerLayers(weights, wires=range(2))\n",
        "    return qml.expval(qml.PauliZ(0))\n",
        "\n",
        "# Define the quantum neural network class\n",
        "class QuantumNet(nn.Module):\n",
        "    def __init__(self, n_qubits, n_layers):\n",
        "        super(QuantumNet, self).__init__()\n",
        "        self.n_qubits = n_qubits\n",
        "        self.n_layers = n_layers\n",
        "        self.weight_shapes = {\"weights\": (n_layers, n_qubits)}\n",
        "        self.quantum_circuit = qml.qnn.TorchLayer(quantum_circuit, self.weight_shapes)\n",
        "\n",
        "    def forward(self, x):\n",
        "        return self.quantum_circuit(x)\n",
        "\n",
        "# Initialize the QuantumNet model with 2 qubits and 3 layers\n",
        "model = QuantumNet(n_qubits=2, n_layers=3)"
      ]
    }
  ]
}