{
  "nbformat": 4,
  "nbformat_minor": 0,
  "metadata": {
    "colab": {
      "private_outputs": true,
      "provenance": [],
      "authorship_tag": "ABX9TyO/SAIxeuKTDr2Eo1A554c5",
      "include_colab_link": true
    },
    "kernelspec": {
      "name": "python3",
      "display_name": "Python 3"
    },
    "language_info": {
      "name": "python"
    }
  },
  "cells": [
    {
      "cell_type": "markdown",
      "metadata": {
        "id": "view-in-github",
        "colab_type": "text"
      },
      "source": [
        "<a href=\"https://colab.research.google.com/github/OneFineStarstuff/State-of-the-Art/blob/main/Prophet_for_Time_Series_Forecasting.ipynb\" target=\"_parent\"><img src=\"https://colab.research.google.com/assets/colab-badge.svg\" alt=\"Open In Colab\"/></a>"
      ]
    },
    {
      "cell_type": "code",
      "source": [
        "pip install prophet"
      ],
      "metadata": {
        "id": "oGA3rylJma6Z"
      },
      "execution_count": null,
      "outputs": []
    },
    {
      "cell_type": "code",
      "execution_count": null,
      "metadata": {
        "id": "ghFor9mOmOKT"
      },
      "outputs": [],
      "source": [
        "from prophet import Prophet\n",
        "import pandas as pd\n",
        "\n",
        "# Sample data preparation\n",
        "df = pd.DataFrame({\n",
        "    'ds': pd.date_range(start='2020-01-01', periods=100),\n",
        "    'y': [i + (i**0.5)*5 for i in range(100)]\n",
        "})\n",
        "\n",
        "# Initialize and fit the Prophet model\n",
        "model = Prophet()\n",
        "model.fit(df)\n",
        "\n",
        "# Create a dataframe for future dates\n",
        "future = model.make_future_dataframe(periods=30)\n",
        "\n",
        "# Predict future values\n",
        "forecast = model.predict(future)\n",
        "\n",
        "# Plot the forecast\n",
        "model.plot(forecast)"
      ]
    }
  ]
}