{
  "nbformat": 4,
  "nbformat_minor": 0,
  "metadata": {
    "colab": {
      "private_outputs": true,
      "provenance": [],
      "authorship_tag": "ABX9TyOxoRXH3/vT0dUpuowpQZAX",
      "include_colab_link": true
    },
    "kernelspec": {
      "name": "python3",
      "display_name": "Python 3"
    },
    "language_info": {
      "name": "python"
    }
  },
  "cells": [
    {
      "cell_type": "markdown",
      "metadata": {
        "id": "view-in-github",
        "colab_type": "text"
      },
      "source": [
        "<a href=\"https://colab.research.google.com/github/OneFineStarstuff/State-of-the-Art/blob/main/Attention_based_Recurrent_Neural_Networks_(ARNNs).ipynb\" target=\"_parent\"><img src=\"https://colab.research.google.com/assets/colab-badge.svg\" alt=\"Open In Colab\"/></a>"
      ]
    },
    {
      "cell_type": "code",
      "execution_count": null,
      "metadata": {
        "id": "QP9EoYYC5uVL"
      },
      "outputs": [],
      "source": [
        "import torch\n",
        "import torch.nn as nn\n",
        "import torch.nn.functional as F\n",
        "\n",
        "class AttentionRNN(nn.Module):\n",
        "    def __init__(self, input_dim, hidden_dim, output_dim):\n",
        "        super(AttentionRNN, self).__init__()\n",
        "        self.rnn = nn.RNN(input_dim, hidden_dim, batch_first=True)\n",
        "        self.attention = nn.Linear(hidden_dim, 1)\n",
        "        self.fc = nn.Linear(hidden_dim, output_dim)\n",
        "\n",
        "    def forward(self, x):\n",
        "        rnn_output, _ = self.rnn(x)\n",
        "        attn_scores = F.softmax(self.attention(rnn_output), dim=1)\n",
        "        context = torch.sum(attn_scores * rnn_output, dim=1)\n",
        "        output = self.fc(context)\n",
        "        return output\n",
        "\n",
        "input_data = torch.randn(32, 10, 64)  # Batch of 32, 10 time steps, 64 features\n",
        "model = AttentionRNN(input_dim=64, hidden_dim=128, output_dim=10)\n",
        "output = model(input_data)\n",
        "print(output.shape)"
      ]
    }
  ]
}