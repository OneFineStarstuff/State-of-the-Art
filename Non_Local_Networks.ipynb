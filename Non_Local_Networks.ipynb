{
  "nbformat": 4,
  "nbformat_minor": 0,
  "metadata": {
    "colab": {
      "private_outputs": true,
      "provenance": [],
      "authorship_tag": "ABX9TyMTWVAkkwk7zwhG1frg+mW1",
      "include_colab_link": true
    },
    "kernelspec": {
      "name": "python3",
      "display_name": "Python 3"
    },
    "language_info": {
      "name": "python"
    }
  },
  "cells": [
    {
      "cell_type": "markdown",
      "metadata": {
        "id": "view-in-github",
        "colab_type": "text"
      },
      "source": [
        "<a href=\"https://colab.research.google.com/github/OneFineStarstuff/State-of-the-Art/blob/main/Non_Local_Networks.ipynb\" target=\"_parent\"><img src=\"https://colab.research.google.com/assets/colab-badge.svg\" alt=\"Open In Colab\"/></a>"
      ]
    },
    {
      "cell_type": "code",
      "execution_count": null,
      "metadata": {
        "id": "mzSoTl5t8lw-"
      },
      "outputs": [],
      "source": [
        "import torch\n",
        "import torch.nn as nn\n",
        "\n",
        "# Define the NonLocalBlock class\n",
        "class NonLocalBlock(nn.Module):\n",
        "    def __init__(self, in_channels):\n",
        "        super(NonLocalBlock, self).__init__()\n",
        "        self.theta = nn.Conv2d(in_channels, in_channels // 2, kernel_size=1)  # Theta convolution\n",
        "        self.phi = nn.Conv2d(in_channels, in_channels // 2, kernel_size=1)  # Phi convolution\n",
        "        self.g = nn.Conv2d(in_channels, in_channels // 2, kernel_size=1)  # G convolution\n",
        "        self.softmax = nn.Softmax(dim=-1)  # Softmax for attention map\n",
        "        self.W = nn.Conv2d(in_channels // 2, in_channels, kernel_size=1)  # Output convolution\n",
        "\n",
        "    def forward(self, x):\n",
        "        batch_size, channels, height, width = x.size()\n",
        "        theta = self.theta(x).view(batch_size, -1, height * width)  # Reshape theta\n",
        "        phi = self.phi(x).view(batch_size, -1, height * width).permute(0, 2, 1)  # Reshape and permute phi\n",
        "        g = self.g(x).view(batch_size, -1, height * width).permute(0, 2, 1)  # Reshape and permute g\n",
        "        attention = self.softmax(torch.bmm(theta, phi))  # Compute attention map\n",
        "        y = torch.bmm(g, attention.permute(0, 2, 1))  # Apply attention map\n",
        "        y = y.view(batch_size, channels // 2, height, width)  # Reshape output\n",
        "        y = self.W(y)  # Transform output back to original channel dimensions\n",
        "        return y + x  # Add residual connection\n",
        "\n",
        "# Instantiate and print NonLocalBlock architecture\n",
        "non_local_block = NonLocalBlock(in_channels=64)\n",
        "print(non_local_block)"
      ]
    }
  ]
}