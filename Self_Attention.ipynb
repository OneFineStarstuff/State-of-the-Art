{
  "nbformat": 4,
  "nbformat_minor": 0,
  "metadata": {
    "colab": {
      "private_outputs": true,
      "provenance": [],
      "authorship_tag": "ABX9TyM2RmaAsH22ca6f577ws0uy",
      "include_colab_link": true
    },
    "kernelspec": {
      "name": "python3",
      "display_name": "Python 3"
    },
    "language_info": {
      "name": "python"
    }
  },
  "cells": [
    {
      "cell_type": "markdown",
      "metadata": {
        "id": "view-in-github",
        "colab_type": "text"
      },
      "source": [
        "<a href=\"https://colab.research.google.com/github/OneFineStarstuff/State-of-the-Art/blob/main/Self_Attention.ipynb\" target=\"_parent\"><img src=\"https://colab.research.google.com/assets/colab-badge.svg\" alt=\"Open In Colab\"/></a>"
      ]
    },
    {
      "cell_type": "code",
      "execution_count": null,
      "metadata": {
        "id": "8kXlrn7JneC9"
      },
      "outputs": [],
      "source": [
        "import torch\n",
        "import torch.nn as nn\n",
        "\n",
        "class SelfAttention(nn.Module):\n",
        "    def __init__(self, input_dim, attention_dim):\n",
        "        super(SelfAttention, self).__init__()\n",
        "        self.query = nn.Linear(input_dim, attention_dim)\n",
        "        self.key = nn.Linear(input_dim, attention_dim)\n",
        "        self.value = nn.Linear(input_dim, attention_dim)\n",
        "        self.softmax = nn.Softmax(dim=-1)\n",
        "\n",
        "    def forward(self, x):\n",
        "        Q = self.query(x)\n",
        "        K = self.key(x)\n",
        "        V = self.value(x)\n",
        "        attention_scores = torch.bmm(Q, K.transpose(1, 2))\n",
        "        attention_weights = self.softmax(attention_scores)\n",
        "        attention_output = torch.bmm(attention_weights, V)\n",
        "        return attention_output\n",
        "\n",
        "# Example usage\n",
        "input_data = torch.randn(10, 5, 64)  # Batch size of 10, sequence length of 5, input dimension 64\n",
        "self_attention = SelfAttention(input_dim=64, attention_dim=32)\n",
        "output = self_attention(input_data)\n",
        "print(\"Self-attention output shape:\", output.shape)  # Expected shape: [10, 5, 32]"
      ]
    }
  ]
}