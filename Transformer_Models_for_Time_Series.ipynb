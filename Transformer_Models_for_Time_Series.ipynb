{
  "nbformat": 4,
  "nbformat_minor": 0,
  "metadata": {
    "colab": {
      "private_outputs": true,
      "provenance": [],
      "authorship_tag": "ABX9TyOc49UNV4yMsbsefCMVf211",
      "include_colab_link": true
    },
    "kernelspec": {
      "name": "python3",
      "display_name": "Python 3"
    },
    "language_info": {
      "name": "python"
    }
  },
  "cells": [
    {
      "cell_type": "markdown",
      "metadata": {
        "id": "view-in-github",
        "colab_type": "text"
      },
      "source": [
        "<a href=\"https://colab.research.google.com/github/OneFineStarstuff/State-of-the-Art/blob/main/Transformer_Models_for_Time_Series.ipynb\" target=\"_parent\"><img src=\"https://colab.research.google.com/assets/colab-badge.svg\" alt=\"Open In Colab\"/></a>"
      ]
    },
    {
      "cell_type": "code",
      "execution_count": null,
      "metadata": {
        "id": "1iux4ctAejbz"
      },
      "outputs": [],
      "source": [
        "import torch\n",
        "import torch.nn as nn\n",
        "\n",
        "class TimeSeriesTransformer(nn.Module):\n",
        "    def __init__(self, num_features, num_heads, num_layers, dropout=0.1):\n",
        "        super().__init__()\n",
        "        self.encoder_layer = nn.TransformerEncoderLayer(d_model=num_features, nhead=num_heads, dropout=dropout)\n",
        "        self.transformer_encoder = nn.TransformerEncoder(self.encoder_layer, num_layers=num_layers)\n",
        "        self.fc = nn.Linear(num_features, 1)\n",
        "\n",
        "    def forward(self, src):\n",
        "        output = self.transformer_encoder(src)\n",
        "        output = self.fc(output)\n",
        "        return output\n",
        "\n",
        "# Sample usage with synthetic time series data\n",
        "model = TimeSeriesTransformer(num_features=2, num_heads=2, num_layers=2)\n",
        "data = torch.rand((50, 1, 2))  # (sequence length, batch size, num features)\n",
        "output = model(data)\n",
        "print(output)"
      ]
    }
  ]
}