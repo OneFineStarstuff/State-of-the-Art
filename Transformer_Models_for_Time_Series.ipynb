{
  "nbformat": 4,
  "nbformat_minor": 0,
  "metadata": {
    "colab": {
      "private_outputs": true,
      "provenance": [],
      "authorship_tag": "ABX9TyMf0/TBuOIebuVjOvUxgoUk",
      "include_colab_link": true
    },
    "kernelspec": {
      "name": "python3",
      "display_name": "Python 3"
    },
    "language_info": {
      "name": "python"
    }
  },
  "cells": [
    {
      "cell_type": "markdown",
      "metadata": {
        "id": "view-in-github",
        "colab_type": "text"
      },
      "source": [
        "<a href=\"https://colab.research.google.com/github/OneFineStarstuff/State-of-the-Art/blob/main/Transformer_Models_for_Time_Series.ipynb\" target=\"_parent\"><img src=\"https://colab.research.google.com/assets/colab-badge.svg\" alt=\"Open In Colab\"/></a>"
      ]
    },
    {
      "cell_type": "code",
      "execution_count": null,
      "metadata": {
        "id": "1iux4ctAejbz"
      },
      "outputs": [],
      "source": [
        "import torch\n",
        "import torch.nn as nn\n",
        "import numpy as np\n",
        "import matplotlib.pyplot as plt\n",
        "\n",
        "class TimeSeriesTransformer(nn.Module):\n",
        "    def __init__(self, num_features, num_heads, num_layers, dropout=0.1):\n",
        "        super().__init__()\n",
        "        self.encoder_layer = nn.TransformerEncoderLayer(d_model=num_features, nhead=num_heads, dropout=dropout)\n",
        "        self.transformer_encoder = nn.TransformerEncoder(self.encoder_layer, num_layers=num_layers)\n",
        "        self.fc = nn.Linear(num_features, 1)\n",
        "\n",
        "    def forward(self, src):\n",
        "        output = self.transformer_encoder(src)\n",
        "        output = self.fc(output)\n",
        "        return output[-1]  # Take the last element of the output sequence\n",
        "\n",
        "def create_inout_sequences(input_data, tw):\n",
        "    inout_seq = []\n",
        "    L = len(input_data)\n",
        "    for i in range(L - tw):\n",
        "        train_seq = input_data[i:i + tw]\n",
        "        train_label = input_data[i + tw:i + tw + 1]\n",
        "        inout_seq.append((train_seq, train_label))\n",
        "    return inout_seq\n",
        "\n",
        "# Generate synthetic time series data\n",
        "time_steps = np.linspace(0, np.pi * 2, 100)\n",
        "data = np.sin(time_steps)\n",
        "\n",
        "train_data_normalized = (data - np.mean(data)) / np.std(data)\n",
        "train_data_normalized = torch.FloatTensor(train_data_normalized).view(-1, 1)  # Updated view for compatibility\n",
        "\n",
        "train_window = 12\n",
        "train_inout_seq = create_inout_sequences(train_data_normalized, train_window)\n",
        "\n",
        "model = TimeSeriesTransformer(num_features=1, num_heads=1, num_layers=1)  # Adjust num_features for compatibility\n",
        "loss_function = nn.MSELoss()\n",
        "optimizer = torch.optim.Adam(model.parameters(), lr=0.001)\n",
        "\n",
        "epochs = 150\n",
        "for i in range(epochs):\n",
        "    for seq, labels in train_inout_seq:\n",
        "        optimizer.zero_grad()\n",
        "\n",
        "        y_pred = model(seq.unsqueeze(1))\n",
        "\n",
        "        single_loss = loss_function(y_pred, labels)\n",
        "        single_loss.backward()\n",
        "        optimizer.step()\n",
        "\n",
        "    if i % 25 == 0:\n",
        "        print(f'Epoch: {i:3} Loss: {single_loss.item():10.8f}')\n",
        "\n",
        "# Predict the next values\n",
        "test_inputs = train_data_normalized[-train_window:].tolist()\n",
        "model.eval()\n",
        "for i in range(12):\n",
        "    # Ensure test_inputs is a list of lists\n",
        "    print(f\"test_inputs (length {len(test_inputs)}): {test_inputs[-train_window:]}\")  # Debugging print\n",
        "    seq = torch.FloatTensor(test_inputs[-train_window:]).view(-1, 1)\n",
        "    with torch.no_grad():\n",
        "        prediction = model(seq.unsqueeze(1)).item()\n",
        "        test_inputs.append([prediction])  # Append as list\n",
        "\n",
        "# Verify that test_inputs is a list of lists after the loop\n",
        "if not all(isinstance(x, list) for x in test_inputs):\n",
        "    print(\"Error: Not all elements in test_inputs are lists!\")\n",
        "else:\n",
        "    print(\"Success: All elements in test_inputs are lists!\")\n",
        "\n",
        "plt.plot(data)\n",
        "plt.plot(range(100, 112), [x[0] for x in test_inputs[train_window:]], 'r')\n",
        "plt.show()"
      ]
    }
  ]
}