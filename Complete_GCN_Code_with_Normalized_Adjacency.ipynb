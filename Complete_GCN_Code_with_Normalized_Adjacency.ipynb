{
  "nbformat": 4,
  "nbformat_minor": 0,
  "metadata": {
    "colab": {
      "private_outputs": true,
      "provenance": [],
      "authorship_tag": "ABX9TyMrJshdrcJEoZN37jmtx7s/",
      "include_colab_link": true
    },
    "kernelspec": {
      "name": "python3",
      "display_name": "Python 3"
    },
    "language_info": {
      "name": "python"
    }
  },
  "cells": [
    {
      "cell_type": "markdown",
      "metadata": {
        "id": "view-in-github",
        "colab_type": "text"
      },
      "source": [
        "<a href=\"https://colab.research.google.com/github/OneFineStarstuff/State-of-the-Art/blob/main/Complete_GCN_Code_with_Normalized_Adjacency.ipynb\" target=\"_parent\"><img src=\"https://colab.research.google.com/assets/colab-badge.svg\" alt=\"Open In Colab\"/></a>"
      ]
    },
    {
      "cell_type": "code",
      "execution_count": null,
      "metadata": {
        "id": "y_ESHEumszdN"
      },
      "outputs": [],
      "source": [
        "import torch\n",
        "import torch.nn.functional as F\n",
        "from torch import nn\n",
        "\n",
        "# --- GCN Layer ---\n",
        "class GCNLayer(nn.Module):\n",
        "    def __init__(self, in_features, out_features):\n",
        "        super(GCNLayer, self).__init__()\n",
        "        self.linear = nn.Linear(in_features, out_features)\n",
        "\n",
        "    def forward(self, x, adj):\n",
        "        support = self.linear(x)\n",
        "        output = torch.matmul(adj, support)  # Aggregation step\n",
        "        return output\n",
        "\n",
        "# --- GCN Model ---\n",
        "class GCN(nn.Module):\n",
        "    def __init__(self, in_features, hidden_features, out_features):\n",
        "        super(GCN, self).__init__()\n",
        "        self.gcn1 = GCNLayer(in_features, hidden_features)\n",
        "        self.gcn2 = GCNLayer(hidden_features, out_features)\n",
        "\n",
        "    def forward(self, x, adj):\n",
        "        x = F.relu(self.gcn1(x, adj))\n",
        "        x = self.gcn2(x, adj)\n",
        "        return F.log_softmax(x, dim=1)\n",
        "\n",
        "# --- Adjacency Normalization Function ---\n",
        "def normalize_adjacency(adj):\n",
        "    \"\"\"\n",
        "    Applies A_hat = D^{-1/2} (A + I) D^{-1/2}\n",
        "    \"\"\"\n",
        "    I = torch.eye(adj.size(0))\n",
        "    adj = adj + I  # Add self-loops\n",
        "    degree = adj.sum(dim=1)\n",
        "    D_inv_sqrt = torch.diag(torch.pow(degree, -0.5))\n",
        "    return D_inv_sqrt @ adj @ D_inv_sqrt  # Symmetric normalization\n",
        "\n",
        "# --- Example Graph ---\n",
        "# Node features: 6 nodes with 10-dimensional features\n",
        "node_features = torch.rand(6, 10)\n",
        "\n",
        "# Example adjacency matrix (6 nodes)\n",
        "adjacency_matrix = torch.tensor([\n",
        "    [1, 1, 0, 0, 0, 0],\n",
        "    [1, 1, 1, 0, 0, 0],\n",
        "    [0, 1, 1, 1, 0, 0],\n",
        "    [0, 0, 1, 1, 1, 0],\n",
        "    [0, 0, 0, 1, 1, 1],\n",
        "    [0, 0, 0, 0, 1, 1]\n",
        "], dtype=torch.float)\n",
        "\n",
        "# Normalize the adjacency matrix\n",
        "adj_norm = normalize_adjacency(adjacency_matrix)\n",
        "\n",
        "# Instantiate and run the model\n",
        "model = GCN(in_features=10, hidden_features=16, out_features=3)\n",
        "output = model(node_features, adj_norm)\n",
        "\n",
        "# Output\n",
        "print(\"Graph Output Shape:\", output.shape)\n",
        "print(\"Node class scores:\\n\", output)"
      ]
    }
  ]
}