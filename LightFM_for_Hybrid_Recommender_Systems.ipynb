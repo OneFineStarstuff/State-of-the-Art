{
  "nbformat": 4,
  "nbformat_minor": 0,
  "metadata": {
    "colab": {
      "private_outputs": true,
      "provenance": [],
      "authorship_tag": "ABX9TyP1BMpKCTDaZfhq7gyN9+gr",
      "include_colab_link": true
    },
    "kernelspec": {
      "name": "python3",
      "display_name": "Python 3"
    },
    "language_info": {
      "name": "python"
    }
  },
  "cells": [
    {
      "cell_type": "markdown",
      "metadata": {
        "id": "view-in-github",
        "colab_type": "text"
      },
      "source": [
        "<a href=\"https://colab.research.google.com/github/OneFineStarstuff/State-of-the-Art/blob/main/LightFM_for_Hybrid_Recommender_Systems.ipynb\" target=\"_parent\"><img src=\"https://colab.research.google.com/assets/colab-badge.svg\" alt=\"Open In Colab\"/></a>"
      ]
    },
    {
      "cell_type": "code",
      "source": [
        "pip install lightfm"
      ],
      "metadata": {
        "id": "l6_Hjj__wnd_"
      },
      "execution_count": null,
      "outputs": []
    },
    {
      "cell_type": "code",
      "execution_count": null,
      "metadata": {
        "id": "YQVLy0FCwX0i"
      },
      "outputs": [],
      "source": [
        "from lightfm import LightFM\n",
        "from lightfm.datasets import fetch_movielens\n",
        "import numpy as np\n",
        "\n",
        "# Fetch the MovieLens dataset\n",
        "data = fetch_movielens(min_rating=4.0)\n",
        "\n",
        "# Initialize the LightFM model\n",
        "model = LightFM(loss='warp')\n",
        "model.fit(data['train'], epochs=30, num_threads=2)\n",
        "\n",
        "# Define a function to generate recommendations\n",
        "def sample_recommendation(model, data, user_ids):\n",
        "    n_users, n_items = data['train'].shape\n",
        "\n",
        "    for user_id in user_ids:\n",
        "        known_positives = data['item_labels'][data['train'].tocsr()[user_id].indices]\n",
        "        scores = model.predict(user_id, np.arange(n_items))\n",
        "        top_items = data['item_labels'][np.argsort(-scores)]\n",
        "\n",
        "        print(f\"User {user_id}\")\n",
        "        print(\"     Known positives:\")\n",
        "        for x in known_positives[:3]:\n",
        "            print(f\"        {x}\")\n",
        "        print(\"     Recommended:\")\n",
        "        for x in top_items[:3]:\n",
        "            print(f\"        {x}\")\n",
        "\n",
        "# Generate sample recommendations for specified users\n",
        "sample_recommendation(model, data, [3, 25, 450])"
      ]
    }
  ]
}