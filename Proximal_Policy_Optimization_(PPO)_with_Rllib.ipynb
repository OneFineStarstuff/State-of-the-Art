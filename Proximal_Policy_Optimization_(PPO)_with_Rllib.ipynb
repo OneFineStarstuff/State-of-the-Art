{
  "nbformat": 4,
  "nbformat_minor": 0,
  "metadata": {
    "colab": {
      "private_outputs": true,
      "provenance": [],
      "authorship_tag": "ABX9TyPlS3B5IJnhhgumIbC00LJv",
      "include_colab_link": true
    },
    "kernelspec": {
      "name": "python3",
      "display_name": "Python 3"
    },
    "language_info": {
      "name": "python"
    }
  },
  "cells": [
    {
      "cell_type": "markdown",
      "metadata": {
        "id": "view-in-github",
        "colab_type": "text"
      },
      "source": [
        "<a href=\"https://colab.research.google.com/github/OneFineStarstuff/State-of-the-Art/blob/main/Proximal_Policy_Optimization_(PPO)_with_Rllib.ipynb\" target=\"_parent\"><img src=\"https://colab.research.google.com/assets/colab-badge.svg\" alt=\"Open In Colab\"/></a>"
      ]
    },
    {
      "cell_type": "code",
      "execution_count": null,
      "metadata": {
        "id": "B24bIZF_1YGH"
      },
      "outputs": [],
      "source": [
        "pip install ray[rllib] gymnasium"
      ]
    },
    {
      "cell_type": "code",
      "source": [
        "import ray\n",
        "from ray import tune\n",
        "from ray.rllib.agents.ppo import PPOTrainer\n",
        "\n",
        "# Initialize Ray\n",
        "ray.init()\n",
        "\n",
        "# Define configuration\n",
        "config = {\n",
        "    \"env\": \"CartPole-v1\",\n",
        "    \"num_gpus\": 0,\n",
        "    \"num_workers\": 1,\n",
        "}\n",
        "\n",
        "# Run training\n",
        "tune.run(PPOTrainer, config=config, stop={\"episode_reward_mean\": 200})"
      ],
      "metadata": {
        "id": "ekDnjQ1p1gmc"
      },
      "execution_count": null,
      "outputs": []
    }
  ]
}