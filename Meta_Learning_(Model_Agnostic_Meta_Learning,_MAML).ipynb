{
  "nbformat": 4,
  "nbformat_minor": 0,
  "metadata": {
    "colab": {
      "private_outputs": true,
      "provenance": [],
      "authorship_tag": "ABX9TyPS8pcWb1joL7/Txd2D/sEw",
      "include_colab_link": true
    },
    "kernelspec": {
      "name": "python3",
      "display_name": "Python 3"
    },
    "language_info": {
      "name": "python"
    }
  },
  "cells": [
    {
      "cell_type": "markdown",
      "metadata": {
        "id": "view-in-github",
        "colab_type": "text"
      },
      "source": [
        "<a href=\"https://colab.research.google.com/github/OneFineStarstuff/State-of-the-Art/blob/main/Meta_Learning_(Model_Agnostic_Meta_Learning%2C_MAML).ipynb\" target=\"_parent\"><img src=\"https://colab.research.google.com/assets/colab-badge.svg\" alt=\"Open In Colab\"/></a>"
      ]
    },
    {
      "cell_type": "code",
      "execution_count": null,
      "metadata": {
        "id": "-xTWphSxhvR1"
      },
      "outputs": [],
      "source": [
        "import torch\n",
        "import torch.nn as nn\n",
        "import torch.optim as optim\n",
        "\n",
        "# Define the SimpleNN class\n",
        "class SimpleNN(nn.Module):\n",
        "    def __init__(self, input_dim, output_dim):\n",
        "        super(SimpleNN, self).__init__()\n",
        "        self.fc1 = nn.Linear(input_dim, 128)  # First fully connected layer\n",
        "        self.fc2 = nn.Linear(128, output_dim)  # Second fully connected layer\n",
        "\n",
        "    def forward(self, x):\n",
        "        x = torch.relu(self.fc1(x))  # Apply ReLU activation after the first layer\n",
        "        x = self.fc2(x)  # Apply the second fully connected layer\n",
        "        return x\n",
        "\n",
        "# Define the MAML step function\n",
        "def maml_step(model, loss_fn, optimizer, data, labels, inner_lr=0.01):\n",
        "    # Inner loop (task-specific update)\n",
        "    task_optimizer = optim.SGD(model.parameters(), lr=inner_lr)  # Task-specific optimizer\n",
        "    task_optimizer.zero_grad()\n",
        "    output = model(data)  # Forward pass\n",
        "    loss = loss_fn(output, labels)  # Compute loss\n",
        "    loss.backward()\n",
        "    task_optimizer.step()  # Update model parameters\n",
        "\n",
        "    # Compute meta-gradient\n",
        "    meta_output = model(data)\n",
        "    meta_loss = loss_fn(meta_output, labels)  # Compute meta-loss\n",
        "    optimizer.zero_grad()\n",
        "    meta_loss.backward()  # Backpropagation for meta-gradient\n",
        "    optimizer.step()  # Update model parameters with meta-gradient\n",
        "\n",
        "    return meta_loss.item()\n",
        "\n",
        "# Example usage\n",
        "model = SimpleNN(input_dim=784, output_dim=10)  # Instantiate the model\n",
        "loss_fn = nn.CrossEntropyLoss()  # Define the loss function\n",
        "optimizer = optim.Adam(model.parameters(), lr=0.001)  # Define the optimizer\n",
        "\n",
        "# Dummy data for demonstration\n",
        "data = torch.randn(64, 784)  # Example input (batch_size=64, input_dim=784)\n",
        "labels = torch.randint(0, 10, (64,))  # Example labels (batch_size=64)\n",
        "\n",
        "# Perform a single MAML step\n",
        "meta_loss = maml_step(model, loss_fn, optimizer, data, labels)\n",
        "print(\"Meta loss after MAML step:\", meta_loss)"
      ]
    }
  ]
}