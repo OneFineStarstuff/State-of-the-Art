{
  "nbformat": 4,
  "nbformat_minor": 0,
  "metadata": {
    "colab": {
      "private_outputs": true,
      "provenance": [],
      "authorship_tag": "ABX9TyP6YNwvMGl7/QoSu2eJuGoO",
      "include_colab_link": true
    },
    "kernelspec": {
      "name": "python3",
      "display_name": "Python 3"
    },
    "language_info": {
      "name": "python"
    }
  },
  "cells": [
    {
      "cell_type": "markdown",
      "metadata": {
        "id": "view-in-github",
        "colab_type": "text"
      },
      "source": [
        "<a href=\"https://colab.research.google.com/github/OneFineStarstuff/State-of-the-Art/blob/main/Deep_RL_in_Vision.ipynb\" target=\"_parent\"><img src=\"https://colab.research.google.com/assets/colab-badge.svg\" alt=\"Open In Colab\"/></a>"
      ]
    },
    {
      "cell_type": "code",
      "execution_count": null,
      "metadata": {
        "id": "covfHZczP5sn"
      },
      "outputs": [],
      "source": [
        "import gym\n",
        "import torch\n",
        "import torch.nn as nn\n",
        "import torch.optim as optim\n",
        "\n",
        "class PolicyNetwork(nn.Module):\n",
        "    def __init__(self, input_dim, output_dim):\n",
        "        super(PolicyNetwork, self).__init__()\n",
        "        self.fc = nn.Sequential(\n",
        "            nn.Linear(input_dim, 128),\n",
        "            nn.ReLU(),\n",
        "            nn.Linear(128, output_dim),\n",
        "            nn.Softmax(dim=-1)\n",
        "        )\n",
        "\n",
        "    def forward(self, x):\n",
        "        return self.fc(x)\n",
        "\n",
        "# Create CartPole-v1 environment\n",
        "env = gym.make('CartPole-v1')\n",
        "\n",
        "# Instantiate policy network\n",
        "policy_net = PolicyNetwork(input_dim=4, output_dim=2)\n",
        "\n",
        "# Define optimizer\n",
        "optimizer = optim.Adam(policy_net.parameters(), lr=0.01)\n",
        "\n",
        "# Training loop (simplified)\n",
        "for episode in range(1000):\n",
        "    state = env.reset()\n",
        "    episode_rewards = []\n",
        "    for t in range(100):\n",
        "        state_tensor = torch.FloatTensor(state).unsqueeze(0)\n",
        "        action_probs = policy_net(state_tensor)\n",
        "        action = torch.multinomial(action_probs, 1).item()\n",
        "        next_state, reward, done, _ = env.step(action)\n",
        "        episode_rewards.append(reward)\n",
        "        if done:\n",
        "            break\n",
        "        state = next_state\n",
        "    print(f\"Episode {episode}, Total Reward: {sum(episode_rewards)}\")"
      ]
    }
  ]
}