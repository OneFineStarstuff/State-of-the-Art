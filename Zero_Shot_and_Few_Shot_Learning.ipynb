{
  "nbformat": 4,
  "nbformat_minor": 0,
  "metadata": {
    "colab": {
      "private_outputs": true,
      "provenance": [],
      "authorship_tag": "ABX9TyOk8KVuxSdmdJKSh9I8hpgX",
      "include_colab_link": true
    },
    "kernelspec": {
      "name": "python3",
      "display_name": "Python 3"
    },
    "language_info": {
      "name": "python"
    }
  },
  "cells": [
    {
      "cell_type": "markdown",
      "metadata": {
        "id": "view-in-github",
        "colab_type": "text"
      },
      "source": [
        "<a href=\"https://colab.research.google.com/github/OneFineStarstuff/State-of-the-Art/blob/main/Zero_Shot_and_Few_Shot_Learning.ipynb\" target=\"_parent\"><img src=\"https://colab.research.google.com/assets/colab-badge.svg\" alt=\"Open In Colab\"/></a>"
      ]
    },
    {
      "cell_type": "code",
      "execution_count": null,
      "metadata": {
        "id": "bF_nV99K6nM4"
      },
      "outputs": [],
      "source": [
        "from sklearn.metrics.pairwise import cosine_similarity\n",
        "import numpy as np\n",
        "\n",
        "# Pre-trained word embeddings (for simplicity, using random vectors)\n",
        "embeddings = {\n",
        "    \"cat\": np.random.rand(300),\n",
        "    \"dog\": np.random.rand(300),\n",
        "    \"car\": np.random.rand(300),\n",
        "    \"vehicle\": np.random.rand(300),\n",
        "}\n",
        "\n",
        "# Zero-shot learning: classifying 'vehicle' based on similarity\n",
        "query = \"vehicle\"\n",
        "similarities = {word: cosine_similarity(embeddings[query].reshape(1, -1), emb.reshape(1, -1))[0][0] for word, emb in embeddings.items()}\n",
        "print(\"Similarities to 'vehicle':\", similarities)"
      ]
    }
  ]
}