{
  "nbformat": 4,
  "nbformat_minor": 0,
  "metadata": {
    "colab": {
      "private_outputs": true,
      "provenance": [],
      "authorship_tag": "ABX9TyPVm8NhXNsvIPxv75AMckvY",
      "include_colab_link": true
    },
    "kernelspec": {
      "name": "python3",
      "display_name": "Python 3"
    },
    "language_info": {
      "name": "python"
    }
  },
  "cells": [
    {
      "cell_type": "markdown",
      "metadata": {
        "id": "view-in-github",
        "colab_type": "text"
      },
      "source": [
        "<a href=\"https://colab.research.google.com/github/OneFineStarstuff/State-of-the-Art/blob/main/Transformers_for_NLP.ipynb\" target=\"_parent\"><img src=\"https://colab.research.google.com/assets/colab-badge.svg\" alt=\"Open In Colab\"/></a>"
      ]
    },
    {
      "cell_type": "code",
      "execution_count": null,
      "metadata": {
        "id": "Hcw-j3MQf14K"
      },
      "outputs": [],
      "source": [
        "from transformers import pipeline\n",
        "\n",
        "# Specify the model name and revision explicitly\n",
        "model_name = \"distilbert/distilbert-base-uncased-finetuned-sst-2-english\"\n",
        "revision = \"714eb0f\"\n",
        "\n",
        "# Initialize the text classification pipeline with the specified model and revision\n",
        "classifier = pipeline(\"text-classification\", model=model_name, revision=revision)\n",
        "\n",
        "# Classify the text\n",
        "result = classifier(\"I love using advanced algorithms in Python.\")\n",
        "\n",
        "# Print the result\n",
        "print(result)"
      ]
    }
  ]
}