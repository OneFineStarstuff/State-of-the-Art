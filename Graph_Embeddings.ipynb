{
  "nbformat": 4,
  "nbformat_minor": 0,
  "metadata": {
    "colab": {
      "private_outputs": true,
      "provenance": [],
      "authorship_tag": "ABX9TyOrVONWC6llDlxez4jMjseq",
      "include_colab_link": true
    },
    "kernelspec": {
      "name": "python3",
      "display_name": "Python 3"
    },
    "language_info": {
      "name": "python"
    }
  },
  "cells": [
    {
      "cell_type": "markdown",
      "metadata": {
        "id": "view-in-github",
        "colab_type": "text"
      },
      "source": [
        "<a href=\"https://colab.research.google.com/github/OneFineStarstuff/State-of-the-Art/blob/main/Graph_Embeddings.ipynb\" target=\"_parent\"><img src=\"https://colab.research.google.com/assets/colab-badge.svg\" alt=\"Open In Colab\"/></a>"
      ]
    },
    {
      "cell_type": "code",
      "source": [
        "pip install node2vec"
      ],
      "metadata": {
        "id": "s57ZgqgIFiec"
      },
      "execution_count": null,
      "outputs": []
    },
    {
      "cell_type": "code",
      "execution_count": null,
      "metadata": {
        "id": "l0AxBE-8FUnZ"
      },
      "outputs": [],
      "source": [
        "import networkx as nx\n",
        "from node2vec import Node2Vec\n",
        "\n",
        "# Initialize the graph\n",
        "G = nx.Graph()\n",
        "\n",
        "# Add edges with weights\n",
        "G.add_edge('A', 'B', weight=4)\n",
        "G.add_edge('B', 'C', weight=2)\n",
        "G.add_edge('A', 'C', weight=5)\n",
        "\n",
        "# Create a Node2Vec instance\n",
        "node2vec = Node2Vec(G, dimensions=64, walk_length=30, num_walks=200, workers=4)\n",
        "\n",
        "# Fit the model\n",
        "model = node2vec.fit(window=10, min_count=1, batch_words=4)\n",
        "\n",
        "# Access the embeddings for a specific node\n",
        "node_embedding = model.wv['A']\n",
        "print(node_embedding)\n",
        "\n",
        "# Save the embeddings to a file\n",
        "model.wv.save_word2vec_format('node2vec_embeddings.txt')"
      ]
    }
  ]
}