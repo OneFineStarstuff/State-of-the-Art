{
  "nbformat": 4,
  "nbformat_minor": 0,
  "metadata": {
    "colab": {
      "private_outputs": true,
      "provenance": [],
      "authorship_tag": "ABX9TyN+xtyuQ0ZfEWZpclR7dFN7",
      "include_colab_link": true
    },
    "kernelspec": {
      "name": "python3",
      "display_name": "Python 3"
    },
    "language_info": {
      "name": "python"
    }
  },
  "cells": [
    {
      "cell_type": "markdown",
      "metadata": {
        "id": "view-in-github",
        "colab_type": "text"
      },
      "source": [
        "<a href=\"https://colab.research.google.com/github/OneFineStarstuff/State-of-the-Art/blob/main/Deep_Q_Networks_(DQN).ipynb\" target=\"_parent\"><img src=\"https://colab.research.google.com/assets/colab-badge.svg\" alt=\"Open In Colab\"/></a>"
      ]
    },
    {
      "cell_type": "code",
      "execution_count": null,
      "metadata": {
        "id": "om3oEpeBL8uK"
      },
      "outputs": [],
      "source": [
        "import torch\n",
        "import torch.nn as nn\n",
        "import torch.optim as optim\n",
        "import gym\n",
        "import random\n",
        "import numpy as np\n",
        "from collections import deque\n",
        "\n",
        "class DQN(nn.Module):\n",
        "    def __init__(self, state_size, action_size):\n",
        "        super(DQN, self).__init__()\n",
        "        self.fc1 = nn.Linear(state_size, 24)\n",
        "        self.fc2 = nn.Linear(24, 24)\n",
        "        self.fc3 = nn.Linear(24, action_size)\n",
        "\n",
        "    def forward(self, x):\n",
        "        x = torch.relu(self.fc1(x))\n",
        "        x = torch.relu(self.fc2(x))\n",
        "        x = self.fc3(x)\n",
        "        return x\n",
        "\n",
        "def train_dqn(env, model, episodes=1000):\n",
        "    optimizer = optim.Adam(model.parameters(), lr=0.001)\n",
        "    loss_fn = nn.MSELoss()\n",
        "    gamma = 0.99\n",
        "    epsilon = 1.0\n",
        "    epsilon_decay = 0.995\n",
        "    epsilon_min = 0.01\n",
        "    replay_buffer = deque(maxlen=2000)\n",
        "    batch_size = 64\n",
        "\n",
        "    for episode in range(episodes):\n",
        "        state = env.reset()\n",
        "        state = torch.tensor(state, dtype=torch.float32)\n",
        "        total_reward = 0\n",
        "        done = False\n",
        "\n",
        "        while not done:\n",
        "            if random.random() < epsilon:\n",
        "                action = env.action_space.sample()\n",
        "            else:\n",
        "                with torch.no_grad():\n",
        "                    q_values = model(state)\n",
        "                    action = torch.argmax(q_values).item()\n",
        "\n",
        "            next_state, reward, done, _ = env.step(action)\n",
        "            next_state = torch.tensor(next_state, dtype=torch.float32)\n",
        "            total_reward += reward\n",
        "\n",
        "            replay_buffer.append((state, action, reward, next_state, done))\n",
        "\n",
        "            state = next_state\n",
        "\n",
        "            if len(replay_buffer) > batch_size:\n",
        "                minibatch = random.sample(replay_buffer, batch_size)\n",
        "                states, actions, rewards, next_states, dones = zip(*minibatch)\n",
        "                states = torch.stack(states)\n",
        "                actions = torch.tensor(actions).unsqueeze(1)\n",
        "                rewards = torch.tensor(rewards).unsqueeze(1)\n",
        "                next_states = torch.stack(next_states)\n",
        "                dones = torch.tensor(dones).unsqueeze(1)\n",
        "\n",
        "                with torch.no_grad():\n",
        "                    # Use torch.logical_not instead of (1 - dones)\n",
        "                    target_q = rewards + torch.logical_not(dones) * gamma * torch.max(model(next_states), dim=1, keepdim=True)[0]\n",
        "\n",
        "                q_values = model(states).gather(1, actions)\n",
        "\n",
        "                loss = loss_fn(q_values, target_q)\n",
        "                optimizer.zero_grad()\n",
        "                loss.backward()\n",
        "                optimizer.step()\n",
        "\n",
        "        epsilon = max(epsilon_min, epsilon * epsilon_decay)\n",
        "        print(f\"Episode {episode+1}, Total Reward: {total_reward}\")\n",
        "\n",
        "env = gym.make('CartPole-v1')\n",
        "model = DQN(state_size=env.observation_space.shape[0], action_size=env.action_space.n)\n",
        "train_dqn(env, model)"
      ]
    }
  ]
}