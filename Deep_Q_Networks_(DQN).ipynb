{
  "nbformat": 4,
  "nbformat_minor": 0,
  "metadata": {
    "colab": {
      "private_outputs": true,
      "provenance": [],
      "authorship_tag": "ABX9TyNfDQZ5WeavXtv5g4jIc/kN",
      "include_colab_link": true
    },
    "kernelspec": {
      "name": "python3",
      "display_name": "Python 3"
    },
    "language_info": {
      "name": "python"
    }
  },
  "cells": [
    {
      "cell_type": "markdown",
      "metadata": {
        "id": "view-in-github",
        "colab_type": "text"
      },
      "source": [
        "<a href=\"https://colab.research.google.com/github/OneFineStarstuff/State-of-the-Art/blob/main/Deep_Q_Networks_(DQN).ipynb\" target=\"_parent\"><img src=\"https://colab.research.google.com/assets/colab-badge.svg\" alt=\"Open In Colab\"/></a>"
      ]
    },
    {
      "cell_type": "code",
      "execution_count": null,
      "metadata": {
        "id": "qg47ok6q9YIh"
      },
      "outputs": [],
      "source": [
        "import random\n",
        "import gym\n",
        "import numpy as np\n",
        "import torch\n",
        "import torch.nn as nn\n",
        "import torch.optim as optim\n",
        "from collections import deque\n",
        "\n",
        "class DQN(nn.Module):\n",
        "    def __init__(self):\n",
        "        super(DQN, self).__init__()\n",
        "        self.fc1 = nn.Linear(4, 128)\n",
        "        self.fc2 = nn.Linear(128, 2)\n",
        "\n",
        "    def forward(self, x):\n",
        "        x = torch.relu(self.fc1(x))\n",
        "        return self.fc2(x)\n",
        "\n",
        "env = gym.make('CartPole-v1', new_step_api=True)\n",
        "model = DQN()\n",
        "optimizer = optim.Adam(model.parameters(), lr=1e-3)\n",
        "criterion = nn.MSELoss()\n",
        "memory = deque(maxlen=10000)\n",
        "batch_size = 64\n",
        "gamma = 0.99\n",
        "\n",
        "def select_action(state, epsilon):\n",
        "    if random.random() < epsilon:\n",
        "        return env.action_space.sample()\n",
        "    else:\n",
        "        with torch.no_grad():\n",
        "            return model(torch.tensor(state, dtype=torch.float32)).argmax().item()\n",
        "\n",
        "for episode in range(500):\n",
        "    state = env.reset() if isinstance(env.reset(), tuple) else env.reset()\n",
        "    epsilon = max(0.01, 0.08 - 0.01 * (episode / 200))\n",
        "    total_reward = 0\n",
        "    done = False\n",
        "\n",
        "    while not done:\n",
        "        action = select_action(state, epsilon)\n",
        "        next_state, reward, done, _, _ = env.step(action)\n",
        "        total_reward += reward\n",
        "        memory.append((state, action, reward, next_state, done))\n",
        "        state = next_state\n",
        "\n",
        "        if len(memory) >= batch_size:\n",
        "            batch = random.sample(memory, batch_size)\n",
        "            states, actions, rewards, next_states, dones = zip(*batch)\n",
        "            states = torch.tensor(states, dtype=torch.float32)\n",
        "            actions = torch.tensor(actions, dtype=torch.int64)\n",
        "            rewards = torch.tensor(rewards, dtype=torch.float32)\n",
        "            next_states = torch.tensor(next_states, dtype=torch.float32)\n",
        "            dones = torch.tensor(dones, dtype=torch.float32)\n",
        "\n",
        "            current_q = model(states).gather(1, actions.unsqueeze(1)).squeeze(1)\n",
        "            max_next_q = model(next_states).max(1)[0]\n",
        "            expected_q = rewards + (1 - dones) * gamma * max_next_q\n",
        "\n",
        "            loss = criterion(current_q, expected_q)\n",
        "            optimizer.zero_grad()\n",
        "            loss.backward()\n",
        "            optimizer.step()\n",
        "\n",
        "    if episode % 10 == 0:\n",
        "        print(f\"Episode {episode}, total reward: {total_reward}\")"
      ]
    }
  ]
}