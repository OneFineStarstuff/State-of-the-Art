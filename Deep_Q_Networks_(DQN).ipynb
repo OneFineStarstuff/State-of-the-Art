{
  "nbformat": 4,
  "nbformat_minor": 0,
  "metadata": {
    "colab": {
      "private_outputs": true,
      "provenance": [],
      "authorship_tag": "ABX9TyMvZsQUXzkYclphrYk9gWhy",
      "include_colab_link": true
    },
    "kernelspec": {
      "name": "python3",
      "display_name": "Python 3"
    },
    "language_info": {
      "name": "python"
    }
  },
  "cells": [
    {
      "cell_type": "markdown",
      "metadata": {
        "id": "view-in-github",
        "colab_type": "text"
      },
      "source": [
        "<a href=\"https://colab.research.google.com/github/OneFineStarstuff/State-of-the-Art/blob/main/Deep_Q_Networks_(DQN).ipynb\" target=\"_parent\"><img src=\"https://colab.research.google.com/assets/colab-badge.svg\" alt=\"Open In Colab\"/></a>"
      ]
    },
    {
      "cell_type": "code",
      "source": [
        "pip install gymnasium stable_baselines3"
      ],
      "metadata": {
        "id": "znB0ugEE7rjm"
      },
      "execution_count": null,
      "outputs": []
    },
    {
      "cell_type": "code",
      "execution_count": null,
      "metadata": {
        "id": "FGD5gMi57SLZ"
      },
      "outputs": [],
      "source": [
        "import gymnasium as gym\n",
        "from stable_baselines3 import DQN\n",
        "\n",
        "# Create the environment using Gymnasium\n",
        "env = gym.make('CartPole-v1', render_mode='human')\n",
        "\n",
        "# Initialize the DQN model with the MlpPolicy (Multi-Layer Perceptron)\n",
        "model = DQN('MlpPolicy', env, verbose=1)\n",
        "\n",
        "# Train the model\n",
        "model.learn(total_timesteps=10000)\n",
        "\n",
        "# Save the model\n",
        "model.save(\"dqn_cartpole\")\n",
        "\n",
        "# Load the model (for later use)\n",
        "model = DQN.load(\"dqn_cartpole\")\n",
        "\n",
        "# Test the trained model\n",
        "obs, info = env.reset()\n",
        "for _ in range(1000):\n",
        "    action, _states = model.predict(obs)\n",
        "    obs, reward, terminated, truncated, info = env.step(action)\n",
        "    env.render()\n",
        "    if terminated or truncated:\n",
        "        obs, info = env.reset()\n",
        "\n",
        "env.close()"
      ]
    }
  ]
}