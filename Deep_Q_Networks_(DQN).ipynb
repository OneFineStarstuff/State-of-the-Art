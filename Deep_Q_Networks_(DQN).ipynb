{
  "nbformat": 4,
  "nbformat_minor": 0,
  "metadata": {
    "colab": {
      "private_outputs": true,
      "provenance": [],
      "authorship_tag": "ABX9TyP73G5QgMJSYz1uZUlF/NrR",
      "include_colab_link": true
    },
    "kernelspec": {
      "name": "python3",
      "display_name": "Python 3"
    },
    "language_info": {
      "name": "python"
    }
  },
  "cells": [
    {
      "cell_type": "markdown",
      "metadata": {
        "id": "view-in-github",
        "colab_type": "text"
      },
      "source": [
        "<a href=\"https://colab.research.google.com/github/OneFineStarstuff/State-of-the-Art/blob/main/Deep_Q_Networks_(DQN).ipynb\" target=\"_parent\"><img src=\"https://colab.research.google.com/assets/colab-badge.svg\" alt=\"Open In Colab\"/></a>"
      ]
    },
    {
      "cell_type": "code",
      "source": [
        "pip install stable_baselines3"
      ],
      "metadata": {
        "id": "aWVVU9kSVsow"
      },
      "execution_count": null,
      "outputs": []
    },
    {
      "cell_type": "code",
      "source": [
        "pip install ale-py gymnasium[atari]"
      ],
      "metadata": {
        "id": "2kujKYO4WWay"
      },
      "execution_count": null,
      "outputs": []
    },
    {
      "cell_type": "code",
      "source": [
        "pip install swig"
      ],
      "metadata": {
        "id": "nEfLS6UdZFTM"
      },
      "execution_count": null,
      "outputs": []
    },
    {
      "cell_type": "code",
      "source": [
        "pip install \"gymnasium[box2d]\""
      ],
      "metadata": {
        "id": "nDXTbDMsZIVO"
      },
      "execution_count": null,
      "outputs": []
    },
    {
      "cell_type": "code",
      "execution_count": null,
      "metadata": {
        "id": "sDU1XwO-VhSz"
      },
      "outputs": [],
      "source": [
        "from stable_baselines3 import DQN\n",
        "from stable_baselines3.common.vec_env import DummyVecEnv\n",
        "import gymnasium as gym\n",
        "\n",
        "# Create the Lunar Lander environment\n",
        "env = gym.make('LunarLander-v3')\n",
        "\n",
        "# Wrap the environment in DummyVecEnv\n",
        "env = DummyVecEnv([lambda: env])\n",
        "\n",
        "# Initialize the DQN model with an MLP policy\n",
        "model = DQN('MlpPolicy', env, verbose=1)\n",
        "\n",
        "# Train the model for 10,000 timesteps\n",
        "model.learn(total_timesteps=10000)"
      ]
    },
    {
      "cell_type": "code",
      "source": [
        "import gymnasium as gym\n",
        "\n",
        "# List all available environments\n",
        "print(gym.envs.registry.keys())"
      ],
      "metadata": {
        "id": "JBrX8SSbYLKr"
      },
      "execution_count": null,
      "outputs": []
    },
    {
      "cell_type": "code",
      "source": [
        "from stable_baselines3 import DQN\n",
        "from stable_baselines3.common.vec_env import DummyVecEnv\n",
        "import gymnasium as gym\n",
        "\n",
        "# Replace 'YOUR_ENV_NAME' with the correct environment name found\n",
        "env_name = 'YOUR_ENV_NAME'\n",
        "\n",
        "# Create the Atari environment\n",
        "env = gym.make(env_name)\n",
        "\n",
        "# Wrap the environment in DummyVecEnv\n",
        "env = DummyVecEnv([lambda: env])\n",
        "\n",
        "# Initialize the DQN model with a CNN policy\n",
        "model = DQN('CnnPolicy', env, verbose=1)\n",
        "\n",
        "# Train the model for 10,000 timesteps\n",
        "model.learn(total_timesteps=10000)"
      ],
      "metadata": {
        "id": "2eD3ZmquYXgh"
      },
      "execution_count": null,
      "outputs": []
    }
  ]
}