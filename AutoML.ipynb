{
  "nbformat": 4,
  "nbformat_minor": 0,
  "metadata": {
    "colab": {
      "private_outputs": true,
      "provenance": [],
      "authorship_tag": "ABX9TyOauERUcb6Xv/xl+81qJD/h",
      "include_colab_link": true
    },
    "kernelspec": {
      "name": "python3",
      "display_name": "Python 3"
    },
    "language_info": {
      "name": "python"
    }
  },
  "cells": [
    {
      "cell_type": "markdown",
      "metadata": {
        "id": "view-in-github",
        "colab_type": "text"
      },
      "source": [
        "<a href=\"https://colab.research.google.com/github/OneFineStarstuff/State-of-the-Art/blob/main/AutoML.ipynb\" target=\"_parent\"><img src=\"https://colab.research.google.com/assets/colab-badge.svg\" alt=\"Open In Colab\"/></a>"
      ]
    },
    {
      "cell_type": "code",
      "source": [
        "pip install h2o"
      ],
      "metadata": {
        "id": "2s3EY8fhbnhQ"
      },
      "execution_count": null,
      "outputs": []
    },
    {
      "cell_type": "code",
      "execution_count": null,
      "metadata": {
        "id": "C3tfaiCobSIg"
      },
      "outputs": [],
      "source": [
        "import h2o\n",
        "from h2o.automl import H2OAutoML\n",
        "\n",
        "# Initialize the H2O cluster\n",
        "h2o.init()\n",
        "\n",
        "# Import the training dataset\n",
        "train = h2o.import_file(\"train.csv\")\n",
        "\n",
        "# Define the AutoML instance with a maximum runtime of 3600 seconds (1 hour)\n",
        "aml = H2OAutoML(max_runtime_secs=3600)\n",
        "\n",
        "# Train the model\n",
        "aml.train(y=\"response\", training_frame=train)\n",
        "\n",
        "# View the leaderboard of the best models\n",
        "lb = aml.leaderboard\n",
        "print(lb)\n",
        "\n",
        "# Get the best model\n",
        "best_model = aml.leader\n",
        "print(f'Best Model: {best_model}')\n",
        "\n",
        "# Predict on the training dataset (you can also use a separate test dataset)\n",
        "predictions = best_model.predict(train)\n",
        "print(predictions.head())"
      ]
    }
  ]
}