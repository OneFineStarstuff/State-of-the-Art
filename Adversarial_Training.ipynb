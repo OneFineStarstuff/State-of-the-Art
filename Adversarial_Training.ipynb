{
  "nbformat": 4,
  "nbformat_minor": 0,
  "metadata": {
    "colab": {
      "private_outputs": true,
      "provenance": [],
      "authorship_tag": "ABX9TyMxvGK9MxvhX0DUPj4UGDsk",
      "include_colab_link": true
    },
    "kernelspec": {
      "name": "python3",
      "display_name": "Python 3"
    },
    "language_info": {
      "name": "python"
    }
  },
  "cells": [
    {
      "cell_type": "markdown",
      "metadata": {
        "id": "view-in-github",
        "colab_type": "text"
      },
      "source": [
        "<a href=\"https://colab.research.google.com/github/OneFineStarstuff/State-of-the-Art/blob/main/Adversarial_Training.ipynb\" target=\"_parent\"><img src=\"https://colab.research.google.com/assets/colab-badge.svg\" alt=\"Open In Colab\"/></a>"
      ]
    },
    {
      "cell_type": "code",
      "execution_count": null,
      "metadata": {
        "id": "_D9xahgnHXAn"
      },
      "outputs": [],
      "source": [
        "import torch\n",
        "import torch.nn as nn\n",
        "import torch.optim as optim\n",
        "from torchvision import datasets, transforms\n",
        "\n",
        "# Define a simple model\n",
        "class SimpleModel(nn.Module):\n",
        "    def __init__(self):\n",
        "        super(SimpleModel, self).__init__()\n",
        "        self.fc1 = nn.Linear(28 * 28, 128)\n",
        "        self.fc2 = nn.Linear(128, 10)\n",
        "\n",
        "    def forward(self, x):\n",
        "        x = torch.flatten(x, 1)\n",
        "        x = torch.relu(self.fc1(x))\n",
        "        return self.fc2(x)\n",
        "\n",
        "# FGSM attack\n",
        "def fgsm_attack(model, data, target, epsilon):\n",
        "    data.requires_grad = True\n",
        "    output = model(data)\n",
        "    loss = nn.CrossEntropyLoss()(output, target)\n",
        "    model.zero_grad()\n",
        "    loss.backward()\n",
        "    data_grad = data.grad.data\n",
        "    perturbed_data = data + epsilon * data_grad.sign()\n",
        "    return perturbed_data\n",
        "\n",
        "# Training loop with adversarial examples\n",
        "model = SimpleModel()\n",
        "optimizer = optim.Adam(model.parameters(), lr=0.001)\n",
        "train_loader = torch.utils.data.DataLoader(\n",
        "    datasets.MNIST('.', train=True, download=True, transform=transforms.ToTensor()),\n",
        "    batch_size=32, shuffle=True)\n",
        "\n",
        "for epoch in range(5):\n",
        "    for data, target in train_loader:\n",
        "        optimizer.zero_grad()\n",
        "        perturbed_data = fgsm_attack(model, data, target, epsilon=0.1)\n",
        "        output = model(perturbed_data)\n",
        "        loss = nn.CrossEntropyLoss()(output, target)\n",
        "        loss.backward()\n",
        "        optimizer.step()\n",
        "    print(f\"Epoch {epoch+1}, Loss: {loss.item()}\")"
      ]
    }
  ]
}