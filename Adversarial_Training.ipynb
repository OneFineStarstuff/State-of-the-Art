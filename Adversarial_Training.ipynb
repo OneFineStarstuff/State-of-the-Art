{
  "nbformat": 4,
  "nbformat_minor": 0,
  "metadata": {
    "colab": {
      "private_outputs": true,
      "provenance": [],
      "authorship_tag": "ABX9TyMAWAb7YR1UZwV3BwxxF+oO",
      "include_colab_link": true
    },
    "kernelspec": {
      "name": "python3",
      "display_name": "Python 3"
    },
    "language_info": {
      "name": "python"
    }
  },
  "cells": [
    {
      "cell_type": "markdown",
      "metadata": {
        "id": "view-in-github",
        "colab_type": "text"
      },
      "source": [
        "<a href=\"https://colab.research.google.com/github/OneFineStarstuff/State-of-the-Art/blob/main/Adversarial_Training.ipynb\" target=\"_parent\"><img src=\"https://colab.research.google.com/assets/colab-badge.svg\" alt=\"Open In Colab\"/></a>"
      ]
    },
    {
      "cell_type": "code",
      "execution_count": null,
      "metadata": {
        "id": "UTxamAeEeZe0"
      },
      "outputs": [],
      "source": [
        "import torch\n",
        "import torch.nn as nn\n",
        "import torch.optim as optim\n",
        "from torchvision import datasets, transforms\n",
        "from torch.utils.data import DataLoader\n",
        "\n",
        "# Define the SimpleCNN class\n",
        "class SimpleCNN(nn.Module):\n",
        "    def __init__(self):\n",
        "        super(SimpleCNN, self).__init__()\n",
        "        self.conv1 = nn.Conv2d(1, 32, kernel_size=3, padding=1)  # Convolutional layer\n",
        "        self.fc1 = nn.Linear(32 * 28 * 28, 10)  # Fully connected layer\n",
        "\n",
        "    def forward(self, x):\n",
        "        x = torch.relu(self.conv1(x))  # Apply ReLU activation after conv layer\n",
        "        x = x.view(x.size(0), -1)  # Flatten the tensor\n",
        "        x = self.fc1(x)  # Apply fully connected layer\n",
        "        return x\n",
        "\n",
        "# Define the FGSM attack function\n",
        "def fgsm_attack(model, loss_fn, images, labels, epsilon):\n",
        "    images.requires_grad = True  # Enable gradient computation for images\n",
        "    outputs = model(images)  # Forward pass\n",
        "    loss = loss_fn(outputs, labels)  # Compute loss\n",
        "    model.zero_grad()  # Zero the gradients\n",
        "    loss.backward()  # Backpropagation\n",
        "    data_grad = images.grad.data  # Get the gradients of the images\n",
        "    perturbed_image = images + epsilon * data_grad.sign()  # Add perturbations to the images\n",
        "    return torch.clamp(perturbed_image, 0, 1)  # Clamp the perturbed images to be within [0, 1]\n",
        "\n",
        "# Example usage\n",
        "model = SimpleCNN()\n",
        "loss_fn = nn.CrossEntropyLoss()\n",
        "optimizer = optim.Adam(model.parameters())\n",
        "\n",
        "# Load MNIST dataset\n",
        "transform = transforms.Compose([\n",
        "    transforms.ToTensor(),\n",
        "    transforms.Normalize((0.1307,), (0.3081,))\n",
        "])\n",
        "train_dataset = datasets.MNIST(root='./data', train=True, transform=transform, download=True)\n",
        "data_loader = DataLoader(train_dataset, batch_size=64, shuffle=True)\n",
        "\n",
        "# Training loop with adversarial training\n",
        "for _ in range(5):\n",
        "    for images, labels in data_loader:\n",
        "        optimizer.zero_grad()\n",
        "        outputs = model(images)\n",
        "        loss = loss_fn(outputs, labels)\n",
        "        loss.backward()\n",
        "        optimizer.step()\n",
        "\n",
        "        # Generate adversarial examples and train on them\n",
        "        adversarial_images = fgsm_attack(model, loss_fn, images, labels, epsilon=0.1)\n",
        "        adversarial_outputs = model(adversarial_images)\n",
        "        adversarial_loss = loss_fn(adversarial_outputs, labels)\n",
        "        adversarial_loss.backward()\n",
        "        optimizer.step()\n",
        "\n",
        "# Print final loss value\n",
        "print(\"Final training loss:\", loss.item())"
      ]
    }
  ]
}