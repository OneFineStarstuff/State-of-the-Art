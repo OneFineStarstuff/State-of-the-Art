{
  "nbformat": 4,
  "nbformat_minor": 0,
  "metadata": {
    "colab": {
      "private_outputs": true,
      "provenance": [],
      "authorship_tag": "ABX9TyN/hPJhdcl8oNG1WpKD/rzU",
      "include_colab_link": true
    },
    "kernelspec": {
      "name": "python3",
      "display_name": "Python 3"
    },
    "language_info": {
      "name": "python"
    }
  },
  "cells": [
    {
      "cell_type": "markdown",
      "metadata": {
        "id": "view-in-github",
        "colab_type": "text"
      },
      "source": [
        "<a href=\"https://colab.research.google.com/github/OneFineStarstuff/State-of-the-Art/blob/main/Transformers_for_Time_Series.ipynb\" target=\"_parent\"><img src=\"https://colab.research.google.com/assets/colab-badge.svg\" alt=\"Open In Colab\"/></a>"
      ]
    },
    {
      "cell_type": "code",
      "execution_count": null,
      "metadata": {
        "id": "8FF5fSOrA1lz"
      },
      "outputs": [],
      "source": [
        "import torch\n",
        "import torch.nn as nn\n",
        "\n",
        "# Define the Transformer model for time series data\n",
        "class TimeSeriesTransformer(nn.Module):\n",
        "    def __init__(self, input_dim, hidden_dim, n_heads, n_layers):\n",
        "        super(TimeSeriesTransformer, self).__init__()\n",
        "        self.encoder_layer = nn.TransformerEncoderLayer(d_model=input_dim, nhead=n_heads, dim_feedforward=hidden_dim)\n",
        "        self.transformer_encoder = nn.TransformerEncoder(self.encoder_layer, num_layers=n_layers)\n",
        "        self.fc_out = nn.Linear(input_dim, 1)\n",
        "\n",
        "    def forward(self, x):\n",
        "        x = self.transformer_encoder(x)\n",
        "        x = self.fc_out(x)\n",
        "        return x\n",
        "\n",
        "# Example usage\n",
        "input_dim = 16\n",
        "hidden_dim = 64\n",
        "n_heads = 4\n",
        "n_layers = 3\n",
        "\n",
        "# Initialize the model\n",
        "model = TimeSeriesTransformer(input_dim, hidden_dim, n_heads, n_layers)\n",
        "\n",
        "# Generate random input data (sequence length, batch size, input_dim)\n",
        "input_data = torch.randn(10, 32, input_dim)\n",
        "\n",
        "# Get the model output\n",
        "output = model(input_data)\n",
        "print(output.shape)  # Expected output shape: (sequence length, batch size, 1)"
      ]
    }
  ]
}