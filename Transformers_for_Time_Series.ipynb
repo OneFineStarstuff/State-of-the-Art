{
  "nbformat": 4,
  "nbformat_minor": 0,
  "metadata": {
    "colab": {
      "private_outputs": true,
      "provenance": [],
      "authorship_tag": "ABX9TyOaenMiH8eDNclC2brXPPLL",
      "include_colab_link": true
    },
    "kernelspec": {
      "name": "python3",
      "display_name": "Python 3"
    },
    "language_info": {
      "name": "python"
    }
  },
  "cells": [
    {
      "cell_type": "markdown",
      "metadata": {
        "id": "view-in-github",
        "colab_type": "text"
      },
      "source": [
        "<a href=\"https://colab.research.google.com/github/OneFineStarstuff/State-of-the-Art/blob/main/Transformers_for_Time_Series.ipynb\" target=\"_parent\"><img src=\"https://colab.research.google.com/assets/colab-badge.svg\" alt=\"Open In Colab\"/></a>"
      ]
    },
    {
      "cell_type": "code",
      "execution_count": null,
      "metadata": {
        "id": "za9Pu4Om3cYt"
      },
      "outputs": [],
      "source": [
        "import torch\n",
        "import torch.nn as nn\n",
        "import torch.nn.functional as F\n",
        "import torch.optim as optim\n",
        "import numpy as np\n",
        "\n",
        "# Generate synthetic time series data\n",
        "def generate_time_series(n_series, n_timepoints):\n",
        "    t = np.linspace(0, 50, n_timepoints)\n",
        "    data = np.sin(t) + np.random.normal(0, 0.1, (n_series, n_timepoints))\n",
        "    return data\n",
        "\n",
        "n_series = 100\n",
        "n_timepoints = 200\n",
        "data = generate_time_series(n_series, n_timepoints)\n",
        "\n",
        "# Prepare data for the Transformer model\n",
        "def prepare_data(data, input_len, output_len):\n",
        "    x, y = [], []\n",
        "    for i in range(data.shape[1] - input_len - output_len):\n",
        "        x.append(data[:, i:i+input_len])\n",
        "        y.append(data[:, i+input_len:i+input_len+output_len])\n",
        "    return np.array(x), np.array(y)\n",
        "\n",
        "input_len = 20\n",
        "output_len = 10\n",
        "x, y = prepare_data(data, input_len, output_len)\n",
        "x = torch.FloatTensor(x)  # x shape: [n_samples, n_series, input_len]\n",
        "y = torch.FloatTensor(y)  # y shape: [n_samples, n_series, output_len]\n",
        "\n",
        "# Transpose x and y to [input_len, batch_size, n_series]\n",
        "x = x.permute(2, 0, 1)  # x shape: [input_len, n_samples, n_series]\n",
        "y = y.permute(2, 0, 1)  # y shape: [output_len, n_samples, n_series]\n",
        "\n",
        "# Define the Transformer model\n",
        "class TransformerTimeSeries(nn.Module):\n",
        "    def __init__(self, input_size, hidden_size, num_layers, num_heads, dropout):\n",
        "        super(TransformerTimeSeries, self).__init__()\n",
        "        self.input_projection = nn.Linear(input_size, hidden_size)\n",
        "        self.encoder_layer = nn.TransformerEncoderLayer(d_model=hidden_size, nhead=num_heads, dropout=dropout)\n",
        "        self.transformer_encoder = nn.TransformerEncoder(self.encoder_layer, num_layers=num_layers)\n",
        "        self.fc = nn.Linear(hidden_size, input_size)\n",
        "\n",
        "    def forward(self, src):\n",
        "        print(\"Input shape before projection:\", src.shape)  # Debug\n",
        "        src = self.input_projection(src)  # src shape: [sequence_length, batch_size, hidden_size]\n",
        "        print(\"Shape after projection:\", src.shape)  # Debug\n",
        "        src = self.transformer_encoder(src)\n",
        "        output = self.fc(src)\n",
        "        return output\n",
        "\n",
        "# Verify shape\n",
        "print(\"x shape:\", x.shape)\n",
        "print(\"y shape:\", y.shape)\n",
        "\n",
        "# Set input_size to the number of series\n",
        "input_size = n_series  # Number of time series\n",
        "model = TransformerTimeSeries(input_size=input_size, hidden_size=64, num_layers=2, num_heads=4, dropout=0.1)\n",
        "\n",
        "# Train the model\n",
        "criterion = nn.MSELoss()\n",
        "optimizer = optim.Adam(model.parameters(), lr=0.001)\n",
        "\n",
        "for epoch in range(100):\n",
        "    model.train()\n",
        "    optimizer.zero_grad()\n",
        "    output = model(x[:output_len])  # Ensure the output has the same sequence length as the target\n",
        "    loss = criterion(output, y)\n",
        "    loss.backward()\n",
        "    optimizer.step()\n",
        "    print(f\"Epoch {epoch+1}, Loss: {loss.item()}\")"
      ]
    }
  ]
}