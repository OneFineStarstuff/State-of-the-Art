{
  "nbformat": 4,
  "nbformat_minor": 0,
  "metadata": {
    "colab": {
      "private_outputs": true,
      "provenance": [],
      "authorship_tag": "ABX9TyOwehf5kuyt2ZqYUIkW0dpP",
      "include_colab_link": true
    },
    "kernelspec": {
      "name": "python3",
      "display_name": "Python 3"
    },
    "language_info": {
      "name": "python"
    }
  },
  "cells": [
    {
      "cell_type": "markdown",
      "metadata": {
        "id": "view-in-github",
        "colab_type": "text"
      },
      "source": [
        "<a href=\"https://colab.research.google.com/github/OneFineStarstuff/State-of-the-Art/blob/main/Transformers_for_Time_Series.ipynb\" target=\"_parent\"><img src=\"https://colab.research.google.com/assets/colab-badge.svg\" alt=\"Open In Colab\"/></a>"
      ]
    },
    {
      "cell_type": "code",
      "execution_count": null,
      "metadata": {
        "id": "TWIzvyS2MOi4"
      },
      "outputs": [],
      "source": [
        "import torch\n",
        "import torch.nn as nn\n",
        "\n",
        "class TimeSeriesTransformer(nn.Module):\n",
        "    def __init__(self, input_dim, hidden_dim, num_layers, num_heads, output_dim):\n",
        "        super(TimeSeriesTransformer, self).__init__()\n",
        "        self.encoder = nn.TransformerEncoder(\n",
        "            nn.TransformerEncoderLayer(d_model=hidden_dim, nhead=num_heads), num_layers=num_layers\n",
        "        )\n",
        "        self.input_projection = nn.Linear(input_dim, hidden_dim)\n",
        "        self.output_projection = nn.Linear(hidden_dim, output_dim)\n",
        "\n",
        "    def forward(self, x):\n",
        "        x = self.input_projection(x)\n",
        "        x = self.encoder(x)\n",
        "        return self.output_projection(x)\n",
        "\n",
        "# Example usage\n",
        "model = TimeSeriesTransformer(input_dim=1, hidden_dim=64, num_layers=2, num_heads=4, output_dim=1)\n",
        "optimizer = torch.optim.Adam(model.parameters(), lr=0.001)\n",
        "\n",
        "for epoch in range(100):\n",
        "    x = torch.randn(32, 10, 1)  # Batch of 32, sequence length of 10, 1 feature\n",
        "    target = torch.randn(32, 10, 1)\n",
        "    optimizer.zero_grad()\n",
        "    output = model(x)\n",
        "    loss = nn.MSELoss()(output, target)\n",
        "    loss.backward()\n",
        "    optimizer.step()\n",
        "    print(f'Epoch {epoch + 1}, Loss: {loss.item():.4f}')"
      ]
    }
  ]
}