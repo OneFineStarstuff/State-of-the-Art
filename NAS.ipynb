{
  "nbformat": 4,
  "nbformat_minor": 0,
  "metadata": {
    "colab": {
      "private_outputs": true,
      "provenance": [],
      "authorship_tag": "ABX9TyMuM+FqUHtTjNcxiodh6yHl",
      "include_colab_link": true
    },
    "kernelspec": {
      "name": "python3",
      "display_name": "Python 3"
    },
    "language_info": {
      "name": "python"
    }
  },
  "cells": [
    {
      "cell_type": "markdown",
      "metadata": {
        "id": "view-in-github",
        "colab_type": "text"
      },
      "source": [
        "<a href=\"https://colab.research.google.com/github/OneFineStarstuff/State-of-the-Art/blob/main/NAS.ipynb\" target=\"_parent\"><img src=\"https://colab.research.google.com/assets/colab-badge.svg\" alt=\"Open In Colab\"/></a>"
      ]
    },
    {
      "cell_type": "code",
      "execution_count": null,
      "metadata": {
        "id": "tqZqWUiZfhpq"
      },
      "outputs": [],
      "source": [
        "import torch\n",
        "import torch.nn as nn\n",
        "import torch.optim as optim\n",
        "import numpy as np\n",
        "\n",
        "# Define a simple controller to generate architecture parameters\n",
        "class Controller(nn.Module):\n",
        "    def __init__(self, search_space_size):\n",
        "        super(Controller, self).__init__()\n",
        "        self.fc = nn.Linear(search_space_size, search_space_size)\n",
        "\n",
        "    def forward(self, x):\n",
        "        return torch.softmax(self.fc(x), dim=-1)\n",
        "\n",
        "# Define a simple model for the generated architecture\n",
        "class SimpleModel(nn.Module):\n",
        "    def __init__(self, num_units):\n",
        "        super(SimpleModel, self).__init__()\n",
        "        layers = [nn.Linear(1, num_units[0]), nn.ReLU()]\n",
        "        for i in range(1, len(num_units)):\n",
        "            layers.append(nn.Linear(num_units[i-1], num_units[i]))\n",
        "            layers.append(nn.ReLU())\n",
        "        layers.append(nn.Linear(num_units[-1], 1))\n",
        "        self.model = nn.Sequential(*layers)\n",
        "\n",
        "    def forward(self, x):\n",
        "        return self.model(x)\n",
        "\n",
        "# Define the search space and initialize the controller\n",
        "search_space_size = 5  # Number of possible unit sizes\n",
        "controller = Controller(search_space_size)\n",
        "\n",
        "# Define the reinforcement learning loop for NAS\n",
        "num_epochs = 100\n",
        "learning_rate = 0.01\n",
        "optimizer = optim.Adam(controller.parameters(), lr=learning_rate)\n",
        "for epoch in range(num_epochs):\n",
        "    controller_input = torch.randn(1, search_space_size)\n",
        "    architecture_params = controller(controller_input).squeeze(0)\n",
        "    architecture = torch.argmax(architecture_params).item()\n",
        "\n",
        "    # Sample architecture parameters and train the model\n",
        "    num_units = [int(2 ** (architecture + 1)) for _ in range(search_space_size)]\n",
        "    model = SimpleModel(num_units)\n",
        "    optimizer_model = optim.Adam(model.parameters(), lr=0.01)\n",
        "    criterion = nn.MSELoss()\n",
        "\n",
        "    # Train the model on some synthetic data\n",
        "    for _ in range(10):\n",
        "        x = torch.rand((32, 1))\n",
        "        y = 3 * x + 2 + 0.1 * torch.randn_like(x)\n",
        "        optimizer_model.zero_grad()\n",
        "        output = model(x)\n",
        "        loss = criterion(output, y)\n",
        "        loss.backward()\n",
        "        optimizer_model.step()\n",
        "\n",
        "    # Compute the reward as the inverse of the loss\n",
        "    reward = -loss.item()\n",
        "\n",
        "    # Update the controller using the reward\n",
        "    optimizer.zero_grad()\n",
        "    loss_controller = -torch.sum(torch.log(architecture_params) * reward)\n",
        "    loss_controller.backward()\n",
        "    optimizer.step()\n",
        "\n",
        "    print(f'Epoch {epoch+1}, Reward: {reward:.4f}')"
      ]
    }
  ]
}