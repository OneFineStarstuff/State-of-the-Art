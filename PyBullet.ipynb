{
  "nbformat": 4,
  "nbformat_minor": 0,
  "metadata": {
    "colab": {
      "private_outputs": true,
      "provenance": [],
      "authorship_tag": "ABX9TyO+wnke+xEjYU26UhpBbeHw",
      "include_colab_link": true
    },
    "kernelspec": {
      "name": "python3",
      "display_name": "Python 3"
    },
    "language_info": {
      "name": "python"
    }
  },
  "cells": [
    {
      "cell_type": "markdown",
      "metadata": {
        "id": "view-in-github",
        "colab_type": "text"
      },
      "source": [
        "<a href=\"https://colab.research.google.com/github/OneFineStarstuff/State-of-the-Art/blob/main/PyBullet.ipynb\" target=\"_parent\"><img src=\"https://colab.research.google.com/assets/colab-badge.svg\" alt=\"Open In Colab\"/></a>"
      ]
    },
    {
      "cell_type": "code",
      "source": [
        "pip install pybullet"
      ],
      "metadata": {
        "id": "8TpSxhO_8vJZ"
      },
      "execution_count": null,
      "outputs": []
    },
    {
      "cell_type": "code",
      "execution_count": null,
      "metadata": {
        "id": "FiSFoe5m8YeJ"
      },
      "outputs": [],
      "source": [
        "import pybullet as p\n",
        "\n",
        "# Connect to the PyBullet GUI\n",
        "p.connect(p.GUI)\n",
        "\n",
        "# Load the plane URDF\n",
        "p.loadURDF(\"plane.urdf\")\n",
        "\n",
        "# Load the R2D2 URDF at position [0, 0, 1]\n",
        "p.loadURDF(\"r2d2.urdf\", [0, 0, 1])\n",
        "\n",
        "# Keep the simulation running\n",
        "while p.isConnected():\n",
        "    p.stepSimulation()"
      ]
    }
  ]
}