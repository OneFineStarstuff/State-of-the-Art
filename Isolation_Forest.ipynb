{
  "nbformat": 4,
  "nbformat_minor": 0,
  "metadata": {
    "colab": {
      "private_outputs": true,
      "provenance": [],
      "authorship_tag": "ABX9TyNzkBOXs0vreAhHlyWLL1Ea",
      "include_colab_link": true
    },
    "kernelspec": {
      "name": "python3",
      "display_name": "Python 3"
    },
    "language_info": {
      "name": "python"
    }
  },
  "cells": [
    {
      "cell_type": "markdown",
      "metadata": {
        "id": "view-in-github",
        "colab_type": "text"
      },
      "source": [
        "<a href=\"https://colab.research.google.com/github/OneFineStarstuff/State-of-the-Art/blob/main/Isolation_Forest.ipynb\" target=\"_parent\"><img src=\"https://colab.research.google.com/assets/colab-badge.svg\" alt=\"Open In Colab\"/></a>"
      ]
    },
    {
      "cell_type": "code",
      "execution_count": null,
      "metadata": {
        "id": "aQXDhzgoLzec"
      },
      "outputs": [],
      "source": [
        "from sklearn.ensemble import IsolationForest\n",
        "import numpy as np\n",
        "\n",
        "# Generate synthetic data\n",
        "X = 0.3 * np.random.randn(100, 2)\n",
        "X_train = np.r_[X + 2, X - 2]\n",
        "X_outliers = np.random.uniform(low=-4, high=4, size=(20, 2))\n",
        "\n",
        "# Fit the Isolation Forest model\n",
        "clf = IsolationForest(random_state=42)\n",
        "clf.fit(X_train)\n",
        "\n",
        "# Predict anomalies\n",
        "y_pred_train = clf.predict(X_train)\n",
        "y_pred_outliers = clf.predict(X_outliers)\n",
        "\n",
        "# Evaluate the model\n",
        "print(\"Training data predictions:\", y_pred_train)\n",
        "print(\"Outlier data predictions:\", y_pred_outliers)"
      ]
    }
  ]
}