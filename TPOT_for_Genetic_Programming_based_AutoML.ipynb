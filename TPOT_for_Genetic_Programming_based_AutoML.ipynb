{
  "nbformat": 4,
  "nbformat_minor": 0,
  "metadata": {
    "colab": {
      "private_outputs": true,
      "provenance": [],
      "authorship_tag": "ABX9TyP9p1rwQWASeuR5dzhsoziL",
      "include_colab_link": true
    },
    "kernelspec": {
      "name": "python3",
      "display_name": "Python 3"
    },
    "language_info": {
      "name": "python"
    }
  },
  "cells": [
    {
      "cell_type": "markdown",
      "metadata": {
        "id": "view-in-github",
        "colab_type": "text"
      },
      "source": [
        "<a href=\"https://colab.research.google.com/github/OneFineStarstuff/State-of-the-Art/blob/main/TPOT_for_Genetic_Programming_based_AutoML.ipynb\" target=\"_parent\"><img src=\"https://colab.research.google.com/assets/colab-badge.svg\" alt=\"Open In Colab\"/></a>"
      ]
    },
    {
      "cell_type": "code",
      "execution_count": null,
      "metadata": {
        "id": "Bv8Kmmj3X6Uy"
      },
      "outputs": [],
      "source": [
        "pip install tpot"
      ]
    },
    {
      "cell_type": "code",
      "source": [
        "from tpot import TPOTClassifier\n",
        "from sklearn.datasets import load_digits\n",
        "from sklearn.model_selection import train_test_split\n",
        "\n",
        "# Load the Digits dataset\n",
        "X, y = load_digits(return_X_y=True)\n",
        "\n",
        "# Split the dataset into training and testing sets\n",
        "X_train, X_test, y_train, y_test = train_test_split(X, y, test_size=0.2, random_state=42)\n",
        "\n",
        "# Initialize TPOTClassifier\n",
        "tpot = TPOTClassifier(generations=5, population_size=50, verbosity=2)\n",
        "\n",
        "# Train the model\n",
        "tpot.fit(X_train, y_train)\n",
        "\n",
        "# Evaluate the model\n",
        "print(tpot.score(X_test, y_test))\n",
        "\n",
        "# Export the pipeline\n",
        "tpot.export('tpot_pipeline.py')"
      ],
      "metadata": {
        "id": "zfPvHiKlYDZk"
      },
      "execution_count": null,
      "outputs": []
    }
  ]
}