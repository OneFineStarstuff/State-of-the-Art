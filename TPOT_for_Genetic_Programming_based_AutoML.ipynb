{
  "nbformat": 4,
  "nbformat_minor": 0,
  "metadata": {
    "colab": {
      "private_outputs": true,
      "provenance": [],
      "authorship_tag": "ABX9TyOvZYSISBHuQoyK5z5HFSWN",
      "include_colab_link": true
    },
    "kernelspec": {
      "name": "python3",
      "display_name": "Python 3"
    },
    "language_info": {
      "name": "python"
    }
  },
  "cells": [
    {
      "cell_type": "markdown",
      "metadata": {
        "id": "view-in-github",
        "colab_type": "text"
      },
      "source": [
        "<a href=\"https://colab.research.google.com/github/OneFineStarstuff/State-of-the-Art/blob/main/TPOT_for_Genetic_Programming_based_AutoML.ipynb\" target=\"_parent\"><img src=\"https://colab.research.google.com/assets/colab-badge.svg\" alt=\"Open In Colab\"/></a>"
      ]
    },
    {
      "cell_type": "code",
      "source": [
        "pip install tpot"
      ],
      "metadata": {
        "id": "xMm1kpXX_2ih"
      },
      "execution_count": null,
      "outputs": []
    },
    {
      "cell_type": "code",
      "execution_count": null,
      "metadata": {
        "id": "wU94FiLe_pux"
      },
      "outputs": [],
      "source": [
        "from tpot import TPOTClassifier\n",
        "from sklearn.datasets import load_digits\n",
        "from sklearn.model_selection import train_test_split\n",
        "\n",
        "# Load Digits dataset\n",
        "X, y = load_digits(return_X_y=True)\n",
        "X_train, X_test, y_train, y_test = train_test_split(X, y, test_size=0.2, random_state=42)\n",
        "\n",
        "# Initialize and train TPOT classifier\n",
        "tpot = TPOTClassifier(generations=5, population_size=20, verbosity=2)\n",
        "tpot.fit(X_train, y_train)\n",
        "\n",
        "# Evaluate the model and export the pipeline\n",
        "print(tpot.score(X_test, y_test))\n",
        "tpot.export('tpot_exported_pipeline.py')"
      ]
    }
  ]
}