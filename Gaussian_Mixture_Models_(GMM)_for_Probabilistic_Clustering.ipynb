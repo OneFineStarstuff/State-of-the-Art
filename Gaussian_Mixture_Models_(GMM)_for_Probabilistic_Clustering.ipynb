{
  "nbformat": 4,
  "nbformat_minor": 0,
  "metadata": {
    "colab": {
      "private_outputs": true,
      "provenance": [],
      "authorship_tag": "ABX9TyODIFfisf4Gwi6mNPdH48z5",
      "include_colab_link": true
    },
    "kernelspec": {
      "name": "python3",
      "display_name": "Python 3"
    },
    "language_info": {
      "name": "python"
    }
  },
  "cells": [
    {
      "cell_type": "markdown",
      "metadata": {
        "id": "view-in-github",
        "colab_type": "text"
      },
      "source": [
        "<a href=\"https://colab.research.google.com/github/OneFineStarstuff/State-of-the-Art/blob/main/Gaussian_Mixture_Models_(GMM)_for_Probabilistic_Clustering.ipynb\" target=\"_parent\"><img src=\"https://colab.research.google.com/assets/colab-badge.svg\" alt=\"Open In Colab\"/></a>"
      ]
    },
    {
      "cell_type": "code",
      "execution_count": null,
      "metadata": {
        "id": "d2ytwkHMkyVH"
      },
      "outputs": [],
      "source": [
        "import numpy as np\n",
        "from sklearn.mixture import GaussianMixture\n",
        "\n",
        "# Define the data points\n",
        "X = np.array([[1, 2], [2, 2], [2, 3], [8, 7], [8, 8], [25, 80]])\n",
        "\n",
        "# Create a Gaussian Mixture Model with 2 components\n",
        "gmm = GaussianMixture(n_components=2, random_state=42)\n",
        "\n",
        "# Fit the model to the data\n",
        "gmm.fit(X)\n",
        "\n",
        "# Predict the cluster labels\n",
        "print(gmm.predict(X))"
      ]
    }
  ]
}