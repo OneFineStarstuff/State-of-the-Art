{
  "nbformat": 4,
  "nbformat_minor": 0,
  "metadata": {
    "colab": {
      "private_outputs": true,
      "provenance": [],
      "authorship_tag": "ABX9TyPBUuS36nOIqAKTWJ/J2AZM",
      "include_colab_link": true
    },
    "kernelspec": {
      "name": "python3",
      "display_name": "Python 3"
    },
    "language_info": {
      "name": "python"
    }
  },
  "cells": [
    {
      "cell_type": "markdown",
      "metadata": {
        "id": "view-in-github",
        "colab_type": "text"
      },
      "source": [
        "<a href=\"https://colab.research.google.com/github/OneFineStarstuff/State-of-the-Art/blob/main/Capsule_Networks_(CapsNets).ipynb\" target=\"_parent\"><img src=\"https://colab.research.google.com/assets/colab-badge.svg\" alt=\"Open In Colab\"/></a>"
      ]
    },
    {
      "cell_type": "code",
      "execution_count": null,
      "metadata": {
        "id": "oWeOkC84mzxO"
      },
      "outputs": [],
      "source": [
        "import torch\n",
        "import torch.nn as nn\n",
        "import torch.optim as optim\n",
        "from torchvision import datasets, transforms\n",
        "from torch.utils.data import DataLoader\n",
        "import torch.nn.functional as F\n",
        "\n",
        "class CapsuleLayer(nn.Module):\n",
        "    def __init__(self, num_capsules, num_routes, in_channels, out_channels):\n",
        "        super(CapsuleLayer, self).__init__()\n",
        "        self.num_capsules = num_capsules\n",
        "        self.num_routes = num_routes\n",
        "        self.route_weights = nn.Parameter(torch.randn(num_routes, in_channels, out_channels, num_capsules))\n",
        "\n",
        "    def forward(self, x):\n",
        "        print(f\"x shape: {x.shape}\")\n",
        "        print(f\"route_weights shape: {self.route_weights.shape}\")\n",
        "\n",
        "        u_hat = torch.einsum('bij,jiok->biko', x, self.route_weights)\n",
        "\n",
        "        print(f\"u_hat shape: {u_hat.shape}\")\n",
        "        b = torch.zeros_like(u_hat)\n",
        "        for i in range(3):  # Routing iterations\n",
        "            c = F.softmax(b, dim=2)\n",
        "            s = (c * u_hat).sum(dim=2)\n",
        "            v = self.squash(s)\n",
        "            if i < 2:\n",
        "                b = b + (u_hat * v[:, :, None, :]).sum(dim=-1, keepdim=True)\n",
        "        return v\n",
        "\n",
        "    @staticmethod\n",
        "    def squash(s, dim=-1):\n",
        "        s_norm = torch.norm(s, dim=dim, keepdim=True)\n",
        "        return (s_norm ** 2 / (1 + s_norm ** 2)) * (s / s_norm)\n",
        "\n",
        "class CapsuleNet(nn.Module):\n",
        "    def __init__(self):\n",
        "        super(CapsuleNet, self).__init__()\n",
        "        self.conv1 = nn.Conv2d(in_channels=1, out_channels=256, kernel_size=9, stride=1)\n",
        "        self.primary_capsules = nn.Conv2d(in_channels=256, out_channels=32 * 8, kernel_size=9, stride=2)\n",
        "        self.capsules = CapsuleLayer(num_capsules=10, num_routes=32 * 6 * 6, in_channels=8, out_channels=16)\n",
        "\n",
        "    def forward(self, x):\n",
        "        x = F.relu(self.conv1(x))\n",
        "        x = self.primary_capsules(x).view(x.size(0), -1, 8).permute(0, 2, 1)\n",
        "        x = self.capsules(x)\n",
        "        return x\n",
        "\n",
        "def capsule_loss(y_true, y_pred):\n",
        "    y_pred = y_pred.norm(dim=-1).mean(dim=-1)  # Shape: [batch_size, num_capsules]\n",
        "\n",
        "    left = F.relu(0.9 - y_pred) ** 2\n",
        "    right = F.relu(y_pred - 0.1) ** 2\n",
        "    loss = y_true * left + 0.5 * (1.0 - y_true) * right\n",
        "    return loss.sum(dim=-1).mean()\n",
        "\n",
        "# Training setup\n",
        "transform = transforms.Compose([transforms.ToTensor()])\n",
        "train_dataset = datasets.MNIST(root='./data', train=True, transform=transform, download=True)\n",
        "train_loader = DataLoader(train_dataset, batch_size=64, shuffle=True)\n",
        "\n",
        "model = CapsuleNet()\n",
        "optimizer = optim.Adam(model.parameters(), lr=1e-3)\n",
        "\n",
        "for epoch in range(10):\n",
        "    model.train()\n",
        "    train_loss = 0\n",
        "    for batch_idx, (data, target) in enumerate(train_loader):\n",
        "        target_one_hot = F.one_hot(target, num_classes=10).float()\n",
        "        optimizer.zero_grad()\n",
        "        output = model(data)\n",
        "        output = output.norm(dim=-1).mean(dim=1)  # Shape: [batch_size, num_capsules]\n",
        "        loss = capsule_loss(target_one_hot, output)\n",
        "        loss.backward()\n",
        "        train_loss += loss.item()\n",
        "        optimizer.step()\n",
        "    print(f\"Epoch {epoch + 1}, Loss: {train_loss / len(train_loader.dataset)}\")"
      ]
    }
  ]
}