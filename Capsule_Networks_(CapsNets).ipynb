{
  "nbformat": 4,
  "nbformat_minor": 0,
  "metadata": {
    "colab": {
      "private_outputs": true,
      "provenance": [],
      "authorship_tag": "ABX9TyMEvOM4B7jM9/xXqOD7D92M",
      "include_colab_link": true
    },
    "kernelspec": {
      "name": "python3",
      "display_name": "Python 3"
    },
    "language_info": {
      "name": "python"
    }
  },
  "cells": [
    {
      "cell_type": "markdown",
      "metadata": {
        "id": "view-in-github",
        "colab_type": "text"
      },
      "source": [
        "<a href=\"https://colab.research.google.com/github/OneFineStarstuff/State-of-the-Art/blob/main/Capsule_Networks_(CapsNets).ipynb\" target=\"_parent\"><img src=\"https://colab.research.google.com/assets/colab-badge.svg\" alt=\"Open In Colab\"/></a>"
      ]
    },
    {
      "cell_type": "code",
      "execution_count": null,
      "metadata": {
        "id": "NqH1J0d4q937"
      },
      "outputs": [],
      "source": [
        "import torch\n",
        "import torch.nn as nn\n",
        "\n",
        "class CapsuleLayer(nn.Module):\n",
        "    def __init__(self, num_capsules, in_channels, out_channels, num_routes):\n",
        "        super(CapsuleLayer, self).__init__()\n",
        "        self.num_routes = num_routes\n",
        "        self.num_capsules = num_capsules\n",
        "        self.capsules = nn.ModuleList(\n",
        "            [nn.Linear(in_channels, out_channels) for _ in range(num_routes * num_capsules)]\n",
        "        )\n",
        "\n",
        "    def forward(self, x):\n",
        "        u = [capsule(x) for capsule in self.capsules]\n",
        "        u = torch.stack(u, dim=1)\n",
        "        u = u.view(x.size(0), self.num_capsules, -1)\n",
        "        u = u.norm(dim=-1)\n",
        "        return u\n",
        "\n",
        "class CapsNet(nn.Module):\n",
        "    def __init__(self, input_dim, num_capsules, out_channels, num_routes):\n",
        "        super(CapsNet, self).__init__()\n",
        "        self.caps_layer = CapsuleLayer(num_capsules, input_dim, out_channels, num_routes)\n",
        "\n",
        "    def forward(self, x):\n",
        "        x = self.caps_layer(x)\n",
        "        return x\n",
        "\n",
        "# Example usage\n",
        "model = CapsNet(input_dim=256, num_capsules=10, out_channels=16, num_routes=32)\n",
        "input_data = torch.rand(64, 256)  # Batch size of 64, input dimension of 256\n",
        "output = model(input_data)\n",
        "print(output.shape)  # Output: torch.Size([64, 10])"
      ]
    }
  ]
}