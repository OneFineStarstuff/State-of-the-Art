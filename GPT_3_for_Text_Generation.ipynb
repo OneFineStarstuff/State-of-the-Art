{
  "nbformat": 4,
  "nbformat_minor": 0,
  "metadata": {
    "colab": {
      "private_outputs": true,
      "provenance": [],
      "authorship_tag": "ABX9TyPwgkDzg7fEGr94l8VTrAC7",
      "include_colab_link": true
    },
    "kernelspec": {
      "name": "python3",
      "display_name": "Python 3"
    },
    "language_info": {
      "name": "python"
    }
  },
  "cells": [
    {
      "cell_type": "markdown",
      "metadata": {
        "id": "view-in-github",
        "colab_type": "text"
      },
      "source": [
        "<a href=\"https://colab.research.google.com/github/OneFineStarstuff/State-of-the-Art/blob/main/GPT_3_for_Text_Generation.ipynb\" target=\"_parent\"><img src=\"https://colab.research.google.com/assets/colab-badge.svg\" alt=\"Open In Colab\"/></a>"
      ]
    },
    {
      "cell_type": "code",
      "execution_count": null,
      "metadata": {
        "id": "af22SnbhMrr_"
      },
      "outputs": [],
      "source": [
        "import openai\n",
        "\n",
        "# Set up the OpenAI API key\n",
        "openai.api_key = 'YOUR_API_KEY'\n",
        "\n",
        "# Generate text using GPT-3\n",
        "response = openai.Completion.create(\n",
        "    engine=\"text-davinci-003\",\n",
        "    prompt=\"Write a short story about an adventurous cat.\",\n",
        "    max_tokens=100\n",
        ")\n",
        "\n",
        "# Print the generated text\n",
        "print(response['choices'][0]['text'].strip())"
      ]
    }
  ]
}