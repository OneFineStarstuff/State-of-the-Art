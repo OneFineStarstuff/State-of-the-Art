{
  "nbformat": 4,
  "nbformat_minor": 0,
  "metadata": {
    "colab": {
      "private_outputs": true,
      "provenance": [],
      "authorship_tag": "ABX9TyMVqdUjyuA7wC3ioiHOwvX3",
      "include_colab_link": true
    },
    "kernelspec": {
      "name": "python3",
      "display_name": "Python 3"
    },
    "language_info": {
      "name": "python"
    }
  },
  "cells": [
    {
      "cell_type": "markdown",
      "metadata": {
        "id": "view-in-github",
        "colab_type": "text"
      },
      "source": [
        "<a href=\"https://colab.research.google.com/github/OneFineStarstuff/State-of-the-Art/blob/main/Anomaly_Detection.ipynb\" target=\"_parent\"><img src=\"https://colab.research.google.com/assets/colab-badge.svg\" alt=\"Open In Colab\"/></a>"
      ]
    },
    {
      "cell_type": "code",
      "source": [
        "pip install pyod"
      ],
      "metadata": {
        "id": "1BWNOpXMaNEv"
      },
      "execution_count": null,
      "outputs": []
    },
    {
      "cell_type": "code",
      "execution_count": null,
      "metadata": {
        "id": "v1R1ngdFZ5sv"
      },
      "outputs": [],
      "source": [
        "import numpy as np\n",
        "from pyod.models.iforest import IForest\n",
        "from sklearn.datasets import make_classification\n",
        "from sklearn.model_selection import train_test_split\n",
        "from sklearn.metrics import classification_report\n",
        "\n",
        "# Generate synthetic dataset\n",
        "X, y = make_classification(n_samples=1000, n_features=20, n_informative=2, n_redundant=10, random_state=42)\n",
        "\n",
        "# Split the data into training and test sets\n",
        "X_train, X_test, y_train, y_test = train_test_split(X, y, test_size=0.2, random_state=42)\n",
        "\n",
        "# Initialize the Isolation Forest model\n",
        "clf = IForest(contamination=0.1)  # Contamination is the proportion of outliers in the data\n",
        "clf.fit(X_train)\n",
        "\n",
        "# Predict anomalies in the test set\n",
        "y_train_pred = clf.labels_  # Labels of the training data\n",
        "y_test_pred = clf.predict(X_test)  # Predict on the test data\n",
        "\n",
        "# Convert predictions to binary (0 for inliers, 1 for outliers)\n",
        "y_train_pred = [1 if x == 1 else 0 for x in y_train_pred]\n",
        "y_test_pred = [1 if x == 1 else 0 for x in y_test_pred]\n",
        "\n",
        "# Print classification report\n",
        "print(classification_report(y_test, y_test_pred))\n",
        "\n",
        "# Optionally, inspect decision scores\n",
        "decision_scores = clf.decision_scores_  # Raw outlier scores for the training data"
      ]
    }
  ]
}