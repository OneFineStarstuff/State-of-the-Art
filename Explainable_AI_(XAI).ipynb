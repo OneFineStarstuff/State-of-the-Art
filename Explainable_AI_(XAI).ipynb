{
  "nbformat": 4,
  "nbformat_minor": 0,
  "metadata": {
    "colab": {
      "private_outputs": true,
      "provenance": [],
      "authorship_tag": "ABX9TyOQDsJ738OSGMKPtzX7PSod",
      "include_colab_link": true
    },
    "kernelspec": {
      "name": "python3",
      "display_name": "Python 3"
    },
    "language_info": {
      "name": "python"
    }
  },
  "cells": [
    {
      "cell_type": "markdown",
      "metadata": {
        "id": "view-in-github",
        "colab_type": "text"
      },
      "source": [
        "<a href=\"https://colab.research.google.com/github/OneFineStarstuff/State-of-the-Art/blob/main/Explainable_AI_(XAI).ipynb\" target=\"_parent\"><img src=\"https://colab.research.google.com/assets/colab-badge.svg\" alt=\"Open In Colab\"/></a>"
      ]
    },
    {
      "cell_type": "code",
      "source": [
        "pip install lime"
      ],
      "metadata": {
        "id": "9hs0qlx8BDin"
      },
      "execution_count": null,
      "outputs": []
    },
    {
      "cell_type": "code",
      "execution_count": null,
      "metadata": {
        "id": "azlH6dFAAt2s"
      },
      "outputs": [],
      "source": [
        "import lime\n",
        "import lime.lime_tabular\n",
        "from sklearn.datasets import load_iris\n",
        "from sklearn.ensemble import RandomForestClassifier\n",
        "\n",
        "# Load the Iris dataset\n",
        "iris = load_iris()\n",
        "\n",
        "# Train the RandomForestClassifier\n",
        "rf = RandomForestClassifier()\n",
        "rf.fit(iris.data, iris.target)\n",
        "\n",
        "# Initialize the LIME explainer\n",
        "explainer = lime.lime_tabular.LimeTabularExplainer(\n",
        "    iris.data,\n",
        "    feature_names=iris.feature_names,\n",
        "    class_names=iris.target_names,\n",
        "    discretize_continuous=True\n",
        ")\n",
        "\n",
        "# Explain the prediction for the first instance\n",
        "exp = explainer.explain_instance(iris.data[0], rf.predict_proba, num_features=2)\n",
        "\n",
        "# Display the explanation in the notebook\n",
        "exp.show_in_notebook()"
      ]
    }
  ]
}