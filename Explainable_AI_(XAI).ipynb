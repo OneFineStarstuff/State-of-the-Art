{
  "nbformat": 4,
  "nbformat_minor": 0,
  "metadata": {
    "colab": {
      "private_outputs": true,
      "provenance": [],
      "authorship_tag": "ABX9TyPWcoBKty7CIloFgD0EE+U2",
      "include_colab_link": true
    },
    "kernelspec": {
      "name": "python3",
      "display_name": "Python 3"
    },
    "language_info": {
      "name": "python"
    }
  },
  "cells": [
    {
      "cell_type": "markdown",
      "metadata": {
        "id": "view-in-github",
        "colab_type": "text"
      },
      "source": [
        "<a href=\"https://colab.research.google.com/github/OneFineStarstuff/State-of-the-Art/blob/main/Explainable_AI_(XAI).ipynb\" target=\"_parent\"><img src=\"https://colab.research.google.com/assets/colab-badge.svg\" alt=\"Open In Colab\"/></a>"
      ]
    },
    {
      "cell_type": "code",
      "execution_count": null,
      "metadata": {
        "id": "umit9yB0hIXK"
      },
      "outputs": [],
      "source": [
        "pip install lime"
      ]
    },
    {
      "cell_type": "code",
      "source": [
        "import numpy as np\n",
        "import sklearn\n",
        "from sklearn.datasets import load_iris\n",
        "from sklearn.ensemble import RandomForestClassifier\n",
        "from sklearn.preprocessing import StandardScaler\n",
        "from sklearn.model_selection import train_test_split\n",
        "from lime.lime_tabular import LimeTabularExplainer\n",
        "\n",
        "# Load the Iris dataset\n",
        "iris = load_iris()\n",
        "X, y = iris.data, iris.target\n",
        "\n",
        "# Split the dataset into training and testing sets\n",
        "train_X, test_X, train_y, test_y = train_test_split(X, y, train_size=0.80, random_state=42)\n",
        "\n",
        "# Feature scaling for better interpretability\n",
        "scaler = StandardScaler()\n",
        "train_X = scaler.fit_transform(train_X)\n",
        "test_X = scaler.transform(test_X)\n",
        "\n",
        "# Train a Random Forest Classifier\n",
        "rf = RandomForestClassifier(n_estimators=500, random_state=42)\n",
        "rf.fit(train_X, train_y)\n",
        "\n",
        "# Initialize the LIME Tabular Explainer\n",
        "explainer = LimeTabularExplainer(\n",
        "    train_X,\n",
        "    mode=\"classification\",\n",
        "    feature_names=iris.feature_names,\n",
        "    class_names=iris.target_names,\n",
        "    discretize_continuous=True\n",
        ")\n",
        "\n",
        "# Select a test instance to explain\n",
        "test_instance = test_X[0]\n",
        "exp = explainer.explain_instance(test_instance, rf.predict_proba, num_features=2)\n",
        "\n",
        "# Display explanation in notebook or save it to a file\n",
        "try:\n",
        "    exp.show_in_notebook()  # Works if you're in a Jupyter Notebook environment\n",
        "except:\n",
        "    print(\"Unable to display in notebook. Saving explanation to 'lime_explanation.html'\")\n",
        "    exp.save_to_file('lime_explanation.html')\n",
        "    print(\"Explanation saved to 'lime_explanation.html'\")"
      ],
      "metadata": {
        "id": "BcQNexuThlGM"
      },
      "execution_count": null,
      "outputs": []
    }
  ]
}