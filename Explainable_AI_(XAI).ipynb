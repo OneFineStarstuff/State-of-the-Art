{
  "nbformat": 4,
  "nbformat_minor": 0,
  "metadata": {
    "colab": {
      "private_outputs": true,
      "provenance": [],
      "authorship_tag": "ABX9TyMPw822dfTfPQCS4GI76mMe",
      "include_colab_link": true
    },
    "kernelspec": {
      "name": "python3",
      "display_name": "Python 3"
    },
    "language_info": {
      "name": "python"
    }
  },
  "cells": [
    {
      "cell_type": "markdown",
      "metadata": {
        "id": "view-in-github",
        "colab_type": "text"
      },
      "source": [
        "<a href=\"https://colab.research.google.com/github/OneFineStarstuff/State-of-the-Art/blob/main/Explainable_AI_(XAI).ipynb\" target=\"_parent\"><img src=\"https://colab.research.google.com/assets/colab-badge.svg\" alt=\"Open In Colab\"/></a>"
      ]
    },
    {
      "cell_type": "code",
      "execution_count": null,
      "metadata": {
        "id": "uhPrSct0m-Vl"
      },
      "outputs": [],
      "source": [
        "import shap\n",
        "from sklearn.datasets import load_iris\n",
        "from sklearn.ensemble import RandomForestClassifier\n",
        "\n",
        "# Load the Iris dataset\n",
        "data = load_iris()\n",
        "X, y = data.data, data.target\n",
        "\n",
        "# Initialize and train the RandomForestClassifier\n",
        "model = RandomForestClassifier()\n",
        "model.fit(X, y)\n",
        "\n",
        "# Create a SHAP TreeExplainer object\n",
        "explainer = shap.TreeExplainer(model)\n",
        "shap_values = explainer.shap_values(X)\n",
        "\n",
        "# Print the shapes to verify alignment\n",
        "print(f\"Shape of shap_values[0]: {shap_values[0].shape}\")\n",
        "print(f\"Shape of X: {X.shape}\")\n",
        "\n",
        "# Ensure each class's SHAP values are aligned with the input data\n",
        "for class_index in range(len(shap_values)):\n",
        "    class_shap_values = shap_values[class_index]\n",
        "    if class_shap_values.shape[0] == X.shape[0]:\n",
        "        print(f\"Class {class_index} SHAP Summary Plot\")\n",
        "        shap.summary_plot(class_shap_values, X, feature_names=feature_names)\n",
        "    else:\n",
        "        print(f\"Shape mismatch for Class {class_index}: {class_shap_values.shape}\")"
      ]
    }
  ]
}