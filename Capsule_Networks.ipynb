{
  "nbformat": 4,
  "nbformat_minor": 0,
  "metadata": {
    "colab": {
      "private_outputs": true,
      "provenance": [],
      "authorship_tag": "ABX9TyPBeXwcjeLOAUOeUVsKBQGL",
      "include_colab_link": true
    },
    "kernelspec": {
      "name": "python3",
      "display_name": "Python 3"
    },
    "language_info": {
      "name": "python"
    }
  },
  "cells": [
    {
      "cell_type": "markdown",
      "metadata": {
        "id": "view-in-github",
        "colab_type": "text"
      },
      "source": [
        "<a href=\"https://colab.research.google.com/github/OneFineStarstuff/State-of-the-Art/blob/main/Capsule_Networks.ipynb\" target=\"_parent\"><img src=\"https://colab.research.google.com/assets/colab-badge.svg\" alt=\"Open In Colab\"/></a>"
      ]
    },
    {
      "cell_type": "code",
      "execution_count": null,
      "metadata": {
        "id": "FMs1qwn47ExU"
      },
      "outputs": [],
      "source": [
        "import torch\n",
        "import torch.nn as nn\n",
        "\n",
        "class CapsuleLayer(nn.Module):\n",
        "    def __init__(self, num_capsules, num_route_nodes, in_channels, out_channels, routing_iters=3):\n",
        "        super(CapsuleLayer, self).__init__()\n",
        "        self.num_route_nodes = num_route_nodes\n",
        "        self.routing_iters = routing_iters\n",
        "        self.weights = nn.Parameter(torch.randn(num_capsules, num_route_nodes, in_channels, out_channels))\n",
        "\n",
        "    def forward(self, x):\n",
        "        x = x.unsqueeze(1).expand(-1, self.num_capsules, -1, -1, -1)\n",
        "        u_hat = torch.matmul(x, self.weights)\n",
        "        b = torch.zeros_like(u_hat)\n",
        "\n",
        "        for _ in range(self.routing_iters):\n",
        "            c = torch.softmax(b, dim=2)\n",
        "            s = (c * u_hat).sum(dim=2)\n",
        "            v = self.squash(s)\n",
        "            b = b + (u_hat * v.unsqueeze(2)).sum(dim=-1, keepdim=True)\n",
        "\n",
        "        return v\n",
        "\n",
        "    @staticmethod\n",
        "    def squash(s):\n",
        "        s_norm = torch.norm(s, dim=-1, keepdim=True)\n",
        "        return (s_norm / (1 + s_norm**2)) * s\n",
        "\n",
        "class CapsuleNet(nn.Module):\n",
        "    def __init__(self):\n",
        "        super(CapsuleNet, self).__init__()\n",
        "        self.conv1 = nn.Conv2d(in_channels=1, out_channels=256, kernel_size=9, stride=1)\n",
        "        # Assuming input image size is 28x28, calculate the output size after conv1\n",
        "        primary_caps_output_size = (28 - 9) // 1 + 1\n",
        "        self.primary_caps = CapsuleLayer(num_capsules=32, num_route_nodes=primary_caps_output_size**2, in_channels=256, out_channels=8)\n",
        "        self.digit_caps = CapsuleLayer(num_capsules=10, num_route_nodes=32 * 6 * 6, in_channels=8, out_channels=16)\n",
        "\n",
        "    def forward(self, x):\n",
        "        x = self.conv1(x)\n",
        "        x = x.view(x.size(0), x.size(1), -1).permute(0, 2, 1)  # Reshape for primary capsule layer\n",
        "        x = self.primary_caps(x)\n",
        "        x = self.digit_caps(x)\n",
        "        return x\n",
        "\n",
        "# Initialize the CapsuleNet model\n",
        "model = CapsuleNet()"
      ]
    }
  ]
}