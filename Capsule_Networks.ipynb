{
  "nbformat": 4,
  "nbformat_minor": 0,
  "metadata": {
    "colab": {
      "private_outputs": true,
      "provenance": [],
      "authorship_tag": "ABX9TyOxolpfohqgLV5QThALbrBV",
      "include_colab_link": true
    },
    "kernelspec": {
      "name": "python3",
      "display_name": "Python 3"
    },
    "language_info": {
      "name": "python"
    }
  },
  "cells": [
    {
      "cell_type": "markdown",
      "metadata": {
        "id": "view-in-github",
        "colab_type": "text"
      },
      "source": [
        "<a href=\"https://colab.research.google.com/github/OneFineStarstuff/State-of-the-Art/blob/main/Capsule_Networks.ipynb\" target=\"_parent\"><img src=\"https://colab.research.google.com/assets/colab-badge.svg\" alt=\"Open In Colab\"/></a>"
      ]
    },
    {
      "cell_type": "code",
      "execution_count": null,
      "metadata": {
        "id": "1pvZY18-FyFq"
      },
      "outputs": [],
      "source": [
        "import torch\n",
        "import torch.nn as nn\n",
        "import torch.optim as optim\n",
        "\n",
        "class PrimaryCapsules(nn.Module):\n",
        "    def __init__(self, num_capsules, in_channels, out_channels, kernel_size, stride):\n",
        "        super(PrimaryCapsules, self).__init__()\n",
        "        self.capsules = nn.ModuleList([\n",
        "            nn.Conv2d(in_channels, out_channels, kernel_size=kernel_size, stride=stride, padding=0)\n",
        "            for _ in range(num_capsules)\n",
        "        ])\n",
        "\n",
        "    def forward(self, x):\n",
        "        u = [capsule(x).view(x.size(0), -1) for capsule in self.capsules]\n",
        "        u = torch.cat(u, dim=1)  # Concatenate along the feature dimension\n",
        "        return u\n",
        "\n",
        "class DigitCapsules(nn.Module):\n",
        "    def __init__(self, num_capsules, in_channels, out_channels):\n",
        "        super(DigitCapsules, self).__init__()\n",
        "        self.capsules = nn.ModuleList([\n",
        "            nn.Linear(in_channels, out_channels)\n",
        "            for _ in range(num_capsules)\n",
        "        ])\n",
        "\n",
        "    def forward(self, x):\n",
        "        u = [capsule(x).view(x.size(0), -1, 1) for capsule in self.capsules]\n",
        "        u = torch.cat(u, dim=-1)\n",
        "        s = u.sum(dim=1, keepdim=True)\n",
        "        v = self.squash(s)\n",
        "        return v\n",
        "\n",
        "    def squash(self, s):\n",
        "        s_squared_norm = (s ** 2).sum(dim=2, keepdim=True)\n",
        "        scale = s_squared_norm / (1 + s_squared_norm) / torch.sqrt(s_squared_norm + 1e-9)\n",
        "        return scale * s\n",
        "\n",
        "class CapsuleNetwork(nn.Module):\n",
        "    def __init__(self, in_channels, num_classes, num_primary_capsules, primary_out_channels, digit_out_channels):\n",
        "        super(CapsuleNetwork, self).__init__()\n",
        "        self.conv1 = nn.Conv2d(in_channels, 256, kernel_size=9, stride=1)\n",
        "        self.primary_capsules = PrimaryCapsules(num_primary_capsules, in_channels=256, out_channels=primary_out_channels, kernel_size=9, stride=2)\n",
        "        self.digit_capsules = DigitCapsules(num_classes, in_channels=primary_out_channels * num_primary_capsules * 6 * 6, out_channels=digit_out_channels)\n",
        "\n",
        "    def forward(self, x):\n",
        "        x = torch.relu(self.conv1(x))\n",
        "        x = self.primary_capsules(x)\n",
        "        x = x.view(x.size(0), -1)  # Flatten the output of primary capsules\n",
        "        x = self.digit_capsules(x)\n",
        "        return x\n",
        "\n",
        "in_channels = 1  # Grayscale images\n",
        "num_classes = 10\n",
        "num_primary_capsules = 8\n",
        "primary_out_channels = 32\n",
        "digit_out_channels = 16\n",
        "\n",
        "model = CapsuleNetwork(in_channels, num_classes, num_primary_capsules, primary_out_channels, digit_out_channels)  # Removed .to('cuda')\n",
        "optimizer = optim.Adam(model.parameters(), lr=1e-3)\n",
        "criterion = nn.CrossEntropyLoss()\n",
        "\n",
        "# Dummy data for training\n",
        "x = torch.rand(32, in_channels, 28, 28)  # Removed .to('cuda')\n",
        "y = torch.randint(0, num_classes, (32,))  # Removed .to('cuda')\n",
        "\n",
        "for epoch in range(50):\n",
        "    optimizer.zero_grad()\n",
        "    output = model(x)\n",
        "    loss = criterion(output.squeeze(), y)\n",
        "    loss.backward()\n",
        "    optimizer.step()\n",
        "    print(f\"Epoch {epoch+1}, Loss: {loss.item()}\")"
      ]
    }
  ]
}