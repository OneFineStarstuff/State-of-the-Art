{
  "nbformat": 4,
  "nbformat_minor": 0,
  "metadata": {
    "colab": {
      "private_outputs": true,
      "provenance": [],
      "authorship_tag": "ABX9TyMVGlE7pqiKAsiM6mCIXBHX",
      "include_colab_link": true
    },
    "kernelspec": {
      "name": "python3",
      "display_name": "Python 3"
    },
    "language_info": {
      "name": "python"
    }
  },
  "cells": [
    {
      "cell_type": "markdown",
      "metadata": {
        "id": "view-in-github",
        "colab_type": "text"
      },
      "source": [
        "<a href=\"https://colab.research.google.com/github/OneFineStarstuff/State-of-the-Art/blob/main/Capsule_Networks.ipynb\" target=\"_parent\"><img src=\"https://colab.research.google.com/assets/colab-badge.svg\" alt=\"Open In Colab\"/></a>"
      ]
    },
    {
      "cell_type": "code",
      "execution_count": null,
      "metadata": {
        "id": "tm9z0q7gWo5i"
      },
      "outputs": [],
      "source": [
        "import torch\n",
        "import torch.nn as nn\n",
        "\n",
        "# Define the CapsuleLayer class\n",
        "class CapsuleLayer(nn.Module):\n",
        "    def __init__(self, in_units, num_capsules, dim_capsules):\n",
        "        super(CapsuleLayer, self).__init__()\n",
        "        self.num_capsules = num_capsules  # Number of capsules\n",
        "        self.dim_capsules = dim_capsules  # Dimension of each capsule\n",
        "        self.fc = nn.Linear(in_units, num_capsules * dim_capsules)  # Fully connected layer\n",
        "\n",
        "    def forward(self, x):\n",
        "        batch_size = x.size(0)  # Get the batch size\n",
        "        x = self.fc(x)  # Pass input through fully connected layer\n",
        "        x = x.view(batch_size, self.num_capsules, self.dim_capsules)  # Reshape output to [batch_size, num_capsules, dim_capsules]\n",
        "        return x\n",
        "\n",
        "# Example instantiation and forward pass\n",
        "capsule_layer = CapsuleLayer(in_units=512, num_capsules=10, dim_capsules=16)\n",
        "input_tensor = torch.randn(32, 512)  # Example input (batch_size=32, in_units=512)\n",
        "capsules = capsule_layer(input_tensor)\n",
        "\n",
        "# Print the shape of the output capsules\n",
        "print(capsules.shape)  # Expected shape: [32, 10, 16]"
      ]
    }
  ]
}