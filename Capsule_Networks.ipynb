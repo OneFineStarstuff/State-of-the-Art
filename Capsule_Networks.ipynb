{
  "nbformat": 4,
  "nbformat_minor": 0,
  "metadata": {
    "colab": {
      "private_outputs": true,
      "provenance": [],
      "authorship_tag": "ABX9TyO2usgp0L0KoKfjQvd5cuF8",
      "include_colab_link": true
    },
    "kernelspec": {
      "name": "python3",
      "display_name": "Python 3"
    },
    "language_info": {
      "name": "python"
    }
  },
  "cells": [
    {
      "cell_type": "markdown",
      "metadata": {
        "id": "view-in-github",
        "colab_type": "text"
      },
      "source": [
        "<a href=\"https://colab.research.google.com/github/OneFineStarstuff/State-of-the-Art/blob/main/Capsule_Networks.ipynb\" target=\"_parent\"><img src=\"https://colab.research.google.com/assets/colab-badge.svg\" alt=\"Open In Colab\"/></a>"
      ]
    },
    {
      "cell_type": "code",
      "execution_count": null,
      "metadata": {
        "id": "mHcnE28S0KGK"
      },
      "outputs": [],
      "source": [
        "import torch\n",
        "import torch.nn as nn\n",
        "import torch.nn.functional as F\n",
        "\n",
        "class CapsuleLayer(nn.Module):\n",
        "    def __init__(self, num_capsules, num_routes, in_channels, out_channels):\n",
        "        super(CapsuleLayer, self).__init__()\n",
        "        self.num_capsules = num_capsules\n",
        "        self.num_routes = num_routes\n",
        "        self.in_channels = in_channels\n",
        "        self.out_channels = out_channels\n",
        "        self.route_weights = nn.Parameter(\n",
        "            torch.randn(num_capsules, num_routes, in_channels, out_channels)\n",
        "        )\n",
        "\n",
        "    def forward(self, x):\n",
        "        batch_size = x.size(0)\n",
        "        x = x.view(batch_size, self.num_routes, self.in_channels)  # Reshape to (batch_size, num_routes, in_channels)\n",
        "        x = x.unsqueeze(1)  # Add dimension for capsules\n",
        "        x = x.repeat(1, self.num_capsules, 1, 1)  # Expand for all capsules\n",
        "        u_hat = torch.matmul(x.unsqueeze(-2), self.route_weights).squeeze(-2)  # Matrix multiplication\n",
        "        b_ij = torch.zeros(batch_size, self.num_capsules, self.num_routes).to(x.device)\n",
        "\n",
        "        # Dynamic routing mechanism\n",
        "        for _ in range(3):  # Example routing iterations\n",
        "            c_ij = F.softmax(b_ij, dim=1)\n",
        "            s_j = (c_ij.unsqueeze(-1) * u_hat).sum(dim=2)\n",
        "            v_j = self.squash(s_j)\n",
        "            b_ij = b_ij + (u_hat * v_j.unsqueeze(2)).sum(dim=-1)\n",
        "\n",
        "        return v_j\n",
        "\n",
        "    @staticmethod\n",
        "    def squash(s_j):\n",
        "        s_j_mag_sq = (s_j ** 2).sum(dim=-1, keepdim=True)\n",
        "        s_j_mag = torch.sqrt(s_j_mag_sq + 1e-8)\n",
        "        return (s_j_mag_sq / (1 + s_j_mag_sq)) * (s_j / s_j_mag)\n",
        "\n",
        "capsule_layer = CapsuleLayer(num_capsules=10, num_routes=1152, in_channels=8, out_channels=16)\n",
        "input_data = torch.randn(32, 1152, 8)\n",
        "output = capsule_layer(input_data)\n",
        "print(output.shape)"
      ]
    }
  ]
}