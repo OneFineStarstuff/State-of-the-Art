{
  "nbformat": 4,
  "nbformat_minor": 0,
  "metadata": {
    "colab": {
      "private_outputs": true,
      "provenance": [],
      "authorship_tag": "ABX9TyOqmDkfIGOYzFMHc9ggk8va",
      "include_colab_link": true
    },
    "kernelspec": {
      "name": "python3",
      "display_name": "Python 3"
    },
    "language_info": {
      "name": "python"
    }
  },
  "cells": [
    {
      "cell_type": "markdown",
      "metadata": {
        "id": "view-in-github",
        "colab_type": "text"
      },
      "source": [
        "<a href=\"https://colab.research.google.com/github/OneFineStarstuff/State-of-the-Art/blob/main/Capsule_Networks.ipynb\" target=\"_parent\"><img src=\"https://colab.research.google.com/assets/colab-badge.svg\" alt=\"Open In Colab\"/></a>"
      ]
    },
    {
      "cell_type": "code",
      "source": [
        "import torch\n",
        "import torch.nn as nn\n",
        "import torch.nn.functional as F\n",
        "\n",
        "class PrimaryCapsules(nn.Module):\n",
        "    def __init__(self, num_capsules, in_channels, out_channels, kernel_size=9, stride=2):\n",
        "        super(PrimaryCapsules, self).__init__()\n",
        "        self.num_capsules = num_capsules\n",
        "        self.out_channels = out_channels\n",
        "        self.capsules = nn.Conv2d(in_channels, out_channels * num_capsules, kernel_size=kernel_size, stride=stride)\n",
        "\n",
        "    def forward(self, x):\n",
        "        u = self.capsules(x)\n",
        "        N, C, H, W = u.size()\n",
        "        u = u.view(N, self.num_capsules, self.out_channels, H, W).permute(0, 1, 3, 4, 2).contiguous()\n",
        "        u = u.view(N, self.num_capsules * H * W, self.out_channels)\n",
        "        return self.squash(u)\n",
        "\n",
        "    def squash(self, s):\n",
        "        norm = torch.norm(s, dim=-1, keepdim=True)\n",
        "        scale = norm**2 / (1 + norm**2)\n",
        "        return scale * s / norm\n",
        "\n",
        "class DigitCapsules(nn.Module):\n",
        "    def __init__(self, num_capsules, num_routes, in_channels, out_channels):\n",
        "        super(DigitCapsules, self).__init__()\n",
        "        self.num_routes = num_routes\n",
        "        self.num_capsules = num_capsules\n",
        "        self.in_channels = in_channels\n",
        "        self.out_channels = out_channels\n",
        "\n",
        "        self.W = nn.Parameter(torch.randn(num_routes, in_channels, num_capsules * out_channels))\n",
        "\n",
        "    def forward(self, x):\n",
        "        batch_size = x.size(0)\n",
        "        x = x.view(batch_size, self.num_routes, self.in_channels)  # Shape: [batch_size, num_routes, in_channels]\n",
        "        u_hat = torch.einsum('brc,rco->bro', x, self.W)  # Shape: [batch_size, num_routes, num_capsules * out_channels]\n",
        "        u_hat = u_hat.view(batch_size, self.num_routes, self.num_capsules, self.out_channels)\n",
        "        u_hat = u_hat.permute(0, 2, 1, 3)  # Shape: [batch_size, num_capsules, num_routes, out_channels]\n",
        "\n",
        "        b = torch.zeros(batch_size, self.num_capsules, self.num_routes).to(x.device)\n",
        "        for _ in range(3):  # Dynamic routing iterations\n",
        "            c = torch.softmax(b, dim=2)\n",
        "            s = (c.unsqueeze(3) * u_hat).sum(dim=2)\n",
        "            v = self.squash(s)\n",
        "            b = b + (u_hat * v.unsqueeze(2)).sum(dim=-1)\n",
        "\n",
        "        return v\n",
        "\n",
        "    def squash(self, s):\n",
        "        norm = torch.norm(s, dim=-1, keepdim=True)\n",
        "        scale = norm**2 / (1 + norm**2)\n",
        "        return scale * s / norm\n",
        "\n",
        "class CapsuleNetwork(nn.Module):\n",
        "    def __init__(self):\n",
        "        super(CapsuleNetwork, self).__init__()\n",
        "        self.conv1 = nn.Conv2d(1, 256, kernel_size=9, stride=1)\n",
        "        self.primary_capsules = PrimaryCapsules(num_capsules=32, in_channels=256, out_channels=8)\n",
        "        self.digit_capsules = DigitCapsules(num_capsules=10, num_routes=32 * 6 * 6, in_channels=8, out_channels=16)\n",
        "\n",
        "    def forward(self, x):\n",
        "        x = F.relu(self.conv1(x))  # Convolutional layer\n",
        "        x = self.primary_capsules(x)  # Primary capsules\n",
        "        x = x.view(x.size(0), 32 * 6 * 6, 8)  # Prepare for digit capsules\n",
        "        x = self.digit_capsules(x)  # Digit capsules\n",
        "        return x\n",
        "\n",
        "# Example usage\n",
        "model = CapsuleNetwork()\n",
        "input_data = torch.randn(10, 1, 28, 28)  # Batch size of 10, 1 channel, 28x28 image\n",
        "output = model(input_data)\n",
        "print(\"Capsule Network output shape:\", output.shape)  # Expected shape: [10, 10, 16]"
      ],
      "metadata": {
        "id": "xb4HX4fZASby"
      },
      "execution_count": null,
      "outputs": []
    }
  ]
}