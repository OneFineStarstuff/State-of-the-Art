{
  "nbformat": 4,
  "nbformat_minor": 0,
  "metadata": {
    "colab": {
      "private_outputs": true,
      "provenance": [],
      "authorship_tag": "ABX9TyPebH2mrYU2TUBEP2REKXr/",
      "include_colab_link": true
    },
    "kernelspec": {
      "name": "python3",
      "display_name": "Python 3"
    },
    "language_info": {
      "name": "python"
    }
  },
  "cells": [
    {
      "cell_type": "markdown",
      "metadata": {
        "id": "view-in-github",
        "colab_type": "text"
      },
      "source": [
        "<a href=\"https://colab.research.google.com/github/OneFineStarstuff/State-of-the-Art/blob/main/Capsule_Networks.ipynb\" target=\"_parent\"><img src=\"https://colab.research.google.com/assets/colab-badge.svg\" alt=\"Open In Colab\"/></a>"
      ]
    },
    {
      "cell_type": "code",
      "execution_count": null,
      "metadata": {
        "id": "VJs3LIOS6aV7"
      },
      "outputs": [],
      "source": [
        "import torch\n",
        "import torch.nn as nn\n",
        "\n",
        "# Define the CapsuleLayer class\n",
        "class CapsuleLayer(nn.Module):\n",
        "    def __init__(self, num_capsules, in_channels, out_channels):\n",
        "        super(CapsuleLayer, self).__init__()\n",
        "        self.capsules = nn.ModuleList(\n",
        "            [nn.Conv2d(in_channels, out_channels, kernel_size=9, stride=2) for _ in range(num_capsules)]\n",
        "        )\n",
        "\n",
        "    def forward(self, x):\n",
        "        u = [capsule(x).unsqueeze(2) for capsule in self.capsules]  # Apply each capsule's conv layer and add a new dimension\n",
        "        u = torch.cat(u, dim=2)  # Concatenate outputs along the new dimension\n",
        "        return self.squash(u)  # Apply squash function\n",
        "\n",
        "    def squash(self, s):\n",
        "        mag_sq = torch.sum(s**2, dim=1, keepdim=True)  # Compute squared magnitude of the vector\n",
        "        mag = torch.sqrt(mag_sq)  # Compute magnitude of the vector\n",
        "        s = (mag_sq / (1.0 + mag_sq)) * (s / mag)  # Apply the squash function\n",
        "        return s\n",
        "\n",
        "# Example usage\n",
        "capsule_layer = CapsuleLayer(num_capsules=8, in_channels=256, out_channels=32)\n",
        "input_data = torch.randn(64, 256, 20, 20)  # Example input (batch_size=64, in_channels=256, height=20, width=20)\n",
        "output = capsule_layer(input_data)\n",
        "\n",
        "# Print the shape of the output\n",
        "print(output.shape)  # Expected shape: [64, 32, 8, 6, 6]"
      ]
    }
  ]
}