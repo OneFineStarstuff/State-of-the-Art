{
  "nbformat": 4,
  "nbformat_minor": 0,
  "metadata": {
    "colab": {
      "private_outputs": true,
      "provenance": [],
      "authorship_tag": "ABX9TyMp6bMDcXpK/cfMgExmLwRC",
      "include_colab_link": true
    },
    "kernelspec": {
      "name": "python3",
      "display_name": "Python 3"
    },
    "language_info": {
      "name": "python"
    }
  },
  "cells": [
    {
      "cell_type": "markdown",
      "metadata": {
        "id": "view-in-github",
        "colab_type": "text"
      },
      "source": [
        "<a href=\"https://colab.research.google.com/github/OneFineStarstuff/State-of-the-Art/blob/main/Capsule_Networks.ipynb\" target=\"_parent\"><img src=\"https://colab.research.google.com/assets/colab-badge.svg\" alt=\"Open In Colab\"/></a>"
      ]
    },
    {
      "cell_type": "code",
      "execution_count": null,
      "metadata": {
        "id": "LL6RDp-XkZqb"
      },
      "outputs": [],
      "source": [
        "import torch\n",
        "import torch.nn as nn\n",
        "import torch.nn.functional as F\n",
        "\n",
        "class CapsuleLayer(nn.Module):\n",
        "    def __init__(self, num_capsules, in_dim, out_dim):\n",
        "        super(CapsuleLayer, self).__init__()\n",
        "        self.num_capsules = num_capsules\n",
        "        self.capsules = nn.ModuleList([nn.Linear(in_dim, out_dim) for _ in range(num_capsules)])\n",
        "\n",
        "    def forward(self, x):\n",
        "        u = [capsule(x) for capsule in self.capsules]\n",
        "        u = torch.stack(u, dim=-1)\n",
        "        u = F.softmax(u, dim=-1)\n",
        "        return u\n",
        "\n",
        "class CapsuleNet(nn.Module):\n",
        "    def __init__(self, input_dim, num_capsules, capsule_dim):\n",
        "        super(CapsuleNet, self).__init__()\n",
        "        self.fc = nn.Linear(input_dim, num_capsules * capsule_dim)\n",
        "        self.capsule_dim = capsule_dim\n",
        "\n",
        "    def forward(self, x):\n",
        "        x = self.fc(x)\n",
        "        x = x.view(x.size(0), -1, self.capsule_dim)\n",
        "        return x\n",
        "\n",
        "# Example usage\n",
        "input_dim = 784\n",
        "num_capsules = 10\n",
        "capsule_dim = 16\n",
        "model = CapsuleNet(input_dim, num_capsules, capsule_dim)\n",
        "\n",
        "x = torch.randn(32, input_dim)\n",
        "output = model(x)\n",
        "print(\"Capsule Network output shape:\", output.shape)"
      ]
    }
  ]
}