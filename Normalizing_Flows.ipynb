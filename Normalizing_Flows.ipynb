{
  "nbformat": 4,
  "nbformat_minor": 0,
  "metadata": {
    "colab": {
      "private_outputs": true,
      "provenance": [],
      "authorship_tag": "ABX9TyPuPHrLEMyVt5T21hfUb8eo",
      "include_colab_link": true
    },
    "kernelspec": {
      "name": "python3",
      "display_name": "Python 3"
    },
    "language_info": {
      "name": "python"
    }
  },
  "cells": [
    {
      "cell_type": "markdown",
      "metadata": {
        "id": "view-in-github",
        "colab_type": "text"
      },
      "source": [
        "<a href=\"https://colab.research.google.com/github/OneFineStarstuff/State-of-the-Art/blob/main/Normalizing_Flows.ipynb\" target=\"_parent\"><img src=\"https://colab.research.google.com/assets/colab-badge.svg\" alt=\"Open In Colab\"/></a>"
      ]
    },
    {
      "cell_type": "code",
      "execution_count": null,
      "metadata": {
        "id": "VWPCvpAzAi8g"
      },
      "outputs": [],
      "source": [
        "import torch\n",
        "import torch.nn as nn\n",
        "import torch.optim as optim\n",
        "\n",
        "class PlanarFlow(nn.Module):\n",
        "    def __init__(self, input_dim):\n",
        "        super(PlanarFlow, self).__init__()\n",
        "        self.u = nn.Parameter(torch.randn(input_dim))\n",
        "        self.w = nn.Parameter(torch.randn(input_dim))\n",
        "        self.b = nn.Parameter(torch.randn(1))\n",
        "\n",
        "    def forward(self, x):\n",
        "        linear = x @ self.w + self.b  # Shape: [batch_size]\n",
        "        psi = (1 - torch.tanh(linear) ** 2).unsqueeze(1) * self.w  # Shape: [batch_size, input_dim]\n",
        "        return x + self.u * torch.tanh(linear).unsqueeze(1), torch.log(torch.abs(1 + psi @ self.u))\n",
        "\n",
        "class NormalizingFlow(nn.Module):\n",
        "    def __init__(self, input_dim, n_flows):\n",
        "        super(NormalizingFlow, self).__init__()\n",
        "        self.flows = nn.ModuleList([PlanarFlow(input_dim) for _ in range(n_flows)])\n",
        "\n",
        "    def forward(self, x):\n",
        "        log_det_jacobians = 0\n",
        "        for flow in self.flows:\n",
        "            x, log_det_jacobian = flow(x)\n",
        "            log_det_jacobians += log_det_jacobian\n",
        "        return x, log_det_jacobians\n",
        "\n",
        "# Example usage\n",
        "model = NormalizingFlow(input_dim=2, n_flows=5)\n",
        "optimizer = optim.Adam(model.parameters(), lr=0.001)\n",
        "\n",
        "for _ in range(100):\n",
        "    x = torch.randn(32, 2)\n",
        "    z, log_det_jacobians = model(x)\n",
        "    loss = -torch.mean(-0.5 * torch.sum(z**2, dim=1) + log_det_jacobians)\n",
        "    optimizer.zero_grad()\n",
        "    loss.backward()\n",
        "    optimizer.step()\n",
        "    print(f'Loss: {loss.item():.4f}')"
      ]
    }
  ]
}