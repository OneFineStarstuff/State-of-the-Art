{
  "nbformat": 4,
  "nbformat_minor": 0,
  "metadata": {
    "colab": {
      "private_outputs": true,
      "provenance": [],
      "authorship_tag": "ABX9TyNaISOdFhfQSthT0yjb30vM",
      "include_colab_link": true
    },
    "kernelspec": {
      "name": "python3",
      "display_name": "Python 3"
    },
    "language_info": {
      "name": "python"
    }
  },
  "cells": [
    {
      "cell_type": "markdown",
      "metadata": {
        "id": "view-in-github",
        "colab_type": "text"
      },
      "source": [
        "<a href=\"https://colab.research.google.com/github/OneFineStarstuff/State-of-the-Art/blob/main/Attention_Mechanisms_in_Computer_Vision.ipynb\" target=\"_parent\"><img src=\"https://colab.research.google.com/assets/colab-badge.svg\" alt=\"Open In Colab\"/></a>"
      ]
    },
    {
      "cell_type": "code",
      "execution_count": null,
      "metadata": {
        "id": "YODF0xHN7wsZ"
      },
      "outputs": [],
      "source": [
        "import torch\n",
        "import torch.nn as nn\n",
        "import torch.nn.functional as F\n",
        "\n",
        "class AttentionLayer(nn.Module):\n",
        "    def __init__(self, input_dim):\n",
        "        super(AttentionLayer, self).__init__()\n",
        "        self.fc = nn.Linear(input_dim, input_dim)\n",
        "\n",
        "    def forward(self, x):\n",
        "        batch_size, num_channels, height, width = x.size()\n",
        "        x = x.view(batch_size, num_channels, -1)  # Flatten the spatial dimensions\n",
        "        attention_scores = F.softmax(self.fc(x), dim=-1)\n",
        "        x = x * attention_scores\n",
        "        return x.view(batch_size, num_channels, height, width)  # Restore the original dimensions\n",
        "\n",
        "class CNNWithAttention(nn.Module):\n",
        "    def __init__(self, input_dim, hidden_dim, num_classes):\n",
        "        super(CNNWithAttention, self).__init__()\n",
        "        self.conv = nn.Conv2d(input_dim, hidden_dim, kernel_size=3, padding=1)\n",
        "        self.attention = AttentionLayer(32 * 32)  # Adjusted to handle the spatial dimensions correctly\n",
        "        self.fc = nn.Linear(hidden_dim * 32 * 32, num_classes)\n",
        "\n",
        "    def forward(self, x):\n",
        "        x = F.relu(self.conv(x))\n",
        "        x = self.attention(x)\n",
        "        x = x.view(x.size(0), -1)\n",
        "        x = self.fc(x)\n",
        "        return x\n",
        "\n",
        "# Example usage\n",
        "model = CNNWithAttention(input_dim=3, hidden_dim=64, num_classes=10)\n",
        "img = torch.randn(32, 3, 32, 32)  # Batch of 32 RGB images, 32x32 pixels\n",
        "output = model(img)\n",
        "print(\"CNN with Attention output shape:\", output.shape)"
      ]
    }
  ]
}