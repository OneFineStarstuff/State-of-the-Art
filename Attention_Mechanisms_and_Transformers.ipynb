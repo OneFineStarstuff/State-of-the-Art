{
  "nbformat": 4,
  "nbformat_minor": 0,
  "metadata": {
    "colab": {
      "private_outputs": true,
      "provenance": [],
      "authorship_tag": "ABX9TyO3x0dUM0iHXgJg1teoEMw6",
      "include_colab_link": true
    },
    "kernelspec": {
      "name": "python3",
      "display_name": "Python 3"
    },
    "language_info": {
      "name": "python"
    }
  },
  "cells": [
    {
      "cell_type": "markdown",
      "metadata": {
        "id": "view-in-github",
        "colab_type": "text"
      },
      "source": [
        "<a href=\"https://colab.research.google.com/github/OneFineStarstuff/State-of-the-Art/blob/main/Attention_Mechanisms_and_Transformers.ipynb\" target=\"_parent\"><img src=\"https://colab.research.google.com/assets/colab-badge.svg\" alt=\"Open In Colab\"/></a>"
      ]
    },
    {
      "cell_type": "code",
      "execution_count": null,
      "metadata": {
        "id": "1MfansMyxjEJ"
      },
      "outputs": [],
      "source": [
        "import torch\n",
        "import torch.nn as nn\n",
        "import torch.optim as optim\n",
        "from torch.nn import Transformer\n",
        "\n",
        "class PositionalEncoding(nn.Module):\n",
        "    def __init__(self, hidden_dim, max_len=5000):\n",
        "        super(PositionalEncoding, self).__init__()\n",
        "        pe = torch.zeros(max_len, hidden_dim)\n",
        "        position = torch.arange(0, max_len, dtype=torch.float).unsqueeze(1)\n",
        "        div_term = torch.exp(torch.arange(0, hidden_dim, 2).float() * (-torch.log(torch.tensor(10000.0)) / hidden_dim))\n",
        "        pe[:, 0::2] = torch.sin(position * div_term)\n",
        "        pe[:, 1::2] = torch.cos(position * div_term)\n",
        "        self.pe = pe.unsqueeze(1)  # Add batch dimension\n",
        "\n",
        "    def forward(self, x):\n",
        "        return x + self.pe[:x.size(0), :].to(x.device)\n",
        "\n",
        "class TransformerModel(nn.Module):\n",
        "    def __init__(self, input_dim, output_dim, hidden_dim, num_heads, num_layers, max_len=5000):\n",
        "        super(TransformerModel, self).__init__()\n",
        "        self.embedding = nn.Embedding(input_dim, hidden_dim)\n",
        "        self.positional_encoding = PositionalEncoding(hidden_dim, max_len)\n",
        "        self.transformer = Transformer(d_model=hidden_dim, nhead=num_heads, num_encoder_layers=num_layers, num_decoder_layers=num_layers, batch_first=False)\n",
        "        self.fc_out = nn.Linear(hidden_dim, output_dim)\n",
        "\n",
        "    def forward(self, src, tgt, src_mask=None, tgt_mask=None):\n",
        "        # Add embeddings and positional encoding\n",
        "        src_emb = self.positional_encoding(self.embedding(src))\n",
        "        tgt_emb = self.positional_encoding(self.embedding(tgt))\n",
        "\n",
        "        # Pass through Transformer\n",
        "        output = self.transformer(src_emb, tgt_emb, src_mask=src_mask, tgt_mask=tgt_mask)\n",
        "        return self.fc_out(output)\n",
        "\n",
        "# Example hyperparameters\n",
        "input_dim = 5000  # Vocabulary size\n",
        "output_dim = 5000  # Vocabulary size\n",
        "hidden_dim = 512  # Hidden layer dimension\n",
        "num_heads = 8  # Number of attention heads\n",
        "num_layers = 6  # Number of Transformer layers\n",
        "\n",
        "# Initialize model, optimizer, and example data\n",
        "model = TransformerModel(input_dim, output_dim, hidden_dim, num_heads, num_layers)\n",
        "optimizer = optim.Adam(model.parameters(), lr=0.0001)\n",
        "\n",
        "# Example data (source and target sequences)\n",
        "src = torch.randint(0, input_dim, (10, 32))  # 10 words, 32 batch size\n",
        "tgt = torch.randint(0, output_dim, (20, 32))  # 20 words, 32 batch size\n",
        "\n",
        "# Forward pass\n",
        "output = model(src, tgt)\n",
        "\n",
        "print(\"Output shape:\", output.shape)"
      ]
    }
  ]
}