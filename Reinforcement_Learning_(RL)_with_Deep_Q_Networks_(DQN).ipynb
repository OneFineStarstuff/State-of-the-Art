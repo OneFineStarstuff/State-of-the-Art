{
  "nbformat": 4,
  "nbformat_minor": 0,
  "metadata": {
    "colab": {
      "private_outputs": true,
      "provenance": [],
      "authorship_tag": "ABX9TyONzLL52ERJP/pXgGojDopN",
      "include_colab_link": true
    },
    "kernelspec": {
      "name": "python3",
      "display_name": "Python 3"
    },
    "language_info": {
      "name": "python"
    }
  },
  "cells": [
    {
      "cell_type": "markdown",
      "metadata": {
        "id": "view-in-github",
        "colab_type": "text"
      },
      "source": [
        "<a href=\"https://colab.research.google.com/github/OneFineStarstuff/State-of-the-Art/blob/main/Reinforcement_Learning_(RL)_with_Deep_Q_Networks_(DQN).ipynb\" target=\"_parent\"><img src=\"https://colab.research.google.com/assets/colab-badge.svg\" alt=\"Open In Colab\"/></a>"
      ]
    },
    {
      "cell_type": "code",
      "source": [
        "pip install --upgrade numpy"
      ],
      "metadata": {
        "id": "CIfqTJq7K11p"
      },
      "execution_count": null,
      "outputs": []
    },
    {
      "cell_type": "code",
      "source": [
        "pip install --upgrade gym"
      ],
      "metadata": {
        "id": "lwSxwA_NK3WR"
      },
      "execution_count": null,
      "outputs": []
    },
    {
      "cell_type": "code",
      "source": [
        "pip show numpy gym"
      ],
      "metadata": {
        "id": "1j3UUUWnK4mu"
      },
      "execution_count": null,
      "outputs": []
    },
    {
      "cell_type": "code",
      "source": [
        "pip install gym[all]  # Install all necessary dependencies"
      ],
      "metadata": {
        "id": "Foxh_j85N8mr"
      },
      "execution_count": null,
      "outputs": []
    },
    {
      "cell_type": "code",
      "execution_count": null,
      "metadata": {
        "id": "FOZ9ISrJJzB0"
      },
      "outputs": [],
      "source": [
        "import torch\n",
        "import torch.nn as nn\n",
        "import torch.optim as optim\n",
        "import random\n",
        "import numpy as np\n",
        "from collections import deque\n",
        "import gym\n",
        "\n",
        "# Define the DQN Model\n",
        "class DQN(nn.Module):\n",
        "    def __init__(self, input_dim, output_dim):\n",
        "        super(DQN, self).__init__()\n",
        "        self.fc = nn.Sequential(\n",
        "            nn.Linear(input_dim, 128),\n",
        "            nn.ReLU(),\n",
        "            nn.Linear(128, output_dim)\n",
        "        )\n",
        "\n",
        "    def forward(self, x):\n",
        "        return self.fc(x)\n",
        "\n",
        "# Function to select an action based on epsilon-greedy policy\n",
        "def select_action(state, epsilon, env, dqn):\n",
        "    if random.random() < epsilon:  # Explore\n",
        "        return env.action_space.sample()\n",
        "    else:  # Exploit\n",
        "        state = torch.tensor(state, dtype=torch.float32).unsqueeze(0)  # Add batch dimension\n",
        "        return dqn(state).argmax(dim=1).item()\n",
        "\n",
        "# Function to optimize the DQN model\n",
        "def optimize_model(memory, batch_size, dqn, target_dqn, optimizer, gamma, device):\n",
        "    if len(memory) < batch_size:\n",
        "        return\n",
        "\n",
        "    # Sample a mini-batch from memory\n",
        "    batch = random.sample(memory, batch_size)\n",
        "    state_batch, action_batch, next_state_batch, reward_batch, done_batch = zip(*batch)\n",
        "\n",
        "    # Convert to tensors\n",
        "    state_batch = torch.tensor(state_batch, dtype=torch.float32).to(device)\n",
        "    action_batch = torch.tensor(action_batch, dtype=torch.int64).unsqueeze(1).to(device)\n",
        "    reward_batch = torch.tensor(reward_batch, dtype=torch.float32).to(device)\n",
        "    next_state_batch = torch.tensor(next_state_batch, dtype=torch.float32).to(device)\n",
        "    done_batch = torch.tensor(done_batch, dtype=torch.float32).to(device)\n",
        "\n",
        "    # Compute Q-values for the current states\n",
        "    q_values = dqn(state_batch).gather(1, action_batch)\n",
        "\n",
        "    # Compute target Q-values for the next states\n",
        "    with torch.no_grad():\n",
        "        next_q_values = target_dqn(next_state_batch).max(1)[0]\n",
        "        target_q_values = reward_batch + (gamma * next_q_values * (1 - done_batch))\n",
        "\n",
        "    # Compute loss\n",
        "    loss = nn.MSELoss()(q_values.squeeze(), target_q_values)\n",
        "\n",
        "    # Optimize the model\n",
        "    optimizer.zero_grad()\n",
        "    loss.backward()\n",
        "    optimizer.step()\n",
        "\n",
        "# Main training loop\n",
        "if __name__ == \"__main__\":\n",
        "    # Initialize environment and parameters\n",
        "    env = gym.make('CartPole-v1', apply_api_compatibility=True)  # Use the environment without API compatibility wrapper\n",
        "    input_dim = env.observation_space.shape[0]\n",
        "    output_dim = env.action_space.n\n",
        "    dqn = DQN(input_dim, output_dim)\n",
        "    target_dqn = DQN(input_dim, output_dim)\n",
        "    target_dqn.load_state_dict(dqn.state_dict())  # Copy weights from DQN to target DQN\n",
        "    target_dqn.eval()  # Target DQN is not trained\n",
        "\n",
        "    optimizer = optim.Adam(dqn.parameters(), lr=0.001)\n",
        "    memory = deque(maxlen=10000)  # Replay memory\n",
        "    batch_size = 64\n",
        "    gamma = 0.99  # Discount factor\n",
        "    epsilon = 1.0  # Initial epsilon for exploration\n",
        "    epsilon_min = 0.01\n",
        "    epsilon_decay = 0.995\n",
        "    num_episodes = 500\n",
        "    target_update = 10  # Update target DQN every 10 episodes\n",
        "\n",
        "    device = torch.device(\"cuda\" if torch.cuda.is_available() else \"cpu\")\n",
        "    dqn.to(device)\n",
        "    target_dqn.to(device)\n",
        "\n",
        "    for episode in range(num_episodes):\n",
        "        state = env.reset()  # Reset the environment\n",
        "        total_reward = 0\n",
        "\n",
        "        for t in range(200):  # Limit steps per episode\n",
        "            action = select_action(state, epsilon, env, dqn)\n",
        "            next_state, reward, done, info = env.step(action)  # Handle old API behavior\n",
        "            terminated, truncated = done, False  # Simulating new API flags\n",
        "            total_reward += reward\n",
        "\n",
        "            # Store transition in replay memory\n",
        "            memory.append((state, action, next_state, reward, done))\n",
        "            state = next_state\n",
        "\n",
        "            # Optimize the DQN model\n",
        "            optimize_model(memory, batch_size, dqn, target_dqn, optimizer, gamma, device)\n",
        "\n",
        "            if done:\n",
        "                break\n",
        "\n",
        "        # Decay epsilon for exploration\n",
        "        epsilon = max(epsilon_min, epsilon * epsilon_decay)\n",
        "\n",
        "        # Update the target network\n",
        "        if episode % target_update == 0:\n",
        "            target_dqn.load_state_dict(dqn.state_dict())\n",
        "\n",
        "        print(f\"Episode {episode + 1}, Total Reward: {total_reward}, Epsilon: {epsilon:.4f}\")\n",
        "\n",
        "    # Test the trained model\n",
        "    state = env.reset()\n",
        "    for _ in range(200):\n",
        "        env.render()\n",
        "        action = select_action(state, epsilon=0.0, env=env, dqn=dqn)  # Exploit only\n",
        "        state, reward, done, info = env.step(action)  # Handle old API behavior\n",
        "        if done:\n",
        "            break\n",
        "\n",
        "    env.close()"
      ]
    }
  ]
}