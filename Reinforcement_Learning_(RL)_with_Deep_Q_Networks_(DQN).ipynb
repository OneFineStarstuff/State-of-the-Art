{
  "nbformat": 4,
  "nbformat_minor": 0,
  "metadata": {
    "colab": {
      "private_outputs": true,
      "provenance": [],
      "authorship_tag": "ABX9TyO1BaX7DWHei6Ij8tPcNFFg",
      "include_colab_link": true
    },
    "kernelspec": {
      "name": "python3",
      "display_name": "Python 3"
    },
    "language_info": {
      "name": "python"
    }
  },
  "cells": [
    {
      "cell_type": "markdown",
      "metadata": {
        "id": "view-in-github",
        "colab_type": "text"
      },
      "source": [
        "<a href=\"https://colab.research.google.com/github/OneFineStarstuff/State-of-the-Art/blob/main/Reinforcement_Learning_(RL)_with_Deep_Q_Networks_(DQN).ipynb\" target=\"_parent\"><img src=\"https://colab.research.google.com/assets/colab-badge.svg\" alt=\"Open In Colab\"/></a>"
      ]
    },
    {
      "cell_type": "code",
      "source": [
        "pip show gym"
      ],
      "metadata": {
        "id": "6R1bUE0CsM2B"
      },
      "execution_count": null,
      "outputs": []
    },
    {
      "cell_type": "code",
      "source": [
        "pip install --upgrade gym"
      ],
      "metadata": {
        "id": "Sa4wpkDTsNvm"
      },
      "execution_count": null,
      "outputs": []
    },
    {
      "cell_type": "code",
      "execution_count": null,
      "metadata": {
        "id": "5mO7mc8Krn34"
      },
      "outputs": [],
      "source": [
        "import torch\n",
        "import torch.nn as nn\n",
        "import torch.optim as optim\n",
        "import numpy as np\n",
        "import gym\n",
        "from collections import deque\n",
        "import random\n",
        "\n",
        "# Define the DQN network\n",
        "class DQN(nn.Module):\n",
        "    def __init__(self, input_dim, output_dim):\n",
        "        super(DQN, self).__init__()\n",
        "        self.fc1 = nn.Linear(input_dim, 128)\n",
        "        self.fc2 = nn.Linear(128, 128)\n",
        "        self.fc3 = nn.Linear(128, output_dim)\n",
        "\n",
        "    def forward(self, x):\n",
        "        x = torch.relu(self.fc1(x))\n",
        "        x = torch.relu(self.fc2(x))\n",
        "        return self.fc3(x)\n",
        "\n",
        "# Hyperparameters\n",
        "learning_rate = 0.001\n",
        "gamma = 0.99\n",
        "batch_size = 32\n",
        "epsilon = 1.0\n",
        "epsilon_decay = 0.995\n",
        "epsilon_min = 0.01\n",
        "memory_size = 10000\n",
        "target_update_frequency = 10\n",
        "\n",
        "# Initialize environment and DQN models\n",
        "env = gym.make('CartPole-v1')  # Ensure compatibility with current Gym versions\n",
        "input_dim = env.observation_space.shape[0]\n",
        "output_dim = env.action_space.n\n",
        "device = torch.device(\"cuda\" if torch.cuda.is_available() else \"cpu\")\n",
        "policy_net = DQN(input_dim, output_dim).to(device)\n",
        "target_net = DQN(input_dim, output_dim).to(device)\n",
        "target_net.load_state_dict(policy_net.state_dict())\n",
        "target_net.eval()\n",
        "\n",
        "optimizer = optim.Adam(policy_net.parameters(), lr=learning_rate)\n",
        "memory = deque(maxlen=memory_size)\n",
        "\n",
        "# Define action selection (epsilon-greedy policy)\n",
        "def select_action(state, test_mode=False):\n",
        "    if not test_mode and np.random.rand() < epsilon:\n",
        "        return random.choice(range(output_dim))  # Random action (exploration)\n",
        "    else:\n",
        "        state_tensor = torch.tensor(state, dtype=torch.float32).unsqueeze(0).to(device)\n",
        "        q_values = policy_net(state_tensor)\n",
        "        return torch.argmax(q_values).item()  # Action with max Q-value (exploitation)\n",
        "\n",
        "# Optimize the model using experience replay\n",
        "def optimize_model():\n",
        "    if len(memory) < batch_size:\n",
        "        return\n",
        "\n",
        "    transitions = random.sample(memory, batch_size)\n",
        "    batch = list(zip(*transitions))\n",
        "\n",
        "    states = torch.tensor(batch[0], dtype=torch.float32).to(device)\n",
        "    actions = torch.tensor(batch[1], dtype=torch.long).to(device)\n",
        "    rewards = torch.tensor(batch[2], dtype=torch.float32).to(device)\n",
        "    next_states = torch.tensor(batch[3], dtype=torch.float32).to(device)\n",
        "    dones = torch.tensor(batch[4], dtype=torch.float32).to(device)\n",
        "\n",
        "    # Compute Q-learning targets\n",
        "    current_q_values = policy_net(states).gather(1, actions.unsqueeze(1)).squeeze(1)\n",
        "    next_q_values = target_net(next_states).max(1)[0]\n",
        "    expected_q_values = rewards + (gamma * next_q_values * (1 - dones))\n",
        "\n",
        "    # Compute the loss and update policy_net\n",
        "    loss = nn.MSELoss()(current_q_values, expected_q_values)\n",
        "    optimizer.zero_grad()\n",
        "    loss.backward()\n",
        "    torch.nn.utils.clip_grad_norm_(policy_net.parameters(), max_norm=1.0)  # Gradient clipping\n",
        "    optimizer.step()\n",
        "\n",
        "# Training loop\n",
        "num_episodes = 1000\n",
        "for episode in range(num_episodes):\n",
        "    state, _ = env.reset() if isinstance(env.reset(), tuple) else (env.reset(), None)\n",
        "    total_reward = 0\n",
        "    done = False\n",
        "\n",
        "    while not done:\n",
        "        action = select_action(state)\n",
        "        next_state, reward, terminated, truncated, _ = env.step(action) if hasattr(env, 'step') else env.step(action)\n",
        "        done = terminated or truncated\n",
        "        total_reward += reward\n",
        "\n",
        "        memory.append((state, action, reward, next_state, float(done)))\n",
        "        state = next_state\n",
        "\n",
        "        optimize_model()\n",
        "\n",
        "    # Decay epsilon\n",
        "    global epsilon\n",
        "    epsilon = max(epsilon_min, epsilon * epsilon_decay)\n",
        "\n",
        "    # Update the target network periodically\n",
        "    if episode % target_update_frequency == 0:\n",
        "        target_net.load_state_dict(policy_net.state_dict())\n",
        "\n",
        "    print(f\"Episode {episode + 1}, Total Reward: {total_reward}, Epsilon: {epsilon:.4f}\")\n",
        "\n",
        "# Test the trained agent\n",
        "state, _ = env.reset() if isinstance(env.reset(), tuple) else (env.reset(), None)\n",
        "total_reward = 0\n",
        "done = False\n",
        "while not done:\n",
        "    action = select_action(state, test_mode=True)\n",
        "    next_state, reward, terminated, truncated, _ = env.step(action) if hasattr(env, 'step') else env.step(action)\n",
        "    done = terminated or truncated\n",
        "    total_reward += reward\n",
        "    state = next_state\n",
        "print(f\"Test Reward: {total_reward}\")"
      ]
    }
  ]
}