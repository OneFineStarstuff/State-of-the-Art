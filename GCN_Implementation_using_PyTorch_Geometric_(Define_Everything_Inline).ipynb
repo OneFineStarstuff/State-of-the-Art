{
  "nbformat": 4,
  "nbformat_minor": 0,
  "metadata": {
    "colab": {
      "private_outputs": true,
      "provenance": [],
      "authorship_tag": "ABX9TyN3QgWMBAXbzO6KQXlRnjFf",
      "include_colab_link": true
    },
    "kernelspec": {
      "name": "python3",
      "display_name": "Python 3"
    },
    "language_info": {
      "name": "python"
    }
  },
  "cells": [
    {
      "cell_type": "markdown",
      "metadata": {
        "id": "view-in-github",
        "colab_type": "text"
      },
      "source": [
        "<a href=\"https://colab.research.google.com/github/OneFineStarstuff/State-of-the-Art/blob/main/GCN_Implementation_using_PyTorch_Geometric_(Define_Everything_Inline).ipynb\" target=\"_parent\"><img src=\"https://colab.research.google.com/assets/colab-badge.svg\" alt=\"Open In Colab\"/></a>"
      ]
    },
    {
      "cell_type": "code",
      "source": [
        "!pip install torch_geometric"
      ],
      "metadata": {
        "id": "k2cIZE2xiJaw"
      },
      "execution_count": null,
      "outputs": []
    },
    {
      "cell_type": "code",
      "execution_count": null,
      "metadata": {
        "id": "xzVpLy9Nh_Az"
      },
      "outputs": [],
      "source": [
        "import torch\n",
        "import torch.nn as nn\n",
        "import torch.nn.functional as F\n",
        "from torch_geometric.nn import GCNConv\n",
        "from torch_geometric.data import Data\n",
        "\n",
        "# --- GCN Definition ---\n",
        "class GCN(nn.Module):\n",
        "    def __init__(self, in_channels, hidden_channels, out_channels):\n",
        "        super(GCN, self).__init__()\n",
        "        self.conv1 = GCNConv(in_channels, hidden_channels)\n",
        "        self.conv2 = GCNConv(hidden_channels, out_channels)\n",
        "\n",
        "    def forward(self, x, edge_index):\n",
        "        x = F.relu(self.conv1(x, edge_index))  # First GCN layer + ReLU\n",
        "        x = self.conv2(x, edge_index)          # Output layer (raw logits)\n",
        "        return x\n",
        "\n",
        "# --- Graph Example: 3 nodes, edges, and features ---\n",
        "x = torch.randn(3, 5)  # Node features: [num_nodes, num_features]\n",
        "\n",
        "# Edges: edge_index has shape [2, num_edges]\n",
        "# Format: [source_nodes; target_nodes]\n",
        "edge_index = torch.tensor([\n",
        "    [0, 1, 1, 2],  # from nodes\n",
        "    [1, 0, 2, 1]   # to nodes\n",
        "], dtype=torch.long)\n",
        "\n",
        "# Wrap graph data\n",
        "data = Data(x=x, edge_index=edge_index)\n",
        "\n",
        "# --- Instantiate & Run Model ---\n",
        "model = GCN(in_channels=5, hidden_channels=16, out_channels=2)\n",
        "output = model(data.x, data.edge_index)\n",
        "\n",
        "print(\"GCN Output Shape:\", output.shape)\n",
        "print(\"Node-level Output:\\n\", output)"
      ]
    },
    {
      "cell_type": "code",
      "source": [
        "import torch\n",
        "import torch.nn as nn\n",
        "import torch.nn.functional as F\n",
        "from torch_geometric.nn import GCNConv\n",
        "from torch_geometric.data import Data\n",
        "\n",
        "# --- Define GCN Model ---\n",
        "class GCN(nn.Module):\n",
        "    def __init__(self, in_channels, hidden_channels, out_channels):\n",
        "        super(GCN, self).__init__()\n",
        "        self.conv1 = GCNConv(in_channels, hidden_channels)\n",
        "        self.conv2 = GCNConv(hidden_channels, out_channels)\n",
        "\n",
        "    def forward(self, x, edge_index):\n",
        "        x = F.relu(self.conv1(x, edge_index))\n",
        "        x = self.conv2(x, edge_index)\n",
        "        return x\n",
        "\n",
        "# --- Synthetic Graph Data ---\n",
        "x = torch.randn(6, 5)  # 6 nodes, each with 5 features\n",
        "\n",
        "edge_index = torch.tensor([\n",
        "    [0, 1, 2, 3, 4, 5, 1, 2],\n",
        "    [1, 0, 3, 2, 5, 4, 2, 1]\n",
        "], dtype=torch.long)\n",
        "\n",
        "y = torch.tensor([0, 1, 0, 1, 0, 1], dtype=torch.long)  # Labels for 6 nodes\n",
        "\n",
        "# Define train and test masks\n",
        "train_mask = torch.tensor([True, True, True, False, False, False])\n",
        "test_mask = ~train_mask  # Inverse mask for testing\n",
        "\n",
        "data = Data(x=x, edge_index=edge_index, y=y, train_mask=train_mask, test_mask=test_mask)\n",
        "\n",
        "# --- Training Setup ---\n",
        "model = GCN(in_channels=5, hidden_channels=8, out_channels=2)\n",
        "optimizer = torch.optim.Adam(model.parameters(), lr=0.01)\n",
        "criterion = nn.CrossEntropyLoss()\n",
        "\n",
        "# --- Training Loop ---\n",
        "for epoch in range(1, 201):\n",
        "    model.train()\n",
        "    optimizer.zero_grad()\n",
        "    out = model(data.x, data.edge_index)\n",
        "    loss = criterion(out[data.train_mask], data.y[data.train_mask])\n",
        "    loss.backward()\n",
        "    optimizer.step()\n",
        "\n",
        "    if epoch % 20 == 0 or epoch == 1:\n",
        "        model.eval()\n",
        "        _, pred = out.max(dim=1)\n",
        "        correct = int((pred[data.test_mask] == data.y[data.test_mask]).sum())\n",
        "        acc = correct / int(data.test_mask.sum())\n",
        "        print(f\"Epoch {epoch:3d} | Loss: {loss.item():.4f} | Test Accuracy: {acc:.2f}\")"
      ],
      "metadata": {
        "id": "0yjyxEwpiXe9"
      },
      "execution_count": null,
      "outputs": []
    },
    {
      "cell_type": "code",
      "source": [
        "import torch\n",
        "import torch.nn as nn\n",
        "import torch.nn.functional as F\n",
        "from torch_geometric.datasets import Planetoid\n",
        "from torch_geometric.nn import GCNConv\n",
        "\n",
        "# --- Load Cora Dataset ---\n",
        "dataset = Planetoid(root='./data', name='Cora')\n",
        "data = dataset[0]\n",
        "\n",
        "# --- Define GCN Model ---\n",
        "class GCN(nn.Module):\n",
        "    def __init__(self, in_channels, hidden_channels, out_channels):\n",
        "        super().__init__()\n",
        "        self.conv1 = GCNConv(in_channels, hidden_channels)\n",
        "        self.conv2 = GCNConv(hidden_channels, out_channels)\n",
        "\n",
        "    def forward(self, x, edge_index):\n",
        "        x = F.relu(self.conv1(x, edge_index))\n",
        "        x = self.conv2(x, edge_index)\n",
        "        return x\n",
        "\n",
        "# --- Initialize Model, Loss, Optimizer ---\n",
        "model = GCN(dataset.num_node_features, 16, dataset.num_classes)\n",
        "optimizer = torch.optim.Adam(model.parameters(), lr=0.01, weight_decay=5e-4)\n",
        "criterion = nn.CrossEntropyLoss()\n",
        "\n",
        "# --- Training Loop ---\n",
        "model.train()\n",
        "for epoch in range(1, 201):\n",
        "    optimizer.zero_grad()\n",
        "    out = model(data.x, data.edge_index)\n",
        "    loss = criterion(out[data.train_mask], data.y[data.train_mask])\n",
        "    loss.backward()\n",
        "    optimizer.step()\n",
        "\n",
        "    if epoch % 20 == 0 or epoch == 1:\n",
        "        model.eval()\n",
        "        _, pred = out.max(dim=1)\n",
        "        correct = (pred[data.test_mask] == data.y[data.test_mask]).sum()\n",
        "        acc = int(correct) / int(data.test_mask.sum())\n",
        "        print(f\"Epoch {epoch:3d} | Loss: {loss.item():.4f} | Test Accuracy: {acc:.2f}\")\n",
        "        model.train()"
      ],
      "metadata": {
        "id": "_XI9z8RjilFN"
      },
      "execution_count": null,
      "outputs": []
    },
    {
      "cell_type": "code",
      "source": [
        "from sklearn.manifold import TSNE\n",
        "import matplotlib.pyplot as plt\n",
        "\n",
        "model.eval()\n",
        "with torch.no_grad():\n",
        "    z = model(data.x, data.edge_index)\n",
        "\n",
        "z = z.cpu().numpy()\n",
        "labels = data.y.cpu().numpy()\n",
        "\n",
        "tsne = TSNE(n_components=2)\n",
        "z_2d = tsne.fit_transform(z)\n",
        "\n",
        "plt.figure(figsize=(8, 6))\n",
        "plt.scatter(z_2d[:, 0], z_2d[:, 1], c=labels, cmap='jet', s=15)\n",
        "plt.title(\"t-SNE of GCN Node Embeddings\")\n",
        "plt.show()"
      ],
      "metadata": {
        "id": "bV9hZOKYi2C7"
      },
      "execution_count": null,
      "outputs": []
    },
    {
      "cell_type": "code",
      "source": [
        "from torch_geometric.nn import GATConv  # or GINConv, SAGEConv"
      ],
      "metadata": {
        "id": "v0HDT9mmjHKb"
      },
      "execution_count": null,
      "outputs": []
    },
    {
      "cell_type": "code",
      "source": [
        "import networkx as nx\n",
        "from torch_geometric.utils import from_networkx\n",
        "\n",
        "G = nx.karate_club_graph()\n",
        "data = from_networkx(G)"
      ],
      "metadata": {
        "id": "wcW89Y8BjMeY"
      },
      "execution_count": null,
      "outputs": []
    },
    {
      "cell_type": "code",
      "source": [
        "class GCN(nn.Module):\n",
        "    def __init__(self, in_channels, hidden_channels, out_channels):\n",
        "        super().__init__()\n",
        "        self.conv1 = GCNConv(in_channels, hidden_channels)\n",
        "        self.bn1 = nn.BatchNorm1d(hidden_channels)\n",
        "        self.conv2 = GCNConv(hidden_channels, out_channels)\n",
        "\n",
        "    def forward(self, x, edge_index):\n",
        "        x = self.conv1(x, edge_index)\n",
        "        x = self.bn1(x)\n",
        "        x = F.relu(x)\n",
        "        x = F.dropout(x, p=0.5, training=self.training)\n",
        "        x = self.conv2(x, edge_index)\n",
        "        return x"
      ],
      "metadata": {
        "id": "1gc15xOqjkGo"
      },
      "execution_count": null,
      "outputs": []
    },
    {
      "cell_type": "code",
      "source": [
        "from torch_geometric.nn import GATConv\n",
        "\n",
        "class GAT(nn.Module):\n",
        "    def __init__(self, in_channels, hidden_channels, out_channels):\n",
        "        super().__init__()\n",
        "        self.gat1 = GATConv(in_channels, hidden_channels, heads=8, dropout=0.6)\n",
        "        self.gat2 = GATConv(hidden_channels * 8, out_channels, heads=1, concat=False, dropout=0.6)\n",
        "\n",
        "    def forward(self, x, edge_index):\n",
        "        x = self.gat1(x, edge_index)\n",
        "        x = F.elu(x)\n",
        "        x = self.gat2(x, edge_index)\n",
        "        return x"
      ],
      "metadata": {
        "id": "VGlGygHOjndD"
      },
      "execution_count": null,
      "outputs": []
    },
    {
      "cell_type": "code",
      "source": [
        "from torch.utils.tensorboard import SummaryWriter\n",
        "writer = SummaryWriter()\n",
        "\n",
        "# inside your loop\n",
        "writer.add_scalar(\"Loss/train\", loss.item(), epoch)\n",
        "writer.add_scalar(\"Accuracy/test\", acc, epoch)"
      ],
      "metadata": {
        "id": "h7UmzVGZjqpa"
      },
      "execution_count": null,
      "outputs": []
    },
    {
      "cell_type": "code",
      "source": [
        "import torch.nn as nn\n",
        "import torch.nn.functional as F\n",
        "from torch_geometric.nn import GCNConv, GATConv\n",
        "\n",
        "class GCN(nn.Module):\n",
        "    def __init__(self, in_channels, hidden_channels, out_channels):\n",
        "        super().__init__()\n",
        "        self.conv1 = GCNConv(in_channels, hidden_channels)\n",
        "        self.conv2 = GCNConv(hidden_channels, out_channels)\n",
        "\n",
        "    def forward(self, x, edge_index):\n",
        "        x = F.relu(self.conv1(x, edge_index))\n",
        "        x = F.dropout(x, p=0.5, training=self.training)\n",
        "        return self.conv2(x, edge_index)\n",
        "\n",
        "class GAT(nn.Module):\n",
        "    def __init__(self, in_channels, hidden_channels, out_channels):\n",
        "        super().__init__()\n",
        "        self.gat1 = GATConv(in_channels, hidden_channels, heads=8, dropout=0.6)\n",
        "        self.gat2 = GATConv(hidden_channels * 8, out_channels, heads=1, concat=False, dropout=0.6)\n",
        "\n",
        "    def forward(self, x, edge_index):\n",
        "        x = F.elu(self.gat1(x, edge_index))\n",
        "        x = F.dropout(x, p=0.6, training=self.training)\n",
        "        return self.gat2(x, edge_index)"
      ],
      "metadata": {
        "id": "vCrv-R0yj7kv"
      },
      "execution_count": null,
      "outputs": []
    },
    {
      "cell_type": "code",
      "source": [
        "from torch_geometric.datasets import Planetoid\n",
        "\n",
        "def load_cora():\n",
        "    dataset = Planetoid(root='./data', name='Cora')\n",
        "    return dataset[0], dataset.num_node_features, dataset.num_classes"
      ],
      "metadata": {
        "id": "TczV8NE7j_27"
      },
      "execution_count": null,
      "outputs": []
    },
    {
      "cell_type": "code",
      "source": [
        "import torch\n",
        "import torch.nn.functional as F\n",
        "\n",
        "def train(model, data, optimizer, criterion, epochs=200):\n",
        "    for epoch in range(1, epochs + 1):\n",
        "        model.train()\n",
        "        optimizer.zero_grad()\n",
        "        out = model(data.x, data.edge_index)\n",
        "        loss = criterion(out[data.train_mask], data.y[data.train_mask])\n",
        "        loss.backward()\n",
        "        optimizer.step()\n",
        "\n",
        "        if epoch % 20 == 0 or epoch == 1:\n",
        "            acc = evaluate(model, data)\n",
        "            print(f\"Epoch {epoch} | Loss: {loss.item():.4f} | Test Acc: {acc:.2f}\")\n",
        "\n",
        "def evaluate(model, data):\n",
        "    model.eval()\n",
        "    with torch.no_grad():\n",
        "        logits = model(data.x, data.edge_index)\n",
        "        pred = logits.argmax(dim=1)\n",
        "        correct = pred[data.test_mask] == data.y[data.test_mask]\n",
        "        return int(correct.sum()) / int(data.test_mask.sum())"
      ],
      "metadata": {
        "id": "xb1x6zP1kDEW"
      },
      "execution_count": null,
      "outputs": []
    },
    {
      "cell_type": "code",
      "source": [
        "import matplotlib.pyplot as plt\n",
        "from sklearn.manifold import TSNE\n",
        "import torch\n",
        "\n",
        "def visualize(model, data):\n",
        "    model.eval()\n",
        "    with torch.no_grad():\n",
        "        z = model(data.x, data.edge_index).cpu().numpy()\n",
        "        labels = data.y.cpu().numpy()\n",
        "\n",
        "    z_embedded = TSNE(n_components=2).fit_transform(z)\n",
        "    plt.scatter(z_embedded[:, 0], z_embedded[:, 1], c=labels, cmap='tab10', s=15)\n",
        "    plt.title(\"Node Embeddings (t-SNE)\")\n",
        "    plt.show()"
      ],
      "metadata": {
        "id": "LVgMwlZ6kG2x"
      },
      "execution_count": null,
      "outputs": []
    },
    {
      "cell_type": "code",
      "source": [
        "import torch\n",
        "import torch.nn as nn\n",
        "import torch.optim as optim\n",
        "from model import GCN  # or GAT\n",
        "from dataset import load_cora\n",
        "from train import train\n",
        "from visualize import visualize\n",
        "\n",
        "# Load dataset\n",
        "data, in_channels, out_classes = load_cora()\n",
        "\n",
        "# Initialize model\n",
        "model = GCN(in_channels, 16, out_classes)\n",
        "optimizer = optim.Adam(model.parameters(), lr=0.01, weight_decay=5e-4)\n",
        "criterion = nn.CrossEntropyLoss()\n",
        "\n",
        "# Train and visualize\n",
        "train(model, data, optimizer, criterion)\n",
        "visualize(model, data)"
      ],
      "metadata": {
        "id": "PI4TjfAfkJ7A"
      },
      "execution_count": null,
      "outputs": []
    },
    {
      "cell_type": "code",
      "source": [
        "from torch_geometric.nn import GCNConv\n",
        "import torch.nn.functional as F\n",
        "import torch.nn as nn\n",
        "\n",
        "class GCN(nn.Module):\n",
        "    def __init__(self, in_channels, hidden_channels, out_channels):\n",
        "        super().__init__()\n",
        "        self.conv1 = GCNConv(in_channels, hidden_channels)\n",
        "        self.conv2 = GCNConv(hidden_channels, out_channels)\n",
        "\n",
        "    def forward(self, x, edge_index):\n",
        "        x = F.relu(self.conv1(x, edge_index))\n",
        "        x = self.conv2(x, edge_index)\n",
        "        return x"
      ],
      "metadata": {
        "id": "oESwQDN5kzAJ"
      },
      "execution_count": null,
      "outputs": []
    },
    {
      "cell_type": "code",
      "source": [
        "import torch\n",
        "import torch.nn as nn\n",
        "import torch.nn.functional as F\n",
        "import torch.optim as optim\n",
        "from torch_geometric.datasets import Planetoid\n",
        "from torch_geometric.nn import GCNConv\n",
        "from sklearn.manifold import TSNE\n",
        "import matplotlib.pyplot as plt\n",
        "\n",
        "# GCN Model\n",
        "class GCN(nn.Module):\n",
        "    def __init__(self, in_channels, hidden_channels, out_channels):\n",
        "        super().__init__()\n",
        "        self.conv1 = GCNConv(in_channels, hidden_channels)\n",
        "        self.conv2 = GCNConv(hidden_channels, out_channels)\n",
        "\n",
        "    def forward(self, x, edge_index):\n",
        "        x = F.relu(self.conv1(x, edge_index))\n",
        "        x = F.dropout(x, p=0.5, training=self.training)\n",
        "        return self.conv2(x, edge_index)\n",
        "\n",
        "# Load dataset\n",
        "dataset = Planetoid(root=\"./data\", name=\"Cora\")\n",
        "data = dataset[0]\n",
        "\n",
        "# Model, optimizer, loss\n",
        "model = GCN(dataset.num_node_features, 16, dataset.num_classes)\n",
        "optimizer = optim.Adam(model.parameters(), lr=0.01, weight_decay=5e-4)\n",
        "criterion = nn.CrossEntropyLoss()\n",
        "\n",
        "# Training loop\n",
        "for epoch in range(1, 201):\n",
        "    model.train()\n",
        "    optimizer.zero_grad()\n",
        "    out = model(data.x, data.edge_index)\n",
        "    loss = criterion(out[data.train_mask], data.y[data.train_mask])\n",
        "    loss.backward()\n",
        "    optimizer.step()\n",
        "\n",
        "    if epoch % 20 == 0 or epoch == 1:\n",
        "        model.eval()\n",
        "        _, pred = out.max(dim=1)\n",
        "        correct = pred[data.test_mask] == data.y[data.test_mask]\n",
        "        acc = int(correct.sum()) / int(data.test_mask.sum())\n",
        "        print(f\"Epoch {epoch:3d} | Loss: {loss.item():.4f} | Test Acc: {acc:.2f}\")\n",
        "\n",
        "# t-SNE visualization\n",
        "model.eval()\n",
        "with torch.no_grad():\n",
        "    z = model(data.x, data.edge_index).cpu().numpy()\n",
        "    labels = data.y.cpu().numpy()\n",
        "\n",
        "z_emb = TSNE(n_components=2).fit_transform(z)\n",
        "plt.figure(figsize=(8, 6))\n",
        "plt.scatter(z_emb[:, 0], z_emb[:, 1], c=labels, cmap=\"tab10\", s=15)\n",
        "plt.title(\"t-SNE of GCN Node Embeddings on Cora\")\n",
        "plt.show()"
      ],
      "metadata": {
        "id": "TU3UNEczkNRt"
      },
      "execution_count": null,
      "outputs": []
    }
  ]
}