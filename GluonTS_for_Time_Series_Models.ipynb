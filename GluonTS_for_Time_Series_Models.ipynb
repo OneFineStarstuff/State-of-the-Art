{
  "nbformat": 4,
  "nbformat_minor": 0,
  "metadata": {
    "colab": {
      "private_outputs": true,
      "provenance": [],
      "authorship_tag": "ABX9TyMMwJl7ZK/5fSux4p4ifkTO",
      "include_colab_link": true
    },
    "kernelspec": {
      "name": "python3",
      "display_name": "Python 3"
    },
    "language_info": {
      "name": "python"
    }
  },
  "cells": [
    {
      "cell_type": "markdown",
      "metadata": {
        "id": "view-in-github",
        "colab_type": "text"
      },
      "source": [
        "<a href=\"https://colab.research.google.com/github/OneFineStarstuff/State-of-the-Art/blob/main/GluonTS_for_Time_Series_Models.ipynb\" target=\"_parent\"><img src=\"https://colab.research.google.com/assets/colab-badge.svg\" alt=\"Open In Colab\"/></a>"
      ]
    },
    {
      "cell_type": "code",
      "source": [
        "pip install gluonts"
      ],
      "metadata": {
        "id": "6IDLZxucvoAn"
      },
      "execution_count": null,
      "outputs": []
    },
    {
      "cell_type": "code",
      "execution_count": null,
      "metadata": {
        "id": "evYaORnjvblA"
      },
      "outputs": [],
      "source": [
        "from gluonts.dataset.common import ListDataset\n",
        "from gluonts.model.deepar import DeepAREstimator\n",
        "from gluonts.trainer import Trainer\n",
        "import pandas as pd\n",
        "\n",
        "# Prepare the dataset\n",
        "df = pd.read_csv('https://raw.githubusercontent.com/jbrownlee/Datasets/master/airline-passengers.csv')\n",
        "df.columns = ['Month', 'Passengers']  # Ensure the column names match the dataset\n",
        "dataset = ListDataset([{\"start\": df['Month'][0], \"target\": df['Passengers'].values}], freq=\"M\")\n",
        "\n",
        "# Train a DeepAR model\n",
        "estimator = DeepAREstimator(freq=\"M\", prediction_length=12, trainer=Trainer(epochs=5))\n",
        "predictor = estimator.train(dataset)\n",
        "\n",
        "# Predict\n",
        "prediction = predictor.predict(dataset)\n",
        "for forecast in prediction:\n",
        "    print(forecast.mean)"
      ]
    }
  ]
}