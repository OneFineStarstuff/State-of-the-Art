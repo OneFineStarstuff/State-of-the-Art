{
  "nbformat": 4,
  "nbformat_minor": 0,
  "metadata": {
    "colab": {
      "private_outputs": true,
      "provenance": [],
      "authorship_tag": "ABX9TyMLv2n46yEpzAxgagM1Y6ZN",
      "include_colab_link": true
    },
    "kernelspec": {
      "name": "python3",
      "display_name": "Python 3"
    },
    "language_info": {
      "name": "python"
    }
  },
  "cells": [
    {
      "cell_type": "markdown",
      "metadata": {
        "id": "view-in-github",
        "colab_type": "text"
      },
      "source": [
        "<a href=\"https://colab.research.google.com/github/OneFineStarstuff/State-of-the-Art/blob/main/Transformer_Networks.ipynb\" target=\"_parent\"><img src=\"https://colab.research.google.com/assets/colab-badge.svg\" alt=\"Open In Colab\"/></a>"
      ]
    },
    {
      "cell_type": "code",
      "execution_count": null,
      "metadata": {
        "id": "JdVj4NkisLLA"
      },
      "outputs": [],
      "source": [
        "import torch\n",
        "import torch.nn as nn\n",
        "\n",
        "class TransformerModel(nn.Module):\n",
        "    def __init__(self, input_dim, model_dim, num_heads, num_layers, output_dim):\n",
        "        super(TransformerModel, self).__init__()\n",
        "        self.embedding = nn.Embedding(input_dim, model_dim)\n",
        "        self.transformer = nn.Transformer(\n",
        "            d_model=model_dim, nhead=num_heads, num_encoder_layers=num_layers\n",
        "        )\n",
        "        self.fc = nn.Linear(model_dim, output_dim)\n",
        "\n",
        "    def forward(self, src, tgt):\n",
        "        src = self.embedding(src)\n",
        "        tgt = self.embedding(tgt)\n",
        "        output = self.transformer(src, tgt)\n",
        "        return self.fc(output)\n",
        "\n",
        "model = TransformerModel(input_dim=100, model_dim=512, num_heads=8, num_layers=6, output_dim=10)\n",
        "src = torch.randint(0, 100, (10, 32))  # Sequence length, batch size\n",
        "tgt = torch.randint(0, 100, (10, 32))\n",
        "output = model(src, tgt)\n",
        "print(output.shape)"
      ]
    }
  ]
}