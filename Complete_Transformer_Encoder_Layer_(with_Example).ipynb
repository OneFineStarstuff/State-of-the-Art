{
  "nbformat": 4,
  "nbformat_minor": 0,
  "metadata": {
    "colab": {
      "private_outputs": true,
      "provenance": [],
      "authorship_tag": "ABX9TyPTHlAad94Vh5QRsNKVHyT4",
      "include_colab_link": true
    },
    "kernelspec": {
      "name": "python3",
      "display_name": "Python 3"
    },
    "language_info": {
      "name": "python"
    }
  },
  "cells": [
    {
      "cell_type": "markdown",
      "metadata": {
        "id": "view-in-github",
        "colab_type": "text"
      },
      "source": [
        "<a href=\"https://colab.research.google.com/github/OneFineStarstuff/State-of-the-Art/blob/main/Complete_Transformer_Encoder_Layer_(with_Example).ipynb\" target=\"_parent\"><img src=\"https://colab.research.google.com/assets/colab-badge.svg\" alt=\"Open In Colab\"/></a>"
      ]
    },
    {
      "cell_type": "code",
      "execution_count": null,
      "metadata": {
        "id": "ehgzfTECLkqF"
      },
      "outputs": [],
      "source": [
        "import torch\n",
        "from torch import nn\n",
        "import math\n",
        "\n",
        "# Positional Encoding (optional but common)\n",
        "class PositionalEncoding(nn.Module):\n",
        "    def __init__(self, embed_dim, max_len=5000):\n",
        "        super().__init__()\n",
        "        pe = torch.zeros(max_len, embed_dim)\n",
        "        position = torch.arange(0, max_len, dtype=torch.float).unsqueeze(1)\n",
        "        div_term = torch.exp(torch.arange(0, embed_dim, 2).float() * (-math.log(10000.0) / embed_dim))\n",
        "        pe[:, 0::2] = torch.sin(position * div_term)\n",
        "        pe[:, 1::2] = torch.cos(position * div_term)\n",
        "        pe = pe.unsqueeze(1)  # Shape: [max_len, 1, embed_dim]\n",
        "        self.register_buffer('pe', pe)\n",
        "\n",
        "    def forward(self, x):\n",
        "        x = x + self.pe[:x.size(0)]\n",
        "        return x\n",
        "\n",
        "# Transformer Encoder Layer\n",
        "class TransformerEncoderLayer(nn.Module):\n",
        "    def __init__(self, embed_size, num_heads, ff_hidden_dim, dropout=0.1):\n",
        "        super(TransformerEncoderLayer, self).__init__()\n",
        "        self.self_attention = nn.MultiheadAttention(embed_dim=embed_size, num_heads=num_heads, dropout=dropout)\n",
        "        self.feed_forward = nn.Sequential(\n",
        "            nn.Linear(embed_size, ff_hidden_dim),\n",
        "            nn.ReLU(),\n",
        "            nn.Linear(ff_hidden_dim, embed_size)\n",
        "        )\n",
        "        self.layer_norm1 = nn.LayerNorm(embed_size)\n",
        "        self.layer_norm2 = nn.LayerNorm(embed_size)\n",
        "        self.dropout = nn.Dropout(dropout)\n",
        "\n",
        "    def forward(self, x, src_mask=None):\n",
        "        attn_out, _ = self.self_attention(x, x, x, attn_mask=src_mask)\n",
        "        x = self.layer_norm1(x + self.dropout(attn_out))\n",
        "        ff_out = self.feed_forward(x)\n",
        "        x = self.layer_norm2(x + self.dropout(ff_out))\n",
        "        return x\n",
        "\n",
        "# Example usage\n",
        "if __name__ == \"__main__\":\n",
        "    seq_length = 10\n",
        "    batch_size = 32\n",
        "    embed_size = 64\n",
        "    num_heads = 8\n",
        "    ff_hidden_dim = 256\n",
        "\n",
        "    x = torch.rand(seq_length, batch_size, embed_size)  # Shape: [seq_len, batch, embed]\n",
        "    pos_encoder = PositionalEncoding(embed_size)\n",
        "    x = pos_encoder(x)\n",
        "\n",
        "    encoder_layer = TransformerEncoderLayer(embed_size, num_heads, ff_hidden_dim)\n",
        "    output = encoder_layer(x)\n",
        "\n",
        "    print(\"Transformer Encoder Output Shape:\", output.shape)"
      ]
    }
  ]
}