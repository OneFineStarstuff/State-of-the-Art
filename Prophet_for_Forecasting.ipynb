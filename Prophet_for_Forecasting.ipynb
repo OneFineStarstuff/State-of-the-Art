{
  "nbformat": 4,
  "nbformat_minor": 0,
  "metadata": {
    "colab": {
      "private_outputs": true,
      "provenance": [],
      "authorship_tag": "ABX9TyPD+4P4UyonVC3jlMCS+3hi",
      "include_colab_link": true
    },
    "kernelspec": {
      "name": "python3",
      "display_name": "Python 3"
    },
    "language_info": {
      "name": "python"
    }
  },
  "cells": [
    {
      "cell_type": "markdown",
      "metadata": {
        "id": "view-in-github",
        "colab_type": "text"
      },
      "source": [
        "<a href=\"https://colab.research.google.com/github/OneFineStarstuff/State-of-the-Art/blob/main/Prophet_for_Forecasting.ipynb\" target=\"_parent\"><img src=\"https://colab.research.google.com/assets/colab-badge.svg\" alt=\"Open In Colab\"/></a>"
      ]
    },
    {
      "cell_type": "code",
      "source": [
        "pip install prophet"
      ],
      "metadata": {
        "id": "Jsfekuect8LC"
      },
      "execution_count": null,
      "outputs": []
    },
    {
      "cell_type": "code",
      "execution_count": null,
      "metadata": {
        "id": "5tD_hkoAtQru"
      },
      "outputs": [],
      "source": [
        "from prophet import Prophet\n",
        "import pandas as pd\n",
        "\n",
        "# Load the dataset\n",
        "df = pd.read_csv('https://raw.githubusercontent.com/jbrownlee/Datasets/master/airline-passengers.csv')\n",
        "df.columns = ['ds', 'y']  # Prophet requires specific column names\n",
        "df['ds'] = pd.to_datetime(df['ds'])\n",
        "\n",
        "# Initialize and fit the model\n",
        "model = Prophet()\n",
        "model.fit(df)\n",
        "\n",
        "# Create future dataframe\n",
        "future = model.make_future_dataframe(periods=12, freq='M')\n",
        "\n",
        "# Make predictions\n",
        "forecast = model.predict(future)\n",
        "\n",
        "# Plot the forecast\n",
        "model.plot(forecast)\n",
        "model.plot_components(forecast)"
      ]
    }
  ]
}