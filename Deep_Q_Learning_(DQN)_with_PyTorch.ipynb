{
  "nbformat": 4,
  "nbformat_minor": 0,
  "metadata": {
    "colab": {
      "private_outputs": true,
      "provenance": [],
      "authorship_tag": "ABX9TyNLTsKGutWvgUpH0eHD9vkL",
      "include_colab_link": true
    },
    "kernelspec": {
      "name": "python3",
      "display_name": "Python 3"
    },
    "language_info": {
      "name": "python"
    }
  },
  "cells": [
    {
      "cell_type": "markdown",
      "metadata": {
        "id": "view-in-github",
        "colab_type": "text"
      },
      "source": [
        "<a href=\"https://colab.research.google.com/github/OneFineStarstuff/State-of-the-Art/blob/main/Deep_Q_Learning_(DQN)_with_PyTorch.ipynb\" target=\"_parent\"><img src=\"https://colab.research.google.com/assets/colab-badge.svg\" alt=\"Open In Colab\"/></a>"
      ]
    },
    {
      "cell_type": "code",
      "source": [
        "import gym\n",
        "import torch\n",
        "import torch.nn as nn\n",
        "import torch.optim as optim\n",
        "import random\n",
        "import numpy as np\n",
        "\n",
        "class DQN(nn.Module):\n",
        "    def __init__(self, state_size, action_size):\n",
        "        super(DQN, self).__init__()\n",
        "        self.fc1 = nn.Linear(state_size, 24)\n",
        "        self.fc2 = nn.Linear(24, 24)\n",
        "        self.fc3 = nn.Linear(24, action_size)\n",
        "\n",
        "    def forward(self, x):\n",
        "        x = torch.relu(self.fc1(x))\n",
        "        x = torch.relu(self.fc2(x))\n",
        "        x = self.fc3(x)\n",
        "        return x\n",
        "\n",
        "def train_dqn(env, episodes=1000):\n",
        "    state_size = env.observation_space.shape[0]\n",
        "    action_size = env.action_space.n\n",
        "    model = DQN(state_size, action_size)\n",
        "    optimizer = optim.Adam(model.parameters(), lr=0.001)\n",
        "    criterion = nn.MSELoss()\n",
        "    gamma = 0.99\n",
        "    epsilon = 1.0\n",
        "    epsilon_decay = 0.995\n",
        "    epsilon_min = 0.01\n",
        "    batch_size = 32\n",
        "    memory = []\n",
        "\n",
        "    def remember(state, action, reward, next_state, done):\n",
        "        memory.append((state, action, reward, next_state, done))\n",
        "\n",
        "    def act(state):\n",
        "        if np.random.rand() <= epsilon:\n",
        "            return env.action_space.sample()\n",
        "        q_values = model(torch.FloatTensor(state))\n",
        "        return np.argmax(q_values.detach().numpy())\n",
        "\n",
        "    for e in range(episodes):\n",
        "        state = env.reset()\n",
        "        state = np.reshape(state, [1, state_size])\n",
        "        for time in range(500):\n",
        "            action = act(state)\n",
        "            next_state, reward, terminated, truncated, _ = env.step(action)\n",
        "            done = terminated or truncated\n",
        "            reward = reward if not done else -10\n",
        "            next_state = np.reshape(next_state, [1, state_size])\n",
        "            remember(state, action, reward, next_state, done)\n",
        "            state = next_state\n",
        "            if done:\n",
        "                print(f\"Episode {e}/{episodes}, score: {time}\")\n",
        "                break\n",
        "            if len(memory) > batch_size:\n",
        "                minibatch = random.sample(memory, batch_size)\n",
        "                for state, action, reward, next_state, done in minibatch:\n",
        "                    target = reward\n",
        "                    if not done:\n",
        "                        target += gamma * torch.max(model(torch.FloatTensor(next_state)).detach())\n",
        "                    target_f = model(torch.FloatTensor(state))\n",
        "                    target_f[0][action] = target\n",
        "                    model.train()\n",
        "                    outputs = model(torch.FloatTensor(state))\n",
        "                    loss = criterion(outputs, target_f)\n",
        "                    optimizer.zero_grad()\n",
        "                    loss.backward()\n",
        "                    optimizer.step()\n",
        "        if epsilon > epsilon_min:\n",
        "            epsilon *= epsilon_decay\n",
        "\n",
        "env = gym.make('CartPole-v1', new_step_api=True)\n",
        "train_dqn(env)"
      ],
      "metadata": {
        "id": "Z1b-15-9UQoX"
      },
      "execution_count": null,
      "outputs": []
    }
  ]
}