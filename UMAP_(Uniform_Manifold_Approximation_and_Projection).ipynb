{
  "nbformat": 4,
  "nbformat_minor": 0,
  "metadata": {
    "colab": {
      "private_outputs": true,
      "provenance": [],
      "authorship_tag": "ABX9TyM1YEzIwV0ugs5KE4hiocpY",
      "include_colab_link": true
    },
    "kernelspec": {
      "name": "python3",
      "display_name": "Python 3"
    },
    "language_info": {
      "name": "python"
    }
  },
  "cells": [
    {
      "cell_type": "markdown",
      "metadata": {
        "id": "view-in-github",
        "colab_type": "text"
      },
      "source": [
        "<a href=\"https://colab.research.google.com/github/OneFineStarstuff/State-of-the-Art/blob/main/UMAP_(Uniform_Manifold_Approximation_and_Projection).ipynb\" target=\"_parent\"><img src=\"https://colab.research.google.com/assets/colab-badge.svg\" alt=\"Open In Colab\"/></a>"
      ]
    },
    {
      "cell_type": "code",
      "source": [
        "pip install umap"
      ],
      "metadata": {
        "id": "MDN61qlWTUBU"
      },
      "execution_count": null,
      "outputs": []
    },
    {
      "cell_type": "code",
      "source": [
        "pip install umap-learn"
      ],
      "metadata": {
        "id": "zckOqKpgTnCK"
      },
      "execution_count": null,
      "outputs": []
    },
    {
      "cell_type": "code",
      "execution_count": null,
      "metadata": {
        "id": "iTjawr8STFFd"
      },
      "outputs": [],
      "source": [
        "import umap\n",
        "import matplotlib.pyplot as plt\n",
        "from sklearn.datasets import load_digits\n",
        "\n",
        "# Load the digits dataset\n",
        "digits = load_digits()\n",
        "\n",
        "# Initialize UMAP reducer\n",
        "reducer = umap.UMAP(n_components=2)\n",
        "\n",
        "# Fit and transform the data\n",
        "X_umap = reducer.fit_transform(digits.data)\n",
        "\n",
        "# Create a scatter plot of the UMAP results\n",
        "plt.scatter(X_umap[:, 0], X_umap[:, 1], c=digits.target, cmap='tab10')\n",
        "plt.colorbar()\n",
        "plt.show()"
      ]
    }
  ]
}