{
  "nbformat": 4,
  "nbformat_minor": 0,
  "metadata": {
    "colab": {
      "private_outputs": true,
      "provenance": [],
      "authorship_tag": "ABX9TyPyVHsxhl+nwG9jcukQrdo1",
      "include_colab_link": true
    },
    "kernelspec": {
      "name": "python3",
      "display_name": "Python 3"
    },
    "language_info": {
      "name": "python"
    }
  },
  "cells": [
    {
      "cell_type": "markdown",
      "metadata": {
        "id": "view-in-github",
        "colab_type": "text"
      },
      "source": [
        "<a href=\"https://colab.research.google.com/github/OneFineStarstuff/State-of-the-Art/blob/main/Federated_Learning_(FL)_with_Differential_Privacy_(DP).ipynb\" target=\"_parent\"><img src=\"https://colab.research.google.com/assets/colab-badge.svg\" alt=\"Open In Colab\"/></a>"
      ]
    },
    {
      "cell_type": "code",
      "execution_count": null,
      "metadata": {
        "id": "s1YG7At87xcg"
      },
      "outputs": [],
      "source": [
        "import torch\n",
        "import torch.nn as nn\n",
        "import torch.optim as optim\n",
        "from torchvision import datasets, transforms\n",
        "from torch.utils.data import DataLoader, Subset\n",
        "import numpy as np\n",
        "import random\n",
        "\n",
        "class SimpleNN(nn.Module):\n",
        "    def __init__(self):\n",
        "        super(SimpleNN, self).__init__()\n",
        "        self.fc = nn.Linear(784, 10)\n",
        "\n",
        "    def forward(self, x):\n",
        "        return self.fc(x.view(-1, 784))\n",
        "\n",
        "def local_training(data_loader, model, epochs=1):\n",
        "    criterion = nn.CrossEntropyLoss()\n",
        "    optimizer = optim.SGD(model.parameters(), lr=0.01)\n",
        "    for epoch in range(epochs):\n",
        "        for data, target in data_loader:\n",
        "            optimizer.zero_grad()\n",
        "            output = model(data)\n",
        "            loss = criterion(output, target)\n",
        "            loss.backward()\n",
        "            optimizer.step()\n",
        "    return model\n",
        "\n",
        "def add_noise_to_gradients(model, epsilon=0.1, clipping_norm=1.0):\n",
        "    for param in model.parameters():\n",
        "        if param.grad is not None:\n",
        "            grad_norm = param.grad.norm()\n",
        "            param.grad = param.grad / max(1, grad_norm / clipping_norm)  # Clip gradients\n",
        "            noise = torch.randn_like(param) * epsilon\n",
        "            param.grad += noise\n",
        "\n",
        "def aggregate_models(global_model, local_models):\n",
        "    global_dict = global_model.state_dict()\n",
        "    for key in global_dict.keys():\n",
        "        global_dict[key] = torch.mean(torch.stack([local_model.state_dict()[key] for local_model in local_models]), dim=0)\n",
        "    global_model.load_state_dict(global_dict)\n",
        "    return global_model\n",
        "\n",
        "def validate(global_model, test_loader):\n",
        "    global_model.eval()\n",
        "    correct = 0\n",
        "    total = 0\n",
        "    with torch.no_grad():\n",
        "        for data, target in test_loader:\n",
        "            output = global_model(data)\n",
        "            pred = output.argmax(dim=1)\n",
        "            correct += (pred == target).sum().item()\n",
        "            total += target.size(0)\n",
        "    accuracy = 100.0 * correct / total\n",
        "    return accuracy\n",
        "\n",
        "# Dataset and loaders\n",
        "transform = transforms.Compose([transforms.ToTensor(), transforms.Normalize((0.5,), (0.5,))])\n",
        "dataset = datasets.MNIST('/tmp/MNIST', download=True, transform=transform)\n",
        "client_datasets = [Subset(dataset, np.arange(i, len(dataset), 10)) for i in range(10)]\n",
        "client_loaders = [DataLoader(ds, batch_size=32, shuffle=True) for ds in client_datasets]\n",
        "test_loader = DataLoader(dataset, batch_size=64, shuffle=False)\n",
        "\n",
        "global_model = SimpleNN()\n",
        "local_models = [SimpleNN() for _ in range(10)]\n",
        "\n",
        "# Federated learning rounds\n",
        "for round in range(5):\n",
        "    for i, loader in enumerate(client_loaders):\n",
        "        local_models[i] = local_training(loader, local_models[i])\n",
        "        add_noise_to_gradients(local_models[i])\n",
        "\n",
        "    global_model = aggregate_models(global_model, local_models)\n",
        "    test_accuracy = validate(global_model, test_loader)\n",
        "    print(f'Round {round} completed, Test Accuracy: {test_accuracy:.2f}%')"
      ]
    }
  ]
}