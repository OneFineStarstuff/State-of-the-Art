{
  "nbformat": 4,
  "nbformat_minor": 0,
  "metadata": {
    "colab": {
      "private_outputs": true,
      "provenance": [],
      "authorship_tag": "ABX9TyPsLYAPOgeHnyh2i/gwqtg9",
      "include_colab_link": true
    },
    "kernelspec": {
      "name": "python3",
      "display_name": "Python 3"
    },
    "language_info": {
      "name": "python"
    }
  },
  "cells": [
    {
      "cell_type": "markdown",
      "metadata": {
        "id": "view-in-github",
        "colab_type": "text"
      },
      "source": [
        "<a href=\"https://colab.research.google.com/github/OneFineStarstuff/State-of-the-Art/blob/main/Simple_GCN_implementation_using_PyTorch_Geometric.ipynb\" target=\"_parent\"><img src=\"https://colab.research.google.com/assets/colab-badge.svg\" alt=\"Open In Colab\"/></a>"
      ]
    },
    {
      "cell_type": "code",
      "source": [
        "pip install torch_geometric"
      ],
      "metadata": {
        "id": "ThuOybb53Yiw"
      },
      "execution_count": null,
      "outputs": []
    },
    {
      "cell_type": "code",
      "execution_count": null,
      "metadata": {
        "id": "VMbqyHg13BLZ"
      },
      "outputs": [],
      "source": [
        "import torch\n",
        "from torch.nn import functional as F\n",
        "from torch_geometric.nn import GCNConv\n",
        "from torch_geometric.data import Data\n",
        "\n",
        "# GCN Model\n",
        "class GCN(torch.nn.Module):\n",
        "    def __init__(self, in_channels, hidden_channels, out_channels):\n",
        "        super().__init__()\n",
        "        self.conv1 = GCNConv(in_channels, hidden_channels)\n",
        "        self.conv2 = GCNConv(hidden_channels, out_channels)\n",
        "\n",
        "    def forward(self, x, edge_index):\n",
        "        x = self.conv1(x, edge_index)\n",
        "        x = F.relu(x)\n",
        "        x = self.conv2(x, edge_index)\n",
        "        return x\n",
        "\n",
        "# Example graph\n",
        "x = torch.rand(4, 3)  # Node feature matrix: 4 nodes, 3 features each\n",
        "edge_index = torch.tensor([[0, 1, 2, 3],\n",
        "                           [1, 0, 3, 2]], dtype=torch.long)  # Bidirectional edges\n",
        "\n",
        "# Create graph object\n",
        "graph = Data(x=x, edge_index=edge_index)\n",
        "\n",
        "# Initialize model\n",
        "model = GCN(in_channels=3, hidden_channels=16, out_channels=2)\n",
        "\n",
        "# Forward pass\n",
        "output = model(graph.x, graph.edge_index)\n",
        "\n",
        "# Output\n",
        "print(\"GCN Output Shape:\", output.shape)\n",
        "print(\"Node Embeddings:\\n\", output)"
      ]
    }
  ]
}