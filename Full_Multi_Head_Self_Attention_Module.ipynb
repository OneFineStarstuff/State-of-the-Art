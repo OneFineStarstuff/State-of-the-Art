{
  "nbformat": 4,
  "nbformat_minor": 0,
  "metadata": {
    "colab": {
      "private_outputs": true,
      "provenance": [],
      "authorship_tag": "ABX9TyMFfWfspqmzkLLFAnMQdNsl",
      "include_colab_link": true
    },
    "kernelspec": {
      "name": "python3",
      "display_name": "Python 3"
    },
    "language_info": {
      "name": "python"
    }
  },
  "cells": [
    {
      "cell_type": "markdown",
      "metadata": {
        "id": "view-in-github",
        "colab_type": "text"
      },
      "source": [
        "<a href=\"https://colab.research.google.com/github/OneFineStarstuff/State-of-the-Art/blob/main/Full_Multi_Head_Self_Attention_Module.ipynb\" target=\"_parent\"><img src=\"https://colab.research.google.com/assets/colab-badge.svg\" alt=\"Open In Colab\"/></a>"
      ]
    },
    {
      "cell_type": "code",
      "execution_count": null,
      "metadata": {
        "id": "AGkMXdmi4yrY"
      },
      "outputs": [],
      "source": [
        "import torch\n",
        "import torch.nn as nn\n",
        "import torch.nn.functional as F\n",
        "\n",
        "class MultiHeadSelfAttention(nn.Module):\n",
        "    def __init__(self, embed_dim, num_heads, dropout=0.1):\n",
        "        super().__init__()\n",
        "        self.mha = nn.MultiheadAttention(embed_dim, num_heads, dropout=dropout, batch_first=False)\n",
        "        self.norm = nn.LayerNorm(embed_dim)\n",
        "        self.dropout = nn.Dropout(dropout)\n",
        "\n",
        "    def forward(self, x, attn_mask=None):\n",
        "        attn_output, _ = self.mha(x, x, x, attn_mask=attn_mask)\n",
        "        x = self.norm(x + self.dropout(attn_output))\n",
        "        return x\n",
        "\n",
        "# Parameters\n",
        "seq_length = 10\n",
        "batch_size = 32\n",
        "embed_dim = 64\n",
        "num_heads = 8\n",
        "\n",
        "# Dummy input\n",
        "x = torch.rand(seq_length, batch_size, embed_dim)\n",
        "\n",
        "# Create and apply the attention block\n",
        "mha_block = MultiHeadSelfAttention(embed_dim=embed_dim, num_heads=num_heads)\n",
        "output = mha_block(x)\n",
        "\n",
        "# Output\n",
        "print(\"Multi-Head Attention Output Shape:\", output.shape)"
      ]
    }
  ]
}