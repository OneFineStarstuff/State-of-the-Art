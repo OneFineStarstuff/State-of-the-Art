{
  "nbformat": 4,
  "nbformat_minor": 0,
  "metadata": {
    "colab": {
      "private_outputs": true,
      "provenance": [],
      "authorship_tag": "ABX9TyMHrXkFmMxOHgHqdfpPtcBp",
      "include_colab_link": true
    },
    "kernelspec": {
      "name": "python3",
      "display_name": "Python 3"
    },
    "language_info": {
      "name": "python"
    }
  },
  "cells": [
    {
      "cell_type": "markdown",
      "metadata": {
        "id": "view-in-github",
        "colab_type": "text"
      },
      "source": [
        "<a href=\"https://colab.research.google.com/github/OneFineStarstuff/State-of-the-Art/blob/main/Hyperparameter_Optimization_(HPO).ipynb\" target=\"_parent\"><img src=\"https://colab.research.google.com/assets/colab-badge.svg\" alt=\"Open In Colab\"/></a>"
      ]
    },
    {
      "cell_type": "code",
      "source": [
        "pip install optuna"
      ],
      "metadata": {
        "id": "XMBDE7s8Cj8t"
      },
      "execution_count": null,
      "outputs": []
    },
    {
      "cell_type": "code",
      "execution_count": null,
      "metadata": {
        "id": "3Xjyntd8CLaB"
      },
      "outputs": [],
      "source": [
        "import optuna\n",
        "import torch\n",
        "import torch.nn as nn\n",
        "import torch.nn.functional as F  # Import required functional module\n",
        "import torch.optim as optim\n",
        "from torch.utils.data import DataLoader, TensorDataset\n",
        "\n",
        "# Define a simple model\n",
        "class SimpleNN(nn.Module):\n",
        "    def __init__(self, input_dim, hidden_dim, output_dim):\n",
        "        super(SimpleNN, self).__init__()\n",
        "        self.fc1 = nn.Linear(input_dim, hidden_dim)\n",
        "        self.fc2 = nn.Linear(hidden_dim, output_dim)\n",
        "\n",
        "    def forward(self, x):\n",
        "        x = F.relu(self.fc1(x))  # Apply relu from nn.functional\n",
        "        x = self.fc2(x)\n",
        "        return x\n",
        "\n",
        "# Objective function for Optuna\n",
        "def objective(trial):\n",
        "    hidden_dim = trial.suggest_int('hidden_dim', 32, 128)\n",
        "    learning_rate = trial.suggest_loguniform('lr', 1e-4, 1e-1)\n",
        "\n",
        "    model = SimpleNN(input_dim=10, hidden_dim=hidden_dim, output_dim=2)\n",
        "    optimizer = optim.Adam(model.parameters(), lr=learning_rate)\n",
        "    criterion = nn.CrossEntropyLoss()\n",
        "\n",
        "    # Dummy data (train and validation)\n",
        "    x_train = torch.randn(100, 10)\n",
        "    y_train = torch.randint(0, 2, (100,))\n",
        "    train_loader = DataLoader(TensorDataset(x_train, y_train), batch_size=16, shuffle=True)\n",
        "\n",
        "    x_val = torch.randn(30, 10)\n",
        "    y_val = torch.randint(0, 2, (30,))\n",
        "    val_loader = DataLoader(TensorDataset(x_val, y_val), batch_size=16, shuffle=False)\n",
        "\n",
        "    # Training loop\n",
        "    for epoch in range(10):\n",
        "        model.train()\n",
        "        for x_batch, y_batch in train_loader:\n",
        "            optimizer.zero_grad()\n",
        "            outputs = model(x_batch)\n",
        "            loss = criterion(outputs, y_batch)\n",
        "            loss.backward()\n",
        "            optimizer.step()\n",
        "\n",
        "    # Validation loop\n",
        "    model.eval()\n",
        "    total_val_loss = 0\n",
        "    with torch.no_grad():\n",
        "        for x_batch, y_batch in val_loader:\n",
        "            outputs = model(x_batch)\n",
        "            loss = criterion(outputs, y_batch)\n",
        "            total_val_loss += loss.item()\n",
        "\n",
        "    # Return average validation loss\n",
        "    return total_val_loss / len(val_loader)\n",
        "\n",
        "# Running Optuna\n",
        "study = optuna.create_study(direction='minimize')\n",
        "study.optimize(objective, n_trials=10)\n",
        "\n",
        "# Output best trial results\n",
        "print(f\"Best trial parameters: {study.best_params}\")\n",
        "print(f\"Best validation loss: {study.best_value}\")"
      ]
    }
  ]
}