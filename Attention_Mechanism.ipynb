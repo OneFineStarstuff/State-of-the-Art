{
  "nbformat": 4,
  "nbformat_minor": 0,
  "metadata": {
    "colab": {
      "private_outputs": true,
      "provenance": [],
      "authorship_tag": "ABX9TyNmfgYr7qu2ExxU/CIEfbrD",
      "include_colab_link": true
    },
    "kernelspec": {
      "name": "python3",
      "display_name": "Python 3"
    },
    "language_info": {
      "name": "python"
    }
  },
  "cells": [
    {
      "cell_type": "markdown",
      "metadata": {
        "id": "view-in-github",
        "colab_type": "text"
      },
      "source": [
        "<a href=\"https://colab.research.google.com/github/OneFineStarstuff/State-of-the-Art/blob/main/Attention_Mechanism.ipynb\" target=\"_parent\"><img src=\"https://colab.research.google.com/assets/colab-badge.svg\" alt=\"Open In Colab\"/></a>"
      ]
    },
    {
      "cell_type": "code",
      "execution_count": null,
      "metadata": {
        "id": "3kNceNhhqcU4"
      },
      "outputs": [],
      "source": [
        "import torch\n",
        "import torch.nn as nn\n",
        "import torch.nn.functional as F\n",
        "\n",
        "class Attention(nn.Module):\n",
        "    def __init__(self, encoder_hidden_dim, decoder_hidden_dim):\n",
        "        super(Attention, self).__init__()\n",
        "        self.attn = nn.Linear(encoder_hidden_dim + decoder_hidden_dim, decoder_hidden_dim)\n",
        "        self.v = nn.Parameter(torch.rand(decoder_hidden_dim))\n",
        "\n",
        "    def forward(self, hidden, encoder_outputs):\n",
        "        # hidden: [batch_size, decoder_hidden_dim]\n",
        "        # encoder_outputs: [batch_size, seq_len, encoder_hidden_dim]\n",
        "        seq_len = encoder_outputs.size(1)\n",
        "        hidden = hidden.unsqueeze(1).repeat(1, seq_len, 1)\n",
        "        energy = torch.tanh(self.attn(torch.cat((hidden, encoder_outputs), dim=2)))\n",
        "        attention = torch.einsum(\"bij,j->bi\", energy, self.v)\n",
        "        return F.softmax(attention, dim=1)\n",
        "\n",
        "class Seq2Seq(nn.Module):\n",
        "    def __init__(self, input_dim, output_dim, encoder_hidden_dim, decoder_hidden_dim):\n",
        "        super(Seq2Seq, self).__init__()\n",
        "        self.encoder = nn.LSTM(input_dim, encoder_hidden_dim, batch_first=True)\n",
        "        self.decoder = nn.LSTM(decoder_hidden_dim + encoder_hidden_dim, decoder_hidden_dim, batch_first=True)\n",
        "        self.fc_out = nn.Linear(decoder_hidden_dim, output_dim)\n",
        "        self.attention = Attention(encoder_hidden_dim, decoder_hidden_dim)\n",
        "\n",
        "    def forward(self, src, trg):\n",
        "        encoder_outputs, (hidden, cell) = self.encoder(src)\n",
        "        trg_len = trg.size(1)\n",
        "        outputs = torch.zeros(src.size(0), trg_len, trg.size(2)).to(src.device)\n",
        "\n",
        "        hidden = hidden[-1].unsqueeze(0)  # Reshape hidden state\n",
        "\n",
        "        for t in range(trg_len):\n",
        "            context = self.attention(hidden.squeeze(0), encoder_outputs).unsqueeze(1)\n",
        "            rnn_input = torch.cat((trg[:, t:t+1, :], context), dim=2)\n",
        "            output, (hidden, cell) = self.decoder(rnn_input, (hidden, cell))\n",
        "            outputs[:, t:t+1, :] = self.fc_out(output)\n",
        "\n",
        "        return outputs\n",
        "\n",
        "# Example usage\n",
        "input_dim = 10\n",
        "output_dim = 10\n",
        "encoder_hidden_dim = 64\n",
        "decoder_hidden_dim = 64\n",
        "\n",
        "model = Seq2Seq(input_dim, output_dim, encoder_hidden_dim, decoder_hidden_dim)\n",
        "src = torch.rand(32, 20, input_dim)  # [batch_size, seq_len, input_dim]\n",
        "trg = torch.rand(32, 20, output_dim)  # [batch_size, seq_len, output_dim]\n",
        "output = model(src, trg)\n",
        "print(output.shape)  # [batch_size, seq_len, output_dim]"
      ]
    }
  ]
}