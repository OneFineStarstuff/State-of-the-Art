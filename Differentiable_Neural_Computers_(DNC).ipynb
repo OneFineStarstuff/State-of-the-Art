{
  "nbformat": 4,
  "nbformat_minor": 0,
  "metadata": {
    "colab": {
      "private_outputs": true,
      "provenance": [],
      "authorship_tag": "ABX9TyOuRQm7aZo/5LcDpMB/LZMY",
      "include_colab_link": true
    },
    "kernelspec": {
      "name": "python3",
      "display_name": "Python 3"
    },
    "language_info": {
      "name": "python"
    }
  },
  "cells": [
    {
      "cell_type": "markdown",
      "metadata": {
        "id": "view-in-github",
        "colab_type": "text"
      },
      "source": [
        "<a href=\"https://colab.research.google.com/github/OneFineStarstuff/State-of-the-Art/blob/main/Differentiable_Neural_Computers_(DNC).ipynb\" target=\"_parent\"><img src=\"https://colab.research.google.com/assets/colab-badge.svg\" alt=\"Open In Colab\"/></a>"
      ]
    },
    {
      "cell_type": "code",
      "execution_count": null,
      "metadata": {
        "id": "HUBAoNyaNFpP"
      },
      "outputs": [],
      "source": [
        "import torch\n",
        "import torch.nn as nn\n",
        "import torch.optim as optim\n",
        "import torch.nn.functional as F\n",
        "\n",
        "class DNC(nn.Module):\n",
        "    def __init__(self, input_dim, hidden_dim, memory_dim, memory_size, output_dim, device='cuda'):\n",
        "        super(DNC, self).__init__()\n",
        "        self.controller = nn.LSTM(input_dim + memory_dim, hidden_dim)\n",
        "        self.memory = torch.zeros(memory_size, memory_dim).to(device)\n",
        "        self.memory_size = memory_size\n",
        "        self.memory_dim = memory_dim\n",
        "        self.output_layer = nn.Linear(hidden_dim, output_dim)\n",
        "        self.device = device\n",
        "\n",
        "    def forward(self, x):\n",
        "        batch_size, seq_len, _ = x.size()\n",
        "        hidden = torch.zeros(1, batch_size, self.controller.hidden_size).to(self.device)\n",
        "        cell = torch.zeros(1, batch_size, self.controller.hidden_size).to(self.device)\n",
        "        outputs = []\n",
        "\n",
        "        for t in range(seq_len):\n",
        "            memory_mean = self.memory.mean(dim=0).unsqueeze(0).expand(batch_size, -1)\n",
        "            input_and_memory = torch.cat([x[:, t], memory_mean], dim=1).unsqueeze(0)\n",
        "            output, (hidden, cell) = self.controller(input_and_memory, (hidden, cell))\n",
        "\n",
        "            # Ensure output size matches memory size and dimensions\n",
        "            output_trimmed = output.squeeze(0)[:, :self.memory_dim]\n",
        "            new_memory = torch.cat([output_trimmed, self.memory[:-1, :]], dim=0).detach()  # Detach to avoid in-place operation\n",
        "            self.memory = new_memory\n",
        "\n",
        "            outputs.append(self.output_layer(output.squeeze(0)))\n",
        "\n",
        "        return torch.stack(outputs, dim=1)\n",
        "\n",
        "# Define model parameters\n",
        "input_dim = 10\n",
        "hidden_dim = 128\n",
        "memory_dim = 32\n",
        "memory_size = 50\n",
        "output_dim = 10\n",
        "\n",
        "# Check device\n",
        "device = torch.device('cuda' if torch.cuda.is_available() else 'cpu')\n",
        "\n",
        "# Initialize model\n",
        "dnc = DNC(input_dim, hidden_dim, memory_dim, memory_size, output_dim, device).to(device)\n",
        "optimizer = optim.Adam(dnc.parameters(), lr=1e-3)\n",
        "criterion = nn.MSELoss()\n",
        "\n",
        "# Enable anomaly detection\n",
        "torch.autograd.set_detect_anomaly(True)\n",
        "\n",
        "# Dummy data for training\n",
        "x = torch.rand(32, 20, input_dim).to(device)\n",
        "y = torch.rand(32, 20, output_dim).to(device)\n",
        "\n",
        "# Training loop\n",
        "for epoch in range(50):\n",
        "    dnc.train()\n",
        "    optimizer.zero_grad()\n",
        "    output = dnc(x)\n",
        "    loss = criterion(output, y)\n",
        "    loss.backward()\n",
        "    optimizer.step()\n",
        "    print(f\"Epoch {epoch+1}, Loss: {loss.item()}\")"
      ]
    }
  ]
}