{
  "nbformat": 4,
  "nbformat_minor": 0,
  "metadata": {
    "colab": {
      "private_outputs": true,
      "provenance": [],
      "authorship_tag": "ABX9TyNRW8VsoIfbb5gNJPrnIbKU",
      "include_colab_link": true
    },
    "kernelspec": {
      "name": "python3",
      "display_name": "Python 3"
    },
    "language_info": {
      "name": "python"
    }
  },
  "cells": [
    {
      "cell_type": "markdown",
      "metadata": {
        "id": "view-in-github",
        "colab_type": "text"
      },
      "source": [
        "<a href=\"https://colab.research.google.com/github/OneFineStarstuff/State-of-the-Art/blob/main/Complete_Contrastive_Learning_Training_Loop_(Synthetic_Example).ipynb\" target=\"_parent\"><img src=\"https://colab.research.google.com/assets/colab-badge.svg\" alt=\"Open In Colab\"/></a>"
      ]
    },
    {
      "cell_type": "code",
      "execution_count": null,
      "metadata": {
        "id": "vgJyZFhQ0xUT"
      },
      "outputs": [],
      "source": [
        "import torch\n",
        "import torch.nn as nn\n",
        "import torch.nn.functional as F\n",
        "import torch.optim as optim\n",
        "from torch.utils.data import DataLoader, Dataset\n",
        "\n",
        "# --- Contrastive Model ---\n",
        "class ContrastiveModel(nn.Module):\n",
        "    def __init__(self, input_dim, projection_dim):\n",
        "        super(ContrastiveModel, self).__init__()\n",
        "        self.encoder = nn.Sequential(\n",
        "            nn.Linear(input_dim, 256),\n",
        "            nn.ReLU(True),\n",
        "            nn.Linear(256, projection_dim)\n",
        "        )\n",
        "\n",
        "    def forward(self, x):\n",
        "        return self.encoder(x)\n",
        "\n",
        "# --- Contrastive Loss (NT-Xent-style) ---\n",
        "def contrastive_loss(z_i, z_j, temperature=0.5):\n",
        "    batch_size = z_i.size(0)\n",
        "    z = torch.cat([z_i, z_j], dim=0)  # [2N, D]\n",
        "    z = F.normalize(z, dim=1)\n",
        "\n",
        "    similarity_matrix = torch.matmul(z, z.T) / temperature\n",
        "    labels = torch.arange(batch_size)\n",
        "    labels = torch.cat([labels, labels], dim=0).to(z.device)\n",
        "\n",
        "    # Mask out self-similarities\n",
        "    mask = torch.eye(2 * batch_size, dtype=torch.bool).to(z.device)\n",
        "    similarity_matrix = similarity_matrix.masked_fill(mask, -1e9)\n",
        "\n",
        "    positives = torch.cat([torch.diag(similarity_matrix, batch_size),\n",
        "                           torch.diag(similarity_matrix, -batch_size)], dim=0)\n",
        "    logits = torch.cat([positives.unsqueeze(1),\n",
        "                        similarity_matrix[~mask].view(2 * batch_size, -1)], dim=1)\n",
        "    targets = torch.zeros(2 * batch_size, dtype=torch.long).to(z.device)\n",
        "\n",
        "    return F.cross_entropy(logits, targets)\n",
        "\n",
        "# --- Synthetic Dataset ---\n",
        "class ContrastiveDataset(Dataset):\n",
        "    def __init__(self, n_samples=1000, dim=128):\n",
        "        self.samples = torch.randn(n_samples, dim)\n",
        "\n",
        "    def __getitem__(self, idx):\n",
        "        x = self.samples[idx]\n",
        "        x_i = x + 0.05 * torch.randn_like(x)\n",
        "        x_j = x + 0.05 * torch.randn_like(x)\n",
        "        return x_i, x_j\n",
        "\n",
        "    def __len__(self):\n",
        "        return len(self.samples)\n",
        "\n",
        "# --- Training ---\n",
        "def train(model, dataloader, optimizer, device, epochs=10):\n",
        "    model.train()\n",
        "    for epoch in range(epochs):\n",
        "        total_loss = 0.0\n",
        "        for x_i, x_j in dataloader:\n",
        "            x_i, x_j = x_i.to(device), x_j.to(device)\n",
        "            z_i = model(x_i)\n",
        "            z_j = model(x_j)\n",
        "            loss = contrastive_loss(z_i, z_j)\n",
        "            optimizer.zero_grad()\n",
        "            loss.backward()\n",
        "            optimizer.step()\n",
        "            total_loss += loss.item()\n",
        "        avg_loss = total_loss / len(dataloader)\n",
        "        print(f\"Epoch {epoch+1}, Loss: {avg_loss:.4f}\")\n",
        "\n",
        "# --- Main ---\n",
        "device = torch.device(\"cuda\" if torch.cuda.is_available() else \"cpu\")\n",
        "\n",
        "input_dim = 128\n",
        "projection_dim = 64\n",
        "batch_size = 64\n",
        "\n",
        "dataset = ContrastiveDataset(n_samples=2048, dim=input_dim)\n",
        "dataloader = DataLoader(dataset, batch_size=batch_size, shuffle=True)\n",
        "\n",
        "model = ContrastiveModel(input_dim, projection_dim).to(device)\n",
        "optimizer = optim.Adam(model.parameters(), lr=0.001)\n",
        "\n",
        "train(model, dataloader, optimizer, device, epochs=10)"
      ]
    }
  ]
}