{
  "nbformat": 4,
  "nbformat_minor": 0,
  "metadata": {
    "colab": {
      "private_outputs": true,
      "provenance": [],
      "authorship_tag": "ABX9TyOuKvZa3DZY/0gOC86uCJHr",
      "include_colab_link": true
    },
    "kernelspec": {
      "name": "python3",
      "display_name": "Python 3"
    },
    "language_info": {
      "name": "python"
    }
  },
  "cells": [
    {
      "cell_type": "markdown",
      "metadata": {
        "id": "view-in-github",
        "colab_type": "text"
      },
      "source": [
        "<a href=\"https://colab.research.google.com/github/OneFineStarstuff/State-of-the-Art/blob/main/Neural_Style_Transfer.ipynb\" target=\"_parent\"><img src=\"https://colab.research.google.com/assets/colab-badge.svg\" alt=\"Open In Colab\"/></a>"
      ]
    },
    {
      "cell_type": "code",
      "execution_count": null,
      "metadata": {
        "id": "cvGViniOYoAJ"
      },
      "outputs": [],
      "source": [
        "import torch\n",
        "import torch.nn as nn\n",
        "import torchvision.transforms as transforms\n",
        "from torchvision.models import vgg19\n",
        "import numpy as np\n",
        "from PIL import Image\n",
        "\n",
        "# Define the style transfer network using VGG19\n",
        "class StyleTransferNetwork(nn.Module):\n",
        "    def __init__(self):\n",
        "        super(StyleTransferNetwork, self).__init__()\n",
        "        self.vgg = vgg19(pretrained=True).features[:21]  # Use up to conv4_1\n",
        "\n",
        "    def forward(self, x):\n",
        "        return self.vgg(x)\n",
        "\n",
        "# Load images and preprocess\n",
        "transform = transforms.Compose([\n",
        "    transforms.Resize((224, 224)),\n",
        "    transforms.ToTensor(),\n",
        "    transforms.Normalize(mean=[0.485, 0.456, 0.406], std=[0.229, 0.224, 0.225])  # Normalization for VGG19\n",
        "])\n",
        "\n",
        "# Simulate loading of actual images with NumPy arrays\n",
        "content_image_np = np.random.rand(224, 224, 3) * 255  # Replace with actual image loading\n",
        "style_image_np = np.random.rand(224, 224, 3) * 255  # Replace with actual image loading\n",
        "\n",
        "# Convert NumPy arrays to PIL images\n",
        "content_image_pil = Image.fromarray(content_image_np.astype('uint8'))\n",
        "style_image_pil = Image.fromarray(style_image_np.astype('uint8'))\n",
        "\n",
        "# Apply transformations\n",
        "content_image = transform(content_image_pil)\n",
        "style_image = transform(style_image_pil)\n",
        "\n",
        "# Instantiate the network and pass images through\n",
        "net = StyleTransferNetwork()\n",
        "content_features = net(content_image.unsqueeze(0))\n",
        "style_features = net(style_image.unsqueeze(0))\n",
        "\n",
        "# Print shapes of extracted features\n",
        "print(content_features.shape)\n",
        "print(style_features.shape)"
      ]
    }
  ]
}