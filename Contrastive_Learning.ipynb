{
  "nbformat": 4,
  "nbformat_minor": 0,
  "metadata": {
    "colab": {
      "private_outputs": true,
      "provenance": [],
      "authorship_tag": "ABX9TyOyOnSPlIjUWiNgXlYTvbts",
      "include_colab_link": true
    },
    "kernelspec": {
      "name": "python3",
      "display_name": "Python 3"
    },
    "language_info": {
      "name": "python"
    }
  },
  "cells": [
    {
      "cell_type": "markdown",
      "metadata": {
        "id": "view-in-github",
        "colab_type": "text"
      },
      "source": [
        "<a href=\"https://colab.research.google.com/github/OneFineStarstuff/State-of-the-Art/blob/main/Contrastive_Learning.ipynb\" target=\"_parent\"><img src=\"https://colab.research.google.com/assets/colab-badge.svg\" alt=\"Open In Colab\"/></a>"
      ]
    },
    {
      "cell_type": "code",
      "execution_count": null,
      "metadata": {
        "id": "bGoCx-tiFWjP"
      },
      "outputs": [],
      "source": [
        "import torch\n",
        "import torch.nn as nn\n",
        "import torch.nn.functional as F\n",
        "import torchvision.models as models\n",
        "\n",
        "class SimCLRModel(nn.Module):\n",
        "    def __init__(self, base_model):\n",
        "        super(SimCLRModel, self).__init__()\n",
        "        in_features = base_model.fc.in_features\n",
        "        self.encoder = base_model\n",
        "        self.encoder.fc = nn.Identity()  # Remove the classifier layer\n",
        "        self.projection_head = nn.Sequential(\n",
        "            nn.Linear(in_features, 256),\n",
        "            nn.ReLU(),\n",
        "            nn.Linear(256, 128)\n",
        "        )\n",
        "\n",
        "    def forward(self, x):\n",
        "        x = self.encoder(x)\n",
        "        x = self.projection_head(x)\n",
        "        return F.normalize(x, dim=-1)\n",
        "\n",
        "def simclr_loss(features, temperature=0.5):\n",
        "    batch_size = features.shape[0]\n",
        "    labels = torch.arange(batch_size)\n",
        "    similarity_matrix = F.cosine_similarity(features.unsqueeze(1), features.unsqueeze(0), dim=-1)\n",
        "    logits = similarity_matrix / temperature\n",
        "    loss = F.cross_entropy(logits, labels)\n",
        "    return loss\n",
        "\n",
        "# Example usage\n",
        "base_model = models.resnet18(weights=None)\n",
        "model = SimCLRModel(base_model)\n",
        "\n",
        "optimizer = torch.optim.Adam(model.parameters(), lr=0.001)\n",
        "for epoch in range(10):\n",
        "    img = torch.randn(64, 3, 224, 224)\n",
        "    features = model(img)\n",
        "    loss = simclr_loss(features)\n",
        "    optimizer.zero_grad()\n",
        "    loss.backward()\n",
        "    optimizer.step()\n",
        "    print(f'Epoch {epoch + 1}, Loss: {loss.item():.4f}')"
      ]
    }
  ]
}