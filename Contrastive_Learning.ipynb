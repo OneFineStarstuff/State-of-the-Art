{
  "nbformat": 4,
  "nbformat_minor": 0,
  "metadata": {
    "colab": {
      "private_outputs": true,
      "provenance": [],
      "authorship_tag": "ABX9TyP+BZsF8kPZ6IazDbmtiO8l",
      "include_colab_link": true
    },
    "kernelspec": {
      "name": "python3",
      "display_name": "Python 3"
    },
    "language_info": {
      "name": "python"
    }
  },
  "cells": [
    {
      "cell_type": "markdown",
      "metadata": {
        "id": "view-in-github",
        "colab_type": "text"
      },
      "source": [
        "<a href=\"https://colab.research.google.com/github/OneFineStarstuff/State-of-the-Art/blob/main/Contrastive_Learning.ipynb\" target=\"_parent\"><img src=\"https://colab.research.google.com/assets/colab-badge.svg\" alt=\"Open In Colab\"/></a>"
      ]
    },
    {
      "cell_type": "code",
      "execution_count": null,
      "metadata": {
        "id": "eluashcinsS0"
      },
      "outputs": [],
      "source": [
        "import torch\n",
        "import torch.nn as nn\n",
        "import torch.nn.functional as F  # Add this import\n",
        "import torchvision\n",
        "import torchvision.transforms as transforms\n",
        "import torch.optim as optim\n",
        "\n",
        "# Define a simple encoder network\n",
        "class Encoder(nn.Module):\n",
        "    def __init__(self):\n",
        "        super(Encoder, self).__init__()\n",
        "        self.conv = nn.Sequential(\n",
        "            nn.Conv2d(3, 64, kernel_size=3, stride=2, padding=1),\n",
        "            nn.ReLU(),\n",
        "            nn.Conv2d(64, 128, kernel_size=3, stride=2, padding=1),\n",
        "            nn.ReLU()\n",
        "        )\n",
        "        self.fc = nn.Linear(128 * 8 * 8, 128)\n",
        "\n",
        "    def forward(self, x):\n",
        "        x = self.conv(x)\n",
        "        x = x.view(x.size(0), -1)\n",
        "        x = self.fc(x)\n",
        "        return F.normalize(x, dim=1)\n",
        "\n",
        "# Define SimCLR model\n",
        "class SimCLR(nn.Module):\n",
        "    def __init__(self, encoder):\n",
        "        super(SimCLR, self).__init__()\n",
        "        self.encoder = encoder\n",
        "\n",
        "    def forward(self, x):\n",
        "        return self.encoder(x)\n",
        "\n",
        "# Load CIFAR-10 dataset with augmentations\n",
        "transform = transforms.Compose([\n",
        "    transforms.RandomResizedCrop(32),\n",
        "    transforms.RandomHorizontalFlip(),\n",
        "    transforms.ToTensor(),\n",
        "])\n",
        "train_dataset = torchvision.datasets.CIFAR10(root='./data', train=True, download=True, transform=transform)\n",
        "train_loader = torch.utils.data.DataLoader(train_dataset, batch_size=64, shuffle=True)\n",
        "\n",
        "# Initialize the encoder and SimCLR model\n",
        "encoder = Encoder()\n",
        "simclr = SimCLR(encoder)\n",
        "criterion = nn.CrossEntropyLoss()\n",
        "optimizer = optim.Adam(simclr.parameters(), lr=0.001)\n",
        "\n",
        "# Additional transforms for augmentations\n",
        "augmentations = transforms.Compose([\n",
        "    transforms.RandomResizedCrop(32),\n",
        "    transforms.RandomHorizontalFlip(),\n",
        "])\n",
        "\n",
        "# Training loop\n",
        "for epoch in range(10):\n",
        "    for (images, _) in train_loader:\n",
        "        # Apply two different augmentations to the same images\n",
        "        aug1 = torch.stack([augmentations(img) for img in images])\n",
        "        aug2 = torch.stack([augmentations(img) for img in images])\n",
        "\n",
        "        # Forward pass\n",
        "        z1 = simclr(aug1)\n",
        "        z2 = simclr(aug2)\n",
        "\n",
        "        # Compute similarity and loss\n",
        "        sim_matrix = torch.matmul(z1, z2.T)\n",
        "        loss = criterion(sim_matrix, torch.arange(sim_matrix.size(0)))\n",
        "\n",
        "        # Backward pass\n",
        "        optimizer.zero_grad()\n",
        "        loss.backward()\n",
        "        optimizer.step()\n",
        "\n",
        "    print(f\"Epoch {epoch+1}, Loss: {loss.item()}\")"
      ]
    }
  ]
}