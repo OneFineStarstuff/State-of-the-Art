{
  "nbformat": 4,
  "nbformat_minor": 0,
  "metadata": {
    "colab": {
      "private_outputs": true,
      "provenance": [],
      "authorship_tag": "ABX9TyOnHa68Q8DIiSHgkgtXPy85",
      "include_colab_link": true
    },
    "kernelspec": {
      "name": "python3",
      "display_name": "Python 3"
    },
    "language_info": {
      "name": "python"
    }
  },
  "cells": [
    {
      "cell_type": "markdown",
      "metadata": {
        "id": "view-in-github",
        "colab_type": "text"
      },
      "source": [
        "<a href=\"https://colab.research.google.com/github/OneFineStarstuff/State-of-the-Art/blob/main/Contrastive_Learning.ipynb\" target=\"_parent\"><img src=\"https://colab.research.google.com/assets/colab-badge.svg\" alt=\"Open In Colab\"/></a>"
      ]
    },
    {
      "cell_type": "code",
      "execution_count": null,
      "metadata": {
        "id": "gaP9Ma8P__yM"
      },
      "outputs": [],
      "source": [
        "import torch\n",
        "import torch.nn as nn\n",
        "import torch.optim as optim\n",
        "\n",
        "class ContrastiveModel(nn.Module):\n",
        "    def __init__(self, feature_dim):\n",
        "        super(ContrastiveModel, self).__init__()\n",
        "        self.encoder = nn.Sequential(\n",
        "            nn.Linear(28 * 28, 128),\n",
        "            nn.ReLU(),\n",
        "            nn.Linear(128, feature_dim)\n",
        "        )\n",
        "\n",
        "    def forward(self, x):\n",
        "        return self.encoder(x)\n",
        "\n",
        "def contrastive_loss(features, labels, margin=1.0):\n",
        "    batch_size = features.shape[0]\n",
        "    pairwise_distances = torch.cdist(features, features, p=2)\n",
        "    labels = labels.unsqueeze(1) == labels.unsqueeze(0)\n",
        "    positive_pairs = pairwise_distances[labels].clamp(min=0.0)\n",
        "    negative_pairs = pairwise_distances[~labels].clamp(min=0.0)\n",
        "    loss = torch.sum(positive_pairs) / positive_pairs.numel() + torch.sum(margin - negative_pairs).clamp(min=0).mean()\n",
        "    return loss\n",
        "\n",
        "model = ContrastiveModel(feature_dim=64)\n",
        "optimizer = optim.Adam(model.parameters(), lr=0.001)\n",
        "criterion = contrastive_loss\n",
        "\n",
        "# Example training loop\n",
        "for epoch in range(5):  # Train for 5 epochs for simplicity\n",
        "    optimizer.zero_grad()\n",
        "    # Simulated batch of features and labels\n",
        "    batch_features = torch.randn(32, 28 * 28)\n",
        "    batch_labels = torch.randint(0, 10, (32,))\n",
        "    features = model(batch_features)\n",
        "    loss = criterion(features, batch_labels)\n",
        "    loss.backward()\n",
        "    optimizer.step()\n",
        "    print(f\"Epoch {epoch+1}, Loss: {loss.item()}\")"
      ]
    }
  ]
}