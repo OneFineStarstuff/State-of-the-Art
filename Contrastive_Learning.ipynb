{
  "nbformat": 4,
  "nbformat_minor": 0,
  "metadata": {
    "colab": {
      "private_outputs": true,
      "provenance": [],
      "authorship_tag": "ABX9TyP2FGHZyk5cgAdB8g7HKuJz",
      "include_colab_link": true
    },
    "kernelspec": {
      "name": "python3",
      "display_name": "Python 3"
    },
    "language_info": {
      "name": "python"
    }
  },
  "cells": [
    {
      "cell_type": "markdown",
      "metadata": {
        "id": "view-in-github",
        "colab_type": "text"
      },
      "source": [
        "<a href=\"https://colab.research.google.com/github/OneFineStarstuff/State-of-the-Art/blob/main/Contrastive_Learning.ipynb\" target=\"_parent\"><img src=\"https://colab.research.google.com/assets/colab-badge.svg\" alt=\"Open In Colab\"/></a>"
      ]
    },
    {
      "cell_type": "code",
      "execution_count": null,
      "metadata": {
        "id": "v6bJDQN96zft"
      },
      "outputs": [],
      "source": [
        "import torch\n",
        "import torch.nn as nn\n",
        "import torch.optim as optim\n",
        "import torch.nn.functional as F\n",
        "from torch.utils.data import DataLoader, TensorDataset\n",
        "\n",
        "# Define the SimCLR model\n",
        "class SimCLR(nn.Module):\n",
        "    def __init__(self, base_encoder, encoder_output_dim, projection_dim):\n",
        "        super(SimCLR, self).__init__()\n",
        "        self.encoder = base_encoder  # Base encoder (e.g., ResNet or simple MLP)\n",
        "        self.projector = nn.Sequential(\n",
        "            nn.Linear(encoder_output_dim, projection_dim),\n",
        "            nn.ReLU(),\n",
        "            nn.Linear(projection_dim, projection_dim)\n",
        "        )\n",
        "\n",
        "    def forward(self, x):\n",
        "        # Extract features from the encoder\n",
        "        features = self.encoder(x)\n",
        "        # Project features to a latent space\n",
        "        projections = self.projector(features)\n",
        "        return projections\n",
        "\n",
        "# Example base encoder (simple MLP for demonstration)\n",
        "base_encoder = nn.Sequential(\n",
        "    nn.Flatten(),\n",
        "    nn.Linear(28 * 28, 256),\n",
        "    nn.ReLU(),\n",
        "    nn.Linear(256, 128)  # Last layer's output dimension is 128\n",
        ")\n",
        "\n",
        "# Instantiate the SimCLR model\n",
        "model = SimCLR(base_encoder, encoder_output_dim=128, projection_dim=64)\n",
        "\n",
        "# Optimizer and loss function\n",
        "optimizer = optim.Adam(model.parameters(), lr=0.001)\n",
        "criterion = nn.CrossEntropyLoss()\n",
        "\n",
        "# Dummy dataset for demonstration\n",
        "# Simulates input images (28x28) and corresponding dummy labels\n",
        "dummy_images = torch.randn(1000, 1, 28, 28)  # 1000 grayscale images\n",
        "dummy_labels = torch.randint(0, 10, (1000,))  # 10 random classes for illustration\n",
        "dataset = TensorDataset(dummy_images, dummy_labels)\n",
        "dataloader = DataLoader(dataset, batch_size=32, shuffle=True)\n",
        "\n",
        "# Training loop\n",
        "epochs = 10\n",
        "for epoch in range(epochs):\n",
        "    model.train()\n",
        "    epoch_loss = 0\n",
        "    for images, labels in dataloader:\n",
        "        optimizer.zero_grad()\n",
        "        outputs = model(images)  # Forward pass through SimCLR\n",
        "        # For demonstration, compare outputs with labels (classification surrogate)\n",
        "        loss = criterion(outputs, labels)\n",
        "        loss.backward()\n",
        "        optimizer.step()\n",
        "        epoch_loss += loss.item()\n",
        "    print(f\"Epoch [{epoch+1}/{epochs}], Loss: {epoch_loss/len(dataloader):.4f}\")\n",
        "\n",
        "# Forward pass to verify output shape\n",
        "with torch.no_grad():\n",
        "    sample_input = torch.randn(32, 1, 28, 28)  # Batch of 32, 28x28 grayscale images\n",
        "    sample_output = model(sample_input)\n",
        "    print(f\"Sample output shape: {sample_output.shape}\")  # Expected: (32, 64)"
      ]
    }
  ]
}