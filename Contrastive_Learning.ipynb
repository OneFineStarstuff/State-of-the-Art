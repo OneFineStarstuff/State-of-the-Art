{
  "nbformat": 4,
  "nbformat_minor": 0,
  "metadata": {
    "colab": {
      "private_outputs": true,
      "provenance": [],
      "authorship_tag": "ABX9TyM5o6FgqxDXUnXTq2dBaqdh",
      "include_colab_link": true
    },
    "kernelspec": {
      "name": "python3",
      "display_name": "Python 3"
    },
    "language_info": {
      "name": "python"
    }
  },
  "cells": [
    {
      "cell_type": "markdown",
      "metadata": {
        "id": "view-in-github",
        "colab_type": "text"
      },
      "source": [
        "<a href=\"https://colab.research.google.com/github/OneFineStarstuff/State-of-the-Art/blob/main/Contrastive_Learning.ipynb\" target=\"_parent\"><img src=\"https://colab.research.google.com/assets/colab-badge.svg\" alt=\"Open In Colab\"/></a>"
      ]
    },
    {
      "cell_type": "code",
      "execution_count": null,
      "metadata": {
        "id": "46vw7KiqRbjw"
      },
      "outputs": [],
      "source": [
        "import torch\n",
        "import torch.nn as nn\n",
        "import torchvision.transforms as transforms\n",
        "from torchvision.datasets import CIFAR10\n",
        "from torch.utils.data import DataLoader\n",
        "from torchvision.models import resnet50\n",
        "\n",
        "# Define the SimCLR model\n",
        "class SimCLR(nn.Module):\n",
        "    def __init__(self, base_model, projection_dim):\n",
        "        super(SimCLR, self).__init__()\n",
        "        self.backbone = nn.Sequential(*list(base_model.children())[:-1])\n",
        "        self.projection = nn.Sequential(\n",
        "            nn.Linear(base_model.fc.in_features, projection_dim),\n",
        "            nn.ReLU(),\n",
        "            nn.Linear(projection_dim, projection_dim)\n",
        "        )\n",
        "\n",
        "    def forward(self, x):\n",
        "        x = self.backbone(x)\n",
        "        x = torch.flatten(x, start_dim=1)\n",
        "        x = self.projection(x)\n",
        "        return x\n",
        "\n",
        "# Load CIFAR-10 dataset\n",
        "transform = transforms.Compose([\n",
        "    transforms.Resize(256),\n",
        "    transforms.CenterCrop(224),\n",
        "    transforms.ToTensor(),\n",
        "    transforms.Normalize((0.485, 0.456, 0.406), (0.229, 0.224, 0.225))\n",
        "])\n",
        "dataset = CIFAR10(root='data', train=True, transform=transform, download=True)\n",
        "dataloader = DataLoader(dataset, batch_size=32, shuffle=True)\n",
        "\n",
        "# Define the SimCLR model with ResNet50 backbone\n",
        "base_model = resnet50(pretrained=False)\n",
        "simclr_model = SimCLR(base_model, projection_dim=128)\n",
        "\n",
        "# Example of forward pass\n",
        "for images, _ in dataloader:\n",
        "    projections = simclr_model(images)\n",
        "    print(projections.shape)  # Expected shape: [batch_size, projection_dim]\n",
        "    break"
      ]
    }
  ]
}