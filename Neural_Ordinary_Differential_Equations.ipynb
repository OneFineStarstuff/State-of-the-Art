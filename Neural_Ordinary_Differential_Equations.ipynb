{
  "nbformat": 4,
  "nbformat_minor": 0,
  "metadata": {
    "colab": {
      "private_outputs": true,
      "provenance": [],
      "authorship_tag": "ABX9TyNN7N+d5hJHv0fRIyoHjzNk",
      "include_colab_link": true
    },
    "kernelspec": {
      "name": "python3",
      "display_name": "Python 3"
    },
    "language_info": {
      "name": "python"
    }
  },
  "cells": [
    {
      "cell_type": "markdown",
      "metadata": {
        "id": "view-in-github",
        "colab_type": "text"
      },
      "source": [
        "<a href=\"https://colab.research.google.com/github/OneFineStarstuff/State-of-the-Art/blob/main/Neural_Ordinary_Differential_Equations.ipynb\" target=\"_parent\"><img src=\"https://colab.research.google.com/assets/colab-badge.svg\" alt=\"Open In Colab\"/></a>"
      ]
    },
    {
      "cell_type": "code",
      "source": [
        "pip install torchdiffeq"
      ],
      "metadata": {
        "id": "-rF3zDSZLgTJ"
      },
      "execution_count": null,
      "outputs": []
    },
    {
      "cell_type": "code",
      "execution_count": null,
      "metadata": {
        "id": "Nq0X0ekBLOrV"
      },
      "outputs": [],
      "source": [
        "from torchdiffeq import odeint\n",
        "import torch\n",
        "import torch.nn as nn\n",
        "\n",
        "class ODEFunc(nn.Module):\n",
        "    def __init__(self, hidden_dim):\n",
        "        super(ODEFunc, self).__init__()\n",
        "        self.linear = nn.Linear(hidden_dim, hidden_dim)\n",
        "        self.activation = nn.ReLU()\n",
        "\n",
        "    def forward(self, t, x):\n",
        "        return self.activation(self.linear(x))\n",
        "\n",
        "class NODE(nn.Module):\n",
        "    def __init__(self, input_dim, hidden_dim, output_dim):\n",
        "        super(NODE, self).__init__()\n",
        "        self.fc_in = nn.Linear(input_dim, hidden_dim)\n",
        "        self.odefunc = ODEFunc(hidden_dim)\n",
        "        self.fc_out = nn.Linear(hidden_dim, output_dim)\n",
        "\n",
        "    def forward(self, x, t):\n",
        "        x = self.fc_in(x)\n",
        "        x = odeint(self.odefunc, x, t)\n",
        "        x = self.fc_out(x[-1])\n",
        "        return x\n",
        "\n",
        "# Example usage\n",
        "input_dim = 2\n",
        "hidden_dim = 16\n",
        "output_dim = 1\n",
        "t = torch.linspace(0, 1, 10)\n",
        "\n",
        "model = NODE(input_dim, hidden_dim, output_dim)\n",
        "optimizer = torch.optim.Adam(model.parameters(), lr=0.01)\n",
        "\n",
        "for epoch in range(100):\n",
        "    data = torch.randn(32, input_dim)\n",
        "    target = torch.randn(32, output_dim)\n",
        "    optimizer.zero_grad()\n",
        "    output = model(data, t)\n",
        "    loss = nn.MSELoss()(output, target)\n",
        "    loss.backward()\n",
        "    optimizer.step()\n",
        "    print(f'Epoch {epoch + 1}, Loss: {loss.item():.4f}')"
      ]
    }
  ]
}