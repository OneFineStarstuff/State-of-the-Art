{
  "nbformat": 4,
  "nbformat_minor": 0,
  "metadata": {
    "colab": {
      "private_outputs": true,
      "provenance": [],
      "authorship_tag": "ABX9TyMOwEQONwQ2/19uYJc4PHGJ",
      "include_colab_link": true
    },
    "kernelspec": {
      "name": "python3",
      "display_name": "Python 3"
    },
    "language_info": {
      "name": "python"
    }
  },
  "cells": [
    {
      "cell_type": "markdown",
      "metadata": {
        "id": "view-in-github",
        "colab_type": "text"
      },
      "source": [
        "<a href=\"https://colab.research.google.com/github/OneFineStarstuff/State-of-the-Art/blob/main/AutoML_and_Neural_Architecture_Search_(NAS).ipynb\" target=\"_parent\"><img src=\"https://colab.research.google.com/assets/colab-badge.svg\" alt=\"Open In Colab\"/></a>"
      ]
    },
    {
      "cell_type": "code",
      "source": [
        "pip install autogluon"
      ],
      "metadata": {
        "id": "FHNXliK_jN-5"
      },
      "execution_count": null,
      "outputs": []
    },
    {
      "cell_type": "code",
      "source": [
        "from autogluon.tabular import TabularPredictor\n",
        "\n",
        "# Load dataset from the provided URL\n",
        "train_data = TabularPredictor.load_data(path='https://autogluon.s3.amazonaws.com/datasets/Inc/train.csv')\n",
        "\n",
        "# Initialize the TabularPredictor with the target column (label='class') and train the model\n",
        "predictor = TabularPredictor(label='class').fit(train_data)\n",
        "\n",
        "# Evaluate the performance of the trained model\n",
        "print(\"Model Performance on Training Data:\")\n",
        "performance = predictor.evaluate(train_data)\n",
        "print(performance)"
      ],
      "metadata": {
        "id": "rs8wJzUHkQgK"
      },
      "execution_count": null,
      "outputs": []
    },
    {
      "cell_type": "code",
      "execution_count": null,
      "metadata": {
        "id": "aVr3mszjizXY"
      },
      "outputs": [],
      "source": [
        "from autogluon.tabular import TabularPredictor\n",
        "\n",
        "# Step 1: Load the dataset\n",
        "train_data = TabularPredictor.load_data(path='https://autogluon.s3.amazonaws.com/datasets/Inc/train.csv')\n",
        "\n",
        "# Step 2: Train the model\n",
        "predictor = TabularPredictor(label='class').fit(train_data)\n",
        "\n",
        "# Step 3: Evaluate model performance on the training dataset\n",
        "print(\"Model Performance on Training Data:\")\n",
        "train_performance = predictor.evaluate(train_data)\n",
        "print(train_performance)\n",
        "\n",
        "# Optional Step 4: Test on separate data (if you have a test dataset)\n",
        "# Uncomment and replace 'test.csv' with the path to your test dataset\n",
        "# test_data = TabularPredictor.load_data(path='test.csv')\n",
        "# print(\"Model Performance on Test Data:\")\n",
        "# test_performance = predictor.evaluate(test_data)\n",
        "# print(test_performance)\n",
        "\n",
        "# Optional Step 5: Generate predictions for unseen data\n",
        "# Uncomment to use test data for predictions\n",
        "# predictions = predictor.predict(test_data)\n",
        "# print(\"Predictions for Test Data:\")\n",
        "# print(predictions)\n",
        "\n",
        "# Optional Step 6: Save the trained model\n",
        "predictor.save('SavedPredictorModel')\n",
        "\n",
        "# Optional Step 7: Load the saved model for reuse\n",
        "loaded_predictor = TabularPredictor.load('SavedPredictorModel')\n",
        "\n",
        "# You can continue using the loaded model as needed"
      ]
    }
  ]
}