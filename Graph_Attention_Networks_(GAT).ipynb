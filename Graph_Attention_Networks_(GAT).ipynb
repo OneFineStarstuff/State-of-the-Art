{
  "nbformat": 4,
  "nbformat_minor": 0,
  "metadata": {
    "colab": {
      "private_outputs": true,
      "provenance": [],
      "authorship_tag": "ABX9TyMKmmFLXaArwLYhjJw2Y/3f",
      "include_colab_link": true
    },
    "kernelspec": {
      "name": "python3",
      "display_name": "Python 3"
    },
    "language_info": {
      "name": "python"
    }
  },
  "cells": [
    {
      "cell_type": "markdown",
      "metadata": {
        "id": "view-in-github",
        "colab_type": "text"
      },
      "source": [
        "<a href=\"https://colab.research.google.com/github/OneFineStarstuff/State-of-the-Art/blob/main/Graph_Attention_Networks_(GAT).ipynb\" target=\"_parent\"><img src=\"https://colab.research.google.com/assets/colab-badge.svg\" alt=\"Open In Colab\"/></a>"
      ]
    },
    {
      "cell_type": "code",
      "source": [
        "pip install dgl torchdata"
      ],
      "metadata": {
        "id": "qUnROJmqMF2Q"
      },
      "execution_count": null,
      "outputs": []
    },
    {
      "cell_type": "code",
      "execution_count": null,
      "metadata": {
        "id": "KpDVatrsLyd7"
      },
      "outputs": [],
      "source": [
        "import dgl\n",
        "from dgl.nn import GATConv\n",
        "import torch.nn as nn\n",
        "import torch.nn.functional as F\n",
        "import torch\n",
        "\n",
        "# Define the GAT model\n",
        "class GAT(nn.Module):\n",
        "    def __init__(self, in_feats, hidden_feats, out_feats, num_heads):\n",
        "        super(GAT, self).__init__()\n",
        "        self.gat1 = GATConv(in_feats, hidden_feats, num_heads=num_heads)\n",
        "        self.gat2 = GATConv(hidden_feats * num_heads, out_feats, num_heads=num_heads)\n",
        "\n",
        "    def forward(self, g, x):\n",
        "        x = self.gat1(g, x)\n",
        "        x = F.elu(x)\n",
        "        x = x.view(-1, x.shape[1] * x.shape[2])\n",
        "        x = self.gat2(g, x)\n",
        "        return x.mean(1)\n",
        "\n",
        "# Example usage\n",
        "g = dgl.graph(([0, 1, 2], [1, 2, 0]))\n",
        "features = torch.tensor([[1.], [2.], [3.]])\n",
        "model = GAT(1, 4, 1, 2)\n",
        "output = model(g, features)\n",
        "print(output)"
      ]
    }
  ]
}