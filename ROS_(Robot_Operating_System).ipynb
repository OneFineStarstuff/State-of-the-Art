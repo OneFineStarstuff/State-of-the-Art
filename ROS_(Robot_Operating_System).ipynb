{
  "nbformat": 4,
  "nbformat_minor": 0,
  "metadata": {
    "colab": {
      "private_outputs": true,
      "provenance": [],
      "authorship_tag": "ABX9TyPmlmz1SpYVd+YZS9AVef/G",
      "include_colab_link": true
    },
    "kernelspec": {
      "name": "python3",
      "display_name": "Python 3"
    },
    "language_info": {
      "name": "python"
    }
  },
  "cells": [
    {
      "cell_type": "markdown",
      "metadata": {
        "id": "view-in-github",
        "colab_type": "text"
      },
      "source": [
        "<a href=\"https://colab.research.google.com/github/OneFineStarstuff/State-of-the-Art/blob/main/ROS_(Robot_Operating_System).ipynb\" target=\"_parent\"><img src=\"https://colab.research.google.com/assets/colab-badge.svg\" alt=\"Open In Colab\"/></a>"
      ]
    },
    {
      "cell_type": "code",
      "execution_count": null,
      "metadata": {
        "id": "O6yfJviCwq3b"
      },
      "outputs": [],
      "source": [
        "import rospy\n",
        "from geometry_msgs.msg import Twist\n",
        "\n",
        "# Initialize the ROS node\n",
        "rospy.init_node('robot_mover')\n",
        "\n",
        "# Create a publisher to the /cmd_vel topic\n",
        "pub = rospy.Publisher('/cmd_vel', Twist, queue_size=10)\n",
        "\n",
        "# Set the loop rate\n",
        "rate = rospy.Rate(10)\n",
        "\n",
        "# Define the movement command\n",
        "move_cmd = Twist()\n",
        "move_cmd.linear.x = 0.5  # Move forward\n",
        "move_cmd.angular.z = 0.1  # Slight turn\n",
        "\n",
        "# Main loop to publish the movement command\n",
        "while not rospy.is_shutdown():\n",
        "    pub.publish(move_cmd)\n",
        "    rate.sleep()"
      ]
    },
    {
      "cell_type": "code",
      "source": [
        "sudo apt-get install ros-noetic-rospy"
      ],
      "metadata": {
        "id": "0XbplEQzxUvC"
      },
      "execution_count": null,
      "outputs": []
    },
    {
      "cell_type": "code",
      "source": [
        "source /opt/ros/noetic/setup.bash"
      ],
      "metadata": {
        "id": "zxMHn8DdxmAE"
      },
      "execution_count": null,
      "outputs": []
    },
    {
      "cell_type": "code",
      "source": [
        "source ~/.bashrc"
      ],
      "metadata": {
        "id": "fVNJLpQ4xn6g"
      },
      "execution_count": null,
      "outputs": []
    }
  ]
}