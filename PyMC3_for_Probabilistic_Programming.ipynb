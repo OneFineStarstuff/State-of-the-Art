{
  "nbformat": 4,
  "nbformat_minor": 0,
  "metadata": {
    "colab": {
      "private_outputs": true,
      "provenance": [],
      "authorship_tag": "ABX9TyMYnbmd1kyd8ycFTHriZ8YF",
      "include_colab_link": true
    },
    "kernelspec": {
      "name": "python3",
      "display_name": "Python 3"
    },
    "language_info": {
      "name": "python"
    }
  },
  "cells": [
    {
      "cell_type": "markdown",
      "metadata": {
        "id": "view-in-github",
        "colab_type": "text"
      },
      "source": [
        "<a href=\"https://colab.research.google.com/github/OneFineStarstuff/State-of-the-Art/blob/main/PyMC3_for_Probabilistic_Programming.ipynb\" target=\"_parent\"><img src=\"https://colab.research.google.com/assets/colab-badge.svg\" alt=\"Open In Colab\"/></a>"
      ]
    },
    {
      "cell_type": "code",
      "source": [
        "pip install pymc3"
      ],
      "metadata": {
        "id": "KNotSuxP6qU4"
      },
      "execution_count": null,
      "outputs": []
    },
    {
      "cell_type": "code",
      "execution_count": null,
      "metadata": {
        "id": "Vsp7_QXN6Zta"
      },
      "outputs": [],
      "source": [
        "pip install aesara"
      ]
    },
    {
      "cell_type": "code",
      "source": [
        "import pymc3 as pm\n",
        "import aesara\n",
        "import numpy as np\n",
        "\n",
        "# Generate synthetic data\n",
        "x = np.random.randn(100)\n",
        "y = 3 * x + np.random.randn(100)\n",
        "\n",
        "# Define the Bayesian model\n",
        "with pm.Model() as model:\n",
        "    alpha = pm.Normal('alpha', mu=0, sigma=10)\n",
        "    beta = pm.Normal('beta', mu=0, sigma=10)\n",
        "    sigma = pm.HalfNormal('sigma', sigma=1)\n",
        "    mu = alpha + beta * x\n",
        "    y_obs = pm.Normal('y_obs', mu=mu, sigma=sigma, observed=y)\n",
        "    trace = pm.sample(1000, return_inferencedata=False)\n",
        "\n",
        "# Plot the trace\n",
        "pm.traceplot(trace)"
      ],
      "metadata": {
        "id": "oBp3lQgv7P5q"
      },
      "execution_count": null,
      "outputs": []
    }
  ]
}