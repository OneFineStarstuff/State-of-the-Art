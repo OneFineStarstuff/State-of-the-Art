{
  "nbformat": 4,
  "nbformat_minor": 0,
  "metadata": {
    "colab": {
      "private_outputs": true,
      "provenance": [],
      "authorship_tag": "ABX9TyPcnVfMfK4arKSA+Q6u3KCP",
      "include_colab_link": true
    },
    "kernelspec": {
      "name": "python3",
      "display_name": "Python 3"
    },
    "language_info": {
      "name": "python"
    }
  },
  "cells": [
    {
      "cell_type": "markdown",
      "metadata": {
        "id": "view-in-github",
        "colab_type": "text"
      },
      "source": [
        "<a href=\"https://colab.research.google.com/github/OneFineStarstuff/State-of-the-Art/blob/main/Neural_Ordinary_Differential_Equations_(NODEs).ipynb\" target=\"_parent\"><img src=\"https://colab.research.google.com/assets/colab-badge.svg\" alt=\"Open In Colab\"/></a>"
      ]
    },
    {
      "cell_type": "code",
      "source": [
        "pip install torchdiffeq"
      ],
      "metadata": {
        "id": "3vmJKrADpn6T"
      },
      "execution_count": null,
      "outputs": []
    },
    {
      "cell_type": "code",
      "execution_count": null,
      "metadata": {
        "id": "bYDHbJrnpGnd"
      },
      "outputs": [],
      "source": [
        "import torch\n",
        "import torch.nn as nn\n",
        "from torchdiffeq import odeint\n",
        "import matplotlib.pyplot as plt\n",
        "\n",
        "class ODEFunc(nn.Module):\n",
        "    def forward(self, t, y):\n",
        "        return -y + t**2 + 1\n",
        "\n",
        "# Initial condition and time points\n",
        "y0 = torch.tensor([0.5])\n",
        "t = torch.linspace(0, 2, 100)\n",
        "\n",
        "# Solve the ODE\n",
        "ode_func = ODEFunc()\n",
        "ys = odeint(ode_func, y0, t)\n",
        "\n",
        "# Plot the solution\n",
        "plt.plot(t.numpy(), ys.numpy())\n",
        "plt.xlabel('t')\n",
        "plt.ylabel('y')\n",
        "plt.show()"
      ]
    }
  ]
}