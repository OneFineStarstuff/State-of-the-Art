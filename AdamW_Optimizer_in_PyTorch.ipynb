{
  "nbformat": 4,
  "nbformat_minor": 0,
  "metadata": {
    "colab": {
      "private_outputs": true,
      "provenance": [],
      "authorship_tag": "ABX9TyMNfgk5GAv8HIQXut0DuJUA",
      "include_colab_link": true
    },
    "kernelspec": {
      "name": "python3",
      "display_name": "Python 3"
    },
    "language_info": {
      "name": "python"
    }
  },
  "cells": [
    {
      "cell_type": "markdown",
      "metadata": {
        "id": "view-in-github",
        "colab_type": "text"
      },
      "source": [
        "<a href=\"https://colab.research.google.com/github/OneFineStarstuff/State-of-the-Art/blob/main/AdamW_Optimizer_in_PyTorch.ipynb\" target=\"_parent\"><img src=\"https://colab.research.google.com/assets/colab-badge.svg\" alt=\"Open In Colab\"/></a>"
      ]
    },
    {
      "cell_type": "code",
      "execution_count": null,
      "metadata": {
        "id": "7Srv1vQqVT6c"
      },
      "outputs": [],
      "source": [
        "import torch\n",
        "from torch.optim import AdamW\n",
        "\n",
        "# Define the model\n",
        "model = torch.nn.Linear(10, 1)\n",
        "\n",
        "# Initialize the optimizer\n",
        "optimizer = AdamW(model.parameters(), lr=0.01, weight_decay=0.01)\n",
        "\n",
        "# Training loop\n",
        "for epoch in range(10):\n",
        "    optimizer.zero_grad()  # Zero the gradients\n",
        "    outputs = model(torch.randn(10))  # Generate random inputs\n",
        "    loss = torch.mean((outputs - torch.randn(1)) ** 2)  # Calculate the loss\n",
        "    loss.backward()  # Backpropagation\n",
        "    optimizer.step()  # Update parameters"
      ]
    }
  ]
}