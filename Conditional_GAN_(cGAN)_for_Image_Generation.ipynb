{
  "nbformat": 4,
  "nbformat_minor": 0,
  "metadata": {
    "colab": {
      "private_outputs": true,
      "provenance": [],
      "authorship_tag": "ABX9TyPateBxJJNKCgSu5Fn/c9ub",
      "include_colab_link": true
    },
    "kernelspec": {
      "name": "python3",
      "display_name": "Python 3"
    },
    "language_info": {
      "name": "python"
    }
  },
  "cells": [
    {
      "cell_type": "markdown",
      "metadata": {
        "id": "view-in-github",
        "colab_type": "text"
      },
      "source": [
        "<a href=\"https://colab.research.google.com/github/OneFineStarstuff/State-of-the-Art/blob/main/Conditional_GAN_(cGAN)_for_Image_Generation.ipynb\" target=\"_parent\"><img src=\"https://colab.research.google.com/assets/colab-badge.svg\" alt=\"Open In Colab\"/></a>"
      ]
    },
    {
      "cell_type": "code",
      "execution_count": null,
      "metadata": {
        "id": "U4A1rZdTEeT6"
      },
      "outputs": [],
      "source": [
        "import torch\n",
        "import torch.nn as nn\n",
        "import torch.optim as optim\n",
        "from torchvision import datasets, transforms\n",
        "\n",
        "class Generator(nn.Module):\n",
        "    def __init__(self, z_dim, label_dim, img_dim):\n",
        "        super(Generator, self).__init__()\n",
        "        self.model = nn.Sequential(\n",
        "            nn.Linear(z_dim + label_dim, 128),\n",
        "            nn.ReLU(),\n",
        "            nn.Linear(128, img_dim),\n",
        "            nn.Tanh()\n",
        "        )\n",
        "\n",
        "    def forward(self, z, labels):\n",
        "        input = torch.cat((z, labels), dim=1)\n",
        "        return self.model(input)\n",
        "\n",
        "class Discriminator(nn.Module):\n",
        "    def __init__(self, img_dim, label_dim):\n",
        "        super(Discriminator, self).__init__()\n",
        "        self.model = nn.Sequential(\n",
        "            nn.Linear(img_dim + label_dim, 128),\n",
        "            nn.ReLU(),\n",
        "            nn.Linear(128, 1),\n",
        "            nn.Sigmoid()\n",
        "        )\n",
        "\n",
        "    def forward(self, img, labels):\n",
        "        input = torch.cat((img, labels), dim=1)\n",
        "        return self.model(input)\n",
        "\n",
        "# Hyperparameters\n",
        "z_dim = 100\n",
        "img_dim = 28 * 28\n",
        "label_dim = 10\n",
        "batch_size = 64\n",
        "lr = 0.0002\n",
        "\n",
        "# Data loading and transformation\n",
        "transform = transforms.Compose([transforms.ToTensor(), transforms.Normalize((0.5,), (0.5,))])\n",
        "dataset = datasets.MNIST('.', transform=transform, download=True)\n",
        "dataloader = torch.utils.data.DataLoader(dataset, batch_size=batch_size, shuffle=True)\n",
        "\n",
        "# Model initialization\n",
        "gen = Generator(z_dim, label_dim, img_dim)\n",
        "disc = Discriminator(img_dim, label_dim)\n",
        "criterion = nn.BCELoss()\n",
        "opt_gen = optim.Adam(gen.parameters(), lr=lr)\n",
        "opt_disc = optim.Adam(disc.parameters(), lr=lr)\n",
        "\n",
        "# Training loop\n",
        "for epoch in range(50):\n",
        "    for real, labels in dataloader:\n",
        "        batch_size = real.size(0)\n",
        "        real = real.view(batch_size, -1)\n",
        "        labels_onehot = torch.nn.functional.one_hot(labels, label_dim).float()\n",
        "\n",
        "        # Train Discriminator\n",
        "        noise = torch.randn(batch_size, z_dim)\n",
        "        fake = gen(noise, labels_onehot)\n",
        "        disc_real = disc(real, labels_onehot)\n",
        "        disc_fake = disc(fake.detach(), labels_onehot)\n",
        "        loss_disc = (criterion(disc_real, torch.ones_like(disc_real)) +\n",
        "                     criterion(disc_fake, torch.zeros_like(disc_fake))) / 2\n",
        "        disc.zero_grad()\n",
        "        loss_disc.backward()\n",
        "        opt_disc.step()\n",
        "\n",
        "        # Train Generator\n",
        "        output = disc(fake, labels_onehot)\n",
        "        loss_gen = criterion(output, torch.ones_like(output))\n",
        "        gen.zero_grad()\n",
        "        loss_gen.backward()\n",
        "        opt_gen.step()\n",
        "\n",
        "    print(f'Epoch [{epoch+1}/50] Loss D: {loss_disc:.4f}, Loss G: {loss_gen:.4f}')"
      ]
    }
  ]
}