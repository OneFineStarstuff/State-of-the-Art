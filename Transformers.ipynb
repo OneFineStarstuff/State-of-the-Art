{
  "nbformat": 4,
  "nbformat_minor": 0,
  "metadata": {
    "colab": {
      "private_outputs": true,
      "provenance": [],
      "authorship_tag": "ABX9TyNvYZAQb5ukqMmEt5i43uki",
      "include_colab_link": true
    },
    "kernelspec": {
      "name": "python3",
      "display_name": "Python 3"
    },
    "language_info": {
      "name": "python"
    }
  },
  "cells": [
    {
      "cell_type": "markdown",
      "metadata": {
        "id": "view-in-github",
        "colab_type": "text"
      },
      "source": [
        "<a href=\"https://colab.research.google.com/github/OneFineStarstuff/State-of-the-Art/blob/main/Transformers.ipynb\" target=\"_parent\"><img src=\"https://colab.research.google.com/assets/colab-badge.svg\" alt=\"Open In Colab\"/></a>"
      ]
    },
    {
      "cell_type": "code",
      "execution_count": null,
      "metadata": {
        "id": "WgVSMqYdGtXS"
      },
      "outputs": [],
      "source": [
        "import torch\n",
        "import torch.nn as nn\n",
        "\n",
        "class TransformerModel(nn.Module):\n",
        "    def __init__(self, input_dim, output_dim, nhead, num_layers):\n",
        "        super(TransformerModel, self).__init__()\n",
        "        self.encoder = nn.TransformerEncoderLayer(d_model=input_dim, nhead=nhead)\n",
        "        self.transformer = nn.TransformerEncoder(self.encoder, num_layers=num_layers)\n",
        "        self.fc = nn.Linear(input_dim, output_dim)\n",
        "\n",
        "    def forward(self, src):\n",
        "        src = self.transformer(src)\n",
        "        return self.fc(src)\n",
        "\n",
        "# Example usage\n",
        "transformer = TransformerModel(input_dim=128, output_dim=10, nhead=8, num_layers=2)\n",
        "src = torch.randn(10, 32, 128)  # Sequence length 10, batch size 32, input dimension 128\n",
        "output = transformer(src)\n",
        "print(\"Transformer output shape:\", output.shape)"
      ]
    }
  ]
}