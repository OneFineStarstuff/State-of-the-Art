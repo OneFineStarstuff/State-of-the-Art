{
  "nbformat": 4,
  "nbformat_minor": 0,
  "metadata": {
    "colab": {
      "private_outputs": true,
      "provenance": [],
      "authorship_tag": "ABX9TyMh3co18qdUMS9FpQJF108A",
      "include_colab_link": true
    },
    "kernelspec": {
      "name": "python3",
      "display_name": "Python 3"
    },
    "language_info": {
      "name": "python"
    }
  },
  "cells": [
    {
      "cell_type": "markdown",
      "metadata": {
        "id": "view-in-github",
        "colab_type": "text"
      },
      "source": [
        "<a href=\"https://colab.research.google.com/github/OneFineStarstuff/State-of-the-Art/blob/main/Transformers.ipynb\" target=\"_parent\"><img src=\"https://colab.research.google.com/assets/colab-badge.svg\" alt=\"Open In Colab\"/></a>"
      ]
    },
    {
      "cell_type": "code",
      "execution_count": null,
      "metadata": {
        "id": "TOmPo4uAo2wo"
      },
      "outputs": [],
      "source": [
        "import torch\n",
        "import torch.nn as nn\n",
        "\n",
        "class TransformerModel(nn.Module):\n",
        "    def __init__(self, input_dim, model_dim, num_heads, num_layers, dropout=0.1):\n",
        "        super(TransformerModel, self).__init__()\n",
        "        self.input_projection = nn.Linear(input_dim, model_dim)\n",
        "        self.encoder_layer = nn.TransformerEncoderLayer(\n",
        "            d_model=model_dim,\n",
        "            nhead=num_heads,\n",
        "            dropout=dropout\n",
        "        )\n",
        "        self.transformer_encoder = nn.TransformerEncoder(self.encoder_layer, num_layers=num_layers)\n",
        "        self.fc = nn.Linear(model_dim, input_dim)\n",
        "\n",
        "    def forward(self, src):\n",
        "        src = self.input_projection(src)  # Project input to model dimension\n",
        "        output = self.transformer_encoder(src)\n",
        "        return self.fc(output)\n",
        "\n",
        "# Example usage\n",
        "input_data = torch.randn(10, 5, 64)  # Batch size of 10, sequence length of 5, input dimension 64\n",
        "transformer = TransformerModel(input_dim=64, model_dim=128, num_heads=8, num_layers=2)\n",
        "output = transformer(input_data)\n",
        "print(\"Transformer output shape:\", output.shape)  # Expected shape: [10, 5, 64]"
      ]
    }
  ]
}