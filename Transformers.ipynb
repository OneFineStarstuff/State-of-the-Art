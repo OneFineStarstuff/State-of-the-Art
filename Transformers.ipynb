{
  "nbformat": 4,
  "nbformat_minor": 0,
  "metadata": {
    "colab": {
      "private_outputs": true,
      "provenance": [],
      "authorship_tag": "ABX9TyN5jiIFKCL7xHSstYEpW203",
      "include_colab_link": true
    },
    "kernelspec": {
      "name": "python3",
      "display_name": "Python 3"
    },
    "language_info": {
      "name": "python"
    }
  },
  "cells": [
    {
      "cell_type": "markdown",
      "metadata": {
        "id": "view-in-github",
        "colab_type": "text"
      },
      "source": [
        "<a href=\"https://colab.research.google.com/github/OneFineStarstuff/State-of-the-Art/blob/main/Transformers.ipynb\" target=\"_parent\"><img src=\"https://colab.research.google.com/assets/colab-badge.svg\" alt=\"Open In Colab\"/></a>"
      ]
    },
    {
      "cell_type": "code",
      "execution_count": null,
      "metadata": {
        "id": "wSmz72MNG-fF"
      },
      "outputs": [],
      "source": [
        "import torch\n",
        "import torch.nn as nn\n",
        "import numpy as np\n",
        "from torch.utils.data import DataLoader, TensorDataset\n",
        "\n",
        "# Device configuration\n",
        "device = torch.device(\"cuda\" if torch.cuda.is_available() else \"cpu\")\n",
        "\n",
        "# Generate synthetic time series data\n",
        "def generate_data(seq_length, num_samples):\n",
        "    x = np.linspace(0, 50, seq_length * num_samples + 1)  # Adjusted length to seq_length * num_samples + 1\n",
        "    y = np.sin(x) + np.random.normal(0, 0.1, len(x))\n",
        "    x = y[:-1].reshape(num_samples, seq_length, 1)\n",
        "    y = y[1:].reshape(num_samples, seq_length, 1)\n",
        "    return torch.Tensor(x), torch.Tensor(y)\n",
        "\n",
        "x, y = generate_data(seq_length=50, num_samples=1000)\n",
        "x, y = x.to(device), y.to(device)\n",
        "\n",
        "# Define a simple Transformer model for time series forecasting\n",
        "class TransformerTimeSeries(nn.Module):\n",
        "    def __init__(self, input_dim, hidden_dim, output_dim, n_heads, num_layers):\n",
        "        super(TransformerTimeSeries, self).__init__()\n",
        "        self.input_projection = nn.Linear(input_dim, hidden_dim)\n",
        "        self.encoder = nn.TransformerEncoder(\n",
        "            nn.TransformerEncoderLayer(d_model=hidden_dim, nhead=n_heads),\n",
        "            num_layers=num_layers\n",
        "        )\n",
        "        self.linear = nn.Linear(hidden_dim, output_dim)\n",
        "\n",
        "    def forward(self, src):\n",
        "        src = self.input_projection(src)  # Project input to hidden dimension\n",
        "        src = src.permute(1, 0, 2)  # (batch_size, seq_length, input_dim) -> (seq_length, batch_size, input_dim)\n",
        "        output = self.encoder(src)\n",
        "        output = output.permute(1, 0, 2)  # Back to (batch_size, seq_length, hidden_dim)\n",
        "        return self.linear(output)\n",
        "\n",
        "# Create DataLoader\n",
        "dataset = TensorDataset(x, y)\n",
        "dataloader = DataLoader(dataset, batch_size=32, shuffle=True)\n",
        "\n",
        "# Initialize the model\n",
        "model = TransformerTimeSeries(input_dim=1, hidden_dim=64, output_dim=1, n_heads=4, num_layers=2).to(device)\n",
        "criterion = nn.MSELoss()\n",
        "optimizer = torch.optim.Adam(model.parameters(), lr=0.001)\n",
        "\n",
        "# Training loop\n",
        "for epoch in range(20):\n",
        "    model.train()\n",
        "    for batch_x, batch_y in dataloader:\n",
        "        optimizer.zero_grad()\n",
        "        batch_x, batch_y = batch_x.to(device), batch_y.to(device)\n",
        "        output = model(batch_x)\n",
        "        loss = criterion(output, batch_y)\n",
        "        loss.backward()\n",
        "        optimizer.step()\n",
        "    print(f\"Epoch {epoch+1}, Loss: {loss.item()}\")\n",
        "\n",
        "# Evaluation on a test set (example, not implemented here)\n",
        "model.eval()\n",
        "with torch.no_grad():\n",
        "    test_loss = 0.0\n",
        "    for batch_x, batch_y in dataloader:  # Use your test dataloader here\n",
        "        batch_x, batch_y = batch_x.to(device), batch_y.to(device)\n",
        "        output = model(batch_x)\n",
        "        loss = criterion(output, batch_y)\n",
        "        test_loss += loss.item()\n",
        "    test_loss /= len(dataloader)\n",
        "    print(f\"Test Loss: {test_loss}\")"
      ]
    }
  ]
}