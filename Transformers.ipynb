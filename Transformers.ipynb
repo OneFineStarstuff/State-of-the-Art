{
  "nbformat": 4,
  "nbformat_minor": 0,
  "metadata": {
    "colab": {
      "private_outputs": true,
      "provenance": [],
      "authorship_tag": "ABX9TyNeOT69lqTv2qZvGVtXSGO4",
      "include_colab_link": true
    },
    "kernelspec": {
      "name": "python3",
      "display_name": "Python 3"
    },
    "language_info": {
      "name": "python"
    }
  },
  "cells": [
    {
      "cell_type": "markdown",
      "metadata": {
        "id": "view-in-github",
        "colab_type": "text"
      },
      "source": [
        "<a href=\"https://colab.research.google.com/github/OneFineStarstuff/State-of-the-Art/blob/main/Transformers.ipynb\" target=\"_parent\"><img src=\"https://colab.research.google.com/assets/colab-badge.svg\" alt=\"Open In Colab\"/></a>"
      ]
    },
    {
      "cell_type": "code",
      "execution_count": null,
      "metadata": {
        "id": "dt3MJvUGgVSU"
      },
      "outputs": [],
      "source": [
        "from transformers import BertTokenizer, BertModel\n",
        "import torch\n",
        "\n",
        "# Load pre-trained BERT model and tokenizer\n",
        "tokenizer = BertTokenizer.from_pretrained('bert-base-uncased')\n",
        "model = BertModel.from_pretrained('bert-base-uncased')\n",
        "\n",
        "# Tokenize input text with padding and truncation\n",
        "text = \"Deep learning transformers are powerful.\"\n",
        "inputs = tokenizer(text, return_tensors=\"pt\", padding=True, truncation=True)\n",
        "\n",
        "# Forward pass through the model\n",
        "outputs = model(**inputs)\n",
        "\n",
        "# Extract the last hidden states\n",
        "last_hidden_states = outputs.last_hidden_state\n",
        "\n",
        "# Print the shape of the last hidden states\n",
        "print(\"Last hidden states shape:\", last_hidden_states.shape)\n",
        "\n",
        "# Optional: Extract the [CLS] token representation for sentence-level tasks\n",
        "cls_representation = last_hidden_states[:, 0, :]  # First token (CLS token)\n",
        "print(\"CLS Token Representation Shape:\", cls_representation.shape)\n",
        "\n",
        "# Example: Process input with a longer sequence for comparison\n",
        "long_text = \"Transformers have revolutionized NLP and are being applied to many other fields like vision, speech, and biology.\"\n",
        "long_inputs = tokenizer(long_text, return_tensors=\"pt\", padding=True, truncation=True)\n",
        "long_outputs = model(**long_inputs)\n",
        "long_hidden_states = long_outputs.last_hidden_state\n",
        "print(\"Long text last hidden states shape:\", long_hidden_states.shape)"
      ]
    }
  ]
}