{
  "nbformat": 4,
  "nbformat_minor": 0,
  "metadata": {
    "colab": {
      "private_outputs": true,
      "provenance": [],
      "authorship_tag": "ABX9TyMt7xs/kNp4wCOJ4Ce1V/73",
      "include_colab_link": true
    },
    "kernelspec": {
      "name": "python3",
      "display_name": "Python 3"
    },
    "language_info": {
      "name": "python"
    }
  },
  "cells": [
    {
      "cell_type": "markdown",
      "metadata": {
        "id": "view-in-github",
        "colab_type": "text"
      },
      "source": [
        "<a href=\"https://colab.research.google.com/github/OneFineStarstuff/State-of-the-Art/blob/main/Transformers.ipynb\" target=\"_parent\"><img src=\"https://colab.research.google.com/assets/colab-badge.svg\" alt=\"Open In Colab\"/></a>"
      ]
    },
    {
      "cell_type": "code",
      "execution_count": null,
      "metadata": {
        "id": "wuXF9Z-uSZan"
      },
      "outputs": [],
      "source": [
        "import torch\n",
        "import torch.nn as nn\n",
        "import torch.optim as optim\n",
        "\n",
        "# Define the Transformer model\n",
        "class TransformerModel(nn.Module):\n",
        "    def __init__(self, input_dim, model_dim, output_dim, n_heads, n_layers, dropout):\n",
        "        super(TransformerModel, self).__init__()\n",
        "        self.embedding = nn.Embedding(input_dim, model_dim)\n",
        "        self.transformer = nn.Transformer(d_model=model_dim, nhead=n_heads, num_encoder_layers=n_layers,\n",
        "                                          num_decoder_layers=n_layers, dropout=dropout)\n",
        "        self.fc = nn.Linear(model_dim, output_dim)\n",
        "\n",
        "    def forward(self, src, tgt, src_mask=None, tgt_mask=None, memory_mask=None):\n",
        "        src_emb = self.embedding(src) * torch.sqrt(torch.tensor([src.size(-1)], dtype=torch.float32))\n",
        "        tgt_emb = self.embedding(tgt) * torch.sqrt(torch.tensor([tgt.size(-1)], dtype=torch.float32))\n",
        "        output = self.transformer(src_emb, tgt_emb, src_mask, tgt_mask, memory_mask)\n",
        "        return self.fc(output)\n",
        "\n",
        "# Initialize the model, optimizer, and loss function\n",
        "input_dim = 1000  # Vocabulary size for source and target\n",
        "model_dim = 512\n",
        "output_dim = input_dim  # Output dimension is same as input for sequence-to-sequence\n",
        "n_heads = 8\n",
        "n_layers = 6\n",
        "dropout = 0.1\n",
        "\n",
        "model = TransformerModel(input_dim, model_dim, output_dim, n_heads, n_layers, dropout)\n",
        "optimizer = optim.Adam(model.parameters(), lr=1e-4)\n",
        "criterion = nn.CrossEntropyLoss()\n",
        "\n",
        "# Training loop (pseudo data for demonstration)\n",
        "num_epochs = 5\n",
        "for epoch in range(num_epochs):\n",
        "    src = torch.randint(0, input_dim, (10, 32))  # (sequence length, batch size)\n",
        "    tgt = torch.randint(0, input_dim, (10, 32))\n",
        "    tgt_input = tgt[:-1, :]\n",
        "    tgt_output = tgt[1:, :]\n",
        "\n",
        "    optimizer.zero_grad()\n",
        "    output = model(src, tgt_input)\n",
        "    loss = criterion(output.view(-1, output_dim), tgt_output.view(-1))\n",
        "    loss.backward()\n",
        "    optimizer.step()\n",
        "\n",
        "    print(f'Epoch {epoch + 1}, Loss: {loss.item():.4f}')"
      ]
    },
    {
      "cell_type": "code",
      "source": [
        "import torch\n",
        "import torch.nn as nn\n",
        "import torch.optim as optim\n",
        "\n",
        "# Define the Transformer model\n",
        "class TransformerModel(nn.Module):\n",
        "    def __init__(self, input_dim, model_dim, output_dim, n_heads, n_layers, dropout):\n",
        "        super(TransformerModel, self).__init__()\n",
        "        self.embedding = nn.Embedding(input_dim, model_dim)\n",
        "        self.transformer = nn.Transformer(d_model=model_dim, nhead=n_heads, num_encoder_layers=n_layers,\n",
        "                                          num_decoder_layers=n_layers, dropout=dropout, batch_first=True)\n",
        "        self.fc = nn.Linear(model_dim, output_dim)\n",
        "\n",
        "    def forward(self, src, tgt, src_mask=None, tgt_mask=None, memory_mask=None):\n",
        "        src_emb = self.embedding(src) * torch.sqrt(torch.tensor(model_dim, dtype=torch.float32))\n",
        "        tgt_emb = self.embedding(tgt) * torch.sqrt(torch.tensor(model_dim, dtype=torch.float32))\n",
        "        output = self.transformer(src_emb, tgt_emb, src_mask, tgt_mask, memory_mask)\n",
        "        return self.fc(output)\n",
        "\n",
        "# Initialize the model, optimizer, and loss function\n",
        "input_dim = 1000  # Vocabulary size for source and target\n",
        "model_dim = 512\n",
        "output_dim = input_dim  # Output dimension is same as input for sequence-to-sequence\n",
        "n_heads = 8\n",
        "n_layers = 6\n",
        "dropout = 0.1\n",
        "\n",
        "model = TransformerModel(input_dim, model_dim, output_dim, n_heads, n_layers, dropout)\n",
        "optimizer = optim.Adam(model.parameters(), lr=1e-4)\n",
        "criterion = nn.CrossEntropyLoss()\n",
        "\n",
        "# Training loop (pseudo data for demonstration)\n",
        "num_epochs = 5\n",
        "for epoch in range(num_epochs):\n",
        "    src = torch.randint(0, input_dim, (32, 10))  # (batch size, sequence length)\n",
        "    tgt = torch.randint(0, input_dim, (32, 10))\n",
        "    tgt_input = tgt[:, :-1]\n",
        "    tgt_output = tgt[:, 1:]\n",
        "\n",
        "    optimizer.zero_grad()\n",
        "    output = model(src, tgt_input)\n",
        "    output = output.permute(0, 2, 1)  # (batch size, output_dim, sequence length)\n",
        "    loss = criterion(output, tgt_output)\n",
        "    loss.backward()\n",
        "    optimizer.step()\n",
        "\n",
        "    print(f'Epoch {epoch + 1}, Loss: {loss.item():.4f}')"
      ],
      "metadata": {
        "id": "kAHKH0_LTDZG"
      },
      "execution_count": null,
      "outputs": []
    }
  ]
}