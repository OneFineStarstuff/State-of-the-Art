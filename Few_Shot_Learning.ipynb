{
  "nbformat": 4,
  "nbformat_minor": 0,
  "metadata": {
    "colab": {
      "private_outputs": true,
      "provenance": [],
      "authorship_tag": "ABX9TyNrOIBEQQISJshdBnCrpevU",
      "include_colab_link": true
    },
    "kernelspec": {
      "name": "python3",
      "display_name": "Python 3"
    },
    "language_info": {
      "name": "python"
    }
  },
  "cells": [
    {
      "cell_type": "markdown",
      "metadata": {
        "id": "view-in-github",
        "colab_type": "text"
      },
      "source": [
        "<a href=\"https://colab.research.google.com/github/OneFineStarstuff/State-of-the-Art/blob/main/Few_Shot_Learning.ipynb\" target=\"_parent\"><img src=\"https://colab.research.google.com/assets/colab-badge.svg\" alt=\"Open In Colab\"/></a>"
      ]
    },
    {
      "cell_type": "code",
      "execution_count": null,
      "metadata": {
        "id": "vWCsKIWdDVAR"
      },
      "outputs": [],
      "source": [
        "import torch\n",
        "import torch.nn as nn\n",
        "import torch.nn.functional as F\n",
        "\n",
        "# Define the PrototypicalNetwork class\n",
        "class PrototypicalNetwork(nn.Module):\n",
        "    def __init__(self, embedding_dim):\n",
        "        super(PrototypicalNetwork, self).__init__()\n",
        "        self.embedding = nn.Sequential(\n",
        "            nn.Conv2d(1, 64, kernel_size=3),  # First convolutional layer\n",
        "            nn.ReLU(),  # ReLU activation\n",
        "            nn.MaxPool2d(2),  # Max pooling\n",
        "            nn.Conv2d(64, 128, kernel_size=3),  # Second convolutional layer\n",
        "            nn.ReLU(),  # ReLU activation\n",
        "            nn.MaxPool2d(2),  # Max pooling\n",
        "        )\n",
        "        self.fc = nn.Linear(128 * 5 * 5, embedding_dim)  # Fully connected layer\n",
        "\n",
        "    def forward(self, x):\n",
        "        x = self.embedding(x)  # Forward pass through the embedding network\n",
        "        x = x.view(x.size(0), -1)  # Flatten the tensor\n",
        "        x = self.fc(x)  # Apply fully connected layer\n",
        "        return x\n",
        "\n",
        "# Define the function to compute prototypes\n",
        "def compute_prototypes(embeddings, labels, num_classes):\n",
        "    prototypes = torch.zeros((num_classes, embeddings.size(1)))  # Initialize prototypes\n",
        "    for i in range(num_classes):\n",
        "        class_embeddings = embeddings[labels == i]  # Get embeddings of the current class\n",
        "        prototypes[i] = class_embeddings.mean(dim=0)  # Compute the mean embedding for the class\n",
        "    return prototypes\n",
        "\n",
        "# Example usage\n",
        "model = PrototypicalNetwork(embedding_dim=64)\n",
        "input_data = torch.randn(32, 1, 28, 28)  # Example input (batch_size=32, channels=1, height=28, width=28)\n",
        "labels = torch.randint(0, 5, (32,))  # Example labels (batch_size=32, num_classes=5)\n",
        "embeddings = model(input_data)  # Compute embeddings\n",
        "prototypes = compute_prototypes(embeddings, labels, num_classes=5)\n",
        "\n",
        "# Print the shape of the prototypes\n",
        "print(prototypes.shape)  # Expected shape: [5, 64]"
      ]
    }
  ]
}