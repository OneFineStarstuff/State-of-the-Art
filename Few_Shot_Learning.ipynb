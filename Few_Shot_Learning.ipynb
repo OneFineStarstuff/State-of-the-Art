{
  "nbformat": 4,
  "nbformat_minor": 0,
  "metadata": {
    "colab": {
      "private_outputs": true,
      "provenance": [],
      "authorship_tag": "ABX9TyMO+l/A+2gQssvKgsIoHO/g",
      "include_colab_link": true
    },
    "kernelspec": {
      "name": "python3",
      "display_name": "Python 3"
    },
    "language_info": {
      "name": "python"
    }
  },
  "cells": [
    {
      "cell_type": "markdown",
      "metadata": {
        "id": "view-in-github",
        "colab_type": "text"
      },
      "source": [
        "<a href=\"https://colab.research.google.com/github/OneFineStarstuff/State-of-the-Art/blob/main/Few_Shot_Learning.ipynb\" target=\"_parent\"><img src=\"https://colab.research.google.com/assets/colab-badge.svg\" alt=\"Open In Colab\"/></a>"
      ]
    },
    {
      "cell_type": "code",
      "execution_count": null,
      "metadata": {
        "id": "eXdfkfN1E2S2"
      },
      "outputs": [],
      "source": [
        "import torch\n",
        "import torch.nn as nn\n",
        "\n",
        "class PrototypicalNetwork(nn.Module):\n",
        "    def __init__(self, input_dim, n_classes, embedding_dim):\n",
        "        super(PrototypicalNetwork, self).__init__()\n",
        "        self.embedding = nn.Sequential(\n",
        "            nn.Linear(input_dim, 128),\n",
        "            nn.ReLU(),\n",
        "            nn.Linear(128, embedding_dim)\n",
        "        )\n",
        "        self.n_classes = n_classes\n",
        "\n",
        "    def forward(self, x):\n",
        "        return self.embedding(x)\n",
        "\n",
        "    def predict(self, query, support, support_labels):\n",
        "        \"\"\"\n",
        "        Args:\n",
        "            query: (num_query_samples, input_dim)\n",
        "            support: (num_support_samples, input_dim)\n",
        "            support_labels: (num_support_samples,)\n",
        "        Returns:\n",
        "            predictions: (num_query_samples,)\n",
        "        \"\"\"\n",
        "        # Embed query and support\n",
        "        query_embedded = self.embedding(query)  # (num_query_samples, embedding_dim)\n",
        "        support_embedded = self.embedding(support)  # (num_support_samples, embedding_dim)\n",
        "\n",
        "        # Compute prototypes for each class\n",
        "        prototypes = torch.stack([\n",
        "            support_embedded[support_labels == c].mean(dim=0) for c in range(self.n_classes)\n",
        "        ])  # (n_classes, embedding_dim)\n",
        "\n",
        "        # Compute Euclidean distances\n",
        "        dists = torch.cdist(query_embedded, prototypes)  # (num_query_samples, n_classes)\n",
        "        return torch.argmin(dists, dim=1)  # Predicted class indices for queries\n",
        "\n",
        "# Example usage\n",
        "model = PrototypicalNetwork(input_dim=784, n_classes=5, embedding_dim=64)\n",
        "\n",
        "# Example support set with labels\n",
        "support_set = torch.randn(25, 784)  # 25 samples (5 samples per class, 5 classes)\n",
        "support_labels = torch.tensor([0, 0, 0, 0, 0, 1, 1, 1, 1, 1, 2, 2, 2, 2, 2, 3, 3, 3, 3, 3, 4, 4, 4, 4, 4])\n",
        "\n",
        "# Example query set\n",
        "query_set = torch.randn(10, 784)  # 10 query samples\n",
        "\n",
        "# Predict classes for the query set\n",
        "predictions = model.predict(query_set, support_set, support_labels)\n",
        "print(\"Predicted Classes:\", predictions)"
      ]
    }
  ]
}