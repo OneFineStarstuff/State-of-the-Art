{
  "nbformat": 4,
  "nbformat_minor": 0,
  "metadata": {
    "colab": {
      "private_outputs": true,
      "provenance": [],
      "authorship_tag": "ABX9TyN418K2eXV750Nb0nIbnufr",
      "include_colab_link": true
    },
    "kernelspec": {
      "name": "python3",
      "display_name": "Python 3"
    },
    "language_info": {
      "name": "python"
    }
  },
  "cells": [
    {
      "cell_type": "markdown",
      "metadata": {
        "id": "view-in-github",
        "colab_type": "text"
      },
      "source": [
        "<a href=\"https://colab.research.google.com/github/OneFineStarstuff/State-of-the-Art/blob/main/Few_Shot_Learning.ipynb\" target=\"_parent\"><img src=\"https://colab.research.google.com/assets/colab-badge.svg\" alt=\"Open In Colab\"/></a>"
      ]
    },
    {
      "cell_type": "code",
      "execution_count": null,
      "metadata": {
        "id": "IxfwYEhT_eIL"
      },
      "outputs": [],
      "source": [
        "import torch\n",
        "import torch.nn as nn\n",
        "import torch.optim as optim\n",
        "\n",
        "# Define the SimpleFewShotModel class\n",
        "class SimpleFewShotModel(nn.Module):\n",
        "    def __init__(self, input_dim, output_dim):\n",
        "        super(SimpleFewShotModel, self).__init__()\n",
        "        self.fc1 = nn.Linear(input_dim, 128)  # First fully connected layer\n",
        "        self.fc2 = nn.Linear(128, output_dim)  # Second fully connected layer\n",
        "\n",
        "    def forward(self, x):\n",
        "        x = torch.relu(self.fc1(x))  # Apply ReLU activation after the first layer\n",
        "        return self.fc2(x)  # Output layer\n",
        "\n",
        "# Define the train_few_shot function\n",
        "def train_few_shot(model, support_data, support_labels, query_data, query_labels, inner_steps=1, lr=0.01):\n",
        "    optimizer = optim.SGD(model.parameters(), lr=lr)  # Optimizer\n",
        "    criterion = nn.CrossEntropyLoss()  # Loss function\n",
        "\n",
        "    for _ in range(inner_steps):\n",
        "        optimizer.zero_grad()  # Zero the gradients\n",
        "        output = model(support_data)  # Forward pass with support data\n",
        "        loss = criterion(output, support_labels)  # Compute the loss\n",
        "        loss.backward()  # Backpropagate the loss\n",
        "        optimizer.step()  # Update the model parameters\n",
        "\n",
        "    with torch.no_grad():\n",
        "        query_output = model(query_data)  # Forward pass with query data\n",
        "        query_loss = criterion(query_output, query_labels)  # Compute the query loss\n",
        "    return query_loss.item()  # Return the query loss\n",
        "\n",
        "# Example usage\n",
        "model = SimpleFewShotModel(input_dim=5, output_dim=2)  # Instantiate the model\n",
        "support_data = torch.randn(10, 5)  # 10 support examples\n",
        "support_labels = torch.randint(0, 2, (10,))  # Support labels\n",
        "query_data = torch.randn(5, 5)  # 5 query examples\n",
        "query_labels = torch.randint(0, 2, (5,))  # Query labels\n",
        "loss = train_few_shot(model, support_data, support_labels, query_data, query_labels)  # Perform few-shot learning\n",
        "print(\"Few-shot learning query loss:\", loss)  # Print the query loss"
      ]
    }
  ]
}