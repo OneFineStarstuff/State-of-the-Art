{
  "nbformat": 4,
  "nbformat_minor": 0,
  "metadata": {
    "colab": {
      "private_outputs": true,
      "provenance": [],
      "authorship_tag": "ABX9TyN29sxxBDzGMXHArB7l4TkP",
      "include_colab_link": true
    },
    "kernelspec": {
      "name": "python3",
      "display_name": "Python 3"
    },
    "language_info": {
      "name": "python"
    }
  },
  "cells": [
    {
      "cell_type": "markdown",
      "metadata": {
        "id": "view-in-github",
        "colab_type": "text"
      },
      "source": [
        "<a href=\"https://colab.research.google.com/github/OneFineStarstuff/State-of-the-Art/blob/main/Few_Shot_Learning.ipynb\" target=\"_parent\"><img src=\"https://colab.research.google.com/assets/colab-badge.svg\" alt=\"Open In Colab\"/></a>"
      ]
    },
    {
      "cell_type": "code",
      "execution_count": null,
      "metadata": {
        "id": "jqYQHDTQ5l9u"
      },
      "outputs": [],
      "source": [
        "import torch\n",
        "import torch.nn as nn\n",
        "import torch.nn.functional as F\n",
        "import torch.optim as optim\n",
        "\n",
        "class PrototypicalNetwork(nn.Module):\n",
        "    def __init__(self, embedding_dim):\n",
        "        super(PrototypicalNetwork, self).__init__()\n",
        "        self.fc = nn.Linear(embedding_dim, embedding_dim)\n",
        "\n",
        "    def forward(self, support_set, query_set):\n",
        "        support_embeddings = self.fc(support_set)\n",
        "        query_embeddings = self.fc(query_set)\n",
        "        support_mean = support_embeddings.mean(dim=1)\n",
        "        distances = torch.cdist(query_embeddings, support_mean)\n",
        "        return -distances\n",
        "\n",
        "def train_prototypical_network(model, support_set, query_set, labels, optimizer):\n",
        "    model.train()\n",
        "    optimizer.zero_grad()\n",
        "    output = model(support_set, query_set)\n",
        "    loss = F.cross_entropy(output, labels)\n",
        "    loss.backward()\n",
        "    optimizer.step()\n",
        "    return loss.item()\n",
        "\n",
        "# Example usage\n",
        "model = PrototypicalNetwork(embedding_dim=64)\n",
        "optimizer = optim.Adam(model.parameters(), lr=0.001)\n",
        "\n",
        "support_set = torch.randn(5, 5, 64)  # 5 classes, 5 examples per class, 64-dimensional embeddings\n",
        "query_set = torch.randn(25, 64)      # 25 query examples\n",
        "labels = torch.randint(0, 5, (25,))  # 25 labels corresponding to 5 classes\n",
        "\n",
        "loss = train_prototypical_network(model, support_set, query_set, labels, optimizer)\n",
        "print(f'Loss: {loss:.4f}')"
      ]
    }
  ]
}