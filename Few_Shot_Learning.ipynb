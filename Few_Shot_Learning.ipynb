{
  "nbformat": 4,
  "nbformat_minor": 0,
  "metadata": {
    "colab": {
      "private_outputs": true,
      "provenance": [],
      "authorship_tag": "ABX9TyMmx8nDsuvR3EBwu2OyK3lr",
      "include_colab_link": true
    },
    "kernelspec": {
      "name": "python3",
      "display_name": "Python 3"
    },
    "language_info": {
      "name": "python"
    }
  },
  "cells": [
    {
      "cell_type": "markdown",
      "metadata": {
        "id": "view-in-github",
        "colab_type": "text"
      },
      "source": [
        "<a href=\"https://colab.research.google.com/github/OneFineStarstuff/State-of-the-Art/blob/main/Few_Shot_Learning.ipynb\" target=\"_parent\"><img src=\"https://colab.research.google.com/assets/colab-badge.svg\" alt=\"Open In Colab\"/></a>"
      ]
    },
    {
      "cell_type": "code",
      "execution_count": null,
      "metadata": {
        "id": "BQ4sGny45z-I"
      },
      "outputs": [],
      "source": [
        "import torch\n",
        "import torch.nn as nn\n",
        "import torch.optim as optim\n",
        "from torch.utils.data import DataLoader, TensorDataset\n",
        "\n",
        "# Define Prototypical Network class\n",
        "class PrototypicalNetwork(nn.Module):\n",
        "    def __init__(self, input_dim, hidden_dim):\n",
        "        super(PrototypicalNetwork, self).__init__()\n",
        "        self.encoder = nn.Sequential(\n",
        "            nn.Linear(input_dim, hidden_dim),\n",
        "            nn.ReLU(),\n",
        "            nn.Linear(hidden_dim, hidden_dim)\n",
        "        )\n",
        "\n",
        "    def forward(self, x):\n",
        "        return self.encoder(x)\n",
        "\n",
        "# Euclidean distance function\n",
        "def euclidean_dist(a, b):\n",
        "    n = a.size(0)\n",
        "    m = b.size(0)\n",
        "    a = a.unsqueeze(1).expand(n, m, -1)\n",
        "    b = b.unsqueeze(0).expand(n, m, -1)\n",
        "    return torch.pow(a - b, 2).sum(2)\n",
        "\n",
        "# Example data (using MNIST-like data with 784 features and 10 classes)\n",
        "support_data = torch.randn(50, 784)  # 50 samples in support set\n",
        "support_labels = torch.randint(0, 10, (50,))\n",
        "query_data = torch.randn(30, 784)  # 30 samples in query set\n",
        "query_labels = torch.randint(0, 10, (30,))\n",
        "\n",
        "# Create DataLoader for training\n",
        "support_loader = DataLoader(TensorDataset(support_data, support_labels), batch_size=50)\n",
        "query_loader = DataLoader(TensorDataset(query_data, query_labels), batch_size=30)\n",
        "\n",
        "model = PrototypicalNetwork(input_dim=784, hidden_dim=64)\n",
        "optimizer = optim.Adam(model.parameters(), lr=0.001)\n",
        "\n",
        "# Training loop\n",
        "epochs = 10\n",
        "for epoch in range(epochs):\n",
        "    model.train()\n",
        "    for (support_data, support_labels), (query_data, query_labels) in zip(support_loader, query_loader):\n",
        "        # Compute support embeddings\n",
        "        support_embeddings = model(support_data)\n",
        "        query_embeddings = model(query_data)\n",
        "\n",
        "        # Compute prototypes for each class\n",
        "        prototypes = torch.stack([support_embeddings[support_labels == i].mean(0) for i in range(10)])\n",
        "\n",
        "        # Compute distances between query embeddings and prototypes\n",
        "        dists = euclidean_dist(query_embeddings, prototypes)\n",
        "\n",
        "        # Compute the loss\n",
        "        target = query_labels\n",
        "        loss = nn.CrossEntropyLoss()(dists, target)\n",
        "\n",
        "        # Backpropagation\n",
        "        optimizer.zero_grad()\n",
        "        loss.backward()\n",
        "        optimizer.step()\n",
        "\n",
        "    print(f\"Epoch {epoch + 1}, Loss: {loss.item():.4f}\")\n",
        "\n",
        "print(\"Training completed.\")"
      ]
    }
  ]
}