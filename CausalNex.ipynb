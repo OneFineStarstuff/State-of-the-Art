{
  "nbformat": 4,
  "nbformat_minor": 0,
  "metadata": {
    "colab": {
      "private_outputs": true,
      "provenance": [],
      "authorship_tag": "ABX9TyOImLj3VWNwrYVLUM4gyUEm",
      "include_colab_link": true
    },
    "kernelspec": {
      "name": "python3",
      "display_name": "Python 3"
    },
    "language_info": {
      "name": "python"
    }
  },
  "cells": [
    {
      "cell_type": "markdown",
      "metadata": {
        "id": "view-in-github",
        "colab_type": "text"
      },
      "source": [
        "<a href=\"https://colab.research.google.com/github/OneFineStarstuff/State-of-the-Art/blob/main/CausalNex.ipynb\" target=\"_parent\"><img src=\"https://colab.research.google.com/assets/colab-badge.svg\" alt=\"Open In Colab\"/></a>"
      ]
    },
    {
      "cell_type": "code",
      "source": [
        "pip install causalnex"
      ],
      "metadata": {
        "id": "G8wswxluhfDW"
      },
      "execution_count": null,
      "outputs": []
    },
    {
      "cell_type": "code",
      "execution_count": null,
      "metadata": {
        "id": "xKp-vfFyhNXH"
      },
      "outputs": [],
      "source": [
        "from causalnex.structure import StructureModel\n",
        "from causalnex.plots import plot_structure, NODE_STYLE, EDGE_STYLE\n",
        "import matplotlib.pyplot as plt\n",
        "\n",
        "# Initialize the Structure Model\n",
        "sm = StructureModel()\n",
        "# Add edges representing causal relationships\n",
        "sm.add_edges_from([('X1', 'X2'), ('X2', 'Y')])\n",
        "\n",
        "# Plot the structure with specified attributes\n",
        "plot_structure(\n",
        "    sm,\n",
        "    graph_attributes={\"scale\": \"1.2\"},\n",
        "    all_node_attributes=NODE_STYLE.WEAK,\n",
        "    all_edge_attributes=EDGE_STYLE.WEAK\n",
        ")\n",
        "\n",
        "# Display the plot\n",
        "plt.show()"
      ]
    }
  ]
}