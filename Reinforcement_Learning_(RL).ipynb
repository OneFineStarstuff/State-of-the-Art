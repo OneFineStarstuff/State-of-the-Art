{
  "nbformat": 4,
  "nbformat_minor": 0,
  "metadata": {
    "colab": {
      "private_outputs": true,
      "provenance": [],
      "authorship_tag": "ABX9TyOx7oGiSgoAJrbwLygO4iQv",
      "include_colab_link": true
    },
    "kernelspec": {
      "name": "python3",
      "display_name": "Python 3"
    },
    "language_info": {
      "name": "python"
    }
  },
  "cells": [
    {
      "cell_type": "markdown",
      "metadata": {
        "id": "view-in-github",
        "colab_type": "text"
      },
      "source": [
        "<a href=\"https://colab.research.google.com/github/OneFineStarstuff/State-of-the-Art/blob/main/Reinforcement_Learning_(RL).ipynb\" target=\"_parent\"><img src=\"https://colab.research.google.com/assets/colab-badge.svg\" alt=\"Open In Colab\"/></a>"
      ]
    },
    {
      "cell_type": "code",
      "source": [
        "!pip install --upgrade numpy\n",
        "!pip install --upgrade gym"
      ],
      "metadata": {
        "id": "zMWKWN7L0KxV"
      },
      "execution_count": null,
      "outputs": []
    },
    {
      "cell_type": "code",
      "execution_count": null,
      "metadata": {
        "id": "UB8dHBiuzk7w"
      },
      "outputs": [],
      "source": [
        "import gym\n",
        "import numpy as np\n",
        "\n",
        "# Initialize the environment\n",
        "env = gym.make('CartPole-v1')\n",
        "\n",
        "# Discretization parameters\n",
        "num_bins = 10  # Number of discrete bins for each state dimension\n",
        "state_bins = [\n",
        "    np.linspace(-4.8, 4.8, num_bins),       # Cart position\n",
        "    np.linspace(-3.0, 3.0, num_bins),       # Cart velocity\n",
        "    np.linspace(-0.418, 0.418, num_bins),   # Pole angle\n",
        "    np.linspace(-2.0, 2.0, num_bins)        # Pole angular velocity\n",
        "]\n",
        "\n",
        "# Function to discretize continuous states\n",
        "def discretize_state(state):\n",
        "    discrete_state = tuple(np.digitize(state[i], state_bins[i]) for i in range(len(state)))\n",
        "    return discrete_state\n",
        "\n",
        "# Initialize Q-table\n",
        "state_space = tuple(num_bins for _ in range(env.observation_space.shape[0]))\n",
        "action_space = env.action_space.n\n",
        "q_table = np.zeros(state_space + (action_space,))\n",
        "\n",
        "# Hyperparameters\n",
        "learning_rate = 0.1\n",
        "discount_factor = 0.99\n",
        "epsilon = 1.0\n",
        "epsilon_decay = 0.995\n",
        "min_epsilon = 0.01\n",
        "\n",
        "# Q-learning training loop\n",
        "for episode in range(1000):\n",
        "    obs = env.reset()  # Reset returns a tuple in this version of Gym\n",
        "    if isinstance(obs, tuple):\n",
        "        obs = obs[0]  # Extract the actual observation from the tuple\n",
        "\n",
        "    state = discretize_state(obs)\n",
        "    done = False\n",
        "    total_reward = 0\n",
        "\n",
        "    while not done:\n",
        "        # Epsilon-greedy action selection\n",
        "        if np.random.rand() < epsilon:\n",
        "            action = env.action_space.sample()\n",
        "        else:\n",
        "            action = np.argmax(q_table[state])\n",
        "\n",
        "        # Perform action and observe result\n",
        "        result = env.step(action)  # Step returns a tuple\n",
        "        next_state_raw, reward, terminated, truncated, _ = result\n",
        "        if isinstance(next_state_raw, tuple):\n",
        "            next_state_raw = next_state_raw[0]  # Extract observation if needed\n",
        "        next_state = discretize_state(next_state_raw)\n",
        "        done = terminated or truncated\n",
        "        total_reward += reward\n",
        "\n",
        "        # Q-value update\n",
        "        best_next_action = np.max(q_table[next_state])\n",
        "        q_table[state][action] = (1 - learning_rate) * q_table[state][action] + \\\n",
        "                                 learning_rate * (reward + discount_factor * best_next_action)\n",
        "\n",
        "        state = next_state\n",
        "\n",
        "    # Update epsilon\n",
        "    epsilon = max(min_epsilon, epsilon * epsilon_decay)\n",
        "    print(f\"Episode {episode + 1}, Total Reward: {total_reward}\")\n",
        "\n",
        "print(\"Training finished.\")\n",
        "env.close()"
      ]
    }
  ]
}