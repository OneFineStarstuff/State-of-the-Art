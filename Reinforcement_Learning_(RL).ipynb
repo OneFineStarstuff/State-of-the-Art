{
  "nbformat": 4,
  "nbformat_minor": 0,
  "metadata": {
    "colab": {
      "private_outputs": true,
      "provenance": [],
      "authorship_tag": "ABX9TyMq7+ogKsUB/9PzuMJYak55",
      "include_colab_link": true
    },
    "kernelspec": {
      "name": "python3",
      "display_name": "Python 3"
    },
    "language_info": {
      "name": "python"
    }
  },
  "cells": [
    {
      "cell_type": "markdown",
      "metadata": {
        "id": "view-in-github",
        "colab_type": "text"
      },
      "source": [
        "<a href=\"https://colab.research.google.com/github/OneFineStarstuff/State-of-the-Art/blob/main/Reinforcement_Learning_(RL).ipynb\" target=\"_parent\"><img src=\"https://colab.research.google.com/assets/colab-badge.svg\" alt=\"Open In Colab\"/></a>"
      ]
    },
    {
      "cell_type": "code",
      "execution_count": null,
      "metadata": {
        "id": "tCYu0G7UQNeh"
      },
      "outputs": [],
      "source": [
        "import torch\n",
        "import torch.nn as nn\n",
        "import torch.optim as optim\n",
        "import random\n",
        "import numpy as np\n",
        "from collections import deque\n",
        "\n",
        "class DQN(nn.Module):\n",
        "    def __init__(self, state_dim, action_dim):\n",
        "        super(DQN, self).__init__()\n",
        "        self.net = nn.Sequential(\n",
        "            nn.Linear(state_dim, 128),\n",
        "            nn.ReLU(),\n",
        "            nn.Linear(128, action_dim)\n",
        "        )\n",
        "\n",
        "    def forward(self, x):\n",
        "        return self.net(x)\n",
        "\n",
        "state_dim = 4  # Example state dimension\n",
        "action_dim = 2  # Example action dimension\n",
        "model = DQN(state_dim, action_dim)  # Removed .to('cuda')\n",
        "optimizer = optim.Adam(model.parameters(), lr=1e-3)\n",
        "criterion = nn.MSELoss()\n",
        "replay_buffer = deque(maxlen=10000)\n",
        "\n",
        "def select_action(state, epsilon):\n",
        "    if random.random() < epsilon:\n",
        "        return random.randint(0, action_dim - 1)\n",
        "    else:\n",
        "        state = torch.FloatTensor(state).unsqueeze(0)\n",
        "        with torch.no_grad():\n",
        "            q_values = model(state)\n",
        "        return torch.argmax(q_values).item()\n",
        "\n",
        "def train(batch_size):\n",
        "    if len(replay_buffer) < batch_size:\n",
        "        return\n",
        "    batch = random.sample(replay_buffer, batch_size)\n",
        "    states, actions, rewards, next_states, dones = zip(*batch)\n",
        "\n",
        "    states = torch.FloatTensor(states)\n",
        "    actions = torch.LongTensor(actions)\n",
        "    rewards = torch.FloatTensor(rewards)\n",
        "    next_states = torch.FloatTensor(next_states)\n",
        "    dones = torch.FloatTensor(dones)\n",
        "\n",
        "    q_values = model(states)\n",
        "    next_q_values = model(next_states)\n",
        "    target_q_values = rewards + (1 - dones) * 0.99 * torch.max(next_q_values, dim=1)[0]\n",
        "\n",
        "    q_values = q_values.gather(1, actions.unsqueeze(1)).squeeze(1)\n",
        "    loss = criterion(q_values, target_q_values)\n",
        "\n",
        "    optimizer.zero_grad()\n",
        "    loss.backward()\n",
        "    optimizer.step()\n",
        "\n",
        "# Dummy data for interaction\n",
        "state = np.random.rand(state_dim)\n",
        "action = select_action(state, epsilon=0.1)\n",
        "replay_buffer.append((state, action, 1.0, np.random.rand(state_dim), False))\n",
        "\n",
        "for epoch in range(50):\n",
        "    train(batch_size=32)\n",
        "    print(f\"Epoch {epoch+1} completed\")"
      ]
    }
  ]
}