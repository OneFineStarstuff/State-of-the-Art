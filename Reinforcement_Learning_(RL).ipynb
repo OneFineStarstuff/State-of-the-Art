{
  "nbformat": 4,
  "nbformat_minor": 0,
  "metadata": {
    "colab": {
      "private_outputs": true,
      "provenance": [],
      "authorship_tag": "ABX9TyPiBz6bLWvR5QU3bToDR3N4",
      "include_colab_link": true
    },
    "kernelspec": {
      "name": "python3",
      "display_name": "Python 3"
    },
    "language_info": {
      "name": "python"
    }
  },
  "cells": [
    {
      "cell_type": "markdown",
      "metadata": {
        "id": "view-in-github",
        "colab_type": "text"
      },
      "source": [
        "<a href=\"https://colab.research.google.com/github/OneFineStarstuff/State-of-the-Art/blob/main/Reinforcement_Learning_(RL).ipynb\" target=\"_parent\"><img src=\"https://colab.research.google.com/assets/colab-badge.svg\" alt=\"Open In Colab\"/></a>"
      ]
    },
    {
      "cell_type": "code",
      "execution_count": null,
      "metadata": {
        "id": "1zKkkh_25DUt"
      },
      "outputs": [],
      "source": [
        "import numpy as np\n",
        "\n",
        "class QLearningAgent:\n",
        "    def __init__(self, state_size, action_size, learning_rate=0.1, discount_factor=0.99, exploration_rate=1.0, exploration_decay=0.995):\n",
        "        self.state_size = state_size\n",
        "        self.action_size = action_size\n",
        "        self.q_table = np.zeros((state_size, action_size))\n",
        "        self.learning_rate = learning_rate\n",
        "        self.discount_factor = discount_factor\n",
        "        self.exploration_rate = exploration_rate\n",
        "        self.exploration_decay = exploration_decay\n",
        "\n",
        "    def choose_action(self, state):\n",
        "        if np.random.rand() < self.exploration_rate:\n",
        "            return np.random.choice(self.action_size)\n",
        "        return np.argmax(self.q_table[state])\n",
        "\n",
        "    def update_q_value(self, state, action, reward, next_state):\n",
        "        best_next_action = np.argmax(self.q_table[next_state])\n",
        "        td_target = reward + self.discount_factor * self.q_table[next_state, best_next_action]\n",
        "        td_error = td_target - self.q_table[state, action]\n",
        "        self.q_table[state, action] += self.learning_rate * td_error\n",
        "        self.exploration_rate *= self.exploration_decay\n",
        "\n",
        "# Example environment: Simple grid world with 5 states and 2 actions\n",
        "env_states = 5\n",
        "env_actions = 2\n",
        "agent = QLearningAgent(state_size=env_states, action_size=env_actions)\n",
        "\n",
        "for episode in range(1000):\n",
        "    state = np.random.randint(0, env_states)\n",
        "    for step in range(100):\n",
        "        action = agent.choose_action(state)\n",
        "        next_state = (state + 1) % env_states  # Simple transition\n",
        "        reward = 1 if next_state == 4 else 0\n",
        "        agent.update_q_value(state, action, reward, next_state)\n",
        "        state = next_state\n",
        "\n",
        "print(\"Q-table after training:\")\n",
        "print(agent.q_table)"
      ]
    }
  ]
}