{
  "nbformat": 4,
  "nbformat_minor": 0,
  "metadata": {
    "colab": {
      "private_outputs": true,
      "provenance": [],
      "authorship_tag": "ABX9TyPrQyoG8yCTran8qelW1uUU",
      "include_colab_link": true
    },
    "kernelspec": {
      "name": "python3",
      "display_name": "Python 3"
    },
    "language_info": {
      "name": "python"
    }
  },
  "cells": [
    {
      "cell_type": "markdown",
      "metadata": {
        "id": "view-in-github",
        "colab_type": "text"
      },
      "source": [
        "<a href=\"https://colab.research.google.com/github/OneFineStarstuff/State-of-the-Art/blob/main/Reinforcement_Learning_(RL).ipynb\" target=\"_parent\"><img src=\"https://colab.research.google.com/assets/colab-badge.svg\" alt=\"Open In Colab\"/></a>"
      ]
    },
    {
      "cell_type": "code",
      "execution_count": null,
      "metadata": {
        "id": "UayKlROIEnV0"
      },
      "outputs": [],
      "source": [
        "import torch\n",
        "import torch.nn as nn\n",
        "import torch.optim as optim\n",
        "import random\n",
        "import numpy as np\n",
        "from collections import deque\n",
        "\n",
        "# Define a simple neural network for Q-value estimation\n",
        "class DQN(nn.Module):\n",
        "    def __init__(self, state_dim, action_dim):\n",
        "        super(DQN, self).__init__()\n",
        "        self.fc1 = nn.Linear(state_dim, 128)\n",
        "        self.fc2 = nn.Linear(128, 64)\n",
        "        self.fc3 = nn.Linear(64, action_dim)\n",
        "\n",
        "    def forward(self, x):\n",
        "        x = torch.relu(self.fc1(x))\n",
        "        x = torch.relu(self.fc2(x))\n",
        "        return self.fc3(x)\n",
        "\n",
        "# Experience Replay Buffer\n",
        "class ReplayBuffer:\n",
        "    def __init__(self, capacity):\n",
        "        self.buffer = deque(maxlen=capacity)\n",
        "\n",
        "    def push(self, state, action, reward, next_state, done):\n",
        "        self.buffer.append((state, action, reward, next_state, done))\n",
        "\n",
        "    def sample(self, batch_size):\n",
        "        state, action, reward, next_state, done = zip(*random.sample(self.buffer, batch_size))\n",
        "        return state, action, reward, next_state, done\n",
        "\n",
        "    def __len__(self):\n",
        "        return len(self.buffer)\n",
        "\n",
        "# Define the environment and hyperparameters\n",
        "state_dim = 4\n",
        "action_dim = 2\n",
        "batch_size = 32\n",
        "gamma = 0.99\n",
        "lr = 0.001\n",
        "buffer_capacity = 1000\n",
        "\n",
        "dqn = DQN(state_dim, action_dim)\n",
        "buffer = ReplayBuffer(buffer_capacity)\n",
        "optimizer = optim.Adam(dqn.parameters(), lr=lr)\n",
        "criterion = nn.MSELoss()\n",
        "\n",
        "# Simulated interaction loop (replace with actual environment)\n",
        "def train_dqn(episodes=500):\n",
        "    for episode in range(episodes):\n",
        "        state = np.random.rand(state_dim)  # Example initial state\n",
        "        total_reward = 0\n",
        "        for _ in range(100):  # Example steps per episode\n",
        "            action = random.choice(range(action_dim))\n",
        "            next_state = np.random.rand(state_dim)\n",
        "            reward = np.random.rand()\n",
        "            done = random.choice([False, True])\n",
        "            buffer.push(state, action, reward, next_state, done)\n",
        "\n",
        "            state = next_state\n",
        "            total_reward += reward\n",
        "            if done:\n",
        "                break\n",
        "\n",
        "            if len(buffer) > batch_size:\n",
        "                states, actions, rewards, next_states, dones = buffer.sample(batch_size)\n",
        "                states = torch.tensor(states, dtype=torch.float)\n",
        "                actions = torch.tensor(actions, dtype=torch.long)\n",
        "                rewards = torch.tensor(rewards, dtype=torch.float)\n",
        "                next_states = torch.tensor(next_states, dtype=torch.float)\n",
        "                dones = torch.tensor(dones, dtype=torch.float)\n",
        "\n",
        "                q_values = dqn(states).gather(1, actions.unsqueeze(1)).squeeze(1)\n",
        "                next_q_values = dqn(next_states).max(1)[0]\n",
        "                expected_q_values = rewards + gamma * next_q_values * (1 - dones)\n",
        "\n",
        "                loss = criterion(q_values, expected_q_values)\n",
        "                optimizer.zero_grad()\n",
        "                loss.backward()\n",
        "                optimizer.step()\n",
        "\n",
        "        print(f\"Episode {episode}, Total Reward: {total_reward}\")\n",
        "\n",
        "train_dqn()"
      ]
    }
  ]
}