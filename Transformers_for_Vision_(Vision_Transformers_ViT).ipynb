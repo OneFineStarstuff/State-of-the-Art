{
  "nbformat": 4,
  "nbformat_minor": 0,
  "metadata": {
    "colab": {
      "private_outputs": true,
      "provenance": [],
      "authorship_tag": "ABX9TyMuES0LLLIdrHes3OTa3u4W",
      "include_colab_link": true
    },
    "kernelspec": {
      "name": "python3",
      "display_name": "Python 3"
    },
    "language_info": {
      "name": "python"
    }
  },
  "cells": [
    {
      "cell_type": "markdown",
      "metadata": {
        "id": "view-in-github",
        "colab_type": "text"
      },
      "source": [
        "<a href=\"https://colab.research.google.com/github/OneFineStarstuff/State-of-the-Art/blob/main/Transformers_for_Vision_(Vision_Transformers_ViT).ipynb\" target=\"_parent\"><img src=\"https://colab.research.google.com/assets/colab-badge.svg\" alt=\"Open In Colab\"/></a>"
      ]
    },
    {
      "cell_type": "code",
      "execution_count": null,
      "metadata": {
        "id": "6cWHSoui5eyo"
      },
      "outputs": [],
      "source": [
        "import torch\n",
        "import torch.nn as nn\n",
        "import torch.nn.functional as F\n",
        "\n",
        "class ViT(nn.Module):\n",
        "    def __init__(self, img_size=224, patch_size=16, in_channels=3, num_classes=1000, embed_dim=768, num_heads=12, num_layers=12):\n",
        "        super(ViT, self).__init__()\n",
        "        self.patch_size = patch_size\n",
        "        self.num_patches = (img_size // patch_size) ** 2\n",
        "        self.proj = nn.Conv2d(in_channels, embed_dim, kernel_size=patch_size, stride=patch_size)\n",
        "        self.cls_token = nn.Parameter(torch.zeros(1, 1, embed_dim))\n",
        "        self.pos_embedding = nn.Parameter(torch.zeros(1, self.num_patches + 1, embed_dim))\n",
        "        self.encoder_layer = nn.TransformerEncoderLayer(d_model=embed_dim, nhead=num_heads)\n",
        "        self.transformer = nn.TransformerEncoder(self.encoder_layer, num_layers=num_layers)\n",
        "        self.mlp_head = nn.Sequential(\n",
        "            nn.LayerNorm(embed_dim),\n",
        "            nn.Linear(embed_dim, num_classes)\n",
        "        )\n",
        "        self.dropout = nn.Dropout(p=0.1)\n",
        "\n",
        "        # Initialize embeddings\n",
        "        nn.init.trunc_normal_(self.cls_token, std=0.02)\n",
        "        nn.init.trunc_normal_(self.pos_embedding, std=0.02)\n",
        "\n",
        "    def forward(self, x):\n",
        "        B = x.shape[0]\n",
        "        x = self.proj(x).flatten(2).transpose(1, 2)  # Shape: (batch_size, num_patches, embed_dim)\n",
        "        cls_tokens = self.cls_token.expand(B, -1, -1)  # Shape: (batch_size, 1, embed_dim)\n",
        "        x = torch.cat((cls_tokens, x), dim=1)  # Concatenate class token\n",
        "        x = self.dropout(x + self.pos_embedding)  # Add position embeddings\n",
        "        x = self.transformer(x)  # Pass through Transformer encoder\n",
        "        x = self.mlp_head(x[:, 0])  # Classification head on [CLS] token\n",
        "        return x\n",
        "\n",
        "# Example usage\n",
        "model = ViT()\n",
        "dummy_input = torch.randn(1, 3, 224, 224)  # Simulated input\n",
        "output = model(dummy_input)\n",
        "print(output.shape)  # Output shape should be (1, 1000)"
      ]
    }
  ]
}