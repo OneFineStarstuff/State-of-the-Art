{
  "nbformat": 4,
  "nbformat_minor": 0,
  "metadata": {
    "colab": {
      "private_outputs": true,
      "provenance": [],
      "authorship_tag": "ABX9TyMMRw5I70UmQrkB1yBrIRO5",
      "include_colab_link": true
    },
    "kernelspec": {
      "name": "python3",
      "display_name": "Python 3"
    },
    "language_info": {
      "name": "python"
    }
  },
  "cells": [
    {
      "cell_type": "markdown",
      "metadata": {
        "id": "view-in-github",
        "colab_type": "text"
      },
      "source": [
        "<a href=\"https://colab.research.google.com/github/OneFineStarstuff/State-of-the-Art/blob/main/Transformers_for_Vision_(Vision_Transformers_ViT).ipynb\" target=\"_parent\"><img src=\"https://colab.research.google.com/assets/colab-badge.svg\" alt=\"Open In Colab\"/></a>"
      ]
    },
    {
      "cell_type": "code",
      "execution_count": null,
      "metadata": {
        "id": "1yjZA2VIBJ5v"
      },
      "outputs": [],
      "source": [
        "import torch\n",
        "import torch.nn as nn\n",
        "\n",
        "class ViT(nn.Module):\n",
        "    def __init__(self, img_size, patch_size, num_classes, d_model, num_heads, num_layers):\n",
        "        super(ViT, self).__init__()\n",
        "        assert img_size % patch_size == 0, \"Image size must be divisible by patch size\"\n",
        "        self.patch_size = patch_size\n",
        "        self.d_model = d_model\n",
        "        self.num_patches = (img_size // patch_size) ** 2\n",
        "\n",
        "        # Layers\n",
        "        self.embedding = nn.Linear(patch_size**2 * 3, d_model)  # Patch to d_model\n",
        "        self.position_embeddings = nn.Parameter(torch.randn(1, self.num_patches, d_model))\n",
        "        self.transformer = nn.Transformer(d_model, num_heads, num_layers, batch_first=True)\n",
        "        self.classifier = nn.Linear(d_model, num_classes)\n",
        "\n",
        "    def forward(self, x):\n",
        "        # Extract patches\n",
        "        x = x.unfold(2, self.patch_size, self.patch_size).unfold(3, self.patch_size, self.patch_size)\n",
        "        x = x.permute(0, 2, 3, 1, 4, 5).contiguous()\n",
        "        x = x.view(x.size(0), self.num_patches, -1)  # Batch x Patches x Flattened Patch\n",
        "\n",
        "        # Add positional embeddings\n",
        "        x = self.embedding(x) + self.position_embeddings  # [batch_size, num_patches, d_model]\n",
        "\n",
        "        # Pass through Transformer\n",
        "        x = self.transformer(x, x)  # [batch_size, num_patches, d_model]\n",
        "\n",
        "        # Classification token (mean pooling)\n",
        "        x = x.mean(dim=1)  # Global representation\n",
        "        return self.classifier(x)\n",
        "\n",
        "# Define model and example input\n",
        "model = ViT(img_size=32, patch_size=8, num_classes=10, d_model=64, num_heads=4, num_layers=6)\n",
        "img = torch.randn(1, 3, 32, 32)  # Example image batch\n",
        "logits = model(img)\n",
        "print(\"Logits:\", logits)"
      ]
    }
  ]
}