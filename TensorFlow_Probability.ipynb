{
  "nbformat": 4,
  "nbformat_minor": 0,
  "metadata": {
    "colab": {
      "private_outputs": true,
      "provenance": [],
      "authorship_tag": "ABX9TyMSWp6L7U3WnhlJmZoJI3O+",
      "include_colab_link": true
    },
    "kernelspec": {
      "name": "python3",
      "display_name": "Python 3"
    },
    "language_info": {
      "name": "python"
    }
  },
  "cells": [
    {
      "cell_type": "markdown",
      "metadata": {
        "id": "view-in-github",
        "colab_type": "text"
      },
      "source": [
        "<a href=\"https://colab.research.google.com/github/OneFineStarstuff/State-of-the-Art/blob/main/TensorFlow_Probability.ipynb\" target=\"_parent\"><img src=\"https://colab.research.google.com/assets/colab-badge.svg\" alt=\"Open In Colab\"/></a>"
      ]
    },
    {
      "cell_type": "code",
      "execution_count": null,
      "metadata": {
        "id": "HLvxSzZCqp_d"
      },
      "outputs": [],
      "source": [
        "import tensorflow_probability as tfp\n",
        "\n",
        "# Define shorthand for distributions\n",
        "tfd = tfp.distributions\n",
        "\n",
        "# Create a normal distribution with mean 0 and standard deviation 1\n",
        "normal = tfd.Normal(loc=0., scale=1.)\n",
        "\n",
        "# Sample 5 values from the normal distribution\n",
        "samples = normal.sample(5)\n",
        "print(samples)"
      ]
    }
  ]
}