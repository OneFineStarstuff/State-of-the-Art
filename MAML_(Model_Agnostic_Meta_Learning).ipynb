{
  "nbformat": 4,
  "nbformat_minor": 0,
  "metadata": {
    "colab": {
      "private_outputs": true,
      "provenance": [],
      "authorship_tag": "ABX9TyMgsbh6Ls9G/XTNRrz9BX0V",
      "include_colab_link": true
    },
    "kernelspec": {
      "name": "python3",
      "display_name": "Python 3"
    },
    "language_info": {
      "name": "python"
    }
  },
  "cells": [
    {
      "cell_type": "markdown",
      "metadata": {
        "id": "view-in-github",
        "colab_type": "text"
      },
      "source": [
        "<a href=\"https://colab.research.google.com/github/OneFineStarstuff/State-of-the-Art/blob/main/MAML_(Model_Agnostic_Meta_Learning).ipynb\" target=\"_parent\"><img src=\"https://colab.research.google.com/assets/colab-badge.svg\" alt=\"Open In Colab\"/></a>"
      ]
    },
    {
      "cell_type": "code",
      "source": [
        "pip install higher"
      ],
      "metadata": {
        "id": "h3a4IzvsPwIx"
      },
      "execution_count": null,
      "outputs": []
    },
    {
      "cell_type": "code",
      "execution_count": null,
      "metadata": {
        "id": "KYUxJULdPcZQ"
      },
      "outputs": [],
      "source": [
        "import higher\n",
        "import torch\n",
        "import torch.nn as nn\n",
        "import torch.optim as optim\n",
        "\n",
        "# Define a simple linear model\n",
        "model = nn.Linear(10, 1)\n",
        "\n",
        "# Define a meta-optimizer\n",
        "meta_optimizer = optim.SGD(model.parameters(), lr=0.1)\n",
        "\n",
        "# Use higher to create an inner loop context\n",
        "with higher.innerloop_ctx(model, meta_optimizer) as (fmodel, diffopt):\n",
        "    for _ in range(5):  # Inner loop\n",
        "        # Compute the loss for the current model\n",
        "        loss = fmodel(torch.randn(1, 10)).pow(2).mean()\n",
        "        # Perform a gradient descent step\n",
        "        diffopt.step(loss)\n",
        "    # Calculate the meta-loss\n",
        "    meta_loss = fmodel(torch.randn(1, 10)).pow(2).mean()\n",
        "    # Zero the gradients of the meta-optimizer\n",
        "    meta_optimizer.zero_grad()\n",
        "    # Perform backpropagation on the meta-loss\n",
        "    meta_loss.backward()\n",
        "    # Update the original model parameters\n",
        "    meta_optimizer.step()"
      ]
    }
  ]
}