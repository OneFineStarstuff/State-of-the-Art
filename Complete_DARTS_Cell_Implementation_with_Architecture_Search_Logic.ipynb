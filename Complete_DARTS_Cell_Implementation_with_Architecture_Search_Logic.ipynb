{
  "nbformat": 4,
  "nbformat_minor": 0,
  "metadata": {
    "colab": {
      "private_outputs": true,
      "provenance": [],
      "authorship_tag": "ABX9TyPM6avEXgXd1ywj5oLt/V5D",
      "include_colab_link": true
    },
    "kernelspec": {
      "name": "python3",
      "display_name": "Python 3"
    },
    "language_info": {
      "name": "python"
    }
  },
  "cells": [
    {
      "cell_type": "markdown",
      "metadata": {
        "id": "view-in-github",
        "colab_type": "text"
      },
      "source": [
        "<a href=\"https://colab.research.google.com/github/OneFineStarstuff/State-of-the-Art/blob/main/Complete_DARTS_Cell_Implementation_with_Architecture_Search_Logic.ipynb\" target=\"_parent\"><img src=\"https://colab.research.google.com/assets/colab-badge.svg\" alt=\"Open In Colab\"/></a>"
      ]
    },
    {
      "cell_type": "code",
      "execution_count": null,
      "metadata": {
        "id": "YEhV5RP4S4t7"
      },
      "outputs": [],
      "source": [
        "import torch\n",
        "import torch.nn as nn\n",
        "import torch.optim as optim\n",
        "\n",
        "# --- DARTS-inspired Cell ---\n",
        "class DARTSCell(nn.Module):\n",
        "    def __init__(self, in_channels, out_channels):\n",
        "        super(DARTSCell, self).__init__()\n",
        "        self.op1 = nn.Conv2d(in_channels, out_channels, kernel_size=3, padding=1)\n",
        "        self.op2 = nn.Conv2d(in_channels, out_channels, kernel_size=5, padding=2)\n",
        "\n",
        "        # Learnable architecture parameter (initialized near 0.5 for a fair start)\n",
        "        self.alpha = nn.Parameter(torch.tensor(0.5))\n",
        "\n",
        "    def forward(self, x):\n",
        "        # Optional: constrain alpha to [0, 1] using sigmoid\n",
        "        alpha_clipped = torch.sigmoid(self.alpha)\n",
        "        out1 = self.op1(x)\n",
        "        out2 = self.op2(x)\n",
        "        return alpha_clipped * out1 + (1 - alpha_clipped) * out2\n",
        "\n",
        "# --- Example Training Step ---\n",
        "if __name__ == \"__main__\":\n",
        "    torch.manual_seed(42)\n",
        "\n",
        "    model = DARTSCell(in_channels=3, out_channels=16)\n",
        "    optimizer = optim.Adam([\n",
        "        {'params': model.op1.parameters()},\n",
        "        {'params': model.op2.parameters()},\n",
        "        {'params': [model.alpha], 'lr': 0.01}  # Separate learning rate for alpha if needed\n",
        "    ], lr=0.001)\n",
        "\n",
        "    x = torch.randn(4, 3, 32, 32)  # Batch of 4 RGB images (32x32)\n",
        "\n",
        "    for step in range(1, 6):\n",
        "        optimizer.zero_grad()\n",
        "        output = model(x)\n",
        "        loss = output.mean()  # Dummy loss for gradient flow demo\n",
        "        loss.backward()\n",
        "        optimizer.step()\n",
        "\n",
        "        print(f\"Step {step} | Loss: {loss.item():.4f} | α (raw): {model.alpha.item():.4f} | α (sigmoid): {torch.sigmoid(model.alpha).item():.4f}\")"
      ]
    }
  ]
}