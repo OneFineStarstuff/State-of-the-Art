{
  "nbformat": 4,
  "nbformat_minor": 0,
  "metadata": {
    "colab": {
      "private_outputs": true,
      "provenance": [],
      "authorship_tag": "ABX9TyP+xJ4VQh5gnMWIUjSV1Zgz",
      "include_colab_link": true
    },
    "kernelspec": {
      "name": "python3",
      "display_name": "Python 3"
    },
    "language_info": {
      "name": "python"
    }
  },
  "cells": [
    {
      "cell_type": "markdown",
      "metadata": {
        "id": "view-in-github",
        "colab_type": "text"
      },
      "source": [
        "<a href=\"https://colab.research.google.com/github/OneFineStarstuff/State-of-the-Art/blob/main/Neural_Differential_Equations.ipynb\" target=\"_parent\"><img src=\"https://colab.research.google.com/assets/colab-badge.svg\" alt=\"Open In Colab\"/></a>"
      ]
    },
    {
      "cell_type": "code",
      "source": [
        "pip install torchdiffeq"
      ],
      "metadata": {
        "id": "sTSLJnxZ-OhM"
      },
      "execution_count": null,
      "outputs": []
    },
    {
      "cell_type": "code",
      "execution_count": null,
      "metadata": {
        "id": "-FeHxQ6v90lR"
      },
      "outputs": [],
      "source": [
        "import torch\n",
        "import torch.nn as nn\n",
        "import torchdiffeq\n",
        "\n",
        "# Define the ODE function\n",
        "class ODEFunc(nn.Module):\n",
        "    def __init__(self):\n",
        "        super(ODEFunc, self).__init__()\n",
        "        self.fc1 = nn.Linear(2, 50)\n",
        "        self.relu = nn.ReLU()\n",
        "        self.fc2 = nn.Linear(50, 2)\n",
        "\n",
        "    def forward(self, t, y):\n",
        "        \"\"\"\n",
        "        Args:\n",
        "            t: Current time (not used here but needed for compatibility).\n",
        "            y: Input state (batch of vectors).\n",
        "        Returns:\n",
        "            Derivative of y.\n",
        "        \"\"\"\n",
        "        out = self.fc1(y)\n",
        "        out = self.relu(out)\n",
        "        out = self.fc2(out)\n",
        "        return out\n",
        "\n",
        "# Define the ODE Block\n",
        "class ODEBlock(nn.Module):\n",
        "    def __init__(self, odefunc):\n",
        "        super(ODEBlock, self).__init__()\n",
        "        self.odefunc = odefunc\n",
        "\n",
        "    def forward(self, x):\n",
        "        \"\"\"\n",
        "        Args:\n",
        "            x: Initial state (batch of vectors).\n",
        "        Returns:\n",
        "            Final state after solving the ODE.\n",
        "        \"\"\"\n",
        "        t = torch.tensor([0, 1], dtype=torch.float32)  # Time range\n",
        "        return torchdiffeq.odeint(self.odefunc, x, t)[-1]  # Take the last step\n",
        "\n",
        "# Example usage\n",
        "if __name__ == \"__main__\":\n",
        "    # Instantiate the ODE function and block\n",
        "    odefunc = ODEFunc()\n",
        "    odeblock = ODEBlock(odefunc)\n",
        "\n",
        "    # Input tensor\n",
        "    x = torch.tensor([[2.0, 0.0]], dtype=torch.float32)  # Batch size 1, dimension 2\n",
        "\n",
        "    # Forward pass\n",
        "    out = odeblock(x)\n",
        "    print(\"Output:\", out)"
      ]
    }
  ]
}