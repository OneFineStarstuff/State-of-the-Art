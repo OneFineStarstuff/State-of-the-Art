{
  "nbformat": 4,
  "nbformat_minor": 0,
  "metadata": {
    "colab": {
      "private_outputs": true,
      "provenance": [],
      "authorship_tag": "ABX9TyOLZR+77X9OAf+TD6VWjh9E",
      "include_colab_link": true
    },
    "kernelspec": {
      "name": "python3",
      "display_name": "Python 3"
    },
    "language_info": {
      "name": "python"
    }
  },
  "cells": [
    {
      "cell_type": "markdown",
      "metadata": {
        "id": "view-in-github",
        "colab_type": "text"
      },
      "source": [
        "<a href=\"https://colab.research.google.com/github/OneFineStarstuff/State-of-the-Art/blob/main/Transformers_for_Time_Series_Forecasting.ipynb\" target=\"_parent\"><img src=\"https://colab.research.google.com/assets/colab-badge.svg\" alt=\"Open In Colab\"/></a>"
      ]
    },
    {
      "cell_type": "code",
      "source": [
        "import torch\n",
        "import torch.nn as nn\n",
        "import torch.optim as optim\n",
        "\n",
        "class TimeSeriesTransformer(nn.Module):\n",
        "    def __init__(self, input_dim, d_model, nhead, num_layers, output_dim):\n",
        "        super(TimeSeriesTransformer, self).__init__()\n",
        "        self.transformer = nn.Transformer(d_model=d_model, nhead=nhead, num_encoder_layers=num_layers, num_decoder_layers=num_layers, batch_first=True)\n",
        "        self.linear = nn.Linear(d_model, output_dim)\n",
        "        self.embedding = nn.Linear(input_dim, d_model)\n",
        "\n",
        "    def forward(self, src, tgt):\n",
        "        src = self.embedding(src)\n",
        "        tgt = self.embedding(tgt)\n",
        "        out = self.transformer(src, tgt)\n",
        "        out = self.linear(out)\n",
        "        return out\n",
        "\n",
        "input_dim = 1\n",
        "d_model = 64\n",
        "nhead = 8\n",
        "num_layers = 3\n",
        "output_dim = 1\n",
        "\n",
        "model = TimeSeriesTransformer(input_dim, d_model, nhead, num_layers, output_dim)  # Removed .to('cuda')\n",
        "optimizer = optim.Adam(model.parameters(), lr=1e-4)\n",
        "criterion = nn.MSELoss()\n",
        "\n",
        "# Dummy data for training\n",
        "src = torch.rand(32, 10, input_dim)  # Sequence length 10, batch size 32, input_dim 1 (batch_first=True)\n",
        "tgt = torch.rand(32, 10, input_dim)  # Sequence length 10, batch size 32, input_dim 1 (batch_first=True)\n",
        "target = torch.rand(32, 10, output_dim)  # Sequence length 10, batch size 32, output_dim 1 (batch_first=True)\n",
        "\n",
        "for epoch in range(50):\n",
        "    optimizer.zero_grad()\n",
        "    output = model(src, tgt)\n",
        "    loss = criterion(output, target)\n",
        "    loss.backward()\n",
        "    optimizer.step()\n",
        "    print(f\"Epoch {epoch+1}, Loss: {loss.item()}\")"
      ],
      "metadata": {
        "id": "BORIMsFzFGVK"
      },
      "execution_count": null,
      "outputs": []
    }
  ]
}