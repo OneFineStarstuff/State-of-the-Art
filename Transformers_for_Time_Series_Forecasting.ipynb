{
  "nbformat": 4,
  "nbformat_minor": 0,
  "metadata": {
    "colab": {
      "private_outputs": true,
      "provenance": [],
      "authorship_tag": "ABX9TyMkzolU3iYULS23XnSP7YPR",
      "include_colab_link": true
    },
    "kernelspec": {
      "name": "python3",
      "display_name": "Python 3"
    },
    "language_info": {
      "name": "python"
    }
  },
  "cells": [
    {
      "cell_type": "markdown",
      "metadata": {
        "id": "view-in-github",
        "colab_type": "text"
      },
      "source": [
        "<a href=\"https://colab.research.google.com/github/OneFineStarstuff/State-of-the-Art/blob/main/Transformers_for_Time_Series_Forecasting.ipynb\" target=\"_parent\"><img src=\"https://colab.research.google.com/assets/colab-badge.svg\" alt=\"Open In Colab\"/></a>"
      ]
    },
    {
      "cell_type": "code",
      "execution_count": null,
      "metadata": {
        "id": "VPDqB2SsscDv"
      },
      "outputs": [],
      "source": [
        "import torch\n",
        "import torch.nn as nn\n",
        "import torch.optim as optim\n",
        "\n",
        "class TimeSeriesTransformer(nn.Module):\n",
        "    def __init__(self, input_dim, model_dim, num_heads, num_layers, output_dim, dropout=0.1):\n",
        "        super(TimeSeriesTransformer, self).__init__()\n",
        "        self.transformer = nn.Transformer(\n",
        "            d_model=model_dim,\n",
        "            nhead=num_heads,\n",
        "            num_encoder_layers=num_layers,\n",
        "            num_decoder_layers=num_layers,\n",
        "            dropout=dropout,\n",
        "            batch_first=True\n",
        "        )\n",
        "        self.input_proj = nn.Linear(input_dim, model_dim)\n",
        "        self.output_proj = nn.Linear(model_dim, output_dim)\n",
        "\n",
        "    def forward(self, src, tgt):\n",
        "        src = self.input_proj(src)\n",
        "        tgt = self.input_proj(tgt)\n",
        "        output = self.transformer(src, tgt)\n",
        "        output = self.output_proj(output)\n",
        "        return output\n",
        "\n",
        "# Define model parameters\n",
        "input_dim = 1\n",
        "model_dim = 64\n",
        "num_heads = 4\n",
        "num_layers = 3\n",
        "output_dim = 1\n",
        "\n",
        "# Check device\n",
        "device = torch.device('cuda' if torch.cuda.is_available() else 'cpu')\n",
        "\n",
        "# Initialize model\n",
        "model = TimeSeriesTransformer(input_dim, model_dim, num_heads, num_layers, output_dim).to(device)\n",
        "optimizer = optim.Adam(model.parameters(), lr=1e-3)\n",
        "criterion = nn.MSELoss()\n",
        "\n",
        "# Dummy data for training\n",
        "src = torch.rand(32, 10, input_dim).to(device)  # 32 sequences, 10 time steps, 1 feature\n",
        "tgt = torch.rand(32, 10, input_dim).to(device)  # 32 sequences, 10 time steps, 1 feature\n",
        "y = torch.rand(32, 10, output_dim).to(device)   # 32 sequences, 10 time steps, 1 feature\n",
        "\n",
        "# Training loop\n",
        "for epoch in range(100):\n",
        "    optimizer.zero_grad()\n",
        "    output = model(src, tgt)\n",
        "    loss = criterion(output, y)\n",
        "    loss.backward()\n",
        "    optimizer.step()\n",
        "    print(f\"Epoch {epoch+1}, Loss: {loss.item()}\")"
      ]
    }
  ]
}