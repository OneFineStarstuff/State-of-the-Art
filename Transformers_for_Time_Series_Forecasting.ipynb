{
  "nbformat": 4,
  "nbformat_minor": 0,
  "metadata": {
    "colab": {
      "private_outputs": true,
      "provenance": [],
      "authorship_tag": "ABX9TyM9PY8hea7gF8yDpFnS5fJh",
      "include_colab_link": true
    },
    "kernelspec": {
      "name": "python3",
      "display_name": "Python 3"
    },
    "language_info": {
      "name": "python"
    }
  },
  "cells": [
    {
      "cell_type": "markdown",
      "metadata": {
        "id": "view-in-github",
        "colab_type": "text"
      },
      "source": [
        "<a href=\"https://colab.research.google.com/github/OneFineStarstuff/State-of-the-Art/blob/main/Transformers_for_Time_Series_Forecasting.ipynb\" target=\"_parent\"><img src=\"https://colab.research.google.com/assets/colab-badge.svg\" alt=\"Open In Colab\"/></a>"
      ]
    },
    {
      "cell_type": "code",
      "execution_count": null,
      "metadata": {
        "id": "Xw9BqJWrfurw"
      },
      "outputs": [],
      "source": [
        "import torch\n",
        "import torch.nn as nn\n",
        "import torch.optim as optim\n",
        "\n",
        "class TimeSeriesTransformer(nn.Module):\n",
        "    def __init__(self, input_dim, model_dim, n_heads, n_layers, output_dim):\n",
        "        super(TimeSeriesTransformer, self).__init__()\n",
        "        self.input_projection = nn.Linear(input_dim, model_dim)  # Project input to model dimension\n",
        "        self.encoder_layer = nn.TransformerEncoderLayer(d_model=model_dim, nhead=n_heads, batch_first=True)\n",
        "        self.transformer_encoder = nn.TransformerEncoder(self.encoder_layer, num_layers=n_layers)\n",
        "        self.fc = nn.Linear(model_dim, output_dim)\n",
        "\n",
        "    def forward(self, src):\n",
        "        src = self.input_projection(src)  # Project input dimension to model dimension\n",
        "        output = self.transformer_encoder(src)\n",
        "        output = self.fc(output[:, -1, :])\n",
        "        return output\n",
        "\n",
        "# Example usage\n",
        "model = TimeSeriesTransformer(input_dim=1, model_dim=64, n_heads=4, n_layers=3, output_dim=1)\n",
        "criterion = nn.MSELoss()\n",
        "optimizer = optim.Adam(model.parameters(), lr=0.001)\n",
        "\n",
        "# Simulated training loop (replace with actual time-series data)\n",
        "for epoch in range(100):\n",
        "    model.train()\n",
        "    optimizer.zero_grad()\n",
        "    src = torch.rand(32, 10, 1)  # Batch size of 32, sequence length of 10, input dimension of 1\n",
        "    target = torch.rand(32, 1)  # Corresponding target\n",
        "    output = model(src)\n",
        "    loss = criterion(output, target)\n",
        "    loss.backward()\n",
        "    optimizer.step()\n",
        "    if epoch % 10 == 0:\n",
        "        print(f\"Epoch {epoch}, Loss: {loss.item()}\")"
      ]
    }
  ]
}