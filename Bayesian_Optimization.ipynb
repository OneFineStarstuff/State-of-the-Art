{
  "nbformat": 4,
  "nbformat_minor": 0,
  "metadata": {
    "colab": {
      "private_outputs": true,
      "provenance": [],
      "authorship_tag": "ABX9TyMNrysK91x43LWicoNOJoSC",
      "include_colab_link": true
    },
    "kernelspec": {
      "name": "python3",
      "display_name": "Python 3"
    },
    "language_info": {
      "name": "python"
    }
  },
  "cells": [
    {
      "cell_type": "markdown",
      "metadata": {
        "id": "view-in-github",
        "colab_type": "text"
      },
      "source": [
        "<a href=\"https://colab.research.google.com/github/OneFineStarstuff/State-of-the-Art/blob/main/Bayesian_Optimization.ipynb\" target=\"_parent\"><img src=\"https://colab.research.google.com/assets/colab-badge.svg\" alt=\"Open In Colab\"/></a>"
      ]
    },
    {
      "cell_type": "code",
      "source": [
        "!pip install scikit-optimize"
      ],
      "metadata": {
        "id": "3frx7TC7iyN5"
      },
      "execution_count": null,
      "outputs": []
    },
    {
      "cell_type": "code",
      "execution_count": null,
      "metadata": {
        "id": "_2onmbSVikBK"
      },
      "outputs": [],
      "source": [
        "from skopt import gp_minimize\n",
        "from skopt.space import Real, Integer\n",
        "from sklearn.model_selection import cross_val_score\n",
        "from sklearn.datasets import load_iris\n",
        "from sklearn.ensemble import RandomForestClassifier\n",
        "\n",
        "def objective(params):\n",
        "    max_depth, n_estimators = params\n",
        "    clf = RandomForestClassifier(max_depth=max_depth, n_estimators=n_estimators)\n",
        "    return -cross_val_score(clf, X, y, cv=3, scoring='accuracy').mean()\n",
        "\n",
        "space = [Integer(2, 32, name='max_depth'), Integer(10, 500, name='n_estimators')]\n",
        "X, y = load_iris(return_X_y=True)\n",
        "\n",
        "res = gp_minimize(objective, space, n_calls=20, random_state=0)\n",
        "print(\"Best parameters found:\", res.x)"
      ]
    }
  ]
}