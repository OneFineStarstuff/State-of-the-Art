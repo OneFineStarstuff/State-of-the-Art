{
  "nbformat": 4,
  "nbformat_minor": 0,
  "metadata": {
    "colab": {
      "private_outputs": true,
      "provenance": [],
      "authorship_tag": "ABX9TyOOx14xdoQ9RDsuDIcbh1I2",
      "include_colab_link": true
    },
    "kernelspec": {
      "name": "python3",
      "display_name": "Python 3"
    },
    "language_info": {
      "name": "python"
    }
  },
  "cells": [
    {
      "cell_type": "markdown",
      "metadata": {
        "id": "view-in-github",
        "colab_type": "text"
      },
      "source": [
        "<a href=\"https://colab.research.google.com/github/OneFineStarstuff/State-of-the-Art/blob/main/Bayesian_Optimization.ipynb\" target=\"_parent\"><img src=\"https://colab.research.google.com/assets/colab-badge.svg\" alt=\"Open In Colab\"/></a>"
      ]
    },
    {
      "cell_type": "code",
      "source": [
        "!pip install scikit-optimize"
      ],
      "metadata": {
        "id": "6gFdlm37hDc_"
      },
      "execution_count": null,
      "outputs": []
    },
    {
      "cell_type": "code",
      "execution_count": null,
      "metadata": {
        "id": "geRUezGkgsGk"
      },
      "outputs": [],
      "source": [
        "from skopt import gp_minimize\n",
        "from skopt.space import Real, Integer\n",
        "from sklearn.ensemble import RandomForestClassifier\n",
        "from sklearn.model_selection import cross_val_score\n",
        "from sklearn.datasets import load_iris\n",
        "\n",
        "# Define the objective function to minimize\n",
        "def objective(params):\n",
        "    max_depth, n_estimators = params\n",
        "    clf = RandomForestClassifier(max_depth=max_depth, n_estimators=n_estimators)\n",
        "    return -cross_val_score(clf, X, y, cv=5, scoring='accuracy').mean()\n",
        "\n",
        "# Load the Iris dataset\n",
        "X, y = load_iris(return_X_y=True)\n",
        "\n",
        "# Define the search space for hyperparameters\n",
        "search_space = [Integer(1, 32, name='max_depth'), Integer(10, 1000, name='n_estimators')]\n",
        "\n",
        "# Perform Bayesian optimization\n",
        "result = gp_minimize(objective, search_space, n_calls=20, random_state=0)\n",
        "\n",
        "# Print the best parameters and the best cross-validation score\n",
        "print(f\"Best parameters: {result.x}\")\n",
        "print(f\"Best cross-validation score: {-result.fun:.4f}\")"
      ]
    }
  ]
}