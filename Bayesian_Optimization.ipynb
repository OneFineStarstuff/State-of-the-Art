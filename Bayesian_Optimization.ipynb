{
  "nbformat": 4,
  "nbformat_minor": 0,
  "metadata": {
    "colab": {
      "private_outputs": true,
      "provenance": [],
      "authorship_tag": "ABX9TyOzSVZXKqUYV0fE9JezSPFb",
      "include_colab_link": true
    },
    "kernelspec": {
      "name": "python3",
      "display_name": "Python 3"
    },
    "language_info": {
      "name": "python"
    }
  },
  "cells": [
    {
      "cell_type": "markdown",
      "metadata": {
        "id": "view-in-github",
        "colab_type": "text"
      },
      "source": [
        "<a href=\"https://colab.research.google.com/github/OneFineStarstuff/State-of-the-Art/blob/main/Bayesian_Optimization.ipynb\" target=\"_parent\"><img src=\"https://colab.research.google.com/assets/colab-badge.svg\" alt=\"Open In Colab\"/></a>"
      ]
    },
    {
      "cell_type": "code",
      "source": [
        "pip install optuna"
      ],
      "metadata": {
        "id": "4dJTPYfdloZP"
      },
      "execution_count": null,
      "outputs": []
    },
    {
      "cell_type": "code",
      "execution_count": null,
      "metadata": {
        "id": "IrntXkcjlbGK"
      },
      "outputs": [],
      "source": [
        "import optuna\n",
        "from sklearn.datasets import load_iris\n",
        "from sklearn.model_selection import cross_val_score\n",
        "from sklearn.ensemble import RandomForestClassifier\n",
        "\n",
        "# Define the objective function for optimization\n",
        "def objective(trial):\n",
        "    n_estimators = trial.suggest_int('n_estimators', 2, 150)\n",
        "    max_depth = trial.suggest_int('max_depth', 1, 32, log=True)\n",
        "    classifier_obj = RandomForestClassifier(n_estimators=n_estimators, max_depth=max_depth)\n",
        "    iris = load_iris()\n",
        "    score = cross_val_score(classifier_obj, iris.data, iris.target, n_jobs=-1, cv=3)\n",
        "    accuracy = score.mean()\n",
        "    return accuracy\n",
        "\n",
        "# Create an Optuna study\n",
        "study = optuna.create_study(direction='maximize')\n",
        "\n",
        "# Optimize the study\n",
        "study.optimize(objective, n_trials=100)\n",
        "\n",
        "# Print the best trial results\n",
        "print(f\"Best trial: {study.best_trial.value}, Params: {study.best_trial.params}\")"
      ]
    }
  ]
}