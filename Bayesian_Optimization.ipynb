{
  "nbformat": 4,
  "nbformat_minor": 0,
  "metadata": {
    "colab": {
      "private_outputs": true,
      "provenance": [],
      "authorship_tag": "ABX9TyPGLEzbWQzmTWlKd9i5TCER",
      "include_colab_link": true
    },
    "kernelspec": {
      "name": "python3",
      "display_name": "Python 3"
    },
    "language_info": {
      "name": "python"
    }
  },
  "cells": [
    {
      "cell_type": "markdown",
      "metadata": {
        "id": "view-in-github",
        "colab_type": "text"
      },
      "source": [
        "<a href=\"https://colab.research.google.com/github/OneFineStarstuff/State-of-the-Art/blob/main/Bayesian_Optimization.ipynb\" target=\"_parent\"><img src=\"https://colab.research.google.com/assets/colab-badge.svg\" alt=\"Open In Colab\"/></a>"
      ]
    },
    {
      "cell_type": "code",
      "source": [
        "!pip install scikit-optimize"
      ],
      "metadata": {
        "id": "BMJyquVuRWF-"
      },
      "execution_count": null,
      "outputs": []
    },
    {
      "cell_type": "code",
      "execution_count": null,
      "metadata": {
        "id": "XmLBLK-MQ-OI"
      },
      "outputs": [],
      "source": [
        "import torch\n",
        "import torch.nn as nn\n",
        "import torch.optim as optim\n",
        "from skopt import gp_minimize\n",
        "from skopt.space import Real, Integer\n",
        "\n",
        "# Define a simple neural network with a variable number of layers\n",
        "class DynamicNN(nn.Module):\n",
        "    def __init__(self, input_size, hidden_size, output_size, n_layers):\n",
        "        super(DynamicNN, self).__init__()\n",
        "        self.layers = nn.ModuleList()\n",
        "        self.layers.append(nn.Linear(input_size, hidden_size))\n",
        "        for _ in range(n_layers - 1):\n",
        "            self.layers.append(nn.Linear(hidden_size, hidden_size))\n",
        "        self.layers.append(nn.Linear(hidden_size, output_size))\n",
        "\n",
        "    def forward(self, x):\n",
        "        for layer in self.layers[:-1]:\n",
        "            x = torch.relu(layer(x))\n",
        "        x = self.layers[-1](x)\n",
        "        return x\n",
        "\n",
        "# Dummy data\n",
        "input_size = 10\n",
        "hidden_size = 50\n",
        "output_size = 1\n",
        "inputs = torch.randn(100, input_size)\n",
        "targets = torch.randn(100, output_size)\n",
        "\n",
        "# Define the objective function for optimization\n",
        "def objective(params):\n",
        "    lr, n_layers = params\n",
        "    n_layers = int(n_layers)  # Convert layers to integer\n",
        "\n",
        "    # Create the model\n",
        "    model = DynamicNN(input_size, hidden_size, output_size, n_layers)\n",
        "    criterion = nn.MSELoss()\n",
        "    optimizer = optim.Adam(model.parameters(), lr=lr)\n",
        "\n",
        "    # Training loop\n",
        "    for epoch in range(50):  # Reduced epochs for faster optimization\n",
        "        optimizer.zero_grad()\n",
        "        outputs = model(inputs)\n",
        "        loss = criterion(outputs, targets)\n",
        "        loss.backward()\n",
        "        optimizer.step()\n",
        "\n",
        "    return loss.item()\n",
        "\n",
        "# Define the search space for hyperparameters\n",
        "space = [Real(1e-6, 1e-2, prior='log-uniform', name='lr'),\n",
        "         Integer(1, 5, name='n_layers')]\n",
        "\n",
        "# Perform Bayesian optimization\n",
        "res = gp_minimize(objective, space, n_calls=50, random_state=0)\n",
        "\n",
        "print(f\"Best parameters: {res.x}, Best loss: {res.fun}\")"
      ]
    }
  ]
}