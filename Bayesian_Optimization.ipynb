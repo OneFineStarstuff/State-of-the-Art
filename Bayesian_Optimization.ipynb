{
  "nbformat": 4,
  "nbformat_minor": 0,
  "metadata": {
    "colab": {
      "private_outputs": true,
      "provenance": [],
      "authorship_tag": "ABX9TyNFCxpa5qeAmKiPZbn3k6Ne",
      "include_colab_link": true
    },
    "kernelspec": {
      "name": "python3",
      "display_name": "Python 3"
    },
    "language_info": {
      "name": "python"
    }
  },
  "cells": [
    {
      "cell_type": "markdown",
      "metadata": {
        "id": "view-in-github",
        "colab_type": "text"
      },
      "source": [
        "<a href=\"https://colab.research.google.com/github/OneFineStarstuff/State-of-the-Art/blob/main/Bayesian_Optimization.ipynb\" target=\"_parent\"><img src=\"https://colab.research.google.com/assets/colab-badge.svg\" alt=\"Open In Colab\"/></a>"
      ]
    },
    {
      "cell_type": "code",
      "source": [
        "pip install optuna"
      ],
      "metadata": {
        "id": "Ke5XFPbb_NG3"
      },
      "execution_count": null,
      "outputs": []
    },
    {
      "cell_type": "code",
      "execution_count": null,
      "metadata": {
        "id": "Szelz8Ke_CBJ"
      },
      "outputs": [],
      "source": [
        "import optuna\n",
        "\n",
        "# Define the objective function\n",
        "def objective(trial):\n",
        "    x = trial.suggest_float('x', -10, 10)\n",
        "    return (x - 2) ** 2\n",
        "\n",
        "# Create a study object\n",
        "study = optuna.create_study()\n",
        "\n",
        "# Optimize the study\n",
        "study.optimize(objective, n_trials=100)\n",
        "\n",
        "# Print the best parameters and value\n",
        "print(\"Best Parameters:\", study.best_params)\n",
        "print(\"Best Value:\", study.best_value)"
      ]
    }
  ]
}