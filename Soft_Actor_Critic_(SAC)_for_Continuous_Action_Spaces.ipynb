{
  "nbformat": 4,
  "nbformat_minor": 0,
  "metadata": {
    "colab": {
      "private_outputs": true,
      "provenance": [],
      "authorship_tag": "ABX9TyNj5s939+GRA2kiTnHdO5/5",
      "include_colab_link": true
    },
    "kernelspec": {
      "name": "python3",
      "display_name": "Python 3"
    },
    "language_info": {
      "name": "python"
    }
  },
  "cells": [
    {
      "cell_type": "markdown",
      "metadata": {
        "id": "view-in-github",
        "colab_type": "text"
      },
      "source": [
        "<a href=\"https://colab.research.google.com/github/OneFineStarstuff/State-of-the-Art/blob/main/Soft_Actor_Critic_(SAC)_for_Continuous_Action_Spaces.ipynb\" target=\"_parent\"><img src=\"https://colab.research.google.com/assets/colab-badge.svg\" alt=\"Open In Colab\"/></a>"
      ]
    },
    {
      "cell_type": "code",
      "source": [
        "pip install stable_baselines3 'shimmy>=2.0'"
      ],
      "metadata": {
        "id": "FnFVAaUOuajG"
      },
      "execution_count": null,
      "outputs": []
    },
    {
      "cell_type": "code",
      "execution_count": null,
      "metadata": {
        "id": "phNlBFrguLr9"
      },
      "outputs": [],
      "source": [
        "from stable_baselines3 import SAC\n",
        "import gymnasium as gym\n",
        "\n",
        "# Create the environment using Gymnasium\n",
        "env = gym.make('Pendulum-v1')\n",
        "\n",
        "# Initialize the SAC model\n",
        "model = SAC('MlpPolicy', env, verbose=1)\n",
        "\n",
        "# Train the model\n",
        "model.learn(total_timesteps=100000)\n",
        "\n",
        "# Evaluate the model\n",
        "obs, _ = env.reset()\n",
        "for _ in range(1000):\n",
        "    action, _states = model.predict(obs, deterministic=True)\n",
        "    obs, rewards, dones, truncated, info = env.step(action)\n",
        "    if dones or truncated:\n",
        "        obs, _ = env.reset()\n",
        "    env.render()"
      ]
    }
  ]
}