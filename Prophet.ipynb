{
  "nbformat": 4,
  "nbformat_minor": 0,
  "metadata": {
    "colab": {
      "private_outputs": true,
      "provenance": [],
      "authorship_tag": "ABX9TyPha526z3hAmN8LobPQ0hN5",
      "include_colab_link": true
    },
    "kernelspec": {
      "name": "python3",
      "display_name": "Python 3"
    },
    "language_info": {
      "name": "python"
    }
  },
  "cells": [
    {
      "cell_type": "markdown",
      "metadata": {
        "id": "view-in-github",
        "colab_type": "text"
      },
      "source": [
        "<a href=\"https://colab.research.google.com/github/OneFineStarstuff/State-of-the-Art/blob/main/Prophet.ipynb\" target=\"_parent\"><img src=\"https://colab.research.google.com/assets/colab-badge.svg\" alt=\"Open In Colab\"/></a>"
      ]
    },
    {
      "cell_type": "code",
      "source": [
        "pip install fbprophet"
      ],
      "metadata": {
        "id": "V13bwC7_1otu"
      },
      "execution_count": null,
      "outputs": []
    },
    {
      "cell_type": "code",
      "execution_count": null,
      "metadata": {
        "id": "l4XE7GrR1Tb-"
      },
      "outputs": [],
      "source": [
        "from fbprophet import Prophet\n",
        "import pandas as pd\n",
        "\n",
        "# Load the dataset\n",
        "df = pd.read_csv('https://raw.githubusercontent.com/jbrownlee/Datasets/master/airline-passengers.csv')\n",
        "\n",
        "# Rename columns to fit Prophet's input format\n",
        "df.columns = ['ds', 'y']\n",
        "\n",
        "# Initialize the Prophet model\n",
        "model = Prophet()\n",
        "\n",
        "# Fit the model to the dataset\n",
        "model.fit(df)\n",
        "\n",
        "# Create a dataframe with future dates for prediction\n",
        "future = model.make_future_dataframe(periods=12, freq='M')\n",
        "\n",
        "# Make predictions\n",
        "forecast = model.predict(future)\n",
        "\n",
        "# Plot the forecast\n",
        "model.plot(forecast)"
      ]
    }
  ]
}