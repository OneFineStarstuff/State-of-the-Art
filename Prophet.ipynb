{
  "nbformat": 4,
  "nbformat_minor": 0,
  "metadata": {
    "colab": {
      "private_outputs": true,
      "provenance": [],
      "authorship_tag": "ABX9TyPUgMHGZTpenqEi3L43rP0b",
      "include_colab_link": true
    },
    "kernelspec": {
      "name": "python3",
      "display_name": "Python 3"
    },
    "language_info": {
      "name": "python"
    }
  },
  "cells": [
    {
      "cell_type": "markdown",
      "metadata": {
        "id": "view-in-github",
        "colab_type": "text"
      },
      "source": [
        "<a href=\"https://colab.research.google.com/github/OneFineStarstuff/State-of-the-Art/blob/main/Prophet.ipynb\" target=\"_parent\"><img src=\"https://colab.research.google.com/assets/colab-badge.svg\" alt=\"Open In Colab\"/></a>"
      ]
    },
    {
      "cell_type": "code",
      "execution_count": null,
      "metadata": {
        "id": "mp4tEHlhjdJh"
      },
      "outputs": [],
      "source": [
        "from prophet import Prophet\n",
        "import pandas as pd\n",
        "import matplotlib.pyplot as plt\n",
        "\n",
        "df = pd.DataFrame({'ds': pd.date_range(start='2020-01-01', periods=100), 'y': range(100)})\n",
        "model = Prophet()\n",
        "model.fit(df)\n",
        "future = model.make_future_dataframe(periods=30)\n",
        "forecast = model.predict(future)\n",
        "\n",
        "# Plot the forecast\n",
        "fig = model.plot(forecast)\n",
        "plt.show()"
      ]
    }
  ]
}