{
  "nbformat": 4,
  "nbformat_minor": 0,
  "metadata": {
    "colab": {
      "private_outputs": true,
      "provenance": [],
      "authorship_tag": "ABX9TyMao6Z4dOb+P6rGNcO0OELY",
      "include_colab_link": true
    },
    "kernelspec": {
      "name": "python3",
      "display_name": "Python 3"
    },
    "language_info": {
      "name": "python"
    }
  },
  "cells": [
    {
      "cell_type": "markdown",
      "metadata": {
        "id": "view-in-github",
        "colab_type": "text"
      },
      "source": [
        "<a href=\"https://colab.research.google.com/github/OneFineStarstuff/State-of-the-Art/blob/main/Model_Agnostic_Meta_Learning_(MAML)_with_PyTorch.ipynb\" target=\"_parent\"><img src=\"https://colab.research.google.com/assets/colab-badge.svg\" alt=\"Open In Colab\"/></a>"
      ]
    },
    {
      "cell_type": "code",
      "execution_count": null,
      "metadata": {
        "id": "ZL_Gf9uTRZ4R"
      },
      "outputs": [],
      "source": [
        "import torch\n",
        "import torch.nn as nn\n",
        "import torch.optim as optim\n",
        "\n",
        "class SimpleModel(nn.Module):\n",
        "    def __init__(self):\n",
        "        super(SimpleModel, self).__init__()\n",
        "        self.linear = nn.Linear(1, 1)\n",
        "\n",
        "    def forward(self, x):\n",
        "        return self.linear(x)\n",
        "\n",
        "def train_maml(model, tasks, meta_lr=0.001, inner_lr=0.01, inner_steps=5):\n",
        "    meta_optimizer = optim.Adam(model.parameters(), lr=meta_lr)\n",
        "\n",
        "    for task in tasks:\n",
        "        model_copy = SimpleModel()\n",
        "        model_copy.load_state_dict(model.state_dict())\n",
        "        inner_optimizer = optim.SGD(model_copy.parameters(), lr=inner_lr)\n",
        "\n",
        "        for _ in range(inner_steps):\n",
        "            # Simulate a single task training loop\n",
        "            x_train, y_train = task\n",
        "            loss = ((model_copy(x_train) - y_train)**2).mean()\n",
        "            inner_optimizer.zero_grad()\n",
        "            loss.backward()\n",
        "            inner_optimizer.step()\n",
        "\n",
        "        meta_optimizer.zero_grad()\n",
        "        x_val, y_val = task  # Assuming we have validation data from the same task\n",
        "        meta_loss = ((model_copy(x_val) - y_val)**2).mean()\n",
        "        meta_loss.backward()\n",
        "        meta_optimizer.step()\n",
        "        print(f'Meta Loss: {meta_loss.item()}')\n",
        "\n",
        "# Example usage with dummy data\n",
        "tasks = [(\n",
        "    torch.tensor([[1.0], [2.0]]),\n",
        "    torch.tensor([[2.0], [4.0]])\n",
        ") for _ in range(10)]\n",
        "model = SimpleModel()\n",
        "train_maml(model, tasks)"
      ]
    }
  ]
}