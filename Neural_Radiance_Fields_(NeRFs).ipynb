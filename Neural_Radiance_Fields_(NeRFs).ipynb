{
  "nbformat": 4,
  "nbformat_minor": 0,
  "metadata": {
    "colab": {
      "private_outputs": true,
      "provenance": [],
      "authorship_tag": "ABX9TyO2D48lDtBsWfFDFFwq1ILf",
      "include_colab_link": true
    },
    "kernelspec": {
      "name": "python3",
      "display_name": "Python 3"
    },
    "language_info": {
      "name": "python"
    }
  },
  "cells": [
    {
      "cell_type": "markdown",
      "metadata": {
        "id": "view-in-github",
        "colab_type": "text"
      },
      "source": [
        "<a href=\"https://colab.research.google.com/github/OneFineStarstuff/State-of-the-Art/blob/main/Neural_Radiance_Fields_(NeRFs).ipynb\" target=\"_parent\"><img src=\"https://colab.research.google.com/assets/colab-badge.svg\" alt=\"Open In Colab\"/></a>"
      ]
    },
    {
      "cell_type": "code",
      "execution_count": null,
      "metadata": {
        "id": "qfSsLWP9z0aD"
      },
      "outputs": [],
      "source": [
        "import torch\n",
        "import torch.nn as nn\n",
        "import torch.nn.functional as F\n",
        "\n",
        "# Define the NeRF class\n",
        "class NeRF(nn.Module):\n",
        "    def __init__(self):\n",
        "        super(NeRF, self).__init__()\n",
        "        self.fc1 = nn.Linear(3, 256)  # First fully connected layer\n",
        "        self.fc2 = nn.Linear(256, 256)  # Second fully connected layer\n",
        "        self.fc3 = nn.Linear(256, 4)  # Third fully connected layer (RGB + density)\n",
        "\n",
        "    def forward(self, x):\n",
        "        x = F.relu(self.fc1(x))  # Apply ReLU activation after first layer\n",
        "        x = F.relu(self.fc2(x))  # Apply ReLU activation after second layer\n",
        "        x = self.fc3(x)  # Output layer for RGB + density\n",
        "        return x\n",
        "\n",
        "# Example usage\n",
        "model = NeRF()\n",
        "points = torch.randn(1000, 3)  # Random 3D points (batch_size=1000, input_dim=3)\n",
        "output = model(points)\n",
        "\n",
        "# Print the shape of the output\n",
        "print(output.shape)  # Expected shape: [1000, 4] (RGB + density)"
      ]
    }
  ]
}