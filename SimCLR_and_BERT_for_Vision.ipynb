{
  "nbformat": 4,
  "nbformat_minor": 0,
  "metadata": {
    "colab": {
      "private_outputs": true,
      "provenance": [],
      "authorship_tag": "ABX9TyOZ4xGFGqg8ITGUWy9+/xEy",
      "include_colab_link": true
    },
    "kernelspec": {
      "name": "python3",
      "display_name": "Python 3"
    },
    "language_info": {
      "name": "python"
    }
  },
  "cells": [
    {
      "cell_type": "markdown",
      "metadata": {
        "id": "view-in-github",
        "colab_type": "text"
      },
      "source": [
        "<a href=\"https://colab.research.google.com/github/OneFineStarstuff/State-of-the-Art/blob/main/SimCLR_and_BERT_for_Vision.ipynb\" target=\"_parent\"><img src=\"https://colab.research.google.com/assets/colab-badge.svg\" alt=\"Open In Colab\"/></a>"
      ]
    },
    {
      "cell_type": "code",
      "execution_count": null,
      "metadata": {
        "id": "MN7T37BeUQnz"
      },
      "outputs": [],
      "source": [
        "import torch\n",
        "import torch.nn as nn\n",
        "import torchvision.models as models\n",
        "\n",
        "# Define the SimCLR class\n",
        "class SimCLR(nn.Module):\n",
        "    def __init__(self, base_model, projection_dim):\n",
        "        super(SimCLR, self).__init__()\n",
        "        # Store the in_features before replacing the fc layer\n",
        "        self.encoder_in_features = base_model.fc.in_features\n",
        "        self.base_model = base_model\n",
        "        self.base_model.fc = nn.Identity()  # Replace the fully connected layer with Identity\n",
        "        self.projector = nn.Sequential(\n",
        "            nn.Linear(self.encoder_in_features, 2048),  # First projection layer\n",
        "            nn.ReLU(),  # ReLU activation\n",
        "            nn.Linear(2048, projection_dim)  # Second projection layer\n",
        "        )\n",
        "\n",
        "    def forward(self, x):\n",
        "        h = self.base_model(x)  # Extract features using the base model\n",
        "        z = self.projector(h)  # Project the features to a lower-dimensional space\n",
        "        return z\n",
        "\n",
        "# Example usage with ResNet as the base model\n",
        "base_model = models.resnet18(pretrained=False)\n",
        "\n",
        "# Instantiate the SimCLR model\n",
        "simclr_model = SimCLR(base_model, projection_dim=128)\n",
        "input_data = torch.randn(32, 3, 224, 224)  # Example input (batch_size=32, channels=3, height=224, width=224)\n",
        "projections = simclr_model(input_data)\n",
        "\n",
        "# Print the shape of the projections\n",
        "print(projections.shape)  # Expected shape: [32, 128]"
      ]
    }
  ]
}