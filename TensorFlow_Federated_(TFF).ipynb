{
  "nbformat": 4,
  "nbformat_minor": 0,
  "metadata": {
    "colab": {
      "private_outputs": true,
      "provenance": [],
      "authorship_tag": "ABX9TyNaC5urj94T8r0qr4R68FQ8",
      "include_colab_link": true
    },
    "kernelspec": {
      "name": "python3",
      "display_name": "Python 3"
    },
    "language_info": {
      "name": "python"
    }
  },
  "cells": [
    {
      "cell_type": "markdown",
      "metadata": {
        "id": "view-in-github",
        "colab_type": "text"
      },
      "source": [
        "<a href=\"https://colab.research.google.com/github/OneFineStarstuff/State-of-the-Art/blob/main/TensorFlow_Federated_(TFF).ipynb\" target=\"_parent\"><img src=\"https://colab.research.google.com/assets/colab-badge.svg\" alt=\"Open In Colab\"/></a>"
      ]
    },
    {
      "cell_type": "code",
      "source": [
        "pip install tensorflow_federated"
      ],
      "metadata": {
        "id": "6ELDuyYbxFTB"
      },
      "execution_count": null,
      "outputs": []
    },
    {
      "cell_type": "code",
      "execution_count": null,
      "metadata": {
        "id": "I6oZ6cmIwzDL"
      },
      "outputs": [],
      "source": [
        "import tensorflow as tf\n",
        "import tensorflow_federated as tff\n",
        "\n",
        "@tff.tf_computation\n",
        "def model_fn():\n",
        "    model = tf.keras.Sequential([\n",
        "        tf.keras.layers.Dense(10, activation='relu'),\n",
        "        tf.keras.layers.Dense(1)\n",
        "    ])\n",
        "    return model\n",
        "\n",
        "# Input specifications for the federated model\n",
        "input_spec = (tf.TensorSpec(shape=[None, 784], dtype=tf.float32), tf.TensorSpec(shape=[None], dtype=tf.float32))\n",
        "\n",
        "# Convert the Keras model to a federated learning model\n",
        "federated_model = tff.learning.from_keras_model(\n",
        "    model_fn(),\n",
        "    input_spec=input_spec\n",
        ")"
      ]
    }
  ]
}