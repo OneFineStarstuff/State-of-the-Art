{
  "nbformat": 4,
  "nbformat_minor": 0,
  "metadata": {
    "colab": {
      "private_outputs": true,
      "provenance": [],
      "authorship_tag": "ABX9TyNNoiyugocp0VcQxYWPQoRt",
      "include_colab_link": true
    },
    "kernelspec": {
      "name": "python3",
      "display_name": "Python 3"
    },
    "language_info": {
      "name": "python"
    }
  },
  "cells": [
    {
      "cell_type": "markdown",
      "metadata": {
        "id": "view-in-github",
        "colab_type": "text"
      },
      "source": [
        "<a href=\"https://colab.research.google.com/github/OneFineStarstuff/State-of-the-Art/blob/main/NetworkX_for_Complex_Network_Analysis.ipynb\" target=\"_parent\"><img src=\"https://colab.research.google.com/assets/colab-badge.svg\" alt=\"Open In Colab\"/></a>"
      ]
    },
    {
      "cell_type": "code",
      "execution_count": null,
      "metadata": {
        "id": "EL7kMAse3Kmb"
      },
      "outputs": [],
      "source": [
        "import networkx as nx\n",
        "import matplotlib.pyplot as plt\n",
        "\n",
        "# Create an Erdős-Rényi graph\n",
        "G = nx.erdos_renyi_graph(100, 0.05)\n",
        "\n",
        "# Compute node degrees\n",
        "degrees = dict(G.degree())\n",
        "\n",
        "# Draw the graph with node sizes proportional to their degrees\n",
        "nx.draw(G, node_size=[v * 100 for v in degrees.values()])\n",
        "\n",
        "# Show the plot\n",
        "plt.show()"
      ]
    }
  ]
}