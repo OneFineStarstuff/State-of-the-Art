{
  "nbformat": 4,
  "nbformat_minor": 0,
  "metadata": {
    "colab": {
      "private_outputs": true,
      "provenance": [],
      "authorship_tag": "ABX9TyM9Two1ijIecohv7bL98pWw",
      "include_colab_link": true
    },
    "kernelspec": {
      "name": "python3",
      "display_name": "Python 3"
    },
    "language_info": {
      "name": "python"
    }
  },
  "cells": [
    {
      "cell_type": "markdown",
      "metadata": {
        "id": "view-in-github",
        "colab_type": "text"
      },
      "source": [
        "<a href=\"https://colab.research.google.com/github/OneFineStarstuff/State-of-the-Art/blob/main/Generative_Adversarial_Networks_(GANs)_with_PyTorch.ipynb\" target=\"_parent\"><img src=\"https://colab.research.google.com/assets/colab-badge.svg\" alt=\"Open In Colab\"/></a>"
      ]
    },
    {
      "cell_type": "code",
      "execution_count": null,
      "metadata": {
        "id": "09IdceHYYB4D"
      },
      "outputs": [],
      "source": [
        "import torch\n",
        "import torch.nn as nn\n",
        "import torch.optim as optim\n",
        "from torchvision import datasets, transforms\n",
        "\n",
        "# Generator network\n",
        "class Generator(nn.Module):\n",
        "    def __init__(self):\n",
        "        super(Generator, self).__init__()\n",
        "        self.main = nn.Sequential(\n",
        "            nn.Linear(100, 256),\n",
        "            nn.ReLU(),\n",
        "            nn.Linear(256, 512),\n",
        "            nn.ReLU(),\n",
        "            nn.Linear(512, 1024),\n",
        "            nn.ReLU(),\n",
        "            nn.Linear(1024, 28*28),\n",
        "            nn.Tanh()\n",
        "        )\n",
        "\n",
        "    def forward(self, input):\n",
        "        return self.main(input)\n",
        "\n",
        "# Discriminator network\n",
        "class Discriminator(nn.Module):\n",
        "    def __init__(self):\n",
        "        super(Discriminator, self).__init__()\n",
        "        self.main = nn.Sequential(\n",
        "            nn.Linear(28*28, 512),\n",
        "            nn.ReLU(),\n",
        "            nn.Linear(512, 256),\n",
        "            nn.ReLU(),\n",
        "            nn.Linear(256, 1),\n",
        "            nn.Sigmoid()\n",
        "        )\n",
        "\n",
        "    def forward(self, input):\n",
        "        return self.main(input)\n",
        "\n",
        "# Training loop\n",
        "def train_gan():\n",
        "    batch_size = 64\n",
        "    transform = transforms.Compose([transforms.ToTensor(), transforms.Normalize((0.5,), (0.5,))])\n",
        "    train_loader = torch.utils.data.DataLoader(datasets.MNIST('.', train=True, download=True, transform=transform), batch_size=batch_size, shuffle=True)\n",
        "\n",
        "    G = Generator()\n",
        "    D = Discriminator()\n",
        "    criterion = nn.BCELoss()\n",
        "    optimizerG = optim.Adam(G.parameters(), lr=0.0002)\n",
        "    optimizerD = optim.Adam(D.parameters(), lr=0.0002)\n",
        "\n",
        "    for epoch in range(10):\n",
        "        for i, (data, _) in enumerate(train_loader):\n",
        "            real_data = data.view(-1, 28*28)\n",
        "            batch_size = real_data.size(0)\n",
        "\n",
        "            # Train discriminator\n",
        "            optimizerD.zero_grad()\n",
        "            output = D(real_data)\n",
        "            real_loss = criterion(output, torch.ones(batch_size, 1))\n",
        "            real_loss.backward()\n",
        "\n",
        "            noise = torch.randn(batch_size, 100)\n",
        "            fake_data = G(noise)\n",
        "            output = D(fake_data.detach())\n",
        "            fake_loss = criterion(output, torch.zeros(batch_size, 1))\n",
        "            fake_loss.backward()\n",
        "            optimizerD.step()\n",
        "\n",
        "            # Train generator\n",
        "            optimizerG.zero_grad()\n",
        "            output = D(fake_data)\n",
        "            gen_loss = criterion(output, torch.ones(batch_size, 1))\n",
        "            gen_loss.backward()\n",
        "            optimizerG.step()\n",
        "\n",
        "            if i % 100 == 0:\n",
        "                print(f\"Epoch {epoch}/{10}, Batch {i}/{len(train_loader)}, D Loss: {real_loss.item() + fake_loss.item()}, G Loss: {gen_loss.item()}\")\n",
        "\n",
        "train_gan()"
      ]
    }
  ]
}