{
  "nbformat": 4,
  "nbformat_minor": 0,
  "metadata": {
    "colab": {
      "private_outputs": true,
      "provenance": [],
      "authorship_tag": "ABX9TyMPfkQM93g0htWJ574QSBbj",
      "include_colab_link": true
    },
    "kernelspec": {
      "name": "python3",
      "display_name": "Python 3"
    },
    "language_info": {
      "name": "python"
    }
  },
  "cells": [
    {
      "cell_type": "markdown",
      "metadata": {
        "id": "view-in-github",
        "colab_type": "text"
      },
      "source": [
        "<a href=\"https://colab.research.google.com/github/OneFineStarstuff/State-of-the-Art/blob/main/Reinforcement_Learning_with_Self_Play.ipynb\" target=\"_parent\"><img src=\"https://colab.research.google.com/assets/colab-badge.svg\" alt=\"Open In Colab\"/></a>"
      ]
    },
    {
      "cell_type": "code",
      "execution_count": null,
      "metadata": {
        "id": "1r2gHm4iUADS"
      },
      "outputs": [],
      "source": [
        "import torch\n",
        "import torch.nn as nn\n",
        "import torch.nn.functional as F  # Import the functional module\n",
        "import torch.optim as optim\n",
        "import random\n",
        "\n",
        "# Define the SimplePolicy class\n",
        "class SimplePolicy(nn.Module):\n",
        "    def __init__(self, input_dim, output_dim):\n",
        "        super(SimplePolicy, self).__init__()\n",
        "        self.fc = nn.Linear(input_dim, output_dim)  # Fully connected layer\n",
        "\n",
        "    def forward(self, x):\n",
        "        return F.softmax(self.fc(x), dim=-1)  # Apply softmax to get action probabilities\n",
        "\n",
        "# Define the play_game function\n",
        "def play_game(policy1, policy2):\n",
        "    state = torch.randn(1, 4)  # Example game state (random)\n",
        "    action_probs1 = policy1(state)  # Get action probabilities from policy1\n",
        "    action1 = action_probs1.multinomial(num_samples=1)  # Sample action from policy1\n",
        "    action_probs2 = policy2(state)  # Get action probabilities from policy2\n",
        "    action2 = action_probs2.multinomial(num_samples=1)  # Sample action from policy2\n",
        "    reward = torch.tensor([1.0]) if action1 == action2 else torch.tensor([-1.0])  # Reward based on actions\n",
        "    return reward, action_probs1, action1\n",
        "\n",
        "# Example self-play loop\n",
        "policy = SimplePolicy(input_dim=4, output_dim=2)  # Instantiate the policy model\n",
        "optimizer = optim.Adam(policy.parameters(), lr=0.01)  # Define the optimizer\n",
        "\n",
        "for _ in range(1000):\n",
        "    opponent_policy = policy  # Use the same policy as the opponent\n",
        "    reward, action_probs, action = play_game(policy, opponent_policy)  # Play the game\n",
        "    loss = -torch.log(action_probs.squeeze(0)[action]) * reward  # Compute the loss\n",
        "    optimizer.zero_grad()  # Zero the gradients\n",
        "    loss.backward()  # Backpropagate the loss\n",
        "    optimizer.step()  # Update the model parameters\n",
        "\n",
        "print(\"Self-play training completed.\")"
      ]
    }
  ]
}