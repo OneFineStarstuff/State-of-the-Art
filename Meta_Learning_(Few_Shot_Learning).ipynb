{
  "nbformat": 4,
  "nbformat_minor": 0,
  "metadata": {
    "colab": {
      "private_outputs": true,
      "provenance": [],
      "authorship_tag": "ABX9TyO7ZLEkETSFSePYM3nKH/UJ",
      "include_colab_link": true
    },
    "kernelspec": {
      "name": "python3",
      "display_name": "Python 3"
    },
    "language_info": {
      "name": "python"
    }
  },
  "cells": [
    {
      "cell_type": "markdown",
      "metadata": {
        "id": "view-in-github",
        "colab_type": "text"
      },
      "source": [
        "<a href=\"https://colab.research.google.com/github/OneFineStarstuff/State-of-the-Art/blob/main/Meta_Learning_(Few_Shot_Learning).ipynb\" target=\"_parent\"><img src=\"https://colab.research.google.com/assets/colab-badge.svg\" alt=\"Open In Colab\"/></a>"
      ]
    },
    {
      "cell_type": "code",
      "execution_count": null,
      "metadata": {
        "id": "Bkm3ABxZ8KC5"
      },
      "outputs": [],
      "source": [
        "import torch\n",
        "import torch.nn as nn\n",
        "import torch.optim as optim\n",
        "from torch.autograd import Variable\n",
        "\n",
        "class SimpleModel(nn.Module):\n",
        "    def __init__(self):\n",
        "        super(SimpleModel, self).__init__()\n",
        "        self.fc1 = nn.Linear(1, 1)\n",
        "        self.fc2 = nn.Linear(1, 1)\n",
        "\n",
        "    def forward(self, x):\n",
        "        x = torch.relu(self.fc1(x))\n",
        "        return self.fc2(x)\n",
        "\n",
        "def maml_update(model, loss_fn, data, target, lr=0.01):\n",
        "    # Compute gradients for the task\n",
        "    model.zero_grad()\n",
        "    output = model(data)\n",
        "    loss = loss_fn(output, target)\n",
        "    loss.backward()\n",
        "    # Update model weights\n",
        "    with torch.no_grad():\n",
        "        for param in model.parameters():\n",
        "            param -= lr * param.grad\n",
        "    return loss.item()\n",
        "\n",
        "model = SimpleModel()\n",
        "optimizer = optim.SGD(model.parameters(), lr=0.1)\n",
        "loss_fn = nn.MSELoss()\n",
        "\n",
        "# Training loop for MAML\n",
        "for epoch in range(10):\n",
        "    data = torch.randn(5, 1)  # Few-shot examples (5 examples)\n",
        "    target = 2 * data + 1     # Target for linear regression\n",
        "\n",
        "    # Inner loop: Adapt the model to a task\n",
        "    loss = maml_update(model, loss_fn, data, target, lr=0.01)\n",
        "\n",
        "    # Outer loop: Meta-optimization (MAML)\n",
        "    optimizer.zero_grad()\n",
        "    output = model(data)\n",
        "    meta_loss = loss_fn(output, target)\n",
        "    meta_loss.backward()\n",
        "    optimizer.step()\n",
        "\n",
        "    print(f'Epoch {epoch}, Loss: {meta_loss.item()}')"
      ]
    }
  ]
}