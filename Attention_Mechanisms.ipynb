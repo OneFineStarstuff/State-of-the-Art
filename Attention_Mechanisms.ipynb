{
  "nbformat": 4,
  "nbformat_minor": 0,
  "metadata": {
    "colab": {
      "private_outputs": true,
      "provenance": [],
      "authorship_tag": "ABX9TyN5Mh0RHcEMMEhcDow8UaxU",
      "include_colab_link": true
    },
    "kernelspec": {
      "name": "python3",
      "display_name": "Python 3"
    },
    "language_info": {
      "name": "python"
    }
  },
  "cells": [
    {
      "cell_type": "markdown",
      "metadata": {
        "id": "view-in-github",
        "colab_type": "text"
      },
      "source": [
        "<a href=\"https://colab.research.google.com/github/OneFineStarstuff/State-of-the-Art/blob/main/Attention_Mechanisms.ipynb\" target=\"_parent\"><img src=\"https://colab.research.google.com/assets/colab-badge.svg\" alt=\"Open In Colab\"/></a>"
      ]
    },
    {
      "cell_type": "code",
      "execution_count": null,
      "metadata": {
        "id": "38k2Aptp37Cf"
      },
      "outputs": [],
      "source": [
        "import torch\n",
        "import torch.nn as nn\n",
        "import torch.nn.functional as F\n",
        "\n",
        "class Attention(nn.Module):\n",
        "    def __init__(self, input_dim, hidden_dim):\n",
        "        super(Attention, self).__init__()\n",
        "        self.attention = nn.Linear(input_dim, hidden_dim)\n",
        "        self.context = nn.Parameter(torch.randn(hidden_dim, 1))\n",
        "\n",
        "    def forward(self, x):\n",
        "        # Calculate attention scores\n",
        "        attn_scores = torch.matmul(F.tanh(self.attention(x)), self.context)\n",
        "        attn_scores = F.softmax(attn_scores, dim=1)\n",
        "        weighted_sum = torch.sum(attn_scores * x, dim=1)\n",
        "        return weighted_sum\n",
        "\n",
        "input_data = torch.randn(32, 10, 64)  # Batch of 32, 10 time steps, 64 features\n",
        "attention_layer = Attention(input_dim=64, hidden_dim=32)\n",
        "output = attention_layer(input_data)\n",
        "print(output.shape)"
      ]
    }
  ]
}