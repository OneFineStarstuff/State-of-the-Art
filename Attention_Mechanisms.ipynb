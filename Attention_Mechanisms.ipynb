{
  "nbformat": 4,
  "nbformat_minor": 0,
  "metadata": {
    "colab": {
      "private_outputs": true,
      "provenance": [],
      "authorship_tag": "ABX9TyMPLu/koHoY6RAO+aDDibWv",
      "include_colab_link": true
    },
    "kernelspec": {
      "name": "python3",
      "display_name": "Python 3"
    },
    "language_info": {
      "name": "python"
    }
  },
  "cells": [
    {
      "cell_type": "markdown",
      "metadata": {
        "id": "view-in-github",
        "colab_type": "text"
      },
      "source": [
        "<a href=\"https://colab.research.google.com/github/OneFineStarstuff/State-of-the-Art/blob/main/Attention_Mechanisms.ipynb\" target=\"_parent\"><img src=\"https://colab.research.google.com/assets/colab-badge.svg\" alt=\"Open In Colab\"/></a>"
      ]
    },
    {
      "cell_type": "code",
      "execution_count": null,
      "metadata": {
        "id": "3scNu3F-FWFp"
      },
      "outputs": [],
      "source": [
        "import torch\n",
        "import torch.nn as nn\n",
        "\n",
        "# Define the Attention class\n",
        "class Attention(nn.Module):\n",
        "    def __init__(self, hidden_dim):\n",
        "        super(Attention, self).__init__()\n",
        "        self.attention = nn.Linear(hidden_dim, 1, bias=False)  # Linear layer for attention scores\n",
        "\n",
        "    def forward(self, hidden_states):\n",
        "        scores = self.attention(hidden_states)  # Compute attention scores\n",
        "        weights = torch.softmax(scores, dim=1)  # Apply softmax to get attention weights\n",
        "        context = torch.sum(weights * hidden_states, dim=1)  # Compute context vector as weighted sum of hidden states\n",
        "        return context, weights\n",
        "\n",
        "# Example usage\n",
        "attention_layer = Attention(hidden_dim=128)\n",
        "hidden_states = torch.randn(32, 10, 128)  # Batch of 32, sequence length 10, hidden dimension 128\n",
        "context_vector, attention_weights = attention_layer(hidden_states)\n",
        "\n",
        "# Print the shape of the context vector\n",
        "print(\"Context vector shape:\", context_vector.shape)  # Expected shape: [32, 128]"
      ]
    }
  ]
}