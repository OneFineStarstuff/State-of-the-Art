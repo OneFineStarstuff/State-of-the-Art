{
  "nbformat": 4,
  "nbformat_minor": 0,
  "metadata": {
    "colab": {
      "private_outputs": true,
      "provenance": [],
      "authorship_tag": "ABX9TyP+QoHq9UbSwFafE+txDSKw",
      "include_colab_link": true
    },
    "kernelspec": {
      "name": "python3",
      "display_name": "Python 3"
    },
    "language_info": {
      "name": "python"
    }
  },
  "cells": [
    {
      "cell_type": "markdown",
      "metadata": {
        "id": "view-in-github",
        "colab_type": "text"
      },
      "source": [
        "<a href=\"https://colab.research.google.com/github/OneFineStarstuff/State-of-the-Art/blob/main/Attention_Mechanisms.ipynb\" target=\"_parent\"><img src=\"https://colab.research.google.com/assets/colab-badge.svg\" alt=\"Open In Colab\"/></a>"
      ]
    },
    {
      "cell_type": "code",
      "execution_count": null,
      "metadata": {
        "id": "0J3aLFPXLfkA"
      },
      "outputs": [],
      "source": [
        "import torch\n",
        "import torch.nn as nn\n",
        "\n",
        "# Define the Attention mechanism\n",
        "class Attention(nn.Module):\n",
        "    def __init__(self, input_dim):\n",
        "        super(Attention, self).__init__()\n",
        "        self.attn_weights = nn.Linear(input_dim, 1)\n",
        "\n",
        "    def forward(self, x):\n",
        "        attn_scores = self.attn_weights(x).squeeze(-1)\n",
        "        attn_weights = torch.softmax(attn_scores, dim=1)\n",
        "        attn_output = torch.sum(x * attn_weights.unsqueeze(-1), dim=1)\n",
        "        return attn_output\n",
        "\n",
        "# Define the Attention-based classifier\n",
        "class AttentionClassifier(nn.Module):\n",
        "    def __init__(self, input_dim, hidden_dim, num_classes):\n",
        "        super(AttentionClassifier, self).__init__()\n",
        "        self.attn = Attention(input_dim)\n",
        "        self.fc = nn.Linear(input_dim, hidden_dim)\n",
        "        self.out = nn.Linear(hidden_dim, num_classes)\n",
        "\n",
        "    def forward(self, x):\n",
        "        x = self.attn(x)\n",
        "        x = torch.relu(self.fc(x))\n",
        "        x = self.out(x)\n",
        "        return x\n",
        "\n",
        "# Example usage\n",
        "input_dim = 128\n",
        "hidden_dim = 64\n",
        "num_classes = 10\n",
        "\n",
        "# Initialize the model\n",
        "model = AttentionClassifier(input_dim, hidden_dim, num_classes)\n",
        "\n",
        "# Generate random input data (batch size, sequence length, input_dim)\n",
        "input_data = torch.randn(32, 10, input_dim)\n",
        "\n",
        "# Get the model output\n",
        "output = model(input_data)\n",
        "print(output.shape)  # Expected output shape: (batch size, num_classes)"
      ]
    }
  ]
}