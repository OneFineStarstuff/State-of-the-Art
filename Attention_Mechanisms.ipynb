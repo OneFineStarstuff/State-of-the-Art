{
  "nbformat": 4,
  "nbformat_minor": 0,
  "metadata": {
    "colab": {
      "private_outputs": true,
      "provenance": [],
      "authorship_tag": "ABX9TyMwtheLEjY1l2+wQjqxdIAb",
      "include_colab_link": true
    },
    "kernelspec": {
      "name": "python3",
      "display_name": "Python 3"
    },
    "language_info": {
      "name": "python"
    }
  },
  "cells": [
    {
      "cell_type": "markdown",
      "metadata": {
        "id": "view-in-github",
        "colab_type": "text"
      },
      "source": [
        "<a href=\"https://colab.research.google.com/github/OneFineStarstuff/State-of-the-Art/blob/main/Attention_Mechanisms.ipynb\" target=\"_parent\"><img src=\"https://colab.research.google.com/assets/colab-badge.svg\" alt=\"Open In Colab\"/></a>"
      ]
    },
    {
      "cell_type": "code",
      "execution_count": null,
      "metadata": {
        "id": "Y65gl_3O0gpZ"
      },
      "outputs": [],
      "source": [
        "import torch\n",
        "from torch import nn\n",
        "\n",
        "class ScaledDotProductAttention(nn.Module):\n",
        "    def __init__(self, temperature, attn_dropout=0.1):\n",
        "        super().__init__()\n",
        "        self.temperature = temperature\n",
        "        self.dropout = nn.Dropout(attn_dropout)\n",
        "\n",
        "    def forward(self, q, k, v, mask=None):\n",
        "        # Compute scaled dot-product attention\n",
        "        attn = torch.matmul(q / self.temperature, k.transpose(-2, -1))  # Q.K^T\n",
        "\n",
        "        if mask is not None:\n",
        "            attn = attn.masked_fill(mask == 0, -1e9)  # Apply mask if provided\n",
        "\n",
        "        attn = torch.softmax(attn, dim=-1)  # Normalize with softmax\n",
        "        attn = self.dropout(attn)  # Apply dropout for regularization\n",
        "        output = torch.matmul(attn, v)  # Weight the values (V) with attention scores\n",
        "\n",
        "        return output, attn\n",
        "\n",
        "# Example usage\n",
        "if __name__ == \"__main__\":\n",
        "    # Example input tensors: batch size 5, sequence length 8, embedding size 16\n",
        "    q = torch.rand(5, 8, 16)  # Query\n",
        "    k = torch.rand(5, 8, 16)  # Key\n",
        "    v = torch.rand(5, 8, 16)  # Value\n",
        "    mask = torch.randint(0, 2, (5, 8, 8))  # Example mask\n",
        "\n",
        "    # Instantiate and compute attention\n",
        "    attention = ScaledDotProductAttention(temperature=16 ** 0.5)\n",
        "    output, attn_weights = attention(q, k, v, mask)\n",
        "\n",
        "    print(\"Attention Output Shape:\", output.shape)  # Should be [5, 8, 16]\n",
        "    print(\"Attention Weights Shape:\", attn_weights.shape)  # Should be [5, 8, 8]"
      ]
    }
  ]
}