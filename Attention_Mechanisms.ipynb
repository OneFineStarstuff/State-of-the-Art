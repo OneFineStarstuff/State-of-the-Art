{
  "nbformat": 4,
  "nbformat_minor": 0,
  "metadata": {
    "colab": {
      "private_outputs": true,
      "provenance": [],
      "authorship_tag": "ABX9TyP/1gJKOzBA2OIIXCnO/gbb",
      "include_colab_link": true
    },
    "kernelspec": {
      "name": "python3",
      "display_name": "Python 3"
    },
    "language_info": {
      "name": "python"
    }
  },
  "cells": [
    {
      "cell_type": "markdown",
      "metadata": {
        "id": "view-in-github",
        "colab_type": "text"
      },
      "source": [
        "<a href=\"https://colab.research.google.com/github/OneFineStarstuff/State-of-the-Art/blob/main/Attention_Mechanisms.ipynb\" target=\"_parent\"><img src=\"https://colab.research.google.com/assets/colab-badge.svg\" alt=\"Open In Colab\"/></a>"
      ]
    },
    {
      "cell_type": "code",
      "execution_count": null,
      "metadata": {
        "id": "9oIY0O-yPl5b"
      },
      "outputs": [],
      "source": [
        "import torch\n",
        "import torch.nn as nn\n",
        "\n",
        "class Attention(nn.Module):\n",
        "    def __init__(self, hidden_dim):\n",
        "        super(Attention, self).__init__()\n",
        "        self.attention = nn.Linear(hidden_dim, 1)\n",
        "\n",
        "    def forward(self, hidden_states):\n",
        "        scores = self.attention(hidden_states).squeeze(-1)\n",
        "        attention_weights = torch.softmax(scores, dim=1)\n",
        "        context_vector = torch.sum(hidden_states * attention_weights.unsqueeze(-1), dim=1)\n",
        "        return context_vector, attention_weights\n",
        "\n",
        "hidden_dim = 128\n",
        "attention = Attention(hidden_dim)  # Removed .to('cuda')\n",
        "\n",
        "# Dummy data for testing\n",
        "hidden_states = torch.rand(32, 10, hidden_dim)  # Removed .to('cuda')\n",
        "\n",
        "context_vector, attention_weights = attention(hidden_states)\n",
        "print(\"Context vector shape:\", context_vector.shape)\n",
        "print(\"Attention weights shape:\", attention_weights.shape)"
      ]
    }
  ]
}