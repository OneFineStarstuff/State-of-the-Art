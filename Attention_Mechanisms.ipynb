{
  "nbformat": 4,
  "nbformat_minor": 0,
  "metadata": {
    "colab": {
      "private_outputs": true,
      "provenance": [],
      "authorship_tag": "ABX9TyOhaIDRVGurzUBupUrApxqj",
      "include_colab_link": true
    },
    "kernelspec": {
      "name": "python3",
      "display_name": "Python 3"
    },
    "language_info": {
      "name": "python"
    }
  },
  "cells": [
    {
      "cell_type": "markdown",
      "metadata": {
        "id": "view-in-github",
        "colab_type": "text"
      },
      "source": [
        "<a href=\"https://colab.research.google.com/github/OneFineStarstuff/State-of-the-Art/blob/main/Attention_Mechanisms.ipynb\" target=\"_parent\"><img src=\"https://colab.research.google.com/assets/colab-badge.svg\" alt=\"Open In Colab\"/></a>"
      ]
    },
    {
      "cell_type": "code",
      "execution_count": null,
      "metadata": {
        "id": "5rKVnqi0HtAC"
      },
      "outputs": [],
      "source": [
        "import torch\n",
        "import torch.nn as nn\n",
        "import torch.nn.functional as F\n",
        "\n",
        "class Attention(nn.Module):\n",
        "    def __init__(self, input_dim, output_dim):\n",
        "        super(Attention, self).__init__()\n",
        "        self.query = nn.Linear(input_dim, output_dim)\n",
        "        self.key = nn.Linear(input_dim, output_dim)\n",
        "        self.value = nn.Linear(input_dim, output_dim)\n",
        "\n",
        "        # Custom initialization\n",
        "        nn.init.xavier_uniform_(self.query.weight)\n",
        "        nn.init.xavier_uniform_(self.key.weight)\n",
        "        nn.init.xavier_uniform_(self.value.weight)\n",
        "\n",
        "    def forward(self, x, mask=None):\n",
        "        q = self.query(x)\n",
        "        k = self.key(x)\n",
        "        v = self.value(x)\n",
        "\n",
        "        # Scaled dot-product attention\n",
        "        scores = torch.matmul(q, k.transpose(-2, -1)) / torch.sqrt(torch.tensor(q.size(-1), device=x.device, dtype=torch.float32))\n",
        "        if mask is not None:\n",
        "            scores = scores.masked_fill(mask == 0, float('-inf'))  # Apply mask\n",
        "        weights = F.softmax(scores, dim=-1)  # Normalize scores\n",
        "        output = torch.matmul(weights, v)\n",
        "        return output\n",
        "\n",
        "# Example usage\n",
        "input_seq = torch.rand(32, 10, 64)  # Batch size 32, sequence length 10, feature dimension 64\n",
        "attention = Attention(input_dim=64, output_dim=64)\n",
        "output_seq = attention(input_seq)\n",
        "\n",
        "print(\"Output shape:\", output_seq.shape)  # Expected: (32, 10, 64)"
      ]
    }
  ]
}