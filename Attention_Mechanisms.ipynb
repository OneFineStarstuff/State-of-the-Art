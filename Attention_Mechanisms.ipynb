{
  "nbformat": 4,
  "nbformat_minor": 0,
  "metadata": {
    "colab": {
      "private_outputs": true,
      "provenance": [],
      "authorship_tag": "ABX9TyNBapnIGZ/1yu9ILU8NXLeF",
      "include_colab_link": true
    },
    "kernelspec": {
      "name": "python3",
      "display_name": "Python 3"
    },
    "language_info": {
      "name": "python"
    }
  },
  "cells": [
    {
      "cell_type": "markdown",
      "metadata": {
        "id": "view-in-github",
        "colab_type": "text"
      },
      "source": [
        "<a href=\"https://colab.research.google.com/github/OneFineStarstuff/State-of-the-Art/blob/main/Attention_Mechanisms.ipynb\" target=\"_parent\"><img src=\"https://colab.research.google.com/assets/colab-badge.svg\" alt=\"Open In Colab\"/></a>"
      ]
    },
    {
      "cell_type": "code",
      "execution_count": null,
      "metadata": {
        "id": "t0wfgNgsZ9Mk"
      },
      "outputs": [],
      "source": [
        "import torch\n",
        "import torch.nn as nn\n",
        "\n",
        "class Attention(nn.Module):\n",
        "    def __init__(self, hidden_dim):\n",
        "        super(Attention, self).__init__()\n",
        "        self.attn = nn.Linear(hidden_dim * 2, hidden_dim)\n",
        "        self.v = nn.Parameter(torch.rand(hidden_dim))\n",
        "\n",
        "    def forward(self, hidden, encoder_outputs):\n",
        "        batch_size = encoder_outputs.shape[0]\n",
        "        src_len = encoder_outputs.shape[1]\n",
        "\n",
        "        hidden = hidden.unsqueeze(1).repeat(1, src_len, 1)  # Repeat hidden state for each source length\n",
        "\n",
        "        energy = torch.tanh(self.attn(torch.cat((hidden, encoder_outputs), dim=2)))\n",
        "        attention = torch.sum(self.v * energy, dim=2)\n",
        "        return torch.softmax(attention, dim=1)\n",
        "\n",
        "class Seq2Seq(nn.Module):\n",
        "    def __init__(self, input_dim, output_dim, hidden_dim, attention):\n",
        "        super(Seq2Seq, self).__init__()\n",
        "        self.encoder = nn.LSTM(input_dim, hidden_dim, batch_first=True)\n",
        "        self.decoder = nn.LSTM(hidden_dim + input_dim, hidden_dim, batch_first=True)\n",
        "        self.fc = nn.Linear(hidden_dim, output_dim)\n",
        "        self.attention = attention\n",
        "\n",
        "    def forward(self, src, trg):\n",
        "        encoder_outputs, (hidden, _) = self.encoder(src)\n",
        "        hidden = hidden[-1].unsqueeze(0)  # Extract the last hidden state and add batch dimension\n",
        "\n",
        "        outputs = []\n",
        "        for t in range(trg.size(1)):\n",
        "            attention_weights = self.attention(hidden.squeeze(0), encoder_outputs)\n",
        "            context = torch.sum(attention_weights.unsqueeze(2) * encoder_outputs, dim=1)\n",
        "            decoder_input = torch.cat((trg[:, t].unsqueeze(1), context.unsqueeze(1)), dim=2)\n",
        "            output, (hidden, _) = self.decoder(decoder_input, (hidden, torch.zeros_like(hidden)))\n",
        "            output = self.fc(output.squeeze(1))\n",
        "            outputs.append(output)\n",
        "\n",
        "        return torch.stack(outputs, dim=1)\n",
        "\n",
        "input_dim = 10\n",
        "output_dim = 10\n",
        "hidden_dim = 128\n",
        "attention = Attention(hidden_dim)\n",
        "model = Seq2Seq(input_dim, output_dim, hidden_dim, attention)\n",
        "\n",
        "# Example usage\n",
        "src = torch.randn(32, 15, input_dim)\n",
        "trg = torch.randn(32, 10, input_dim)\n",
        "output = model(src, trg)\n",
        "print(output.shape)  # Output: torch.Size([32, 10, 10])"
      ]
    }
  ]
}