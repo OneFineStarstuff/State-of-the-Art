{
  "nbformat": 4,
  "nbformat_minor": 0,
  "metadata": {
    "colab": {
      "private_outputs": true,
      "provenance": [],
      "authorship_tag": "ABX9TyMyk4BxTWUxs7F8sKw1dJi9",
      "include_colab_link": true
    },
    "kernelspec": {
      "name": "python3",
      "display_name": "Python 3"
    },
    "language_info": {
      "name": "python"
    }
  },
  "cells": [
    {
      "cell_type": "markdown",
      "metadata": {
        "id": "view-in-github",
        "colab_type": "text"
      },
      "source": [
        "<a href=\"https://colab.research.google.com/github/OneFineStarstuff/State-of-the-Art/blob/main/Implicit_Neural_Representations_(INRs).ipynb\" target=\"_parent\"><img src=\"https://colab.research.google.com/assets/colab-badge.svg\" alt=\"Open In Colab\"/></a>"
      ]
    },
    {
      "cell_type": "code",
      "execution_count": null,
      "metadata": {
        "id": "fPG8rSvgXV0Z"
      },
      "outputs": [],
      "source": [
        "import torch\n",
        "import torch.nn as nn\n",
        "import torch.optim as optim\n",
        "import matplotlib.pyplot as plt\n",
        "\n",
        "# Define the ImplicitRepresentation class\n",
        "class ImplicitRepresentation(nn.Module):\n",
        "    def __init__(self):\n",
        "        super(ImplicitRepresentation, self).__init__()\n",
        "        self.fc1 = nn.Linear(2, 128)  # First fully connected layer\n",
        "        self.fc2 = nn.Linear(128, 128)  # Second fully connected layer\n",
        "        self.fc3 = nn.Linear(128, 3)  # Output layer\n",
        "\n",
        "    def forward(self, coords):\n",
        "        x = torch.relu(self.fc1(coords))  # Apply ReLU activation after the first layer\n",
        "        x = torch.relu(self.fc2(x))  # Apply ReLU activation after the second layer\n",
        "        return torch.sigmoid(self.fc3(x))  # Apply sigmoid activation to the output layer\n",
        "\n",
        "# Define the function to generate an image\n",
        "def generate_image(model, resolution=100):\n",
        "    coords = torch.stack(torch.meshgrid(torch.linspace(-1, 1, resolution), torch.linspace(-1, 1, resolution)), dim=-1).reshape(-1, 2)  # Create a grid of coordinates\n",
        "    colors = model(coords).reshape(resolution, resolution, 3).detach().numpy()  # Pass the coordinates through the model and reshape the output\n",
        "    return colors\n",
        "\n",
        "# Example usage\n",
        "model = ImplicitRepresentation()\n",
        "optimizer = optim.Adam(model.parameters(), lr=0.001)  # Define the optimizer\n",
        "\n",
        "# Train the model (dummy example, usually use actual data)\n",
        "for _ in range(1000):\n",
        "    optimizer.zero_grad()  # Zero the gradients\n",
        "    output = model(torch.randn(100, 2))  # Forward pass with random input\n",
        "    loss = ((output - torch.rand_like(output))**2).mean()  # Compute the dummy loss\n",
        "    loss.backward()  # Backpropagate the loss\n",
        "    optimizer.step()  # Update the model parameters\n",
        "\n",
        "# Generate and display the image\n",
        "image = generate_image(model)\n",
        "plt.imshow(image)\n",
        "plt.show()"
      ]
    }
  ]
}