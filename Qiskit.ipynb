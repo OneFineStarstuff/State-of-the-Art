{
  "nbformat": 4,
  "nbformat_minor": 0,
  "metadata": {
    "colab": {
      "private_outputs": true,
      "provenance": [],
      "authorship_tag": "ABX9TyM40QQ8TzwWKM8s1l3JVd6J",
      "include_colab_link": true
    },
    "kernelspec": {
      "name": "python3",
      "display_name": "Python 3"
    },
    "language_info": {
      "name": "python"
    }
  },
  "cells": [
    {
      "cell_type": "markdown",
      "metadata": {
        "id": "view-in-github",
        "colab_type": "text"
      },
      "source": [
        "<a href=\"https://colab.research.google.com/github/OneFineStarstuff/State-of-the-Art/blob/main/Qiskit.ipynb\" target=\"_parent\"><img src=\"https://colab.research.google.com/assets/colab-badge.svg\" alt=\"Open In Colab\"/></a>"
      ]
    },
    {
      "cell_type": "code",
      "source": [
        "pip install qiskit qiskit_aer"
      ],
      "metadata": {
        "id": "FLlHVE56igGk"
      },
      "execution_count": null,
      "outputs": []
    },
    {
      "cell_type": "code",
      "execution_count": null,
      "metadata": {
        "id": "sfDV2qIBiVdK"
      },
      "outputs": [],
      "source": [
        "from qiskit import QuantumCircuit, Aer, transpile\n",
        "from qiskit.visualization import plot_histogram\n",
        "\n",
        "# Create quantum circuit with 2 qubits\n",
        "circuit = QuantumCircuit(2)\n",
        "\n",
        "# Apply Hadamard gate to the first qubit\n",
        "circuit.h(0)\n",
        "\n",
        "# Apply CNOT gate with the first qubit as control and the second qubit as target\n",
        "circuit.cx(0, 1)\n",
        "\n",
        "# Measure all qubits\n",
        "circuit.measure_all()\n",
        "\n",
        "# Use QASM simulator to simulate the circuit\n",
        "simulator = Aer.get_backend('qasm_simulator')\n",
        "compiled_circuit = transpile(circuit, simulator)\n",
        "result = simulator.run(compiled_circuit).result()\n",
        "\n",
        "# Get the counts of each measurement outcome\n",
        "counts = result.get_counts()\n",
        "\n",
        "# Plot the histogram of the measurement outcomes\n",
        "plot_histogram(counts)"
      ]
    }
  ]
}