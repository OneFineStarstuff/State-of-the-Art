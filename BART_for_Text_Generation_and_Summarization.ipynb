{
  "nbformat": 4,
  "nbformat_minor": 0,
  "metadata": {
    "colab": {
      "private_outputs": true,
      "provenance": [],
      "authorship_tag": "ABX9TyMTa3RfWiYdUCjL5T+QgVJl",
      "include_colab_link": true
    },
    "kernelspec": {
      "name": "python3",
      "display_name": "Python 3"
    },
    "language_info": {
      "name": "python"
    }
  },
  "cells": [
    {
      "cell_type": "markdown",
      "metadata": {
        "id": "view-in-github",
        "colab_type": "text"
      },
      "source": [
        "<a href=\"https://colab.research.google.com/github/OneFineStarstuff/State-of-the-Art/blob/main/BART_for_Text_Generation_and_Summarization.ipynb\" target=\"_parent\"><img src=\"https://colab.research.google.com/assets/colab-badge.svg\" alt=\"Open In Colab\"/></a>"
      ]
    },
    {
      "cell_type": "code",
      "execution_count": null,
      "metadata": {
        "id": "HLByLoB9vm6E"
      },
      "outputs": [],
      "source": [
        "from transformers import BartTokenizer, BartForConditionalGeneration\n",
        "\n",
        "# Load the tokenizer and model\n",
        "tokenizer = BartTokenizer.from_pretrained(\"facebook/bart-large-cnn\")\n",
        "model = BartForConditionalGeneration.from_pretrained(\"facebook/bart-large-cnn\")\n",
        "\n",
        "# Define the input text\n",
        "text = \"Machine learning is a method of data analysis that automates analytical model building.\"\n",
        "\n",
        "# Tokenize and generate summary\n",
        "input_ids = tokenizer.encode(text, return_tensors=\"pt\")\n",
        "output = model.generate(input_ids)\n",
        "summary = tokenizer.decode(output[0], skip_special_tokens=True)\n",
        "\n",
        "print(summary)"
      ]
    }
  ]
}