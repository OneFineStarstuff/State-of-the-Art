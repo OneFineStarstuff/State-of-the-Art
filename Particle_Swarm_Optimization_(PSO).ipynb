{
  "nbformat": 4,
  "nbformat_minor": 0,
  "metadata": {
    "colab": {
      "private_outputs": true,
      "provenance": [],
      "authorship_tag": "ABX9TyMlEVt7FVBloLBvbeP3g1s1",
      "include_colab_link": true
    },
    "kernelspec": {
      "name": "python3",
      "display_name": "Python 3"
    },
    "language_info": {
      "name": "python"
    }
  },
  "cells": [
    {
      "cell_type": "markdown",
      "metadata": {
        "id": "view-in-github",
        "colab_type": "text"
      },
      "source": [
        "<a href=\"https://colab.research.google.com/github/OneFineStarstuff/State-of-the-Art/blob/main/Particle_Swarm_Optimization_(PSO).ipynb\" target=\"_parent\"><img src=\"https://colab.research.google.com/assets/colab-badge.svg\" alt=\"Open In Colab\"/></a>"
      ]
    },
    {
      "cell_type": "code",
      "source": [
        "pip install pyswarm"
      ],
      "metadata": {
        "id": "CddUDtY-GygW"
      },
      "execution_count": null,
      "outputs": []
    },
    {
      "cell_type": "code",
      "execution_count": null,
      "metadata": {
        "id": "tMdvjLVjGgqm"
      },
      "outputs": [],
      "source": [
        "from pyswarm import pso\n",
        "\n",
        "# Define the objective function\n",
        "def objective_function(x):\n",
        "    return x[0]**2 + x[1]**2 + x[2]**2  # Minimize the sum of squares\n",
        "\n",
        "# Define the bounds for each dimension\n",
        "lb = [-10, -10, -10]  # Lower bounds\n",
        "ub = [10, 10, 10]  # Upper bounds\n",
        "\n",
        "# Perform particle swarm optimization\n",
        "best_position, best_value = pso(objective_function, lb, ub)\n",
        "\n",
        "# Print the best position and value found\n",
        "print(f\"Best Position: {best_position}, Best Value: {best_value}\")"
      ]
    }
  ]
}