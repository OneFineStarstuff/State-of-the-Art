{
  "nbformat": 4,
  "nbformat_minor": 0,
  "metadata": {
    "colab": {
      "private_outputs": true,
      "provenance": [],
      "authorship_tag": "ABX9TyMnH+c4NVEPlnRFkTwcI0R1",
      "include_colab_link": true
    },
    "kernelspec": {
      "name": "python3",
      "display_name": "Python 3"
    },
    "language_info": {
      "name": "python"
    }
  },
  "cells": [
    {
      "cell_type": "markdown",
      "metadata": {
        "id": "view-in-github",
        "colab_type": "text"
      },
      "source": [
        "<a href=\"https://colab.research.google.com/github/OneFineStarstuff/State-of-the-Art/blob/main/Self_Supervised_Learning_with_SimCLR.ipynb\" target=\"_parent\"><img src=\"https://colab.research.google.com/assets/colab-badge.svg\" alt=\"Open In Colab\"/></a>"
      ]
    },
    {
      "cell_type": "code",
      "execution_count": null,
      "metadata": {
        "id": "TMm__TXMzcIg"
      },
      "outputs": [],
      "source": [
        "import torch\n",
        "import torch.nn as nn\n",
        "import torch.optim as optim\n",
        "from torchvision import datasets, transforms, models\n",
        "from torch.utils.data import DataLoader\n",
        "import torch.nn.functional as F\n",
        "import numpy as np\n",
        "\n",
        "class SimCLR(nn.Module):\n",
        "    def __init__(self, base_model, out_dim):\n",
        "        super(SimCLR, self).__init__()\n",
        "        self.encoder = base_model(pretrained=False)\n",
        "        in_features = self.encoder.fc.in_features\n",
        "        self.encoder.fc = nn.Identity()\n",
        "        self.projector = nn.Sequential(\n",
        "            nn.Linear(in_features, 512),\n",
        "            nn.ReLU(),\n",
        "            nn.Linear(512, out_dim)\n",
        "        )\n",
        "\n",
        "    def forward(self, x):\n",
        "        h = self.encoder(x)\n",
        "        z = self.projector(h)\n",
        "        return F.normalize(z, dim=1)\n",
        "\n",
        "def contrastive_loss(z_i, z_j, temperature=0.5):\n",
        "    batch_size = z_i.size(0)\n",
        "    z = torch.cat((z_i, z_j), dim=0)\n",
        "    sim = F.cosine_similarity(z.unsqueeze(1), z.unsqueeze(0), dim=2)\n",
        "    sim_i_j = torch.diag(sim, batch_size)\n",
        "    sim_j_i = torch.diag(sim, -batch_size)\n",
        "    positives = torch.cat([sim_i_j, sim_j_i], dim=0)\n",
        "    negatives = sim[~torch.eye(2 * batch_size, device=sim.device).bool()].view(2 * batch_size, -1)\n",
        "    logits = torch.cat([positives.unsqueeze(1), negatives], dim=1)\n",
        "    labels = torch.zeros(2 * batch_size).long().to(z.device)\n",
        "    return F.cross_entropy(logits / temperature, labels)\n",
        "\n",
        "device = 'cuda' if torch.cuda.is_available() else 'cpu'\n",
        "\n",
        "transform = transforms.Compose([\n",
        "    transforms.RandomResizedCrop(32),\n",
        "    transforms.RandomHorizontalFlip(),\n",
        "    transforms.ToTensor(),\n",
        "])\n",
        "train_dataset = datasets.CIFAR10(root='./data', train=True, transform=transform, download=True)\n",
        "train_loader = DataLoader(train_dataset, batch_size=256, shuffle=True)\n",
        "\n",
        "model = SimCLR(models.resnet18, out_dim=128).to(device)\n",
        "optimizer = optim.Adam(model.parameters(), lr=1e-3)\n",
        "\n",
        "for epoch in range(100):\n",
        "    model.train()\n",
        "    train_loss = 0\n",
        "    for batch_idx, (data, _) in enumerate(train_loader):\n",
        "        data = data.to(device)\n",
        "        data_i, data_j = torch.chunk(data, 2)\n",
        "        z_i = model(data_i)\n",
        "        z_j = model(data_j)\n",
        "        loss = contrastive_loss(z_i, z_j)\n",
        "        optimizer.zero_grad()\n",
        "        loss.backward()\n",
        "        train_loss += loss.item()\n",
        "        optimizer.step()\n",
        "    print(f\"Epoch {epoch + 1}, Loss: {train_loss / len(train_loader)}\")"
      ]
    }
  ]
}