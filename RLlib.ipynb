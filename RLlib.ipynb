{
  "nbformat": 4,
  "nbformat_minor": 0,
  "metadata": {
    "colab": {
      "private_outputs": true,
      "provenance": [],
      "authorship_tag": "ABX9TyO4yIiex4OT6S2bCBrunp+Q",
      "include_colab_link": true
    },
    "kernelspec": {
      "name": "python3",
      "display_name": "Python 3"
    },
    "language_info": {
      "name": "python"
    }
  },
  "cells": [
    {
      "cell_type": "markdown",
      "metadata": {
        "id": "view-in-github",
        "colab_type": "text"
      },
      "source": [
        "<a href=\"https://colab.research.google.com/github/OneFineStarstuff/State-of-the-Art/blob/main/RLlib.ipynb\" target=\"_parent\"><img src=\"https://colab.research.google.com/assets/colab-badge.svg\" alt=\"Open In Colab\"/></a>"
      ]
    },
    {
      "cell_type": "code",
      "source": [
        "pip install ray gymnasium"
      ],
      "metadata": {
        "id": "HQaAvHMvpLye"
      },
      "execution_count": null,
      "outputs": []
    },
    {
      "cell_type": "code",
      "execution_count": null,
      "metadata": {
        "id": "BsF1NBoeo7QV"
      },
      "outputs": [],
      "source": [
        "from ray.rllib.agents import ppo\n",
        "from ray.tune.registry import register_env\n",
        "import gym\n",
        "\n",
        "# Define the environment creator\n",
        "def env_creator(env_config):\n",
        "    return gym.make(\"CartPole-v1\")\n",
        "\n",
        "# Register the environment\n",
        "register_env(\"my_env\", env_creator)\n",
        "\n",
        "# Copy the default PPO configuration and set the environment\n",
        "config = ppo.DEFAULT_CONFIG.copy()\n",
        "config[\"env\"] = \"my_env\"\n",
        "\n",
        "# Initialize the PPO trainer with the specified configuration\n",
        "trainer = ppo.PPOTrainer(config=config)\n",
        "\n",
        "# Train the model for 10 iterations and print the mean reward for each iteration\n",
        "for i in range(10):\n",
        "    result = trainer.train()\n",
        "    print(f\"Iteration {i}: reward_mean: {result['episode_reward_mean']}\")"
      ]
    }
  ]
}