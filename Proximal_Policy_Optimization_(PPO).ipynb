{
  "nbformat": 4,
  "nbformat_minor": 0,
  "metadata": {
    "colab": {
      "private_outputs": true,
      "provenance": [],
      "authorship_tag": "ABX9TyNDkEDbhGR2qFWTQD50Uw5q",
      "include_colab_link": true
    },
    "kernelspec": {
      "name": "python3",
      "display_name": "Python 3"
    },
    "language_info": {
      "name": "python"
    }
  },
  "cells": [
    {
      "cell_type": "markdown",
      "metadata": {
        "id": "view-in-github",
        "colab_type": "text"
      },
      "source": [
        "<a href=\"https://colab.research.google.com/github/OneFineStarstuff/State-of-the-Art/blob/main/Proximal_Policy_Optimization_(PPO).ipynb\" target=\"_parent\"><img src=\"https://colab.research.google.com/assets/colab-badge.svg\" alt=\"Open In Colab\"/></a>"
      ]
    },
    {
      "cell_type": "code",
      "source": [
        "pip install --upgrade gym stable-baselines3"
      ],
      "metadata": {
        "id": "O1X781E9TuSv"
      },
      "execution_count": null,
      "outputs": []
    },
    {
      "cell_type": "code",
      "source": [
        "pip install 'shimmy>=2.0'"
      ],
      "metadata": {
        "id": "w1-3WY1dT7RC"
      },
      "execution_count": null,
      "outputs": []
    },
    {
      "cell_type": "code",
      "execution_count": null,
      "metadata": {
        "id": "rkP_eQCdTVY3"
      },
      "outputs": [],
      "source": [
        "pip install gymnasium"
      ]
    },
    {
      "cell_type": "code",
      "source": [
        "import gym\n",
        "from stable_baselines3 import PPO\n",
        "from stable_baselines3.common.vec_env import DummyVecEnv\n",
        "\n",
        "# Create the environment using Gym\n",
        "env = gym.make('CartPole-v1')\n",
        "\n",
        "# Optionally wrap the environment with step_api_compatibility for newer Gym versions\n",
        "env = gym.wrappers.StepAPICompatibility(env)\n",
        "\n",
        "# Wrap the environment with DummyVecEnv for compatibility with Stable Baselines3\n",
        "env = DummyVecEnv([lambda: env])\n",
        "\n",
        "# Initialize the PPO model\n",
        "model = PPO('MlpPolicy', env, verbose=1)\n",
        "\n",
        "# Train the model\n",
        "model.learn(total_timesteps=10000)\n",
        "\n",
        "# Evaluate the trained model\n",
        "obs = env.reset()\n",
        "for _ in range(1000):\n",
        "    action, _states = model.predict(obs)\n",
        "    output = env.step(action)  # Adjusted to handle latest Gym API\n",
        "\n",
        "    if len(output) == 5:\n",
        "        obs, rewards, dones, truncated, infos = output\n",
        "    else:\n",
        "        obs, rewards, dones, infos = output\n",
        "        truncated = [False] * len(dones)\n",
        "\n",
        "    env.render()\n",
        "    # Handle the done flag appropriately\n",
        "    if dones[0] or truncated[0]:\n",
        "        obs = env.reset()\n",
        "env.close()"
      ],
      "metadata": {
        "id": "axUwEK4QUoLC"
      },
      "execution_count": null,
      "outputs": []
    }
  ]
}