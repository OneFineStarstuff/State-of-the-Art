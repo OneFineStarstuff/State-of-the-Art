{
  "nbformat": 4,
  "nbformat_minor": 0,
  "metadata": {
    "colab": {
      "private_outputs": true,
      "provenance": [],
      "authorship_tag": "ABX9TyNbIne5jqsZP95SOvKRq7mu",
      "include_colab_link": true
    },
    "kernelspec": {
      "name": "python3",
      "display_name": "Python 3"
    },
    "language_info": {
      "name": "python"
    }
  },
  "cells": [
    {
      "cell_type": "markdown",
      "metadata": {
        "id": "view-in-github",
        "colab_type": "text"
      },
      "source": [
        "<a href=\"https://colab.research.google.com/github/OneFineStarstuff/State-of-the-Art/blob/main/Proximal_Policy_Optimization_(PPO).ipynb\" target=\"_parent\"><img src=\"https://colab.research.google.com/assets/colab-badge.svg\" alt=\"Open In Colab\"/></a>"
      ]
    },
    {
      "cell_type": "code",
      "execution_count": null,
      "metadata": {
        "id": "MRePZaFi_oM4"
      },
      "outputs": [],
      "source": [
        "pip install gym stable-baselines3"
      ]
    },
    {
      "cell_type": "code",
      "source": [
        "pip install 'shimmy>=2.0'"
      ],
      "metadata": {
        "id": "L65E4EHBAGJZ"
      },
      "execution_count": null,
      "outputs": []
    },
    {
      "cell_type": "code",
      "source": [
        "pip install gymnasium"
      ],
      "metadata": {
        "id": "8H5E6zBoAvVH"
      },
      "execution_count": null,
      "outputs": []
    },
    {
      "cell_type": "code",
      "source": [
        "import gymnasium as gym\n",
        "from stable_baselines3 import PPO\n",
        "from stable_baselines3.common.vec_env import DummyVecEnv\n",
        "\n",
        "# Create the environment\n",
        "def make_env():\n",
        "    env = gym.make(\"CartPole-v1\")\n",
        "    return env\n",
        "\n",
        "env = DummyVecEnv([make_env])\n",
        "\n",
        "# Create the PPO agent\n",
        "model = PPO(\"MlpPolicy\", env, verbose=1)\n",
        "\n",
        "# Train the agent\n",
        "model.learn(total_timesteps=10000)\n",
        "\n",
        "# Save the model\n",
        "model.save(\"ppo_cartpole\")\n",
        "\n",
        "# Load the trained model and evaluate it\n",
        "model = PPO.load(\"ppo_cartpole\")\n",
        "obs = env.reset()\n",
        "if isinstance(obs, tuple):\n",
        "    obs = obs[0]  # Handle single or multiple return values\n",
        "for _ in range(1000):\n",
        "    action, _states = model.predict(obs)\n",
        "    obs, rewards, dones, info = env.step(action)\n",
        "    if isinstance(obs, tuple):\n",
        "        obs = obs[0]  # Handle single or multiple return values\n",
        "    env.render()\n",
        "env.close()"
      ],
      "metadata": {
        "id": "xYTGk9We_xvd"
      },
      "execution_count": null,
      "outputs": []
    }
  ]
}