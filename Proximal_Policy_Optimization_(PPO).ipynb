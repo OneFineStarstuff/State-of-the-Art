{
  "nbformat": 4,
  "nbformat_minor": 0,
  "metadata": {
    "colab": {
      "private_outputs": true,
      "provenance": [],
      "authorship_tag": "ABX9TyPcVDVBF39rsV+T6LotV2gm",
      "include_colab_link": true
    },
    "kernelspec": {
      "name": "python3",
      "display_name": "Python 3"
    },
    "language_info": {
      "name": "python"
    }
  },
  "cells": [
    {
      "cell_type": "markdown",
      "metadata": {
        "id": "view-in-github",
        "colab_type": "text"
      },
      "source": [
        "<a href=\"https://colab.research.google.com/github/OneFineStarstuff/State-of-the-Art/blob/main/Proximal_Policy_Optimization_(PPO).ipynb\" target=\"_parent\"><img src=\"https://colab.research.google.com/assets/colab-badge.svg\" alt=\"Open In Colab\"/></a>"
      ]
    },
    {
      "cell_type": "code",
      "execution_count": null,
      "metadata": {
        "id": "1ZlSW7nISSOz"
      },
      "outputs": [],
      "source": [
        "import torch\n",
        "import torch.nn as nn\n",
        "import torch.optim as optim\n",
        "\n",
        "class PolicyNetwork(nn.Module):\n",
        "    def __init__(self, input_dim, action_dim):\n",
        "        super(PolicyNetwork, self).__init__()\n",
        "        self.fc = nn.Sequential(\n",
        "            nn.Linear(input_dim, 64),\n",
        "            nn.ReLU(),\n",
        "            nn.Linear(64, action_dim)\n",
        "        )\n",
        "\n",
        "    def forward(self, x):\n",
        "        return torch.softmax(self.fc(x), dim=-1)\n",
        "\n",
        "def compute_ppo_loss(policy_net, old_probs, actions, states, rewards, epsilon=0.2):\n",
        "    new_probs = policy_net(states)\n",
        "    action_probabilities = new_probs.gather(1, actions.unsqueeze(1)).squeeze(1)\n",
        "    prob_ratio = action_probabilities / old_probs.gather(1, actions.unsqueeze(1)).squeeze(1)\n",
        "    clipped_ratio = torch.clamp(prob_ratio, 1 - epsilon, 1 + epsilon)\n",
        "    loss = -torch.min(prob_ratio * rewards, clipped_ratio * rewards).mean()\n",
        "    return loss\n",
        "\n",
        "# Example usage\n",
        "input_dim = 4  # State space dimension\n",
        "action_dim = 2  # Number of possible actions\n",
        "policy_net = PolicyNetwork(input_dim, action_dim)\n",
        "optimizer = optim.Adam(policy_net.parameters(), lr=0.001)\n",
        "\n",
        "states = torch.randn(32, input_dim)\n",
        "old_probs = torch.randn(32, action_dim).softmax(dim=-1)\n",
        "actions = torch.randint(0, action_dim, (32,))\n",
        "rewards = torch.randn(32)\n",
        "\n",
        "loss = compute_ppo_loss(policy_net, old_probs, actions, states, rewards)\n",
        "optimizer.zero_grad()\n",
        "loss.backward()\n",
        "optimizer.step()\n",
        "print(f'PPO Training Loss: {loss.item():.4f}')"
      ]
    }
  ]
}