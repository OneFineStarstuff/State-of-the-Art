{
  "nbformat": 4,
  "nbformat_minor": 0,
  "metadata": {
    "colab": {
      "private_outputs": true,
      "provenance": [],
      "authorship_tag": "ABX9TyPHMvgJ3IJaeD1fN7g/oCGB",
      "include_colab_link": true
    },
    "kernelspec": {
      "name": "python3",
      "display_name": "Python 3"
    },
    "language_info": {
      "name": "python"
    }
  },
  "cells": [
    {
      "cell_type": "markdown",
      "metadata": {
        "id": "view-in-github",
        "colab_type": "text"
      },
      "source": [
        "<a href=\"https://colab.research.google.com/github/OneFineStarstuff/State-of-the-Art/blob/main/Proximal_Policy_Optimization_(PPO).ipynb\" target=\"_parent\"><img src=\"https://colab.research.google.com/assets/colab-badge.svg\" alt=\"Open In Colab\"/></a>"
      ]
    },
    {
      "cell_type": "code",
      "execution_count": null,
      "metadata": {
        "id": "fAi5nr1V3EBX"
      },
      "outputs": [],
      "source": [
        "import gym\n",
        "import torch\n",
        "import torch.nn as nn\n",
        "import torch.optim as optim\n",
        "from torch.distributions import Categorical\n",
        "\n",
        "class PolicyNetwork(nn.Module):\n",
        "    def __init__(self):\n",
        "        super(PolicyNetwork, self).__init__()\n",
        "        self.fc1 = nn.Linear(4, 128)\n",
        "        self.fc2 = nn.Linear(128, 2)\n",
        "\n",
        "    def forward(self, x):\n",
        "        x = torch.relu(self.fc1(x))\n",
        "        return torch.softmax(self.fc2(x), dim=-1)\n",
        "\n",
        "def compute_returns(rewards, gamma=0.99):\n",
        "    R = 0\n",
        "    returns = []\n",
        "    for r in reversed(rewards):\n",
        "        R = r + gamma * R\n",
        "        returns.insert(0, R)\n",
        "    return returns\n",
        "\n",
        "env = gym.make('CartPole-v1', new_step_api=True)\n",
        "policy = PolicyNetwork()\n",
        "optimizer = optim.Adam(policy.parameters(), lr=1e-2)\n",
        "\n",
        "for episode in range(1000):\n",
        "    state = env.reset() if isinstance(env.reset(), tuple) else env.reset()\n",
        "    log_probs = []\n",
        "    rewards = []\n",
        "    done = False\n",
        "    while not done:\n",
        "        state = torch.tensor(state, dtype=torch.float32)\n",
        "        probs = policy(state)\n",
        "        m = Categorical(probs)\n",
        "        action = m.sample()\n",
        "        log_prob = m.log_prob(action)\n",
        "        log_probs.append(log_prob)\n",
        "        next_state, reward, done, truncated, _ = env.step(action.item())\n",
        "        done = done or truncated\n",
        "        rewards.append(reward)\n",
        "        state = next_state\n",
        "\n",
        "    returns = compute_returns(rewards)\n",
        "    loss = 0\n",
        "    for log_prob, R in zip(log_probs, returns):\n",
        "        loss += -log_prob * R\n",
        "\n",
        "    optimizer.zero_grad()\n",
        "    loss.backward()\n",
        "    optimizer.step()\n",
        "\n",
        "    if episode % 100 == 0:\n",
        "        print(f\"Episode {episode}, loss: {loss.item()}\")"
      ]
    }
  ]
}