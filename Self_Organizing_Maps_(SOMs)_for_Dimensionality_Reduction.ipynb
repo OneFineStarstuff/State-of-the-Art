{
  "nbformat": 4,
  "nbformat_minor": 0,
  "metadata": {
    "colab": {
      "private_outputs": true,
      "provenance": [],
      "authorship_tag": "ABX9TyO38aDjkKMIC2BYRIR2lC8w",
      "include_colab_link": true
    },
    "kernelspec": {
      "name": "python3",
      "display_name": "Python 3"
    },
    "language_info": {
      "name": "python"
    }
  },
  "cells": [
    {
      "cell_type": "markdown",
      "metadata": {
        "id": "view-in-github",
        "colab_type": "text"
      },
      "source": [
        "<a href=\"https://colab.research.google.com/github/OneFineStarstuff/State-of-the-Art/blob/main/Self_Organizing_Maps_(SOMs)_for_Dimensionality_Reduction.ipynb\" target=\"_parent\"><img src=\"https://colab.research.google.com/assets/colab-badge.svg\" alt=\"Open In Colab\"/></a>"
      ]
    },
    {
      "cell_type": "code",
      "source": [
        "pip install minisom"
      ],
      "metadata": {
        "id": "h2CLUHr7T8tS"
      },
      "execution_count": null,
      "outputs": []
    },
    {
      "cell_type": "code",
      "execution_count": null,
      "metadata": {
        "id": "aS2l98G7TpxZ"
      },
      "outputs": [],
      "source": [
        "from minisom import MiniSom\n",
        "import numpy as np\n",
        "import matplotlib.pyplot as plt\n",
        "\n",
        "# Generate some data\n",
        "data = np.random.rand(100, 3)\n",
        "\n",
        "# Initialize the SOM\n",
        "som = MiniSom(x=10, y=10, input_len=3, sigma=0.3, learning_rate=0.5)\n",
        "som.random_weights_init(data)\n",
        "som.train_random(data, 100)\n",
        "\n",
        "# Visualize the result\n",
        "plt.figure(figsize=(10, 10))\n",
        "for i, (x, y) in enumerate(som.win_map(data).items()):\n",
        "    plt.scatter(x[0], x[1], label=f'Cluster {i}')\n",
        "plt.legend()\n",
        "plt.show()"
      ]
    }
  ]
}