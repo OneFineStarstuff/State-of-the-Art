{
  "nbformat": 4,
  "nbformat_minor": 0,
  "metadata": {
    "colab": {
      "private_outputs": true,
      "provenance": [],
      "authorship_tag": "ABX9TyMQk8Es6JciRovBeZVb9kCr",
      "include_colab_link": true
    },
    "kernelspec": {
      "name": "python3",
      "display_name": "Python 3"
    },
    "language_info": {
      "name": "python"
    }
  },
  "cells": [
    {
      "cell_type": "markdown",
      "metadata": {
        "id": "view-in-github",
        "colab_type": "text"
      },
      "source": [
        "<a href=\"https://colab.research.google.com/github/OneFineStarstuff/State-of-the-Art/blob/main/Hyperband.ipynb\" target=\"_parent\"><img src=\"https://colab.research.google.com/assets/colab-badge.svg\" alt=\"Open In Colab\"/></a>"
      ]
    },
    {
      "cell_type": "code",
      "execution_count": null,
      "metadata": {
        "id": "wWCFRpibDAei"
      },
      "outputs": [],
      "source": [
        "from hyperopt import hp, fmin, tpe, Trials\n",
        "from hyperopt.pyll import scope\n",
        "from sklearn.datasets import load_iris\n",
        "from sklearn.model_selection import cross_val_score\n",
        "from sklearn.ensemble import RandomForestClassifier\n",
        "\n",
        "def objective(params):\n",
        "    clf = RandomForestClassifier(**params)\n",
        "    accuracy = cross_val_score(clf, X, y, cv=5, scoring='accuracy').mean()\n",
        "    return -accuracy\n",
        "\n",
        "X, y = load_iris(return_X_y=True)\n",
        "\n",
        "# Define the search space with valid values for 'max_features'\n",
        "space = {\n",
        "    'max_depth': scope.int(hp.quniform('max_depth', 1, 32, 1)),\n",
        "    'n_estimators': scope.int(hp.quniform('n_estimators', 10, 500, 10)),\n",
        "    'max_features': hp.choice('max_features', ['sqrt', 'log2'])\n",
        "}\n",
        "\n",
        "trials = Trials()\n",
        "best = fmin(fn=objective, space=space, algo=tpe.suggest, max_evals=100, trials=trials)\n",
        "\n",
        "print(f\"Best parameters: {best}\")"
      ]
    }
  ]
}