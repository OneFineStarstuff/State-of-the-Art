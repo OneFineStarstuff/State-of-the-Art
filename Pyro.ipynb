{
  "nbformat": 4,
  "nbformat_minor": 0,
  "metadata": {
    "colab": {
      "private_outputs": true,
      "provenance": [],
      "authorship_tag": "ABX9TyNfOxAtnQH0q4aIFye7ScEI",
      "include_colab_link": true
    },
    "kernelspec": {
      "name": "python3",
      "display_name": "Python 3"
    },
    "language_info": {
      "name": "python"
    }
  },
  "cells": [
    {
      "cell_type": "markdown",
      "metadata": {
        "id": "view-in-github",
        "colab_type": "text"
      },
      "source": [
        "<a href=\"https://colab.research.google.com/github/OneFineStarstuff/State-of-the-Art/blob/main/Pyro.ipynb\" target=\"_parent\"><img src=\"https://colab.research.google.com/assets/colab-badge.svg\" alt=\"Open In Colab\"/></a>"
      ]
    },
    {
      "cell_type": "code",
      "source": [
        "pip install pyro-ppl"
      ],
      "metadata": {
        "id": "JKimYY3dpjLi"
      },
      "execution_count": null,
      "outputs": []
    },
    {
      "cell_type": "code",
      "execution_count": null,
      "metadata": {
        "id": "As7dvhDOpP_W"
      },
      "outputs": [],
      "source": [
        "import pyro\n",
        "import pyro.distributions as dist\n",
        "import torch\n",
        "\n",
        "# Define the model\n",
        "def model(data):\n",
        "    loc = pyro.sample(\"loc\", dist.Normal(0., 1.))\n",
        "    scale = pyro.sample(\"scale\", dist.LogNormal(0., 1.))\n",
        "    with pyro.plate(\"data\", len(data)):\n",
        "        pyro.sample(\"obs\", dist.Normal(loc, scale), obs=data)\n",
        "\n",
        "# Define the guide\n",
        "def guide(data):\n",
        "    loc_loc = pyro.param(\"loc_loc\", torch.tensor(0.))\n",
        "    loc_scale = pyro.param(\"loc_scale\", torch.tensor(1.))\n",
        "    scale_loc = pyro.param(\"scale_loc\", torch.tensor(0.))\n",
        "    scale_scale = pyro.param(\"scale_scale\", torch.tensor(1.))\n",
        "\n",
        "    pyro.sample(\"loc\", dist.Normal(loc_loc, loc_scale))\n",
        "    pyro.sample(\"scale\", dist.LogNormal(scale_loc, scale_scale))\n",
        "\n",
        "# Generate some data\n",
        "data = torch.randn(100)\n",
        "\n",
        "# Clear the parameter store\n",
        "pyro.clear_param_store()\n",
        "\n",
        "# Setup the SVI object\n",
        "svi = pyro.infer.SVI(model=model, guide=guide, optim=pyro.optim.Adam({\"lr\": 0.01}), loss=pyro.infer.Trace_ELBO())\n",
        "\n",
        "# Perform inference\n",
        "num_iterations = 1000\n",
        "for _ in range(num_iterations):\n",
        "    loss = svi.step(data)\n",
        "\n",
        "# Print the learned parameters\n",
        "for name, value in pyro.get_param_store().items():\n",
        "    print(name, value)"
      ]
    }
  ]
}