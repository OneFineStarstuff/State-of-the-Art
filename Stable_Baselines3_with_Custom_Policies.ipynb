{
  "nbformat": 4,
  "nbformat_minor": 0,
  "metadata": {
    "colab": {
      "private_outputs": true,
      "provenance": [],
      "authorship_tag": "ABX9TyMea7H3CkttBjUcQUSjqf39",
      "include_colab_link": true
    },
    "kernelspec": {
      "name": "python3",
      "display_name": "Python 3"
    },
    "language_info": {
      "name": "python"
    }
  },
  "cells": [
    {
      "cell_type": "markdown",
      "metadata": {
        "id": "view-in-github",
        "colab_type": "text"
      },
      "source": [
        "<a href=\"https://colab.research.google.com/github/OneFineStarstuff/State-of-the-Art/blob/main/Stable_Baselines3_with_Custom_Policies.ipynb\" target=\"_parent\"><img src=\"https://colab.research.google.com/assets/colab-badge.svg\" alt=\"Open In Colab\"/></a>"
      ]
    },
    {
      "cell_type": "code",
      "source": [
        "pip install stable_baselines3"
      ],
      "metadata": {
        "id": "1OyxJ6flqYJc"
      },
      "execution_count": null,
      "outputs": []
    },
    {
      "cell_type": "code",
      "execution_count": null,
      "metadata": {
        "id": "CAiQyS54qFZM"
      },
      "outputs": [],
      "source": [
        "from stable_baselines3 import PPO\n",
        "from stable_baselines3.common.env_util import make_vec_env\n",
        "from stable_baselines3.common.policies import ActorCriticPolicy\n",
        "import gym\n",
        "\n",
        "# Define a custom policy class\n",
        "class CustomPolicy(ActorCriticPolicy):\n",
        "    def __init__(self, *args, **kwargs):\n",
        "        super().__init__(*args, **kwargs)\n",
        "        # Add custom layers here if needed\n",
        "\n",
        "# Create a vectorized environment for CartPole-v1\n",
        "env = make_vec_env('CartPole-v1', n_envs=1)\n",
        "\n",
        "# Initialize the PPO model with the custom policy and environment\n",
        "model = PPO(CustomPolicy, env, verbose=1)\n",
        "\n",
        "# Train the model for 10,000 timesteps\n",
        "model.learn(total_timesteps=10000)"
      ]
    }
  ]
}