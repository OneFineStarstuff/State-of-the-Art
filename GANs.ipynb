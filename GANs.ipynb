{
  "nbformat": 4,
  "nbformat_minor": 0,
  "metadata": {
    "colab": {
      "private_outputs": true,
      "provenance": [],
      "authorship_tag": "ABX9TyOAyRFc0tX73au35rET2DhJ",
      "include_colab_link": true
    },
    "kernelspec": {
      "name": "python3",
      "display_name": "Python 3"
    },
    "language_info": {
      "name": "python"
    }
  },
  "cells": [
    {
      "cell_type": "markdown",
      "metadata": {
        "id": "view-in-github",
        "colab_type": "text"
      },
      "source": [
        "<a href=\"https://colab.research.google.com/github/OneFineStarstuff/State-of-the-Art/blob/main/GANs.ipynb\" target=\"_parent\"><img src=\"https://colab.research.google.com/assets/colab-badge.svg\" alt=\"Open In Colab\"/></a>"
      ]
    },
    {
      "cell_type": "code",
      "execution_count": null,
      "metadata": {
        "id": "kJ6abyN_ucpg"
      },
      "outputs": [],
      "source": [
        "import torch\n",
        "import torch.nn as nn\n",
        "import torch.optim as optim\n",
        "from torchvision import datasets, transforms\n",
        "from torch.utils.data import DataLoader\n",
        "\n",
        "class Generator(nn.Module):\n",
        "    def __init__(self, input_dim, output_dim):\n",
        "        super(Generator, self).__init__()\n",
        "        self.fc = nn.Sequential(\n",
        "            nn.Linear(input_dim, 128),\n",
        "            nn.ReLU(),\n",
        "            nn.Linear(128, output_dim),\n",
        "            nn.Tanh()\n",
        "        )\n",
        "\n",
        "    def forward(self, x):\n",
        "        return self.fc(x)\n",
        "\n",
        "class Discriminator(nn.Module):\n",
        "    def __init__(self, input_dim):\n",
        "        super(Discriminator, self).__init__()\n",
        "        self.fc = nn.Sequential(\n",
        "            nn.Linear(input_dim, 128),\n",
        "            nn.ReLU(),\n",
        "            nn.Linear(128, 1),\n",
        "            nn.Sigmoid()\n",
        "        )\n",
        "\n",
        "    def forward(self, x):\n",
        "        return self.fc(x)\n",
        "\n",
        "def train_gan(generator, discriminator, dataloader, epochs):\n",
        "    criterion = nn.BCELoss()\n",
        "    optimizer_g = optim.Adam(generator.parameters(), lr=0.0002)\n",
        "    optimizer_d = optim.Adam(discriminator.parameters(), lr=0.0002)\n",
        "\n",
        "    for epoch in range(epochs):\n",
        "        for real_data, _ in dataloader:\n",
        "            batch_size = real_data.size(0)\n",
        "            real_labels = torch.ones(batch_size, 1)\n",
        "            fake_labels = torch.zeros(batch_size, 1)\n",
        "\n",
        "            # Train discriminator\n",
        "            optimizer_d.zero_grad()\n",
        "            outputs = discriminator(real_data.view(batch_size, -1))\n",
        "            d_loss_real = criterion(outputs, real_labels)\n",
        "            d_loss_real.backward()\n",
        "\n",
        "            noise = torch.randn(batch_size, generator.fc[0].in_features)\n",
        "            fake_data = generator(noise)\n",
        "            outputs = discriminator(fake_data.detach())\n",
        "            d_loss_fake = criterion(outputs, fake_labels)\n",
        "            d_loss_fake.backward()\n",
        "\n",
        "            optimizer_d.step()\n",
        "\n",
        "            # Train generator\n",
        "            optimizer_g.zero_grad()\n",
        "            outputs = discriminator(fake_data)\n",
        "            g_loss = criterion(outputs, real_labels)\n",
        "            g_loss.backward()\n",
        "\n",
        "            optimizer_g.step()\n",
        "\n",
        "        print(f'Epoch {epoch + 1}/{epochs}, D Loss: {d_loss_real + d_loss_fake:.4f}, G Loss: {g_loss:.4f}')\n",
        "\n",
        "# Example usage\n",
        "generator = Generator(input_dim=100, output_dim=28*28)\n",
        "discriminator = Discriminator(input_dim=28*28)\n",
        "\n",
        "# DataLoader for MNIST dataset\n",
        "transform = transforms.Compose([\n",
        "    transforms.ToTensor(),\n",
        "    transforms.Normalize((0.5,), (0.5,))\n",
        "])\n",
        "\n",
        "dataset = datasets.MNIST(root='mnist_data', train=True, transform=transform, download=True)\n",
        "dataloader = DataLoader(dataset, batch_size=64, shuffle=True)\n",
        "\n",
        "# Train the GAN\n",
        "train_gan(generator, discriminator, dataloader, epochs=100)"
      ]
    }
  ]
}