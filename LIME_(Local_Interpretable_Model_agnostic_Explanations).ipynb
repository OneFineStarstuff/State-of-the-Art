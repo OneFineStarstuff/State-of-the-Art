{
  "nbformat": 4,
  "nbformat_minor": 0,
  "metadata": {
    "colab": {
      "private_outputs": true,
      "provenance": [],
      "authorship_tag": "ABX9TyMxmS6qbcNxGRw906KmcGMP",
      "include_colab_link": true
    },
    "kernelspec": {
      "name": "python3",
      "display_name": "Python 3"
    },
    "language_info": {
      "name": "python"
    }
  },
  "cells": [
    {
      "cell_type": "markdown",
      "metadata": {
        "id": "view-in-github",
        "colab_type": "text"
      },
      "source": [
        "<a href=\"https://colab.research.google.com/github/OneFineStarstuff/State-of-the-Art/blob/main/LIME_(Local_Interpretable_Model_agnostic_Explanations).ipynb\" target=\"_parent\"><img src=\"https://colab.research.google.com/assets/colab-badge.svg\" alt=\"Open In Colab\"/></a>"
      ]
    },
    {
      "cell_type": "code",
      "source": [
        "pip install lime"
      ],
      "metadata": {
        "id": "n5ZYQ-WKra8T"
      },
      "execution_count": null,
      "outputs": []
    },
    {
      "cell_type": "code",
      "execution_count": null,
      "metadata": {
        "id": "3VNa7Iq0rGok"
      },
      "outputs": [],
      "source": [
        "import lime\n",
        "import lime.lime_text\n",
        "from sklearn.pipeline import make_pipeline\n",
        "from sklearn.feature_extraction.text import TfidfVectorizer\n",
        "from sklearn.naive_bayes import MultinomialNB\n",
        "\n",
        "# Define the texts and labels\n",
        "texts = [\"I love this product!\", \"This is the worst experience ever.\"]\n",
        "labels = [1, 0]\n",
        "\n",
        "# Create the pipeline\n",
        "vectorizer = TfidfVectorizer()\n",
        "classifier = MultinomialNB()\n",
        "pipeline = make_pipeline(vectorizer, classifier)\n",
        "\n",
        "# Fit the model\n",
        "pipeline.fit(texts, labels)\n",
        "\n",
        "# Create a LIME explainer\n",
        "explainer = lime.lime_text.LimeTextExplainer()\n",
        "\n",
        "# Explain the prediction for a specific instance\n",
        "exp = explainer.explain_instance(\"I had a terrible experience.\", pipeline.predict_proba, num_features=5)\n",
        "\n",
        "# Show the explanation in a notebook\n",
        "exp.show_in_notebook()"
      ]
    }
  ]
}