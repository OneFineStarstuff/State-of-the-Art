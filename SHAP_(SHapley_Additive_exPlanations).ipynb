{
  "nbformat": 4,
  "nbformat_minor": 0,
  "metadata": {
    "colab": {
      "private_outputs": true,
      "provenance": [],
      "authorship_tag": "ABX9TyNXaDdBtDnOauEtf93NkN3i",
      "include_colab_link": true
    },
    "kernelspec": {
      "name": "python3",
      "display_name": "Python 3"
    },
    "language_info": {
      "name": "python"
    }
  },
  "cells": [
    {
      "cell_type": "markdown",
      "metadata": {
        "id": "view-in-github",
        "colab_type": "text"
      },
      "source": [
        "<a href=\"https://colab.research.google.com/github/OneFineStarstuff/State-of-the-Art/blob/main/SHAP_(SHapley_Additive_exPlanations).ipynb\" target=\"_parent\"><img src=\"https://colab.research.google.com/assets/colab-badge.svg\" alt=\"Open In Colab\"/></a>"
      ]
    },
    {
      "cell_type": "code",
      "execution_count": null,
      "metadata": {
        "id": "KYr4gDnypony"
      },
      "outputs": [],
      "source": [
        "import shap\n",
        "import xgboost\n",
        "from sklearn.model_selection import train_test_split\n",
        "from sklearn.datasets import fetch_california_housing\n",
        "\n",
        "# Load the California housing dataset\n",
        "housing = fetch_california_housing()\n",
        "X, y = housing.data, housing.target\n",
        "\n",
        "# Split the dataset into training and testing sets\n",
        "X_train, X_test, y_train, y_test = train_test_split(X, y, test_size=0.2, random_state=42)\n",
        "\n",
        "# Train the XGBoost regressor model\n",
        "model = xgboost.XGBRegressor()\n",
        "model.fit(X_train, y_train)\n",
        "\n",
        "# Create a SHAP explainer\n",
        "explainer = shap.Explainer(model)\n",
        "\n",
        "# Compute SHAP values for the test set\n",
        "shap_values = explainer(X_test)\n",
        "\n",
        "# Generate a summary plot to visualize SHAP values\n",
        "shap.summary_plot(shap_values, X_test)"
      ]
    }
  ]
}