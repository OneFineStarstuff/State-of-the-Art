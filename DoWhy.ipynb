{
  "nbformat": 4,
  "nbformat_minor": 0,
  "metadata": {
    "colab": {
      "private_outputs": true,
      "provenance": [],
      "authorship_tag": "ABX9TyMhbLrs86HVkQG4DBTwEzhF",
      "include_colab_link": true
    },
    "kernelspec": {
      "name": "python3",
      "display_name": "Python 3"
    },
    "language_info": {
      "name": "python"
    }
  },
  "cells": [
    {
      "cell_type": "markdown",
      "metadata": {
        "id": "view-in-github",
        "colab_type": "text"
      },
      "source": [
        "<a href=\"https://colab.research.google.com/github/OneFineStarstuff/State-of-the-Art/blob/main/DoWhy.ipynb\" target=\"_parent\"><img src=\"https://colab.research.google.com/assets/colab-badge.svg\" alt=\"Open In Colab\"/></a>"
      ]
    },
    {
      "cell_type": "code",
      "source": [
        "pip install dowhy"
      ],
      "metadata": {
        "id": "6fQ78qbrdj2l"
      },
      "execution_count": null,
      "outputs": []
    },
    {
      "cell_type": "code",
      "execution_count": null,
      "metadata": {
        "id": "I7u7RmNBdP_3"
      },
      "outputs": [],
      "source": [
        "pip install pygraphviz"
      ]
    },
    {
      "cell_type": "code",
      "source": [
        "import dowhy\n",
        "from dowhy import CausalModel\n",
        "import pandas as pd\n",
        "import numpy as np\n",
        "\n",
        "# Generate a simple synthetic dataset\n",
        "np.random.seed(42)\n",
        "data = {\n",
        "    'W0': np.random.randn(1000),\n",
        "    'v0': np.random.randn(1000),\n",
        "    'y': np.random.randn(1000),\n",
        "}\n",
        "data['X'] = 10 * data['W0'] + data['v0'] + np.random.randn(1000)\n",
        "data['Y'] = 5 * data['X'] + 2 * data['W0'] + np.random.randn(1000)\n",
        "\n",
        "df = pd.DataFrame(data)\n",
        "\n",
        "# Define the causal graph manually\n",
        "causal_graph = \"\"\"\n",
        "digraph {\n",
        "    W0 -> X;\n",
        "    v0 -> X;\n",
        "    X -> Y;\n",
        "    W0 -> Y;\n",
        "}\n",
        "\"\"\"\n",
        "\n",
        "# Define a causal model\n",
        "model = CausalModel(\n",
        "    data=df,\n",
        "    treatment='X',\n",
        "    outcome='Y',\n",
        "    common_causes=['W0', 'v0'],\n",
        "    graph=causal_graph\n",
        ")\n",
        "\n",
        "# Identify the causal effect\n",
        "identified_estimand = model.identify_effect()\n",
        "\n",
        "# Estimate the causal effect using an instrumental variable method\n",
        "estimate = model.estimate_effect(identified_estimand, method_name=\"iv.instrumental_variable\")\n",
        "\n",
        "# Print the estimate\n",
        "print(\"Causal Estimate is\", estimate)"
      ],
      "metadata": {
        "id": "HgweuBRhfaxe"
      },
      "execution_count": null,
      "outputs": []
    }
  ]
}