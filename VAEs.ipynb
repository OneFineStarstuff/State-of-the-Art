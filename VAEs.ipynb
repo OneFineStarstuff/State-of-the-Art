{
  "nbformat": 4,
  "nbformat_minor": 0,
  "metadata": {
    "colab": {
      "private_outputs": true,
      "provenance": [],
      "authorship_tag": "ABX9TyMjiHKWdJS6mnUlQEi6TQDU",
      "include_colab_link": true
    },
    "kernelspec": {
      "name": "python3",
      "display_name": "Python 3"
    },
    "language_info": {
      "name": "python"
    }
  },
  "cells": [
    {
      "cell_type": "markdown",
      "metadata": {
        "id": "view-in-github",
        "colab_type": "text"
      },
      "source": [
        "<a href=\"https://colab.research.google.com/github/OneFineStarstuff/State-of-the-Art/blob/main/VAEs.ipynb\" target=\"_parent\"><img src=\"https://colab.research.google.com/assets/colab-badge.svg\" alt=\"Open In Colab\"/></a>"
      ]
    },
    {
      "cell_type": "code",
      "execution_count": null,
      "metadata": {
        "id": "hYjs8TauYAvU"
      },
      "outputs": [],
      "source": [
        "import torch\n",
        "import torch.nn as nn\n",
        "\n",
        "# Define the VAE class\n",
        "class VAE(nn.Module):\n",
        "    def __init__(self, input_dim, hidden_dim, latent_dim):\n",
        "        super(VAE, self).__init__()\n",
        "        self.fc1 = nn.Linear(input_dim, hidden_dim)  # First fully connected layer\n",
        "        self.fc21 = nn.Linear(hidden_dim, latent_dim)  # Fully connected layer for mu\n",
        "        self.fc22 = nn.Linear(hidden_dim, latent_dim)  # Fully connected layer for logvar\n",
        "        self.fc3 = nn.Linear(latent_dim, hidden_dim)  # Fully connected layer for decoder input\n",
        "        self.fc4 = nn.Linear(hidden_dim, input_dim)  # Fully connected layer for output\n",
        "\n",
        "    def encode(self, x):\n",
        "        h = torch.relu(self.fc1(x))  # Apply ReLU activation\n",
        "        return self.fc21(h), self.fc22(h)  # Return mu and logvar\n",
        "\n",
        "    def reparameterize(self, mu, logvar):\n",
        "        std = torch.exp(0.5 * logvar)  # Compute standard deviation\n",
        "        eps = torch.randn_like(std)  # Sample from standard normal distribution\n",
        "        return mu + eps * std  # Return reparameterized variable\n",
        "\n",
        "    def decode(self, z):\n",
        "        h = torch.relu(self.fc3(z))  # Apply ReLU activation\n",
        "        return torch.sigmoid(self.fc4(h))  # Apply sigmoid activation\n",
        "\n",
        "    def forward(self, x):\n",
        "        mu, logvar = self.encode(x)  # Encode input\n",
        "        z = self.reparameterize(mu, logvar)  # Sample from latent space\n",
        "        return self.decode(z), mu, logvar  # Decode to reconstruct input\n",
        "\n",
        "# Example usage with dummy data\n",
        "vae = VAE(input_dim=784, hidden_dim=400, latent_dim=20)\n",
        "input_data = torch.randn(64, 784)  # Example input (batch_size=64, input_dim=784)\n",
        "recon_data, mu, logvar = vae(input_data)\n",
        "\n",
        "# Print the shape of the reconstructed data\n",
        "print(recon_data.shape)  # Expected shape: [64, 784]"
      ]
    }
  ]
}