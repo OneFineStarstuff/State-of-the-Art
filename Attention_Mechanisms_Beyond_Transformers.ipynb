{
  "nbformat": 4,
  "nbformat_minor": 0,
  "metadata": {
    "colab": {
      "private_outputs": true,
      "provenance": [],
      "authorship_tag": "ABX9TyOeoLhUZJDaT6uQmdYO6AtA",
      "include_colab_link": true
    },
    "kernelspec": {
      "name": "python3",
      "display_name": "Python 3"
    },
    "language_info": {
      "name": "python"
    }
  },
  "cells": [
    {
      "cell_type": "markdown",
      "metadata": {
        "id": "view-in-github",
        "colab_type": "text"
      },
      "source": [
        "<a href=\"https://colab.research.google.com/github/OneFineStarstuff/State-of-the-Art/blob/main/Attention_Mechanisms_Beyond_Transformers.ipynb\" target=\"_parent\"><img src=\"https://colab.research.google.com/assets/colab-badge.svg\" alt=\"Open In Colab\"/></a>"
      ]
    },
    {
      "cell_type": "code",
      "execution_count": null,
      "metadata": {
        "id": "ZqbRt2M6TAqb"
      },
      "outputs": [],
      "source": [
        "import torch\n",
        "import torch.nn as nn\n",
        "\n",
        "# Define the Attention class\n",
        "class Attention(nn.Module):\n",
        "    def __init__(self, hidden_dim):\n",
        "        super(Attention, self).__init__()\n",
        "        self.attn = nn.Linear(hidden_dim, hidden_dim)  # Linear layer for attention\n",
        "        self.softmax = nn.Softmax(dim=1)  # Softmax layer to compute attention weights\n",
        "\n",
        "    def forward(self, hidden, encoder_outputs):\n",
        "        scores = torch.matmul(hidden, encoder_outputs.transpose(1, 2))  # Compute attention scores\n",
        "        attn_weights = self.softmax(scores)  # Compute attention weights\n",
        "        context = torch.matmul(attn_weights, encoder_outputs)  # Compute context vector\n",
        "        return context, attn_weights\n",
        "\n",
        "# Example usage\n",
        "attention = Attention(hidden_dim=128)\n",
        "hidden = torch.randn(64, 1, 128)  # Example hidden state (batch_size=64, seq_len=1, hidden_dim=128)\n",
        "encoder_outputs = torch.randn(64, 10, 128)  # Example encoder outputs (batch_size=64, seq_len=10, hidden_dim=128)\n",
        "context, attn_weights = attention(hidden, encoder_outputs)\n",
        "\n",
        "# Print the shapes of the context vector and attention weights\n",
        "print(context.shape, attn_weights.shape)  # Expected shapes: [64, 1, 128], [64, 1, 10]"
      ]
    }
  ]
}