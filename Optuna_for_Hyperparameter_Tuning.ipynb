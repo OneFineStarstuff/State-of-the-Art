{
  "nbformat": 4,
  "nbformat_minor": 0,
  "metadata": {
    "colab": {
      "private_outputs": true,
      "provenance": [],
      "authorship_tag": "ABX9TyPFGAsxeEZxpsbenX2njbhe",
      "include_colab_link": true
    },
    "kernelspec": {
      "name": "python3",
      "display_name": "Python 3"
    },
    "language_info": {
      "name": "python"
    }
  },
  "cells": [
    {
      "cell_type": "markdown",
      "metadata": {
        "id": "view-in-github",
        "colab_type": "text"
      },
      "source": [
        "<a href=\"https://colab.research.google.com/github/OneFineStarstuff/State-of-the-Art/blob/main/Optuna_for_Hyperparameter_Tuning.ipynb\" target=\"_parent\"><img src=\"https://colab.research.google.com/assets/colab-badge.svg\" alt=\"Open In Colab\"/></a>"
      ]
    },
    {
      "cell_type": "code",
      "execution_count": null,
      "metadata": {
        "id": "G04-xKn2AseW"
      },
      "outputs": [],
      "source": [
        "pip install optuna scikit-learn"
      ]
    },
    {
      "cell_type": "code",
      "source": [
        "import optuna\n",
        "from sklearn.datasets import load_iris\n",
        "from sklearn.ensemble import RandomForestClassifier\n",
        "from sklearn.model_selection import cross_val_score\n",
        "\n",
        "# Define the objective function for Optuna\n",
        "def objective(trial):\n",
        "    iris = load_iris()\n",
        "    x, y = iris.data, iris.target\n",
        "    n_estimators = trial.suggest_int(\"n_estimators\", 2, 150)\n",
        "    max_depth = trial.suggest_int(\"max_depth\", 1, 32)\n",
        "    clf = RandomForestClassifier(n_estimators=n_estimators, max_depth=max_depth)\n",
        "    return cross_val_score(clf, x, y, cv=3).mean()\n",
        "\n",
        "# Run the optimization\n",
        "study = optuna.create_study(direction=\"maximize\")\n",
        "study.optimize(objective, n_trials=100)\n",
        "\n",
        "print(\"Best trial:\")\n",
        "trial = study.best_trial\n",
        "print(f\"Value: {trial.value}\")\n",
        "print(f\"Params: {trial.params}\")"
      ],
      "metadata": {
        "id": "gV1XirMXA1Gl"
      },
      "execution_count": null,
      "outputs": []
    }
  ]
}