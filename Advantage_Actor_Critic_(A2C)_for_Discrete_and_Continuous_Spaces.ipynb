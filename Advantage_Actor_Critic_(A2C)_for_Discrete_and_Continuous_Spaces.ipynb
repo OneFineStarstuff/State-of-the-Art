{
  "nbformat": 4,
  "nbformat_minor": 0,
  "metadata": {
    "colab": {
      "private_outputs": true,
      "provenance": [],
      "authorship_tag": "ABX9TyNhPErKID1w0HBnzrwIs4UP",
      "include_colab_link": true
    },
    "kernelspec": {
      "name": "python3",
      "display_name": "Python 3"
    },
    "language_info": {
      "name": "python"
    }
  },
  "cells": [
    {
      "cell_type": "markdown",
      "metadata": {
        "id": "view-in-github",
        "colab_type": "text"
      },
      "source": [
        "<a href=\"https://colab.research.google.com/github/OneFineStarstuff/State-of-the-Art/blob/main/Advantage_Actor_Critic_(A2C)_for_Discrete_and_Continuous_Spaces.ipynb\" target=\"_parent\"><img src=\"https://colab.research.google.com/assets/colab-badge.svg\" alt=\"Open In Colab\"/></a>"
      ]
    },
    {
      "cell_type": "code",
      "source": [
        "pip install stable_baselines3"
      ],
      "metadata": {
        "id": "Or8fJrhkwHsu"
      },
      "execution_count": null,
      "outputs": []
    },
    {
      "cell_type": "code",
      "source": [
        "pip install swig"
      ],
      "metadata": {
        "id": "ic0kelSXw1fO"
      },
      "execution_count": null,
      "outputs": []
    },
    {
      "cell_type": "code",
      "source": [
        "pip install \"gymnasium[box2d]\""
      ],
      "metadata": {
        "id": "5Jir4agAw2zj"
      },
      "execution_count": null,
      "outputs": []
    },
    {
      "cell_type": "code",
      "execution_count": null,
      "metadata": {
        "id": "BV-XLM_Cv82q"
      },
      "outputs": [],
      "source": [
        "from stable_baselines3 import A2C\n",
        "import gymnasium as gym\n",
        "\n",
        "# Create the environment using Gymnasium\n",
        "env = gym.make('LunarLander-v3')\n",
        "\n",
        "# Initialize the A2C model\n",
        "model = A2C('MlpPolicy', env, verbose=1)\n",
        "\n",
        "# Train the model\n",
        "model.learn(total_timesteps=100000)\n",
        "\n",
        "# Evaluate the model\n",
        "obs, _ = env.reset()\n",
        "for _ in range(1000):\n",
        "    action, _states = model.predict(obs, deterministic=True)\n",
        "    obs, rewards, dones, info = env.step(action)\n",
        "    if dones:\n",
        "        obs, _ = env.reset()\n",
        "    env.render()"
      ]
    }
  ]
}