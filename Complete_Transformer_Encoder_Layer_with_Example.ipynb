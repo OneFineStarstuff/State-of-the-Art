{
  "nbformat": 4,
  "nbformat_minor": 0,
  "metadata": {
    "colab": {
      "private_outputs": true,
      "provenance": [],
      "authorship_tag": "ABX9TyMVj+el7h0ecCbV0QdDOog4",
      "include_colab_link": true
    },
    "kernelspec": {
      "name": "python3",
      "display_name": "Python 3"
    },
    "language_info": {
      "name": "python"
    }
  },
  "cells": [
    {
      "cell_type": "markdown",
      "metadata": {
        "id": "view-in-github",
        "colab_type": "text"
      },
      "source": [
        "<a href=\"https://colab.research.google.com/github/OneFineStarstuff/State-of-the-Art/blob/main/Complete_Transformer_Encoder_Layer_with_Example.ipynb\" target=\"_parent\"><img src=\"https://colab.research.google.com/assets/colab-badge.svg\" alt=\"Open In Colab\"/></a>"
      ]
    },
    {
      "cell_type": "code",
      "execution_count": null,
      "metadata": {
        "id": "dmRGNE-4udbj"
      },
      "outputs": [],
      "source": [
        "import torch\n",
        "from torch import nn\n",
        "\n",
        "class TransformerEncoderLayer(nn.Module):\n",
        "    def __init__(self, embed_size, num_heads, ff_hidden_size, dropout=0.1):\n",
        "        super().__init__()\n",
        "        self.attention = nn.MultiheadAttention(embed_dim=embed_size, num_heads=num_heads, dropout=dropout, batch_first=False)\n",
        "\n",
        "        self.feed_forward = nn.Sequential(\n",
        "            nn.Linear(embed_size, ff_hidden_size),\n",
        "            nn.ReLU(),\n",
        "            nn.Linear(ff_hidden_size, embed_size)\n",
        "        )\n",
        "\n",
        "        self.norm1 = nn.LayerNorm(embed_size)\n",
        "        self.norm2 = nn.LayerNorm(embed_size)\n",
        "        self.dropout = nn.Dropout(dropout)\n",
        "\n",
        "    def forward(self, x, attn_mask=None):\n",
        "        # Multi-head attention (self-attention)\n",
        "        attn_output, _ = self.attention(x, x, x, attn_mask=attn_mask)\n",
        "        x = self.norm1(x + self.dropout(attn_output))  # Residual + norm\n",
        "\n",
        "        # Feed-forward network\n",
        "        ff_output = self.feed_forward(x)\n",
        "        x = self.norm2(x + self.dropout(ff_output))  # Residual + norm\n",
        "\n",
        "        return x\n",
        "\n",
        "# --- Example usage ---\n",
        "if __name__ == \"__main__\":\n",
        "    embed_size = 64\n",
        "    num_heads = 8\n",
        "    ff_hidden_size = 256\n",
        "    dropout = 0.1\n",
        "    seq_length = 10\n",
        "    batch_size = 5\n",
        "\n",
        "    model = TransformerEncoderLayer(embed_size, num_heads, ff_hidden_size, dropout)\n",
        "\n",
        "    # Input: [seq_length, batch_size, embed_size]\n",
        "    x = torch.rand(seq_length, batch_size, embed_size)\n",
        "\n",
        "    # Generate a random attention mask: shape [seq_length, seq_length]\n",
        "    # True = allowed, False = masked\n",
        "    mask = torch.rand(seq_length, seq_length) < 0.5\n",
        "    attn_mask = ~mask  # nn.MultiheadAttention expects masked positions as True\n",
        "\n",
        "    output = model(x, attn_mask=attn_mask)\n",
        "    print(\"Transformer Encoder Output Shape:\", output.shape)"
      ]
    }
  ]
}