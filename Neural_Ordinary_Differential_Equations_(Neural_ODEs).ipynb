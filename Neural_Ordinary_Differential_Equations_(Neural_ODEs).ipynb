{
  "nbformat": 4,
  "nbformat_minor": 0,
  "metadata": {
    "colab": {
      "private_outputs": true,
      "provenance": [],
      "authorship_tag": "ABX9TyMselrcRxhFm1/H8QqpCsCH",
      "include_colab_link": true
    },
    "kernelspec": {
      "name": "python3",
      "display_name": "Python 3"
    },
    "language_info": {
      "name": "python"
    }
  },
  "cells": [
    {
      "cell_type": "markdown",
      "metadata": {
        "id": "view-in-github",
        "colab_type": "text"
      },
      "source": [
        "<a href=\"https://colab.research.google.com/github/OneFineStarstuff/State-of-the-Art/blob/main/Neural_Ordinary_Differential_Equations_(Neural_ODEs).ipynb\" target=\"_parent\"><img src=\"https://colab.research.google.com/assets/colab-badge.svg\" alt=\"Open In Colab\"/></a>"
      ]
    },
    {
      "cell_type": "code",
      "source": [
        "pip install torchdiffeq"
      ],
      "metadata": {
        "id": "EIkmpsZXA7RS"
      },
      "execution_count": null,
      "outputs": []
    },
    {
      "cell_type": "code",
      "execution_count": null,
      "metadata": {
        "id": "G0B9hOSYAiSu"
      },
      "outputs": [],
      "source": [
        "import torch\n",
        "import torch.nn as nn\n",
        "from torchdiffeq import odeint\n",
        "\n",
        "# Define the ODEFunc class\n",
        "class ODEFunc(nn.Module):\n",
        "    def __init__(self, hidden_dim):\n",
        "        super(ODEFunc, self).__init__()\n",
        "        self.linear = nn.Linear(hidden_dim, hidden_dim)  # Linear transformation\n",
        "\n",
        "    def forward(self, t, x):\n",
        "        return self.linear(x)  # Apply linear transformation\n",
        "\n",
        "# Define the NeuralODE class\n",
        "class NeuralODE(nn.Module):\n",
        "    def __init__(self, hidden_dim):\n",
        "        super(NeuralODE, self).__init__()\n",
        "        self.odefunc = ODEFunc(hidden_dim)  # ODE function\n",
        "\n",
        "    def forward(self, x, t):\n",
        "        return odeint(self.odefunc, x, t)  # Integrate the ODE over time points\n",
        "\n",
        "# Example usage\n",
        "hidden_dim = 2\n",
        "model = NeuralODE(hidden_dim)  # Instantiate the NeuralODE model\n",
        "x0 = torch.randn(1, hidden_dim)  # Initial state (batch_size=1, hidden_dim=2)\n",
        "t = torch.linspace(0, 1, 100)  # Time points (from 0 to 1 with 100 steps)\n",
        "trajectory = model(x0, t)\n",
        "\n",
        "# Print the shape of the trajectory\n",
        "print(trajectory.shape)  # Expected shape: [100, 1, 2] (time_steps, batch_size, hidden_dim)"
      ]
    }
  ]
}