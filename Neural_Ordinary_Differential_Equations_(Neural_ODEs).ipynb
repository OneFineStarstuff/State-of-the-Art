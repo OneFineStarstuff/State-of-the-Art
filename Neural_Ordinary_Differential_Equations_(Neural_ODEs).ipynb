{
  "nbformat": 4,
  "nbformat_minor": 0,
  "metadata": {
    "colab": {
      "private_outputs": true,
      "provenance": [],
      "authorship_tag": "ABX9TyPftYbRF/XPsfXMJscSSmYy",
      "include_colab_link": true
    },
    "kernelspec": {
      "name": "python3",
      "display_name": "Python 3"
    },
    "language_info": {
      "name": "python"
    }
  },
  "cells": [
    {
      "cell_type": "markdown",
      "metadata": {
        "id": "view-in-github",
        "colab_type": "text"
      },
      "source": [
        "<a href=\"https://colab.research.google.com/github/OneFineStarstuff/State-of-the-Art/blob/main/Neural_Ordinary_Differential_Equations_(Neural_ODEs).ipynb\" target=\"_parent\"><img src=\"https://colab.research.google.com/assets/colab-badge.svg\" alt=\"Open In Colab\"/></a>"
      ]
    },
    {
      "cell_type": "code",
      "source": [
        "pip install torchdiffeq"
      ],
      "metadata": {
        "id": "1Qa_4UEiFcEL"
      },
      "execution_count": null,
      "outputs": []
    },
    {
      "cell_type": "code",
      "execution_count": null,
      "metadata": {
        "id": "22QYGSyDFGng"
      },
      "outputs": [],
      "source": [
        "import torch\n",
        "from torch import nn\n",
        "from torchdiffeq import odeint\n",
        "\n",
        "class ODEFunc(nn.Module):\n",
        "    def __init__(self):\n",
        "        super(ODEFunc, self).__init__()\n",
        "        self.linear = nn.Linear(2, 50)\n",
        "        self.relu = nn.ReLU()\n",
        "        self.linear2 = nn.Linear(50, 2)\n",
        "\n",
        "    def forward(self, t, x):\n",
        "        return self.linear2(self.relu(self.linear(x)))\n",
        "\n",
        "func = ODEFunc()\n",
        "t = torch.linspace(0, 25, 100)\n",
        "y0 = torch.tensor([[2.0, 0.0]])\n",
        "y = odeint(func, y0, t)\n",
        "\n",
        "print(f'Shape of the solution: {y.shape}')"
      ]
    }
  ]
}