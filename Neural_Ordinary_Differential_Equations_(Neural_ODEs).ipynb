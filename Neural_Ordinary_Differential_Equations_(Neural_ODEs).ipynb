{
  "nbformat": 4,
  "nbformat_minor": 0,
  "metadata": {
    "colab": {
      "private_outputs": true,
      "provenance": [],
      "authorship_tag": "ABX9TyMaaP8ht11eNP61GOKyApDM",
      "include_colab_link": true
    },
    "kernelspec": {
      "name": "python3",
      "display_name": "Python 3"
    },
    "language_info": {
      "name": "python"
    }
  },
  "cells": [
    {
      "cell_type": "markdown",
      "metadata": {
        "id": "view-in-github",
        "colab_type": "text"
      },
      "source": [
        "<a href=\"https://colab.research.google.com/github/OneFineStarstuff/State-of-the-Art/blob/main/Neural_Ordinary_Differential_Equations_(Neural_ODEs).ipynb\" target=\"_parent\"><img src=\"https://colab.research.google.com/assets/colab-badge.svg\" alt=\"Open In Colab\"/></a>"
      ]
    },
    {
      "cell_type": "code",
      "source": [
        "pip install torchdiffeq"
      ],
      "metadata": {
        "id": "t2scRDElxN-N"
      },
      "execution_count": null,
      "outputs": []
    },
    {
      "cell_type": "code",
      "execution_count": null,
      "metadata": {
        "id": "qK3VxPjuw6_G"
      },
      "outputs": [],
      "source": [
        "import torch\n",
        "import torch.nn as nn\n",
        "from torchdiffeq import odeint\n",
        "\n",
        "class ODEFunc(nn.Module):\n",
        "    def __init__(self):\n",
        "        super(ODEFunc, self).__init__()\n",
        "        self.linear = nn.Linear(2, 50)\n",
        "        self.nonlinear = nn.ReLU()\n",
        "        self.out = nn.Linear(50, 2)\n",
        "\n",
        "    def forward(self, t, x):\n",
        "        return self.out(self.nonlinear(self.linear(x)))\n",
        "\n",
        "func = ODEFunc()\n",
        "t = torch.linspace(0, 1, 100)\n",
        "x0 = torch.tensor([[1.0, 0.0]])\n",
        "\n",
        "trajectory = odeint(func, x0, t)\n",
        "print(trajectory.shape)"
      ]
    }
  ]
}