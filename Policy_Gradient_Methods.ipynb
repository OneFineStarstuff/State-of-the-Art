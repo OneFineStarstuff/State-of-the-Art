{
  "nbformat": 4,
  "nbformat_minor": 0,
  "metadata": {
    "colab": {
      "private_outputs": true,
      "provenance": [],
      "authorship_tag": "ABX9TyNds9w1i4vXsSGyHn9/Z+ye",
      "include_colab_link": true
    },
    "kernelspec": {
      "name": "python3",
      "display_name": "Python 3"
    },
    "language_info": {
      "name": "python"
    }
  },
  "cells": [
    {
      "cell_type": "markdown",
      "metadata": {
        "id": "view-in-github",
        "colab_type": "text"
      },
      "source": [
        "<a href=\"https://colab.research.google.com/github/OneFineStarstuff/State-of-the-Art/blob/main/Policy_Gradient_Methods.ipynb\" target=\"_parent\"><img src=\"https://colab.research.google.com/assets/colab-badge.svg\" alt=\"Open In Colab\"/></a>"
      ]
    },
    {
      "cell_type": "code",
      "execution_count": null,
      "metadata": {
        "id": "wFcnQe3FJyXo"
      },
      "outputs": [],
      "source": [
        "import torch\n",
        "import torch.nn as nn\n",
        "import torch.optim as optim\n",
        "import gym\n",
        "\n",
        "# Define the policy network\n",
        "class PolicyNetwork(nn.Module):\n",
        "    def __init__(self, state_dim, action_dim):\n",
        "        super(PolicyNetwork, self).__init__()\n",
        "        self.fc = nn.Sequential(\n",
        "            nn.Linear(state_dim, 128),\n",
        "            nn.ReLU(),\n",
        "            nn.Linear(128, action_dim),\n",
        "            nn.Softmax(dim=-1)\n",
        "        )\n",
        "\n",
        "    def forward(self, x):\n",
        "        return self.fc(x)\n",
        "\n",
        "# Initialize environment and policy network\n",
        "env = gym.make('CartPole-v1', new_step_api=True)\n",
        "policy_net = PolicyNetwork(state_dim=4, action_dim=2)\n",
        "optimizer = optim.Adam(policy_net.parameters(), lr=0.01)\n",
        "\n",
        "# Function to select action based on policy network's output probabilities\n",
        "def select_action(state):\n",
        "    state = torch.from_numpy(state).float()\n",
        "    probabilities = policy_net(state)\n",
        "    action = torch.multinomial(probabilities, 1).item()\n",
        "    return action\n",
        "\n",
        "# Training function for policy gradient method\n",
        "def train(env, policy_net, optimizer, episodes):\n",
        "    for episode in range(episodes):\n",
        "        state = env.reset()\n",
        "        log_probs = []\n",
        "        rewards = []\n",
        "        for t in range(1000):\n",
        "            action = select_action(state)\n",
        "            result = env.step(action)\n",
        "            next_state, reward, done, info = result[:4]\n",
        "            if len(result) == 5:\n",
        "                truncated = result[4]\n",
        "            else:\n",
        "                truncated = False\n",
        "            log_prob = torch.log(policy_net(torch.from_numpy(state).float())[action])\n",
        "            log_probs.append(log_prob)\n",
        "            rewards.append(reward)\n",
        "            state = next_state\n",
        "            if done or truncated:\n",
        "                break\n",
        "\n",
        "        # Compute the discounted returns\n",
        "        R = 0\n",
        "        policy_loss = []\n",
        "        returns = []\n",
        "        for r in rewards[::-1]:\n",
        "            R = r + 0.99 * R\n",
        "            returns.insert(0, R)\n",
        "        returns = torch.tensor(returns)\n",
        "        returns = (returns - returns.mean()) / (returns.std() + 1e-5)\n",
        "\n",
        "        # Compute the policy loss\n",
        "        for log_prob, R in zip(log_probs, returns):\n",
        "            policy_loss.append(-log_prob * R)\n",
        "        optimizer.zero_grad()\n",
        "        policy_loss = torch.stack(policy_loss).sum()\n",
        "        policy_loss.backward()\n",
        "        optimizer.step()\n",
        "\n",
        "        print(f\"Episode {episode + 1}, Loss: {policy_loss.item():.4f}\")\n",
        "\n",
        "# Train the policy network\n",
        "train(env, policy_net, optimizer, episodes=100)"
      ]
    }
  ]
}