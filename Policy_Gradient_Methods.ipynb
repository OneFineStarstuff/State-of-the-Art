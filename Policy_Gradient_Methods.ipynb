{
  "nbformat": 4,
  "nbformat_minor": 0,
  "metadata": {
    "colab": {
      "private_outputs": true,
      "provenance": [],
      "authorship_tag": "ABX9TyNkQcM6Tji0J6WUW80XHwSh",
      "include_colab_link": true
    },
    "kernelspec": {
      "name": "python3",
      "display_name": "Python 3"
    },
    "language_info": {
      "name": "python"
    }
  },
  "cells": [
    {
      "cell_type": "markdown",
      "metadata": {
        "id": "view-in-github",
        "colab_type": "text"
      },
      "source": [
        "<a href=\"https://colab.research.google.com/github/OneFineStarstuff/State-of-the-Art/blob/main/Policy_Gradient_Methods.ipynb\" target=\"_parent\"><img src=\"https://colab.research.google.com/assets/colab-badge.svg\" alt=\"Open In Colab\"/></a>"
      ]
    },
    {
      "cell_type": "code",
      "execution_count": null,
      "metadata": {
        "id": "GTqwSX-jGgIL"
      },
      "outputs": [],
      "source": [
        "import torch\n",
        "import torch.nn as nn\n",
        "import torch.optim as optim\n",
        "import gym\n",
        "\n",
        "class PolicyNetwork(nn.Module):\n",
        "    def __init__(self, input_dim, output_dim):\n",
        "        super(PolicyNetwork, self).__init__()\n",
        "        self.fc = nn.Linear(input_dim, output_dim)\n",
        "\n",
        "    def forward(self, x):\n",
        "        return torch.softmax(self.fc(x), dim=-1)\n",
        "\n",
        "def train_policy_gradient(env, policy_net, optimizer, gamma=0.99, episodes=1000):\n",
        "    for episode in range(episodes):\n",
        "        state = env.reset()\n",
        "        log_probs = []\n",
        "        rewards = []\n",
        "        done = False\n",
        "\n",
        "        while not done:\n",
        "            state = torch.from_numpy(state).float()\n",
        "            action_probs = policy_net(state)\n",
        "            action = torch.multinomial(action_probs, 1).item()\n",
        "            log_prob = torch.log(action_probs[action])\n",
        "            next_state, reward, done, _ = env.step(action)\n",
        "\n",
        "            log_probs.append(log_prob)\n",
        "            rewards.append(reward)\n",
        "            state = next_state\n",
        "\n",
        "        total_reward = sum(rewards)\n",
        "        discounted_rewards = [reward * (gamma ** i) for i, reward in enumerate(rewards)]\n",
        "        loss = -sum([log_prob * reward for log_prob, reward in zip(log_probs, discounted_rewards)])\n",
        "\n",
        "        optimizer.zero_grad()\n",
        "        loss.backward()\n",
        "        optimizer.step()\n",
        "\n",
        "        if episode % 100 == 0:\n",
        "            print(f'Episode {episode}, Total Reward: {total_reward}')\n",
        "\n",
        "# Example usage\n",
        "env = gym.make('CartPole-v1')\n",
        "\n",
        "policy_net = PolicyNetwork(input_dim=env.observation_space.shape[0], output_dim=env.action_space.n)\n",
        "optimizer = optim.Adam(policy_net.parameters(), lr=0.01)\n",
        "\n",
        "train_policy_gradient(env, policy_net, optimizer)"
      ]
    },
    {
      "cell_type": "code",
      "source": [
        "import torch\n",
        "import torch.nn as nn\n",
        "import torch.optim as optim\n",
        "import gym\n",
        "\n",
        "class PolicyNetwork(nn.Module):\n",
        "    def __init__(self, input_dim, output_dim):\n",
        "        super(PolicyNetwork, self).__init__()\n",
        "        self.fc = nn.Linear(input_dim, output_dim)\n",
        "\n",
        "    def forward(self, x):\n",
        "        return torch.softmax(self.fc(x), dim=-1)\n",
        "\n",
        "def train_policy_gradient(env, policy_net, optimizer, gamma=0.99, episodes=1000):\n",
        "    for episode in range(episodes):\n",
        "        state = env.reset()\n",
        "        log_probs = []\n",
        "        rewards = []\n",
        "        done = False\n",
        "\n",
        "        while not done:\n",
        "            state = torch.from_numpy(state).float()\n",
        "            action_probs = policy_net(state)\n",
        "            action = torch.multinomial(action_probs, 1).item()\n",
        "            log_prob = torch.log(action_probs[action])\n",
        "            next_state, reward, terminated, truncated, _ = env.step(action)\n",
        "\n",
        "            done = terminated or truncated\n",
        "            log_probs.append(log_prob)\n",
        "            rewards.append(reward)\n",
        "            state = next_state\n",
        "\n",
        "        total_reward = sum(rewards)\n",
        "        discounted_rewards = [reward * (gamma ** i) for i, reward in enumerate(rewards)]\n",
        "        loss = -sum([log_prob * reward for log_prob, reward in zip(log_probs, discounted_rewards)])\n",
        "\n",
        "        optimizer.zero_grad()\n",
        "        loss.backward()\n",
        "        optimizer.step()\n",
        "\n",
        "        if episode % 100 == 0:\n",
        "            print(f'Episode {episode}, Total Reward: {total_reward}')\n",
        "\n",
        "# Example usage\n",
        "env = gym.make('CartPole-v1', new_step_api=True)\n",
        "\n",
        "policy_net = PolicyNetwork(input_dim=env.observation_space.shape[0], output_dim=env.action_space.n)\n",
        "optimizer = optim.Adam(policy_net.parameters(), lr=0.01)\n",
        "\n",
        "train_policy_gradient(env, policy_net, optimizer)"
      ],
      "metadata": {
        "id": "qdBUCstyHKR6"
      },
      "execution_count": null,
      "outputs": []
    }
  ]
}