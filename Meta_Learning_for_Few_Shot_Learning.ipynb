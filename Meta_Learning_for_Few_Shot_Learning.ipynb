{
  "nbformat": 4,
  "nbformat_minor": 0,
  "metadata": {
    "colab": {
      "private_outputs": true,
      "provenance": [],
      "authorship_tag": "ABX9TyOAOv4X0qMlUSe4OLH4OYQu",
      "include_colab_link": true
    },
    "kernelspec": {
      "name": "python3",
      "display_name": "Python 3"
    },
    "language_info": {
      "name": "python"
    }
  },
  "cells": [
    {
      "cell_type": "markdown",
      "metadata": {
        "id": "view-in-github",
        "colab_type": "text"
      },
      "source": [
        "<a href=\"https://colab.research.google.com/github/OneFineStarstuff/State-of-the-Art/blob/main/Meta_Learning_for_Few_Shot_Learning.ipynb\" target=\"_parent\"><img src=\"https://colab.research.google.com/assets/colab-badge.svg\" alt=\"Open In Colab\"/></a>"
      ]
    },
    {
      "cell_type": "code",
      "execution_count": null,
      "metadata": {
        "id": "dgs0yvCc9nqK"
      },
      "outputs": [],
      "source": [
        "import torch\n",
        "import torch.nn as nn\n",
        "import torch.optim as optim\n",
        "from torch.utils.data import DataLoader, TensorDataset\n",
        "\n",
        "class SimpleModel(nn.Module):\n",
        "    def __init__(self):\n",
        "        super(SimpleModel, self).__init__()\n",
        "        self.fc = nn.Linear(1, 1)\n",
        "\n",
        "    def forward(self, x):\n",
        "        return self.fc(x)\n",
        "\n",
        "def inner_loop(model, data, target, lr=0.01):\n",
        "    optimizer = optim.SGD(model.parameters(), lr=lr)\n",
        "    loss_fn = nn.MSELoss()\n",
        "    optimizer.zero_grad()\n",
        "    output = model(data)\n",
        "    loss = loss_fn(output, target)\n",
        "    loss.backward()\n",
        "    optimizer.step()\n",
        "    print(f\"Inner Loop Loss: {loss.item():.4f}\")\n",
        "    return model\n",
        "\n",
        "def outer_loop(meta_model, tasks, meta_lr=0.001):\n",
        "    meta_optimizer = optim.Adam(meta_model.parameters(), lr=meta_lr)\n",
        "    meta_optimizer.zero_grad()\n",
        "    for data, target in tasks:\n",
        "        model = SimpleModel()\n",
        "        model.load_state_dict(meta_model.state_dict())\n",
        "        model = inner_loop(model, data, target)\n",
        "        for param, meta_param in zip(model.parameters(), meta_model.parameters()):\n",
        "            meta_param.grad = param.grad if meta_param.grad is None else meta_param.grad + param.grad\n",
        "    torch.nn.utils.clip_grad_norm_(meta_model.parameters(), max_norm=1.0)  # Gradient clipping\n",
        "    meta_optimizer.step()\n",
        "\n",
        "def validate(meta_model, tasks):\n",
        "    meta_model.eval()\n",
        "    losses = []\n",
        "    for data, target in tasks:\n",
        "        model = SimpleModel()\n",
        "        model.load_state_dict(meta_model.state_dict())\n",
        "        model = inner_loop(model, data, target, lr=0.01)\n",
        "        loss_fn = nn.MSELoss()\n",
        "        output = model(data)\n",
        "        loss = loss_fn(output, target).item()\n",
        "        losses.append(loss)\n",
        "    avg_loss = sum(losses) / len(losses)\n",
        "    print(f\"Validation Loss: {avg_loss:.4f}\")\n",
        "\n",
        "# Create diverse synthetic tasks\n",
        "tasks = [\n",
        "    (torch.randn(10, 1) * scale, torch.randn(10, 1) * scale)\n",
        "    for scale in [1, 0.5, 2, 1.5, 0.8]\n",
        "]\n",
        "\n",
        "meta_model = SimpleModel()\n",
        "for round in range(100):\n",
        "    outer_loop(meta_model, tasks)\n",
        "    if round % 10 == 0:\n",
        "        print(f'Meta-learning round {round} completed')\n",
        "        validate(meta_model, tasks)"
      ]
    }
  ]
}