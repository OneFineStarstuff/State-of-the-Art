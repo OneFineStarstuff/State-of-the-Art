{
  "nbformat": 4,
  "nbformat_minor": 0,
  "metadata": {
    "colab": {
      "private_outputs": true,
      "provenance": [],
      "authorship_tag": "ABX9TyNKiCaUvWlrlWHEu0G6QbaO",
      "include_colab_link": true
    },
    "kernelspec": {
      "name": "python3",
      "display_name": "Python 3"
    },
    "language_info": {
      "name": "python"
    }
  },
  "cells": [
    {
      "cell_type": "markdown",
      "metadata": {
        "id": "view-in-github",
        "colab_type": "text"
      },
      "source": [
        "<a href=\"https://colab.research.google.com/github/OneFineStarstuff/State-of-the-Art/blob/main/Federated_Learning_(FL).ipynb\" target=\"_parent\"><img src=\"https://colab.research.google.com/assets/colab-badge.svg\" alt=\"Open In Colab\"/></a>"
      ]
    },
    {
      "cell_type": "code",
      "execution_count": null,
      "metadata": {
        "id": "ziXlKdsspVyp"
      },
      "outputs": [],
      "source": [
        "import torch\n",
        "import torch.nn as nn\n",
        "import torch.optim as optim\n",
        "from torch.utils.data import DataLoader, TensorDataset\n",
        "\n",
        "# Define a simple neural network\n",
        "class SimpleNN(nn.Module):\n",
        "    def __init__(self, input_dim, output_dim):\n",
        "        super(SimpleNN, self).__init__()\n",
        "        self.fc = nn.Linear(input_dim, output_dim)\n",
        "\n",
        "    def forward(self, x):\n",
        "        return self.fc(x)\n",
        "\n",
        "# Client-side update\n",
        "def client_update(client_model, optimizer, train_loader, device, epoch=1):\n",
        "    client_model.train()\n",
        "    for _ in range(epoch):\n",
        "        for data, target in train_loader:\n",
        "            data, target = data.to(device), target.to(device)\n",
        "            optimizer.zero_grad()\n",
        "            output = client_model(data)\n",
        "            loss = nn.CrossEntropyLoss()(output, target)\n",
        "            loss.backward()\n",
        "            optimizer.step()\n",
        "    return client_model.state_dict()\n",
        "\n",
        "# Server aggregation\n",
        "def server_aggregate(global_model, client_states):\n",
        "    global_dict = global_model.state_dict()\n",
        "    for k in global_dict.keys():\n",
        "        global_dict[k] = torch.stack([client_states[i][k].float() for i in range(len(client_states))], 0).mean(0)\n",
        "    global_model.load_state_dict(global_dict)\n",
        "    return global_model\n",
        "\n",
        "# Evaluate global model\n",
        "def evaluate(global_model, test_loader, device):\n",
        "    global_model.eval()\n",
        "    correct = 0\n",
        "    total = 0\n",
        "    with torch.no_grad():\n",
        "        for data, target in test_loader:\n",
        "            data, target = data.to(device), target.to(device)\n",
        "            output = global_model(data)\n",
        "            pred = output.argmax(dim=1, keepdim=True)\n",
        "            correct += pred.eq(target.view_as(pred)).sum().item()\n",
        "            total += target.size(0)\n",
        "    return correct / total\n",
        "\n",
        "# Example usage\n",
        "if __name__ == \"__main__\":\n",
        "    # Simulated datasets for 3 clients\n",
        "    x_train = torch.randn(600, 784)\n",
        "    y_train = torch.randint(0, 10, (600,))\n",
        "    client_datasets = [\n",
        "        TensorDataset(x_train[i:i+200], y_train[i:i+200]) for i in range(0, 600, 200)\n",
        "    ]\n",
        "    clients = [DataLoader(dataset, batch_size=32, shuffle=True) for dataset in client_datasets]\n",
        "\n",
        "    # Test dataset\n",
        "    x_test = torch.randn(100, 784)\n",
        "    y_test = torch.randint(0, 10, (100,))\n",
        "    test_loader = DataLoader(TensorDataset(x_test, y_test), batch_size=32, shuffle=False)\n",
        "\n",
        "    # Initialize global model and clients\n",
        "    device = torch.device('cuda' if torch.cuda.is_available() else 'cpu')\n",
        "    global_model = SimpleNN(input_dim=784, output_dim=10).to(device)\n",
        "    client_models = [SimpleNN(input_dim=784, output_dim=10).to(device) for _ in range(len(clients))]\n",
        "    for model in client_models:\n",
        "        model.load_state_dict(global_model.state_dict())\n",
        "\n",
        "    client_optimizers = [optim.SGD(model.parameters(), lr=0.01) for model in client_models]\n",
        "\n",
        "    # Federated learning rounds\n",
        "    num_rounds = 5\n",
        "    for round in range(num_rounds):\n",
        "        client_states = []\n",
        "        for i, client_loader in enumerate(clients):\n",
        "            client_state = client_update(client_models[i], client_optimizers[i], client_loader, device)\n",
        "            client_states.append(client_state)\n",
        "        global_model = server_aggregate(global_model, client_states)\n",
        "\n",
        "        # Evaluate global model\n",
        "        accuracy = evaluate(global_model, test_loader, device)\n",
        "        print(f\"Round {round + 1}, Accuracy: {accuracy:.4f}\")"
      ]
    }
  ]
}