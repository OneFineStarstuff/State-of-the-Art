{
  "nbformat": 4,
  "nbformat_minor": 0,
  "metadata": {
    "colab": {
      "private_outputs": true,
      "provenance": [],
      "authorship_tag": "ABX9TyMYhskyLHtxtHZ0mgOkxAMF",
      "include_colab_link": true
    },
    "kernelspec": {
      "name": "python3",
      "display_name": "Python 3"
    },
    "language_info": {
      "name": "python"
    }
  },
  "cells": [
    {
      "cell_type": "markdown",
      "metadata": {
        "id": "view-in-github",
        "colab_type": "text"
      },
      "source": [
        "<a href=\"https://colab.research.google.com/github/OneFineStarstuff/State-of-the-Art/blob/main/Federated_Learning_(FL).ipynb\" target=\"_parent\"><img src=\"https://colab.research.google.com/assets/colab-badge.svg\" alt=\"Open In Colab\"/></a>"
      ]
    },
    {
      "cell_type": "code",
      "execution_count": null,
      "metadata": {
        "id": "5-AdNN2TnLcR"
      },
      "outputs": [],
      "source": [
        "import torch\n",
        "import torch.nn as nn\n",
        "import torch.optim as optim\n",
        "from torch.utils.data import DataLoader, random_split\n",
        "from torchvision import datasets, transforms\n",
        "\n",
        "# Define simple neural network\n",
        "class SimpleNN(nn.Module):\n",
        "    def __init__(self):\n",
        "        super(SimpleNN, self).__init__()\n",
        "        self.fc = nn.Linear(28 * 28, 10)\n",
        "\n",
        "    def forward(self, x):\n",
        "        x = x.view(x.size(0), -1)  # Flatten input\n",
        "        return self.fc(x)\n",
        "\n",
        "# Client update function\n",
        "def client_update(client_model, optimizer, train_loader, epoch):\n",
        "    client_model.train()\n",
        "    for _ in range(epoch):\n",
        "        for data, target in train_loader:\n",
        "            data, target = data.to(device), target.to(device)\n",
        "            optimizer.zero_grad()\n",
        "            output = client_model(data)\n",
        "            loss = nn.CrossEntropyLoss()(output, target)\n",
        "            loss.backward()\n",
        "            optimizer.step()\n",
        "    return client_model.state_dict()\n",
        "\n",
        "# Server aggregation function\n",
        "def server_aggregate(global_model, client_models):\n",
        "    global_state_dict = global_model.state_dict()\n",
        "    for key in global_state_dict:\n",
        "        global_state_dict[key] = torch.mean(torch.stack([client[key] for client in client_models]), dim=0)\n",
        "    global_model.load_state_dict(global_state_dict)\n",
        "    return global_model\n",
        "\n",
        "# Evaluation function\n",
        "def evaluate(global_model, test_loader):\n",
        "    global_model.eval()\n",
        "    correct = 0\n",
        "    total = 0\n",
        "    with torch.no_grad():\n",
        "        for data, target in test_loader:\n",
        "            data, target = data.to(device), target.to(device)\n",
        "            output = global_model(data)\n",
        "            pred = output.argmax(dim=1, keepdim=True)\n",
        "            correct += pred.eq(target.view_as(pred)).sum().item()\n",
        "            total += target.size(0)\n",
        "    accuracy = 100.0 * correct / total\n",
        "    print(f\"Global Model Accuracy: {accuracy:.2f}%\")\n",
        "\n",
        "# Initialize data loaders\n",
        "num_clients = 5\n",
        "transform = transforms.Compose([transforms.ToTensor(), transforms.Normalize((0.5,), (0.5,))])\n",
        "dataset = datasets.MNIST(root='./data', train=True, download=True, transform=transform)\n",
        "client_datasets = random_split(dataset, [len(dataset) // num_clients] * num_clients)\n",
        "train_loaders = [DataLoader(ds, batch_size=32, shuffle=True) for ds in client_datasets]\n",
        "\n",
        "test_dataset = datasets.MNIST(root='./data', train=False, transform=transform)\n",
        "test_loader = DataLoader(test_dataset, batch_size=1000, shuffle=False)\n",
        "\n",
        "# Initialize models and optimizers\n",
        "device = torch.device(\"cuda\" if torch.cuda.is_available() else \"cpu\")\n",
        "global_model = SimpleNN().to(device)\n",
        "client_models = [SimpleNN().to(device) for _ in range(num_clients)]\n",
        "client_optimizers = [optim.SGD(client.parameters(), lr=0.01) for client in client_models]\n",
        "\n",
        "# Simulated federated learning loop\n",
        "for round in range(10):  # Simulate 10 rounds of federated learning\n",
        "    print(f\"Round {round + 1}\")\n",
        "    client_updates = []\n",
        "\n",
        "    # Distribute the global model to clients\n",
        "    for client_model in client_models:\n",
        "        client_model.load_state_dict(global_model.state_dict())\n",
        "\n",
        "    # Each client performs local training\n",
        "    for client_model, optimizer, train_loader in zip(client_models, client_optimizers, train_loaders):\n",
        "        client_update_dict = client_update(client_model, optimizer, train_loader, epoch=1)\n",
        "        client_updates.append(client_update_dict)\n",
        "\n",
        "    # Aggregate updates at the server\n",
        "    global_model = server_aggregate(global_model, client_updates)\n",
        "\n",
        "    # Evaluate global model\n",
        "    evaluate(global_model, test_loader)"
      ]
    }
  ]
}