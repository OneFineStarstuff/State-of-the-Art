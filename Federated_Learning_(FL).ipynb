{
  "nbformat": 4,
  "nbformat_minor": 0,
  "metadata": {
    "colab": {
      "private_outputs": true,
      "provenance": [],
      "authorship_tag": "ABX9TyMolmMSCLt2YlRXsYGxqDNr",
      "include_colab_link": true
    },
    "kernelspec": {
      "name": "python3",
      "display_name": "Python 3"
    },
    "language_info": {
      "name": "python"
    }
  },
  "cells": [
    {
      "cell_type": "markdown",
      "metadata": {
        "id": "view-in-github",
        "colab_type": "text"
      },
      "source": [
        "<a href=\"https://colab.research.google.com/github/OneFineStarstuff/State-of-the-Art/blob/main/Federated_Learning_(FL).ipynb\" target=\"_parent\"><img src=\"https://colab.research.google.com/assets/colab-badge.svg\" alt=\"Open In Colab\"/></a>"
      ]
    },
    {
      "cell_type": "code",
      "source": [
        "pip install syft"
      ],
      "metadata": {
        "id": "Ypnfrb3nMufH"
      },
      "execution_count": null,
      "outputs": []
    },
    {
      "cell_type": "code",
      "execution_count": null,
      "metadata": {
        "id": "u2LN-O3WMcZU"
      },
      "outputs": [],
      "source": [
        "import torch\n",
        "import torch.nn as nn\n",
        "import torch.optim as optim\n",
        "import syft as sy\n",
        "\n",
        "# Create a virtual workers environment\n",
        "hook = sy.TorchHook(torch)\n",
        "alice = sy.VirtualWorker(hook, id=\"alice\")\n",
        "bob = sy.VirtualWorker(hook, id=\"bob\")\n",
        "\n",
        "# Define a simple neural network\n",
        "class SimpleNN(nn.Module):\n",
        "    def __init__(self):\n",
        "        super(SimpleNN, self).__init__()\n",
        "        self.fc1 = nn.Linear(28 * 28, 128)\n",
        "        self.fc2 = nn.Linear(128, 10)\n",
        "\n",
        "    def forward(self, x):\n",
        "        x = x.view(-1, 28 * 28)\n",
        "        x = torch.relu(self.fc1(x))\n",
        "        x = self.fc2(x)\n",
        "        return x\n",
        "\n",
        "# Distribute the model to the workers\n",
        "model = SimpleNN()\n",
        "model = model.send(alice)\n",
        "\n",
        "# Training loop for federated learning\n",
        "def train_federated(worker, data_loader, model, criterion, optimizer):\n",
        "    model.train()\n",
        "    model = model.send(worker)\n",
        "    for data, target in data_loader:\n",
        "        data, target = data.send(worker), target.send(worker)\n",
        "        optimizer.zero_grad()\n",
        "        output = model(data)\n",
        "        loss = criterion(output, target)\n",
        "        loss.backward()\n",
        "        optimizer.step()\n",
        "    model = model.get()\n",
        "\n",
        "# Example usage with synthetic data\n",
        "# (Replace with actual data loaders for alice and bob)\n",
        "data_loader_alice = [(torch.rand(64, 1, 28, 28), torch.randint(0, 10, (64,)))]\n",
        "data_loader_bob = [(torch.rand(64, 1, 28, 28), torch.randint(0, 10, (64,)))]\n",
        "\n",
        "criterion = nn.CrossEntropyLoss()\n",
        "optimizer = optim.SGD(model.parameters(), lr=0.01)\n",
        "\n",
        "for epoch in range(1, 5):\n",
        "    train_federated(alice, data_loader_alice, model, criterion, optimizer)\n",
        "    train_federated(bob, data_loader_bob, model, criterion, optimizer)\n",
        "    print(f\"Epoch {epoch} completed\")"
      ]
    }
  ]
}