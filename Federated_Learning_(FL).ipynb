{
  "nbformat": 4,
  "nbformat_minor": 0,
  "metadata": {
    "colab": {
      "private_outputs": true,
      "provenance": [],
      "authorship_tag": "ABX9TyN2NkKX5RS1hANJFwni3D3l",
      "include_colab_link": true
    },
    "kernelspec": {
      "name": "python3",
      "display_name": "Python 3"
    },
    "language_info": {
      "name": "python"
    }
  },
  "cells": [
    {
      "cell_type": "markdown",
      "metadata": {
        "id": "view-in-github",
        "colab_type": "text"
      },
      "source": [
        "<a href=\"https://colab.research.google.com/github/OneFineStarstuff/State-of-the-Art/blob/main/Federated_Learning_(FL).ipynb\" target=\"_parent\"><img src=\"https://colab.research.google.com/assets/colab-badge.svg\" alt=\"Open In Colab\"/></a>"
      ]
    },
    {
      "cell_type": "code",
      "execution_count": null,
      "metadata": {
        "id": "oHoZnrvyAhr-"
      },
      "outputs": [],
      "source": [
        "import torch\n",
        "import torch.nn as nn\n",
        "import torch.optim as optim\n",
        "from torch.utils.data import DataLoader, TensorDataset\n",
        "\n",
        "# Define neural network\n",
        "class SimpleNN(nn.Module):\n",
        "    def __init__(self):\n",
        "        super(SimpleNN, self).__init__()\n",
        "        self.fc = nn.Sequential(\n",
        "            nn.Linear(2, 10),\n",
        "            nn.ReLU(),\n",
        "            nn.Linear(10, 1)\n",
        "        )\n",
        "\n",
        "    def forward(self, x):\n",
        "        return self.fc(x)\n",
        "\n",
        "# Generate synthetic non-IID client data\n",
        "def generate_non_iid_client_data(num_clients, num_samples_per_client):\n",
        "    datasets = []\n",
        "    for i in range(num_clients):\n",
        "        x = torch.randn(num_samples_per_client, 2) + i  # Offset for non-IID distribution\n",
        "        y = x.sum(dim=1, keepdim=True) + torch.randn(num_samples_per_client, 1)\n",
        "        datasets.append(TensorDataset(x, y))\n",
        "    return datasets\n",
        "\n",
        "# Federated learning setup\n",
        "num_clients = 5\n",
        "num_samples_per_client = 100\n",
        "client_datasets = generate_non_iid_client_data(num_clients, num_samples_per_client)\n",
        "global_model = SimpleNN()\n",
        "\n",
        "global_losses = []\n",
        "for round in range(10):  # Training rounds\n",
        "    client_models = []\n",
        "    round_loss = 0  # Track loss for each round\n",
        "\n",
        "    # Local training on each client\n",
        "    for client_data in client_datasets:\n",
        "        local_model = SimpleNN()\n",
        "        local_model.load_state_dict(global_model.state_dict())  # Load global model parameters\n",
        "        optimizer = optim.SGD(local_model.parameters(), lr=0.01)\n",
        "        dataloader = DataLoader(client_data, batch_size=10, shuffle=True)\n",
        "\n",
        "        for epoch in range(5):  # Local epochs\n",
        "            for x_batch, y_batch in dataloader:\n",
        "                optimizer.zero_grad()\n",
        "                outputs = local_model(x_batch)\n",
        "                loss = nn.MSELoss()(outputs, y_batch)\n",
        "                loss.backward()\n",
        "                optimizer.step()\n",
        "\n",
        "        client_models.append(local_model.state_dict())\n",
        "        round_loss += loss.item()  # Add final batch loss\n",
        "\n",
        "    # Federated averaging\n",
        "    global_state_dict = global_model.state_dict()\n",
        "    for key in global_state_dict.keys():\n",
        "        global_state_dict[key] = torch.stack([client_model[key] for client_model in client_models]).mean(dim=0)\n",
        "    global_model.load_state_dict(global_state_dict)\n",
        "\n",
        "    global_losses.append(round_loss / num_clients)\n",
        "    print(f\"Round {round + 1}, Average Loss: {global_losses[-1]:.4f}\")"
      ]
    }
  ]
}