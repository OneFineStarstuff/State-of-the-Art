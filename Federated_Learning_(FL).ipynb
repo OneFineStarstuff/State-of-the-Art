{
  "nbformat": 4,
  "nbformat_minor": 0,
  "metadata": {
    "colab": {
      "private_outputs": true,
      "provenance": [],
      "authorship_tag": "ABX9TyNWWO/jvGID9xJ0nU2/zUuJ",
      "include_colab_link": true
    },
    "kernelspec": {
      "name": "python3",
      "display_name": "Python 3"
    },
    "language_info": {
      "name": "python"
    }
  },
  "cells": [
    {
      "cell_type": "markdown",
      "metadata": {
        "id": "view-in-github",
        "colab_type": "text"
      },
      "source": [
        "<a href=\"https://colab.research.google.com/github/OneFineStarstuff/State-of-the-Art/blob/main/Federated_Learning_(FL).ipynb\" target=\"_parent\"><img src=\"https://colab.research.google.com/assets/colab-badge.svg\" alt=\"Open In Colab\"/></a>"
      ]
    },
    {
      "cell_type": "code",
      "source": [
        "pip install syft"
      ],
      "metadata": {
        "id": "1aLSMhSGw9cE"
      },
      "execution_count": null,
      "outputs": []
    },
    {
      "cell_type": "code",
      "source": [
        "pip show syft"
      ],
      "metadata": {
        "id": "82V8M6mzxoHT"
      },
      "execution_count": null,
      "outputs": []
    },
    {
      "cell_type": "code",
      "source": [
        "pip install syft==0.2.9"
      ],
      "metadata": {
        "id": "skY8lZP1xpfc"
      },
      "execution_count": null,
      "outputs": []
    },
    {
      "cell_type": "code",
      "execution_count": null,
      "metadata": {
        "id": "0-VWFdiOwpS7"
      },
      "outputs": [],
      "source": [
        "import syft as sy\n",
        "import torch\n",
        "import torch.nn as nn\n",
        "import torch.optim as optim\n",
        "\n",
        "# Setup PySyft hook and workers\n",
        "hook = sy.TorchHook(torch)\n",
        "alice = sy.VirtualWorker(hook, id=\"alice\")\n",
        "bob = sy.VirtualWorker(hook, id=\"bob\")\n",
        "\n",
        "# Define the model\n",
        "class Net(nn.Module):\n",
        "    def __init__(self):\n",
        "        super(Net, self).__init__()\n",
        "        self.fc1 = nn.Linear(2, 2)\n",
        "\n",
        "    def forward(self, x):\n",
        "        return self.fc1(x)\n",
        "\n",
        "# Initialize model and send to workers\n",
        "model = Net()\n",
        "model_alice = model.send(alice)\n",
        "model_bob = model.send(bob)\n",
        "\n",
        "# Prepare data for Alice and Bob\n",
        "data_alice = torch.tensor([[1.0, 1.0], [2.0, 2.0]], requires_grad=True).send(alice)\n",
        "target_alice = torch.tensor([[0.0], [1.0]], requires_grad=True).send(alice)\n",
        "\n",
        "data_bob = torch.tensor([[3.0, 3.0], [4.0, 4.0]], requires_grad=True).send(bob)\n",
        "target_bob = torch.tensor([[1.0], [0.0]], requires_grad=True).send(bob)\n",
        "\n",
        "# Define criterion and optimizer\n",
        "criterion = nn.MSELoss()\n",
        "optimizer_alice = optim.SGD(params=model_alice.parameters(), lr=0.1)\n",
        "optimizer_bob = optim.SGD(params=model_bob.parameters(), lr=0.1)\n",
        "\n",
        "# Training loop\n",
        "for epoch in range(10):\n",
        "    # Train on Alice's data\n",
        "    optimizer_alice.zero_grad()\n",
        "    output_alice = model_alice(data_alice)\n",
        "    loss_alice = criterion(output_alice, target_alice)\n",
        "    loss_alice.backward()\n",
        "    optimizer_alice.step()\n",
        "\n",
        "    # Train on Bob's data\n",
        "    optimizer_bob.zero_grad()\n",
        "    output_bob = model_bob(data_bob)\n",
        "    loss_bob = criterion(output_bob, target_bob)\n",
        "    loss_bob.backward()\n",
        "    optimizer_bob.step()\n",
        "\n",
        "    # Fetch and log loss\n",
        "    print(f\"Epoch {epoch}, Loss Alice: {loss_alice.get():.4f}, Loss Bob: {loss_bob.get():.4f}\")\n",
        "\n",
        "# Retrieve updated models\n",
        "model_alice = model_alice.get()\n",
        "model_bob = model_bob.get()"
      ]
    },
    {
      "cell_type": "code",
      "source": [
        "import syft as sy\n",
        "import torch\n",
        "import torch.nn as nn\n",
        "import torch.optim as optim\n",
        "\n",
        "# Create a PySyft domain and device\n",
        "domain = sy.Domain(name=\"example_domain\")\n",
        "device = domain.add_device(sy.Device(name=\"alice_device\"))\n",
        "\n",
        "# Define model\n",
        "class Net(nn.Module):\n",
        "    def __init__(self):\n",
        "        super(Net, self).__init__()\n",
        "        self.fc1 = nn.Linear(2, 2)\n",
        "\n",
        "    def forward(self, x):\n",
        "        return self.fc1(x)\n",
        "\n",
        "model = Net()\n",
        "model.to(device)\n",
        "\n",
        "# Create data and target tensors\n",
        "data = torch.tensor([[1.0, 1.0], [2.0, 2.0]])\n",
        "target = torch.tensor([[0.0], [1.0]])\n",
        "\n",
        "# Send data and target to device\n",
        "data_ptr = data.send(device)\n",
        "target_ptr = target.send(device)\n",
        "\n",
        "# Define optimizer and loss function\n",
        "criterion = nn.MSELoss()\n",
        "optimizer = optim.SGD(model.parameters(), lr=0.1)\n",
        "\n",
        "# Training loop\n",
        "for epoch in range(10):\n",
        "    optimizer.zero_grad()\n",
        "    output = model(data_ptr)\n",
        "    loss = criterion(output, target_ptr)\n",
        "    loss.backward()\n",
        "    optimizer.step()\n",
        "    print(f'Epoch {epoch}, Loss: {loss.get()}')"
      ],
      "metadata": {
        "id": "iUc4cpl8xwMA"
      },
      "execution_count": null,
      "outputs": []
    }
  ]
}