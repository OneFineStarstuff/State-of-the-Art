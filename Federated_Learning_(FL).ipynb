{
  "nbformat": 4,
  "nbformat_minor": 0,
  "metadata": {
    "colab": {
      "private_outputs": true,
      "provenance": [],
      "authorship_tag": "ABX9TyNQbfVb6I3wL7vSy8hA50CZ",
      "include_colab_link": true
    },
    "kernelspec": {
      "name": "python3",
      "display_name": "Python 3"
    },
    "language_info": {
      "name": "python"
    }
  },
  "cells": [
    {
      "cell_type": "markdown",
      "metadata": {
        "id": "view-in-github",
        "colab_type": "text"
      },
      "source": [
        "<a href=\"https://colab.research.google.com/github/OneFineStarstuff/State-of-the-Art/blob/main/Federated_Learning_(FL).ipynb\" target=\"_parent\"><img src=\"https://colab.research.google.com/assets/colab-badge.svg\" alt=\"Open In Colab\"/></a>"
      ]
    },
    {
      "cell_type": "code",
      "execution_count": null,
      "metadata": {
        "id": "fWcwDVx0tFT4"
      },
      "outputs": [],
      "source": [
        "import torch\n",
        "import torch.nn as nn\n",
        "import torch.optim as optim\n",
        "from torch.utils.data import DataLoader, TensorDataset\n",
        "\n",
        "# Define the SimpleNN class\n",
        "class SimpleNN(nn.Module):\n",
        "    def __init__(self, input_dim, output_dim):\n",
        "        super(SimpleNN, self).__init__()\n",
        "        self.fc1 = nn.Linear(input_dim, 64)\n",
        "        self.fc2 = nn.Linear(64, output_dim)\n",
        "\n",
        "    def forward(self, x):\n",
        "        x = torch.relu(self.fc1(x))  # Apply ReLU activation\n",
        "        return self.fc2(x)\n",
        "\n",
        "# Define the train_model function\n",
        "def train_model(model, data_loader, optimizer, criterion):\n",
        "    model.train()\n",
        "    for data, target in data_loader:\n",
        "        optimizer.zero_grad()\n",
        "        output = model(data)\n",
        "        loss = criterion(output, target)  # Compute loss\n",
        "        loss.backward()  # Backpropagate loss\n",
        "        optimizer.step()  # Update model parameters\n",
        "\n",
        "# Define the federated_learning function\n",
        "def federated_learning(models, global_model, data_loaders, epochs):\n",
        "    for epoch in range(epochs):\n",
        "        for model, data_loader in zip(models, data_loaders):\n",
        "            train_model(model, data_loader, optim.SGD(model.parameters(), lr=0.01), nn.MSELoss())  # Train each local model\n",
        "\n",
        "        global_model_state = global_model.state_dict()\n",
        "        for key in global_model_state.keys():\n",
        "            # Average parameters of all local models\n",
        "            global_model_state[key] = torch.mean(torch.stack([model.state_dict()[key] for model in models]), dim=0)\n",
        "\n",
        "        global_model.load_state_dict(global_model_state)  # Update global model\n",
        "        for model in models:\n",
        "            model.load_state_dict(global_model_state)  # Update local models with global model parameters\n",
        "\n",
        "        print(f'Epoch {epoch + 1}/{epochs} complete.')\n",
        "\n",
        "# Example usage\n",
        "input_dim = 10\n",
        "output_dim = 1\n",
        "models = [SimpleNN(input_dim, output_dim) for _ in range(3)]  # Create three local models\n",
        "global_model = SimpleNN(input_dim, output_dim)  # Create a global model\n",
        "\n",
        "# Create data loaders with synthetic data for each local model\n",
        "data_loaders = [DataLoader(TensorDataset(torch.randn(100, input_dim), torch.randn(100, output_dim)), batch_size=10) for _ in range(3)]\n",
        "\n",
        "# Perform federated learning\n",
        "federated_learning(models, global_model, data_loaders, epochs=5)"
      ]
    }
  ]
}