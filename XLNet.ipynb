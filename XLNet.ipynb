{
  "nbformat": 4,
  "nbformat_minor": 0,
  "metadata": {
    "colab": {
      "private_outputs": true,
      "provenance": [],
      "authorship_tag": "ABX9TyOOHbWOB/RPa4/MUtoKc2kw",
      "include_colab_link": true
    },
    "kernelspec": {
      "name": "python3",
      "display_name": "Python 3"
    },
    "language_info": {
      "name": "python"
    }
  },
  "cells": [
    {
      "cell_type": "markdown",
      "metadata": {
        "id": "view-in-github",
        "colab_type": "text"
      },
      "source": [
        "<a href=\"https://colab.research.google.com/github/OneFineStarstuff/State-of-the-Art/blob/main/XLNet.ipynb\" target=\"_parent\"><img src=\"https://colab.research.google.com/assets/colab-badge.svg\" alt=\"Open In Colab\"/></a>"
      ]
    },
    {
      "cell_type": "code",
      "execution_count": null,
      "metadata": {
        "id": "37ptLvp8i9sH"
      },
      "outputs": [],
      "source": [
        "import torch\n",
        "from transformers import XLNetTokenizer, XLNetForQuestionAnswering, XLNetForQuestionAnsweringSimple\n",
        "\n",
        "# Load tokenizer and model\n",
        "tokenizer = XLNetTokenizer.from_pretrained('xlnet-base-cased')\n",
        "model = XLNetForQuestionAnsweringSimple.from_pretrained('xlnet-base-cased')\n",
        "\n",
        "# Define context and question\n",
        "context = \"The Apollo program was the third United States human spaceflight program carried out by NASA.\"\n",
        "question = \"What was the Apollo program?\"\n",
        "\n",
        "# Tokenize input\n",
        "inputs = tokenizer(question, context, return_tensors='pt')\n",
        "\n",
        "# Get the answer\n",
        "outputs = model(**inputs)\n",
        "start_scores, end_scores = outputs.start_logits, outputs.end_logits\n",
        "\n",
        "# Find the start and end of the answer\n",
        "answer_start = torch.argmax(start_scores)\n",
        "answer_end = torch.argmax(end_scores) + 1\n",
        "\n",
        "# Convert the token indices to the answer string\n",
        "answer = tokenizer.convert_tokens_to_string(tokenizer.convert_ids_to_tokens(inputs['input_ids'][0][answer_start:answer_end]))\n",
        "print(answer)"
      ]
    }
  ]
}