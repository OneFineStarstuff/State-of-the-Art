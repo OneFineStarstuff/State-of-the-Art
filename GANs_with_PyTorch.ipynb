{
  "nbformat": 4,
  "nbformat_minor": 0,
  "metadata": {
    "colab": {
      "private_outputs": true,
      "provenance": [],
      "authorship_tag": "ABX9TyMTT8RNHOCszcGtWONDKOnp",
      "include_colab_link": true
    },
    "kernelspec": {
      "name": "python3",
      "display_name": "Python 3"
    },
    "language_info": {
      "name": "python"
    }
  },
  "cells": [
    {
      "cell_type": "markdown",
      "metadata": {
        "id": "view-in-github",
        "colab_type": "text"
      },
      "source": [
        "<a href=\"https://colab.research.google.com/github/OneFineStarstuff/State-of-the-Art/blob/main/GANs_with_PyTorch.ipynb\" target=\"_parent\"><img src=\"https://colab.research.google.com/assets/colab-badge.svg\" alt=\"Open In Colab\"/></a>"
      ]
    },
    {
      "cell_type": "code",
      "execution_count": null,
      "metadata": {
        "id": "n3ckCBmaoiMU"
      },
      "outputs": [],
      "source": [
        "import torch\n",
        "import torch.nn as nn\n",
        "import torch.optim as optim\n",
        "from torchvision import datasets, transforms\n",
        "\n",
        "class Generator(nn.Module):\n",
        "    def __init__(self):\n",
        "        super(Generator, self).__init__()\n",
        "        self.main = nn.Sequential(\n",
        "            nn.Linear(100, 256),\n",
        "            nn.ReLU(True),\n",
        "            nn.Linear(256, 512),\n",
        "            nn.ReLU(True),\n",
        "            nn.Linear(512, 784),\n",
        "            nn.Tanh()\n",
        "        )\n",
        "\n",
        "    def forward(self, x):\n",
        "        return self.main(x)\n",
        "\n",
        "class Discriminator(nn.Module):\n",
        "    def __init__(self):\n",
        "        super(Discriminator, self).__init__()\n",
        "        self.main = nn.Sequential(\n",
        "            nn.Linear(784, 512),\n",
        "            nn.LeakyReLU(0.2, inplace=True),\n",
        "            nn.Linear(512, 256),\n",
        "            nn.LeakyReLU(0.2, inplace=True),\n",
        "            nn.Linear(256, 1),\n",
        "            nn.Sigmoid()\n",
        "        )\n",
        "\n",
        "    def forward(self, x):\n",
        "        return self.main(x)\n",
        "\n",
        "# Training the GAN\n",
        "generator = Generator()\n",
        "discriminator = Discriminator()\n",
        "criterion = nn.BCELoss()\n",
        "optimizerG = optim.Adam(generator.parameters(), lr=0.0002)\n",
        "optimizerD = optim.Adam(discriminator.parameters(), lr=0.0002)\n",
        "\n",
        "for epoch in range(100):\n",
        "    # Train Discriminator\n",
        "    optimizerD.zero_grad()\n",
        "    real_data = torch.randn(64, 784)\n",
        "    real_labels = torch.ones(64, 1)\n",
        "    fake_data = generator(torch.randn(64, 100))\n",
        "    fake_labels = torch.zeros(64, 1)\n",
        "\n",
        "    real_output = discriminator(real_data)\n",
        "    fake_output = discriminator(fake_data)\n",
        "\n",
        "    d_loss_real = criterion(real_output, real_labels)\n",
        "    d_loss_fake = criterion(fake_output, fake_labels)\n",
        "    d_loss = d_loss_real + d_loss_fake\n",
        "    d_loss.backward()\n",
        "    optimizerD.step()\n",
        "\n",
        "    # Train Generator\n",
        "    optimizerG.zero_grad()\n",
        "    fake_data = generator(torch.randn(64, 100))\n",
        "    fake_output = discriminator(fake_data)\n",
        "    g_loss = criterion(fake_output, real_labels)\n",
        "    g_loss.backward()\n",
        "    optimizerG.step()\n",
        "\n",
        "    print(f\"Epoch {epoch}, D Loss: {d_loss.item()}, G Loss: {g_loss.item()}\")"
      ]
    }
  ]
}