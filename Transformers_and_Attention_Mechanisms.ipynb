{
  "nbformat": 4,
  "nbformat_minor": 0,
  "metadata": {
    "colab": {
      "private_outputs": true,
      "provenance": [],
      "authorship_tag": "ABX9TyML5dJr/yETczS0mtR3n2lE",
      "include_colab_link": true
    },
    "kernelspec": {
      "name": "python3",
      "display_name": "Python 3"
    },
    "language_info": {
      "name": "python"
    }
  },
  "cells": [
    {
      "cell_type": "markdown",
      "metadata": {
        "id": "view-in-github",
        "colab_type": "text"
      },
      "source": [
        "<a href=\"https://colab.research.google.com/github/OneFineStarstuff/State-of-the-Art/blob/main/Transformers_and_Attention_Mechanisms.ipynb\" target=\"_parent\"><img src=\"https://colab.research.google.com/assets/colab-badge.svg\" alt=\"Open In Colab\"/></a>"
      ]
    },
    {
      "cell_type": "code",
      "execution_count": null,
      "metadata": {
        "id": "F7bGviY_Iilp"
      },
      "outputs": [],
      "source": [
        "import torch\n",
        "import torch.nn as nn\n",
        "import torch.nn.functional as F\n",
        "\n",
        "# Positional Encoding\n",
        "class PositionalEncoding(nn.Module):\n",
        "    def __init__(self, embed_size, max_len=5000):\n",
        "        super(PositionalEncoding, self).__init__()\n",
        "        pe = torch.zeros(max_len, embed_size)\n",
        "        position = torch.arange(0, max_len).unsqueeze(1)\n",
        "        div_term = torch.exp(torch.arange(0, embed_size, 2) * (-torch.log(torch.tensor(10000.0)) / embed_size))\n",
        "        pe[:, 0::2] = torch.sin(position * div_term)\n",
        "        pe[:, 1::2] = torch.cos(position * div_term)\n",
        "        self.register_buffer('pe', pe)\n",
        "\n",
        "    def forward(self, x):\n",
        "        return x + self.pe[:x.size(1), :]\n",
        "\n",
        "# Self-Attention Mechanism\n",
        "class SelfAttention(nn.Module):\n",
        "    def __init__(self, embed_size, heads):\n",
        "        super(SelfAttention, self).__init__()\n",
        "        self.embed_size = embed_size\n",
        "        self.heads = heads\n",
        "        self.head_dim = embed_size // heads\n",
        "\n",
        "        assert self.head_dim * heads == embed_size, \"Embed size needs to be divisible by heads\"\n",
        "\n",
        "        self.values = nn.Linear(self.head_dim, self.head_dim, bias=False)\n",
        "        self.keys = nn.Linear(self.head_dim, self.head_dim, bias=False)\n",
        "        self.queries = nn.Linear(self.head_dim, self.head_dim, bias=False)\n",
        "        self.fc_out = nn.Linear(heads * self.head_dim, embed_size)\n",
        "\n",
        "    def forward(self, values, keys, query, mask):\n",
        "        N = query.shape[0]\n",
        "        value_len, key_len, query_len = values.shape[1], keys.shape[1], query.shape[1]\n",
        "\n",
        "        # Split embedding into heads\n",
        "        values = values.view(N, value_len, self.heads, self.head_dim)\n",
        "        keys = keys.view(N, key_len, self.heads, self.head_dim)\n",
        "        queries = query.view(N, query_len, self.heads, self.head_dim)\n",
        "\n",
        "        # Apply linear transformations\n",
        "        values = self.values(values)\n",
        "        keys = self.keys(keys)\n",
        "        queries = self.queries(queries)\n",
        "\n",
        "        # Energy computation\n",
        "        energy = torch.einsum(\"nqhd,nkhd->nhqk\", [queries, keys])  # Dot product attention\n",
        "        if mask is not None:\n",
        "            mask = mask.unsqueeze(1).unsqueeze(2)  # Adjust mask for broadcasting\n",
        "            energy = energy.masked_fill(mask == 0, float(\"-1e20\"))\n",
        "\n",
        "        # Apply softmax\n",
        "        attention = F.softmax(energy / (self.head_dim ** 0.5), dim=3)\n",
        "\n",
        "        # Weighted sum of values\n",
        "        out = torch.einsum(\"nhqk,nvhd->nqhd\", [attention, values]).reshape(\n",
        "            N, query_len, self.heads * self.head_dim\n",
        "        )\n",
        "\n",
        "        # Final linear transformation\n",
        "        out = self.fc_out(out)\n",
        "        return out\n",
        "\n",
        "# Example of usage\n",
        "if __name__ == \"__main__\":\n",
        "    embed_size = 64\n",
        "    heads = 8\n",
        "    attention = SelfAttention(embed_size, heads)\n",
        "\n",
        "    batch_size = 32\n",
        "    seq_len = 50\n",
        "    values = torch.rand(batch_size, seq_len, embed_size)\n",
        "    keys = torch.rand(batch_size, seq_len, embed_size)\n",
        "    queries = torch.rand(batch_size, seq_len, embed_size)\n",
        "    mask = torch.ones(batch_size, seq_len)  # Example mask (no padding)\n",
        "\n",
        "    output = attention(values, keys, queries, mask)\n",
        "    print(\"Output shape:\", output.shape)  # Expected: [batch_size, seq_len, embed_size]"
      ]
    }
  ]
}