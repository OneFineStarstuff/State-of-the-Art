{
  "nbformat": 4,
  "nbformat_minor": 0,
  "metadata": {
    "colab": {
      "private_outputs": true,
      "provenance": [],
      "authorship_tag": "ABX9TyPw1cF2vK14UxbdumT/mvdp",
      "include_colab_link": true
    },
    "kernelspec": {
      "name": "python3",
      "display_name": "Python 3"
    },
    "language_info": {
      "name": "python"
    }
  },
  "cells": [
    {
      "cell_type": "markdown",
      "metadata": {
        "id": "view-in-github",
        "colab_type": "text"
      },
      "source": [
        "<a href=\"https://colab.research.google.com/github/OneFineStarstuff/State-of-the-Art/blob/main/CLIP_(Contrastive_Language_Image_Pretraining).ipynb\" target=\"_parent\"><img src=\"https://colab.research.google.com/assets/colab-badge.svg\" alt=\"Open In Colab\"/></a>"
      ]
    },
    {
      "cell_type": "code",
      "execution_count": null,
      "metadata": {
        "id": "A9O07XucMq9s"
      },
      "outputs": [],
      "source": [
        "!pip install transformers\n",
        "!pip install torch torchvision"
      ]
    },
    {
      "cell_type": "code",
      "source": [
        "from transformers import CLIPProcessor, CLIPModel\n",
        "import torch\n",
        "from PIL import Image\n",
        "\n",
        "# Load the CLIP model and processor\n",
        "model = CLIPModel.from_pretrained(\"openai/clip-vit-base-patch32\")\n",
        "processor = CLIPProcessor.from_pretrained(\"openai/clip-vit-base-patch32\")\n",
        "\n",
        "# Load and preprocess the image\n",
        "image = Image.open(\"path/to/image.jpg\")\n",
        "\n",
        "# Define the prompts for zero-shot classification\n",
        "prompts = [\"a photo of a cat\", \"a photo of a dog\", \"a photo of a car\", \"a photo of a tree\"]\n",
        "\n",
        "# Preprocess the image and prompts\n",
        "inputs = processor(text=prompts, images=image, return_tensors=\"pt\", padding=True)\n",
        "\n",
        "# Get the model predictions\n",
        "outputs = model(**inputs)\n",
        "logits_per_image = outputs.logits_per_image  # This is the image-text similarity score\n",
        "probs = logits_per_image.softmax(dim=1)  # Convert to probabilities\n",
        "\n",
        "# Print the predictions\n",
        "for prob, prompt in zip(probs[0], prompts):\n",
        "    print(f\"{prompt}: {prob.item():.4f}\")"
      ],
      "metadata": {
        "id": "cHDcJbw4M7h8"
      },
      "execution_count": null,
      "outputs": []
    }
  ]
}