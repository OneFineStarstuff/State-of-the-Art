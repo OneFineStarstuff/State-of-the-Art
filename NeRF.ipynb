{
  "nbformat": 4,
  "nbformat_minor": 0,
  "metadata": {
    "colab": {
      "private_outputs": true,
      "provenance": [],
      "authorship_tag": "ABX9TyMJ6p3r94FLZbadkSDqPqCa",
      "include_colab_link": true
    },
    "kernelspec": {
      "name": "python3",
      "display_name": "Python 3"
    },
    "language_info": {
      "name": "python"
    }
  },
  "cells": [
    {
      "cell_type": "markdown",
      "metadata": {
        "id": "view-in-github",
        "colab_type": "text"
      },
      "source": [
        "<a href=\"https://colab.research.google.com/github/OneFineStarstuff/State-of-the-Art/blob/main/NeRF.ipynb\" target=\"_parent\"><img src=\"https://colab.research.google.com/assets/colab-badge.svg\" alt=\"Open In Colab\"/></a>"
      ]
    },
    {
      "cell_type": "code",
      "execution_count": null,
      "metadata": {
        "id": "MVSwzP-v_cQz"
      },
      "outputs": [],
      "source": [
        "import torch\n",
        "import torch.nn as nn\n",
        "\n",
        "# Define a simplified NeRF model\n",
        "class NeRF(nn.Module):\n",
        "    def __init__(self):\n",
        "        super(NeRF, self).__init__()\n",
        "        self.layers = nn.Sequential(\n",
        "            nn.Linear(3, 256),\n",
        "            nn.ReLU(),\n",
        "            nn.Linear(256, 256),\n",
        "            nn.ReLU(),\n",
        "            nn.Linear(256, 256),\n",
        "            nn.ReLU(),\n",
        "            nn.Linear(256, 3)  # RGB output\n",
        "        )\n",
        "\n",
        "    def forward(self, x):\n",
        "        return self.layers(x)\n",
        "\n",
        "# Instantiate the model\n",
        "model = NeRF()\n",
        "\n",
        "# Simulate ray samples (1024 rays with 3 coordinates each)\n",
        "rays = torch.rand(1024, 3)\n",
        "\n",
        "# Pass the rays through the model to get the RGB output\n",
        "output = model(rays)\n",
        "\n",
        "# Print the output shape to verify\n",
        "print(output.shape)  # Should be [1024, 3]"
      ]
    }
  ]
}