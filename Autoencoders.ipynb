{
  "nbformat": 4,
  "nbformat_minor": 0,
  "metadata": {
    "colab": {
      "private_outputs": true,
      "provenance": [],
      "authorship_tag": "ABX9TyNOebpgWlZaUgLmBn0vnZah",
      "include_colab_link": true
    },
    "kernelspec": {
      "name": "python3",
      "display_name": "Python 3"
    },
    "language_info": {
      "name": "python"
    }
  },
  "cells": [
    {
      "cell_type": "markdown",
      "metadata": {
        "id": "view-in-github",
        "colab_type": "text"
      },
      "source": [
        "<a href=\"https://colab.research.google.com/github/OneFineStarstuff/State-of-the-Art/blob/main/Autoencoders.ipynb\" target=\"_parent\"><img src=\"https://colab.research.google.com/assets/colab-badge.svg\" alt=\"Open In Colab\"/></a>"
      ]
    },
    {
      "cell_type": "code",
      "execution_count": null,
      "metadata": {
        "id": "ES046ckwLR8E"
      },
      "outputs": [],
      "source": [
        "import torch\n",
        "import torch.nn as nn\n",
        "import torch.optim as optim\n",
        "from torchvision import datasets, transforms\n",
        "from torch.utils.data import DataLoader\n",
        "\n",
        "# Define the Autoencoder class\n",
        "class Autoencoder(nn.Module):\n",
        "    def __init__(self, input_dim, hidden_dim):\n",
        "        super(Autoencoder, self).__init__()\n",
        "        self.encoder = nn.Sequential(\n",
        "            nn.Linear(input_dim, hidden_dim),  # Encoder layer\n",
        "            nn.ReLU()  # ReLU activation\n",
        "        )\n",
        "        self.decoder = nn.Sequential(\n",
        "            nn.Linear(hidden_dim, input_dim),  # Decoder layer\n",
        "            nn.Sigmoid()  # Sigmoid activation\n",
        "        )\n",
        "\n",
        "    def forward(self, x):\n",
        "        x = self.encoder(x)  # Encode input\n",
        "        x = self.decoder(x)  # Decode input\n",
        "        return x\n",
        "\n",
        "# Define the train_autoencoder function\n",
        "def train_autoencoder(autoencoder, dataloader, epochs):\n",
        "    criterion = nn.MSELoss()  # Mean Squared Error loss\n",
        "    optimizer = optim.Adam(autoencoder.parameters(), lr=0.001)  # Adam optimizer\n",
        "\n",
        "    for epoch in range(epochs):\n",
        "        for data, _ in dataloader:\n",
        "            data = data.view(data.size(0), -1)  # Flatten the images\n",
        "            optimizer.zero_grad()\n",
        "            output = autoencoder(data)  # Forward pass\n",
        "            loss = criterion(output, data)  # Compute the loss\n",
        "            loss.backward()  # Backpropagate the loss\n",
        "            optimizer.step()  # Update the model parameters\n",
        "\n",
        "        print(f'Epoch [{epoch + 1}/{epochs}], Loss: {loss.item():.4f}')\n",
        "\n",
        "# Example usage\n",
        "autoencoder = Autoencoder(input_dim=784, hidden_dim=64)\n",
        "\n",
        "# Define the transformation for the dataset\n",
        "transform = transforms.Compose([\n",
        "    transforms.ToTensor(),\n",
        "    transforms.Normalize((0.5,), (0.5,))\n",
        "])\n",
        "\n",
        "# Load the MNIST dataset\n",
        "dataset = datasets.MNIST(root='mnist_data', train=True, transform=transform, download=True)\n",
        "dataloader = DataLoader(dataset, batch_size=64, shuffle=True)\n",
        "\n",
        "# Train the autoencoder\n",
        "train_autoencoder(autoencoder, dataloader, epochs=20)"
      ]
    }
  ]
}