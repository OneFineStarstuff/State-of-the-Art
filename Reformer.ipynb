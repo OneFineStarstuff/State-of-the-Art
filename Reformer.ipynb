{
  "nbformat": 4,
  "nbformat_minor": 0,
  "metadata": {
    "colab": {
      "private_outputs": true,
      "provenance": [],
      "authorship_tag": "ABX9TyOeatsgOEBp+0KphjJzeAMW",
      "include_colab_link": true
    },
    "kernelspec": {
      "name": "python3",
      "display_name": "Python 3"
    },
    "language_info": {
      "name": "python"
    }
  },
  "cells": [
    {
      "cell_type": "markdown",
      "metadata": {
        "id": "view-in-github",
        "colab_type": "text"
      },
      "source": [
        "<a href=\"https://colab.research.google.com/github/OneFineStarstuff/State-of-the-Art/blob/main/Reformer.ipynb\" target=\"_parent\"><img src=\"https://colab.research.google.com/assets/colab-badge.svg\" alt=\"Open In Colab\"/></a>"
      ]
    },
    {
      "cell_type": "code",
      "execution_count": null,
      "metadata": {
        "id": "UHUbrP3DgXe7"
      },
      "outputs": [],
      "source": [
        "from transformers import ReformerModelWithLMHead, ReformerTokenizer\n",
        "\n",
        "# Initialize the tokenizer and model\n",
        "tokenizer = ReformerTokenizer.from_pretrained(\"google/reformer-crime-and-punishment\")\n",
        "model = ReformerModelWithLMHead.from_pretrained(\"google/reformer-crime-and-punishment\")\n",
        "\n",
        "# Define the input text\n",
        "input_text = \"The quick brown fox jumps over the lazy dog\"\n",
        "input_ids = tokenizer(input_text, return_tensors=\"pt\").input_ids\n",
        "\n",
        "# Generate text\n",
        "output = model.generate(input_ids, max_length=50)\n",
        "\n",
        "# Decode and print the generated text\n",
        "generated_text = tokenizer.decode(output[0], skip_special_tokens=True)\n",
        "print(generated_text)"
      ]
    }
  ]
}