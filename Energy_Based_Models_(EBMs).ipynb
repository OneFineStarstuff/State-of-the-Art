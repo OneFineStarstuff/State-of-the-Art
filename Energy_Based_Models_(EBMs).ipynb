{
  "nbformat": 4,
  "nbformat_minor": 0,
  "metadata": {
    "colab": {
      "private_outputs": true,
      "provenance": [],
      "authorship_tag": "ABX9TyOYxO0jxnGWNpdA1IArOxN1",
      "include_colab_link": true
    },
    "kernelspec": {
      "name": "python3",
      "display_name": "Python 3"
    },
    "language_info": {
      "name": "python"
    }
  },
  "cells": [
    {
      "cell_type": "markdown",
      "metadata": {
        "id": "view-in-github",
        "colab_type": "text"
      },
      "source": [
        "<a href=\"https://colab.research.google.com/github/OneFineStarstuff/State-of-the-Art/blob/main/Energy_Based_Models_(EBMs).ipynb\" target=\"_parent\"><img src=\"https://colab.research.google.com/assets/colab-badge.svg\" alt=\"Open In Colab\"/></a>"
      ]
    },
    {
      "cell_type": "code",
      "execution_count": null,
      "metadata": {
        "id": "bTp929m4zaw5"
      },
      "outputs": [],
      "source": [
        "import torch\n",
        "import torch.nn as nn\n",
        "import torch.optim as optim\n",
        "\n",
        "class EnergyModel(nn.Module):\n",
        "    def __init__(self, input_dim):\n",
        "        super(EnergyModel, self).__init__()\n",
        "        self.fc = nn.Linear(input_dim, 1)\n",
        "\n",
        "    def forward(self, x):\n",
        "        return self.fc(x)\n",
        "\n",
        "def train_ebm(model, data, optimizer, epochs=100):\n",
        "    for epoch in range(epochs):\n",
        "        optimizer.zero_grad()\n",
        "        energy = model(data)\n",
        "        loss = torch.mean(energy)\n",
        "        loss.backward()\n",
        "        optimizer.step()\n",
        "        print(f'Epoch {epoch + 1}, Loss: {loss.item():.4f}')\n",
        "\n",
        "# Example usage\n",
        "model = EnergyModel(input_dim=10)\n",
        "optimizer = optim.Adam(model.parameters(), lr=0.001)\n",
        "data = torch.randn(100, 10)\n",
        "train_ebm(model, data, optimizer)"
      ]
    }
  ]
}