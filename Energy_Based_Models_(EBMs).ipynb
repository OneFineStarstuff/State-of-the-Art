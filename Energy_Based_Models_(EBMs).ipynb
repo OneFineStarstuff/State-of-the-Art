{
  "nbformat": 4,
  "nbformat_minor": 0,
  "metadata": {
    "colab": {
      "private_outputs": true,
      "provenance": [],
      "authorship_tag": "ABX9TyMOLi9+rjgkRgRQz8vLNepL",
      "include_colab_link": true
    },
    "kernelspec": {
      "name": "python3",
      "display_name": "Python 3"
    },
    "language_info": {
      "name": "python"
    }
  },
  "cells": [
    {
      "cell_type": "markdown",
      "metadata": {
        "id": "view-in-github",
        "colab_type": "text"
      },
      "source": [
        "<a href=\"https://colab.research.google.com/github/OneFineStarstuff/State-of-the-Art/blob/main/Energy_Based_Models_(EBMs).ipynb\" target=\"_parent\"><img src=\"https://colab.research.google.com/assets/colab-badge.svg\" alt=\"Open In Colab\"/></a>"
      ]
    },
    {
      "cell_type": "code",
      "execution_count": null,
      "metadata": {
        "id": "j3FmKG7B0edx"
      },
      "outputs": [],
      "source": [
        "import torch\n",
        "import torch.nn as nn\n",
        "\n",
        "# Define the EBM class\n",
        "class EBM(nn.Module):\n",
        "    def __init__(self, input_dim):\n",
        "        super(EBM, self).__init__()\n",
        "        self.fc1 = nn.Linear(input_dim, 128)  # First fully connected layer\n",
        "        self.fc2 = nn.Linear(128, 64)  # Second fully connected layer\n",
        "        self.fc3 = nn.Linear(64, 1)  # Third fully connected layer (energy output)\n",
        "\n",
        "    def forward(self, x):\n",
        "        x = torch.relu(self.fc1(x))  # Apply ReLU activation after first layer\n",
        "        x = torch.relu(self.fc2(x))  # Apply ReLU activation after second layer\n",
        "        energy = self.fc3(x)  # Output layer for energy\n",
        "        return energy\n",
        "\n",
        "# Example usage\n",
        "model = EBM(input_dim=784)\n",
        "input_data = torch.randn(32, 784)  # Example input (batch_size=32, input_dim=784)\n",
        "energy_output = model(input_data)\n",
        "\n",
        "# Print the shape of the output\n",
        "print(energy_output.shape)  # Expected shape: [32, 1]"
      ]
    }
  ]
}