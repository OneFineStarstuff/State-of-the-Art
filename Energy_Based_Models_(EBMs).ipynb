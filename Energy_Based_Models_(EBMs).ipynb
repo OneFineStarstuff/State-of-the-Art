{
  "nbformat": 4,
  "nbformat_minor": 0,
  "metadata": {
    "colab": {
      "private_outputs": true,
      "provenance": [],
      "authorship_tag": "ABX9TyNJ+25ZxsTqyCPvGhla6RlE",
      "include_colab_link": true
    },
    "kernelspec": {
      "name": "python3",
      "display_name": "Python 3"
    },
    "language_info": {
      "name": "python"
    }
  },
  "cells": [
    {
      "cell_type": "markdown",
      "metadata": {
        "id": "view-in-github",
        "colab_type": "text"
      },
      "source": [
        "<a href=\"https://colab.research.google.com/github/OneFineStarstuff/State-of-the-Art/blob/main/Energy_Based_Models_(EBMs).ipynb\" target=\"_parent\"><img src=\"https://colab.research.google.com/assets/colab-badge.svg\" alt=\"Open In Colab\"/></a>"
      ]
    },
    {
      "cell_type": "code",
      "execution_count": null,
      "metadata": {
        "id": "CWmibEteRu55"
      },
      "outputs": [],
      "source": [
        "import torch\n",
        "import torch.nn as nn\n",
        "import torch.nn.functional as F\n",
        "\n",
        "# Define the EnergyBasedModel class\n",
        "class EnergyBasedModel(nn.Module):\n",
        "    def __init__(self, input_dim):\n",
        "        super(EnergyBasedModel, self).__init__()\n",
        "        self.fc1 = nn.Linear(input_dim, 128)  # First fully connected layer\n",
        "        self.fc2 = nn.Linear(128, 1)  # Second fully connected layer\n",
        "\n",
        "    def forward(self, x):\n",
        "        x = F.relu(self.fc1(x))  # Apply ReLU activation after the first layer\n",
        "        energy = self.fc2(x)  # Output energy value from the second layer\n",
        "        return energy\n",
        "\n",
        "# Example usage\n",
        "model = EnergyBasedModel(input_dim=784)\n",
        "input_data = torch.randn(64, 784)  # Example input (batch_size=64, input_dim=784)\n",
        "energy = model(input_data)\n",
        "\n",
        "# Print the shape of the output\n",
        "print(energy.shape)  # Expected shape: [64, 1]"
      ]
    }
  ]
}