{
  "nbformat": 4,
  "nbformat_minor": 0,
  "metadata": {
    "colab": {
      "private_outputs": true,
      "provenance": [],
      "authorship_tag": "ABX9TyPi6jfIjuirrM0UZkoHY9Ko",
      "include_colab_link": true
    },
    "kernelspec": {
      "name": "python3",
      "display_name": "Python 3"
    },
    "language_info": {
      "name": "python"
    }
  },
  "cells": [
    {
      "cell_type": "markdown",
      "metadata": {
        "id": "view-in-github",
        "colab_type": "text"
      },
      "source": [
        "<a href=\"https://colab.research.google.com/github/OneFineStarstuff/State-of-the-Art/blob/main/Neural_Architecture_Search_(NAS).ipynb\" target=\"_parent\"><img src=\"https://colab.research.google.com/assets/colab-badge.svg\" alt=\"Open In Colab\"/></a>"
      ]
    },
    {
      "cell_type": "code",
      "source": [
        "!pip install naslib"
      ],
      "metadata": {
        "id": "XpPwbXQpTaUY"
      },
      "execution_count": null,
      "outputs": []
    },
    {
      "cell_type": "code",
      "source": [
        "!git clone https://github.com/automl/NASLib.git\n",
        "!cd NASLib"
      ],
      "metadata": {
        "id": "KXyrGrkvTrkI"
      },
      "execution_count": null,
      "outputs": []
    },
    {
      "cell_type": "code",
      "source": [
        "!pip install -e ."
      ],
      "metadata": {
        "id": "iec_fvaPTsvo"
      },
      "execution_count": null,
      "outputs": []
    },
    {
      "cell_type": "code",
      "execution_count": null,
      "metadata": {
        "id": "jD8Jf5llTNH7"
      },
      "outputs": [],
      "source": [
        "from naslib.optimizers import RandomNAS\n",
        "from naslib.search_spaces import DartsSearchSpace\n",
        "\n",
        "# Instantiate the DARTS search space\n",
        "search_space = DartsSearchSpace()\n",
        "\n",
        "# Instantiate the random search optimizer with a specified budget\n",
        "optimizer = RandomNAS(search_space, budget=50)\n",
        "\n",
        "# Perform the search\n",
        "optimizer.search()\n",
        "\n",
        "# Retrieve and print the best architecture found\n",
        "best_architecture = optimizer.get_best_architecture()\n",
        "print(\"Best Architecture:\", best_architecture)"
      ]
    }
  ]
}