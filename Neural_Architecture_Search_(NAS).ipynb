{
  "nbformat": 4,
  "nbformat_minor": 0,
  "metadata": {
    "colab": {
      "private_outputs": true,
      "provenance": [],
      "authorship_tag": "ABX9TyPnBmA4Uf1Duzd83jDkewIP",
      "include_colab_link": true
    },
    "kernelspec": {
      "name": "python3",
      "display_name": "Python 3"
    },
    "language_info": {
      "name": "python"
    }
  },
  "cells": [
    {
      "cell_type": "markdown",
      "metadata": {
        "id": "view-in-github",
        "colab_type": "text"
      },
      "source": [
        "<a href=\"https://colab.research.google.com/github/OneFineStarstuff/State-of-the-Art/blob/main/Neural_Architecture_Search_(NAS).ipynb\" target=\"_parent\"><img src=\"https://colab.research.google.com/assets/colab-badge.svg\" alt=\"Open In Colab\"/></a>"
      ]
    },
    {
      "cell_type": "code",
      "execution_count": null,
      "metadata": {
        "id": "y8UQPHQpS_6g"
      },
      "outputs": [],
      "source": [
        "import torch\n",
        "import torch.nn as nn\n",
        "import torch.optim as optim\n",
        "from torchvision import datasets, transforms\n",
        "\n",
        "# Define the SimpleNAS class\n",
        "class SimpleNAS(nn.Module):\n",
        "    def __init__(self, input_dim, output_dim):\n",
        "        super(SimpleNAS, self).__init__()\n",
        "        self.fc1 = nn.Linear(input_dim, 128)  # First fully connected layer\n",
        "        self.fc2 = nn.Linear(128, 256)  # Second fully connected layer\n",
        "        self.fc3 = nn.Linear(256, output_dim)  # Third fully connected layer\n",
        "        self.activation = nn.ReLU()  # ReLU activation function\n",
        "        self.layers = [self.fc1, self.fc2, self.fc3]  # List of all layers\n",
        "        self.selected_layers = self.layers  # Example: All layers are selected\n",
        "\n",
        "    def forward(self, x):\n",
        "        for layer in self.selected_layers:\n",
        "            x = self.activation(layer(x))  # Apply activation function after each layer\n",
        "        return x\n",
        "\n",
        "# Example usage\n",
        "model = SimpleNAS(input_dim=784, output_dim=10)  # Instantiate the model\n",
        "optimizer = optim.SGD(model.parameters(), lr=0.01, momentum=0.9)  # Define the optimizer"
      ]
    }
  ]
}