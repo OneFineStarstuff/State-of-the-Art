{
  "nbformat": 4,
  "nbformat_minor": 0,
  "metadata": {
    "colab": {
      "private_outputs": true,
      "provenance": [],
      "authorship_tag": "ABX9TyPaIhd7otzn0kl8ZxymsX/G",
      "include_colab_link": true
    },
    "kernelspec": {
      "name": "python3",
      "display_name": "Python 3"
    },
    "language_info": {
      "name": "python"
    }
  },
  "cells": [
    {
      "cell_type": "markdown",
      "metadata": {
        "id": "view-in-github",
        "colab_type": "text"
      },
      "source": [
        "<a href=\"https://colab.research.google.com/github/OneFineStarstuff/State-of-the-Art/blob/main/Neural_Architecture_Search_(NAS).ipynb\" target=\"_parent\"><img src=\"https://colab.research.google.com/assets/colab-badge.svg\" alt=\"Open In Colab\"/></a>"
      ]
    },
    {
      "cell_type": "code",
      "execution_count": null,
      "metadata": {
        "id": "4FvpSd8Z9XKG"
      },
      "outputs": [],
      "source": [
        "import torch\n",
        "import torch.nn as nn\n",
        "import random\n",
        "\n",
        "# Define the RandomSearchNAS class\n",
        "class RandomSearchNAS:\n",
        "    def __init__(self, search_space, num_trials):\n",
        "        self.search_space = search_space  # The search space for different layers\n",
        "        self.num_trials = num_trials  # Number of trials to perform\n",
        "\n",
        "    def random_architecture(self):\n",
        "        # Randomly select one layer from each group in the search space\n",
        "        return [random.choice(layer) for layer in self.search_space]\n",
        "\n",
        "    def evaluate(self, architecture):\n",
        "        # Create a model from the selected architecture\n",
        "        model = nn.Sequential(*architecture)\n",
        "        # Dummy evaluation function (replace with actual training and validation)\n",
        "        score = random.random()  # Placeholder for actual evaluation score\n",
        "        return score\n",
        "\n",
        "    def search(self):\n",
        "        best_architecture = None\n",
        "        best_score = float('-inf')\n",
        "        for _ in range(self.num_trials):\n",
        "            architecture = self.random_architecture()  # Generate a random architecture\n",
        "            score = self.evaluate(architecture)  # Get the evaluation score\n",
        "            if score > best_score:\n",
        "                best_score = score\n",
        "                best_architecture = architecture\n",
        "        return best_architecture\n",
        "\n",
        "# Example usage\n",
        "search_space = [\n",
        "    [nn.Conv2d(1, 32, kernel_size=3), nn.Conv2d(1, 64, kernel_size=3)],  # Convolutional layers\n",
        "    [nn.ReLU(), nn.LeakyReLU()],  # Activation functions\n",
        "    [nn.MaxPool2d(kernel_size=2), nn.AvgPool2d(kernel_size=2)]  # Pooling layers\n",
        "]\n",
        "nas = RandomSearchNAS(search_space=search_space, num_trials=10)  # Initialize RandomSearchNAS\n",
        "best_arch = nas.search()  # Perform the search\n",
        "print(best_arch)  # Outputs the best architecture found"
      ]
    }
  ]
}