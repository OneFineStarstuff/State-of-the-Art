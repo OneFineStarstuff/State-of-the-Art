{
  "nbformat": 4,
  "nbformat_minor": 0,
  "metadata": {
    "colab": {
      "private_outputs": true,
      "provenance": [],
      "authorship_tag": "ABX9TyP+FXN42jFeQIdPkvb0/JXY",
      "include_colab_link": true
    },
    "kernelspec": {
      "name": "python3",
      "display_name": "Python 3"
    },
    "language_info": {
      "name": "python"
    }
  },
  "cells": [
    {
      "cell_type": "markdown",
      "metadata": {
        "id": "view-in-github",
        "colab_type": "text"
      },
      "source": [
        "<a href=\"https://colab.research.google.com/github/OneFineStarstuff/State-of-the-Art/blob/main/Neural_Architecture_Search_(NAS).ipynb\" target=\"_parent\"><img src=\"https://colab.research.google.com/assets/colab-badge.svg\" alt=\"Open In Colab\"/></a>"
      ]
    },
    {
      "cell_type": "code",
      "source": [
        "import torch\n",
        "import torch.nn as nn\n",
        "import torch.optim as optim\n",
        "from torchvision import datasets, transforms\n",
        "from torchvision.models import resnet18, ResNet18_Weights\n",
        "from torch.utils.data import DataLoader\n",
        "\n",
        "# Data loading and preprocessing\n",
        "transform = transforms.Compose([\n",
        "    transforms.Resize((128, 128)),\n",
        "    transforms.ToTensor(),\n",
        "    transforms.Normalize((0.5,), (0.5,))\n",
        "])\n",
        "\n",
        "train_dataset = datasets.CIFAR10(root='./data', train=True, download=True, transform=transform)\n",
        "test_dataset = datasets.CIFAR10(root='./data', train=False, download=True, transform=transform)\n",
        "\n",
        "train_loader = DataLoader(train_dataset, batch_size=64, shuffle=True)\n",
        "test_loader = DataLoader(test_dataset, batch_size=64, shuffle=False)\n",
        "\n",
        "# Base model (ResNet-18)\n",
        "class ResNet18Mod(nn.Module):\n",
        "    def __init__(self, num_classes=10):\n",
        "        super(ResNet18Mod, self).__init__()\n",
        "        self.model = resnet18(weights=ResNet18_Weights.DEFAULT)\n",
        "        self.model.fc = nn.Linear(self.model.fc.in_features, num_classes)\n",
        "\n",
        "    def forward(self, x):\n",
        "        return self.model(x)\n",
        "\n",
        "# Define the search space and objective function\n",
        "def search_space():\n",
        "    return {\n",
        "        'learning_rate': [1e-3, 1e-4, 1e-5],\n",
        "        'optimizer': [optim.Adam, optim.SGD]\n",
        "    }\n",
        "\n",
        "def objective_function(hyperparams):\n",
        "    model = ResNet18Mod()\n",
        "    criterion = nn.CrossEntropyLoss()\n",
        "    optimizer = hyperparams['optimizer'](model.parameters(), lr=hyperparams['learning_rate'])\n",
        "\n",
        "    model.train()\n",
        "    for epoch in range(3):  # Train for a few epochs\n",
        "        for data, target in train_loader:\n",
        "            optimizer.zero_grad()\n",
        "            output = model(data)\n",
        "            loss = criterion(output, target)\n",
        "            loss.backward()\n",
        "            optimizer.step()\n",
        "\n",
        "    return evaluate(model)\n",
        "\n",
        "def evaluate(model):\n",
        "    model.eval()\n",
        "    correct = 0\n",
        "    with torch.no_grad():\n",
        "        for data, target in test_loader:\n",
        "            output = model(data)\n",
        "            pred = output.argmax(dim=1, keepdim=True)\n",
        "            correct += pred.eq(target.view_as(pred)).sum().item()\n",
        "    return correct / len(test_loader.dataset)\n",
        "\n",
        "# Implementing a basic NAS loop\n",
        "best_hyperparams = None\n",
        "best_accuracy = 0\n",
        "\n",
        "for learning_rate in search_space()['learning_rate']:\n",
        "    for optimizer in search_space()['optimizer']:\n",
        "        hyperparams = {'learning_rate': learning_rate, 'optimizer': optimizer}\n",
        "        accuracy = objective_function(hyperparams)\n",
        "        if accuracy > best_accuracy:\n",
        "            best_accuracy = accuracy\n",
        "            best_hyperparams = hyperparams\n",
        "\n",
        "print(f\"Best Hyperparameters: {best_hyperparams}\")\n",
        "print(f\"Best Accuracy: {best_accuracy}\")"
      ],
      "metadata": {
        "id": "n2jNiTvB71QR"
      },
      "execution_count": null,
      "outputs": []
    }
  ]
}