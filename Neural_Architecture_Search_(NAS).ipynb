{
  "nbformat": 4,
  "nbformat_minor": 0,
  "metadata": {
    "colab": {
      "private_outputs": true,
      "provenance": [],
      "authorship_tag": "ABX9TyNTV5tkjI0WKUL9SbhEUThB",
      "include_colab_link": true
    },
    "kernelspec": {
      "name": "python3",
      "display_name": "Python 3"
    },
    "language_info": {
      "name": "python"
    }
  },
  "cells": [
    {
      "cell_type": "markdown",
      "metadata": {
        "id": "view-in-github",
        "colab_type": "text"
      },
      "source": [
        "<a href=\"https://colab.research.google.com/github/OneFineStarstuff/State-of-the-Art/blob/main/Neural_Architecture_Search_(NAS).ipynb\" target=\"_parent\"><img src=\"https://colab.research.google.com/assets/colab-badge.svg\" alt=\"Open In Colab\"/></a>"
      ]
    },
    {
      "cell_type": "code",
      "source": [
        "pip install nni"
      ],
      "metadata": {
        "id": "IbTBz8_3enGS"
      },
      "execution_count": null,
      "outputs": []
    },
    {
      "cell_type": "code",
      "execution_count": null,
      "metadata": {
        "id": "Prkdgl-eeQxF"
      },
      "outputs": [],
      "source": [
        "import nni\n",
        "import torch\n",
        "import torch.nn as nn\n",
        "import torch.optim as optim\n",
        "from torchvision import datasets, transforms\n",
        "\n",
        "# Define a simple CNN model\n",
        "class SimpleCNN(nn.Module):\n",
        "    def __init__(self, num_filters=32, kernel_size=3):\n",
        "        super(SimpleCNN, self).__init__()\n",
        "        self.conv1 = nn.Conv2d(1, num_filters, kernel_size)\n",
        "        self.conv2 = nn.Conv2d(num_filters, num_filters, kernel_size)\n",
        "        self.fc1 = nn.Linear(num_filters * 12 * 12, 128)\n",
        "        self.fc2 = nn.Linear(128, 10)\n",
        "\n",
        "    def forward(self, x):\n",
        "        x = torch.relu(self.conv1(x))\n",
        "        x = torch.relu(self.conv2(x))\n",
        "        x = x.view(x.size(0), -1)\n",
        "        x = torch.relu(self.fc1(x))\n",
        "        x = self.fc2(x)\n",
        "        return x\n",
        "\n",
        "# Training loop\n",
        "def train(model, device, train_loader, optimizer, criterion, epoch):\n",
        "    model.train()\n",
        "    for batch_idx, (data, target) in enumerate(train_loader):\n",
        "        data, target = data.to(device), target.to(device)\n",
        "        optimizer.zero_grad()\n",
        "        output = model(data)\n",
        "        loss = criterion(output, target)\n",
        "        loss.backward()\n",
        "        optimizer.step()\n",
        "        if batch_idx % 100 == 0:\n",
        "            print(f'Train Epoch: {epoch} [{batch_idx * len(data)}/{len(train_loader.dataset)}] Loss: {loss.item()}')\n",
        "\n",
        "# Hyperparameter tuning\n",
        "def main():\n",
        "    device = torch.device(\"cuda\" if torch.cuda.is_available() else \"cpu\")\n",
        "    train_loader = torch.utils.data.DataLoader(\n",
        "        datasets.MNIST('.', train=True, download=True, transform=transforms.ToTensor()),\n",
        "        batch_size=64, shuffle=True)\n",
        "\n",
        "    params = nni.get_next_parameter()\n",
        "    model = SimpleCNN(num_filters=params['num_filters'], kernel_size=params['kernel_size']).to(device)\n",
        "    optimizer = optim.SGD(model.parameters(), lr=params['lr'])\n",
        "    criterion = nn.CrossEntropyLoss()\n",
        "\n",
        "    for epoch in range(1, 10):\n",
        "        train(model, device, train_loader, optimizer, criterion, epoch)\n",
        "\n",
        "    acc = test(model, device, test_loader)\n",
        "    nni.report_final_result(acc)\n",
        "\n",
        "if __name__ == '__main__':\n",
        "    main()"
      ]
    },
    {
      "cell_type": "code",
      "source": [
        "experimentName: SimpleCNN\n",
        "trialCommand: python3 your_script.py\n",
        "trialCodeDirectory: .\n",
        "trialConcurrency: 1\n",
        "maxExecDuration: 1h\n",
        "maxTrialNum: 10\n",
        "trainingService:\n",
        "  platform: local\n",
        "  useActiveGpu: false\n",
        "\n",
        "searchSpace:\n",
        "  num_filters:\n",
        "    _type: choice\n",
        "    _value: [16, 32, 64]\n",
        "  kernel_size:\n",
        "    _type: choice\n",
        "    _value: [3, 5]\n",
        "  lr:\n",
        "    _type: choice\n",
        "    _value: [0.01, 0.001, 0.0001]\n",
        "\n",
        "tuner:\n",
        "  name: TPE\n",
        "  classArgs:\n",
        "    optimize_mode: minimize"
      ],
      "metadata": {
        "id": "M14smY0dfIqw"
      },
      "execution_count": null,
      "outputs": []
    }
  ]
}