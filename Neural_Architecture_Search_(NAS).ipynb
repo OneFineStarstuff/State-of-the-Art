{
  "nbformat": 4,
  "nbformat_minor": 0,
  "metadata": {
    "colab": {
      "private_outputs": true,
      "provenance": [],
      "authorship_tag": "ABX9TyNSsr3iwGfN0mAHD/l+fJPb",
      "include_colab_link": true
    },
    "kernelspec": {
      "name": "python3",
      "display_name": "Python 3"
    },
    "language_info": {
      "name": "python"
    }
  },
  "cells": [
    {
      "cell_type": "markdown",
      "metadata": {
        "id": "view-in-github",
        "colab_type": "text"
      },
      "source": [
        "<a href=\"https://colab.research.google.com/github/OneFineStarstuff/State-of-the-Art/blob/main/Neural_Architecture_Search_(NAS).ipynb\" target=\"_parent\"><img src=\"https://colab.research.google.com/assets/colab-badge.svg\" alt=\"Open In Colab\"/></a>"
      ]
    },
    {
      "cell_type": "code",
      "execution_count": null,
      "metadata": {
        "id": "ToLnrV3fO0ok"
      },
      "outputs": [],
      "source": [
        "import torch\n",
        "import torch.nn as nn\n",
        "import torch.optim as optim\n",
        "\n",
        "class SimpleNAS(nn.Module):\n",
        "    def __init__(self, input_dim, output_dim, choices):\n",
        "        super(SimpleNAS, self).__init__()\n",
        "        self.input_dim = input_dim\n",
        "        self.output_dim = output_dim\n",
        "        self.layers = nn.ModuleList()\n",
        "\n",
        "        # Create layers with consistent input-output dimensions\n",
        "        for in_feat, out_feat in choices:\n",
        "            self.layers.append(nn.Linear(in_feat, out_feat))\n",
        "\n",
        "    def forward(self, x, choices):\n",
        "        for i, layer in enumerate(self.layers):\n",
        "            if choices[i] == 1:\n",
        "                x = torch.relu(layer(x))\n",
        "        return x\n",
        "\n",
        "def is_valid_architecture(model, choices):\n",
        "    current_dim = model.input_dim\n",
        "    for i, layer in enumerate(model.layers):\n",
        "        if choices[i] == 1:\n",
        "            if current_dim != layer.in_features:\n",
        "                return False\n",
        "            current_dim = layer.out_features\n",
        "    return current_dim == model.output_dim\n",
        "\n",
        "def search_best_architecture(model, data, targets, num_choices):\n",
        "    best_architecture = None\n",
        "    best_loss = float('inf')\n",
        "\n",
        "    for _ in range(num_choices):\n",
        "        choices = torch.randint(0, 2, (len(model.layers),))\n",
        "        if not is_valid_architecture(model, choices):\n",
        "            continue\n",
        "\n",
        "        output = model(data, choices)\n",
        "        if output.shape == targets.shape:\n",
        "            loss = nn.MSELoss()(output, targets)\n",
        "            if loss < best_loss:\n",
        "                best_loss = loss\n",
        "                best_architecture = choices\n",
        "    return best_architecture\n",
        "\n",
        "# Example usage\n",
        "input_dim = 16\n",
        "output_dim = 128\n",
        "choices = [(16, 32), (32, 64), (64, 128)]\n",
        "model = SimpleNAS(input_dim, output_dim, choices)\n",
        "data = torch.randn(32, input_dim)\n",
        "targets = torch.randn(32, output_dim)\n",
        "\n",
        "best_architecture = search_best_architecture(model, data, targets, num_choices=10)\n",
        "print(\"Best architecture choices:\", best_architecture)"
      ]
    }
  ]
}