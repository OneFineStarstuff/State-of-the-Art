{
  "nbformat": 4,
  "nbformat_minor": 0,
  "metadata": {
    "colab": {
      "private_outputs": true,
      "provenance": [],
      "authorship_tag": "ABX9TyNHvCv20ANt5K2XDxVFQkcg",
      "include_colab_link": true
    },
    "kernelspec": {
      "name": "python3",
      "display_name": "Python 3"
    },
    "language_info": {
      "name": "python"
    }
  },
  "cells": [
    {
      "cell_type": "markdown",
      "metadata": {
        "id": "view-in-github",
        "colab_type": "text"
      },
      "source": [
        "<a href=\"https://colab.research.google.com/github/OneFineStarstuff/State-of-the-Art/blob/main/Neural_Architecture_Search_(NAS).ipynb\" target=\"_parent\"><img src=\"https://colab.research.google.com/assets/colab-badge.svg\" alt=\"Open In Colab\"/></a>"
      ]
    },
    {
      "cell_type": "code",
      "execution_count": null,
      "metadata": {
        "id": "kj6_ykXu9dVB"
      },
      "outputs": [],
      "source": [
        "import torch\n",
        "import torch.nn as nn\n",
        "import torch.optim as optim\n",
        "import torch.nn.functional as F  # Add this import statement\n",
        "from torchvision import datasets, transforms\n",
        "\n",
        "# Define a few candidate architectures\n",
        "class SimpleCNN1(nn.Module):\n",
        "    def __init__(self):\n",
        "        super(SimpleCNN1, self).__init__()\n",
        "        self.conv1 = nn.Conv2d(1, 16, kernel_size=3)\n",
        "        self.conv2 = nn.Conv2d(16, 32, kernel_size=3)\n",
        "        self.fc1 = nn.Linear(32 * 5 * 5, 128)  # Adjusted based on the output size\n",
        "        self.fc2 = nn.Linear(128, 10)\n",
        "\n",
        "    def forward(self, x):\n",
        "        x = F.relu(F.max_pool2d(self.conv1(x), 2))\n",
        "        x = F.relu(F.max_pool2d(self.conv2(x), 2))\n",
        "        x = x.view(x.size(0), -1)  # Flatten the tensor\n",
        "        x = F.relu(self.fc1(x))\n",
        "        return self.fc2(x)\n",
        "\n",
        "class SimpleCNN2(nn.Module):\n",
        "    def __init__(self):\n",
        "        super(SimpleCNN2, self).__init__()\n",
        "        self.conv1 = nn.Conv2d(1, 32, kernel_size=5)\n",
        "        self.conv2 = nn.Conv2d(32, 64, kernel_size=5)\n",
        "        self.fc1 = nn.Linear(64 * 4 * 4, 128)  # Adjusted based on the output size\n",
        "        self.fc2 = nn.Linear(128, 10)\n",
        "\n",
        "    def forward(self, x):\n",
        "        x = F.relu(F.max_pool2d(self.conv1(x), 2))\n",
        "        x = F.relu(F.max_pool2d(self.conv2(x), 2))\n",
        "        x = x.view(x.size(0), -1)  # Flatten the tensor\n",
        "        x = F.relu(self.fc1(x))\n",
        "        return self.fc2(x)\n",
        "\n",
        "# Simple NAS to compare two architectures\n",
        "def evaluate_model(model):\n",
        "    optimizer = optim.Adam(model.parameters(), lr=0.001)\n",
        "    criterion = nn.CrossEntropyLoss()\n",
        "    train_loader = torch.utils.data.DataLoader(\n",
        "        datasets.MNIST('.', train=True, download=True, transform=transforms.ToTensor()),\n",
        "        batch_size=32, shuffle=True)\n",
        "    model.train()\n",
        "    for epoch in range(2):  # Train for 2 epochs for simplicity\n",
        "        for batch_idx, (data, target) in enumerate(train_loader):\n",
        "            optimizer.zero_grad()\n",
        "            output = model(data)\n",
        "            loss = criterion(output, target)\n",
        "            loss.backward()\n",
        "            optimizer.step()\n",
        "    return loss.item()\n",
        "\n",
        "model1 = SimpleCNN1()\n",
        "model2 = SimpleCNN2()\n",
        "loss1 = evaluate_model(model1)\n",
        "loss2 = evaluate_model(model2)\n",
        "\n",
        "print(f\"Model 1 Loss: {loss1}\")\n",
        "print(f\"Model 2 Loss: {loss2}\")"
      ]
    }
  ]
}