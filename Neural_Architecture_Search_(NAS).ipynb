{
  "nbformat": 4,
  "nbformat_minor": 0,
  "metadata": {
    "colab": {
      "private_outputs": true,
      "provenance": [],
      "authorship_tag": "ABX9TyMVjAtRtjvEauwTSrDVCQX0",
      "include_colab_link": true
    },
    "kernelspec": {
      "name": "python3",
      "display_name": "Python 3"
    },
    "language_info": {
      "name": "python"
    }
  },
  "cells": [
    {
      "cell_type": "markdown",
      "metadata": {
        "id": "view-in-github",
        "colab_type": "text"
      },
      "source": [
        "<a href=\"https://colab.research.google.com/github/OneFineStarstuff/State-of-the-Art/blob/main/Neural_Architecture_Search_(NAS).ipynb\" target=\"_parent\"><img src=\"https://colab.research.google.com/assets/colab-badge.svg\" alt=\"Open In Colab\"/></a>"
      ]
    },
    {
      "cell_type": "code",
      "execution_count": null,
      "metadata": {
        "id": "Q5TupISmlQW3"
      },
      "outputs": [],
      "source": [
        "import torch\n",
        "import torch.nn as nn\n",
        "import torch.optim as optim\n",
        "\n",
        "class Controller(nn.Module):\n",
        "    def __init__(self, search_space):\n",
        "        super(Controller, self).__init__()\n",
        "        self.search_space = search_space\n",
        "        self.lstm = nn.LSTM(input_size=len(search_space), hidden_size=128, batch_first=True)\n",
        "        self.fc = nn.Linear(128, len(search_space))\n",
        "\n",
        "    def forward(self, x, hidden=None):\n",
        "        x, hidden = self.lstm(x, hidden)\n",
        "        x = self.fc(x)\n",
        "        return x, hidden\n",
        "\n",
        "def sample_architecture(controller, search_space, device):\n",
        "    architecture = []\n",
        "    x = torch.zeros((1, 1, len(search_space)), device=device)  # Start with a zero input\n",
        "    hidden = None\n",
        "    for step in range(len(search_space)):\n",
        "        logits, hidden = controller(x, hidden)  # Forward pass through LSTM\n",
        "        prob = nn.Softmax(dim=-1)(logits.squeeze(0))\n",
        "        choice = torch.multinomial(prob, 1).item()  # Sample an action based on probabilities\n",
        "        architecture.append(search_space[choice])\n",
        "\n",
        "        # Prepare input for the next step\n",
        "        x = torch.zeros((1, 1, len(search_space)), device=device)\n",
        "        x[0, 0, choice] = 1\n",
        "        print(f\"Step {step + 1}, Probabilities: {prob.detach().cpu().numpy()}, Choice: {search_space[choice]}\")\n",
        "\n",
        "    return architecture\n",
        "\n",
        "# Define search space\n",
        "search_space = ['conv3x3', 'conv5x5', 'maxpool3x3']\n",
        "\n",
        "# Initialize Controller and move to device\n",
        "device = torch.device(\"cuda\" if torch.cuda.is_available() else \"cpu\")\n",
        "controller = Controller(search_space).to(device)\n",
        "\n",
        "# Example architecture sampling\n",
        "architecture = sample_architecture(controller, search_space, device)\n",
        "print(\"Sampled Architecture:\", architecture)"
      ]
    }
  ]
}