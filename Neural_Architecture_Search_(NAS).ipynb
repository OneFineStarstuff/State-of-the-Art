{
  "nbformat": 4,
  "nbformat_minor": 0,
  "metadata": {
    "colab": {
      "private_outputs": true,
      "provenance": [],
      "authorship_tag": "ABX9TyOEV42FzYbeT7Zjy7S4HnlR",
      "include_colab_link": true
    },
    "kernelspec": {
      "name": "python3",
      "display_name": "Python 3"
    },
    "language_info": {
      "name": "python"
    }
  },
  "cells": [
    {
      "cell_type": "markdown",
      "metadata": {
        "id": "view-in-github",
        "colab_type": "text"
      },
      "source": [
        "<a href=\"https://colab.research.google.com/github/OneFineStarstuff/State-of-the-Art/blob/main/Neural_Architecture_Search_(NAS).ipynb\" target=\"_parent\"><img src=\"https://colab.research.google.com/assets/colab-badge.svg\" alt=\"Open In Colab\"/></a>"
      ]
    },
    {
      "cell_type": "code",
      "execution_count": null,
      "metadata": {
        "id": "YoTjLni7i7Zu"
      },
      "outputs": [],
      "source": [
        "pip install autokeras"
      ]
    },
    {
      "cell_type": "code",
      "source": [
        "pip install tensorflow"
      ],
      "metadata": {
        "id": "RcNwLITUjQ2a"
      },
      "execution_count": null,
      "outputs": []
    },
    {
      "cell_type": "code",
      "source": [
        "import autokeras as ak\n",
        "from tensorflow.keras.datasets import mnist\n",
        "from tensorflow.keras.utils import to_categorical\n",
        "\n",
        "# Load MNIST dataset\n",
        "(x_train, y_train), (x_test, y_test) = mnist.load_data()\n",
        "\n",
        "# Preprocess the data\n",
        "x_train = x_train.reshape((x_train.shape[0], 28, 28, 1)) / 255.0  # Normalize and add channel dimension\n",
        "x_test = x_test.reshape((x_test.shape[0], 28, 28, 1)) / 255.0\n",
        "y_train = to_categorical(y_train, 10)  # One-hot encode labels\n",
        "y_test = to_categorical(y_test, 10)\n",
        "\n",
        "# Define the AutoKeras ImageClassifier\n",
        "clf = ak.ImageClassifier(max_trials=10, overwrite=True)  # Try up to 10 different architectures\n",
        "\n",
        "# Train the model\n",
        "clf.fit(x_train, y_train, epochs=10)\n",
        "\n",
        "# Evaluate the model\n",
        "accuracy = clf.evaluate(x_test, y_test)\n",
        "print(f\"Test accuracy: {accuracy}\")\n",
        "\n",
        "# Export the best model found\n",
        "model = clf.export_model()\n",
        "\n",
        "# Save the model for later use\n",
        "model.save(\"best_image_classifier.h5\")\n",
        "print(\"Best model saved as best_image_classifier.h5\")"
      ],
      "metadata": {
        "id": "rgrWqLxvjSra"
      },
      "execution_count": null,
      "outputs": []
    }
  ]
}