{
  "nbformat": 4,
  "nbformat_minor": 0,
  "metadata": {
    "colab": {
      "private_outputs": true,
      "provenance": [],
      "authorship_tag": "ABX9TyNKqa/OHzhTLBWOCjFGzbKE",
      "include_colab_link": true
    },
    "kernelspec": {
      "name": "python3",
      "display_name": "Python 3"
    },
    "language_info": {
      "name": "python"
    }
  },
  "cells": [
    {
      "cell_type": "markdown",
      "metadata": {
        "id": "view-in-github",
        "colab_type": "text"
      },
      "source": [
        "<a href=\"https://colab.research.google.com/github/OneFineStarstuff/State-of-the-Art/blob/main/Neural_Architecture_Search_(NAS).ipynb\" target=\"_parent\"><img src=\"https://colab.research.google.com/assets/colab-badge.svg\" alt=\"Open In Colab\"/></a>"
      ]
    },
    {
      "cell_type": "code",
      "execution_count": null,
      "metadata": {
        "id": "PhPlb4ZxazgT"
      },
      "outputs": [],
      "source": [
        "import torch\n",
        "import torch.nn as nn\n",
        "import torch.optim as optim\n",
        "from torchvision import datasets, transforms\n",
        "from torch.utils.data import random_split\n",
        "\n",
        "# Define a search space\n",
        "class SearchSpace(nn.Module):\n",
        "    def __init__(self, input_dim, output_dim):\n",
        "        super(SearchSpace, self).__init__()\n",
        "        self.fc1 = nn.ModuleList([nn.Linear(input_dim, 128), nn.Linear(input_dim, 256)])\n",
        "        self.fc2 = nn.ModuleList([nn.Linear(128, output_dim), nn.Linear(256, output_dim)])\n",
        "\n",
        "    def forward(self, x, arch):\n",
        "        x = torch.relu(self.fc1[arch[0]](x))\n",
        "        if arch[0] == 0:\n",
        "            x = self.fc2[0](x)  # Use the first layer in fc2\n",
        "        else:\n",
        "            x = self.fc2[1](x)  # Use the second layer in fc2\n",
        "        return x\n",
        "\n",
        "# Hyperparameters\n",
        "input_dim = 784  # 28x28 MNIST images\n",
        "output_dim = 10\n",
        "batch_size = 64\n",
        "lr = 0.01\n",
        "num_epochs = 10\n",
        "\n",
        "# Data preparation\n",
        "transform = transforms.Compose([\n",
        "    transforms.ToTensor(),\n",
        "    transforms.Normalize((0.5,), (0.5,))\n",
        "])\n",
        "train_dataset = datasets.MNIST(root='data', train=True, transform=transform, download=True)\n",
        "train_size = int(0.8 * len(train_dataset))\n",
        "val_size = len(train_dataset) - train_size\n",
        "train_dataset, val_dataset = random_split(train_dataset, [train_size, val_size])\n",
        "\n",
        "train_loader = torch.utils.data.DataLoader(train_dataset, batch_size=batch_size, shuffle=True)\n",
        "val_loader = torch.utils.data.DataLoader(val_dataset, batch_size=batch_size, shuffle=False)\n",
        "\n",
        "# Search for the best architecture\n",
        "best_accuracy = 0\n",
        "best_arch = None\n",
        "search_space = SearchSpace(input_dim, output_dim)\n",
        "criterion = nn.CrossEntropyLoss()\n",
        "\n",
        "for arch in [[0, 0], [0, 1], [1, 0], [1, 1]]:\n",
        "    # Reinitialize the model parameters for each architecture\n",
        "    search_space.apply(lambda m: m.reset_parameters() if hasattr(m, 'reset_parameters') else None)\n",
        "    optimizer = optim.Adam(search_space.parameters(), lr=lr)\n",
        "\n",
        "    for epoch in range(num_epochs):\n",
        "        search_space.train()\n",
        "        for images, labels in train_loader:\n",
        "            images = images.view(-1, input_dim)\n",
        "            outputs = search_space(images, arch)\n",
        "            loss = criterion(outputs, labels)\n",
        "\n",
        "            optimizer.zero_grad()\n",
        "            loss.backward()\n",
        "            optimizer.step()\n",
        "\n",
        "        # Validation\n",
        "        search_space.eval()\n",
        "        correct = 0\n",
        "        total = 0\n",
        "        with torch.no_grad():\n",
        "            for images, labels in val_loader:\n",
        "                images = images.view(-1, input_dim)\n",
        "                outputs = search_space(images, arch)\n",
        "                _, predicted = torch.max(outputs.data, 1)\n",
        "                total += labels.size(0)\n",
        "                correct += (predicted == labels).sum().item()\n",
        "\n",
        "        accuracy = 100 * correct / total\n",
        "        print(f\"Arch: {arch}, Epoch: {epoch+1}, Accuracy: {accuracy:.2f}%\")\n",
        "\n",
        "        if accuracy > best_accuracy:\n",
        "            best_accuracy = accuracy\n",
        "            best_arch = arch\n",
        "\n",
        "print(f\"Best Architecture: {best_arch}, Best Accuracy: {best_accuracy:.2f}%\")"
      ]
    }
  ]
}