{
  "nbformat": 4,
  "nbformat_minor": 0,
  "metadata": {
    "colab": {
      "private_outputs": true,
      "provenance": [],
      "authorship_tag": "ABX9TyNsuQYJVYAfWOlUpSySRg2c",
      "include_colab_link": true
    },
    "kernelspec": {
      "name": "python3",
      "display_name": "Python 3"
    },
    "language_info": {
      "name": "python"
    }
  },
  "cells": [
    {
      "cell_type": "markdown",
      "metadata": {
        "id": "view-in-github",
        "colab_type": "text"
      },
      "source": [
        "<a href=\"https://colab.research.google.com/github/OneFineStarstuff/State-of-the-Art/blob/main/Neural_Architecture_Search_(NAS).ipynb\" target=\"_parent\"><img src=\"https://colab.research.google.com/assets/colab-badge.svg\" alt=\"Open In Colab\"/></a>"
      ]
    },
    {
      "cell_type": "code",
      "execution_count": null,
      "metadata": {
        "id": "FFBOnNLYVvSb"
      },
      "outputs": [],
      "source": [
        "import torch\n",
        "import torch.nn as nn\n",
        "import torch.optim as optim\n",
        "import random\n",
        "\n",
        "# Define the function to generate a random architecture\n",
        "def random_architecture(input_dim, output_dim):\n",
        "    layers = []\n",
        "    for _ in range(random.randint(1, 3)):  # Randomly select between 1 and 3 layers\n",
        "        layers.append(nn.Linear(input_dim, random.randint(4, 16)))  # Random layer size\n",
        "        layers.append(nn.ReLU())  # ReLU activation\n",
        "        input_dim = layers[-2].out_features  # Update input_dim for the next layer\n",
        "    layers.append(nn.Linear(input_dim, output_dim))  # Output layer\n",
        "    return nn.Sequential(*layers)  # Create the model\n",
        "\n",
        "# Define the function to train and evaluate the model\n",
        "def train_and_evaluate(model, data, labels, epochs=5):\n",
        "    criterion = nn.CrossEntropyLoss()  # Loss function\n",
        "    optimizer = optim.Adam(model.parameters(), lr=0.01)  # Optimizer\n",
        "    for _ in range(epochs):\n",
        "        optimizer.zero_grad()  # Zero the gradients\n",
        "        output = model(data)  # Forward pass\n",
        "        loss = criterion(output, labels)  # Compute the loss\n",
        "        loss.backward()  # Backpropagate the loss\n",
        "        optimizer.step()  # Update the model parameters\n",
        "    return loss.item()  # Return the final loss\n",
        "\n",
        "# Example NAS loop\n",
        "data = torch.randn(100, 4)  # Example input data (batch_size=100, input_dim=4)\n",
        "labels = torch.randint(0, 2, (100,))  # Example labels (batch_size=100, num_classes=2)\n",
        "\n",
        "best_model = None\n",
        "best_loss = float('inf')\n",
        "for _ in range(10):  # Perform NAS for 10 iterations\n",
        "    model = random_architecture(input_dim=4, output_dim=2)  # Generate random architecture\n",
        "    loss = train_and_evaluate(model, data, labels)  # Train and evaluate the model\n",
        "    if loss < best_loss:  # Check if the current model is better\n",
        "        best_loss = loss\n",
        "        best_model = model\n",
        "\n",
        "print(\"Best model loss:\", best_loss)  # Print the best model loss"
      ]
    }
  ]
}