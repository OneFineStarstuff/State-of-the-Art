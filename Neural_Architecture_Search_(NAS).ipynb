{
  "nbformat": 4,
  "nbformat_minor": 0,
  "metadata": {
    "colab": {
      "private_outputs": true,
      "provenance": [],
      "authorship_tag": "ABX9TyM+cfOh0leNaGfEI3zmxjpr",
      "include_colab_link": true
    },
    "kernelspec": {
      "name": "python3",
      "display_name": "Python 3"
    },
    "language_info": {
      "name": "python"
    }
  },
  "cells": [
    {
      "cell_type": "markdown",
      "metadata": {
        "id": "view-in-github",
        "colab_type": "text"
      },
      "source": [
        "<a href=\"https://colab.research.google.com/github/OneFineStarstuff/State-of-the-Art/blob/main/Neural_Architecture_Search_(NAS).ipynb\" target=\"_parent\"><img src=\"https://colab.research.google.com/assets/colab-badge.svg\" alt=\"Open In Colab\"/></a>"
      ]
    },
    {
      "cell_type": "code",
      "execution_count": null,
      "metadata": {
        "id": "TRSFzPGW2gt6"
      },
      "outputs": [],
      "source": [
        "import torch\n",
        "import torch.nn as nn\n",
        "import torch.optim as optim\n",
        "import random\n",
        "\n",
        "# Define a simple search space\n",
        "def create_model(hidden_dim):\n",
        "    return nn.Sequential(\n",
        "        nn.Linear(10, hidden_dim),\n",
        "        nn.ReLU(),\n",
        "        nn.Linear(hidden_dim, 1)\n",
        "    )\n",
        "\n",
        "def evaluate_model(model, data, target):\n",
        "    criterion = nn.MSELoss()\n",
        "    optimizer = optim.SGD(model.parameters(), lr=0.01)\n",
        "    model.train()\n",
        "    for _ in range(10):  # Train for 10 epochs\n",
        "        optimizer.zero_grad()\n",
        "        output = model(data)\n",
        "        loss = criterion(output, target)\n",
        "        loss.backward()\n",
        "        optimizer.step()\n",
        "    return loss.item()\n",
        "\n",
        "# Random search over different hidden dimensions\n",
        "best_loss = float('inf')\n",
        "best_model = None\n",
        "data = torch.randn(100, 10)\n",
        "target = torch.randn(100, 1)\n",
        "for _ in range(10):  # Try 10 different architectures\n",
        "    hidden_dim = random.randint(5, 100)\n",
        "    model = create_model(hidden_dim)\n",
        "    loss = evaluate_model(model, data, target)\n",
        "    if loss < best_loss:\n",
        "        best_loss = loss\n",
        "        best_model = model\n",
        "print(f'Best hidden dimension: {best_model[0].out_features}, Loss: {best_loss}')"
      ]
    }
  ]
}