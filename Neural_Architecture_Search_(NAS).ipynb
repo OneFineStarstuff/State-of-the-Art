{
  "nbformat": 4,
  "nbformat_minor": 0,
  "metadata": {
    "colab": {
      "private_outputs": true,
      "provenance": [],
      "authorship_tag": "ABX9TyP4Q5qMESpiKonIU2Z0Morj",
      "include_colab_link": true
    },
    "kernelspec": {
      "name": "python3",
      "display_name": "Python 3"
    },
    "language_info": {
      "name": "python"
    }
  },
  "cells": [
    {
      "cell_type": "markdown",
      "metadata": {
        "id": "view-in-github",
        "colab_type": "text"
      },
      "source": [
        "<a href=\"https://colab.research.google.com/github/OneFineStarstuff/State-of-the-Art/blob/main/Neural_Architecture_Search_(NAS).ipynb\" target=\"_parent\"><img src=\"https://colab.research.google.com/assets/colab-badge.svg\" alt=\"Open In Colab\"/></a>"
      ]
    },
    {
      "cell_type": "code",
      "execution_count": null,
      "metadata": {
        "id": "7xjaeVp1WBC2"
      },
      "outputs": [],
      "source": [
        "import torch\n",
        "import torch.nn as nn\n",
        "import torch.optim as optim\n",
        "from torchvision import datasets, transforms\n",
        "from torch.utils.data import DataLoader\n",
        "import numpy as np\n",
        "\n",
        "# Define a search space for network architectures\n",
        "def sample_architecture():\n",
        "    num_layers = np.random.choice([2, 3, 4])\n",
        "    layer_sizes = [np.random.choice([64, 128, 256]) for _ in range(num_layers)]\n",
        "    return layer_sizes\n",
        "\n",
        "# Define a network based on the sampled architecture\n",
        "class SimpleNet(nn.Module):\n",
        "    def __init__(self, layer_sizes):\n",
        "        super(SimpleNet, self).__init__()\n",
        "        layers = []\n",
        "        input_size = 28 * 28\n",
        "        for size in layer_sizes:\n",
        "            layers.append(nn.Linear(input_size, size))\n",
        "            layers.append(nn.ReLU())\n",
        "            input_size = size\n",
        "        layers.append(nn.Linear(input_size, 10))\n",
        "        self.network = nn.Sequential(*layers)\n",
        "\n",
        "    def forward(self, x):\n",
        "        return self.network(x.view(x.size(0), -1))\n",
        "\n",
        "# Training function for the network\n",
        "def train_net(net, train_loader, num_epochs=5):\n",
        "    criterion = nn.CrossEntropyLoss()\n",
        "    optimizer = optim.Adam(net.parameters(), lr=0.001)\n",
        "    for epoch in range(num_epochs):\n",
        "        for images, labels in train_loader:\n",
        "            optimizer.zero_grad()\n",
        "            outputs = net(images)\n",
        "            loss = criterion(outputs, labels)\n",
        "            loss.backward()\n",
        "            optimizer.step()\n",
        "\n",
        "# Testing function for the network\n",
        "def test_net(net, test_loader):\n",
        "    net.eval()\n",
        "    correct = 0\n",
        "    with torch.no_grad():\n",
        "        for images, labels in test_loader:\n",
        "            outputs = net(images)\n",
        "            _, predicted = torch.max(outputs, 1)\n",
        "            correct += (predicted == labels).sum().item()\n",
        "    accuracy = correct / len(test_loader.dataset)\n",
        "    return accuracy\n",
        "\n",
        "# Load dataset\n",
        "transform = transforms.Compose([transforms.ToTensor(), transforms.Normalize((0.5,), (0.5,))])\n",
        "train_dataset = datasets.MNIST(root='./data', train=True, download=True, transform=transform)\n",
        "test_dataset = datasets.MNIST(root='./data', train=False, download=True, transform=transform)\n",
        "\n",
        "train_loader = DataLoader(train_dataset, batch_size=64, shuffle=True)\n",
        "test_loader = DataLoader(test_dataset, batch_size=64, shuffle=False)\n",
        "\n",
        "best_architecture = None\n",
        "best_accuracy = 0\n",
        "\n",
        "for _ in range(10):  # Randomly sample 10 architectures\n",
        "    architecture = sample_architecture()\n",
        "    net = SimpleNet(architecture)\n",
        "    train_net(net, train_loader)\n",
        "    accuracy = test_net(net, test_loader)\n",
        "    if accuracy > best_accuracy:\n",
        "        best_accuracy = accuracy\n",
        "        best_architecture = architecture\n",
        "\n",
        "print(f\"Best Architecture: {best_architecture}, Accuracy: {best_accuracy}\")"
      ]
    }
  ]
}