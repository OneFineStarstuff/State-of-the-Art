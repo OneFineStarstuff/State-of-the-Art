{
  "nbformat": 4,
  "nbformat_minor": 0,
  "metadata": {
    "colab": {
      "private_outputs": true,
      "provenance": [],
      "authorship_tag": "ABX9TyN52KgZ5CzJgbbJEvPwJ1hD",
      "include_colab_link": true
    },
    "kernelspec": {
      "name": "python3",
      "display_name": "Python 3"
    },
    "language_info": {
      "name": "python"
    }
  },
  "cells": [
    {
      "cell_type": "markdown",
      "metadata": {
        "id": "view-in-github",
        "colab_type": "text"
      },
      "source": [
        "<a href=\"https://colab.research.google.com/github/OneFineStarstuff/State-of-the-Art/blob/main/Neural_Architecture_Search_(NAS).ipynb\" target=\"_parent\"><img src=\"https://colab.research.google.com/assets/colab-badge.svg\" alt=\"Open In Colab\"/></a>"
      ]
    },
    {
      "cell_type": "code",
      "execution_count": null,
      "metadata": {
        "id": "9qG1mutAmD0R"
      },
      "outputs": [],
      "source": [
        "import torch\n",
        "import torch.nn as nn\n",
        "import torch.optim as optim\n",
        "from torch.utils.data import DataLoader, TensorDataset\n",
        "import random\n",
        "\n",
        "class SimpleNASModel(nn.Module):\n",
        "    def __init__(self, layer_sizes):\n",
        "        super(SimpleNASModel, self).__init__()\n",
        "        layers = []\n",
        "        input_size = layer_sizes[0]\n",
        "        for size in layer_sizes[1:]:\n",
        "            layers.append(nn.Linear(input_size, size))\n",
        "            layers.append(nn.ReLU())\n",
        "            input_size = size\n",
        "        layers.pop()  # Remove last ReLU\n",
        "        self.network = nn.Sequential(*layers)\n",
        "\n",
        "    def forward(self, x):\n",
        "        return self.network(x)\n",
        "\n",
        "def train_and_evaluate(model):\n",
        "    criterion = nn.MSELoss()\n",
        "    optimizer = optim.Adam(model.parameters(), lr=0.001)\n",
        "\n",
        "    # Generate synthetic data for example usage\n",
        "    input_dim = model.network[0].in_features\n",
        "    output_dim = model.network[-1].out_features\n",
        "    data = torch.randn(100, input_dim)  # 100 samples with input dimension\n",
        "    labels = torch.randn(100, output_dim)  # 100 labels with output dimension\n",
        "\n",
        "    dataset = TensorDataset(data, labels)\n",
        "    dataloader = DataLoader(dataset, batch_size=16, shuffle=True)\n",
        "\n",
        "    # Training loop\n",
        "    model.train()\n",
        "    for epoch in range(5):  # Train for 5 epochs for simplicity\n",
        "        for batch_data, batch_labels in dataloader:\n",
        "            optimizer.zero_grad()\n",
        "            outputs = model(batch_data)\n",
        "            loss = criterion(outputs, batch_labels)\n",
        "            loss.backward()\n",
        "            optimizer.step()\n",
        "\n",
        "    return loss.item()\n",
        "\n",
        "def random_architecture_search(input_dim, output_dim, num_layers, max_hidden_units):\n",
        "    best_model = None\n",
        "    best_loss = float('inf')\n",
        "\n",
        "    for _ in range(10):  # Search over 10 random architectures\n",
        "        layer_sizes = [input_dim] + [random.randint(1, max_hidden_units) for _ in range(num_layers)] + [output_dim]\n",
        "        model = SimpleNASModel(layer_sizes)\n",
        "\n",
        "        loss = train_and_evaluate(model)\n",
        "\n",
        "        if loss < best_loss:\n",
        "            best_loss = loss\n",
        "            best_model = model\n",
        "\n",
        "    return best_model\n",
        "\n",
        "# Example usage\n",
        "best_model = random_architecture_search(input_dim=64, output_dim=10, num_layers=3, max_hidden_units=128)"
      ]
    }
  ]
}