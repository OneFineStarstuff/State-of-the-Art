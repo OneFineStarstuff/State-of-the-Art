{
  "nbformat": 4,
  "nbformat_minor": 0,
  "metadata": {
    "colab": {
      "private_outputs": true,
      "provenance": [],
      "authorship_tag": "ABX9TyPPysv2S95gUkvrR1Gh8WJL",
      "include_colab_link": true
    },
    "kernelspec": {
      "name": "python3",
      "display_name": "Python 3"
    },
    "language_info": {
      "name": "python"
    }
  },
  "cells": [
    {
      "cell_type": "markdown",
      "metadata": {
        "id": "view-in-github",
        "colab_type": "text"
      },
      "source": [
        "<a href=\"https://colab.research.google.com/github/OneFineStarstuff/State-of-the-Art/blob/main/Reinforcement_Learning_with_Graph_Neural_Networks_(GNNs).ipynb\" target=\"_parent\"><img src=\"https://colab.research.google.com/assets/colab-badge.svg\" alt=\"Open In Colab\"/></a>"
      ]
    },
    {
      "cell_type": "code",
      "execution_count": null,
      "metadata": {
        "id": "Yhu12hLVmEx-"
      },
      "outputs": [],
      "source": [
        "import torch\n",
        "import torch.nn as nn\n",
        "import torch.optim as optim\n",
        "import random\n",
        "import torch.nn.functional as F\n",
        "\n",
        "class GraphPolicyNetwork(nn.Module):\n",
        "    def __init__(self, node_features, hidden_dim, output_dim):\n",
        "        super(GraphPolicyNetwork, self).__init__()\n",
        "        self.gnn1 = nn.Linear(node_features, hidden_dim)\n",
        "        self.gnn2 = nn.Linear(hidden_dim, output_dim)\n",
        "        self.policy_head = nn.Linear(output_dim, output_dim)\n",
        "\n",
        "    def forward(self, x):\n",
        "        x = F.relu(self.gnn1(x))\n",
        "        x = F.relu(self.gnn2(x))\n",
        "        policy = self.policy_head(x).mean(dim=0)  # Aggregate node-level outputs\n",
        "        return policy\n",
        "\n",
        "def train_graph_rl(env, model, optimizer, num_episodes=1000, epsilon=0.1):\n",
        "    device = torch.device(\"cuda\" if torch.cuda.is_available() else \"cpu\")\n",
        "    model.to(device)\n",
        "\n",
        "    for episode in range(num_episodes):\n",
        "        state = env.reset().to(device)\n",
        "        done = False\n",
        "        total_reward = 0\n",
        "\n",
        "        while not done:\n",
        "            policy = model(state)\n",
        "            if random.random() < epsilon:\n",
        "                action = random.randint(0, policy.size(-1) - 1)  # Exploration\n",
        "            else:\n",
        "                action = torch.argmax(policy).item()  # Exploitation\n",
        "\n",
        "            next_state, reward, done, _ = env.step(action)\n",
        "            next_state = next_state.to(device)\n",
        "            total_reward += reward\n",
        "\n",
        "            # Policy Gradient Loss\n",
        "            log_prob = torch.log(F.softmax(policy, dim=-1)[action])\n",
        "            loss = -log_prob * reward\n",
        "\n",
        "            optimizer.zero_grad()\n",
        "            loss.backward()\n",
        "            optimizer.step()\n",
        "\n",
        "            state = next_state\n",
        "\n",
        "        print(f\"Episode {episode + 1}, Total Reward: {total_reward}\")\n",
        "\n",
        "class DummyEnv:\n",
        "    def reset(self):\n",
        "        return torch.rand((10, 5))  # Simulated graph with 10 nodes and 5 features per node\n",
        "\n",
        "    def step(self, action):\n",
        "        return torch.rand((10, 5)), random.uniform(0, 1), True, {}  # Next state, reward, and termination flag\n",
        "\n",
        "env = DummyEnv()\n",
        "model = GraphPolicyNetwork(node_features=5, hidden_dim=16, output_dim=3)\n",
        "optimizer = optim.Adam(model.parameters(), lr=0.001)\n",
        "train_graph_rl(env, model, optimizer)"
      ]
    }
  ]
}