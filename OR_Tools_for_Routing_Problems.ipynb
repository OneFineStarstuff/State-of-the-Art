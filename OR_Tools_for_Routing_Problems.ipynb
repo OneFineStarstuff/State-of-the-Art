{
  "nbformat": 4,
  "nbformat_minor": 0,
  "metadata": {
    "colab": {
      "private_outputs": true,
      "provenance": [],
      "authorship_tag": "ABX9TyMvBIc+8ir8PPF9u/8WQaQh",
      "include_colab_link": true
    },
    "kernelspec": {
      "name": "python3",
      "display_name": "Python 3"
    },
    "language_info": {
      "name": "python"
    }
  },
  "cells": [
    {
      "cell_type": "markdown",
      "metadata": {
        "id": "view-in-github",
        "colab_type": "text"
      },
      "source": [
        "<a href=\"https://colab.research.google.com/github/OneFineStarstuff/State-of-the-Art/blob/main/OR_Tools_for_Routing_Problems.ipynb\" target=\"_parent\"><img src=\"https://colab.research.google.com/assets/colab-badge.svg\" alt=\"Open In Colab\"/></a>"
      ]
    },
    {
      "cell_type": "code",
      "source": [
        "pip install ortools"
      ],
      "metadata": {
        "id": "R3tHetTBzdMw"
      },
      "execution_count": null,
      "outputs": []
    },
    {
      "cell_type": "code",
      "execution_count": null,
      "metadata": {
        "id": "HW3lKJh2zJ-K"
      },
      "outputs": [],
      "source": [
        "from ortools.constraint_solver import pywrapcp, routing_enums_pb2\n",
        "\n",
        "def create_data_model():\n",
        "    return {\n",
        "        'distance_matrix': [\n",
        "            [0, 2, 9, 10],\n",
        "            [1, 0, 6, 4],\n",
        "            [15, 7, 0, 8],\n",
        "            [6, 3, 12, 0],\n",
        "        ],\n",
        "        'num_vehicles': 1,\n",
        "        'depot': 0\n",
        "    }\n",
        "\n",
        "def print_solution(manager, routing, solution):\n",
        "    index = routing.Start(0)\n",
        "    plan_output = 'Route:\\n'\n",
        "    while not routing.IsEnd(index):\n",
        "        plan_output += f'{manager.IndexToNode(index)} -> '\n",
        "        index = solution.Value(routing.NextVar(index))\n",
        "    plan_output += f'{manager.IndexToNode(index)}\\n'\n",
        "    print(plan_output)\n",
        "\n",
        "data = create_data_model()\n",
        "manager = pywrapcp.RoutingIndexManager(len(data['distance_matrix']), data['num_vehicles'], data['depot'])\n",
        "routing = pywrapcp.RoutingModel(manager)\n",
        "search_parameters = pywrapcp.DefaultRoutingSearchParameters()\n",
        "search_parameters.first_solution_strategy = (routing_enums_pb2.FirstSolutionStrategy.PATH_CHEAPEST_ARC)\n",
        "\n",
        "def distance_callback(from_index, to_index):\n",
        "    from_node = manager.IndexToNode(from_index)\n",
        "    to_node = manager.IndexToNode(to_index)\n",
        "    return data['distance_matrix'][from_node][to_node]\n",
        "\n",
        "transit_callback_index = routing.RegisterTransitCallback(distance_callback)\n",
        "routing.SetArcCostEvaluatorOfAllVehicles(transit_callback_index)\n",
        "\n",
        "solution = routing.SolveWithParameters(search_parameters)\n",
        "if solution:\n",
        "    print_solution(manager, routing, solution)"
      ]
    }
  ]
}