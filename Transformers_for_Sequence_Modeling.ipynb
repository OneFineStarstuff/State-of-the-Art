{
  "nbformat": 4,
  "nbformat_minor": 0,
  "metadata": {
    "colab": {
      "private_outputs": true,
      "provenance": [],
      "authorship_tag": "ABX9TyMmOixKCySqzzPx4uUoi6ur",
      "include_colab_link": true
    },
    "kernelspec": {
      "name": "python3",
      "display_name": "Python 3"
    },
    "language_info": {
      "name": "python"
    }
  },
  "cells": [
    {
      "cell_type": "markdown",
      "metadata": {
        "id": "view-in-github",
        "colab_type": "text"
      },
      "source": [
        "<a href=\"https://colab.research.google.com/github/OneFineStarstuff/State-of-the-Art/blob/main/Transformers_for_Sequence_Modeling.ipynb\" target=\"_parent\"><img src=\"https://colab.research.google.com/assets/colab-badge.svg\" alt=\"Open In Colab\"/></a>"
      ]
    },
    {
      "cell_type": "code",
      "source": [
        "import torch\n",
        "import torch.nn as nn\n",
        "import torch.optim as optim\n",
        "from torch.utils.data import DataLoader, TensorDataset\n",
        "import numpy as np\n",
        "\n",
        "class TransformerModel(nn.Module):\n",
        "    def __init__(self, input_dim, model_dim, num_heads, num_layers, num_classes, max_seq_len):\n",
        "        super(TransformerModel, self).__init__()\n",
        "        self.embedding = nn.Embedding(input_dim, model_dim)\n",
        "        self.positional_encoding = nn.Parameter(torch.randn(1, max_seq_len, model_dim))\n",
        "        self.encoder_layer = nn.TransformerEncoderLayer(d_model=model_dim, nhead=num_heads, batch_first=True)\n",
        "        self.transformer_encoder = nn.TransformerEncoder(self.encoder_layer, num_layers=num_layers)\n",
        "        self.fc = nn.Linear(model_dim, num_classes)\n",
        "        self.dropout = nn.Dropout(0.1)\n",
        "\n",
        "    def forward(self, x):\n",
        "        x = self.embedding(x) + self.positional_encoding[:, :x.size(1), :]\n",
        "        x = self.transformer_encoder(x)\n",
        "        x = self.dropout(x.mean(dim=1))\n",
        "        return self.fc(x)\n",
        "\n",
        "def generate_data(num_samples, max_seq_len, vocab_size, num_classes):\n",
        "    sequences = np.random.randint(1, vocab_size, size=(num_samples, max_seq_len))\n",
        "    labels = np.random.randint(0, num_classes, size=(num_samples,))\n",
        "    return sequences, labels\n",
        "\n",
        "vocab_size = 1000\n",
        "max_seq_len = 50\n",
        "num_classes = 10\n",
        "num_samples = 1000\n",
        "\n",
        "sequences, labels = generate_data(num_samples, max_seq_len, vocab_size, num_classes)\n",
        "dataset = TensorDataset(torch.tensor(sequences, dtype=torch.long), torch.tensor(labels, dtype=torch.long))\n",
        "dataloader = DataLoader(dataset, batch_size=32, shuffle=True)\n",
        "\n",
        "model = TransformerModel(input_dim=vocab_size, model_dim=128, num_heads=4, num_layers=2, num_classes=num_classes, max_seq_len=max_seq_len)\n",
        "criterion = nn.CrossEntropyLoss()\n",
        "optimizer = optim.Adam(model.parameters(), lr=0.0001)  # Smaller learning rate\n",
        "\n",
        "def train_model(num_epochs):\n",
        "    for epoch in range(num_epochs):\n",
        "        for batch in dataloader:\n",
        "            inputs, targets = batch\n",
        "            optimizer.zero_grad()\n",
        "            outputs = model(inputs)\n",
        "            loss = criterion(outputs, targets)\n",
        "            loss.backward()\n",
        "            optimizer.step()\n",
        "        print(f\"Epoch {epoch + 1}, Loss: {loss.item()}\")\n",
        "\n",
        "train_model(num_epochs=10)"
      ],
      "metadata": {
        "id": "RTWWW9IpY01I"
      },
      "execution_count": null,
      "outputs": []
    }
  ]
}