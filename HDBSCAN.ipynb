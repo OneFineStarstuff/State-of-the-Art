{
  "nbformat": 4,
  "nbformat_minor": 0,
  "metadata": {
    "colab": {
      "private_outputs": true,
      "provenance": [],
      "authorship_tag": "ABX9TyMxYF/Z+EsooWiUw5GNOfBG",
      "include_colab_link": true
    },
    "kernelspec": {
      "name": "python3",
      "display_name": "Python 3"
    },
    "language_info": {
      "name": "python"
    }
  },
  "cells": [
    {
      "cell_type": "markdown",
      "metadata": {
        "id": "view-in-github",
        "colab_type": "text"
      },
      "source": [
        "<a href=\"https://colab.research.google.com/github/OneFineStarstuff/State-of-the-Art/blob/main/HDBSCAN.ipynb\" target=\"_parent\"><img src=\"https://colab.research.google.com/assets/colab-badge.svg\" alt=\"Open In Colab\"/></a>"
      ]
    },
    {
      "cell_type": "code",
      "source": [
        "pip install hdbscan"
      ],
      "metadata": {
        "id": "dZzJuRgYmaRf"
      },
      "execution_count": null,
      "outputs": []
    },
    {
      "cell_type": "code",
      "source": [
        "pip install --upgrade scikit-learn"
      ],
      "metadata": {
        "id": "Ad8Cx07TmstC"
      },
      "execution_count": null,
      "outputs": []
    },
    {
      "cell_type": "code",
      "source": [
        "pip install --upgrade hdbscan"
      ],
      "metadata": {
        "id": "BqVreGtimv5r"
      },
      "execution_count": null,
      "outputs": []
    },
    {
      "cell_type": "code",
      "execution_count": null,
      "metadata": {
        "id": "egSwgOiDmIPi"
      },
      "outputs": [],
      "source": [
        "import numpy as np\n",
        "import hdbscan\n",
        "import matplotlib.pyplot as plt\n",
        "from sklearn.datasets import make_blobs\n",
        "\n",
        "# Generate synthetic dataset\n",
        "X, _ = make_blobs(n_samples=1000, centers=5, cluster_std=0.60, random_state=0)\n",
        "\n",
        "# Initialize HDBSCAN clusterer\n",
        "clusterer = hdbscan.HDBSCAN(min_cluster_size=10)\n",
        "\n",
        "# Fit the clusterer and predict cluster labels\n",
        "cluster_labels = clusterer.fit_predict(X)\n",
        "\n",
        "# Visualize the clusters\n",
        "plt.scatter(X[:, 0], X[:, 1], c=cluster_labels, cmap='rainbow', s=10)\n",
        "plt.show()"
      ]
    }
  ]
}