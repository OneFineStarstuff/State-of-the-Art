{
  "nbformat": 4,
  "nbformat_minor": 0,
  "metadata": {
    "colab": {
      "private_outputs": true,
      "provenance": [],
      "authorship_tag": "ABX9TyPNG5kl2phHEacHOQtpcFCi",
      "include_colab_link": true
    },
    "kernelspec": {
      "name": "python3",
      "display_name": "Python 3"
    },
    "language_info": {
      "name": "python"
    }
  },
  "cells": [
    {
      "cell_type": "markdown",
      "metadata": {
        "id": "view-in-github",
        "colab_type": "text"
      },
      "source": [
        "<a href=\"https://colab.research.google.com/github/OneFineStarstuff/State-of-the-Art/blob/main/Isolation_Forest_for_Anomaly_Detection.ipynb\" target=\"_parent\"><img src=\"https://colab.research.google.com/assets/colab-badge.svg\" alt=\"Open In Colab\"/></a>"
      ]
    },
    {
      "cell_type": "code",
      "execution_count": null,
      "metadata": {
        "id": "6GG-_REcesSl"
      },
      "outputs": [],
      "source": [
        "from sklearn.ensemble import IsolationForest\n",
        "import numpy as np\n",
        "\n",
        "# Initialize random number generator\n",
        "rng = np.random.RandomState(42)\n",
        "\n",
        "# Generate random data\n",
        "X = 0.3 * rng.randn(100, 2)\n",
        "X_train = np.r_[X + 2, X - 2]\n",
        "\n",
        "# Initialize and train Isolation Forest\n",
        "clf = IsolationForest(random_state=42)\n",
        "clf.fit(X_train)\n",
        "\n",
        "# Define test data\n",
        "X_test = [[0, 0], [4, 4]]\n",
        "\n",
        "# Predict and print results\n",
        "print(clf.predict(X_test))"
      ]
    }
  ]
}