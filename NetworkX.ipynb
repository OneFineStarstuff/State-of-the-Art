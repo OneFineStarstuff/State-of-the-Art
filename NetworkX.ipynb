{
  "nbformat": 4,
  "nbformat_minor": 0,
  "metadata": {
    "colab": {
      "private_outputs": true,
      "provenance": [],
      "authorship_tag": "ABX9TyPVYFGoi4asZNS5CHACSwmc",
      "include_colab_link": true
    },
    "kernelspec": {
      "name": "python3",
      "display_name": "Python 3"
    },
    "language_info": {
      "name": "python"
    }
  },
  "cells": [
    {
      "cell_type": "markdown",
      "metadata": {
        "id": "view-in-github",
        "colab_type": "text"
      },
      "source": [
        "<a href=\"https://colab.research.google.com/github/OneFineStarstuff/State-of-the-Art/blob/main/NetworkX.ipynb\" target=\"_parent\"><img src=\"https://colab.research.google.com/assets/colab-badge.svg\" alt=\"Open In Colab\"/></a>"
      ]
    },
    {
      "cell_type": "code",
      "execution_count": null,
      "metadata": {
        "id": "Zm5xx64KEdt5"
      },
      "outputs": [],
      "source": [
        "import networkx as nx\n",
        "\n",
        "# Initialize the graph\n",
        "G = nx.Graph()\n",
        "\n",
        "# Add edges with weights\n",
        "G.add_edge('A', 'B', weight=4)\n",
        "G.add_edge('B', 'C', weight=2)\n",
        "G.add_edge('A', 'C', weight=5)\n",
        "\n",
        "# Find the shortest path from 'A' to 'C'\n",
        "shortest_path = nx.shortest_path(G, source='A', target='C', weight='weight')\n",
        "\n",
        "# Print the shortest path\n",
        "print(shortest_path)"
      ]
    }
  ]
}