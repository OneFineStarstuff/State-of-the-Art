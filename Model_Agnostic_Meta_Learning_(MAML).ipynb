{
  "nbformat": 4,
  "nbformat_minor": 0,
  "metadata": {
    "colab": {
      "private_outputs": true,
      "provenance": [],
      "authorship_tag": "ABX9TyNyYw1lCLEaqYgC42qcu8bn",
      "include_colab_link": true
    },
    "kernelspec": {
      "name": "python3",
      "display_name": "Python 3"
    },
    "language_info": {
      "name": "python"
    }
  },
  "cells": [
    {
      "cell_type": "markdown",
      "metadata": {
        "id": "view-in-github",
        "colab_type": "text"
      },
      "source": [
        "<a href=\"https://colab.research.google.com/github/OneFineStarstuff/State-of-the-Art/blob/main/Model_Agnostic_Meta_Learning_(MAML).ipynb\" target=\"_parent\"><img src=\"https://colab.research.google.com/assets/colab-badge.svg\" alt=\"Open In Colab\"/></a>"
      ]
    },
    {
      "cell_type": "code",
      "execution_count": null,
      "metadata": {
        "id": "HNdmgm_c363s"
      },
      "outputs": [],
      "source": [
        "import torch\n",
        "import torch.nn as nn\n",
        "import torch.optim as optim\n",
        "\n",
        "class SimpleNN(nn.Module):\n",
        "    def __init__(self, input_dim, output_dim):\n",
        "        super(SimpleNN, self).__init__()\n",
        "        self.fc = nn.Linear(input_dim, output_dim)\n",
        "\n",
        "    def forward(self, x):\n",
        "        return self.fc(x)\n",
        "\n",
        "def maml_train(model, train_task_data, test_task_data, inner_lr, outer_lr, epochs):\n",
        "    optimizer = optim.Adam(model.parameters(), lr=outer_lr)\n",
        "\n",
        "    for epoch in range(epochs):\n",
        "        losses = []\n",
        "        for train_data, test_data in zip(train_task_data, test_task_data):\n",
        "            inner_optimizer = optim.SGD(model.parameters(), lr=inner_lr)\n",
        "            # Inner loop\n",
        "            for _ in range(5):\n",
        "                train_loss = nn.MSELoss()(model(train_data[0]), train_data[1])\n",
        "                inner_optimizer.zero_grad()\n",
        "                train_loss.backward()\n",
        "                inner_optimizer.step()\n",
        "\n",
        "            # Outer loop\n",
        "            test_loss = nn.MSELoss()(model(test_data[0]), test_data[1])\n",
        "            losses.append(test_loss.item())\n",
        "            optimizer.zero_grad()\n",
        "            test_loss.backward()\n",
        "            optimizer.step()\n",
        "\n",
        "        print(f'Epoch {epoch + 1}, Average Loss: {sum(losses) / len(losses):.4f}')\n",
        "\n",
        "# Dummy data for illustration\n",
        "train_task_data = [(torch.randn(10, 10), torch.randn(10, 1)) for _ in range(5)]\n",
        "test_task_data = [(torch.randn(10, 10), torch.randn(10, 1)) for _ in range(5)]\n",
        "\n",
        "# Example usage\n",
        "model = SimpleNN(input_dim=10, output_dim=1)\n",
        "maml_train(model, train_task_data, test_task_data, inner_lr=0.01, outer_lr=0.001, epochs=10)"
      ]
    }
  ]
}