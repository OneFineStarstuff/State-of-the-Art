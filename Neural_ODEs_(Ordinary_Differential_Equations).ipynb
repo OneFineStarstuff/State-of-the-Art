{
  "nbformat": 4,
  "nbformat_minor": 0,
  "metadata": {
    "colab": {
      "private_outputs": true,
      "provenance": [],
      "authorship_tag": "ABX9TyOfxlftMDZ2vil0SODCo2NZ",
      "include_colab_link": true
    },
    "kernelspec": {
      "name": "python3",
      "display_name": "Python 3"
    },
    "language_info": {
      "name": "python"
    }
  },
  "cells": [
    {
      "cell_type": "markdown",
      "metadata": {
        "id": "view-in-github",
        "colab_type": "text"
      },
      "source": [
        "<a href=\"https://colab.research.google.com/github/OneFineStarstuff/State-of-the-Art/blob/main/Neural_ODEs_(Ordinary_Differential_Equations).ipynb\" target=\"_parent\"><img src=\"https://colab.research.google.com/assets/colab-badge.svg\" alt=\"Open In Colab\"/></a>"
      ]
    },
    {
      "cell_type": "code",
      "source": [
        "pip install torchdiffeq"
      ],
      "metadata": {
        "id": "kGdQEKPiqqsH"
      },
      "execution_count": null,
      "outputs": []
    },
    {
      "cell_type": "code",
      "execution_count": null,
      "metadata": {
        "id": "qx8scYQBqYo9"
      },
      "outputs": [],
      "source": [
        "import torch\n",
        "import torch.nn as nn\n",
        "import torch.optim as optim\n",
        "from torchdiffeq import odeint\n",
        "\n",
        "class ODEFunc(nn.Module):\n",
        "    def __init__(self):\n",
        "        super(ODEFunc, self).__init__()\n",
        "        self.net = nn.Sequential(\n",
        "            nn.Linear(2, 50),\n",
        "            nn.Tanh(),\n",
        "            nn.Linear(50, 2),\n",
        "        )\n",
        "\n",
        "    def forward(self, t, y):\n",
        "        return self.net(y)\n",
        "\n",
        "class NeuralODE(nn.Module):\n",
        "    def __init__(self, ode_func):\n",
        "        super(NeuralODE, self).__init__()\n",
        "        self.ode_func = ode_func\n",
        "\n",
        "    def forward(self, y0, t):\n",
        "        return odeint(self.ode_func, y0, t)\n",
        "\n",
        "# Check device\n",
        "device = torch.device('cuda' if torch.cuda.is_available() else 'cpu')\n",
        "\n",
        "# Initialize ODE function and Neural ODE\n",
        "ode_func = ODEFunc().to(device)\n",
        "neural_ode = NeuralODE(ode_func).to(device)\n",
        "optimizer = optim.Adam(neural_ode.parameters(), lr=1e-3)\n",
        "\n",
        "# Dummy data\n",
        "y0 = torch.tensor([[0.5, 0.5]], dtype=torch.float32).to(device)\n",
        "t = torch.linspace(0, 25, 100).to(device)\n",
        "\n",
        "# Training loop\n",
        "for epoch in range(100):\n",
        "    optimizer.zero_grad()\n",
        "    y_pred = neural_ode(y0, t)\n",
        "    loss = ((y_pred - y0) ** 2).sum()\n",
        "    loss.backward()\n",
        "    optimizer.step()\n",
        "    print(f\"Epoch {epoch+1}, Loss: {loss.item()}\")"
      ]
    }
  ]
}