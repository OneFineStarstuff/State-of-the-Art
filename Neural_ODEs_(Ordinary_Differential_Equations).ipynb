{
  "nbformat": 4,
  "nbformat_minor": 0,
  "metadata": {
    "colab": {
      "private_outputs": true,
      "provenance": [],
      "authorship_tag": "ABX9TyNaSPbHqVX9NGOPHRDcez3u",
      "include_colab_link": true
    },
    "kernelspec": {
      "name": "python3",
      "display_name": "Python 3"
    },
    "language_info": {
      "name": "python"
    }
  },
  "cells": [
    {
      "cell_type": "markdown",
      "metadata": {
        "id": "view-in-github",
        "colab_type": "text"
      },
      "source": [
        "<a href=\"https://colab.research.google.com/github/OneFineStarstuff/State-of-the-Art/blob/main/Neural_ODEs_(Ordinary_Differential_Equations).ipynb\" target=\"_parent\"><img src=\"https://colab.research.google.com/assets/colab-badge.svg\" alt=\"Open In Colab\"/></a>"
      ]
    },
    {
      "cell_type": "code",
      "source": [
        "pip install torchdiffeq"
      ],
      "metadata": {
        "id": "sXQ2eV6RzNak"
      },
      "execution_count": null,
      "outputs": []
    },
    {
      "cell_type": "code",
      "execution_count": null,
      "metadata": {
        "id": "S_Tzu2CsyxZB"
      },
      "outputs": [],
      "source": [
        "import torch\n",
        "from torch import nn\n",
        "from torchdiffeq import odeint\n",
        "\n",
        "# Define the dynamics of the ODE\n",
        "class ODEFunc(nn.Module):\n",
        "    def __init__(self):\n",
        "        super(ODEFunc, self).__init__()\n",
        "        # Introduce a non-linear dynamics layer\n",
        "        self.net = nn.Sequential(\n",
        "            nn.Linear(2, 50),\n",
        "            nn.ReLU(),\n",
        "            nn.Linear(50, 2)\n",
        "        )\n",
        "\n",
        "    def forward(self, t, x):\n",
        "        return self.net(x)\n",
        "\n",
        "# ODE Block\n",
        "class ODEBlock(nn.Module):\n",
        "    def __init__(self, ode_func):\n",
        "        super(ODEBlock, self).__init__()\n",
        "        self.ode_func = ode_func\n",
        "\n",
        "    def forward(self, x):\n",
        "        # Solve ODE from t=0 to t=1\n",
        "        t = torch.linspace(0, 1, steps=10)  # Time interval\n",
        "        out = odeint(self.ode_func, x, t)\n",
        "        return out[-1]  # Return the state at t=1\n",
        "\n",
        "# Model that uses the ODE block\n",
        "class ODEModel(nn.Module):\n",
        "    def __init__(self):\n",
        "        super(ODEModel, self).__init__()\n",
        "        self.ode_block = ODEBlock(ODEFunc())  # ODE solver block\n",
        "        self.classifier = nn.Sequential(\n",
        "            nn.Linear(2, 50),\n",
        "            nn.ReLU(),\n",
        "            nn.Linear(50, 1)\n",
        "        )\n",
        "\n",
        "    def forward(self, x):\n",
        "        x = self.ode_block(x)  # Pass input through ODE block\n",
        "        return self.classifier(x)  # Output prediction\n",
        "\n",
        "# Generate toy dataset for training\n",
        "def create_toy_data():\n",
        "    x = torch.rand(100, 2)  # 100 samples, 2 features each\n",
        "    y = (x.sum(dim=1) > 1).float().unsqueeze(1)  # Simple binary labels\n",
        "    return x, y\n",
        "\n",
        "# Training loop\n",
        "def train_model(model, data, target, epochs=100, lr=0.01):\n",
        "    optimizer = torch.optim.Adam(model.parameters(), lr=lr)\n",
        "    loss_fn = nn.BCEWithLogitsLoss()  # Binary classification loss\n",
        "\n",
        "    for epoch in range(epochs):\n",
        "        model.train()\n",
        "        optimizer.zero_grad()\n",
        "\n",
        "        # Forward pass\n",
        "        output = model(data)\n",
        "        loss = loss_fn(output, target)\n",
        "\n",
        "        # Backward pass and optimization\n",
        "        loss.backward()\n",
        "        optimizer.step()\n",
        "\n",
        "        # Print progress\n",
        "        if epoch % 10 == 0 or epoch == epochs - 1:\n",
        "            print(f\"Epoch {epoch + 1}, Loss: {loss.item():.4f}\")\n",
        "\n",
        "# Example usage\n",
        "model = ODEModel()\n",
        "data, target = create_toy_data()\n",
        "train_model(model, data, target, epochs=100, lr=0.01)\n",
        "\n",
        "# Test the model\n",
        "with torch.no_grad():\n",
        "    predictions = torch.sigmoid(model(data)) > 0.5\n",
        "    accuracy = (predictions == target).float().mean().item()\n",
        "    print(f\"Training Accuracy: {accuracy:.2f}\")"
      ]
    }
  ]
}