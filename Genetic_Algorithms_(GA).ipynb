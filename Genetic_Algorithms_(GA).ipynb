{
  "nbformat": 4,
  "nbformat_minor": 0,
  "metadata": {
    "colab": {
      "private_outputs": true,
      "provenance": [],
      "authorship_tag": "ABX9TyNHM67sRvqKFcJ44+KjQl6E",
      "include_colab_link": true
    },
    "kernelspec": {
      "name": "python3",
      "display_name": "Python 3"
    },
    "language_info": {
      "name": "python"
    }
  },
  "cells": [
    {
      "cell_type": "markdown",
      "metadata": {
        "id": "view-in-github",
        "colab_type": "text"
      },
      "source": [
        "<a href=\"https://colab.research.google.com/github/OneFineStarstuff/State-of-the-Art/blob/main/Genetic_Algorithms_(GA).ipynb\" target=\"_parent\"><img src=\"https://colab.research.google.com/assets/colab-badge.svg\" alt=\"Open In Colab\"/></a>"
      ]
    },
    {
      "cell_type": "code",
      "source": [
        "pip install deap"
      ],
      "metadata": {
        "id": "HTsEUanOK4uU"
      },
      "execution_count": null,
      "outputs": []
    },
    {
      "cell_type": "code",
      "execution_count": null,
      "metadata": {
        "id": "1B1PrlOSKh9c"
      },
      "outputs": [],
      "source": [
        "from deap import base, creator, tools, algorithms\n",
        "import random\n",
        "\n",
        "# Create the fitness and individual classes\n",
        "creator.create(\"FitnessMax\", base.Fitness, weights=(1.0,))\n",
        "creator.create(\"Individual\", list, fitness=creator.FitnessMax)\n",
        "\n",
        "# Initialize the toolbox\n",
        "toolbox = base.Toolbox()\n",
        "toolbox.register(\"attr_float\", random.random)\n",
        "toolbox.register(\"individual\", tools.initRepeat, creator.Individual, toolbox.attr_float, n=10)\n",
        "toolbox.register(\"population\", tools.initRepeat, list, toolbox.individual)\n",
        "\n",
        "# Register genetic operators\n",
        "toolbox.register(\"mate\", tools.cxTwoPoint)\n",
        "toolbox.register(\"mutate\", tools.mutGaussian, mu=0, sigma=1, indpb=0.2)\n",
        "toolbox.register(\"select\", tools.selTournament, tournsize=3)\n",
        "toolbox.register(\"evaluate\", lambda ind: (sum(ind),))\n",
        "\n",
        "# Create the population\n",
        "population = toolbox.population(n=300)\n",
        "\n",
        "# Run the evolutionary algorithm\n",
        "algorithms.eaSimple(population, toolbox, cxpb=0.5, mutpb=0.2, ngen=40, verbose=False)\n",
        "\n",
        "# Select and print the best individual\n",
        "best_individual = tools.selBest(population, 1)[0]\n",
        "print(f\"Best Individual: {best_individual}, Fitness: {best_individual.fitness.values}\")"
      ]
    }
  ]
}