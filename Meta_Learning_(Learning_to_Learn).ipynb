{
  "nbformat": 4,
  "nbformat_minor": 0,
  "metadata": {
    "colab": {
      "private_outputs": true,
      "provenance": [],
      "authorship_tag": "ABX9TyPA409ZoQatIsWgpls9eIlg",
      "include_colab_link": true
    },
    "kernelspec": {
      "name": "python3",
      "display_name": "Python 3"
    },
    "language_info": {
      "name": "python"
    }
  },
  "cells": [
    {
      "cell_type": "markdown",
      "metadata": {
        "id": "view-in-github",
        "colab_type": "text"
      },
      "source": [
        "<a href=\"https://colab.research.google.com/github/OneFineStarstuff/State-of-the-Art/blob/main/Meta_Learning_(Learning_to_Learn).ipynb\" target=\"_parent\"><img src=\"https://colab.research.google.com/assets/colab-badge.svg\" alt=\"Open In Colab\"/></a>"
      ]
    },
    {
      "cell_type": "code",
      "execution_count": null,
      "metadata": {
        "id": "CNuNxIa_D5fr"
      },
      "outputs": [],
      "source": [
        "import torch\n",
        "import torch.nn as nn\n",
        "import torch.optim as optim\n",
        "from copy import deepcopy\n",
        "\n",
        "class MetaLearner(nn.Module):\n",
        "    def __init__(self, model, inner_lr):\n",
        "        super(MetaLearner, self).__init__()\n",
        "        self.model = model\n",
        "        self.inner_lr = inner_lr\n",
        "\n",
        "    def forward(self, x, params=None):\n",
        "        if params is None:  # Use current model parameters\n",
        "            return self.model(x)\n",
        "        else:  # Use updated parameters (during inner loop)\n",
        "            x = x @ params[\"fc.weight\"].T + params[\"fc.bias\"]\n",
        "            return x\n",
        "\n",
        "    def inner_update(self, loss, params=None):\n",
        "        if params is None:\n",
        "            params = {name: p for name, p in self.model.named_parameters()}\n",
        "\n",
        "        grads = torch.autograd.grad(loss, params.values(), create_graph=True)\n",
        "        updated_params = {\n",
        "            name: param - self.inner_lr * grad\n",
        "            for (name, param), grad in zip(params.items(), grads)\n",
        "        }\n",
        "        return updated_params\n",
        "\n",
        "    def meta_update(self, meta_loss, meta_optimizer):\n",
        "        meta_optimizer.zero_grad()\n",
        "        meta_loss.backward()\n",
        "        meta_optimizer.step()\n",
        "\n",
        "# Example task-specific model\n",
        "class SimpleNN(nn.Module):\n",
        "    def __init__(self, input_dim, output_dim):\n",
        "        super(SimpleNN, self).__init__()\n",
        "        self.fc = nn.Linear(input_dim, output_dim)\n",
        "\n",
        "    def forward(self, x):\n",
        "        return self.fc(x)\n",
        "\n",
        "# MAML training loop\n",
        "def maml_train(meta_learner, tasks, meta_optimizer, n_inner_steps=1):\n",
        "    meta_loss = 0\n",
        "    for x_train, y_train, x_val, y_val in tasks:\n",
        "        # Forward pass on the training set\n",
        "        outputs = meta_learner(x_train)\n",
        "        task_loss = nn.CrossEntropyLoss()(outputs, y_train)\n",
        "\n",
        "        # Inner loop: Update model parameters\n",
        "        updated_params = meta_learner.inner_update(task_loss)\n",
        "\n",
        "        # Compute loss on the validation set using updated parameters\n",
        "        for _ in range(n_inner_steps - 1):\n",
        "            outputs = meta_learner(x_train, params=updated_params)\n",
        "            task_loss = nn.CrossEntropyLoss()(outputs, y_train)\n",
        "            updated_params = meta_learner.inner_update(task_loss, params=updated_params)\n",
        "\n",
        "        # Validation step using updated parameters\n",
        "        val_outputs = meta_learner(x_val, params=updated_params)\n",
        "        val_loss = nn.CrossEntropyLoss()(val_outputs, y_val)\n",
        "        meta_loss += val_loss\n",
        "\n",
        "    # Outer loop (meta-update)\n",
        "    meta_loss /= len(tasks)\n",
        "    meta_learner.meta_update(meta_loss, meta_optimizer)\n",
        "\n",
        "# Example usage\n",
        "model = SimpleNN(input_dim=10, output_dim=2)\n",
        "meta_learner = MetaLearner(model, inner_lr=0.01)\n",
        "meta_optimizer = optim.Adam(meta_learner.parameters(), lr=0.001)\n",
        "\n",
        "# Create dummy tasks: (x_train, y_train, x_val, y_val)\n",
        "tasks = []\n",
        "for _ in range(10):  # Assume 10 tasks\n",
        "    x_train = torch.randn(5, 10)  # 5 examples, 10 features\n",
        "    y_train = torch.randint(0, 2, (5,))  # Binary classification\n",
        "    x_val = torch.randn(5, 10)\n",
        "    y_val = torch.randint(0, 2, (5,))\n",
        "    tasks.append((x_train, y_train, x_val, y_val))\n",
        "\n",
        "# Training loop\n",
        "for epoch in range(100):\n",
        "    maml_train(meta_learner, tasks, meta_optimizer)\n",
        "    print(f\"Epoch {epoch + 1} completed.\")"
      ]
    }
  ]
}