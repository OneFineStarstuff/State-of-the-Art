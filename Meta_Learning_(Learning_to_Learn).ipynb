{
  "nbformat": 4,
  "nbformat_minor": 0,
  "metadata": {
    "colab": {
      "private_outputs": true,
      "provenance": [],
      "authorship_tag": "ABX9TyPUSfPAwPdjz/D260W6cnAD",
      "include_colab_link": true
    },
    "kernelspec": {
      "name": "python3",
      "display_name": "Python 3"
    },
    "language_info": {
      "name": "python"
    }
  },
  "cells": [
    {
      "cell_type": "markdown",
      "metadata": {
        "id": "view-in-github",
        "colab_type": "text"
      },
      "source": [
        "<a href=\"https://colab.research.google.com/github/OneFineStarstuff/State-of-the-Art/blob/main/Meta_Learning_(Learning_to_Learn).ipynb\" target=\"_parent\"><img src=\"https://colab.research.google.com/assets/colab-badge.svg\" alt=\"Open In Colab\"/></a>"
      ]
    },
    {
      "cell_type": "code",
      "execution_count": null,
      "metadata": {
        "id": "Vbx3rHlfj3do"
      },
      "outputs": [],
      "source": [
        "import torch\n",
        "import torch.nn as nn\n",
        "import torch.optim as optim\n",
        "from copy import deepcopy\n",
        "\n",
        "class MAMLModel(nn.Module):\n",
        "    def __init__(self, input_dim, output_dim):\n",
        "        super(MAMLModel, self).__init__()\n",
        "        self.fc1 = nn.Linear(input_dim, 64)\n",
        "        self.fc2 = nn.Linear(64, output_dim)\n",
        "\n",
        "    def forward(self, x):\n",
        "        x = torch.relu(self.fc1(x))\n",
        "        return self.fc2(x)\n",
        "\n",
        "def maml_step(model, loss_fn, tasks, inner_lr, outer_lr, inner_steps):\n",
        "    outer_optimizer = optim.Adam(model.parameters(), lr=outer_lr)\n",
        "\n",
        "    meta_loss = 0.0\n",
        "    for data, target in tasks:\n",
        "        # Create a copy of the model for the inner loop\n",
        "        temp_model = deepcopy(model)\n",
        "        inner_optimizer = optim.SGD(temp_model.parameters(), lr=inner_lr)\n",
        "\n",
        "        # Inner loop (adaptation)\n",
        "        for _ in range(inner_steps):\n",
        "            inner_optimizer.zero_grad()\n",
        "            output = temp_model(data)\n",
        "            loss = loss_fn(output, target)\n",
        "            loss.backward()\n",
        "            inner_optimizer.step()\n",
        "\n",
        "        # Calculate meta loss using the updated model\n",
        "        output = temp_model(data)\n",
        "        meta_loss += loss_fn(output, target)\n",
        "\n",
        "    # Outer loop (meta-optimization)\n",
        "    outer_optimizer.zero_grad()\n",
        "    meta_loss.backward()\n",
        "    outer_optimizer.step()\n",
        "\n",
        "# Example usage\n",
        "model = MAMLModel(input_dim=10, output_dim=1)\n",
        "loss_fn = nn.MSELoss()\n",
        "tasks = [(torch.randn(5, 10), torch.randn(5, 1)) for _ in range(4)]  # 4 tasks with batch size 5, input dimension 10\n",
        "maml_step(model, loss_fn, tasks, inner_lr=0.01, outer_lr=0.001, inner_steps=5)"
      ]
    }
  ]
}