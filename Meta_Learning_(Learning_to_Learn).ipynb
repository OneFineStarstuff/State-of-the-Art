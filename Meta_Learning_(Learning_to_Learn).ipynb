{
  "nbformat": 4,
  "nbformat_minor": 0,
  "metadata": {
    "colab": {
      "private_outputs": true,
      "provenance": [],
      "authorship_tag": "ABX9TyPrBjvBGBZPMuwkZ06KjRhh",
      "include_colab_link": true
    },
    "kernelspec": {
      "name": "python3",
      "display_name": "Python 3"
    },
    "language_info": {
      "name": "python"
    }
  },
  "cells": [
    {
      "cell_type": "markdown",
      "metadata": {
        "id": "view-in-github",
        "colab_type": "text"
      },
      "source": [
        "<a href=\"https://colab.research.google.com/github/OneFineStarstuff/State-of-the-Art/blob/main/Meta_Learning_(Learning_to_Learn).ipynb\" target=\"_parent\"><img src=\"https://colab.research.google.com/assets/colab-badge.svg\" alt=\"Open In Colab\"/></a>"
      ]
    },
    {
      "cell_type": "code",
      "execution_count": null,
      "metadata": {
        "id": "UZN1c0j5o9iI"
      },
      "outputs": [],
      "source": [
        "import torch\n",
        "import torch.nn as nn\n",
        "import torch.optim as optim\n",
        "from collections import OrderedDict\n",
        "\n",
        "# Simple neural network for classification\n",
        "class MLP(nn.Module):\n",
        "    def __init__(self, input_size, hidden_size, output_size):\n",
        "        super(MLP, self).__init__()\n",
        "        self.model = nn.Sequential(\n",
        "            nn.Linear(input_size, hidden_size),\n",
        "            nn.ReLU(),\n",
        "            nn.Linear(hidden_size, output_size)\n",
        "        )\n",
        "\n",
        "    def forward(self, x):\n",
        "        return self.model(x)\n",
        "\n",
        "# MAML Algorithm\n",
        "class MAML(nn.Module):\n",
        "    def __init__(self, model, lr_inner=0.01, lr_outer=0.001):\n",
        "        super(MAML, self).__init__()\n",
        "        self.model = model\n",
        "        self.lr_inner = lr_inner\n",
        "        self.lr_outer = lr_outer\n",
        "        self.optimizer = optim.Adam(self.model.parameters(), lr=self.lr_outer)\n",
        "\n",
        "    def forward(self, x):\n",
        "        return self.model(x)\n",
        "\n",
        "    def inner_update(self, loss):\n",
        "        grads = torch.autograd.grad(loss, self.model.parameters(), create_graph=True)\n",
        "        updated_params = OrderedDict()\n",
        "        for (name, param), grad in zip(self.model.named_parameters(), grads):\n",
        "            updated_params[name] = param - self.lr_inner * grad\n",
        "        return updated_params\n",
        "\n",
        "    def forward_with_params(self, x, params):\n",
        "        for name, param in self.model.named_parameters():\n",
        "            if name in params:\n",
        "                param.data.copy_(params[name])\n",
        "        return self.model(x)\n",
        "\n",
        "    def outer_update(self, loss):\n",
        "        self.optimizer.zero_grad()\n",
        "        loss.backward()\n",
        "        self.optimizer.step()\n",
        "\n",
        "# Few-shot classification task example\n",
        "def train_maml():\n",
        "    # Device setup\n",
        "    device = torch.device(\"cuda\" if torch.cuda.is_available() else \"cpu\")\n",
        "\n",
        "    # Initialize model and MAML\n",
        "    model = MLP(784, 256, 10).to(device)  # For MNIST-like datasets (28x28 images flattened to 784)\n",
        "    maml = MAML(model)\n",
        "\n",
        "    # Example data for training (for simplicity, random tensors)\n",
        "    num_tasks = 5\n",
        "    num_shots = 5\n",
        "    query_shots = 15\n",
        "\n",
        "    for epoch in range(10):  # Meta-epochs\n",
        "        total_meta_loss = 0\n",
        "        for task in range(num_tasks):\n",
        "            # Simulating a task with support (train) and query (test) data\n",
        "            support_x = torch.rand(num_shots, 784).to(device)  # Random support samples\n",
        "            support_y = torch.randint(0, 10, (num_shots,)).to(device)  # Random support labels\n",
        "            query_x = torch.rand(query_shots, 784).to(device)  # Random query samples\n",
        "            query_y = torch.randint(0, 10, (query_shots,)).to(device)  # Random query labels\n",
        "\n",
        "            # Inner update (on task-specific support data)\n",
        "            support_logits = maml.forward(support_x)\n",
        "            support_loss = nn.CrossEntropyLoss()(support_logits, support_y)\n",
        "            updated_params = maml.inner_update(support_loss)\n",
        "\n",
        "            # Query loss computation using updated parameters\n",
        "            query_logits = maml.forward_with_params(query_x, updated_params)\n",
        "            query_loss = nn.CrossEntropyLoss()(query_logits, query_y)\n",
        "            total_meta_loss += query_loss.item()\n",
        "\n",
        "            # Outer update (on the meta-loss from the query set)\n",
        "            maml.outer_update(query_loss)\n",
        "\n",
        "        print(f\"Epoch [{epoch+1}/10], Meta Loss: {total_meta_loss / num_tasks:.4f}\")\n",
        "\n",
        "# Train MAML\n",
        "train_maml()"
      ]
    }
  ]
}