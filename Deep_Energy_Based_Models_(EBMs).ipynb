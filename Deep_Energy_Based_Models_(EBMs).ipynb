{
  "nbformat": 4,
  "nbformat_minor": 0,
  "metadata": {
    "colab": {
      "private_outputs": true,
      "provenance": [],
      "authorship_tag": "ABX9TyOnn5Bl6CzhbJdF+ZBa+CGs",
      "include_colab_link": true
    },
    "kernelspec": {
      "name": "python3",
      "display_name": "Python 3"
    },
    "language_info": {
      "name": "python"
    }
  },
  "cells": [
    {
      "cell_type": "markdown",
      "metadata": {
        "id": "view-in-github",
        "colab_type": "text"
      },
      "source": [
        "<a href=\"https://colab.research.google.com/github/OneFineStarstuff/State-of-the-Art/blob/main/Deep_Energy_Based_Models_(EBMs).ipynb\" target=\"_parent\"><img src=\"https://colab.research.google.com/assets/colab-badge.svg\" alt=\"Open In Colab\"/></a>"
      ]
    },
    {
      "cell_type": "code",
      "execution_count": null,
      "metadata": {
        "id": "VosGAm41zOkc"
      },
      "outputs": [],
      "source": [
        "import torch\n",
        "import torch.nn as nn\n",
        "\n",
        "class EnergyModel(nn.Module):\n",
        "    def __init__(self):\n",
        "        super(EnergyModel, self).__init__()\n",
        "        self.fc = nn.Sequential(\n",
        "            nn.Linear(2, 50),\n",
        "            nn.ReLU(),\n",
        "            nn.Linear(50, 1)\n",
        "        )\n",
        "\n",
        "    def forward(self, x):\n",
        "        return self.fc(x)\n",
        "\n",
        "model = EnergyModel()\n",
        "optimizer = torch.optim.Adam(model.parameters(), lr=0.01)\n",
        "\n",
        "data = torch.randn(100, 2)\n",
        "for epoch in range(10):\n",
        "    optimizer.zero_grad()\n",
        "    energy = model(data).mean()\n",
        "    energy.backward()\n",
        "    optimizer.step()\n",
        "    print(f'Epoch {epoch + 1}, Energy: {energy.item()}')"
      ]
    }
  ]
}