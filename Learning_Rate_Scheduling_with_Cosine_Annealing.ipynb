{
  "nbformat": 4,
  "nbformat_minor": 0,
  "metadata": {
    "colab": {
      "private_outputs": true,
      "provenance": [],
      "authorship_tag": "ABX9TyMhsI4I/YyqnAdILfNjZtB+",
      "include_colab_link": true
    },
    "kernelspec": {
      "name": "python3",
      "display_name": "Python 3"
    },
    "language_info": {
      "name": "python"
    }
  },
  "cells": [
    {
      "cell_type": "markdown",
      "metadata": {
        "id": "view-in-github",
        "colab_type": "text"
      },
      "source": [
        "<a href=\"https://colab.research.google.com/github/OneFineStarstuff/State-of-the-Art/blob/main/Learning_Rate_Scheduling_with_Cosine_Annealing.ipynb\" target=\"_parent\"><img src=\"https://colab.research.google.com/assets/colab-badge.svg\" alt=\"Open In Colab\"/></a>"
      ]
    },
    {
      "cell_type": "code",
      "execution_count": null,
      "metadata": {
        "id": "2D-BE2N5WAw-"
      },
      "outputs": [],
      "source": [
        "import torch\n",
        "from torch.optim import AdamW\n",
        "from torch.optim.lr_scheduler import CosineAnnealingLR\n",
        "\n",
        "# Define the model\n",
        "model = torch.nn.Linear(10, 1)\n",
        "\n",
        "# Initialize the optimizer\n",
        "optimizer = AdamW(model.parameters(), lr=0.01, weight_decay=0.01)\n",
        "\n",
        "# Define the scheduler\n",
        "scheduler = CosineAnnealingLR(optimizer, T_max=10)\n",
        "\n",
        "# Training loop\n",
        "for epoch in range(100):\n",
        "    # Adjust the learning rate\n",
        "    scheduler.step()\n",
        "\n",
        "    # Get the current learning rate\n",
        "    current_lr = scheduler.get_last_lr()\n",
        "    print(f\"Epoch {epoch + 1}, Learning Rate: {current_lr}\")\n",
        "\n",
        "    # Training steps\n",
        "    optimizer.zero_grad()  # Zero the gradients\n",
        "    outputs = model(torch.randn(10))  # Generate random inputs\n",
        "    loss = torch.mean((outputs - torch.randn(1)) ** 2)  # Calculate the loss\n",
        "    loss.backward()  # Backpropagation\n",
        "    optimizer.step()  # Update parameters"
      ]
    }
  ]
}