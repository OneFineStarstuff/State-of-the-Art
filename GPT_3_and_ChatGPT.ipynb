{
  "nbformat": 4,
  "nbformat_minor": 0,
  "metadata": {
    "colab": {
      "private_outputs": true,
      "provenance": [],
      "authorship_tag": "ABX9TyN/NTlQYbJmndllpNnrZ2ns",
      "include_colab_link": true
    },
    "kernelspec": {
      "name": "python3",
      "display_name": "Python 3"
    },
    "language_info": {
      "name": "python"
    }
  },
  "cells": [
    {
      "cell_type": "markdown",
      "metadata": {
        "id": "view-in-github",
        "colab_type": "text"
      },
      "source": [
        "<a href=\"https://colab.research.google.com/github/OneFineStarstuff/State-of-the-Art/blob/main/GPT_3_and_ChatGPT.ipynb\" target=\"_parent\"><img src=\"https://colab.research.google.com/assets/colab-badge.svg\" alt=\"Open In Colab\"/></a>"
      ]
    },
    {
      "cell_type": "code",
      "execution_count": null,
      "metadata": {
        "id": "hb9QW3sO_E9X"
      },
      "outputs": [],
      "source": [
        "import openai\n",
        "\n",
        "# Set up the OpenAI API key\n",
        "openai.api_key = 'your-api-key'\n",
        "\n",
        "# Generate a response using GPT-3\n",
        "response = openai.Completion.create(\n",
        "    engine=\"text-davinci-003\",\n",
        "    prompt=\"Explain the concept of quantum computing in simple terms.\",\n",
        "    max_tokens=100\n",
        ")\n",
        "\n",
        "# Print the generated response\n",
        "print(response.choices[0].text.strip())"
      ]
    }
  ]
}