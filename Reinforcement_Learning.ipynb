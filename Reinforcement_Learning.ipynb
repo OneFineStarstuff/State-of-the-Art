{
  "nbformat": 4,
  "nbformat_minor": 0,
  "metadata": {
    "colab": {
      "private_outputs": true,
      "provenance": [],
      "authorship_tag": "ABX9TyOiLDxsiW3/TlYaILNyGAPd",
      "include_colab_link": true
    },
    "kernelspec": {
      "name": "python3",
      "display_name": "Python 3"
    },
    "language_info": {
      "name": "python"
    }
  },
  "cells": [
    {
      "cell_type": "markdown",
      "metadata": {
        "id": "view-in-github",
        "colab_type": "text"
      },
      "source": [
        "<a href=\"https://colab.research.google.com/github/OneFineStarstuff/State-of-the-Art/blob/main/Reinforcement_Learning.ipynb\" target=\"_parent\"><img src=\"https://colab.research.google.com/assets/colab-badge.svg\" alt=\"Open In Colab\"/></a>"
      ]
    },
    {
      "cell_type": "code",
      "source": [
        "pip install stable_baselines3"
      ],
      "metadata": {
        "id": "D5w9zWhQVkQR"
      },
      "execution_count": null,
      "outputs": []
    },
    {
      "cell_type": "code",
      "source": [
        "pip install 'shimmy>=2.0'"
      ],
      "metadata": {
        "id": "FgBANWqLWKos"
      },
      "execution_count": null,
      "outputs": []
    },
    {
      "cell_type": "code",
      "source": [
        "!pip install gymnasium"
      ],
      "metadata": {
        "id": "PkSroD4aWdEb"
      },
      "execution_count": null,
      "outputs": []
    },
    {
      "cell_type": "code",
      "execution_count": null,
      "metadata": {
        "id": "JtDMhy7AVVB9"
      },
      "outputs": [],
      "source": [
        "import gymnasium as gym\n",
        "from stable_baselines3 import PPO\n",
        "\n",
        "# Create the CartPole environment using Gymnasium\n",
        "env = gym.make('CartPole-v1')\n",
        "\n",
        "# Initialize the PPO model with an MLP policy\n",
        "model = PPO('MlpPolicy', env, verbose=1)\n",
        "\n",
        "# Train the model for 10,000 time steps\n",
        "model.learn(total_timesteps=10000)\n",
        "\n",
        "# Save the trained model\n",
        "model.save(\"ppo_cartpole\")\n",
        "\n",
        "# Reset the environment\n",
        "obs, info = env.reset()\n",
        "\n",
        "# Run the trained model\n",
        "for _ in range(1000):\n",
        "    # Predict the action to take\n",
        "    action, _states = model.predict(obs, deterministic=True)\n",
        "\n",
        "    # Step the environment with the predicted action\n",
        "    obs, rewards, dones, truncated, info = env.step(action)\n",
        "\n",
        "    # Render the environment\n",
        "    env.render()\n",
        "\n",
        "    # Reset the environment if done\n",
        "    if dones or truncated:\n",
        "        obs, info = env.reset()\n",
        "\n",
        "# Close the environment\n",
        "env.close()"
      ]
    }
  ]
}