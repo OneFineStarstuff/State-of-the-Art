{
  "nbformat": 4,
  "nbformat_minor": 0,
  "metadata": {
    "colab": {
      "private_outputs": true,
      "provenance": [],
      "authorship_tag": "ABX9TyOEn4IGJvNH8RbOe9pto+3V",
      "include_colab_link": true
    },
    "kernelspec": {
      "name": "python3",
      "display_name": "Python 3"
    },
    "language_info": {
      "name": "python"
    }
  },
  "cells": [
    {
      "cell_type": "markdown",
      "metadata": {
        "id": "view-in-github",
        "colab_type": "text"
      },
      "source": [
        "<a href=\"https://colab.research.google.com/github/OneFineStarstuff/State-of-the-Art/blob/main/Reinforcement_Learning.ipynb\" target=\"_parent\"><img src=\"https://colab.research.google.com/assets/colab-badge.svg\" alt=\"Open In Colab\"/></a>"
      ]
    },
    {
      "cell_type": "code",
      "execution_count": null,
      "metadata": {
        "id": "4UuCDLqTqWpr"
      },
      "outputs": [],
      "source": [
        "import torch\n",
        "import torch.nn as nn\n",
        "import torch.optim as optim\n",
        "import random\n",
        "\n",
        "class DQN(nn.Module):\n",
        "    def __init__(self, state_dim, action_dim):\n",
        "        super(DQN, self).__init__()\n",
        "        self.fc = nn.Sequential(\n",
        "            nn.Linear(state_dim, 128),\n",
        "            nn.ReLU(),\n",
        "            nn.Linear(128, action_dim)\n",
        "        )\n",
        "\n",
        "    def forward(self, x):\n",
        "        return self.fc(x)\n",
        "\n",
        "def train_dqn(env, model, episodes, gamma, epsilon, epsilon_decay, learning_rate):\n",
        "    optimizer = optim.Adam(model.parameters(), lr=learning_rate)\n",
        "    criterion = nn.MSELoss()\n",
        "\n",
        "    for episode in range(episodes):\n",
        "        state = env.reset()\n",
        "        done = False\n",
        "        total_reward = 0\n",
        "\n",
        "        while not done:\n",
        "            if random.random() < epsilon:\n",
        "                action = env.action_space.sample()\n",
        "            else:\n",
        "                with torch.no_grad():\n",
        "                    action = torch.argmax(model(torch.tensor(state, dtype=torch.float32))).item()\n",
        "\n",
        "            next_state, reward, done, _ = env.step(action)\n",
        "            total_reward += reward\n",
        "\n",
        "            q_target = reward + gamma * torch.max(model(torch.tensor(next_state, dtype=torch.float32))).detach()\n",
        "            q_value = model(torch.tensor(state, dtype=torch.float32))[action]\n",
        "\n",
        "            loss = criterion(q_value, q_target.unsqueeze(0))\n",
        "            optimizer.zero_grad()\n",
        "            loss.backward()\n",
        "            optimizer.step()\n",
        "\n",
        "            state = next_state\n",
        "            epsilon *= epsilon_decay\n",
        "\n",
        "        print(f'Episode {episode + 1}/{episodes}, Total Reward: {total_reward}')\n",
        "\n",
        "# Example usage\n",
        "import gym\n",
        "env = gym.make('CartPole-v1')\n",
        "model = DQN(state_dim=env.observation_space.shape[0], action_dim=env.action_space.n)\n",
        "train_dqn(env, model, episodes=100, gamma=0.99, epsilon=1.0, epsilon_decay=0.995, learning_rate=0.001)"
      ]
    }
  ]
}