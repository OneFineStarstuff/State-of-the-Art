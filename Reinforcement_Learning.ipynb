{
  "nbformat": 4,
  "nbformat_minor": 0,
  "metadata": {
    "colab": {
      "private_outputs": true,
      "provenance": [],
      "authorship_tag": "ABX9TyPZZ7NNaKmXQ2LZ5H4XiNug",
      "include_colab_link": true
    },
    "kernelspec": {
      "name": "python3",
      "display_name": "Python 3"
    },
    "language_info": {
      "name": "python"
    }
  },
  "cells": [
    {
      "cell_type": "markdown",
      "metadata": {
        "id": "view-in-github",
        "colab_type": "text"
      },
      "source": [
        "<a href=\"https://colab.research.google.com/github/OneFineStarstuff/State-of-the-Art/blob/main/Reinforcement_Learning.ipynb\" target=\"_parent\"><img src=\"https://colab.research.google.com/assets/colab-badge.svg\" alt=\"Open In Colab\"/></a>"
      ]
    },
    {
      "cell_type": "code",
      "execution_count": null,
      "metadata": {
        "id": "1WPFDRoN_Esv"
      },
      "outputs": [],
      "source": [
        "import torch\n",
        "import torch.nn as nn\n",
        "import torch.optim as optim\n",
        "import random\n",
        "import torch.nn.functional as F\n",
        "\n",
        "class QNetwork(nn.Module):\n",
        "    def __init__(self, input_dim, output_dim):\n",
        "        super(QNetwork, self).__init__()\n",
        "        self.fc1 = nn.Linear(input_dim, 128)\n",
        "        self.fc2 = nn.Linear(128, 128)\n",
        "        self.fc3 = nn.Linear(128, output_dim)\n",
        "\n",
        "    def forward(self, x):\n",
        "        x = F.relu(self.fc1(x))\n",
        "        x = F.relu(self.fc2(x))\n",
        "        return self.fc3(x)\n",
        "\n",
        "class QLearningAgent:\n",
        "    def __init__(self, input_dim, output_dim, gamma=0.99, epsilon=0.1, lr=1e-3):\n",
        "        self.q_network = QNetwork(input_dim, output_dim)\n",
        "        self.target_network = QNetwork(input_dim, output_dim)\n",
        "        self.target_network.load_state_dict(self.q_network.state_dict())\n",
        "        self.optimizer = optim.Adam(self.q_network.parameters(), lr=lr)\n",
        "        self.gamma = gamma\n",
        "        self.epsilon = epsilon\n",
        "        self.replay_buffer = []\n",
        "        self.replay_buffer_size = 10000\n",
        "        self.batch_size = 64\n",
        "        self.update_counter = 0\n",
        "\n",
        "    def act(self, state):\n",
        "        if random.random() < self.epsilon:\n",
        "            return random.randint(0, self.q_network.fc3.out_features - 1)  # Exploration\n",
        "        with torch.no_grad():\n",
        "            return torch.argmax(self.q_network(state.unsqueeze(0))).item()  # Exploitation\n",
        "\n",
        "    def update(self):\n",
        "        if len(self.replay_buffer) < self.batch_size:\n",
        "            return\n",
        "\n",
        "        # Sample a batch from the replay buffer\n",
        "        batch = random.sample(self.replay_buffer, self.batch_size)\n",
        "        states, actions, rewards, next_states, dones = zip(*batch)\n",
        "\n",
        "        # Convert batch elements to tensors\n",
        "        states = torch.stack(states)\n",
        "        next_states = torch.stack(next_states)\n",
        "        actions = torch.tensor(actions, dtype=torch.long).unsqueeze(1)  # Shape: (batch_size, 1)\n",
        "        rewards = torch.tensor(rewards, dtype=torch.float32)  # Shape: (batch_size)\n",
        "        dones = torch.tensor(dones, dtype=torch.float32)  # Shape: (batch_size)\n",
        "\n",
        "        # Compute Q-values and target Q-values\n",
        "        q_values = self.q_network(states).gather(1, actions).squeeze()  # Shape: (batch_size)\n",
        "        next_q_values = torch.max(self.target_network(next_states), dim=1).values\n",
        "        target_q_values = rewards + self.gamma * next_q_values * (1 - dones)\n",
        "\n",
        "        # Compute loss\n",
        "        loss = F.mse_loss(q_values, target_q_values)\n",
        "\n",
        "        # Optimize the network\n",
        "        self.optimizer.zero_grad()\n",
        "        loss.backward()\n",
        "        self.optimizer.step()\n",
        "\n",
        "        # Update target network periodically\n",
        "        self.update_counter += 1\n",
        "        if self.update_counter % 10 == 0:  # Update every 10 updates\n",
        "            self.target_network.load_state_dict(self.q_network.state_dict())\n",
        "\n",
        "    def remember(self, state, action, reward, next_state, done):\n",
        "        if len(self.replay_buffer) >= self.replay_buffer_size:\n",
        "            self.replay_buffer.pop(0)  # Remove the oldest memory\n",
        "        self.replay_buffer.append((state, action, reward, next_state, done))\n",
        "\n",
        "# Example usage\n",
        "input_dim = 4  # Example for CartPole observation space\n",
        "output_dim = 2  # Example for CartPole action space\n",
        "\n",
        "agent = QLearningAgent(input_dim=input_dim, output_dim=output_dim)\n",
        "\n",
        "# Simulate an example interaction\n",
        "state = torch.tensor([0.1, 0.2, 0.3, 0.4], dtype=torch.float32)  # Example state\n",
        "action = agent.act(state)\n",
        "agent.remember(state, action, 1, state, False)\n",
        "agent.update()"
      ]
    }
  ]
}