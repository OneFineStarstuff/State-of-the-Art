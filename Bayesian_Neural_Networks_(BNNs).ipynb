{
  "nbformat": 4,
  "nbformat_minor": 0,
  "metadata": {
    "colab": {
      "private_outputs": true,
      "provenance": [],
      "authorship_tag": "ABX9TyOr5khwLkq+24greEafOX+r",
      "include_colab_link": true
    },
    "kernelspec": {
      "name": "python3",
      "display_name": "Python 3"
    },
    "language_info": {
      "name": "python"
    }
  },
  "cells": [
    {
      "cell_type": "markdown",
      "metadata": {
        "id": "view-in-github",
        "colab_type": "text"
      },
      "source": [
        "<a href=\"https://colab.research.google.com/github/OneFineStarstuff/State-of-the-Art/blob/main/Bayesian_Neural_Networks_(BNNs).ipynb\" target=\"_parent\"><img src=\"https://colab.research.google.com/assets/colab-badge.svg\" alt=\"Open In Colab\"/></a>"
      ]
    },
    {
      "cell_type": "code",
      "source": [
        "pip install pyro"
      ],
      "metadata": {
        "id": "Vm_aphE2CWX6"
      },
      "execution_count": null,
      "outputs": []
    },
    {
      "cell_type": "code",
      "execution_count": null,
      "metadata": {
        "id": "KCW79XQVCAu8"
      },
      "outputs": [],
      "source": [
        "import torch\n",
        "import torch.nn as nn\n",
        "import pyro\n",
        "import pyro.distributions as dist\n",
        "from pyro.infer import SVI, Trace_ELBO\n",
        "from pyro.optim import Adam\n",
        "\n",
        "class BayesianRegression(nn.Module):\n",
        "    def __init__(self, input_dim, output_dim):\n",
        "        super(BayesianRegression, self).__init__()\n",
        "        self.linear = nn.Linear(input_dim, output_dim)\n",
        "\n",
        "    def forward(self, x):\n",
        "        return self.linear(x)\n",
        "\n",
        "    def model(self, x, y=None):\n",
        "        w_prior = dist.Normal(torch.zeros_like(self.linear.weight), torch.ones_like(self.linear.weight))\n",
        "        b_prior = dist.Normal(torch.zeros_like(self.linear.bias), torch.ones_like(self.linear.bias))\n",
        "        priors = {'linear.weight': w_prior, 'linear.bias': b_prior}\n",
        "        lifted_module = pyro.random_module(\"module\", self, priors)\n",
        "        lifted_reg_model = lifted_module()\n",
        "        with pyro.plate(\"map\", x.shape[0]):\n",
        "            prediction = lifted_reg_model(x)\n",
        "            pyro.sample(\"obs\", dist.Normal(prediction, 1.0), obs=y)\n",
        "\n",
        "    def guide(self, x, y=None):\n",
        "        w_mu = torch.randn_like(self.linear.weight)\n",
        "        w_sigma = torch.randn_like(self.linear.weight)\n",
        "        b_mu = torch.randn_like(self.linear.bias)\n",
        "        b_sigma = torch.randn_like(self.linear.bias)\n",
        "        w_dist = dist.Normal(w_mu, w_sigma)\n",
        "        b_dist = dist.Normal(b_mu, b_sigma)\n",
        "        dists = {'linear.weight': w_dist, 'linear.bias': b_dist}\n",
        "        lifted_module = pyro.random_module(\"module\", self, dists)\n",
        "        return lifted_module()\n",
        "\n",
        "input_dim = 1\n",
        "output_dim = 1\n",
        "model = BayesianRegression(input_dim, output_dim)\n",
        "optimizer = Adam({\"lr\": 0.01})\n",
        "svi = SVI(model.model, model.guide, optimizer, loss=Trace_ELBO())\n",
        "\n",
        "# Example training loop\n",
        "x = torch.randn(100, 1)\n",
        "y = 3 * x + torch.randn(100, 1) * 0.5\n",
        "for step in range(1000):\n",
        "    loss = svi.step(x, y)\n",
        "    if step % 100 == 0:\n",
        "        print(f\"Step {step}, Loss: {loss}\")"
      ]
    }
  ]
}