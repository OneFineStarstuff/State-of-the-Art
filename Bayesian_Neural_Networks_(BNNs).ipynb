{
  "nbformat": 4,
  "nbformat_minor": 0,
  "metadata": {
    "colab": {
      "private_outputs": true,
      "provenance": [],
      "authorship_tag": "ABX9TyPfmCR1St/gMxSxJl5X385B",
      "include_colab_link": true
    },
    "kernelspec": {
      "name": "python3",
      "display_name": "Python 3"
    },
    "language_info": {
      "name": "python"
    }
  },
  "cells": [
    {
      "cell_type": "markdown",
      "metadata": {
        "id": "view-in-github",
        "colab_type": "text"
      },
      "source": [
        "<a href=\"https://colab.research.google.com/github/OneFineStarstuff/State-of-the-Art/blob/main/Bayesian_Neural_Networks_(BNNs).ipynb\" target=\"_parent\"><img src=\"https://colab.research.google.com/assets/colab-badge.svg\" alt=\"Open In Colab\"/></a>"
      ]
    },
    {
      "cell_type": "code",
      "execution_count": null,
      "metadata": {
        "id": "yfw_BAp5Ehs1"
      },
      "outputs": [],
      "source": [
        "import torch\n",
        "import torch.nn as nn\n",
        "import torch.optim as optim\n",
        "\n",
        "# Define the BNN class\n",
        "class BNN(nn.Module):\n",
        "    def __init__(self, input_dim, output_dim):\n",
        "        super(BNN, self).__init__()\n",
        "        self.fc1 = nn.Linear(input_dim, 128)  # First fully connected layer\n",
        "        self.dropout = nn.Dropout(p=0.5)  # Dropout layer with 50% dropout probability\n",
        "        self.fc2 = nn.Linear(128, output_dim)  # Second fully connected layer\n",
        "\n",
        "    def forward(self, x):\n",
        "        x = torch.relu(self.fc1(x))  # Apply ReLU activation after the first layer\n",
        "        x = self.dropout(x)  # Apply dropout\n",
        "        return self.fc2(x)  # Output layer\n",
        "\n",
        "# Define the monte_carlo_inference function\n",
        "def monte_carlo_inference(model, x, num_samples=100):\n",
        "    model.train()  # Set the model to training mode to enable dropout\n",
        "    preds = torch.stack([model(x) for _ in range(num_samples)])  # Sample predictions with dropout\n",
        "    return preds.mean(0), preds.std(0)  # Return mean and standard deviation of predictions\n",
        "\n",
        "# Example usage\n",
        "model = BNN(input_dim=5, output_dim=1)  # Instantiate the BNN model\n",
        "data = torch.randn(10, 5)  # Generate random input data (batch_size=10, input_dim=5)\n",
        "mean, std_dev = monte_carlo_inference(model, data)  # Perform Monte Carlo inference\n",
        "\n",
        "# Print the mean predictions and their uncertainty (standard deviation)\n",
        "print(\"Predictions mean:\", mean)\n",
        "print(\"Predictions uncertainty (std dev):\", std_dev)"
      ]
    }
  ]
}