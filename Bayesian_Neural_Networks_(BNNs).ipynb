{
  "nbformat": 4,
  "nbformat_minor": 0,
  "metadata": {
    "colab": {
      "private_outputs": true,
      "provenance": [],
      "authorship_tag": "ABX9TyOk0NG8b8UEX+nYXUM4AuSQ",
      "include_colab_link": true
    },
    "kernelspec": {
      "name": "python3",
      "display_name": "Python 3"
    },
    "language_info": {
      "name": "python"
    }
  },
  "cells": [
    {
      "cell_type": "markdown",
      "metadata": {
        "id": "view-in-github",
        "colab_type": "text"
      },
      "source": [
        "<a href=\"https://colab.research.google.com/github/OneFineStarstuff/State-of-the-Art/blob/main/Bayesian_Neural_Networks_(BNNs).ipynb\" target=\"_parent\"><img src=\"https://colab.research.google.com/assets/colab-badge.svg\" alt=\"Open In Colab\"/></a>"
      ]
    },
    {
      "cell_type": "code",
      "execution_count": null,
      "metadata": {
        "id": "4yy3_Osr1gPk"
      },
      "outputs": [],
      "source": [
        "import torch\n",
        "import torch.nn as nn\n",
        "import torch.nn.functional as F\n",
        "\n",
        "# Define the BayesianNN class\n",
        "class BayesianNN(nn.Module):\n",
        "    def __init__(self, input_dim, output_dim, dropout_rate=0.5):\n",
        "        super(BayesianNN, self).__init__()\n",
        "        self.fc1 = nn.Linear(input_dim, 128)  # First fully connected layer\n",
        "        self.fc2 = nn.Linear(128, output_dim)  # Second fully connected layer\n",
        "        self.dropout_rate = dropout_rate  # Dropout rate for Bayesian approximation\n",
        "\n",
        "    def forward(self, x):\n",
        "        x = F.relu(self.fc1(x))  # Apply ReLU activation after first layer\n",
        "        x = F.dropout(x, p=self.dropout_rate, training=True)  # Apply dropout for Bayesian approximation\n",
        "        x = self.fc2(x)  # Output layer\n",
        "        return x\n",
        "\n",
        "# Example usage\n",
        "model = BayesianNN(input_dim=784, output_dim=10)  # Instantiate the model\n",
        "input_data = torch.randn(64, 784)  # Example input (batch_size=64, input_dim=784)\n",
        "output = model(input_data)\n",
        "\n",
        "# Print the shape of the output\n",
        "print(output.shape)  # Expected shape: [64, 10]"
      ]
    }
  ]
}