{
  "nbformat": 4,
  "nbformat_minor": 0,
  "metadata": {
    "colab": {
      "private_outputs": true,
      "provenance": [],
      "authorship_tag": "ABX9TyOw9siBdDlVE1C3JjL7FKot",
      "include_colab_link": true
    },
    "kernelspec": {
      "name": "python3",
      "display_name": "Python 3"
    },
    "language_info": {
      "name": "python"
    }
  },
  "cells": [
    {
      "cell_type": "markdown",
      "metadata": {
        "id": "view-in-github",
        "colab_type": "text"
      },
      "source": [
        "<a href=\"https://colab.research.google.com/github/OneFineStarstuff/State-of-the-Art/blob/main/Bayesian_Neural_Networks_(BNNs).ipynb\" target=\"_parent\"><img src=\"https://colab.research.google.com/assets/colab-badge.svg\" alt=\"Open In Colab\"/></a>"
      ]
    },
    {
      "cell_type": "code",
      "execution_count": null,
      "metadata": {
        "id": "24-CXEtQOUp_"
      },
      "outputs": [],
      "source": [
        "import torch\n",
        "import torch.nn as nn\n",
        "import torch.nn.functional as F\n",
        "\n",
        "# Define the BayesianLinear class\n",
        "class BayesianLinear(nn.Module):\n",
        "    def __init__(self, input_dim, output_dim):\n",
        "        super(BayesianLinear, self).__init__()\n",
        "        self.weight_mu = nn.Parameter(torch.zeros(output_dim, input_dim))  # Mean of weights\n",
        "        self.weight_log_sigma = nn.Parameter(torch.zeros(output_dim, input_dim))  # Log std of weights\n",
        "        self.bias_mu = nn.Parameter(torch.zeros(output_dim))  # Mean of biases\n",
        "        self.bias_log_sigma = nn.Parameter(torch.zeros(output_dim))  # Log std of biases\n",
        "\n",
        "    def forward(self, x):\n",
        "        weight_sigma = torch.exp(self.weight_log_sigma)  # Std of weights\n",
        "        bias_sigma = torch.exp(self.bias_log_sigma)  # Std of biases\n",
        "        weight = self.weight_mu + weight_sigma * torch.randn_like(self.weight_mu)  # Sampled weights\n",
        "        bias = self.bias_mu + bias_sigma * torch.randn_like(self.bias_mu)  # Sampled biases\n",
        "        return F.linear(x, weight, bias)  # Linear transformation\n",
        "\n",
        "# Example usage\n",
        "model = BayesianLinear(input_dim=784, output_dim=10)\n",
        "input_data = torch.randn(64, 784)  # Example input (batch_size=64, input_dim=784)\n",
        "output = model(input_data)\n",
        "\n",
        "# Print the shape of the output\n",
        "print(output.shape)  # Expected shape: [64, 10]"
      ]
    }
  ]
}