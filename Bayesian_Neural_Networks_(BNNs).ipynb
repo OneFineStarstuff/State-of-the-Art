{
  "nbformat": 4,
  "nbformat_minor": 0,
  "metadata": {
    "colab": {
      "private_outputs": true,
      "provenance": [],
      "authorship_tag": "ABX9TyMsbyBu9Q0axLTuLXjnr1PC",
      "include_colab_link": true
    },
    "kernelspec": {
      "name": "python3",
      "display_name": "Python 3"
    },
    "language_info": {
      "name": "python"
    }
  },
  "cells": [
    {
      "cell_type": "markdown",
      "metadata": {
        "id": "view-in-github",
        "colab_type": "text"
      },
      "source": [
        "<a href=\"https://colab.research.google.com/github/OneFineStarstuff/State-of-the-Art/blob/main/Bayesian_Neural_Networks_(BNNs).ipynb\" target=\"_parent\"><img src=\"https://colab.research.google.com/assets/colab-badge.svg\" alt=\"Open In Colab\"/></a>"
      ]
    },
    {
      "cell_type": "code",
      "execution_count": null,
      "metadata": {
        "id": "7_Z0YFVrrZ4f"
      },
      "outputs": [],
      "source": [
        "import torch\n",
        "import torch.nn as nn\n",
        "import torch.optim as optim\n",
        "from torch.distributions import Normal, kl_divergence\n",
        "\n",
        "# Define the BayesianLinear class\n",
        "class BayesianLinear(nn.Module):\n",
        "    def __init__(self, in_features, out_features):\n",
        "        super(BayesianLinear, self).__init__()\n",
        "        self.in_features = in_features\n",
        "        self.out_features = out_features\n",
        "        self.weight_mu = nn.Parameter(torch.zeros(out_features, in_features))  # Mean of weights\n",
        "        self.weight_rho = nn.Parameter(torch.ones(out_features, in_features))  # Log-standard deviation of weights\n",
        "        self.bias_mu = nn.Parameter(torch.zeros(out_features))  # Mean of biases\n",
        "        self.bias_rho = nn.Parameter(torch.ones(out_features))  # Log-standard deviation of biases\n",
        "\n",
        "    def forward(self, x):\n",
        "        weight_sigma = torch.log1p(torch.exp(self.weight_rho))  # Convert log-std to std\n",
        "        bias_sigma = torch.log1p(torch.exp(self.bias_rho))  # Convert log-std to std\n",
        "\n",
        "        weight = Normal(self.weight_mu, weight_sigma).rsample()  # Sample weights from normal distribution\n",
        "        bias = Normal(self.bias_mu, bias_sigma).rsample()  # Sample biases from normal distribution\n",
        "\n",
        "        return torch.matmul(x, weight.t()) + bias  # Linear transformation\n",
        "\n",
        "# Define the BayesianNN class\n",
        "class BayesianNN(nn.Module):\n",
        "    def __init__(self, input_dim, output_dim):\n",
        "        super(BayesianNN, self).__init__()\n",
        "        self.fc1 = BayesianLinear(input_dim, 64)\n",
        "        self.fc2 = BayesianLinear(64, output_dim)\n",
        "\n",
        "    def forward(self, x):\n",
        "        x = torch.relu(self.fc1(x))  # Apply ReLU activation\n",
        "        return self.fc2(x)\n",
        "\n",
        "# Define the ELBO loss function\n",
        "def elbo_loss(model, x, y, kl_weight=0.01):\n",
        "    preds = model(x)\n",
        "    mse_loss = nn.MSELoss()(preds, y)  # Mean Squared Error loss\n",
        "    kl_loss = sum(kl_divergence(Normal(param.weight_mu, torch.log1p(torch.exp(param.weight_rho))),\n",
        "                                 Normal(0, 1)).sum() for param in model.modules() if isinstance(param, BayesianLinear))  # KL divergence loss\n",
        "    return mse_loss + kl_weight * kl_loss  # Combined ELBO loss\n",
        "\n",
        "# Example usage\n",
        "model = BayesianNN(input_dim=10, output_dim=1)\n",
        "optimizer = optim.Adam(model.parameters(), lr=0.01)\n",
        "\n",
        "# Generate random training data\n",
        "x_train = torch.randn(100, 10)\n",
        "y_train = torch.randn(100, 1)\n",
        "\n",
        "# Train the model\n",
        "for epoch in range(100):\n",
        "    optimizer.zero_grad()\n",
        "    loss = elbo_loss(model, x_train, y_train)\n",
        "    loss.backward()\n",
        "    optimizer.step()\n",
        "    print(f'Epoch {epoch + 1}, Loss: {loss.item():.4f}')"
      ]
    }
  ]
}