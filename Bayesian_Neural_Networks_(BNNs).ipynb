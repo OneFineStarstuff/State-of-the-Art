{
  "nbformat": 4,
  "nbformat_minor": 0,
  "metadata": {
    "colab": {
      "private_outputs": true,
      "provenance": [],
      "authorship_tag": "ABX9TyPF4QLZ7OWXpE5v/Y5wtJRO",
      "include_colab_link": true
    },
    "kernelspec": {
      "name": "python3",
      "display_name": "Python 3"
    },
    "language_info": {
      "name": "python"
    }
  },
  "cells": [
    {
      "cell_type": "markdown",
      "metadata": {
        "id": "view-in-github",
        "colab_type": "text"
      },
      "source": [
        "<a href=\"https://colab.research.google.com/github/OneFineStarstuff/State-of-the-Art/blob/main/Bayesian_Neural_Networks_(BNNs).ipynb\" target=\"_parent\"><img src=\"https://colab.research.google.com/assets/colab-badge.svg\" alt=\"Open In Colab\"/></a>"
      ]
    },
    {
      "cell_type": "code",
      "source": [
        "pip install pyro"
      ],
      "metadata": {
        "id": "tpBirYSlyh1y"
      },
      "execution_count": null,
      "outputs": []
    },
    {
      "cell_type": "code",
      "execution_count": null,
      "metadata": {
        "id": "CHBovzLWyTII"
      },
      "outputs": [],
      "source": [
        "import pyro\n",
        "import pyro.distributions as dist\n",
        "import torch.nn as nn\n",
        "from pyro.infer import SVI, Trace_ELBO\n",
        "from pyro.optim import Adam\n",
        "\n",
        "class BayesianNN(nn.Module):\n",
        "    def __init__(self, input_dim):\n",
        "        super(BayesianNN, self).__init__()\n",
        "        self.linear = nn.Linear(input_dim, 1)\n",
        "\n",
        "    def model(self, x, y):\n",
        "        w_prior = dist.Normal(torch.zeros(1), torch.ones(1))\n",
        "        b_prior = dist.Normal(torch.zeros(1), torch.ones(1))\n",
        "        priors = {'linear.weight': w_prior, 'linear.bias': b_prior}\n",
        "        lifted_module = pyro.random_module('module', self, priors)\n",
        "        lifted_reg_model = lifted_module()\n",
        "        prediction_mean = lifted_reg_model(x).squeeze(-1)\n",
        "        pyro.sample('obs', dist.Normal(prediction_mean, 1), obs=y)\n",
        "\n",
        "    def guide(self, x, y):\n",
        "        w_loc = pyro.param('w_loc', torch.randn(1))\n",
        "        w_scale = pyro.param('w_scale', torch.ones(1), constraint=dist.constraints.positive)\n",
        "        b_loc = pyro.param('b_loc', torch.randn(1))\n",
        "        b_scale = pyro.param('b_scale', torch.ones(1), constraint=dist.constraints.positive)\n",
        "        w_dist = dist.Normal(w_loc, w_scale)\n",
        "        b_dist = dist.Normal(b_loc, b_scale)\n",
        "        dists = {'linear.weight': w_dist, 'linear.bias': b_dist}\n",
        "        lifted_module = pyro.random_module('module', self, dists)\n",
        "        return lifted_module()\n",
        "\n",
        "bnn = BayesianNN(input_dim=1)\n",
        "svi = SVI(bnn.model, bnn.guide, Adam({'lr': 0.03}), loss=Trace_ELBO())\n",
        "\n",
        "x_data = torch.tensor([[1.0], [2.0], [3.0]])\n",
        "y_data = torch.tensor([1.5, 3.5, 2.5])\n",
        "for step in range(1000):\n",
        "    loss = svi.step(x_data, y_data)\n",
        "    if step % 100 == 0:\n",
        "        print(f'Step {step}, Loss: {loss}')"
      ]
    }
  ]
}